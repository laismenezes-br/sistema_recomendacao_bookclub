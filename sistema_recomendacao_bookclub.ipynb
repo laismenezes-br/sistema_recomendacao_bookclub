{
 "cells": [
  {
   "cell_type": "markdown",
   "id": "5f024e36",
   "metadata": {},
   "source": [
    "# Sistema de Recomendação por Conteúdo (Book Club)"
   ]
  },
  {
   "cell_type": "code",
   "execution_count": 22,
   "id": "61608faf",
   "metadata": {},
   "outputs": [],
   "source": [
    "#Importação de bibliotecas necessárias para análise dos dados\n",
    "import numpy as np\n",
    "import pandas as pd\n",
    "import plotly\n",
    "import plotly.express as px\n",
    "import plotly.io as pio\n",
    "import warnings\n",
    "warnings.filterwarnings(\"ignore\")\n"
   ]
  },
  {
   "cell_type": "code",
   "execution_count": 23,
   "id": "5059ddee",
   "metadata": {},
   "outputs": [],
   "source": [
    "#Importação de dados referentes aos livros\n",
    "dados = pd.read_csv(\"dados.csv\", sep = \",\", encoding = \"UTF-8\")\n"
   ]
  },
  {
   "cell_type": "code",
   "execution_count": 24,
   "id": "931df49d",
   "metadata": {},
   "outputs": [
    {
     "data": {
      "text/html": [
       "<div>\n",
       "<style scoped>\n",
       "    .dataframe tbody tr th:only-of-type {\n",
       "        vertical-align: middle;\n",
       "    }\n",
       "\n",
       "    .dataframe tbody tr th {\n",
       "        vertical-align: top;\n",
       "    }\n",
       "\n",
       "    .dataframe thead th {\n",
       "        text-align: right;\n",
       "    }\n",
       "</style>\n",
       "<table border=\"1\" class=\"dataframe\">\n",
       "  <thead>\n",
       "    <tr style=\"text-align: right;\">\n",
       "      <th></th>\n",
       "      <th>titulos</th>\n",
       "      <th>categorias</th>\n",
       "      <th>precos</th>\n",
       "      <th>avaliacoes</th>\n",
       "      <th>estocagem</th>\n",
       "    </tr>\n",
       "  </thead>\n",
       "  <tbody>\n",
       "    <tr>\n",
       "      <th>0</th>\n",
       "      <td>A Light in the Attic</td>\n",
       "      <td>Poetry</td>\n",
       "      <td>Â51.77</td>\n",
       "      <td>Three</td>\n",
       "      <td>22</td>\n",
       "    </tr>\n",
       "    <tr>\n",
       "      <th>1</th>\n",
       "      <td>Tipping the Velvet</td>\n",
       "      <td>Historical Fiction</td>\n",
       "      <td>Â53.74</td>\n",
       "      <td>One</td>\n",
       "      <td>20</td>\n",
       "    </tr>\n",
       "    <tr>\n",
       "      <th>2</th>\n",
       "      <td>Soumission</td>\n",
       "      <td>Fiction</td>\n",
       "      <td>Â50.10</td>\n",
       "      <td>One</td>\n",
       "      <td>20</td>\n",
       "    </tr>\n",
       "    <tr>\n",
       "      <th>3</th>\n",
       "      <td>Sharp Objects</td>\n",
       "      <td>Mystery</td>\n",
       "      <td>Â47.82</td>\n",
       "      <td>Four</td>\n",
       "      <td>20</td>\n",
       "    </tr>\n",
       "    <tr>\n",
       "      <th>4</th>\n",
       "      <td>Sapiens: A Brief History of Humankind</td>\n",
       "      <td>History</td>\n",
       "      <td>Â54.23</td>\n",
       "      <td>Five</td>\n",
       "      <td>20</td>\n",
       "    </tr>\n",
       "    <tr>\n",
       "      <th>...</th>\n",
       "      <td>...</td>\n",
       "      <td>...</td>\n",
       "      <td>...</td>\n",
       "      <td>...</td>\n",
       "      <td>...</td>\n",
       "    </tr>\n",
       "    <tr>\n",
       "      <th>995</th>\n",
       "      <td>Alice in Wonderland (Alice's Adventures in Won...</td>\n",
       "      <td>Classics</td>\n",
       "      <td>Â55.53</td>\n",
       "      <td>One</td>\n",
       "      <td>1</td>\n",
       "    </tr>\n",
       "    <tr>\n",
       "      <th>996</th>\n",
       "      <td>Ajin: Demi-Human, Volume 1 (Ajin: Demi-Human #1)</td>\n",
       "      <td>Sequential Art</td>\n",
       "      <td>Â57.06</td>\n",
       "      <td>Four</td>\n",
       "      <td>1</td>\n",
       "    </tr>\n",
       "    <tr>\n",
       "      <th>997</th>\n",
       "      <td>A Spy's Devotion (The Regency Spies of London #1)</td>\n",
       "      <td>Historical Fiction</td>\n",
       "      <td>Â16.97</td>\n",
       "      <td>Five</td>\n",
       "      <td>1</td>\n",
       "    </tr>\n",
       "    <tr>\n",
       "      <th>998</th>\n",
       "      <td>1st to Die (Women's Murder Club #1)</td>\n",
       "      <td>Mystery</td>\n",
       "      <td>Â53.98</td>\n",
       "      <td>One</td>\n",
       "      <td>1</td>\n",
       "    </tr>\n",
       "    <tr>\n",
       "      <th>999</th>\n",
       "      <td>1,000 Places to See Before You Die</td>\n",
       "      <td>Travel</td>\n",
       "      <td>Â26.08</td>\n",
       "      <td>Five</td>\n",
       "      <td>1</td>\n",
       "    </tr>\n",
       "  </tbody>\n",
       "</table>\n",
       "<p>1000 rows × 5 columns</p>\n",
       "</div>"
      ],
      "text/plain": [
       "                                               titulos          categorias  \\\n",
       "0                                 A Light in the Attic              Poetry   \n",
       "1                                   Tipping the Velvet  Historical Fiction   \n",
       "2                                           Soumission             Fiction   \n",
       "3                                        Sharp Objects             Mystery   \n",
       "4                Sapiens: A Brief History of Humankind             History   \n",
       "..                                                 ...                 ...   \n",
       "995  Alice in Wonderland (Alice's Adventures in Won...            Classics   \n",
       "996   Ajin: Demi-Human, Volume 1 (Ajin: Demi-Human #1)      Sequential Art   \n",
       "997  A Spy's Devotion (The Regency Spies of London #1)  Historical Fiction   \n",
       "998                1st to Die (Women's Murder Club #1)             Mystery   \n",
       "999                 1,000 Places to See Before You Die              Travel   \n",
       "\n",
       "     precos avaliacoes  estocagem  \n",
       "0    Â51.77      Three         22  \n",
       "1    Â53.74        One         20  \n",
       "2    Â50.10        One         20  \n",
       "3    Â47.82       Four         20  \n",
       "4    Â54.23       Five         20  \n",
       "..      ...        ...        ...  \n",
       "995  Â55.53        One          1  \n",
       "996  Â57.06       Four          1  \n",
       "997  Â16.97       Five          1  \n",
       "998  Â53.98        One          1  \n",
       "999  Â26.08       Five          1  \n",
       "\n",
       "[1000 rows x 5 columns]"
      ]
     },
     "metadata": {},
     "output_type": "display_data"
    },
    {
     "name": "stdout",
     "output_type": "stream",
     "text": [
      "<class 'pandas.core.frame.DataFrame'>\n",
      "RangeIndex: 1000 entries, 0 to 999\n",
      "Data columns (total 5 columns):\n",
      " #   Column      Non-Null Count  Dtype \n",
      "---  ------      --------------  ----- \n",
      " 0   titulos     1000 non-null   object\n",
      " 1   categorias  1000 non-null   object\n",
      " 2   precos      1000 non-null   object\n",
      " 3   avaliacoes  1000 non-null   object\n",
      " 4   estocagem   1000 non-null   int64 \n",
      "dtypes: int64(1), object(4)\n",
      "memory usage: 39.2+ KB\n"
     ]
    }
   ],
   "source": [
    "#Renomeando colunas e visualizando os tipos dos dados\n",
    "#Alterando o cabeçalho das colunas, para simplificar manipulação\n",
    "dados = dados.rename(columns={'Títulos':'titulos','Categorias':'categorias','Preços(£)':'precos','Avaliações':'avaliacoes','Estocagem':'estocagem'})\n",
    "display(dados)\n",
    "dados.info()\n"
   ]
  },
  {
   "cell_type": "code",
   "execution_count": 25,
   "id": "426e7c00",
   "metadata": {},
   "outputs": [
    {
     "data": {
      "text/plain": [
       "count    1000.00000\n",
       "mean       35.07035\n",
       "std        14.44669\n",
       "min        10.00000\n",
       "25%        22.10750\n",
       "50%        35.98000\n",
       "75%        47.45750\n",
       "max        59.99000\n",
       "Name: precos, dtype: float64"
      ]
     },
     "execution_count": 25,
     "metadata": {},
     "output_type": "execute_result"
    }
   ],
   "source": [
    "#Tratamento dos dados referentes ao (preço dos livros) e as (avaliações dos livros)\n",
    "\n",
    "#Para os preços\n",
    "#Coluna de 'precos'\n",
    "df_precos = dados['precos']\n",
    "\n",
    "#Retirando caracteres especiais\n",
    "def corrigir_precos(preco):\n",
    "    preco = preco.replace('Â', '')\n",
    "    return preco\n",
    "df_precos = df_precos.apply(corrigir_precos)\n",
    "\n",
    "#Transformando os valores em variáveis do tipo float\n",
    "df_precos = df_precos.astype(float, errors = 'raise')\n",
    "#Avaliando preço médio, máximo e mínimo\n",
    "df_precos.describe()"
   ]
  },
  {
   "cell_type": "code",
   "execution_count": 26,
   "id": "069b56a0",
   "metadata": {},
   "outputs": [
    {
     "data": {
      "text/plain": [
       "1    226\n",
       "3    203\n",
       "5    196\n",
       "2    196\n",
       "4    179\n",
       "Name: avaliacoes, dtype: int64"
      ]
     },
     "execution_count": 26,
     "metadata": {},
     "output_type": "execute_result"
    }
   ],
   "source": [
    "#Tratamento dos dados referentes ao (preço dos livros) e as (avaliações dos livros)\n",
    "\n",
    "#Para as avaliações\n",
    "#Coluna de 'avaliacoes'\n",
    "df_estrelas = dados['avaliacoes']\n",
    "\n",
    "#Substituindo caracteres especiais\n",
    "def corrigir_estrelas(estrela):\n",
    "    estrela = estrela.replace('One','1')\n",
    "    estrela = estrela.replace('Two','2')\n",
    "    estrela = estrela.replace('Three','3')\n",
    "    estrela = estrela.replace('Four','4')\n",
    "    estrela = estrela.replace('Five','5')\n",
    "    return estrela\n",
    "df_estrelas = df_estrelas.apply(corrigir_estrelas)\n",
    "\n",
    "#Transformando os valores em variáveis do tipo int\n",
    "df_estrelas = df_estrelas.astype(int, errors = 'raise')\n",
    "\n",
    "#Avaliando frequência do número de estrelas\n",
    "df_estrelas.value_counts()\n"
   ]
  },
  {
   "cell_type": "code",
   "execution_count": 27,
   "id": "2fb72136",
   "metadata": {},
   "outputs": [
    {
     "data": {
      "text/html": [
       "<div>\n",
       "<style scoped>\n",
       "    .dataframe tbody tr th:only-of-type {\n",
       "        vertical-align: middle;\n",
       "    }\n",
       "\n",
       "    .dataframe tbody tr th {\n",
       "        vertical-align: top;\n",
       "    }\n",
       "\n",
       "    .dataframe thead th {\n",
       "        text-align: right;\n",
       "    }\n",
       "</style>\n",
       "<table border=\"1\" class=\"dataframe\">\n",
       "  <thead>\n",
       "    <tr style=\"text-align: right;\">\n",
       "      <th></th>\n",
       "      <th>titulos</th>\n",
       "      <th>categorias</th>\n",
       "      <th>estocagem</th>\n",
       "      <th>precos</th>\n",
       "      <th>avaliacoes</th>\n",
       "    </tr>\n",
       "  </thead>\n",
       "  <tbody>\n",
       "    <tr>\n",
       "      <th>0</th>\n",
       "      <td>A Light in the Attic</td>\n",
       "      <td>Poetry</td>\n",
       "      <td>22</td>\n",
       "      <td>51.77</td>\n",
       "      <td>3</td>\n",
       "    </tr>\n",
       "    <tr>\n",
       "      <th>1</th>\n",
       "      <td>Tipping the Velvet</td>\n",
       "      <td>Historical Fiction</td>\n",
       "      <td>20</td>\n",
       "      <td>53.74</td>\n",
       "      <td>1</td>\n",
       "    </tr>\n",
       "    <tr>\n",
       "      <th>2</th>\n",
       "      <td>Soumission</td>\n",
       "      <td>Fiction</td>\n",
       "      <td>20</td>\n",
       "      <td>50.10</td>\n",
       "      <td>1</td>\n",
       "    </tr>\n",
       "    <tr>\n",
       "      <th>3</th>\n",
       "      <td>Sharp Objects</td>\n",
       "      <td>Mystery</td>\n",
       "      <td>20</td>\n",
       "      <td>47.82</td>\n",
       "      <td>4</td>\n",
       "    </tr>\n",
       "    <tr>\n",
       "      <th>4</th>\n",
       "      <td>Sapiens: A Brief History of Humankind</td>\n",
       "      <td>History</td>\n",
       "      <td>20</td>\n",
       "      <td>54.23</td>\n",
       "      <td>5</td>\n",
       "    </tr>\n",
       "    <tr>\n",
       "      <th>...</th>\n",
       "      <td>...</td>\n",
       "      <td>...</td>\n",
       "      <td>...</td>\n",
       "      <td>...</td>\n",
       "      <td>...</td>\n",
       "    </tr>\n",
       "    <tr>\n",
       "      <th>995</th>\n",
       "      <td>Alice in Wonderland (Alice's Adventures in Won...</td>\n",
       "      <td>Classics</td>\n",
       "      <td>1</td>\n",
       "      <td>55.53</td>\n",
       "      <td>1</td>\n",
       "    </tr>\n",
       "    <tr>\n",
       "      <th>996</th>\n",
       "      <td>Ajin: Demi-Human, Volume 1 (Ajin: Demi-Human #1)</td>\n",
       "      <td>Sequential Art</td>\n",
       "      <td>1</td>\n",
       "      <td>57.06</td>\n",
       "      <td>4</td>\n",
       "    </tr>\n",
       "    <tr>\n",
       "      <th>997</th>\n",
       "      <td>A Spy's Devotion (The Regency Spies of London #1)</td>\n",
       "      <td>Historical Fiction</td>\n",
       "      <td>1</td>\n",
       "      <td>16.97</td>\n",
       "      <td>5</td>\n",
       "    </tr>\n",
       "    <tr>\n",
       "      <th>998</th>\n",
       "      <td>1st to Die (Women's Murder Club #1)</td>\n",
       "      <td>Mystery</td>\n",
       "      <td>1</td>\n",
       "      <td>53.98</td>\n",
       "      <td>1</td>\n",
       "    </tr>\n",
       "    <tr>\n",
       "      <th>999</th>\n",
       "      <td>1,000 Places to See Before You Die</td>\n",
       "      <td>Travel</td>\n",
       "      <td>1</td>\n",
       "      <td>26.08</td>\n",
       "      <td>5</td>\n",
       "    </tr>\n",
       "  </tbody>\n",
       "</table>\n",
       "<p>1000 rows × 5 columns</p>\n",
       "</div>"
      ],
      "text/plain": [
       "                                               titulos          categorias  \\\n",
       "0                                 A Light in the Attic              Poetry   \n",
       "1                                   Tipping the Velvet  Historical Fiction   \n",
       "2                                           Soumission             Fiction   \n",
       "3                                        Sharp Objects             Mystery   \n",
       "4                Sapiens: A Brief History of Humankind             History   \n",
       "..                                                 ...                 ...   \n",
       "995  Alice in Wonderland (Alice's Adventures in Won...            Classics   \n",
       "996   Ajin: Demi-Human, Volume 1 (Ajin: Demi-Human #1)      Sequential Art   \n",
       "997  A Spy's Devotion (The Regency Spies of London #1)  Historical Fiction   \n",
       "998                1st to Die (Women's Murder Club #1)             Mystery   \n",
       "999                 1,000 Places to See Before You Die              Travel   \n",
       "\n",
       "     estocagem  precos  avaliacoes  \n",
       "0           22   51.77           3  \n",
       "1           20   53.74           1  \n",
       "2           20   50.10           1  \n",
       "3           20   47.82           4  \n",
       "4           20   54.23           5  \n",
       "..         ...     ...         ...  \n",
       "995          1   55.53           1  \n",
       "996          1   57.06           4  \n",
       "997          1   16.97           5  \n",
       "998          1   53.98           1  \n",
       "999          1   26.08           5  \n",
       "\n",
       "[1000 rows x 5 columns]"
      ]
     },
     "metadata": {},
     "output_type": "display_data"
    },
    {
     "name": "stdout",
     "output_type": "stream",
     "text": [
      "<class 'pandas.core.frame.DataFrame'>\n",
      "RangeIndex: 1000 entries, 0 to 999\n",
      "Data columns (total 5 columns):\n",
      " #   Column      Non-Null Count  Dtype  \n",
      "---  ------      --------------  -----  \n",
      " 0   titulos     1000 non-null   object \n",
      " 1   categorias  1000 non-null   object \n",
      " 2   estocagem   1000 non-null   int64  \n",
      " 3   precos      1000 non-null   float64\n",
      " 4   avaliacoes  1000 non-null   int32  \n",
      "dtypes: float64(1), int32(1), int64(1), object(2)\n",
      "memory usage: 35.3+ KB\n"
     ]
    }
   ],
   "source": [
    "#Reorganizando a tabela, agora com valores tratados\n",
    "\n",
    "#Retirar colunas 'precos' e 'avaliacoes', para posteriormente colocar dados tratados\n",
    "dados.drop(['precos','avaliacoes'], axis=1, inplace=True)\n",
    "\n",
    "#Crio as colunas novamente agora com 'df_precos' e 'df_estrelas' cujo os dados estão em float e inteiro\n",
    "dados['precos'] = df_precos\n",
    "dados['avaliacoes'] = df_estrelas\n",
    "\n",
    "display(dados)\n",
    "dados.info()"
   ]
  },
  {
   "cell_type": "code",
   "execution_count": 28,
   "id": "0f976ab8",
   "metadata": {},
   "outputs": [
    {
     "name": "stdout",
     "output_type": "stream",
     "text": [
      "35.07034999999999\n",
      "59.99\n",
      "10.0\n"
     ]
    }
   ],
   "source": [
    "#Análise gráfica dos preços dos livros(biblioteca plotly)\n",
    "\n",
    "#Visualizando valores para definir as faixas que serão usadas no gráfico\n",
    "print(df_precos.mean())\n",
    "print(df_precos.max())\n",
    "print(df_precos.min())"
   ]
  },
  {
   "cell_type": "code",
   "execution_count": 29,
   "id": "784279d1",
   "metadata": {
    "scrolled": true
   },
   "outputs": [
    {
     "data": {
      "text/html": [
       "<div>\n",
       "<style scoped>\n",
       "    .dataframe tbody tr th:only-of-type {\n",
       "        vertical-align: middle;\n",
       "    }\n",
       "\n",
       "    .dataframe tbody tr th {\n",
       "        vertical-align: top;\n",
       "    }\n",
       "\n",
       "    .dataframe thead th {\n",
       "        text-align: right;\n",
       "    }\n",
       "</style>\n",
       "<table border=\"1\" class=\"dataframe\">\n",
       "  <thead>\n",
       "    <tr style=\"text-align: right;\">\n",
       "      <th></th>\n",
       "      <th>precos</th>\n",
       "      <th>faixas</th>\n",
       "    </tr>\n",
       "  </thead>\n",
       "  <tbody>\n",
       "    <tr>\n",
       "      <th>0</th>\n",
       "      <td>51.77</td>\n",
       "      <td>Preços altos ( 45,00 - 59,99 £)</td>\n",
       "    </tr>\n",
       "    <tr>\n",
       "      <th>1</th>\n",
       "      <td>53.74</td>\n",
       "      <td>Preços altos ( 45,00 - 59,99 £)</td>\n",
       "    </tr>\n",
       "    <tr>\n",
       "      <th>2</th>\n",
       "      <td>50.10</td>\n",
       "      <td>Preços altos ( 45,00 - 59,99 £)</td>\n",
       "    </tr>\n",
       "    <tr>\n",
       "      <th>3</th>\n",
       "      <td>47.82</td>\n",
       "      <td>Preços altos ( 45,00 - 59,99 £)</td>\n",
       "    </tr>\n",
       "    <tr>\n",
       "      <th>4</th>\n",
       "      <td>54.23</td>\n",
       "      <td>Preços altos ( 45,00 - 59,99 £)</td>\n",
       "    </tr>\n",
       "    <tr>\n",
       "      <th>...</th>\n",
       "      <td>...</td>\n",
       "      <td>...</td>\n",
       "    </tr>\n",
       "    <tr>\n",
       "      <th>995</th>\n",
       "      <td>55.53</td>\n",
       "      <td>Preços altos ( 45,00 - 59,99 £)</td>\n",
       "    </tr>\n",
       "    <tr>\n",
       "      <th>996</th>\n",
       "      <td>57.06</td>\n",
       "      <td>Preços altos ( 45,00 - 59,99 £)</td>\n",
       "    </tr>\n",
       "    <tr>\n",
       "      <th>997</th>\n",
       "      <td>16.97</td>\n",
       "      <td>Preços baixos (10,00 - 24,99 £)</td>\n",
       "    </tr>\n",
       "    <tr>\n",
       "      <th>998</th>\n",
       "      <td>53.98</td>\n",
       "      <td>Preços altos ( 45,00 - 59,99 £)</td>\n",
       "    </tr>\n",
       "    <tr>\n",
       "      <th>999</th>\n",
       "      <td>26.08</td>\n",
       "      <td>Preços médios (25.00 - 44.99 £)</td>\n",
       "    </tr>\n",
       "  </tbody>\n",
       "</table>\n",
       "<p>1000 rows × 2 columns</p>\n",
       "</div>"
      ],
      "text/plain": [
       "     precos                           faixas\n",
       "0     51.77  Preços altos ( 45,00 - 59,99 £)\n",
       "1     53.74  Preços altos ( 45,00 - 59,99 £)\n",
       "2     50.10  Preços altos ( 45,00 - 59,99 £)\n",
       "3     47.82  Preços altos ( 45,00 - 59,99 £)\n",
       "4     54.23  Preços altos ( 45,00 - 59,99 £)\n",
       "..      ...                              ...\n",
       "995   55.53  Preços altos ( 45,00 - 59,99 £)\n",
       "996   57.06  Preços altos ( 45,00 - 59,99 £)\n",
       "997   16.97  Preços baixos (10,00 - 24,99 £)\n",
       "998   53.98  Preços altos ( 45,00 - 59,99 £)\n",
       "999   26.08  Preços médios (25.00 - 44.99 £)\n",
       "\n",
       "[1000 rows x 2 columns]"
      ]
     },
     "metadata": {},
     "output_type": "display_data"
    }
   ],
   "source": [
    "# mean = 35,00 pounds , max. = 59,99 pounds e min. = 10,00 pounds  \n",
    "\n",
    "#Faixas correspondentes:\n",
    "# 45,00 até 59,99 £ --> Preços altos (faixa 1)\n",
    "\n",
    "# 25,00 até 45,00 £ --> Preços médios (faixa 2)\n",
    "\n",
    "# 10,00 até 25,00 £ --> Preços baixos (faixa 3)\n",
    "\n",
    "#Criando a lista das faixas que serão usadas no gráfico pizza\n",
    "faixas = []\n",
    "for df in df_precos:\n",
    "    if (df  >= 45.00):\n",
    "        faixa1 = 'Preços altos ( 45,00 - 59,99 £)'\n",
    "        faixas.append(faixa1)\n",
    "        \n",
    "    if (df >= 25.00 ) and (df < 45.00):\n",
    "        faixa2 = 'Preços médios (25.00 - 44.99 £)'\n",
    "        faixas.append(faixa2)\n",
    "        \n",
    "    if (df >= df_precos.min()) and (df < 25.00):\n",
    "        faixa3 = 'Preços baixos (10,00 - 24,99 £)'\n",
    "        faixas.append(faixa3)\n",
    "\n",
    "#DataFrame para uso no gráfico\n",
    "valores = pd.DataFrame({'precos':df_precos,'faixas':faixas})\n",
    "display (valores) "
   ]
  },
  {
   "cell_type": "code",
   "execution_count": 30,
   "id": "2bdd8987",
   "metadata": {},
   "outputs": [
    {
     "data": {
      "application/vnd.plotly.v1+json": {
       "config": {
        "plotlyServerURL": "https://plot.ly"
       },
       "data": [
        {
         "customdata": [
          [
           "Preços altos ( 45,00 - 59,99 £)"
          ],
          [
           "Preços altos ( 45,00 - 59,99 £)"
          ],
          [
           "Preços altos ( 45,00 - 59,99 £)"
          ],
          [
           "Preços altos ( 45,00 - 59,99 £)"
          ],
          [
           "Preços altos ( 45,00 - 59,99 £)"
          ],
          [
           "Preços baixos (10,00 - 24,99 £)"
          ],
          [
           "Preços médios (25.00 - 44.99 £)"
          ],
          [
           "Preços baixos (10,00 - 24,99 £)"
          ],
          [
           "Preços baixos (10,00 - 24,99 £)"
          ],
          [
           "Preços altos ( 45,00 - 59,99 £)"
          ],
          [
           "Preços baixos (10,00 - 24,99 £)"
          ],
          [
           "Preços baixos (10,00 - 24,99 £)"
          ],
          [
           "Preços baixos (10,00 - 24,99 £)"
          ],
          [
           "Preços altos ( 45,00 - 59,99 £)"
          ],
          [
           "Preços médios (25.00 - 44.99 £)"
          ],
          [
           "Preços altos ( 45,00 - 59,99 £)"
          ],
          [
           "Preços baixos (10,00 - 24,99 £)"
          ],
          [
           "Preços médios (25.00 - 44.99 £)"
          ],
          [
           "Preços altos ( 45,00 - 59,99 £)"
          ],
          [
           "Preços altos ( 45,00 - 59,99 £)"
          ],
          [
           "Preços baixos (10,00 - 24,99 £)"
          ],
          [
           "Preços médios (25.00 - 44.99 £)"
          ],
          [
           "Preços médios (25.00 - 44.99 £)"
          ],
          [
           "Preços médios (25.00 - 44.99 £)"
          ],
          [
           "Preços médios (25.00 - 44.99 £)"
          ],
          [
           "Preços altos ( 45,00 - 59,99 £)"
          ],
          [
           "Preços baixos (10,00 - 24,99 £)"
          ],
          [
           "Preços altos ( 45,00 - 59,99 £)"
          ],
          [
           "Preços médios (25.00 - 44.99 £)"
          ],
          [
           "Preços médios (25.00 - 44.99 £)"
          ],
          [
           "Preços baixos (10,00 - 24,99 £)"
          ],
          [
           "Preços médios (25.00 - 44.99 £)"
          ],
          [
           "Preços baixos (10,00 - 24,99 £)"
          ],
          [
           "Preços médios (25.00 - 44.99 £)"
          ],
          [
           "Preços baixos (10,00 - 24,99 £)"
          ],
          [
           "Preços médios (25.00 - 44.99 £)"
          ],
          [
           "Preços baixos (10,00 - 24,99 £)"
          ],
          [
           "Preços baixos (10,00 - 24,99 £)"
          ],
          [
           "Preços altos ( 45,00 - 59,99 £)"
          ],
          [
           "Preços médios (25.00 - 44.99 £)"
          ],
          [
           "Preços altos ( 45,00 - 59,99 £)"
          ],
          [
           "Preços médios (25.00 - 44.99 £)"
          ],
          [
           "Preços altos ( 45,00 - 59,99 £)"
          ],
          [
           "Preços baixos (10,00 - 24,99 £)"
          ],
          [
           "Preços altos ( 45,00 - 59,99 £)"
          ],
          [
           "Preços médios (25.00 - 44.99 £)"
          ],
          [
           "Preços altos ( 45,00 - 59,99 £)"
          ],
          [
           "Preços baixos (10,00 - 24,99 £)"
          ],
          [
           "Preços médios (25.00 - 44.99 £)"
          ],
          [
           "Preços baixos (10,00 - 24,99 £)"
          ],
          [
           "Preços médios (25.00 - 44.99 £)"
          ],
          [
           "Preços baixos (10,00 - 24,99 £)"
          ],
          [
           "Preços médios (25.00 - 44.99 £)"
          ],
          [
           "Preços baixos (10,00 - 24,99 £)"
          ],
          [
           "Preços baixos (10,00 - 24,99 £)"
          ],
          [
           "Preços baixos (10,00 - 24,99 £)"
          ],
          [
           "Preços altos ( 45,00 - 59,99 £)"
          ],
          [
           "Preços altos ( 45,00 - 59,99 £)"
          ],
          [
           "Preços altos ( 45,00 - 59,99 £)"
          ],
          [
           "Preços altos ( 45,00 - 59,99 £)"
          ],
          [
           "Preços médios (25.00 - 44.99 £)"
          ],
          [
           "Preços altos ( 45,00 - 59,99 £)"
          ],
          [
           "Preços médios (25.00 - 44.99 £)"
          ],
          [
           "Preços baixos (10,00 - 24,99 £)"
          ],
          [
           "Preços baixos (10,00 - 24,99 £)"
          ],
          [
           "Preços baixos (10,00 - 24,99 £)"
          ],
          [
           "Preços médios (25.00 - 44.99 £)"
          ],
          [
           "Preços altos ( 45,00 - 59,99 £)"
          ],
          [
           "Preços altos ( 45,00 - 59,99 £)"
          ],
          [
           "Preços altos ( 45,00 - 59,99 £)"
          ],
          [
           "Preços médios (25.00 - 44.99 £)"
          ],
          [
           "Preços baixos (10,00 - 24,99 £)"
          ],
          [
           "Preços médios (25.00 - 44.99 £)"
          ],
          [
           "Preços médios (25.00 - 44.99 £)"
          ],
          [
           "Preços médios (25.00 - 44.99 £)"
          ],
          [
           "Preços médios (25.00 - 44.99 £)"
          ],
          [
           "Preços médios (25.00 - 44.99 £)"
          ],
          [
           "Preços altos ( 45,00 - 59,99 £)"
          ],
          [
           "Preços baixos (10,00 - 24,99 £)"
          ],
          [
           "Preços altos ( 45,00 - 59,99 £)"
          ],
          [
           "Preços baixos (10,00 - 24,99 £)"
          ],
          [
           "Preços baixos (10,00 - 24,99 £)"
          ],
          [
           "Preços baixos (10,00 - 24,99 £)"
          ],
          [
           "Preços médios (25.00 - 44.99 £)"
          ],
          [
           "Preços baixos (10,00 - 24,99 £)"
          ],
          [
           "Preços baixos (10,00 - 24,99 £)"
          ],
          [
           "Preços altos ( 45,00 - 59,99 £)"
          ],
          [
           "Preços altos ( 45,00 - 59,99 £)"
          ],
          [
           "Preços baixos (10,00 - 24,99 £)"
          ],
          [
           "Preços baixos (10,00 - 24,99 £)"
          ],
          [
           "Preços médios (25.00 - 44.99 £)"
          ],
          [
           "Preços altos ( 45,00 - 59,99 £)"
          ],
          [
           "Preços baixos (10,00 - 24,99 £)"
          ],
          [
           "Preços altos ( 45,00 - 59,99 £)"
          ],
          [
           "Preços altos ( 45,00 - 59,99 £)"
          ],
          [
           "Preços baixos (10,00 - 24,99 £)"
          ],
          [
           "Preços médios (25.00 - 44.99 £)"
          ],
          [
           "Preços altos ( 45,00 - 59,99 £)"
          ],
          [
           "Preços médios (25.00 - 44.99 £)"
          ],
          [
           "Preços baixos (10,00 - 24,99 £)"
          ],
          [
           "Preços altos ( 45,00 - 59,99 £)"
          ],
          [
           "Preços médios (25.00 - 44.99 £)"
          ],
          [
           "Preços altos ( 45,00 - 59,99 £)"
          ],
          [
           "Preços altos ( 45,00 - 59,99 £)"
          ],
          [
           "Preços médios (25.00 - 44.99 £)"
          ],
          [
           "Preços baixos (10,00 - 24,99 £)"
          ],
          [
           "Preços médios (25.00 - 44.99 £)"
          ],
          [
           "Preços baixos (10,00 - 24,99 £)"
          ],
          [
           "Preços baixos (10,00 - 24,99 £)"
          ],
          [
           "Preços altos ( 45,00 - 59,99 £)"
          ],
          [
           "Preços médios (25.00 - 44.99 £)"
          ],
          [
           "Preços altos ( 45,00 - 59,99 £)"
          ],
          [
           "Preços médios (25.00 - 44.99 £)"
          ],
          [
           "Preços médios (25.00 - 44.99 £)"
          ],
          [
           "Preços baixos (10,00 - 24,99 £)"
          ],
          [
           "Preços médios (25.00 - 44.99 £)"
          ],
          [
           "Preços médios (25.00 - 44.99 £)"
          ],
          [
           "Preços altos ( 45,00 - 59,99 £)"
          ],
          [
           "Preços médios (25.00 - 44.99 £)"
          ],
          [
           "Preços médios (25.00 - 44.99 £)"
          ],
          [
           "Preços médios (25.00 - 44.99 £)"
          ],
          [
           "Preços médios (25.00 - 44.99 £)"
          ],
          [
           "Preços altos ( 45,00 - 59,99 £)"
          ],
          [
           "Preços baixos (10,00 - 24,99 £)"
          ],
          [
           "Preços altos ( 45,00 - 59,99 £)"
          ],
          [
           "Preços médios (25.00 - 44.99 £)"
          ],
          [
           "Preços altos ( 45,00 - 59,99 £)"
          ],
          [
           "Preços altos ( 45,00 - 59,99 £)"
          ],
          [
           "Preços baixos (10,00 - 24,99 £)"
          ],
          [
           "Preços médios (25.00 - 44.99 £)"
          ],
          [
           "Preços baixos (10,00 - 24,99 £)"
          ],
          [
           "Preços médios (25.00 - 44.99 £)"
          ],
          [
           "Preços médios (25.00 - 44.99 £)"
          ],
          [
           "Preços altos ( 45,00 - 59,99 £)"
          ],
          [
           "Preços altos ( 45,00 - 59,99 £)"
          ],
          [
           "Preços altos ( 45,00 - 59,99 £)"
          ],
          [
           "Preços baixos (10,00 - 24,99 £)"
          ],
          [
           "Preços médios (25.00 - 44.99 £)"
          ],
          [
           "Preços baixos (10,00 - 24,99 £)"
          ],
          [
           "Preços baixos (10,00 - 24,99 £)"
          ],
          [
           "Preços médios (25.00 - 44.99 £)"
          ],
          [
           "Preços médios (25.00 - 44.99 £)"
          ],
          [
           "Preços altos ( 45,00 - 59,99 £)"
          ],
          [
           "Preços médios (25.00 - 44.99 £)"
          ],
          [
           "Preços baixos (10,00 - 24,99 £)"
          ],
          [
           "Preços médios (25.00 - 44.99 £)"
          ],
          [
           "Preços médios (25.00 - 44.99 £)"
          ],
          [
           "Preços médios (25.00 - 44.99 £)"
          ],
          [
           "Preços médios (25.00 - 44.99 £)"
          ],
          [
           "Preços médios (25.00 - 44.99 £)"
          ],
          [
           "Preços altos ( 45,00 - 59,99 £)"
          ],
          [
           "Preços médios (25.00 - 44.99 £)"
          ],
          [
           "Preços baixos (10,00 - 24,99 £)"
          ],
          [
           "Preços médios (25.00 - 44.99 £)"
          ],
          [
           "Preços médios (25.00 - 44.99 £)"
          ],
          [
           "Preços médios (25.00 - 44.99 £)"
          ],
          [
           "Preços altos ( 45,00 - 59,99 £)"
          ],
          [
           "Preços baixos (10,00 - 24,99 £)"
          ],
          [
           "Preços baixos (10,00 - 24,99 £)"
          ],
          [
           "Preços médios (25.00 - 44.99 £)"
          ],
          [
           "Preços médios (25.00 - 44.99 £)"
          ],
          [
           "Preços médios (25.00 - 44.99 £)"
          ],
          [
           "Preços médios (25.00 - 44.99 £)"
          ],
          [
           "Preços baixos (10,00 - 24,99 £)"
          ],
          [
           "Preços médios (25.00 - 44.99 £)"
          ],
          [
           "Preços altos ( 45,00 - 59,99 £)"
          ],
          [
           "Preços baixos (10,00 - 24,99 £)"
          ],
          [
           "Preços médios (25.00 - 44.99 £)"
          ],
          [
           "Preços baixos (10,00 - 24,99 £)"
          ],
          [
           "Preços baixos (10,00 - 24,99 £)"
          ],
          [
           "Preços médios (25.00 - 44.99 £)"
          ],
          [
           "Preços baixos (10,00 - 24,99 £)"
          ],
          [
           "Preços médios (25.00 - 44.99 £)"
          ],
          [
           "Preços médios (25.00 - 44.99 £)"
          ],
          [
           "Preços baixos (10,00 - 24,99 £)"
          ],
          [
           "Preços médios (25.00 - 44.99 £)"
          ],
          [
           "Preços baixos (10,00 - 24,99 £)"
          ],
          [
           "Preços médios (25.00 - 44.99 £)"
          ],
          [
           "Preços médios (25.00 - 44.99 £)"
          ],
          [
           "Preços médios (25.00 - 44.99 £)"
          ],
          [
           "Preços médios (25.00 - 44.99 £)"
          ],
          [
           "Preços baixos (10,00 - 24,99 £)"
          ],
          [
           "Preços baixos (10,00 - 24,99 £)"
          ],
          [
           "Preços baixos (10,00 - 24,99 £)"
          ],
          [
           "Preços altos ( 45,00 - 59,99 £)"
          ],
          [
           "Preços baixos (10,00 - 24,99 £)"
          ],
          [
           "Preços altos ( 45,00 - 59,99 £)"
          ],
          [
           "Preços médios (25.00 - 44.99 £)"
          ],
          [
           "Preços baixos (10,00 - 24,99 £)"
          ],
          [
           "Preços altos ( 45,00 - 59,99 £)"
          ],
          [
           "Preços médios (25.00 - 44.99 £)"
          ],
          [
           "Preços baixos (10,00 - 24,99 £)"
          ],
          [
           "Preços médios (25.00 - 44.99 £)"
          ],
          [
           "Preços altos ( 45,00 - 59,99 £)"
          ],
          [
           "Preços médios (25.00 - 44.99 £)"
          ],
          [
           "Preços altos ( 45,00 - 59,99 £)"
          ],
          [
           "Preços médios (25.00 - 44.99 £)"
          ],
          [
           "Preços médios (25.00 - 44.99 £)"
          ],
          [
           "Preços médios (25.00 - 44.99 £)"
          ],
          [
           "Preços médios (25.00 - 44.99 £)"
          ],
          [
           "Preços baixos (10,00 - 24,99 £)"
          ],
          [
           "Preços baixos (10,00 - 24,99 £)"
          ],
          [
           "Preços altos ( 45,00 - 59,99 £)"
          ],
          [
           "Preços médios (25.00 - 44.99 £)"
          ],
          [
           "Preços médios (25.00 - 44.99 £)"
          ],
          [
           "Preços médios (25.00 - 44.99 £)"
          ],
          [
           "Preços baixos (10,00 - 24,99 £)"
          ],
          [
           "Preços médios (25.00 - 44.99 £)"
          ],
          [
           "Preços baixos (10,00 - 24,99 £)"
          ],
          [
           "Preços baixos (10,00 - 24,99 £)"
          ],
          [
           "Preços altos ( 45,00 - 59,99 £)"
          ],
          [
           "Preços baixos (10,00 - 24,99 £)"
          ],
          [
           "Preços médios (25.00 - 44.99 £)"
          ],
          [
           "Preços altos ( 45,00 - 59,99 £)"
          ],
          [
           "Preços baixos (10,00 - 24,99 £)"
          ],
          [
           "Preços baixos (10,00 - 24,99 £)"
          ],
          [
           "Preços médios (25.00 - 44.99 £)"
          ],
          [
           "Preços médios (25.00 - 44.99 £)"
          ],
          [
           "Preços baixos (10,00 - 24,99 £)"
          ],
          [
           "Preços altos ( 45,00 - 59,99 £)"
          ],
          [
           "Preços médios (25.00 - 44.99 £)"
          ],
          [
           "Preços baixos (10,00 - 24,99 £)"
          ],
          [
           "Preços altos ( 45,00 - 59,99 £)"
          ],
          [
           "Preços baixos (10,00 - 24,99 £)"
          ],
          [
           "Preços médios (25.00 - 44.99 £)"
          ],
          [
           "Preços altos ( 45,00 - 59,99 £)"
          ],
          [
           "Preços altos ( 45,00 - 59,99 £)"
          ],
          [
           "Preços baixos (10,00 - 24,99 £)"
          ],
          [
           "Preços médios (25.00 - 44.99 £)"
          ],
          [
           "Preços médios (25.00 - 44.99 £)"
          ],
          [
           "Preços médios (25.00 - 44.99 £)"
          ],
          [
           "Preços altos ( 45,00 - 59,99 £)"
          ],
          [
           "Preços médios (25.00 - 44.99 £)"
          ],
          [
           "Preços médios (25.00 - 44.99 £)"
          ],
          [
           "Preços médios (25.00 - 44.99 £)"
          ],
          [
           "Preços altos ( 45,00 - 59,99 £)"
          ],
          [
           "Preços altos ( 45,00 - 59,99 £)"
          ],
          [
           "Preços médios (25.00 - 44.99 £)"
          ],
          [
           "Preços médios (25.00 - 44.99 £)"
          ],
          [
           "Preços altos ( 45,00 - 59,99 £)"
          ],
          [
           "Preços baixos (10,00 - 24,99 £)"
          ],
          [
           "Preços médios (25.00 - 44.99 £)"
          ],
          [
           "Preços baixos (10,00 - 24,99 £)"
          ],
          [
           "Preços médios (25.00 - 44.99 £)"
          ],
          [
           "Preços baixos (10,00 - 24,99 £)"
          ],
          [
           "Preços baixos (10,00 - 24,99 £)"
          ],
          [
           "Preços altos ( 45,00 - 59,99 £)"
          ],
          [
           "Preços médios (25.00 - 44.99 £)"
          ],
          [
           "Preços altos ( 45,00 - 59,99 £)"
          ],
          [
           "Preços médios (25.00 - 44.99 £)"
          ],
          [
           "Preços baixos (10,00 - 24,99 £)"
          ],
          [
           "Preços médios (25.00 - 44.99 £)"
          ],
          [
           "Preços altos ( 45,00 - 59,99 £)"
          ],
          [
           "Preços médios (25.00 - 44.99 £)"
          ],
          [
           "Preços médios (25.00 - 44.99 £)"
          ],
          [
           "Preços baixos (10,00 - 24,99 £)"
          ],
          [
           "Preços médios (25.00 - 44.99 £)"
          ],
          [
           "Preços baixos (10,00 - 24,99 £)"
          ],
          [
           "Preços baixos (10,00 - 24,99 £)"
          ],
          [
           "Preços altos ( 45,00 - 59,99 £)"
          ],
          [
           "Preços altos ( 45,00 - 59,99 £)"
          ],
          [
           "Preços baixos (10,00 - 24,99 £)"
          ],
          [
           "Preços médios (25.00 - 44.99 £)"
          ],
          [
           "Preços médios (25.00 - 44.99 £)"
          ],
          [
           "Preços médios (25.00 - 44.99 £)"
          ],
          [
           "Preços altos ( 45,00 - 59,99 £)"
          ],
          [
           "Preços médios (25.00 - 44.99 £)"
          ],
          [
           "Preços altos ( 45,00 - 59,99 £)"
          ],
          [
           "Preços altos ( 45,00 - 59,99 £)"
          ],
          [
           "Preços altos ( 45,00 - 59,99 £)"
          ],
          [
           "Preços altos ( 45,00 - 59,99 £)"
          ],
          [
           "Preços médios (25.00 - 44.99 £)"
          ],
          [
           "Preços baixos (10,00 - 24,99 £)"
          ],
          [
           "Preços altos ( 45,00 - 59,99 £)"
          ],
          [
           "Preços baixos (10,00 - 24,99 £)"
          ],
          [
           "Preços altos ( 45,00 - 59,99 £)"
          ],
          [
           "Preços baixos (10,00 - 24,99 £)"
          ],
          [
           "Preços baixos (10,00 - 24,99 £)"
          ],
          [
           "Preços baixos (10,00 - 24,99 £)"
          ],
          [
           "Preços médios (25.00 - 44.99 £)"
          ],
          [
           "Preços médios (25.00 - 44.99 £)"
          ],
          [
           "Preços baixos (10,00 - 24,99 £)"
          ],
          [
           "Preços médios (25.00 - 44.99 £)"
          ],
          [
           "Preços médios (25.00 - 44.99 £)"
          ],
          [
           "Preços médios (25.00 - 44.99 £)"
          ],
          [
           "Preços médios (25.00 - 44.99 £)"
          ],
          [
           "Preços altos ( 45,00 - 59,99 £)"
          ],
          [
           "Preços altos ( 45,00 - 59,99 £)"
          ],
          [
           "Preços altos ( 45,00 - 59,99 £)"
          ],
          [
           "Preços baixos (10,00 - 24,99 £)"
          ],
          [
           "Preços médios (25.00 - 44.99 £)"
          ],
          [
           "Preços altos ( 45,00 - 59,99 £)"
          ],
          [
           "Preços médios (25.00 - 44.99 £)"
          ],
          [
           "Preços baixos (10,00 - 24,99 £)"
          ],
          [
           "Preços baixos (10,00 - 24,99 £)"
          ],
          [
           "Preços médios (25.00 - 44.99 £)"
          ],
          [
           "Preços médios (25.00 - 44.99 £)"
          ],
          [
           "Preços baixos (10,00 - 24,99 £)"
          ],
          [
           "Preços baixos (10,00 - 24,99 £)"
          ],
          [
           "Preços altos ( 45,00 - 59,99 £)"
          ],
          [
           "Preços médios (25.00 - 44.99 £)"
          ],
          [
           "Preços altos ( 45,00 - 59,99 £)"
          ],
          [
           "Preços baixos (10,00 - 24,99 £)"
          ],
          [
           "Preços médios (25.00 - 44.99 £)"
          ],
          [
           "Preços altos ( 45,00 - 59,99 £)"
          ],
          [
           "Preços altos ( 45,00 - 59,99 £)"
          ],
          [
           "Preços baixos (10,00 - 24,99 £)"
          ],
          [
           "Preços altos ( 45,00 - 59,99 £)"
          ],
          [
           "Preços médios (25.00 - 44.99 £)"
          ],
          [
           "Preços altos ( 45,00 - 59,99 £)"
          ],
          [
           "Preços baixos (10,00 - 24,99 £)"
          ],
          [
           "Preços altos ( 45,00 - 59,99 £)"
          ],
          [
           "Preços altos ( 45,00 - 59,99 £)"
          ],
          [
           "Preços altos ( 45,00 - 59,99 £)"
          ],
          [
           "Preços médios (25.00 - 44.99 £)"
          ],
          [
           "Preços médios (25.00 - 44.99 £)"
          ],
          [
           "Preços baixos (10,00 - 24,99 £)"
          ],
          [
           "Preços médios (25.00 - 44.99 £)"
          ],
          [
           "Preços altos ( 45,00 - 59,99 £)"
          ],
          [
           "Preços médios (25.00 - 44.99 £)"
          ],
          [
           "Preços baixos (10,00 - 24,99 £)"
          ],
          [
           "Preços médios (25.00 - 44.99 £)"
          ],
          [
           "Preços altos ( 45,00 - 59,99 £)"
          ],
          [
           "Preços baixos (10,00 - 24,99 £)"
          ],
          [
           "Preços médios (25.00 - 44.99 £)"
          ],
          [
           "Preços altos ( 45,00 - 59,99 £)"
          ],
          [
           "Preços baixos (10,00 - 24,99 £)"
          ],
          [
           "Preços altos ( 45,00 - 59,99 £)"
          ],
          [
           "Preços médios (25.00 - 44.99 £)"
          ],
          [
           "Preços altos ( 45,00 - 59,99 £)"
          ],
          [
           "Preços médios (25.00 - 44.99 £)"
          ],
          [
           "Preços altos ( 45,00 - 59,99 £)"
          ],
          [
           "Preços médios (25.00 - 44.99 £)"
          ],
          [
           "Preços médios (25.00 - 44.99 £)"
          ],
          [
           "Preços altos ( 45,00 - 59,99 £)"
          ],
          [
           "Preços baixos (10,00 - 24,99 £)"
          ],
          [
           "Preços altos ( 45,00 - 59,99 £)"
          ],
          [
           "Preços altos ( 45,00 - 59,99 £)"
          ],
          [
           "Preços médios (25.00 - 44.99 £)"
          ],
          [
           "Preços altos ( 45,00 - 59,99 £)"
          ],
          [
           "Preços médios (25.00 - 44.99 £)"
          ],
          [
           "Preços baixos (10,00 - 24,99 £)"
          ],
          [
           "Preços altos ( 45,00 - 59,99 £)"
          ],
          [
           "Preços altos ( 45,00 - 59,99 £)"
          ],
          [
           "Preços baixos (10,00 - 24,99 £)"
          ],
          [
           "Preços altos ( 45,00 - 59,99 £)"
          ],
          [
           "Preços médios (25.00 - 44.99 £)"
          ],
          [
           "Preços médios (25.00 - 44.99 £)"
          ],
          [
           "Preços baixos (10,00 - 24,99 £)"
          ],
          [
           "Preços altos ( 45,00 - 59,99 £)"
          ],
          [
           "Preços baixos (10,00 - 24,99 £)"
          ],
          [
           "Preços baixos (10,00 - 24,99 £)"
          ],
          [
           "Preços médios (25.00 - 44.99 £)"
          ],
          [
           "Preços médios (25.00 - 44.99 £)"
          ],
          [
           "Preços baixos (10,00 - 24,99 £)"
          ],
          [
           "Preços médios (25.00 - 44.99 £)"
          ],
          [
           "Preços baixos (10,00 - 24,99 £)"
          ],
          [
           "Preços médios (25.00 - 44.99 £)"
          ],
          [
           "Preços médios (25.00 - 44.99 £)"
          ],
          [
           "Preços altos ( 45,00 - 59,99 £)"
          ],
          [
           "Preços médios (25.00 - 44.99 £)"
          ],
          [
           "Preços médios (25.00 - 44.99 £)"
          ],
          [
           "Preços altos ( 45,00 - 59,99 £)"
          ],
          [
           "Preços médios (25.00 - 44.99 £)"
          ],
          [
           "Preços baixos (10,00 - 24,99 £)"
          ],
          [
           "Preços altos ( 45,00 - 59,99 £)"
          ],
          [
           "Preços altos ( 45,00 - 59,99 £)"
          ],
          [
           "Preços baixos (10,00 - 24,99 £)"
          ],
          [
           "Preços altos ( 45,00 - 59,99 £)"
          ],
          [
           "Preços baixos (10,00 - 24,99 £)"
          ],
          [
           "Preços altos ( 45,00 - 59,99 £)"
          ],
          [
           "Preços médios (25.00 - 44.99 £)"
          ],
          [
           "Preços médios (25.00 - 44.99 £)"
          ],
          [
           "Preços médios (25.00 - 44.99 £)"
          ],
          [
           "Preços baixos (10,00 - 24,99 £)"
          ],
          [
           "Preços altos ( 45,00 - 59,99 £)"
          ],
          [
           "Preços altos ( 45,00 - 59,99 £)"
          ],
          [
           "Preços médios (25.00 - 44.99 £)"
          ],
          [
           "Preços baixos (10,00 - 24,99 £)"
          ],
          [
           "Preços altos ( 45,00 - 59,99 £)"
          ],
          [
           "Preços baixos (10,00 - 24,99 £)"
          ],
          [
           "Preços médios (25.00 - 44.99 £)"
          ],
          [
           "Preços baixos (10,00 - 24,99 £)"
          ],
          [
           "Preços altos ( 45,00 - 59,99 £)"
          ],
          [
           "Preços altos ( 45,00 - 59,99 £)"
          ],
          [
           "Preços médios (25.00 - 44.99 £)"
          ],
          [
           "Preços altos ( 45,00 - 59,99 £)"
          ],
          [
           "Preços altos ( 45,00 - 59,99 £)"
          ],
          [
           "Preços médios (25.00 - 44.99 £)"
          ],
          [
           "Preços médios (25.00 - 44.99 £)"
          ],
          [
           "Preços altos ( 45,00 - 59,99 £)"
          ],
          [
           "Preços médios (25.00 - 44.99 £)"
          ],
          [
           "Preços baixos (10,00 - 24,99 £)"
          ],
          [
           "Preços altos ( 45,00 - 59,99 £)"
          ],
          [
           "Preços baixos (10,00 - 24,99 £)"
          ],
          [
           "Preços altos ( 45,00 - 59,99 £)"
          ],
          [
           "Preços altos ( 45,00 - 59,99 £)"
          ],
          [
           "Preços baixos (10,00 - 24,99 £)"
          ],
          [
           "Preços baixos (10,00 - 24,99 £)"
          ],
          [
           "Preços altos ( 45,00 - 59,99 £)"
          ],
          [
           "Preços baixos (10,00 - 24,99 £)"
          ],
          [
           "Preços baixos (10,00 - 24,99 £)"
          ],
          [
           "Preços médios (25.00 - 44.99 £)"
          ],
          [
           "Preços baixos (10,00 - 24,99 £)"
          ],
          [
           "Preços altos ( 45,00 - 59,99 £)"
          ],
          [
           "Preços médios (25.00 - 44.99 £)"
          ],
          [
           "Preços baixos (10,00 - 24,99 £)"
          ],
          [
           "Preços altos ( 45,00 - 59,99 £)"
          ],
          [
           "Preços altos ( 45,00 - 59,99 £)"
          ],
          [
           "Preços altos ( 45,00 - 59,99 £)"
          ],
          [
           "Preços baixos (10,00 - 24,99 £)"
          ],
          [
           "Preços baixos (10,00 - 24,99 £)"
          ],
          [
           "Preços baixos (10,00 - 24,99 £)"
          ],
          [
           "Preços baixos (10,00 - 24,99 £)"
          ],
          [
           "Preços baixos (10,00 - 24,99 £)"
          ],
          [
           "Preços baixos (10,00 - 24,99 £)"
          ],
          [
           "Preços baixos (10,00 - 24,99 £)"
          ],
          [
           "Preços altos ( 45,00 - 59,99 £)"
          ],
          [
           "Preços baixos (10,00 - 24,99 £)"
          ],
          [
           "Preços altos ( 45,00 - 59,99 £)"
          ],
          [
           "Preços altos ( 45,00 - 59,99 £)"
          ],
          [
           "Preços altos ( 45,00 - 59,99 £)"
          ],
          [
           "Preços altos ( 45,00 - 59,99 £)"
          ],
          [
           "Preços baixos (10,00 - 24,99 £)"
          ],
          [
           "Preços médios (25.00 - 44.99 £)"
          ],
          [
           "Preços médios (25.00 - 44.99 £)"
          ],
          [
           "Preços baixos (10,00 - 24,99 £)"
          ],
          [
           "Preços baixos (10,00 - 24,99 £)"
          ],
          [
           "Preços altos ( 45,00 - 59,99 £)"
          ],
          [
           "Preços baixos (10,00 - 24,99 £)"
          ],
          [
           "Preços altos ( 45,00 - 59,99 £)"
          ],
          [
           "Preços altos ( 45,00 - 59,99 £)"
          ],
          [
           "Preços altos ( 45,00 - 59,99 £)"
          ],
          [
           "Preços médios (25.00 - 44.99 £)"
          ],
          [
           "Preços baixos (10,00 - 24,99 £)"
          ],
          [
           "Preços altos ( 45,00 - 59,99 £)"
          ],
          [
           "Preços baixos (10,00 - 24,99 £)"
          ],
          [
           "Preços médios (25.00 - 44.99 £)"
          ],
          [
           "Preços médios (25.00 - 44.99 £)"
          ],
          [
           "Preços médios (25.00 - 44.99 £)"
          ],
          [
           "Preços médios (25.00 - 44.99 £)"
          ],
          [
           "Preços altos ( 45,00 - 59,99 £)"
          ],
          [
           "Preços altos ( 45,00 - 59,99 £)"
          ],
          [
           "Preços altos ( 45,00 - 59,99 £)"
          ],
          [
           "Preços médios (25.00 - 44.99 £)"
          ],
          [
           "Preços médios (25.00 - 44.99 £)"
          ],
          [
           "Preços baixos (10,00 - 24,99 £)"
          ],
          [
           "Preços médios (25.00 - 44.99 £)"
          ],
          [
           "Preços médios (25.00 - 44.99 £)"
          ],
          [
           "Preços médios (25.00 - 44.99 £)"
          ],
          [
           "Preços médios (25.00 - 44.99 £)"
          ],
          [
           "Preços médios (25.00 - 44.99 £)"
          ],
          [
           "Preços médios (25.00 - 44.99 £)"
          ],
          [
           "Preços altos ( 45,00 - 59,99 £)"
          ],
          [
           "Preços médios (25.00 - 44.99 £)"
          ],
          [
           "Preços médios (25.00 - 44.99 £)"
          ],
          [
           "Preços médios (25.00 - 44.99 £)"
          ],
          [
           "Preços médios (25.00 - 44.99 £)"
          ],
          [
           "Preços altos ( 45,00 - 59,99 £)"
          ],
          [
           "Preços médios (25.00 - 44.99 £)"
          ],
          [
           "Preços baixos (10,00 - 24,99 £)"
          ],
          [
           "Preços baixos (10,00 - 24,99 £)"
          ],
          [
           "Preços altos ( 45,00 - 59,99 £)"
          ],
          [
           "Preços médios (25.00 - 44.99 £)"
          ],
          [
           "Preços altos ( 45,00 - 59,99 £)"
          ],
          [
           "Preços médios (25.00 - 44.99 £)"
          ],
          [
           "Preços altos ( 45,00 - 59,99 £)"
          ],
          [
           "Preços médios (25.00 - 44.99 £)"
          ],
          [
           "Preços médios (25.00 - 44.99 £)"
          ],
          [
           "Preços baixos (10,00 - 24,99 £)"
          ],
          [
           "Preços médios (25.00 - 44.99 £)"
          ],
          [
           "Preços médios (25.00 - 44.99 £)"
          ],
          [
           "Preços altos ( 45,00 - 59,99 £)"
          ],
          [
           "Preços altos ( 45,00 - 59,99 £)"
          ],
          [
           "Preços baixos (10,00 - 24,99 £)"
          ],
          [
           "Preços altos ( 45,00 - 59,99 £)"
          ],
          [
           "Preços médios (25.00 - 44.99 £)"
          ],
          [
           "Preços baixos (10,00 - 24,99 £)"
          ],
          [
           "Preços médios (25.00 - 44.99 £)"
          ],
          [
           "Preços baixos (10,00 - 24,99 £)"
          ],
          [
           "Preços altos ( 45,00 - 59,99 £)"
          ],
          [
           "Preços altos ( 45,00 - 59,99 £)"
          ],
          [
           "Preços médios (25.00 - 44.99 £)"
          ],
          [
           "Preços médios (25.00 - 44.99 £)"
          ],
          [
           "Preços médios (25.00 - 44.99 £)"
          ],
          [
           "Preços baixos (10,00 - 24,99 £)"
          ],
          [
           "Preços baixos (10,00 - 24,99 £)"
          ],
          [
           "Preços altos ( 45,00 - 59,99 £)"
          ],
          [
           "Preços altos ( 45,00 - 59,99 £)"
          ],
          [
           "Preços baixos (10,00 - 24,99 £)"
          ],
          [
           "Preços altos ( 45,00 - 59,99 £)"
          ],
          [
           "Preços médios (25.00 - 44.99 £)"
          ],
          [
           "Preços baixos (10,00 - 24,99 £)"
          ],
          [
           "Preços baixos (10,00 - 24,99 £)"
          ],
          [
           "Preços médios (25.00 - 44.99 £)"
          ],
          [
           "Preços altos ( 45,00 - 59,99 £)"
          ],
          [
           "Preços médios (25.00 - 44.99 £)"
          ],
          [
           "Preços médios (25.00 - 44.99 £)"
          ],
          [
           "Preços médios (25.00 - 44.99 £)"
          ],
          [
           "Preços médios (25.00 - 44.99 £)"
          ],
          [
           "Preços médios (25.00 - 44.99 £)"
          ],
          [
           "Preços baixos (10,00 - 24,99 £)"
          ],
          [
           "Preços médios (25.00 - 44.99 £)"
          ],
          [
           "Preços altos ( 45,00 - 59,99 £)"
          ],
          [
           "Preços baixos (10,00 - 24,99 £)"
          ],
          [
           "Preços médios (25.00 - 44.99 £)"
          ],
          [
           "Preços médios (25.00 - 44.99 £)"
          ],
          [
           "Preços baixos (10,00 - 24,99 £)"
          ],
          [
           "Preços médios (25.00 - 44.99 £)"
          ],
          [
           "Preços altos ( 45,00 - 59,99 £)"
          ],
          [
           "Preços médios (25.00 - 44.99 £)"
          ],
          [
           "Preços médios (25.00 - 44.99 £)"
          ],
          [
           "Preços baixos (10,00 - 24,99 £)"
          ],
          [
           "Preços baixos (10,00 - 24,99 £)"
          ],
          [
           "Preços baixos (10,00 - 24,99 £)"
          ],
          [
           "Preços médios (25.00 - 44.99 £)"
          ],
          [
           "Preços altos ( 45,00 - 59,99 £)"
          ],
          [
           "Preços altos ( 45,00 - 59,99 £)"
          ],
          [
           "Preços médios (25.00 - 44.99 £)"
          ],
          [
           "Preços médios (25.00 - 44.99 £)"
          ],
          [
           "Preços altos ( 45,00 - 59,99 £)"
          ],
          [
           "Preços baixos (10,00 - 24,99 £)"
          ],
          [
           "Preços médios (25.00 - 44.99 £)"
          ],
          [
           "Preços altos ( 45,00 - 59,99 £)"
          ],
          [
           "Preços médios (25.00 - 44.99 £)"
          ],
          [
           "Preços baixos (10,00 - 24,99 £)"
          ],
          [
           "Preços altos ( 45,00 - 59,99 £)"
          ],
          [
           "Preços médios (25.00 - 44.99 £)"
          ],
          [
           "Preços altos ( 45,00 - 59,99 £)"
          ],
          [
           "Preços altos ( 45,00 - 59,99 £)"
          ],
          [
           "Preços médios (25.00 - 44.99 £)"
          ],
          [
           "Preços médios (25.00 - 44.99 £)"
          ],
          [
           "Preços baixos (10,00 - 24,99 £)"
          ],
          [
           "Preços altos ( 45,00 - 59,99 £)"
          ],
          [
           "Preços altos ( 45,00 - 59,99 £)"
          ],
          [
           "Preços baixos (10,00 - 24,99 £)"
          ],
          [
           "Preços baixos (10,00 - 24,99 £)"
          ],
          [
           "Preços baixos (10,00 - 24,99 £)"
          ],
          [
           "Preços altos ( 45,00 - 59,99 £)"
          ],
          [
           "Preços médios (25.00 - 44.99 £)"
          ],
          [
           "Preços altos ( 45,00 - 59,99 £)"
          ],
          [
           "Preços médios (25.00 - 44.99 £)"
          ],
          [
           "Preços médios (25.00 - 44.99 £)"
          ],
          [
           "Preços altos ( 45,00 - 59,99 £)"
          ],
          [
           "Preços médios (25.00 - 44.99 £)"
          ],
          [
           "Preços altos ( 45,00 - 59,99 £)"
          ],
          [
           "Preços médios (25.00 - 44.99 £)"
          ],
          [
           "Preços altos ( 45,00 - 59,99 £)"
          ],
          [
           "Preços baixos (10,00 - 24,99 £)"
          ],
          [
           "Preços altos ( 45,00 - 59,99 £)"
          ],
          [
           "Preços médios (25.00 - 44.99 £)"
          ],
          [
           "Preços médios (25.00 - 44.99 £)"
          ],
          [
           "Preços médios (25.00 - 44.99 £)"
          ],
          [
           "Preços baixos (10,00 - 24,99 £)"
          ],
          [
           "Preços médios (25.00 - 44.99 £)"
          ],
          [
           "Preços baixos (10,00 - 24,99 £)"
          ],
          [
           "Preços altos ( 45,00 - 59,99 £)"
          ],
          [
           "Preços baixos (10,00 - 24,99 £)"
          ],
          [
           "Preços baixos (10,00 - 24,99 £)"
          ],
          [
           "Preços baixos (10,00 - 24,99 £)"
          ],
          [
           "Preços altos ( 45,00 - 59,99 £)"
          ],
          [
           "Preços altos ( 45,00 - 59,99 £)"
          ],
          [
           "Preços médios (25.00 - 44.99 £)"
          ],
          [
           "Preços baixos (10,00 - 24,99 £)"
          ],
          [
           "Preços altos ( 45,00 - 59,99 £)"
          ],
          [
           "Preços altos ( 45,00 - 59,99 £)"
          ],
          [
           "Preços baixos (10,00 - 24,99 £)"
          ],
          [
           "Preços médios (25.00 - 44.99 £)"
          ],
          [
           "Preços altos ( 45,00 - 59,99 £)"
          ],
          [
           "Preços altos ( 45,00 - 59,99 £)"
          ],
          [
           "Preços baixos (10,00 - 24,99 £)"
          ],
          [
           "Preços médios (25.00 - 44.99 £)"
          ],
          [
           "Preços altos ( 45,00 - 59,99 £)"
          ],
          [
           "Preços baixos (10,00 - 24,99 £)"
          ],
          [
           "Preços médios (25.00 - 44.99 £)"
          ],
          [
           "Preços médios (25.00 - 44.99 £)"
          ],
          [
           "Preços altos ( 45,00 - 59,99 £)"
          ],
          [
           "Preços médios (25.00 - 44.99 £)"
          ],
          [
           "Preços baixos (10,00 - 24,99 £)"
          ],
          [
           "Preços altos ( 45,00 - 59,99 £)"
          ],
          [
           "Preços médios (25.00 - 44.99 £)"
          ],
          [
           "Preços altos ( 45,00 - 59,99 £)"
          ],
          [
           "Preços altos ( 45,00 - 59,99 £)"
          ],
          [
           "Preços médios (25.00 - 44.99 £)"
          ],
          [
           "Preços altos ( 45,00 - 59,99 £)"
          ],
          [
           "Preços baixos (10,00 - 24,99 £)"
          ],
          [
           "Preços médios (25.00 - 44.99 £)"
          ],
          [
           "Preços baixos (10,00 - 24,99 £)"
          ],
          [
           "Preços médios (25.00 - 44.99 £)"
          ],
          [
           "Preços altos ( 45,00 - 59,99 £)"
          ],
          [
           "Preços baixos (10,00 - 24,99 £)"
          ],
          [
           "Preços médios (25.00 - 44.99 £)"
          ],
          [
           "Preços médios (25.00 - 44.99 £)"
          ],
          [
           "Preços baixos (10,00 - 24,99 £)"
          ],
          [
           "Preços altos ( 45,00 - 59,99 £)"
          ],
          [
           "Preços baixos (10,00 - 24,99 £)"
          ],
          [
           "Preços altos ( 45,00 - 59,99 £)"
          ],
          [
           "Preços altos ( 45,00 - 59,99 £)"
          ],
          [
           "Preços altos ( 45,00 - 59,99 £)"
          ],
          [
           "Preços médios (25.00 - 44.99 £)"
          ],
          [
           "Preços médios (25.00 - 44.99 £)"
          ],
          [
           "Preços baixos (10,00 - 24,99 £)"
          ],
          [
           "Preços médios (25.00 - 44.99 £)"
          ],
          [
           "Preços baixos (10,00 - 24,99 £)"
          ],
          [
           "Preços altos ( 45,00 - 59,99 £)"
          ],
          [
           "Preços médios (25.00 - 44.99 £)"
          ],
          [
           "Preços médios (25.00 - 44.99 £)"
          ],
          [
           "Preços médios (25.00 - 44.99 £)"
          ],
          [
           "Preços baixos (10,00 - 24,99 £)"
          ],
          [
           "Preços baixos (10,00 - 24,99 £)"
          ],
          [
           "Preços baixos (10,00 - 24,99 £)"
          ],
          [
           "Preços baixos (10,00 - 24,99 £)"
          ],
          [
           "Preços médios (25.00 - 44.99 £)"
          ],
          [
           "Preços baixos (10,00 - 24,99 £)"
          ],
          [
           "Preços baixos (10,00 - 24,99 £)"
          ],
          [
           "Preços baixos (10,00 - 24,99 £)"
          ],
          [
           "Preços baixos (10,00 - 24,99 £)"
          ],
          [
           "Preços altos ( 45,00 - 59,99 £)"
          ],
          [
           "Preços médios (25.00 - 44.99 £)"
          ],
          [
           "Preços baixos (10,00 - 24,99 £)"
          ],
          [
           "Preços altos ( 45,00 - 59,99 £)"
          ],
          [
           "Preços médios (25.00 - 44.99 £)"
          ],
          [
           "Preços médios (25.00 - 44.99 £)"
          ],
          [
           "Preços baixos (10,00 - 24,99 £)"
          ],
          [
           "Preços baixos (10,00 - 24,99 £)"
          ],
          [
           "Preços médios (25.00 - 44.99 £)"
          ],
          [
           "Preços baixos (10,00 - 24,99 £)"
          ],
          [
           "Preços baixos (10,00 - 24,99 £)"
          ],
          [
           "Preços médios (25.00 - 44.99 £)"
          ],
          [
           "Preços médios (25.00 - 44.99 £)"
          ],
          [
           "Preços médios (25.00 - 44.99 £)"
          ],
          [
           "Preços altos ( 45,00 - 59,99 £)"
          ],
          [
           "Preços altos ( 45,00 - 59,99 £)"
          ],
          [
           "Preços médios (25.00 - 44.99 £)"
          ],
          [
           "Preços baixos (10,00 - 24,99 £)"
          ],
          [
           "Preços baixos (10,00 - 24,99 £)"
          ],
          [
           "Preços médios (25.00 - 44.99 £)"
          ],
          [
           "Preços altos ( 45,00 - 59,99 £)"
          ],
          [
           "Preços baixos (10,00 - 24,99 £)"
          ],
          [
           "Preços altos ( 45,00 - 59,99 £)"
          ],
          [
           "Preços altos ( 45,00 - 59,99 £)"
          ],
          [
           "Preços médios (25.00 - 44.99 £)"
          ],
          [
           "Preços altos ( 45,00 - 59,99 £)"
          ],
          [
           "Preços baixos (10,00 - 24,99 £)"
          ],
          [
           "Preços baixos (10,00 - 24,99 £)"
          ],
          [
           "Preços altos ( 45,00 - 59,99 £)"
          ],
          [
           "Preços médios (25.00 - 44.99 £)"
          ],
          [
           "Preços altos ( 45,00 - 59,99 £)"
          ],
          [
           "Preços altos ( 45,00 - 59,99 £)"
          ],
          [
           "Preços médios (25.00 - 44.99 £)"
          ],
          [
           "Preços médios (25.00 - 44.99 £)"
          ],
          [
           "Preços médios (25.00 - 44.99 £)"
          ],
          [
           "Preços baixos (10,00 - 24,99 £)"
          ],
          [
           "Preços baixos (10,00 - 24,99 £)"
          ],
          [
           "Preços médios (25.00 - 44.99 £)"
          ],
          [
           "Preços altos ( 45,00 - 59,99 £)"
          ],
          [
           "Preços médios (25.00 - 44.99 £)"
          ],
          [
           "Preços altos ( 45,00 - 59,99 £)"
          ],
          [
           "Preços altos ( 45,00 - 59,99 £)"
          ],
          [
           "Preços baixos (10,00 - 24,99 £)"
          ],
          [
           "Preços altos ( 45,00 - 59,99 £)"
          ],
          [
           "Preços altos ( 45,00 - 59,99 £)"
          ],
          [
           "Preços baixos (10,00 - 24,99 £)"
          ],
          [
           "Preços baixos (10,00 - 24,99 £)"
          ],
          [
           "Preços baixos (10,00 - 24,99 £)"
          ],
          [
           "Preços baixos (10,00 - 24,99 £)"
          ],
          [
           "Preços altos ( 45,00 - 59,99 £)"
          ],
          [
           "Preços baixos (10,00 - 24,99 £)"
          ],
          [
           "Preços médios (25.00 - 44.99 £)"
          ],
          [
           "Preços médios (25.00 - 44.99 £)"
          ],
          [
           "Preços médios (25.00 - 44.99 £)"
          ],
          [
           "Preços baixos (10,00 - 24,99 £)"
          ],
          [
           "Preços baixos (10,00 - 24,99 £)"
          ],
          [
           "Preços médios (25.00 - 44.99 £)"
          ],
          [
           "Preços altos ( 45,00 - 59,99 £)"
          ],
          [
           "Preços baixos (10,00 - 24,99 £)"
          ],
          [
           "Preços médios (25.00 - 44.99 £)"
          ],
          [
           "Preços médios (25.00 - 44.99 £)"
          ],
          [
           "Preços médios (25.00 - 44.99 £)"
          ],
          [
           "Preços altos ( 45,00 - 59,99 £)"
          ],
          [
           "Preços médios (25.00 - 44.99 £)"
          ],
          [
           "Preços baixos (10,00 - 24,99 £)"
          ],
          [
           "Preços altos ( 45,00 - 59,99 £)"
          ],
          [
           "Preços baixos (10,00 - 24,99 £)"
          ],
          [
           "Preços altos ( 45,00 - 59,99 £)"
          ],
          [
           "Preços baixos (10,00 - 24,99 £)"
          ],
          [
           "Preços médios (25.00 - 44.99 £)"
          ],
          [
           "Preços altos ( 45,00 - 59,99 £)"
          ],
          [
           "Preços altos ( 45,00 - 59,99 £)"
          ],
          [
           "Preços altos ( 45,00 - 59,99 £)"
          ],
          [
           "Preços médios (25.00 - 44.99 £)"
          ],
          [
           "Preços altos ( 45,00 - 59,99 £)"
          ],
          [
           "Preços médios (25.00 - 44.99 £)"
          ],
          [
           "Preços baixos (10,00 - 24,99 £)"
          ],
          [
           "Preços baixos (10,00 - 24,99 £)"
          ],
          [
           "Preços altos ( 45,00 - 59,99 £)"
          ],
          [
           "Preços baixos (10,00 - 24,99 £)"
          ],
          [
           "Preços médios (25.00 - 44.99 £)"
          ],
          [
           "Preços médios (25.00 - 44.99 £)"
          ],
          [
           "Preços baixos (10,00 - 24,99 £)"
          ],
          [
           "Preços médios (25.00 - 44.99 £)"
          ],
          [
           "Preços baixos (10,00 - 24,99 £)"
          ],
          [
           "Preços altos ( 45,00 - 59,99 £)"
          ],
          [
           "Preços baixos (10,00 - 24,99 £)"
          ],
          [
           "Preços altos ( 45,00 - 59,99 £)"
          ],
          [
           "Preços médios (25.00 - 44.99 £)"
          ],
          [
           "Preços médios (25.00 - 44.99 £)"
          ],
          [
           "Preços médios (25.00 - 44.99 £)"
          ],
          [
           "Preços médios (25.00 - 44.99 £)"
          ],
          [
           "Preços altos ( 45,00 - 59,99 £)"
          ],
          [
           "Preços baixos (10,00 - 24,99 £)"
          ],
          [
           "Preços baixos (10,00 - 24,99 £)"
          ],
          [
           "Preços altos ( 45,00 - 59,99 £)"
          ],
          [
           "Preços baixos (10,00 - 24,99 £)"
          ],
          [
           "Preços altos ( 45,00 - 59,99 £)"
          ],
          [
           "Preços baixos (10,00 - 24,99 £)"
          ],
          [
           "Preços baixos (10,00 - 24,99 £)"
          ],
          [
           "Preços altos ( 45,00 - 59,99 £)"
          ],
          [
           "Preços altos ( 45,00 - 59,99 £)"
          ],
          [
           "Preços baixos (10,00 - 24,99 £)"
          ],
          [
           "Preços baixos (10,00 - 24,99 £)"
          ],
          [
           "Preços altos ( 45,00 - 59,99 £)"
          ],
          [
           "Preços altos ( 45,00 - 59,99 £)"
          ],
          [
           "Preços baixos (10,00 - 24,99 £)"
          ],
          [
           "Preços médios (25.00 - 44.99 £)"
          ],
          [
           "Preços baixos (10,00 - 24,99 £)"
          ],
          [
           "Preços médios (25.00 - 44.99 £)"
          ],
          [
           "Preços médios (25.00 - 44.99 £)"
          ],
          [
           "Preços médios (25.00 - 44.99 £)"
          ],
          [
           "Preços baixos (10,00 - 24,99 £)"
          ],
          [
           "Preços médios (25.00 - 44.99 £)"
          ],
          [
           "Preços médios (25.00 - 44.99 £)"
          ],
          [
           "Preços altos ( 45,00 - 59,99 £)"
          ],
          [
           "Preços médios (25.00 - 44.99 £)"
          ],
          [
           "Preços médios (25.00 - 44.99 £)"
          ],
          [
           "Preços altos ( 45,00 - 59,99 £)"
          ],
          [
           "Preços médios (25.00 - 44.99 £)"
          ],
          [
           "Preços baixos (10,00 - 24,99 £)"
          ],
          [
           "Preços altos ( 45,00 - 59,99 £)"
          ],
          [
           "Preços médios (25.00 - 44.99 £)"
          ],
          [
           "Preços médios (25.00 - 44.99 £)"
          ],
          [
           "Preços altos ( 45,00 - 59,99 £)"
          ],
          [
           "Preços médios (25.00 - 44.99 £)"
          ],
          [
           "Preços médios (25.00 - 44.99 £)"
          ],
          [
           "Preços altos ( 45,00 - 59,99 £)"
          ],
          [
           "Preços altos ( 45,00 - 59,99 £)"
          ],
          [
           "Preços baixos (10,00 - 24,99 £)"
          ],
          [
           "Preços altos ( 45,00 - 59,99 £)"
          ],
          [
           "Preços médios (25.00 - 44.99 £)"
          ],
          [
           "Preços baixos (10,00 - 24,99 £)"
          ],
          [
           "Preços altos ( 45,00 - 59,99 £)"
          ],
          [
           "Preços baixos (10,00 - 24,99 £)"
          ],
          [
           "Preços altos ( 45,00 - 59,99 £)"
          ],
          [
           "Preços médios (25.00 - 44.99 £)"
          ],
          [
           "Preços baixos (10,00 - 24,99 £)"
          ],
          [
           "Preços baixos (10,00 - 24,99 £)"
          ],
          [
           "Preços altos ( 45,00 - 59,99 £)"
          ],
          [
           "Preços médios (25.00 - 44.99 £)"
          ],
          [
           "Preços altos ( 45,00 - 59,99 £)"
          ],
          [
           "Preços médios (25.00 - 44.99 £)"
          ],
          [
           "Preços baixos (10,00 - 24,99 £)"
          ],
          [
           "Preços baixos (10,00 - 24,99 £)"
          ],
          [
           "Preços médios (25.00 - 44.99 £)"
          ],
          [
           "Preços médios (25.00 - 44.99 £)"
          ],
          [
           "Preços baixos (10,00 - 24,99 £)"
          ],
          [
           "Preços baixos (10,00 - 24,99 £)"
          ],
          [
           "Preços altos ( 45,00 - 59,99 £)"
          ],
          [
           "Preços altos ( 45,00 - 59,99 £)"
          ],
          [
           "Preços médios (25.00 - 44.99 £)"
          ],
          [
           "Preços altos ( 45,00 - 59,99 £)"
          ],
          [
           "Preços baixos (10,00 - 24,99 £)"
          ],
          [
           "Preços médios (25.00 - 44.99 £)"
          ],
          [
           "Preços baixos (10,00 - 24,99 £)"
          ],
          [
           "Preços médios (25.00 - 44.99 £)"
          ],
          [
           "Preços médios (25.00 - 44.99 £)"
          ],
          [
           "Preços altos ( 45,00 - 59,99 £)"
          ],
          [
           "Preços altos ( 45,00 - 59,99 £)"
          ],
          [
           "Preços altos ( 45,00 - 59,99 £)"
          ],
          [
           "Preços baixos (10,00 - 24,99 £)"
          ],
          [
           "Preços altos ( 45,00 - 59,99 £)"
          ],
          [
           "Preços altos ( 45,00 - 59,99 £)"
          ],
          [
           "Preços médios (25.00 - 44.99 £)"
          ],
          [
           "Preços baixos (10,00 - 24,99 £)"
          ],
          [
           "Preços altos ( 45,00 - 59,99 £)"
          ],
          [
           "Preços baixos (10,00 - 24,99 £)"
          ],
          [
           "Preços baixos (10,00 - 24,99 £)"
          ],
          [
           "Preços altos ( 45,00 - 59,99 £)"
          ],
          [
           "Preços médios (25.00 - 44.99 £)"
          ],
          [
           "Preços médios (25.00 - 44.99 £)"
          ],
          [
           "Preços baixos (10,00 - 24,99 £)"
          ],
          [
           "Preços médios (25.00 - 44.99 £)"
          ],
          [
           "Preços baixos (10,00 - 24,99 £)"
          ],
          [
           "Preços médios (25.00 - 44.99 £)"
          ],
          [
           "Preços médios (25.00 - 44.99 £)"
          ],
          [
           "Preços médios (25.00 - 44.99 £)"
          ],
          [
           "Preços altos ( 45,00 - 59,99 £)"
          ],
          [
           "Preços baixos (10,00 - 24,99 £)"
          ],
          [
           "Preços médios (25.00 - 44.99 £)"
          ],
          [
           "Preços baixos (10,00 - 24,99 £)"
          ],
          [
           "Preços médios (25.00 - 44.99 £)"
          ],
          [
           "Preços médios (25.00 - 44.99 £)"
          ],
          [
           "Preços baixos (10,00 - 24,99 £)"
          ],
          [
           "Preços médios (25.00 - 44.99 £)"
          ],
          [
           "Preços médios (25.00 - 44.99 £)"
          ],
          [
           "Preços médios (25.00 - 44.99 £)"
          ],
          [
           "Preços altos ( 45,00 - 59,99 £)"
          ],
          [
           "Preços altos ( 45,00 - 59,99 £)"
          ],
          [
           "Preços altos ( 45,00 - 59,99 £)"
          ],
          [
           "Preços médios (25.00 - 44.99 £)"
          ],
          [
           "Preços baixos (10,00 - 24,99 £)"
          ],
          [
           "Preços baixos (10,00 - 24,99 £)"
          ],
          [
           "Preços médios (25.00 - 44.99 £)"
          ],
          [
           "Preços altos ( 45,00 - 59,99 £)"
          ],
          [
           "Preços médios (25.00 - 44.99 £)"
          ],
          [
           "Preços baixos (10,00 - 24,99 £)"
          ],
          [
           "Preços altos ( 45,00 - 59,99 £)"
          ],
          [
           "Preços médios (25.00 - 44.99 £)"
          ],
          [
           "Preços médios (25.00 - 44.99 £)"
          ],
          [
           "Preços altos ( 45,00 - 59,99 £)"
          ],
          [
           "Preços altos ( 45,00 - 59,99 £)"
          ],
          [
           "Preços médios (25.00 - 44.99 £)"
          ],
          [
           "Preços médios (25.00 - 44.99 £)"
          ],
          [
           "Preços baixos (10,00 - 24,99 £)"
          ],
          [
           "Preços altos ( 45,00 - 59,99 £)"
          ],
          [
           "Preços médios (25.00 - 44.99 £)"
          ],
          [
           "Preços médios (25.00 - 44.99 £)"
          ],
          [
           "Preços altos ( 45,00 - 59,99 £)"
          ],
          [
           "Preços baixos (10,00 - 24,99 £)"
          ],
          [
           "Preços médios (25.00 - 44.99 £)"
          ],
          [
           "Preços médios (25.00 - 44.99 £)"
          ],
          [
           "Preços médios (25.00 - 44.99 £)"
          ],
          [
           "Preços altos ( 45,00 - 59,99 £)"
          ],
          [
           "Preços médios (25.00 - 44.99 £)"
          ],
          [
           "Preços altos ( 45,00 - 59,99 £)"
          ],
          [
           "Preços médios (25.00 - 44.99 £)"
          ],
          [
           "Preços baixos (10,00 - 24,99 £)"
          ],
          [
           "Preços médios (25.00 - 44.99 £)"
          ],
          [
           "Preços médios (25.00 - 44.99 £)"
          ],
          [
           "Preços médios (25.00 - 44.99 £)"
          ],
          [
           "Preços médios (25.00 - 44.99 £)"
          ],
          [
           "Preços altos ( 45,00 - 59,99 £)"
          ],
          [
           "Preços altos ( 45,00 - 59,99 £)"
          ],
          [
           "Preços altos ( 45,00 - 59,99 £)"
          ],
          [
           "Preços baixos (10,00 - 24,99 £)"
          ],
          [
           "Preços baixos (10,00 - 24,99 £)"
          ],
          [
           "Preços médios (25.00 - 44.99 £)"
          ],
          [
           "Preços médios (25.00 - 44.99 £)"
          ],
          [
           "Preços médios (25.00 - 44.99 £)"
          ],
          [
           "Preços baixos (10,00 - 24,99 £)"
          ],
          [
           "Preços altos ( 45,00 - 59,99 £)"
          ],
          [
           "Preços altos ( 45,00 - 59,99 £)"
          ],
          [
           "Preços altos ( 45,00 - 59,99 £)"
          ],
          [
           "Preços baixos (10,00 - 24,99 £)"
          ],
          [
           "Preços médios (25.00 - 44.99 £)"
          ],
          [
           "Preços baixos (10,00 - 24,99 £)"
          ],
          [
           "Preços altos ( 45,00 - 59,99 £)"
          ],
          [
           "Preços baixos (10,00 - 24,99 £)"
          ],
          [
           "Preços altos ( 45,00 - 59,99 £)"
          ],
          [
           "Preços baixos (10,00 - 24,99 £)"
          ],
          [
           "Preços médios (25.00 - 44.99 £)"
          ],
          [
           "Preços altos ( 45,00 - 59,99 £)"
          ],
          [
           "Preços médios (25.00 - 44.99 £)"
          ],
          [
           "Preços médios (25.00 - 44.99 £)"
          ],
          [
           "Preços baixos (10,00 - 24,99 £)"
          ],
          [
           "Preços médios (25.00 - 44.99 £)"
          ],
          [
           "Preços altos ( 45,00 - 59,99 £)"
          ],
          [
           "Preços baixos (10,00 - 24,99 £)"
          ],
          [
           "Preços médios (25.00 - 44.99 £)"
          ],
          [
           "Preços baixos (10,00 - 24,99 £)"
          ],
          [
           "Preços médios (25.00 - 44.99 £)"
          ],
          [
           "Preços altos ( 45,00 - 59,99 £)"
          ],
          [
           "Preços baixos (10,00 - 24,99 £)"
          ],
          [
           "Preços baixos (10,00 - 24,99 £)"
          ],
          [
           "Preços médios (25.00 - 44.99 £)"
          ],
          [
           "Preços médios (25.00 - 44.99 £)"
          ],
          [
           "Preços baixos (10,00 - 24,99 £)"
          ],
          [
           "Preços médios (25.00 - 44.99 £)"
          ],
          [
           "Preços baixos (10,00 - 24,99 £)"
          ],
          [
           "Preços baixos (10,00 - 24,99 £)"
          ],
          [
           "Preços altos ( 45,00 - 59,99 £)"
          ],
          [
           "Preços médios (25.00 - 44.99 £)"
          ],
          [
           "Preços médios (25.00 - 44.99 £)"
          ],
          [
           "Preços médios (25.00 - 44.99 £)"
          ],
          [
           "Preços baixos (10,00 - 24,99 £)"
          ],
          [
           "Preços médios (25.00 - 44.99 £)"
          ],
          [
           "Preços altos ( 45,00 - 59,99 £)"
          ],
          [
           "Preços médios (25.00 - 44.99 £)"
          ],
          [
           "Preços altos ( 45,00 - 59,99 £)"
          ],
          [
           "Preços baixos (10,00 - 24,99 £)"
          ],
          [
           "Preços médios (25.00 - 44.99 £)"
          ],
          [
           "Preços altos ( 45,00 - 59,99 £)"
          ],
          [
           "Preços baixos (10,00 - 24,99 £)"
          ],
          [
           "Preços baixos (10,00 - 24,99 £)"
          ],
          [
           "Preços baixos (10,00 - 24,99 £)"
          ],
          [
           "Preços baixos (10,00 - 24,99 £)"
          ],
          [
           "Preços baixos (10,00 - 24,99 £)"
          ],
          [
           "Preços médios (25.00 - 44.99 £)"
          ],
          [
           "Preços médios (25.00 - 44.99 £)"
          ],
          [
           "Preços altos ( 45,00 - 59,99 £)"
          ],
          [
           "Preços altos ( 45,00 - 59,99 £)"
          ],
          [
           "Preços baixos (10,00 - 24,99 £)"
          ],
          [
           "Preços altos ( 45,00 - 59,99 £)"
          ],
          [
           "Preços baixos (10,00 - 24,99 £)"
          ],
          [
           "Preços médios (25.00 - 44.99 £)"
          ],
          [
           "Preços médios (25.00 - 44.99 £)"
          ],
          [
           "Preços altos ( 45,00 - 59,99 £)"
          ],
          [
           "Preços médios (25.00 - 44.99 £)"
          ],
          [
           "Preços baixos (10,00 - 24,99 £)"
          ],
          [
           "Preços altos ( 45,00 - 59,99 £)"
          ],
          [
           "Preços médios (25.00 - 44.99 £)"
          ],
          [
           "Preços altos ( 45,00 - 59,99 £)"
          ],
          [
           "Preços médios (25.00 - 44.99 £)"
          ],
          [
           "Preços altos ( 45,00 - 59,99 £)"
          ],
          [
           "Preços baixos (10,00 - 24,99 £)"
          ],
          [
           "Preços médios (25.00 - 44.99 £)"
          ],
          [
           "Preços médios (25.00 - 44.99 £)"
          ],
          [
           "Preços médios (25.00 - 44.99 £)"
          ],
          [
           "Preços baixos (10,00 - 24,99 £)"
          ],
          [
           "Preços médios (25.00 - 44.99 £)"
          ],
          [
           "Preços médios (25.00 - 44.99 £)"
          ],
          [
           "Preços médios (25.00 - 44.99 £)"
          ],
          [
           "Preços altos ( 45,00 - 59,99 £)"
          ],
          [
           "Preços médios (25.00 - 44.99 £)"
          ],
          [
           "Preços médios (25.00 - 44.99 £)"
          ],
          [
           "Preços altos ( 45,00 - 59,99 £)"
          ],
          [
           "Preços médios (25.00 - 44.99 £)"
          ],
          [
           "Preços altos ( 45,00 - 59,99 £)"
          ],
          [
           "Preços médios (25.00 - 44.99 £)"
          ],
          [
           "Preços altos ( 45,00 - 59,99 £)"
          ],
          [
           "Preços altos ( 45,00 - 59,99 £)"
          ],
          [
           "Preços médios (25.00 - 44.99 £)"
          ],
          [
           "Preços baixos (10,00 - 24,99 £)"
          ],
          [
           "Preços médios (25.00 - 44.99 £)"
          ],
          [
           "Preços médios (25.00 - 44.99 £)"
          ],
          [
           "Preços baixos (10,00 - 24,99 £)"
          ],
          [
           "Preços baixos (10,00 - 24,99 £)"
          ],
          [
           "Preços baixos (10,00 - 24,99 £)"
          ],
          [
           "Preços baixos (10,00 - 24,99 £)"
          ],
          [
           "Preços baixos (10,00 - 24,99 £)"
          ],
          [
           "Preços baixos (10,00 - 24,99 £)"
          ],
          [
           "Preços altos ( 45,00 - 59,99 £)"
          ],
          [
           "Preços médios (25.00 - 44.99 £)"
          ],
          [
           "Preços médios (25.00 - 44.99 £)"
          ],
          [
           "Preços baixos (10,00 - 24,99 £)"
          ],
          [
           "Preços médios (25.00 - 44.99 £)"
          ],
          [
           "Preços médios (25.00 - 44.99 £)"
          ],
          [
           "Preços baixos (10,00 - 24,99 £)"
          ],
          [
           "Preços médios (25.00 - 44.99 £)"
          ],
          [
           "Preços altos ( 45,00 - 59,99 £)"
          ],
          [
           "Preços baixos (10,00 - 24,99 £)"
          ],
          [
           "Preços médios (25.00 - 44.99 £)"
          ],
          [
           "Preços médios (25.00 - 44.99 £)"
          ],
          [
           "Preços médios (25.00 - 44.99 £)"
          ],
          [
           "Preços médios (25.00 - 44.99 £)"
          ],
          [
           "Preços altos ( 45,00 - 59,99 £)"
          ],
          [
           "Preços baixos (10,00 - 24,99 £)"
          ],
          [
           "Preços baixos (10,00 - 24,99 £)"
          ],
          [
           "Preços médios (25.00 - 44.99 £)"
          ],
          [
           "Preços médios (25.00 - 44.99 £)"
          ],
          [
           "Preços altos ( 45,00 - 59,99 £)"
          ],
          [
           "Preços médios (25.00 - 44.99 £)"
          ],
          [
           "Preços altos ( 45,00 - 59,99 £)"
          ],
          [
           "Preços médios (25.00 - 44.99 £)"
          ],
          [
           "Preços altos ( 45,00 - 59,99 £)"
          ],
          [
           "Preços altos ( 45,00 - 59,99 £)"
          ],
          [
           "Preços médios (25.00 - 44.99 £)"
          ],
          [
           "Preços médios (25.00 - 44.99 £)"
          ],
          [
           "Preços médios (25.00 - 44.99 £)"
          ],
          [
           "Preços médios (25.00 - 44.99 £)"
          ],
          [
           "Preços médios (25.00 - 44.99 £)"
          ],
          [
           "Preços baixos (10,00 - 24,99 £)"
          ],
          [
           "Preços altos ( 45,00 - 59,99 £)"
          ],
          [
           "Preços altos ( 45,00 - 59,99 £)"
          ],
          [
           "Preços médios (25.00 - 44.99 £)"
          ],
          [
           "Preços médios (25.00 - 44.99 £)"
          ],
          [
           "Preços médios (25.00 - 44.99 £)"
          ],
          [
           "Preços altos ( 45,00 - 59,99 £)"
          ],
          [
           "Preços médios (25.00 - 44.99 £)"
          ],
          [
           "Preços altos ( 45,00 - 59,99 £)"
          ],
          [
           "Preços médios (25.00 - 44.99 £)"
          ],
          [
           "Preços médios (25.00 - 44.99 £)"
          ],
          [
           "Preços médios (25.00 - 44.99 £)"
          ],
          [
           "Preços médios (25.00 - 44.99 £)"
          ],
          [
           "Preços médios (25.00 - 44.99 £)"
          ],
          [
           "Preços altos ( 45,00 - 59,99 £)"
          ],
          [
           "Preços altos ( 45,00 - 59,99 £)"
          ],
          [
           "Preços médios (25.00 - 44.99 £)"
          ],
          [
           "Preços baixos (10,00 - 24,99 £)"
          ],
          [
           "Preços médios (25.00 - 44.99 £)"
          ],
          [
           "Preços médios (25.00 - 44.99 £)"
          ],
          [
           "Preços médios (25.00 - 44.99 £)"
          ],
          [
           "Preços médios (25.00 - 44.99 £)"
          ],
          [
           "Preços baixos (10,00 - 24,99 £)"
          ],
          [
           "Preços médios (25.00 - 44.99 £)"
          ],
          [
           "Preços médios (25.00 - 44.99 £)"
          ],
          [
           "Preços altos ( 45,00 - 59,99 £)"
          ],
          [
           "Preços altos ( 45,00 - 59,99 £)"
          ],
          [
           "Preços baixos (10,00 - 24,99 £)"
          ],
          [
           "Preços altos ( 45,00 - 59,99 £)"
          ],
          [
           "Preços médios (25.00 - 44.99 £)"
          ]
         ],
         "domain": {
          "x": [
           0,
           1
          ],
          "y": [
           0,
           1
          ]
         },
         "hole": 0.5,
         "hovertemplate": "Faixa=%{customdata[0]}<br>Preço total=%{value}<extra></extra>",
         "labels": [
          "Preços altos ( 45,00 - 59,99 £)",
          "Preços altos ( 45,00 - 59,99 £)",
          "Preços altos ( 45,00 - 59,99 £)",
          "Preços altos ( 45,00 - 59,99 £)",
          "Preços altos ( 45,00 - 59,99 £)",
          "Preços baixos (10,00 - 24,99 £)",
          "Preços médios (25.00 - 44.99 £)",
          "Preços baixos (10,00 - 24,99 £)",
          "Preços baixos (10,00 - 24,99 £)",
          "Preços altos ( 45,00 - 59,99 £)",
          "Preços baixos (10,00 - 24,99 £)",
          "Preços baixos (10,00 - 24,99 £)",
          "Preços baixos (10,00 - 24,99 £)",
          "Preços altos ( 45,00 - 59,99 £)",
          "Preços médios (25.00 - 44.99 £)",
          "Preços altos ( 45,00 - 59,99 £)",
          "Preços baixos (10,00 - 24,99 £)",
          "Preços médios (25.00 - 44.99 £)",
          "Preços altos ( 45,00 - 59,99 £)",
          "Preços altos ( 45,00 - 59,99 £)",
          "Preços baixos (10,00 - 24,99 £)",
          "Preços médios (25.00 - 44.99 £)",
          "Preços médios (25.00 - 44.99 £)",
          "Preços médios (25.00 - 44.99 £)",
          "Preços médios (25.00 - 44.99 £)",
          "Preços altos ( 45,00 - 59,99 £)",
          "Preços baixos (10,00 - 24,99 £)",
          "Preços altos ( 45,00 - 59,99 £)",
          "Preços médios (25.00 - 44.99 £)",
          "Preços médios (25.00 - 44.99 £)",
          "Preços baixos (10,00 - 24,99 £)",
          "Preços médios (25.00 - 44.99 £)",
          "Preços baixos (10,00 - 24,99 £)",
          "Preços médios (25.00 - 44.99 £)",
          "Preços baixos (10,00 - 24,99 £)",
          "Preços médios (25.00 - 44.99 £)",
          "Preços baixos (10,00 - 24,99 £)",
          "Preços baixos (10,00 - 24,99 £)",
          "Preços altos ( 45,00 - 59,99 £)",
          "Preços médios (25.00 - 44.99 £)",
          "Preços altos ( 45,00 - 59,99 £)",
          "Preços médios (25.00 - 44.99 £)",
          "Preços altos ( 45,00 - 59,99 £)",
          "Preços baixos (10,00 - 24,99 £)",
          "Preços altos ( 45,00 - 59,99 £)",
          "Preços médios (25.00 - 44.99 £)",
          "Preços altos ( 45,00 - 59,99 £)",
          "Preços baixos (10,00 - 24,99 £)",
          "Preços médios (25.00 - 44.99 £)",
          "Preços baixos (10,00 - 24,99 £)",
          "Preços médios (25.00 - 44.99 £)",
          "Preços baixos (10,00 - 24,99 £)",
          "Preços médios (25.00 - 44.99 £)",
          "Preços baixos (10,00 - 24,99 £)",
          "Preços baixos (10,00 - 24,99 £)",
          "Preços baixos (10,00 - 24,99 £)",
          "Preços altos ( 45,00 - 59,99 £)",
          "Preços altos ( 45,00 - 59,99 £)",
          "Preços altos ( 45,00 - 59,99 £)",
          "Preços altos ( 45,00 - 59,99 £)",
          "Preços médios (25.00 - 44.99 £)",
          "Preços altos ( 45,00 - 59,99 £)",
          "Preços médios (25.00 - 44.99 £)",
          "Preços baixos (10,00 - 24,99 £)",
          "Preços baixos (10,00 - 24,99 £)",
          "Preços baixos (10,00 - 24,99 £)",
          "Preços médios (25.00 - 44.99 £)",
          "Preços altos ( 45,00 - 59,99 £)",
          "Preços altos ( 45,00 - 59,99 £)",
          "Preços altos ( 45,00 - 59,99 £)",
          "Preços médios (25.00 - 44.99 £)",
          "Preços baixos (10,00 - 24,99 £)",
          "Preços médios (25.00 - 44.99 £)",
          "Preços médios (25.00 - 44.99 £)",
          "Preços médios (25.00 - 44.99 £)",
          "Preços médios (25.00 - 44.99 £)",
          "Preços médios (25.00 - 44.99 £)",
          "Preços altos ( 45,00 - 59,99 £)",
          "Preços baixos (10,00 - 24,99 £)",
          "Preços altos ( 45,00 - 59,99 £)",
          "Preços baixos (10,00 - 24,99 £)",
          "Preços baixos (10,00 - 24,99 £)",
          "Preços baixos (10,00 - 24,99 £)",
          "Preços médios (25.00 - 44.99 £)",
          "Preços baixos (10,00 - 24,99 £)",
          "Preços baixos (10,00 - 24,99 £)",
          "Preços altos ( 45,00 - 59,99 £)",
          "Preços altos ( 45,00 - 59,99 £)",
          "Preços baixos (10,00 - 24,99 £)",
          "Preços baixos (10,00 - 24,99 £)",
          "Preços médios (25.00 - 44.99 £)",
          "Preços altos ( 45,00 - 59,99 £)",
          "Preços baixos (10,00 - 24,99 £)",
          "Preços altos ( 45,00 - 59,99 £)",
          "Preços altos ( 45,00 - 59,99 £)",
          "Preços baixos (10,00 - 24,99 £)",
          "Preços médios (25.00 - 44.99 £)",
          "Preços altos ( 45,00 - 59,99 £)",
          "Preços médios (25.00 - 44.99 £)",
          "Preços baixos (10,00 - 24,99 £)",
          "Preços altos ( 45,00 - 59,99 £)",
          "Preços médios (25.00 - 44.99 £)",
          "Preços altos ( 45,00 - 59,99 £)",
          "Preços altos ( 45,00 - 59,99 £)",
          "Preços médios (25.00 - 44.99 £)",
          "Preços baixos (10,00 - 24,99 £)",
          "Preços médios (25.00 - 44.99 £)",
          "Preços baixos (10,00 - 24,99 £)",
          "Preços baixos (10,00 - 24,99 £)",
          "Preços altos ( 45,00 - 59,99 £)",
          "Preços médios (25.00 - 44.99 £)",
          "Preços altos ( 45,00 - 59,99 £)",
          "Preços médios (25.00 - 44.99 £)",
          "Preços médios (25.00 - 44.99 £)",
          "Preços baixos (10,00 - 24,99 £)",
          "Preços médios (25.00 - 44.99 £)",
          "Preços médios (25.00 - 44.99 £)",
          "Preços altos ( 45,00 - 59,99 £)",
          "Preços médios (25.00 - 44.99 £)",
          "Preços médios (25.00 - 44.99 £)",
          "Preços médios (25.00 - 44.99 £)",
          "Preços médios (25.00 - 44.99 £)",
          "Preços altos ( 45,00 - 59,99 £)",
          "Preços baixos (10,00 - 24,99 £)",
          "Preços altos ( 45,00 - 59,99 £)",
          "Preços médios (25.00 - 44.99 £)",
          "Preços altos ( 45,00 - 59,99 £)",
          "Preços altos ( 45,00 - 59,99 £)",
          "Preços baixos (10,00 - 24,99 £)",
          "Preços médios (25.00 - 44.99 £)",
          "Preços baixos (10,00 - 24,99 £)",
          "Preços médios (25.00 - 44.99 £)",
          "Preços médios (25.00 - 44.99 £)",
          "Preços altos ( 45,00 - 59,99 £)",
          "Preços altos ( 45,00 - 59,99 £)",
          "Preços altos ( 45,00 - 59,99 £)",
          "Preços baixos (10,00 - 24,99 £)",
          "Preços médios (25.00 - 44.99 £)",
          "Preços baixos (10,00 - 24,99 £)",
          "Preços baixos (10,00 - 24,99 £)",
          "Preços médios (25.00 - 44.99 £)",
          "Preços médios (25.00 - 44.99 £)",
          "Preços altos ( 45,00 - 59,99 £)",
          "Preços médios (25.00 - 44.99 £)",
          "Preços baixos (10,00 - 24,99 £)",
          "Preços médios (25.00 - 44.99 £)",
          "Preços médios (25.00 - 44.99 £)",
          "Preços médios (25.00 - 44.99 £)",
          "Preços médios (25.00 - 44.99 £)",
          "Preços médios (25.00 - 44.99 £)",
          "Preços altos ( 45,00 - 59,99 £)",
          "Preços médios (25.00 - 44.99 £)",
          "Preços baixos (10,00 - 24,99 £)",
          "Preços médios (25.00 - 44.99 £)",
          "Preços médios (25.00 - 44.99 £)",
          "Preços médios (25.00 - 44.99 £)",
          "Preços altos ( 45,00 - 59,99 £)",
          "Preços baixos (10,00 - 24,99 £)",
          "Preços baixos (10,00 - 24,99 £)",
          "Preços médios (25.00 - 44.99 £)",
          "Preços médios (25.00 - 44.99 £)",
          "Preços médios (25.00 - 44.99 £)",
          "Preços médios (25.00 - 44.99 £)",
          "Preços baixos (10,00 - 24,99 £)",
          "Preços médios (25.00 - 44.99 £)",
          "Preços altos ( 45,00 - 59,99 £)",
          "Preços baixos (10,00 - 24,99 £)",
          "Preços médios (25.00 - 44.99 £)",
          "Preços baixos (10,00 - 24,99 £)",
          "Preços baixos (10,00 - 24,99 £)",
          "Preços médios (25.00 - 44.99 £)",
          "Preços baixos (10,00 - 24,99 £)",
          "Preços médios (25.00 - 44.99 £)",
          "Preços médios (25.00 - 44.99 £)",
          "Preços baixos (10,00 - 24,99 £)",
          "Preços médios (25.00 - 44.99 £)",
          "Preços baixos (10,00 - 24,99 £)",
          "Preços médios (25.00 - 44.99 £)",
          "Preços médios (25.00 - 44.99 £)",
          "Preços médios (25.00 - 44.99 £)",
          "Preços médios (25.00 - 44.99 £)",
          "Preços baixos (10,00 - 24,99 £)",
          "Preços baixos (10,00 - 24,99 £)",
          "Preços baixos (10,00 - 24,99 £)",
          "Preços altos ( 45,00 - 59,99 £)",
          "Preços baixos (10,00 - 24,99 £)",
          "Preços altos ( 45,00 - 59,99 £)",
          "Preços médios (25.00 - 44.99 £)",
          "Preços baixos (10,00 - 24,99 £)",
          "Preços altos ( 45,00 - 59,99 £)",
          "Preços médios (25.00 - 44.99 £)",
          "Preços baixos (10,00 - 24,99 £)",
          "Preços médios (25.00 - 44.99 £)",
          "Preços altos ( 45,00 - 59,99 £)",
          "Preços médios (25.00 - 44.99 £)",
          "Preços altos ( 45,00 - 59,99 £)",
          "Preços médios (25.00 - 44.99 £)",
          "Preços médios (25.00 - 44.99 £)",
          "Preços médios (25.00 - 44.99 £)",
          "Preços médios (25.00 - 44.99 £)",
          "Preços baixos (10,00 - 24,99 £)",
          "Preços baixos (10,00 - 24,99 £)",
          "Preços altos ( 45,00 - 59,99 £)",
          "Preços médios (25.00 - 44.99 £)",
          "Preços médios (25.00 - 44.99 £)",
          "Preços médios (25.00 - 44.99 £)",
          "Preços baixos (10,00 - 24,99 £)",
          "Preços médios (25.00 - 44.99 £)",
          "Preços baixos (10,00 - 24,99 £)",
          "Preços baixos (10,00 - 24,99 £)",
          "Preços altos ( 45,00 - 59,99 £)",
          "Preços baixos (10,00 - 24,99 £)",
          "Preços médios (25.00 - 44.99 £)",
          "Preços altos ( 45,00 - 59,99 £)",
          "Preços baixos (10,00 - 24,99 £)",
          "Preços baixos (10,00 - 24,99 £)",
          "Preços médios (25.00 - 44.99 £)",
          "Preços médios (25.00 - 44.99 £)",
          "Preços baixos (10,00 - 24,99 £)",
          "Preços altos ( 45,00 - 59,99 £)",
          "Preços médios (25.00 - 44.99 £)",
          "Preços baixos (10,00 - 24,99 £)",
          "Preços altos ( 45,00 - 59,99 £)",
          "Preços baixos (10,00 - 24,99 £)",
          "Preços médios (25.00 - 44.99 £)",
          "Preços altos ( 45,00 - 59,99 £)",
          "Preços altos ( 45,00 - 59,99 £)",
          "Preços baixos (10,00 - 24,99 £)",
          "Preços médios (25.00 - 44.99 £)",
          "Preços médios (25.00 - 44.99 £)",
          "Preços médios (25.00 - 44.99 £)",
          "Preços altos ( 45,00 - 59,99 £)",
          "Preços médios (25.00 - 44.99 £)",
          "Preços médios (25.00 - 44.99 £)",
          "Preços médios (25.00 - 44.99 £)",
          "Preços altos ( 45,00 - 59,99 £)",
          "Preços altos ( 45,00 - 59,99 £)",
          "Preços médios (25.00 - 44.99 £)",
          "Preços médios (25.00 - 44.99 £)",
          "Preços altos ( 45,00 - 59,99 £)",
          "Preços baixos (10,00 - 24,99 £)",
          "Preços médios (25.00 - 44.99 £)",
          "Preços baixos (10,00 - 24,99 £)",
          "Preços médios (25.00 - 44.99 £)",
          "Preços baixos (10,00 - 24,99 £)",
          "Preços baixos (10,00 - 24,99 £)",
          "Preços altos ( 45,00 - 59,99 £)",
          "Preços médios (25.00 - 44.99 £)",
          "Preços altos ( 45,00 - 59,99 £)",
          "Preços médios (25.00 - 44.99 £)",
          "Preços baixos (10,00 - 24,99 £)",
          "Preços médios (25.00 - 44.99 £)",
          "Preços altos ( 45,00 - 59,99 £)",
          "Preços médios (25.00 - 44.99 £)",
          "Preços médios (25.00 - 44.99 £)",
          "Preços baixos (10,00 - 24,99 £)",
          "Preços médios (25.00 - 44.99 £)",
          "Preços baixos (10,00 - 24,99 £)",
          "Preços baixos (10,00 - 24,99 £)",
          "Preços altos ( 45,00 - 59,99 £)",
          "Preços altos ( 45,00 - 59,99 £)",
          "Preços baixos (10,00 - 24,99 £)",
          "Preços médios (25.00 - 44.99 £)",
          "Preços médios (25.00 - 44.99 £)",
          "Preços médios (25.00 - 44.99 £)",
          "Preços altos ( 45,00 - 59,99 £)",
          "Preços médios (25.00 - 44.99 £)",
          "Preços altos ( 45,00 - 59,99 £)",
          "Preços altos ( 45,00 - 59,99 £)",
          "Preços altos ( 45,00 - 59,99 £)",
          "Preços altos ( 45,00 - 59,99 £)",
          "Preços médios (25.00 - 44.99 £)",
          "Preços baixos (10,00 - 24,99 £)",
          "Preços altos ( 45,00 - 59,99 £)",
          "Preços baixos (10,00 - 24,99 £)",
          "Preços altos ( 45,00 - 59,99 £)",
          "Preços baixos (10,00 - 24,99 £)",
          "Preços baixos (10,00 - 24,99 £)",
          "Preços baixos (10,00 - 24,99 £)",
          "Preços médios (25.00 - 44.99 £)",
          "Preços médios (25.00 - 44.99 £)",
          "Preços baixos (10,00 - 24,99 £)",
          "Preços médios (25.00 - 44.99 £)",
          "Preços médios (25.00 - 44.99 £)",
          "Preços médios (25.00 - 44.99 £)",
          "Preços médios (25.00 - 44.99 £)",
          "Preços altos ( 45,00 - 59,99 £)",
          "Preços altos ( 45,00 - 59,99 £)",
          "Preços altos ( 45,00 - 59,99 £)",
          "Preços baixos (10,00 - 24,99 £)",
          "Preços médios (25.00 - 44.99 £)",
          "Preços altos ( 45,00 - 59,99 £)",
          "Preços médios (25.00 - 44.99 £)",
          "Preços baixos (10,00 - 24,99 £)",
          "Preços baixos (10,00 - 24,99 £)",
          "Preços médios (25.00 - 44.99 £)",
          "Preços médios (25.00 - 44.99 £)",
          "Preços baixos (10,00 - 24,99 £)",
          "Preços baixos (10,00 - 24,99 £)",
          "Preços altos ( 45,00 - 59,99 £)",
          "Preços médios (25.00 - 44.99 £)",
          "Preços altos ( 45,00 - 59,99 £)",
          "Preços baixos (10,00 - 24,99 £)",
          "Preços médios (25.00 - 44.99 £)",
          "Preços altos ( 45,00 - 59,99 £)",
          "Preços altos ( 45,00 - 59,99 £)",
          "Preços baixos (10,00 - 24,99 £)",
          "Preços altos ( 45,00 - 59,99 £)",
          "Preços médios (25.00 - 44.99 £)",
          "Preços altos ( 45,00 - 59,99 £)",
          "Preços baixos (10,00 - 24,99 £)",
          "Preços altos ( 45,00 - 59,99 £)",
          "Preços altos ( 45,00 - 59,99 £)",
          "Preços altos ( 45,00 - 59,99 £)",
          "Preços médios (25.00 - 44.99 £)",
          "Preços médios (25.00 - 44.99 £)",
          "Preços baixos (10,00 - 24,99 £)",
          "Preços médios (25.00 - 44.99 £)",
          "Preços altos ( 45,00 - 59,99 £)",
          "Preços médios (25.00 - 44.99 £)",
          "Preços baixos (10,00 - 24,99 £)",
          "Preços médios (25.00 - 44.99 £)",
          "Preços altos ( 45,00 - 59,99 £)",
          "Preços baixos (10,00 - 24,99 £)",
          "Preços médios (25.00 - 44.99 £)",
          "Preços altos ( 45,00 - 59,99 £)",
          "Preços baixos (10,00 - 24,99 £)",
          "Preços altos ( 45,00 - 59,99 £)",
          "Preços médios (25.00 - 44.99 £)",
          "Preços altos ( 45,00 - 59,99 £)",
          "Preços médios (25.00 - 44.99 £)",
          "Preços altos ( 45,00 - 59,99 £)",
          "Preços médios (25.00 - 44.99 £)",
          "Preços médios (25.00 - 44.99 £)",
          "Preços altos ( 45,00 - 59,99 £)",
          "Preços baixos (10,00 - 24,99 £)",
          "Preços altos ( 45,00 - 59,99 £)",
          "Preços altos ( 45,00 - 59,99 £)",
          "Preços médios (25.00 - 44.99 £)",
          "Preços altos ( 45,00 - 59,99 £)",
          "Preços médios (25.00 - 44.99 £)",
          "Preços baixos (10,00 - 24,99 £)",
          "Preços altos ( 45,00 - 59,99 £)",
          "Preços altos ( 45,00 - 59,99 £)",
          "Preços baixos (10,00 - 24,99 £)",
          "Preços altos ( 45,00 - 59,99 £)",
          "Preços médios (25.00 - 44.99 £)",
          "Preços médios (25.00 - 44.99 £)",
          "Preços baixos (10,00 - 24,99 £)",
          "Preços altos ( 45,00 - 59,99 £)",
          "Preços baixos (10,00 - 24,99 £)",
          "Preços baixos (10,00 - 24,99 £)",
          "Preços médios (25.00 - 44.99 £)",
          "Preços médios (25.00 - 44.99 £)",
          "Preços baixos (10,00 - 24,99 £)",
          "Preços médios (25.00 - 44.99 £)",
          "Preços baixos (10,00 - 24,99 £)",
          "Preços médios (25.00 - 44.99 £)",
          "Preços médios (25.00 - 44.99 £)",
          "Preços altos ( 45,00 - 59,99 £)",
          "Preços médios (25.00 - 44.99 £)",
          "Preços médios (25.00 - 44.99 £)",
          "Preços altos ( 45,00 - 59,99 £)",
          "Preços médios (25.00 - 44.99 £)",
          "Preços baixos (10,00 - 24,99 £)",
          "Preços altos ( 45,00 - 59,99 £)",
          "Preços altos ( 45,00 - 59,99 £)",
          "Preços baixos (10,00 - 24,99 £)",
          "Preços altos ( 45,00 - 59,99 £)",
          "Preços baixos (10,00 - 24,99 £)",
          "Preços altos ( 45,00 - 59,99 £)",
          "Preços médios (25.00 - 44.99 £)",
          "Preços médios (25.00 - 44.99 £)",
          "Preços médios (25.00 - 44.99 £)",
          "Preços baixos (10,00 - 24,99 £)",
          "Preços altos ( 45,00 - 59,99 £)",
          "Preços altos ( 45,00 - 59,99 £)",
          "Preços médios (25.00 - 44.99 £)",
          "Preços baixos (10,00 - 24,99 £)",
          "Preços altos ( 45,00 - 59,99 £)",
          "Preços baixos (10,00 - 24,99 £)",
          "Preços médios (25.00 - 44.99 £)",
          "Preços baixos (10,00 - 24,99 £)",
          "Preços altos ( 45,00 - 59,99 £)",
          "Preços altos ( 45,00 - 59,99 £)",
          "Preços médios (25.00 - 44.99 £)",
          "Preços altos ( 45,00 - 59,99 £)",
          "Preços altos ( 45,00 - 59,99 £)",
          "Preços médios (25.00 - 44.99 £)",
          "Preços médios (25.00 - 44.99 £)",
          "Preços altos ( 45,00 - 59,99 £)",
          "Preços médios (25.00 - 44.99 £)",
          "Preços baixos (10,00 - 24,99 £)",
          "Preços altos ( 45,00 - 59,99 £)",
          "Preços baixos (10,00 - 24,99 £)",
          "Preços altos ( 45,00 - 59,99 £)",
          "Preços altos ( 45,00 - 59,99 £)",
          "Preços baixos (10,00 - 24,99 £)",
          "Preços baixos (10,00 - 24,99 £)",
          "Preços altos ( 45,00 - 59,99 £)",
          "Preços baixos (10,00 - 24,99 £)",
          "Preços baixos (10,00 - 24,99 £)",
          "Preços médios (25.00 - 44.99 £)",
          "Preços baixos (10,00 - 24,99 £)",
          "Preços altos ( 45,00 - 59,99 £)",
          "Preços médios (25.00 - 44.99 £)",
          "Preços baixos (10,00 - 24,99 £)",
          "Preços altos ( 45,00 - 59,99 £)",
          "Preços altos ( 45,00 - 59,99 £)",
          "Preços altos ( 45,00 - 59,99 £)",
          "Preços baixos (10,00 - 24,99 £)",
          "Preços baixos (10,00 - 24,99 £)",
          "Preços baixos (10,00 - 24,99 £)",
          "Preços baixos (10,00 - 24,99 £)",
          "Preços baixos (10,00 - 24,99 £)",
          "Preços baixos (10,00 - 24,99 £)",
          "Preços baixos (10,00 - 24,99 £)",
          "Preços altos ( 45,00 - 59,99 £)",
          "Preços baixos (10,00 - 24,99 £)",
          "Preços altos ( 45,00 - 59,99 £)",
          "Preços altos ( 45,00 - 59,99 £)",
          "Preços altos ( 45,00 - 59,99 £)",
          "Preços altos ( 45,00 - 59,99 £)",
          "Preços baixos (10,00 - 24,99 £)",
          "Preços médios (25.00 - 44.99 £)",
          "Preços médios (25.00 - 44.99 £)",
          "Preços baixos (10,00 - 24,99 £)",
          "Preços baixos (10,00 - 24,99 £)",
          "Preços altos ( 45,00 - 59,99 £)",
          "Preços baixos (10,00 - 24,99 £)",
          "Preços altos ( 45,00 - 59,99 £)",
          "Preços altos ( 45,00 - 59,99 £)",
          "Preços altos ( 45,00 - 59,99 £)",
          "Preços médios (25.00 - 44.99 £)",
          "Preços baixos (10,00 - 24,99 £)",
          "Preços altos ( 45,00 - 59,99 £)",
          "Preços baixos (10,00 - 24,99 £)",
          "Preços médios (25.00 - 44.99 £)",
          "Preços médios (25.00 - 44.99 £)",
          "Preços médios (25.00 - 44.99 £)",
          "Preços médios (25.00 - 44.99 £)",
          "Preços altos ( 45,00 - 59,99 £)",
          "Preços altos ( 45,00 - 59,99 £)",
          "Preços altos ( 45,00 - 59,99 £)",
          "Preços médios (25.00 - 44.99 £)",
          "Preços médios (25.00 - 44.99 £)",
          "Preços baixos (10,00 - 24,99 £)",
          "Preços médios (25.00 - 44.99 £)",
          "Preços médios (25.00 - 44.99 £)",
          "Preços médios (25.00 - 44.99 £)",
          "Preços médios (25.00 - 44.99 £)",
          "Preços médios (25.00 - 44.99 £)",
          "Preços médios (25.00 - 44.99 £)",
          "Preços altos ( 45,00 - 59,99 £)",
          "Preços médios (25.00 - 44.99 £)",
          "Preços médios (25.00 - 44.99 £)",
          "Preços médios (25.00 - 44.99 £)",
          "Preços médios (25.00 - 44.99 £)",
          "Preços altos ( 45,00 - 59,99 £)",
          "Preços médios (25.00 - 44.99 £)",
          "Preços baixos (10,00 - 24,99 £)",
          "Preços baixos (10,00 - 24,99 £)",
          "Preços altos ( 45,00 - 59,99 £)",
          "Preços médios (25.00 - 44.99 £)",
          "Preços altos ( 45,00 - 59,99 £)",
          "Preços médios (25.00 - 44.99 £)",
          "Preços altos ( 45,00 - 59,99 £)",
          "Preços médios (25.00 - 44.99 £)",
          "Preços médios (25.00 - 44.99 £)",
          "Preços baixos (10,00 - 24,99 £)",
          "Preços médios (25.00 - 44.99 £)",
          "Preços médios (25.00 - 44.99 £)",
          "Preços altos ( 45,00 - 59,99 £)",
          "Preços altos ( 45,00 - 59,99 £)",
          "Preços baixos (10,00 - 24,99 £)",
          "Preços altos ( 45,00 - 59,99 £)",
          "Preços médios (25.00 - 44.99 £)",
          "Preços baixos (10,00 - 24,99 £)",
          "Preços médios (25.00 - 44.99 £)",
          "Preços baixos (10,00 - 24,99 £)",
          "Preços altos ( 45,00 - 59,99 £)",
          "Preços altos ( 45,00 - 59,99 £)",
          "Preços médios (25.00 - 44.99 £)",
          "Preços médios (25.00 - 44.99 £)",
          "Preços médios (25.00 - 44.99 £)",
          "Preços baixos (10,00 - 24,99 £)",
          "Preços baixos (10,00 - 24,99 £)",
          "Preços altos ( 45,00 - 59,99 £)",
          "Preços altos ( 45,00 - 59,99 £)",
          "Preços baixos (10,00 - 24,99 £)",
          "Preços altos ( 45,00 - 59,99 £)",
          "Preços médios (25.00 - 44.99 £)",
          "Preços baixos (10,00 - 24,99 £)",
          "Preços baixos (10,00 - 24,99 £)",
          "Preços médios (25.00 - 44.99 £)",
          "Preços altos ( 45,00 - 59,99 £)",
          "Preços médios (25.00 - 44.99 £)",
          "Preços médios (25.00 - 44.99 £)",
          "Preços médios (25.00 - 44.99 £)",
          "Preços médios (25.00 - 44.99 £)",
          "Preços médios (25.00 - 44.99 £)",
          "Preços baixos (10,00 - 24,99 £)",
          "Preços médios (25.00 - 44.99 £)",
          "Preços altos ( 45,00 - 59,99 £)",
          "Preços baixos (10,00 - 24,99 £)",
          "Preços médios (25.00 - 44.99 £)",
          "Preços médios (25.00 - 44.99 £)",
          "Preços baixos (10,00 - 24,99 £)",
          "Preços médios (25.00 - 44.99 £)",
          "Preços altos ( 45,00 - 59,99 £)",
          "Preços médios (25.00 - 44.99 £)",
          "Preços médios (25.00 - 44.99 £)",
          "Preços baixos (10,00 - 24,99 £)",
          "Preços baixos (10,00 - 24,99 £)",
          "Preços baixos (10,00 - 24,99 £)",
          "Preços médios (25.00 - 44.99 £)",
          "Preços altos ( 45,00 - 59,99 £)",
          "Preços altos ( 45,00 - 59,99 £)",
          "Preços médios (25.00 - 44.99 £)",
          "Preços médios (25.00 - 44.99 £)",
          "Preços altos ( 45,00 - 59,99 £)",
          "Preços baixos (10,00 - 24,99 £)",
          "Preços médios (25.00 - 44.99 £)",
          "Preços altos ( 45,00 - 59,99 £)",
          "Preços médios (25.00 - 44.99 £)",
          "Preços baixos (10,00 - 24,99 £)",
          "Preços altos ( 45,00 - 59,99 £)",
          "Preços médios (25.00 - 44.99 £)",
          "Preços altos ( 45,00 - 59,99 £)",
          "Preços altos ( 45,00 - 59,99 £)",
          "Preços médios (25.00 - 44.99 £)",
          "Preços médios (25.00 - 44.99 £)",
          "Preços baixos (10,00 - 24,99 £)",
          "Preços altos ( 45,00 - 59,99 £)",
          "Preços altos ( 45,00 - 59,99 £)",
          "Preços baixos (10,00 - 24,99 £)",
          "Preços baixos (10,00 - 24,99 £)",
          "Preços baixos (10,00 - 24,99 £)",
          "Preços altos ( 45,00 - 59,99 £)",
          "Preços médios (25.00 - 44.99 £)",
          "Preços altos ( 45,00 - 59,99 £)",
          "Preços médios (25.00 - 44.99 £)",
          "Preços médios (25.00 - 44.99 £)",
          "Preços altos ( 45,00 - 59,99 £)",
          "Preços médios (25.00 - 44.99 £)",
          "Preços altos ( 45,00 - 59,99 £)",
          "Preços médios (25.00 - 44.99 £)",
          "Preços altos ( 45,00 - 59,99 £)",
          "Preços baixos (10,00 - 24,99 £)",
          "Preços altos ( 45,00 - 59,99 £)",
          "Preços médios (25.00 - 44.99 £)",
          "Preços médios (25.00 - 44.99 £)",
          "Preços médios (25.00 - 44.99 £)",
          "Preços baixos (10,00 - 24,99 £)",
          "Preços médios (25.00 - 44.99 £)",
          "Preços baixos (10,00 - 24,99 £)",
          "Preços altos ( 45,00 - 59,99 £)",
          "Preços baixos (10,00 - 24,99 £)",
          "Preços baixos (10,00 - 24,99 £)",
          "Preços baixos (10,00 - 24,99 £)",
          "Preços altos ( 45,00 - 59,99 £)",
          "Preços altos ( 45,00 - 59,99 £)",
          "Preços médios (25.00 - 44.99 £)",
          "Preços baixos (10,00 - 24,99 £)",
          "Preços altos ( 45,00 - 59,99 £)",
          "Preços altos ( 45,00 - 59,99 £)",
          "Preços baixos (10,00 - 24,99 £)",
          "Preços médios (25.00 - 44.99 £)",
          "Preços altos ( 45,00 - 59,99 £)",
          "Preços altos ( 45,00 - 59,99 £)",
          "Preços baixos (10,00 - 24,99 £)",
          "Preços médios (25.00 - 44.99 £)",
          "Preços altos ( 45,00 - 59,99 £)",
          "Preços baixos (10,00 - 24,99 £)",
          "Preços médios (25.00 - 44.99 £)",
          "Preços médios (25.00 - 44.99 £)",
          "Preços altos ( 45,00 - 59,99 £)",
          "Preços médios (25.00 - 44.99 £)",
          "Preços baixos (10,00 - 24,99 £)",
          "Preços altos ( 45,00 - 59,99 £)",
          "Preços médios (25.00 - 44.99 £)",
          "Preços altos ( 45,00 - 59,99 £)",
          "Preços altos ( 45,00 - 59,99 £)",
          "Preços médios (25.00 - 44.99 £)",
          "Preços altos ( 45,00 - 59,99 £)",
          "Preços baixos (10,00 - 24,99 £)",
          "Preços médios (25.00 - 44.99 £)",
          "Preços baixos (10,00 - 24,99 £)",
          "Preços médios (25.00 - 44.99 £)",
          "Preços altos ( 45,00 - 59,99 £)",
          "Preços baixos (10,00 - 24,99 £)",
          "Preços médios (25.00 - 44.99 £)",
          "Preços médios (25.00 - 44.99 £)",
          "Preços baixos (10,00 - 24,99 £)",
          "Preços altos ( 45,00 - 59,99 £)",
          "Preços baixos (10,00 - 24,99 £)",
          "Preços altos ( 45,00 - 59,99 £)",
          "Preços altos ( 45,00 - 59,99 £)",
          "Preços altos ( 45,00 - 59,99 £)",
          "Preços médios (25.00 - 44.99 £)",
          "Preços médios (25.00 - 44.99 £)",
          "Preços baixos (10,00 - 24,99 £)",
          "Preços médios (25.00 - 44.99 £)",
          "Preços baixos (10,00 - 24,99 £)",
          "Preços altos ( 45,00 - 59,99 £)",
          "Preços médios (25.00 - 44.99 £)",
          "Preços médios (25.00 - 44.99 £)",
          "Preços médios (25.00 - 44.99 £)",
          "Preços baixos (10,00 - 24,99 £)",
          "Preços baixos (10,00 - 24,99 £)",
          "Preços baixos (10,00 - 24,99 £)",
          "Preços baixos (10,00 - 24,99 £)",
          "Preços médios (25.00 - 44.99 £)",
          "Preços baixos (10,00 - 24,99 £)",
          "Preços baixos (10,00 - 24,99 £)",
          "Preços baixos (10,00 - 24,99 £)",
          "Preços baixos (10,00 - 24,99 £)",
          "Preços altos ( 45,00 - 59,99 £)",
          "Preços médios (25.00 - 44.99 £)",
          "Preços baixos (10,00 - 24,99 £)",
          "Preços altos ( 45,00 - 59,99 £)",
          "Preços médios (25.00 - 44.99 £)",
          "Preços médios (25.00 - 44.99 £)",
          "Preços baixos (10,00 - 24,99 £)",
          "Preços baixos (10,00 - 24,99 £)",
          "Preços médios (25.00 - 44.99 £)",
          "Preços baixos (10,00 - 24,99 £)",
          "Preços baixos (10,00 - 24,99 £)",
          "Preços médios (25.00 - 44.99 £)",
          "Preços médios (25.00 - 44.99 £)",
          "Preços médios (25.00 - 44.99 £)",
          "Preços altos ( 45,00 - 59,99 £)",
          "Preços altos ( 45,00 - 59,99 £)",
          "Preços médios (25.00 - 44.99 £)",
          "Preços baixos (10,00 - 24,99 £)",
          "Preços baixos (10,00 - 24,99 £)",
          "Preços médios (25.00 - 44.99 £)",
          "Preços altos ( 45,00 - 59,99 £)",
          "Preços baixos (10,00 - 24,99 £)",
          "Preços altos ( 45,00 - 59,99 £)",
          "Preços altos ( 45,00 - 59,99 £)",
          "Preços médios (25.00 - 44.99 £)",
          "Preços altos ( 45,00 - 59,99 £)",
          "Preços baixos (10,00 - 24,99 £)",
          "Preços baixos (10,00 - 24,99 £)",
          "Preços altos ( 45,00 - 59,99 £)",
          "Preços médios (25.00 - 44.99 £)",
          "Preços altos ( 45,00 - 59,99 £)",
          "Preços altos ( 45,00 - 59,99 £)",
          "Preços médios (25.00 - 44.99 £)",
          "Preços médios (25.00 - 44.99 £)",
          "Preços médios (25.00 - 44.99 £)",
          "Preços baixos (10,00 - 24,99 £)",
          "Preços baixos (10,00 - 24,99 £)",
          "Preços médios (25.00 - 44.99 £)",
          "Preços altos ( 45,00 - 59,99 £)",
          "Preços médios (25.00 - 44.99 £)",
          "Preços altos ( 45,00 - 59,99 £)",
          "Preços altos ( 45,00 - 59,99 £)",
          "Preços baixos (10,00 - 24,99 £)",
          "Preços altos ( 45,00 - 59,99 £)",
          "Preços altos ( 45,00 - 59,99 £)",
          "Preços baixos (10,00 - 24,99 £)",
          "Preços baixos (10,00 - 24,99 £)",
          "Preços baixos (10,00 - 24,99 £)",
          "Preços baixos (10,00 - 24,99 £)",
          "Preços altos ( 45,00 - 59,99 £)",
          "Preços baixos (10,00 - 24,99 £)",
          "Preços médios (25.00 - 44.99 £)",
          "Preços médios (25.00 - 44.99 £)",
          "Preços médios (25.00 - 44.99 £)",
          "Preços baixos (10,00 - 24,99 £)",
          "Preços baixos (10,00 - 24,99 £)",
          "Preços médios (25.00 - 44.99 £)",
          "Preços altos ( 45,00 - 59,99 £)",
          "Preços baixos (10,00 - 24,99 £)",
          "Preços médios (25.00 - 44.99 £)",
          "Preços médios (25.00 - 44.99 £)",
          "Preços médios (25.00 - 44.99 £)",
          "Preços altos ( 45,00 - 59,99 £)",
          "Preços médios (25.00 - 44.99 £)",
          "Preços baixos (10,00 - 24,99 £)",
          "Preços altos ( 45,00 - 59,99 £)",
          "Preços baixos (10,00 - 24,99 £)",
          "Preços altos ( 45,00 - 59,99 £)",
          "Preços baixos (10,00 - 24,99 £)",
          "Preços médios (25.00 - 44.99 £)",
          "Preços altos ( 45,00 - 59,99 £)",
          "Preços altos ( 45,00 - 59,99 £)",
          "Preços altos ( 45,00 - 59,99 £)",
          "Preços médios (25.00 - 44.99 £)",
          "Preços altos ( 45,00 - 59,99 £)",
          "Preços médios (25.00 - 44.99 £)",
          "Preços baixos (10,00 - 24,99 £)",
          "Preços baixos (10,00 - 24,99 £)",
          "Preços altos ( 45,00 - 59,99 £)",
          "Preços baixos (10,00 - 24,99 £)",
          "Preços médios (25.00 - 44.99 £)",
          "Preços médios (25.00 - 44.99 £)",
          "Preços baixos (10,00 - 24,99 £)",
          "Preços médios (25.00 - 44.99 £)",
          "Preços baixos (10,00 - 24,99 £)",
          "Preços altos ( 45,00 - 59,99 £)",
          "Preços baixos (10,00 - 24,99 £)",
          "Preços altos ( 45,00 - 59,99 £)",
          "Preços médios (25.00 - 44.99 £)",
          "Preços médios (25.00 - 44.99 £)",
          "Preços médios (25.00 - 44.99 £)",
          "Preços médios (25.00 - 44.99 £)",
          "Preços altos ( 45,00 - 59,99 £)",
          "Preços baixos (10,00 - 24,99 £)",
          "Preços baixos (10,00 - 24,99 £)",
          "Preços altos ( 45,00 - 59,99 £)",
          "Preços baixos (10,00 - 24,99 £)",
          "Preços altos ( 45,00 - 59,99 £)",
          "Preços baixos (10,00 - 24,99 £)",
          "Preços baixos (10,00 - 24,99 £)",
          "Preços altos ( 45,00 - 59,99 £)",
          "Preços altos ( 45,00 - 59,99 £)",
          "Preços baixos (10,00 - 24,99 £)",
          "Preços baixos (10,00 - 24,99 £)",
          "Preços altos ( 45,00 - 59,99 £)",
          "Preços altos ( 45,00 - 59,99 £)",
          "Preços baixos (10,00 - 24,99 £)",
          "Preços médios (25.00 - 44.99 £)",
          "Preços baixos (10,00 - 24,99 £)",
          "Preços médios (25.00 - 44.99 £)",
          "Preços médios (25.00 - 44.99 £)",
          "Preços médios (25.00 - 44.99 £)",
          "Preços baixos (10,00 - 24,99 £)",
          "Preços médios (25.00 - 44.99 £)",
          "Preços médios (25.00 - 44.99 £)",
          "Preços altos ( 45,00 - 59,99 £)",
          "Preços médios (25.00 - 44.99 £)",
          "Preços médios (25.00 - 44.99 £)",
          "Preços altos ( 45,00 - 59,99 £)",
          "Preços médios (25.00 - 44.99 £)",
          "Preços baixos (10,00 - 24,99 £)",
          "Preços altos ( 45,00 - 59,99 £)",
          "Preços médios (25.00 - 44.99 £)",
          "Preços médios (25.00 - 44.99 £)",
          "Preços altos ( 45,00 - 59,99 £)",
          "Preços médios (25.00 - 44.99 £)",
          "Preços médios (25.00 - 44.99 £)",
          "Preços altos ( 45,00 - 59,99 £)",
          "Preços altos ( 45,00 - 59,99 £)",
          "Preços baixos (10,00 - 24,99 £)",
          "Preços altos ( 45,00 - 59,99 £)",
          "Preços médios (25.00 - 44.99 £)",
          "Preços baixos (10,00 - 24,99 £)",
          "Preços altos ( 45,00 - 59,99 £)",
          "Preços baixos (10,00 - 24,99 £)",
          "Preços altos ( 45,00 - 59,99 £)",
          "Preços médios (25.00 - 44.99 £)",
          "Preços baixos (10,00 - 24,99 £)",
          "Preços baixos (10,00 - 24,99 £)",
          "Preços altos ( 45,00 - 59,99 £)",
          "Preços médios (25.00 - 44.99 £)",
          "Preços altos ( 45,00 - 59,99 £)",
          "Preços médios (25.00 - 44.99 £)",
          "Preços baixos (10,00 - 24,99 £)",
          "Preços baixos (10,00 - 24,99 £)",
          "Preços médios (25.00 - 44.99 £)",
          "Preços médios (25.00 - 44.99 £)",
          "Preços baixos (10,00 - 24,99 £)",
          "Preços baixos (10,00 - 24,99 £)",
          "Preços altos ( 45,00 - 59,99 £)",
          "Preços altos ( 45,00 - 59,99 £)",
          "Preços médios (25.00 - 44.99 £)",
          "Preços altos ( 45,00 - 59,99 £)",
          "Preços baixos (10,00 - 24,99 £)",
          "Preços médios (25.00 - 44.99 £)",
          "Preços baixos (10,00 - 24,99 £)",
          "Preços médios (25.00 - 44.99 £)",
          "Preços médios (25.00 - 44.99 £)",
          "Preços altos ( 45,00 - 59,99 £)",
          "Preços altos ( 45,00 - 59,99 £)",
          "Preços altos ( 45,00 - 59,99 £)",
          "Preços baixos (10,00 - 24,99 £)",
          "Preços altos ( 45,00 - 59,99 £)",
          "Preços altos ( 45,00 - 59,99 £)",
          "Preços médios (25.00 - 44.99 £)",
          "Preços baixos (10,00 - 24,99 £)",
          "Preços altos ( 45,00 - 59,99 £)",
          "Preços baixos (10,00 - 24,99 £)",
          "Preços baixos (10,00 - 24,99 £)",
          "Preços altos ( 45,00 - 59,99 £)",
          "Preços médios (25.00 - 44.99 £)",
          "Preços médios (25.00 - 44.99 £)",
          "Preços baixos (10,00 - 24,99 £)",
          "Preços médios (25.00 - 44.99 £)",
          "Preços baixos (10,00 - 24,99 £)",
          "Preços médios (25.00 - 44.99 £)",
          "Preços médios (25.00 - 44.99 £)",
          "Preços médios (25.00 - 44.99 £)",
          "Preços altos ( 45,00 - 59,99 £)",
          "Preços baixos (10,00 - 24,99 £)",
          "Preços médios (25.00 - 44.99 £)",
          "Preços baixos (10,00 - 24,99 £)",
          "Preços médios (25.00 - 44.99 £)",
          "Preços médios (25.00 - 44.99 £)",
          "Preços baixos (10,00 - 24,99 £)",
          "Preços médios (25.00 - 44.99 £)",
          "Preços médios (25.00 - 44.99 £)",
          "Preços médios (25.00 - 44.99 £)",
          "Preços altos ( 45,00 - 59,99 £)",
          "Preços altos ( 45,00 - 59,99 £)",
          "Preços altos ( 45,00 - 59,99 £)",
          "Preços médios (25.00 - 44.99 £)",
          "Preços baixos (10,00 - 24,99 £)",
          "Preços baixos (10,00 - 24,99 £)",
          "Preços médios (25.00 - 44.99 £)",
          "Preços altos ( 45,00 - 59,99 £)",
          "Preços médios (25.00 - 44.99 £)",
          "Preços baixos (10,00 - 24,99 £)",
          "Preços altos ( 45,00 - 59,99 £)",
          "Preços médios (25.00 - 44.99 £)",
          "Preços médios (25.00 - 44.99 £)",
          "Preços altos ( 45,00 - 59,99 £)",
          "Preços altos ( 45,00 - 59,99 £)",
          "Preços médios (25.00 - 44.99 £)",
          "Preços médios (25.00 - 44.99 £)",
          "Preços baixos (10,00 - 24,99 £)",
          "Preços altos ( 45,00 - 59,99 £)",
          "Preços médios (25.00 - 44.99 £)",
          "Preços médios (25.00 - 44.99 £)",
          "Preços altos ( 45,00 - 59,99 £)",
          "Preços baixos (10,00 - 24,99 £)",
          "Preços médios (25.00 - 44.99 £)",
          "Preços médios (25.00 - 44.99 £)",
          "Preços médios (25.00 - 44.99 £)",
          "Preços altos ( 45,00 - 59,99 £)",
          "Preços médios (25.00 - 44.99 £)",
          "Preços altos ( 45,00 - 59,99 £)",
          "Preços médios (25.00 - 44.99 £)",
          "Preços baixos (10,00 - 24,99 £)",
          "Preços médios (25.00 - 44.99 £)",
          "Preços médios (25.00 - 44.99 £)",
          "Preços médios (25.00 - 44.99 £)",
          "Preços médios (25.00 - 44.99 £)",
          "Preços altos ( 45,00 - 59,99 £)",
          "Preços altos ( 45,00 - 59,99 £)",
          "Preços altos ( 45,00 - 59,99 £)",
          "Preços baixos (10,00 - 24,99 £)",
          "Preços baixos (10,00 - 24,99 £)",
          "Preços médios (25.00 - 44.99 £)",
          "Preços médios (25.00 - 44.99 £)",
          "Preços médios (25.00 - 44.99 £)",
          "Preços baixos (10,00 - 24,99 £)",
          "Preços altos ( 45,00 - 59,99 £)",
          "Preços altos ( 45,00 - 59,99 £)",
          "Preços altos ( 45,00 - 59,99 £)",
          "Preços baixos (10,00 - 24,99 £)",
          "Preços médios (25.00 - 44.99 £)",
          "Preços baixos (10,00 - 24,99 £)",
          "Preços altos ( 45,00 - 59,99 £)",
          "Preços baixos (10,00 - 24,99 £)",
          "Preços altos ( 45,00 - 59,99 £)",
          "Preços baixos (10,00 - 24,99 £)",
          "Preços médios (25.00 - 44.99 £)",
          "Preços altos ( 45,00 - 59,99 £)",
          "Preços médios (25.00 - 44.99 £)",
          "Preços médios (25.00 - 44.99 £)",
          "Preços baixos (10,00 - 24,99 £)",
          "Preços médios (25.00 - 44.99 £)",
          "Preços altos ( 45,00 - 59,99 £)",
          "Preços baixos (10,00 - 24,99 £)",
          "Preços médios (25.00 - 44.99 £)",
          "Preços baixos (10,00 - 24,99 £)",
          "Preços médios (25.00 - 44.99 £)",
          "Preços altos ( 45,00 - 59,99 £)",
          "Preços baixos (10,00 - 24,99 £)",
          "Preços baixos (10,00 - 24,99 £)",
          "Preços médios (25.00 - 44.99 £)",
          "Preços médios (25.00 - 44.99 £)",
          "Preços baixos (10,00 - 24,99 £)",
          "Preços médios (25.00 - 44.99 £)",
          "Preços baixos (10,00 - 24,99 £)",
          "Preços baixos (10,00 - 24,99 £)",
          "Preços altos ( 45,00 - 59,99 £)",
          "Preços médios (25.00 - 44.99 £)",
          "Preços médios (25.00 - 44.99 £)",
          "Preços médios (25.00 - 44.99 £)",
          "Preços baixos (10,00 - 24,99 £)",
          "Preços médios (25.00 - 44.99 £)",
          "Preços altos ( 45,00 - 59,99 £)",
          "Preços médios (25.00 - 44.99 £)",
          "Preços altos ( 45,00 - 59,99 £)",
          "Preços baixos (10,00 - 24,99 £)",
          "Preços médios (25.00 - 44.99 £)",
          "Preços altos ( 45,00 - 59,99 £)",
          "Preços baixos (10,00 - 24,99 £)",
          "Preços baixos (10,00 - 24,99 £)",
          "Preços baixos (10,00 - 24,99 £)",
          "Preços baixos (10,00 - 24,99 £)",
          "Preços baixos (10,00 - 24,99 £)",
          "Preços médios (25.00 - 44.99 £)",
          "Preços médios (25.00 - 44.99 £)",
          "Preços altos ( 45,00 - 59,99 £)",
          "Preços altos ( 45,00 - 59,99 £)",
          "Preços baixos (10,00 - 24,99 £)",
          "Preços altos ( 45,00 - 59,99 £)",
          "Preços baixos (10,00 - 24,99 £)",
          "Preços médios (25.00 - 44.99 £)",
          "Preços médios (25.00 - 44.99 £)",
          "Preços altos ( 45,00 - 59,99 £)",
          "Preços médios (25.00 - 44.99 £)",
          "Preços baixos (10,00 - 24,99 £)",
          "Preços altos ( 45,00 - 59,99 £)",
          "Preços médios (25.00 - 44.99 £)",
          "Preços altos ( 45,00 - 59,99 £)",
          "Preços médios (25.00 - 44.99 £)",
          "Preços altos ( 45,00 - 59,99 £)",
          "Preços baixos (10,00 - 24,99 £)",
          "Preços médios (25.00 - 44.99 £)",
          "Preços médios (25.00 - 44.99 £)",
          "Preços médios (25.00 - 44.99 £)",
          "Preços baixos (10,00 - 24,99 £)",
          "Preços médios (25.00 - 44.99 £)",
          "Preços médios (25.00 - 44.99 £)",
          "Preços médios (25.00 - 44.99 £)",
          "Preços altos ( 45,00 - 59,99 £)",
          "Preços médios (25.00 - 44.99 £)",
          "Preços médios (25.00 - 44.99 £)",
          "Preços altos ( 45,00 - 59,99 £)",
          "Preços médios (25.00 - 44.99 £)",
          "Preços altos ( 45,00 - 59,99 £)",
          "Preços médios (25.00 - 44.99 £)",
          "Preços altos ( 45,00 - 59,99 £)",
          "Preços altos ( 45,00 - 59,99 £)",
          "Preços médios (25.00 - 44.99 £)",
          "Preços baixos (10,00 - 24,99 £)",
          "Preços médios (25.00 - 44.99 £)",
          "Preços médios (25.00 - 44.99 £)",
          "Preços baixos (10,00 - 24,99 £)",
          "Preços baixos (10,00 - 24,99 £)",
          "Preços baixos (10,00 - 24,99 £)",
          "Preços baixos (10,00 - 24,99 £)",
          "Preços baixos (10,00 - 24,99 £)",
          "Preços baixos (10,00 - 24,99 £)",
          "Preços altos ( 45,00 - 59,99 £)",
          "Preços médios (25.00 - 44.99 £)",
          "Preços médios (25.00 - 44.99 £)",
          "Preços baixos (10,00 - 24,99 £)",
          "Preços médios (25.00 - 44.99 £)",
          "Preços médios (25.00 - 44.99 £)",
          "Preços baixos (10,00 - 24,99 £)",
          "Preços médios (25.00 - 44.99 £)",
          "Preços altos ( 45,00 - 59,99 £)",
          "Preços baixos (10,00 - 24,99 £)",
          "Preços médios (25.00 - 44.99 £)",
          "Preços médios (25.00 - 44.99 £)",
          "Preços médios (25.00 - 44.99 £)",
          "Preços médios (25.00 - 44.99 £)",
          "Preços altos ( 45,00 - 59,99 £)",
          "Preços baixos (10,00 - 24,99 £)",
          "Preços baixos (10,00 - 24,99 £)",
          "Preços médios (25.00 - 44.99 £)",
          "Preços médios (25.00 - 44.99 £)",
          "Preços altos ( 45,00 - 59,99 £)",
          "Preços médios (25.00 - 44.99 £)",
          "Preços altos ( 45,00 - 59,99 £)",
          "Preços médios (25.00 - 44.99 £)",
          "Preços altos ( 45,00 - 59,99 £)",
          "Preços altos ( 45,00 - 59,99 £)",
          "Preços médios (25.00 - 44.99 £)",
          "Preços médios (25.00 - 44.99 £)",
          "Preços médios (25.00 - 44.99 £)",
          "Preços médios (25.00 - 44.99 £)",
          "Preços médios (25.00 - 44.99 £)",
          "Preços baixos (10,00 - 24,99 £)",
          "Preços altos ( 45,00 - 59,99 £)",
          "Preços altos ( 45,00 - 59,99 £)",
          "Preços médios (25.00 - 44.99 £)",
          "Preços médios (25.00 - 44.99 £)",
          "Preços médios (25.00 - 44.99 £)",
          "Preços altos ( 45,00 - 59,99 £)",
          "Preços médios (25.00 - 44.99 £)",
          "Preços altos ( 45,00 - 59,99 £)",
          "Preços médios (25.00 - 44.99 £)",
          "Preços médios (25.00 - 44.99 £)",
          "Preços médios (25.00 - 44.99 £)",
          "Preços médios (25.00 - 44.99 £)",
          "Preços médios (25.00 - 44.99 £)",
          "Preços altos ( 45,00 - 59,99 £)",
          "Preços altos ( 45,00 - 59,99 £)",
          "Preços médios (25.00 - 44.99 £)",
          "Preços baixos (10,00 - 24,99 £)",
          "Preços médios (25.00 - 44.99 £)",
          "Preços médios (25.00 - 44.99 £)",
          "Preços médios (25.00 - 44.99 £)",
          "Preços médios (25.00 - 44.99 £)",
          "Preços baixos (10,00 - 24,99 £)",
          "Preços médios (25.00 - 44.99 £)",
          "Preços médios (25.00 - 44.99 £)",
          "Preços altos ( 45,00 - 59,99 £)",
          "Preços altos ( 45,00 - 59,99 £)",
          "Preços baixos (10,00 - 24,99 £)",
          "Preços altos ( 45,00 - 59,99 £)",
          "Preços médios (25.00 - 44.99 £)"
         ],
         "legendgroup": "",
         "marker": {
          "colors": [
           "#D62728",
           "#D62728",
           "#D62728",
           "#D62728",
           "#D62728",
           "blue",
           "#9467BD",
           "blue",
           "blue",
           "#D62728",
           "blue",
           "blue",
           "blue",
           "#D62728",
           "#9467BD",
           "#D62728",
           "blue",
           "#9467BD",
           "#D62728",
           "#D62728",
           "blue",
           "#9467BD",
           "#9467BD",
           "#9467BD",
           "#9467BD",
           "#D62728",
           "blue",
           "#D62728",
           "#9467BD",
           "#9467BD",
           "blue",
           "#9467BD",
           "blue",
           "#9467BD",
           "blue",
           "#9467BD",
           "blue",
           "blue",
           "#D62728",
           "#9467BD",
           "#D62728",
           "#9467BD",
           "#D62728",
           "blue",
           "#D62728",
           "#9467BD",
           "#D62728",
           "blue",
           "#9467BD",
           "blue",
           "#9467BD",
           "blue",
           "#9467BD",
           "blue",
           "blue",
           "blue",
           "#D62728",
           "#D62728",
           "#D62728",
           "#D62728",
           "#9467BD",
           "#D62728",
           "#9467BD",
           "blue",
           "blue",
           "blue",
           "#9467BD",
           "#D62728",
           "#D62728",
           "#D62728",
           "#9467BD",
           "blue",
           "#9467BD",
           "#9467BD",
           "#9467BD",
           "#9467BD",
           "#9467BD",
           "#D62728",
           "blue",
           "#D62728",
           "blue",
           "blue",
           "blue",
           "#9467BD",
           "blue",
           "blue",
           "#D62728",
           "#D62728",
           "blue",
           "blue",
           "#9467BD",
           "#D62728",
           "blue",
           "#D62728",
           "#D62728",
           "blue",
           "#9467BD",
           "#D62728",
           "#9467BD",
           "blue",
           "#D62728",
           "#9467BD",
           "#D62728",
           "#D62728",
           "#9467BD",
           "blue",
           "#9467BD",
           "blue",
           "blue",
           "#D62728",
           "#9467BD",
           "#D62728",
           "#9467BD",
           "#9467BD",
           "blue",
           "#9467BD",
           "#9467BD",
           "#D62728",
           "#9467BD",
           "#9467BD",
           "#9467BD",
           "#9467BD",
           "#D62728",
           "blue",
           "#D62728",
           "#9467BD",
           "#D62728",
           "#D62728",
           "blue",
           "#9467BD",
           "blue",
           "#9467BD",
           "#9467BD",
           "#D62728",
           "#D62728",
           "#D62728",
           "blue",
           "#9467BD",
           "blue",
           "blue",
           "#9467BD",
           "#9467BD",
           "#D62728",
           "#9467BD",
           "blue",
           "#9467BD",
           "#9467BD",
           "#9467BD",
           "#9467BD",
           "#9467BD",
           "#D62728",
           "#9467BD",
           "blue",
           "#9467BD",
           "#9467BD",
           "#9467BD",
           "#D62728",
           "blue",
           "blue",
           "#9467BD",
           "#9467BD",
           "#9467BD",
           "#9467BD",
           "blue",
           "#9467BD",
           "#D62728",
           "blue",
           "#9467BD",
           "blue",
           "blue",
           "#9467BD",
           "blue",
           "#9467BD",
           "#9467BD",
           "blue",
           "#9467BD",
           "blue",
           "#9467BD",
           "#9467BD",
           "#9467BD",
           "#9467BD",
           "blue",
           "blue",
           "blue",
           "#D62728",
           "blue",
           "#D62728",
           "#9467BD",
           "blue",
           "#D62728",
           "#9467BD",
           "blue",
           "#9467BD",
           "#D62728",
           "#9467BD",
           "#D62728",
           "#9467BD",
           "#9467BD",
           "#9467BD",
           "#9467BD",
           "blue",
           "blue",
           "#D62728",
           "#9467BD",
           "#9467BD",
           "#9467BD",
           "blue",
           "#9467BD",
           "blue",
           "blue",
           "#D62728",
           "blue",
           "#9467BD",
           "#D62728",
           "blue",
           "blue",
           "#9467BD",
           "#9467BD",
           "blue",
           "#D62728",
           "#9467BD",
           "blue",
           "#D62728",
           "blue",
           "#9467BD",
           "#D62728",
           "#D62728",
           "blue",
           "#9467BD",
           "#9467BD",
           "#9467BD",
           "#D62728",
           "#9467BD",
           "#9467BD",
           "#9467BD",
           "#D62728",
           "#D62728",
           "#9467BD",
           "#9467BD",
           "#D62728",
           "blue",
           "#9467BD",
           "blue",
           "#9467BD",
           "blue",
           "blue",
           "#D62728",
           "#9467BD",
           "#D62728",
           "#9467BD",
           "blue",
           "#9467BD",
           "#D62728",
           "#9467BD",
           "#9467BD",
           "blue",
           "#9467BD",
           "blue",
           "blue",
           "#D62728",
           "#D62728",
           "blue",
           "#9467BD",
           "#9467BD",
           "#9467BD",
           "#D62728",
           "#9467BD",
           "#D62728",
           "#D62728",
           "#D62728",
           "#D62728",
           "#9467BD",
           "blue",
           "#D62728",
           "blue",
           "#D62728",
           "blue",
           "blue",
           "blue",
           "#9467BD",
           "#9467BD",
           "blue",
           "#9467BD",
           "#9467BD",
           "#9467BD",
           "#9467BD",
           "#D62728",
           "#D62728",
           "#D62728",
           "blue",
           "#9467BD",
           "#D62728",
           "#9467BD",
           "blue",
           "blue",
           "#9467BD",
           "#9467BD",
           "blue",
           "blue",
           "#D62728",
           "#9467BD",
           "#D62728",
           "blue",
           "#9467BD",
           "#D62728",
           "#D62728",
           "blue",
           "#D62728",
           "#9467BD",
           "#D62728",
           "blue",
           "#D62728",
           "#D62728",
           "#D62728",
           "#9467BD",
           "#9467BD",
           "blue",
           "#9467BD",
           "#D62728",
           "#9467BD",
           "blue",
           "#9467BD",
           "#D62728",
           "blue",
           "#9467BD",
           "#D62728",
           "blue",
           "#D62728",
           "#9467BD",
           "#D62728",
           "#9467BD",
           "#D62728",
           "#9467BD",
           "#9467BD",
           "#D62728",
           "blue",
           "#D62728",
           "#D62728",
           "#9467BD",
           "#D62728",
           "#9467BD",
           "blue",
           "#D62728",
           "#D62728",
           "blue",
           "#D62728",
           "#9467BD",
           "#9467BD",
           "blue",
           "#D62728",
           "blue",
           "blue",
           "#9467BD",
           "#9467BD",
           "blue",
           "#9467BD",
           "blue",
           "#9467BD",
           "#9467BD",
           "#D62728",
           "#9467BD",
           "#9467BD",
           "#D62728",
           "#9467BD",
           "blue",
           "#D62728",
           "#D62728",
           "blue",
           "#D62728",
           "blue",
           "#D62728",
           "#9467BD",
           "#9467BD",
           "#9467BD",
           "blue",
           "#D62728",
           "#D62728",
           "#9467BD",
           "blue",
           "#D62728",
           "blue",
           "#9467BD",
           "blue",
           "#D62728",
           "#D62728",
           "#9467BD",
           "#D62728",
           "#D62728",
           "#9467BD",
           "#9467BD",
           "#D62728",
           "#9467BD",
           "blue",
           "#D62728",
           "blue",
           "#D62728",
           "#D62728",
           "blue",
           "blue",
           "#D62728",
           "blue",
           "blue",
           "#9467BD",
           "blue",
           "#D62728",
           "#9467BD",
           "blue",
           "#D62728",
           "#D62728",
           "#D62728",
           "blue",
           "blue",
           "blue",
           "blue",
           "blue",
           "blue",
           "blue",
           "#D62728",
           "blue",
           "#D62728",
           "#D62728",
           "#D62728",
           "#D62728",
           "blue",
           "#9467BD",
           "#9467BD",
           "blue",
           "blue",
           "#D62728",
           "blue",
           "#D62728",
           "#D62728",
           "#D62728",
           "#9467BD",
           "blue",
           "#D62728",
           "blue",
           "#9467BD",
           "#9467BD",
           "#9467BD",
           "#9467BD",
           "#D62728",
           "#D62728",
           "#D62728",
           "#9467BD",
           "#9467BD",
           "blue",
           "#9467BD",
           "#9467BD",
           "#9467BD",
           "#9467BD",
           "#9467BD",
           "#9467BD",
           "#D62728",
           "#9467BD",
           "#9467BD",
           "#9467BD",
           "#9467BD",
           "#D62728",
           "#9467BD",
           "blue",
           "blue",
           "#D62728",
           "#9467BD",
           "#D62728",
           "#9467BD",
           "#D62728",
           "#9467BD",
           "#9467BD",
           "blue",
           "#9467BD",
           "#9467BD",
           "#D62728",
           "#D62728",
           "blue",
           "#D62728",
           "#9467BD",
           "blue",
           "#9467BD",
           "blue",
           "#D62728",
           "#D62728",
           "#9467BD",
           "#9467BD",
           "#9467BD",
           "blue",
           "blue",
           "#D62728",
           "#D62728",
           "blue",
           "#D62728",
           "#9467BD",
           "blue",
           "blue",
           "#9467BD",
           "#D62728",
           "#9467BD",
           "#9467BD",
           "#9467BD",
           "#9467BD",
           "#9467BD",
           "blue",
           "#9467BD",
           "#D62728",
           "blue",
           "#9467BD",
           "#9467BD",
           "blue",
           "#9467BD",
           "#D62728",
           "#9467BD",
           "#9467BD",
           "blue",
           "blue",
           "blue",
           "#9467BD",
           "#D62728",
           "#D62728",
           "#9467BD",
           "#9467BD",
           "#D62728",
           "blue",
           "#9467BD",
           "#D62728",
           "#9467BD",
           "blue",
           "#D62728",
           "#9467BD",
           "#D62728",
           "#D62728",
           "#9467BD",
           "#9467BD",
           "blue",
           "#D62728",
           "#D62728",
           "blue",
           "blue",
           "blue",
           "#D62728",
           "#9467BD",
           "#D62728",
           "#9467BD",
           "#9467BD",
           "#D62728",
           "#9467BD",
           "#D62728",
           "#9467BD",
           "#D62728",
           "blue",
           "#D62728",
           "#9467BD",
           "#9467BD",
           "#9467BD",
           "blue",
           "#9467BD",
           "blue",
           "#D62728",
           "blue",
           "blue",
           "blue",
           "#D62728",
           "#D62728",
           "#9467BD",
           "blue",
           "#D62728",
           "#D62728",
           "blue",
           "#9467BD",
           "#D62728",
           "#D62728",
           "blue",
           "#9467BD",
           "#D62728",
           "blue",
           "#9467BD",
           "#9467BD",
           "#D62728",
           "#9467BD",
           "blue",
           "#D62728",
           "#9467BD",
           "#D62728",
           "#D62728",
           "#9467BD",
           "#D62728",
           "blue",
           "#9467BD",
           "blue",
           "#9467BD",
           "#D62728",
           "blue",
           "#9467BD",
           "#9467BD",
           "blue",
           "#D62728",
           "blue",
           "#D62728",
           "#D62728",
           "#D62728",
           "#9467BD",
           "#9467BD",
           "blue",
           "#9467BD",
           "blue",
           "#D62728",
           "#9467BD",
           "#9467BD",
           "#9467BD",
           "blue",
           "blue",
           "blue",
           "blue",
           "#9467BD",
           "blue",
           "blue",
           "blue",
           "blue",
           "#D62728",
           "#9467BD",
           "blue",
           "#D62728",
           "#9467BD",
           "#9467BD",
           "blue",
           "blue",
           "#9467BD",
           "blue",
           "blue",
           "#9467BD",
           "#9467BD",
           "#9467BD",
           "#D62728",
           "#D62728",
           "#9467BD",
           "blue",
           "blue",
           "#9467BD",
           "#D62728",
           "blue",
           "#D62728",
           "#D62728",
           "#9467BD",
           "#D62728",
           "blue",
           "blue",
           "#D62728",
           "#9467BD",
           "#D62728",
           "#D62728",
           "#9467BD",
           "#9467BD",
           "#9467BD",
           "blue",
           "blue",
           "#9467BD",
           "#D62728",
           "#9467BD",
           "#D62728",
           "#D62728",
           "blue",
           "#D62728",
           "#D62728",
           "blue",
           "blue",
           "blue",
           "blue",
           "#D62728",
           "blue",
           "#9467BD",
           "#9467BD",
           "#9467BD",
           "blue",
           "blue",
           "#9467BD",
           "#D62728",
           "blue",
           "#9467BD",
           "#9467BD",
           "#9467BD",
           "#D62728",
           "#9467BD",
           "blue",
           "#D62728",
           "blue",
           "#D62728",
           "blue",
           "#9467BD",
           "#D62728",
           "#D62728",
           "#D62728",
           "#9467BD",
           "#D62728",
           "#9467BD",
           "blue",
           "blue",
           "#D62728",
           "blue",
           "#9467BD",
           "#9467BD",
           "blue",
           "#9467BD",
           "blue",
           "#D62728",
           "blue",
           "#D62728",
           "#9467BD",
           "#9467BD",
           "#9467BD",
           "#9467BD",
           "#D62728",
           "blue",
           "blue",
           "#D62728",
           "blue",
           "#D62728",
           "blue",
           "blue",
           "#D62728",
           "#D62728",
           "blue",
           "blue",
           "#D62728",
           "#D62728",
           "blue",
           "#9467BD",
           "blue",
           "#9467BD",
           "#9467BD",
           "#9467BD",
           "blue",
           "#9467BD",
           "#9467BD",
           "#D62728",
           "#9467BD",
           "#9467BD",
           "#D62728",
           "#9467BD",
           "blue",
           "#D62728",
           "#9467BD",
           "#9467BD",
           "#D62728",
           "#9467BD",
           "#9467BD",
           "#D62728",
           "#D62728",
           "blue",
           "#D62728",
           "#9467BD",
           "blue",
           "#D62728",
           "blue",
           "#D62728",
           "#9467BD",
           "blue",
           "blue",
           "#D62728",
           "#9467BD",
           "#D62728",
           "#9467BD",
           "blue",
           "blue",
           "#9467BD",
           "#9467BD",
           "blue",
           "blue",
           "#D62728",
           "#D62728",
           "#9467BD",
           "#D62728",
           "blue",
           "#9467BD",
           "blue",
           "#9467BD",
           "#9467BD",
           "#D62728",
           "#D62728",
           "#D62728",
           "blue",
           "#D62728",
           "#D62728",
           "#9467BD",
           "blue",
           "#D62728",
           "blue",
           "blue",
           "#D62728",
           "#9467BD",
           "#9467BD",
           "blue",
           "#9467BD",
           "blue",
           "#9467BD",
           "#9467BD",
           "#9467BD",
           "#D62728",
           "blue",
           "#9467BD",
           "blue",
           "#9467BD",
           "#9467BD",
           "blue",
           "#9467BD",
           "#9467BD",
           "#9467BD",
           "#D62728",
           "#D62728",
           "#D62728",
           "#9467BD",
           "blue",
           "blue",
           "#9467BD",
           "#D62728",
           "#9467BD",
           "blue",
           "#D62728",
           "#9467BD",
           "#9467BD",
           "#D62728",
           "#D62728",
           "#9467BD",
           "#9467BD",
           "blue",
           "#D62728",
           "#9467BD",
           "#9467BD",
           "#D62728",
           "blue",
           "#9467BD",
           "#9467BD",
           "#9467BD",
           "#D62728",
           "#9467BD",
           "#D62728",
           "#9467BD",
           "blue",
           "#9467BD",
           "#9467BD",
           "#9467BD",
           "#9467BD",
           "#D62728",
           "#D62728",
           "#D62728",
           "blue",
           "blue",
           "#9467BD",
           "#9467BD",
           "#9467BD",
           "blue",
           "#D62728",
           "#D62728",
           "#D62728",
           "blue",
           "#9467BD",
           "blue",
           "#D62728",
           "blue",
           "#D62728",
           "blue",
           "#9467BD",
           "#D62728",
           "#9467BD",
           "#9467BD",
           "blue",
           "#9467BD",
           "#D62728",
           "blue",
           "#9467BD",
           "blue",
           "#9467BD",
           "#D62728",
           "blue",
           "blue",
           "#9467BD",
           "#9467BD",
           "blue",
           "#9467BD",
           "blue",
           "blue",
           "#D62728",
           "#9467BD",
           "#9467BD",
           "#9467BD",
           "blue",
           "#9467BD",
           "#D62728",
           "#9467BD",
           "#D62728",
           "blue",
           "#9467BD",
           "#D62728",
           "blue",
           "blue",
           "blue",
           "blue",
           "blue",
           "#9467BD",
           "#9467BD",
           "#D62728",
           "#D62728",
           "blue",
           "#D62728",
           "blue",
           "#9467BD",
           "#9467BD",
           "#D62728",
           "#9467BD",
           "blue",
           "#D62728",
           "#9467BD",
           "#D62728",
           "#9467BD",
           "#D62728",
           "blue",
           "#9467BD",
           "#9467BD",
           "#9467BD",
           "blue",
           "#9467BD",
           "#9467BD",
           "#9467BD",
           "#D62728",
           "#9467BD",
           "#9467BD",
           "#D62728",
           "#9467BD",
           "#D62728",
           "#9467BD",
           "#D62728",
           "#D62728",
           "#9467BD",
           "blue",
           "#9467BD",
           "#9467BD",
           "blue",
           "blue",
           "blue",
           "blue",
           "blue",
           "blue",
           "#D62728",
           "#9467BD",
           "#9467BD",
           "blue",
           "#9467BD",
           "#9467BD",
           "blue",
           "#9467BD",
           "#D62728",
           "blue",
           "#9467BD",
           "#9467BD",
           "#9467BD",
           "#9467BD",
           "#D62728",
           "blue",
           "blue",
           "#9467BD",
           "#9467BD",
           "#D62728",
           "#9467BD",
           "#D62728",
           "#9467BD",
           "#D62728",
           "#D62728",
           "#9467BD",
           "#9467BD",
           "#9467BD",
           "#9467BD",
           "#9467BD",
           "blue",
           "#D62728",
           "#D62728",
           "#9467BD",
           "#9467BD",
           "#9467BD",
           "#D62728",
           "#9467BD",
           "#D62728",
           "#9467BD",
           "#9467BD",
           "#9467BD",
           "#9467BD",
           "#9467BD",
           "#D62728",
           "#D62728",
           "#9467BD",
           "blue",
           "#9467BD",
           "#9467BD",
           "#9467BD",
           "#9467BD",
           "blue",
           "#9467BD",
           "#9467BD",
           "#D62728",
           "#D62728",
           "blue",
           "#D62728",
           "#9467BD"
          ]
         },
         "name": "",
         "showlegend": true,
         "type": "pie",
         "values": [
          51.77,
          53.74,
          50.1,
          47.82,
          54.23,
          22.65,
          33.34,
          17.93,
          22.6,
          52.15,
          13.99,
          20.66,
          17.46,
          52.29,
          35.02,
          57.25,
          23.88,
          37.59,
          51.33,
          45.17,
          12.84,
          37.32,
          30.52,
          25.27,
          34.53,
          54.64,
          22.5,
          53.13,
          40.3,
          44.18,
          17.66,
          31.05,
          23.82,
          36.89,
          15.94,
          33.29,
          18.02,
          19.63,
          52.22,
          33.63,
          57.31,
          26.41,
          47.61,
          23.11,
          45.07,
          31.77,
          50.27,
          14.27,
          44.18,
          18.78,
          25.52,
          16.28,
          31.12,
          19.49,
          17.27,
          19.09,
          56.13,
          56.41,
          56.5,
          45.22,
          38.16,
          54.11,
          42.96,
          23.89,
          16.77,
          20.59,
          37.13,
          56.06,
          58.11,
          49.05,
          40.76,
          19.73,
          32.24,
          41.83,
          39.58,
          39.25,
          25.02,
          51.04,
          19.83,
          50.4,
          13.61,
          13.34,
          18.97,
          36.28,
          10.16,
          15.44,
          48.41,
          46.35,
          14.07,
          14.86,
          33.37,
          56.4,
          14.02,
          46.91,
          45.61,
          19.92,
          40.11,
          53.9,
          35.67,
          22,
          57.36,
          29.17,
          54.63,
          46.03,
          33.97,
          22.11,
          29.69,
          15.97,
          21.96,
          54.35,
          37.97,
          51.99,
          43.29,
          36.72,
          17.08,
          29.14,
          28.81,
          49.46,
          37.92,
          28.09,
          30.81,
          42.95,
          56.76,
          16.64,
          55.53,
          28.13,
          52.37,
          54,
          21.87,
          43.3,
          21.04,
          41.6,
          35.07,
          59.64,
          52.72,
          58.08,
          24.12,
          42.15,
          12.61,
          17.44,
          33.14,
          27.37,
          51.36,
          36,
          10.65,
          43.54,
          38.21,
          37.34,
          44.1,
          43.29,
          55.85,
          37.6,
          10.97,
          41.82,
          36.95,
          44.28,
          55.02,
          17.24,
          23.15,
          41.25,
          32,
          38.49,
          33.34,
          10.93,
          27.55,
          55.99,
          16.24,
          26.12,
          12.23,
          23.99,
          29.06,
          20.27,
          43.55,
          36.94,
          20.47,
          41.06,
          14.19,
          38.28,
          41.05,
          30.25,
          28.26,
          10.76,
          16.85,
          13.47,
          48.56,
          19.15,
          57.36,
          42.98,
          22.16,
          49.43,
          29.99,
          21.36,
          29,
          53.53,
          41.62,
          54.59,
          34.95,
          37.72,
          35.61,
          42.16,
          19.19,
          19.43,
          49.46,
          37.8,
          30.8,
          27.43,
          11.11,
          36.5,
          15.38,
          15.48,
          46.82,
          18.46,
          36.58,
          50.54,
          12.51,
          24.7,
          43.61,
          37.34,
          14.36,
          52.65,
          38.2,
          19.6,
          53.9,
          12.96,
          37.1,
          46.31,
          45.95,
          22.08,
          25.38,
          27.12,
          43.04,
          56.8,
          25.91,
          32.61,
          27.88,
          52.67,
          46.02,
          44.48,
          37.4,
          54.04,
          16.88,
          28.08,
          10.4,
          44.07,
          23.4,
          17.43,
          54.21,
          40.67,
          52.26,
          28.77,
          13.82,
          25.85,
          48.78,
          35.35,
          44.73,
          15.77,
          39.24,
          13.92,
          10.69,
          45.21,
          45.58,
          11.89,
          26.41,
          39.5,
          44.74,
          52.79,
          35.43,
          55.84,
          48.87,
          46.78,
          47.82,
          25.48,
          23.57,
          50.89,
          10.56,
          52.15,
          18.28,
          11.83,
          21.95,
          38.39,
          41.56,
          24.48,
          40.36,
          28.9,
          37.61,
          38.85,
          53.95,
          49.83,
          51.51,
          18.03,
          29.14,
          46.91,
          26.79,
          16.28,
          19.55,
          29.65,
          25.98,
          10.6,
          14.75,
          47.02,
          28.82,
          58.79,
          10.23,
          30.03,
          45.84,
          49.05,
          15.06,
          46.47,
          27.09,
          57.62,
          14.39,
          51.75,
          54.07,
          55.35,
          40.12,
          37.51,
          11.21,
          36.58,
          47.72,
          25.01,
          22.13,
          44.14,
          56.02,
          11.23,
          43.28,
          47.27,
          20.29,
          50.83,
          31.85,
          46.23,
          37.8,
          49.32,
          32.01,
          28.01,
          50.62,
          17.03,
          48.8,
          58.14,
          34.2,
          51.48,
          29.87,
          10.9,
          56.37,
          48.35,
          16.73,
          56.48,
          40.79,
          39.72,
          14.58,
          55.51,
          21.8,
          13.33,
          38.73,
          37.86,
          11.53,
          27.06,
          13.86,
          37.55,
          32.3,
          46.29,
          26.2,
          33.26,
          59.15,
          39.43,
          14.44,
          56.54,
          59.9,
          11.88,
          48.05,
          21.21,
          49.67,
          43.14,
          36.97,
          26.8,
          15.71,
          54.65,
          54.36,
          35.28,
          20.55,
          58.32,
          11.84,
          41.46,
          20.1,
          56.86,
          56.51,
          40.83,
          48.64,
          59.48,
          39.01,
          38.77,
          48.39,
          27.26,
          11.68,
          59.45,
          21,
          53.98,
          48.74,
          21.15,
          13.71,
          47.67,
          13.34,
          16.89,
          27.18,
          17.28,
          45.14,
          40.85,
          20.46,
          56.27,
          48.49,
          51.34,
          16.34,
          20.5,
          21.59,
          21.36,
          20.88,
          19.53,
          14.75,
          48.48,
          24.57,
          49.71,
          48.27,
          58.05,
          58.87,
          11.82,
          28.03,
          44.05,
          12.34,
          16.68,
          55.91,
          24.57,
          52.98,
          54.4,
          54.81,
          25.08,
          10.41,
          47.44,
          20.91,
          33.95,
          43.68,
          33.23,
          35.92,
          48.63,
          56.63,
          50.49,
          35.79,
          34.06,
          17.76,
          39.36,
          36.94,
          43.62,
          43.02,
          28.45,
          41.39,
          51.15,
          35.88,
          36.91,
          28.93,
          38.89,
          58.33,
          39.67,
          14.1,
          21.82,
          54.21,
          31.19,
          53.64,
          36.39,
          58.54,
          29.48,
          25.06,
          12.55,
          29.04,
          40.72,
          45.05,
          47.13,
          20.22,
          56.48,
          44.21,
          21.96,
          40.45,
          10.29,
          52.86,
          55.65,
          43.64,
          28.41,
          37.51,
          11.45,
          19.22,
          56.91,
          55.06,
          13.2,
          53.63,
          44.48,
          12.08,
          22.14,
          25.37,
          46.33,
          37.33,
          25.55,
          34.72,
          35.96,
          41.14,
          10.01,
          36.05,
          49.03,
          16.24,
          39.55,
          35.67,
          16.62,
          42.78,
          52.3,
          32.34,
          33.17,
          20.12,
          20.9,
          20.9,
          40.2,
          52.87,
          51.74,
          34.41,
          32.38,
          50.35,
          11.38,
          43.58,
          49.67,
          28.77,
          13.22,
          51.17,
          39.61,
          57.43,
          46.01,
          28.25,
          37.05,
          19.57,
          45.13,
          46.64,
          12.16,
          20.89,
          17.97,
          52.6,
          25.77,
          48.19,
          29.93,
          44.34,
          52.4,
          44.81,
          57.84,
          39.67,
          55.02,
          24.8,
          59.45,
          31.58,
          43.27,
          37.34,
          17.8,
          30.54,
          18.77,
          46.85,
          15.79,
          10.27,
          15.42,
          59.92,
          50.96,
          30.6,
          19.27,
          46.58,
          48.51,
          19.02,
          38.38,
          49.98,
          46.49,
          18.32,
          42.14,
          56.59,
          20.96,
          40.32,
          36.39,
          58.55,
          39.61,
          21.3,
          56.88,
          32.97,
          47.31,
          48.67,
          41.73,
          53.68,
          14.64,
          38.4,
          15.08,
          30.57,
          57.74,
          11.05,
          28.58,
          42.91,
          24.73,
          55.91,
          13.76,
          45.56,
          47.22,
          56,
          44.58,
          34.5,
          11.33,
          38.77,
          11.83,
          45.51,
          41.81,
          25.15,
          34.22,
          16.23,
          11.48,
          23.37,
          16.28,
          31.63,
          24.91,
          22.54,
          23.63,
          13.12,
          59.98,
          31.49,
          15.52,
          48.13,
          38.13,
          36.55,
          23.32,
          16.33,
          32.42,
          16.96,
          22.37,
          42.27,
          38.7,
          35.63,
          58,
          52.41,
          32.35,
          20.75,
          17.49,
          34.13,
          58.81,
          10,
          51.22,
          58.59,
          31.3,
          46.42,
          17.21,
          10.79,
          52.35,
          27.88,
          50.26,
          59.99,
          28.32,
          38.71,
          29.85,
          14.82,
          16.81,
          28.23,
          52.11,
          27.88,
          59.71,
          46.08,
          13.73,
          48.39,
          49.45,
          19.67,
          12.36,
          20.02,
          12.75,
          47.51,
          20.44,
          34.79,
          28.07,
          25.01,
          13.9,
          24.17,
          31.63,
          48.75,
          14.74,
          32.49,
          27.8,
          26.77,
          50.44,
          34.93,
          12.87,
          48.94,
          13.38,
          58.63,
          21.94,
          26.58,
          57.22,
          56.43,
          55.65,
          27.62,
          49.56,
          34.77,
          17.73,
          21.8,
          46.02,
          18.13,
          30.89,
          31.95,
          24.04,
          32.36,
          21.07,
          50.66,
          13.66,
          58.09,
          30,
          32.74,
          41.93,
          42.8,
          53.51,
          23.21,
          21.14,
          56.07,
          14.41,
          45.75,
          15.77,
          10.02,
          48.77,
          57.86,
          23.59,
          23.05,
          55.55,
          58.64,
          23.21,
          42.57,
          10.92,
          34.77,
          35.66,
          37.19,
          12.25,
          29.7,
          36.8,
          45.43,
          26.26,
          44.92,
          52.53,
          37.25,
          20.93,
          58.09,
          43.59,
          33.92,
          55.55,
          29.64,
          27.41,
          52.51,
          47.8,
          14.54,
          49.53,
          43.58,
          12.3,
          49.47,
          22.14,
          57.48,
          43.45,
          22.13,
          13.03,
          57.35,
          44.29,
          52.25,
          26.33,
          22.96,
          19.21,
          26.78,
          41.32,
          24.55,
          16.26,
          47.84,
          53.49,
          44.84,
          53.71,
          23.43,
          34.32,
          22.1,
          25.83,
          36.74,
          49.51,
          48.96,
          54.62,
          24.72,
          46.45,
          52.33,
          30.6,
          14.57,
          46.29,
          21.57,
          12.91,
          50.11,
          41.67,
          44.88,
          11.1,
          28.54,
          19.07,
          43.55,
          43.63,
          39.13,
          56.68,
          14.16,
          31.45,
          24.61,
          32.87,
          40.17,
          13.51,
          38.95,
          31.69,
          29.4,
          57.83,
          55.46,
          57.6,
          34.98,
          11.87,
          12.47,
          33.26,
          59.04,
          26.13,
          22.2,
          45.11,
          43.69,
          25.02,
          55.5,
          53.04,
          44.97,
          42.38,
          20.11,
          56.7,
          41,
          28.85,
          49.97,
          19.69,
          28.88,
          33.14,
          43.7,
          54.89,
          37.52,
          51.07,
          44.07,
          10.79,
          42.72,
          26.66,
          37.6,
          42.21,
          46.83,
          45.17,
          51.22,
          21.28,
          15.36,
          38.62,
          25.4,
          43.87,
          18.74,
          54.86,
          52.62,
          51.48,
          15.28,
          39.24,
          17.81,
          56.02,
          23.9,
          49.13,
          10.62,
          36.17,
          59.95,
          26.09,
          37.35,
          24.72,
          35.28,
          51.32,
          21.12,
          27.35,
          21.74,
          40.87,
          49.31,
          22.11,
          20.79,
          27.41,
          38.35,
          21.55,
          38.02,
          22.06,
          10.66,
          56.58,
          36.83,
          35.01,
          30.48,
          14.08,
          31.22,
          54.29,
          31.04,
          50.96,
          11.89,
          31.38,
          54.81,
          16.78,
          24.42,
          11.75,
          20.02,
          12.86,
          31.58,
          34,
          57.42,
          53.47,
          11.64,
          52.88,
          18.51,
          41.32,
          39.77,
          51.96,
          39.51,
          15.4,
          53.82,
          30.95,
          57.82,
          44.18,
          48.71,
          19.69,
          36.52,
          41.56,
          43.19,
          12.34,
          36.25,
          29.45,
          34.56,
          54.12,
          33.78,
          29.64,
          57.7,
          36.34,
          50.59,
          29.38,
          45.42,
          54.43,
          36.26,
          16.16,
          36.29,
          27.89,
          12.29,
          15.85,
          14.4,
          19.18,
          10.64,
          14.76,
          57.49,
          30.66,
          40.83,
          18.88,
          25.83,
          42.12,
          13.33,
          42.4,
          58.35,
          21.72,
          44.91,
          37.46,
          28.48,
          28.34,
          46.96,
          24.96,
          21.71,
          29.87,
          28.99,
          52.94,
          32.36,
          55.66,
          39.45,
          47.11,
          58.75,
          38.92,
          39.39,
          25.89,
          28.34,
          27.7,
          24.89,
          58.99,
          57.2,
          38.43,
          34.74,
          40.44,
          45.24,
          34.96,
          56.76,
          40.28,
          38,
          28.8,
          39.24,
          32.93,
          51.32,
          47.09,
          28.42,
          22.85,
          41.24,
          39.07,
          29.82,
          37.26,
          20.3,
          34.65,
          43.38,
          55.53,
          57.06,
          16.97,
          53.98,
          26.08
         ]
        }
       ],
       "layout": {
        "height": 400,
        "legend": {
         "tracegroupgap": 0
        },
        "template": {
         "data": {
          "pie": [
           {
            "automargin": true,
            "type": "pie"
           }
          ],
          "scatter": [
           {
            "line": {
             "width": 3
            },
            "marker": {
             "size": 9
            },
            "type": "scatter"
           }
          ],
          "scatter3d": [
           {
            "line": {
             "width": 3
            },
            "marker": {
             "size": 9
            },
            "type": "scatter3d"
           }
          ],
          "scattergeo": [
           {
            "line": {
             "width": 3
            },
            "marker": {
             "size": 9
            },
            "type": "scattergeo"
           }
          ],
          "scattergl": [
           {
            "line": {
             "width": 3
            },
            "marker": {
             "size": 9
            },
            "type": "scattergl"
           }
          ],
          "scatterpolar": [
           {
            "line": {
             "width": 3
            },
            "marker": {
             "size": 9
            },
            "type": "scatterpolar"
           }
          ],
          "scatterpolargl": [
           {
            "line": {
             "width": 3
            },
            "marker": {
             "size": 9
            },
            "type": "scatterpolargl"
           }
          ],
          "scatterternary": [
           {
            "line": {
             "width": 3
            },
            "marker": {
             "size": 9
            },
            "type": "scatterternary"
           }
          ],
          "table": [
           {
            "cells": {
             "height": 30
            },
            "header": {
             "height": 36
            },
            "type": "table"
           }
          ]
         },
         "layout": {
          "font": {
           "size": 18
          },
          "xaxis": {
           "title": {
            "standoff": 15
           }
          },
          "yaxis": {
           "title": {
            "standoff": 15
           }
          }
         }
        },
        "title": {
         "text": "Classificação dos livros por preço"
        },
        "width": 700
       }
      },
      "text/html": [
       "<div>                            <div id=\"94990cdc-f1f2-4b57-ad3b-8315d64f1418\" class=\"plotly-graph-div\" style=\"height:400px; width:700px;\"></div>            <script type=\"text/javascript\">                require([\"plotly\"], function(Plotly) {                    window.PLOTLYENV=window.PLOTLYENV || {};                                    if (document.getElementById(\"94990cdc-f1f2-4b57-ad3b-8315d64f1418\")) {                    Plotly.newPlot(                        \"94990cdc-f1f2-4b57-ad3b-8315d64f1418\",                        [{\"customdata\":[[\"Pre\\u00e7os altos ( 45,00 - 59,99 \\u00a3)\"],[\"Pre\\u00e7os altos ( 45,00 - 59,99 \\u00a3)\"],[\"Pre\\u00e7os altos ( 45,00 - 59,99 \\u00a3)\"],[\"Pre\\u00e7os altos ( 45,00 - 59,99 \\u00a3)\"],[\"Pre\\u00e7os altos ( 45,00 - 59,99 \\u00a3)\"],[\"Pre\\u00e7os baixos (10,00 - 24,99 \\u00a3)\"],[\"Pre\\u00e7os m\\u00e9dios (25.00 - 44.99 \\u00a3)\"],[\"Pre\\u00e7os baixos (10,00 - 24,99 \\u00a3)\"],[\"Pre\\u00e7os baixos (10,00 - 24,99 \\u00a3)\"],[\"Pre\\u00e7os altos ( 45,00 - 59,99 \\u00a3)\"],[\"Pre\\u00e7os baixos (10,00 - 24,99 \\u00a3)\"],[\"Pre\\u00e7os baixos (10,00 - 24,99 \\u00a3)\"],[\"Pre\\u00e7os baixos (10,00 - 24,99 \\u00a3)\"],[\"Pre\\u00e7os altos ( 45,00 - 59,99 \\u00a3)\"],[\"Pre\\u00e7os m\\u00e9dios (25.00 - 44.99 \\u00a3)\"],[\"Pre\\u00e7os altos ( 45,00 - 59,99 \\u00a3)\"],[\"Pre\\u00e7os baixos (10,00 - 24,99 \\u00a3)\"],[\"Pre\\u00e7os m\\u00e9dios (25.00 - 44.99 \\u00a3)\"],[\"Pre\\u00e7os altos ( 45,00 - 59,99 \\u00a3)\"],[\"Pre\\u00e7os altos ( 45,00 - 59,99 \\u00a3)\"],[\"Pre\\u00e7os baixos (10,00 - 24,99 \\u00a3)\"],[\"Pre\\u00e7os m\\u00e9dios (25.00 - 44.99 \\u00a3)\"],[\"Pre\\u00e7os m\\u00e9dios (25.00 - 44.99 \\u00a3)\"],[\"Pre\\u00e7os m\\u00e9dios (25.00 - 44.99 \\u00a3)\"],[\"Pre\\u00e7os m\\u00e9dios (25.00 - 44.99 \\u00a3)\"],[\"Pre\\u00e7os altos ( 45,00 - 59,99 \\u00a3)\"],[\"Pre\\u00e7os baixos (10,00 - 24,99 \\u00a3)\"],[\"Pre\\u00e7os altos ( 45,00 - 59,99 \\u00a3)\"],[\"Pre\\u00e7os m\\u00e9dios (25.00 - 44.99 \\u00a3)\"],[\"Pre\\u00e7os m\\u00e9dios (25.00 - 44.99 \\u00a3)\"],[\"Pre\\u00e7os baixos (10,00 - 24,99 \\u00a3)\"],[\"Pre\\u00e7os m\\u00e9dios (25.00 - 44.99 \\u00a3)\"],[\"Pre\\u00e7os baixos (10,00 - 24,99 \\u00a3)\"],[\"Pre\\u00e7os m\\u00e9dios (25.00 - 44.99 \\u00a3)\"],[\"Pre\\u00e7os baixos (10,00 - 24,99 \\u00a3)\"],[\"Pre\\u00e7os m\\u00e9dios (25.00 - 44.99 \\u00a3)\"],[\"Pre\\u00e7os baixos (10,00 - 24,99 \\u00a3)\"],[\"Pre\\u00e7os baixos (10,00 - 24,99 \\u00a3)\"],[\"Pre\\u00e7os altos ( 45,00 - 59,99 \\u00a3)\"],[\"Pre\\u00e7os m\\u00e9dios (25.00 - 44.99 \\u00a3)\"],[\"Pre\\u00e7os altos ( 45,00 - 59,99 \\u00a3)\"],[\"Pre\\u00e7os m\\u00e9dios (25.00 - 44.99 \\u00a3)\"],[\"Pre\\u00e7os altos ( 45,00 - 59,99 \\u00a3)\"],[\"Pre\\u00e7os baixos (10,00 - 24,99 \\u00a3)\"],[\"Pre\\u00e7os altos ( 45,00 - 59,99 \\u00a3)\"],[\"Pre\\u00e7os m\\u00e9dios (25.00 - 44.99 \\u00a3)\"],[\"Pre\\u00e7os altos ( 45,00 - 59,99 \\u00a3)\"],[\"Pre\\u00e7os baixos (10,00 - 24,99 \\u00a3)\"],[\"Pre\\u00e7os m\\u00e9dios (25.00 - 44.99 \\u00a3)\"],[\"Pre\\u00e7os baixos (10,00 - 24,99 \\u00a3)\"],[\"Pre\\u00e7os m\\u00e9dios (25.00 - 44.99 \\u00a3)\"],[\"Pre\\u00e7os baixos (10,00 - 24,99 \\u00a3)\"],[\"Pre\\u00e7os m\\u00e9dios (25.00 - 44.99 \\u00a3)\"],[\"Pre\\u00e7os baixos (10,00 - 24,99 \\u00a3)\"],[\"Pre\\u00e7os baixos (10,00 - 24,99 \\u00a3)\"],[\"Pre\\u00e7os baixos (10,00 - 24,99 \\u00a3)\"],[\"Pre\\u00e7os altos ( 45,00 - 59,99 \\u00a3)\"],[\"Pre\\u00e7os altos ( 45,00 - 59,99 \\u00a3)\"],[\"Pre\\u00e7os altos ( 45,00 - 59,99 \\u00a3)\"],[\"Pre\\u00e7os altos ( 45,00 - 59,99 \\u00a3)\"],[\"Pre\\u00e7os m\\u00e9dios (25.00 - 44.99 \\u00a3)\"],[\"Pre\\u00e7os altos ( 45,00 - 59,99 \\u00a3)\"],[\"Pre\\u00e7os m\\u00e9dios (25.00 - 44.99 \\u00a3)\"],[\"Pre\\u00e7os baixos (10,00 - 24,99 \\u00a3)\"],[\"Pre\\u00e7os baixos (10,00 - 24,99 \\u00a3)\"],[\"Pre\\u00e7os baixos (10,00 - 24,99 \\u00a3)\"],[\"Pre\\u00e7os m\\u00e9dios (25.00 - 44.99 \\u00a3)\"],[\"Pre\\u00e7os altos ( 45,00 - 59,99 \\u00a3)\"],[\"Pre\\u00e7os altos ( 45,00 - 59,99 \\u00a3)\"],[\"Pre\\u00e7os altos ( 45,00 - 59,99 \\u00a3)\"],[\"Pre\\u00e7os m\\u00e9dios (25.00 - 44.99 \\u00a3)\"],[\"Pre\\u00e7os baixos (10,00 - 24,99 \\u00a3)\"],[\"Pre\\u00e7os m\\u00e9dios (25.00 - 44.99 \\u00a3)\"],[\"Pre\\u00e7os m\\u00e9dios (25.00 - 44.99 \\u00a3)\"],[\"Pre\\u00e7os m\\u00e9dios (25.00 - 44.99 \\u00a3)\"],[\"Pre\\u00e7os m\\u00e9dios (25.00 - 44.99 \\u00a3)\"],[\"Pre\\u00e7os m\\u00e9dios (25.00 - 44.99 \\u00a3)\"],[\"Pre\\u00e7os altos ( 45,00 - 59,99 \\u00a3)\"],[\"Pre\\u00e7os baixos (10,00 - 24,99 \\u00a3)\"],[\"Pre\\u00e7os altos ( 45,00 - 59,99 \\u00a3)\"],[\"Pre\\u00e7os baixos (10,00 - 24,99 \\u00a3)\"],[\"Pre\\u00e7os baixos (10,00 - 24,99 \\u00a3)\"],[\"Pre\\u00e7os baixos (10,00 - 24,99 \\u00a3)\"],[\"Pre\\u00e7os m\\u00e9dios (25.00 - 44.99 \\u00a3)\"],[\"Pre\\u00e7os baixos (10,00 - 24,99 \\u00a3)\"],[\"Pre\\u00e7os baixos (10,00 - 24,99 \\u00a3)\"],[\"Pre\\u00e7os altos ( 45,00 - 59,99 \\u00a3)\"],[\"Pre\\u00e7os altos ( 45,00 - 59,99 \\u00a3)\"],[\"Pre\\u00e7os baixos (10,00 - 24,99 \\u00a3)\"],[\"Pre\\u00e7os baixos (10,00 - 24,99 \\u00a3)\"],[\"Pre\\u00e7os m\\u00e9dios (25.00 - 44.99 \\u00a3)\"],[\"Pre\\u00e7os altos ( 45,00 - 59,99 \\u00a3)\"],[\"Pre\\u00e7os baixos (10,00 - 24,99 \\u00a3)\"],[\"Pre\\u00e7os altos ( 45,00 - 59,99 \\u00a3)\"],[\"Pre\\u00e7os altos ( 45,00 - 59,99 \\u00a3)\"],[\"Pre\\u00e7os baixos (10,00 - 24,99 \\u00a3)\"],[\"Pre\\u00e7os m\\u00e9dios (25.00 - 44.99 \\u00a3)\"],[\"Pre\\u00e7os altos ( 45,00 - 59,99 \\u00a3)\"],[\"Pre\\u00e7os m\\u00e9dios (25.00 - 44.99 \\u00a3)\"],[\"Pre\\u00e7os baixos (10,00 - 24,99 \\u00a3)\"],[\"Pre\\u00e7os altos ( 45,00 - 59,99 \\u00a3)\"],[\"Pre\\u00e7os m\\u00e9dios (25.00 - 44.99 \\u00a3)\"],[\"Pre\\u00e7os altos ( 45,00 - 59,99 \\u00a3)\"],[\"Pre\\u00e7os altos ( 45,00 - 59,99 \\u00a3)\"],[\"Pre\\u00e7os m\\u00e9dios (25.00 - 44.99 \\u00a3)\"],[\"Pre\\u00e7os baixos (10,00 - 24,99 \\u00a3)\"],[\"Pre\\u00e7os m\\u00e9dios (25.00 - 44.99 \\u00a3)\"],[\"Pre\\u00e7os baixos (10,00 - 24,99 \\u00a3)\"],[\"Pre\\u00e7os baixos (10,00 - 24,99 \\u00a3)\"],[\"Pre\\u00e7os altos ( 45,00 - 59,99 \\u00a3)\"],[\"Pre\\u00e7os m\\u00e9dios (25.00 - 44.99 \\u00a3)\"],[\"Pre\\u00e7os altos ( 45,00 - 59,99 \\u00a3)\"],[\"Pre\\u00e7os m\\u00e9dios (25.00 - 44.99 \\u00a3)\"],[\"Pre\\u00e7os m\\u00e9dios (25.00 - 44.99 \\u00a3)\"],[\"Pre\\u00e7os baixos (10,00 - 24,99 \\u00a3)\"],[\"Pre\\u00e7os m\\u00e9dios (25.00 - 44.99 \\u00a3)\"],[\"Pre\\u00e7os m\\u00e9dios (25.00 - 44.99 \\u00a3)\"],[\"Pre\\u00e7os altos ( 45,00 - 59,99 \\u00a3)\"],[\"Pre\\u00e7os m\\u00e9dios (25.00 - 44.99 \\u00a3)\"],[\"Pre\\u00e7os m\\u00e9dios (25.00 - 44.99 \\u00a3)\"],[\"Pre\\u00e7os m\\u00e9dios (25.00 - 44.99 \\u00a3)\"],[\"Pre\\u00e7os m\\u00e9dios (25.00 - 44.99 \\u00a3)\"],[\"Pre\\u00e7os altos ( 45,00 - 59,99 \\u00a3)\"],[\"Pre\\u00e7os baixos (10,00 - 24,99 \\u00a3)\"],[\"Pre\\u00e7os altos ( 45,00 - 59,99 \\u00a3)\"],[\"Pre\\u00e7os m\\u00e9dios (25.00 - 44.99 \\u00a3)\"],[\"Pre\\u00e7os altos ( 45,00 - 59,99 \\u00a3)\"],[\"Pre\\u00e7os altos ( 45,00 - 59,99 \\u00a3)\"],[\"Pre\\u00e7os baixos (10,00 - 24,99 \\u00a3)\"],[\"Pre\\u00e7os m\\u00e9dios (25.00 - 44.99 \\u00a3)\"],[\"Pre\\u00e7os baixos (10,00 - 24,99 \\u00a3)\"],[\"Pre\\u00e7os m\\u00e9dios (25.00 - 44.99 \\u00a3)\"],[\"Pre\\u00e7os m\\u00e9dios (25.00 - 44.99 \\u00a3)\"],[\"Pre\\u00e7os altos ( 45,00 - 59,99 \\u00a3)\"],[\"Pre\\u00e7os altos ( 45,00 - 59,99 \\u00a3)\"],[\"Pre\\u00e7os altos ( 45,00 - 59,99 \\u00a3)\"],[\"Pre\\u00e7os baixos (10,00 - 24,99 \\u00a3)\"],[\"Pre\\u00e7os m\\u00e9dios (25.00 - 44.99 \\u00a3)\"],[\"Pre\\u00e7os baixos (10,00 - 24,99 \\u00a3)\"],[\"Pre\\u00e7os baixos (10,00 - 24,99 \\u00a3)\"],[\"Pre\\u00e7os m\\u00e9dios (25.00 - 44.99 \\u00a3)\"],[\"Pre\\u00e7os m\\u00e9dios (25.00 - 44.99 \\u00a3)\"],[\"Pre\\u00e7os altos ( 45,00 - 59,99 \\u00a3)\"],[\"Pre\\u00e7os m\\u00e9dios (25.00 - 44.99 \\u00a3)\"],[\"Pre\\u00e7os baixos (10,00 - 24,99 \\u00a3)\"],[\"Pre\\u00e7os m\\u00e9dios (25.00 - 44.99 \\u00a3)\"],[\"Pre\\u00e7os m\\u00e9dios (25.00 - 44.99 \\u00a3)\"],[\"Pre\\u00e7os m\\u00e9dios (25.00 - 44.99 \\u00a3)\"],[\"Pre\\u00e7os m\\u00e9dios (25.00 - 44.99 \\u00a3)\"],[\"Pre\\u00e7os m\\u00e9dios (25.00 - 44.99 \\u00a3)\"],[\"Pre\\u00e7os altos ( 45,00 - 59,99 \\u00a3)\"],[\"Pre\\u00e7os m\\u00e9dios (25.00 - 44.99 \\u00a3)\"],[\"Pre\\u00e7os baixos (10,00 - 24,99 \\u00a3)\"],[\"Pre\\u00e7os m\\u00e9dios (25.00 - 44.99 \\u00a3)\"],[\"Pre\\u00e7os m\\u00e9dios (25.00 - 44.99 \\u00a3)\"],[\"Pre\\u00e7os m\\u00e9dios (25.00 - 44.99 \\u00a3)\"],[\"Pre\\u00e7os altos ( 45,00 - 59,99 \\u00a3)\"],[\"Pre\\u00e7os baixos (10,00 - 24,99 \\u00a3)\"],[\"Pre\\u00e7os baixos (10,00 - 24,99 \\u00a3)\"],[\"Pre\\u00e7os m\\u00e9dios (25.00 - 44.99 \\u00a3)\"],[\"Pre\\u00e7os m\\u00e9dios (25.00 - 44.99 \\u00a3)\"],[\"Pre\\u00e7os m\\u00e9dios (25.00 - 44.99 \\u00a3)\"],[\"Pre\\u00e7os m\\u00e9dios (25.00 - 44.99 \\u00a3)\"],[\"Pre\\u00e7os baixos (10,00 - 24,99 \\u00a3)\"],[\"Pre\\u00e7os m\\u00e9dios (25.00 - 44.99 \\u00a3)\"],[\"Pre\\u00e7os altos ( 45,00 - 59,99 \\u00a3)\"],[\"Pre\\u00e7os baixos (10,00 - 24,99 \\u00a3)\"],[\"Pre\\u00e7os m\\u00e9dios (25.00 - 44.99 \\u00a3)\"],[\"Pre\\u00e7os baixos (10,00 - 24,99 \\u00a3)\"],[\"Pre\\u00e7os baixos (10,00 - 24,99 \\u00a3)\"],[\"Pre\\u00e7os m\\u00e9dios (25.00 - 44.99 \\u00a3)\"],[\"Pre\\u00e7os baixos (10,00 - 24,99 \\u00a3)\"],[\"Pre\\u00e7os m\\u00e9dios (25.00 - 44.99 \\u00a3)\"],[\"Pre\\u00e7os m\\u00e9dios (25.00 - 44.99 \\u00a3)\"],[\"Pre\\u00e7os baixos (10,00 - 24,99 \\u00a3)\"],[\"Pre\\u00e7os m\\u00e9dios (25.00 - 44.99 \\u00a3)\"],[\"Pre\\u00e7os baixos (10,00 - 24,99 \\u00a3)\"],[\"Pre\\u00e7os m\\u00e9dios (25.00 - 44.99 \\u00a3)\"],[\"Pre\\u00e7os m\\u00e9dios (25.00 - 44.99 \\u00a3)\"],[\"Pre\\u00e7os m\\u00e9dios (25.00 - 44.99 \\u00a3)\"],[\"Pre\\u00e7os m\\u00e9dios (25.00 - 44.99 \\u00a3)\"],[\"Pre\\u00e7os baixos (10,00 - 24,99 \\u00a3)\"],[\"Pre\\u00e7os baixos (10,00 - 24,99 \\u00a3)\"],[\"Pre\\u00e7os baixos (10,00 - 24,99 \\u00a3)\"],[\"Pre\\u00e7os altos ( 45,00 - 59,99 \\u00a3)\"],[\"Pre\\u00e7os baixos (10,00 - 24,99 \\u00a3)\"],[\"Pre\\u00e7os altos ( 45,00 - 59,99 \\u00a3)\"],[\"Pre\\u00e7os m\\u00e9dios (25.00 - 44.99 \\u00a3)\"],[\"Pre\\u00e7os baixos (10,00 - 24,99 \\u00a3)\"],[\"Pre\\u00e7os altos ( 45,00 - 59,99 \\u00a3)\"],[\"Pre\\u00e7os m\\u00e9dios (25.00 - 44.99 \\u00a3)\"],[\"Pre\\u00e7os baixos (10,00 - 24,99 \\u00a3)\"],[\"Pre\\u00e7os m\\u00e9dios (25.00 - 44.99 \\u00a3)\"],[\"Pre\\u00e7os altos ( 45,00 - 59,99 \\u00a3)\"],[\"Pre\\u00e7os m\\u00e9dios (25.00 - 44.99 \\u00a3)\"],[\"Pre\\u00e7os altos ( 45,00 - 59,99 \\u00a3)\"],[\"Pre\\u00e7os m\\u00e9dios (25.00 - 44.99 \\u00a3)\"],[\"Pre\\u00e7os m\\u00e9dios (25.00 - 44.99 \\u00a3)\"],[\"Pre\\u00e7os m\\u00e9dios (25.00 - 44.99 \\u00a3)\"],[\"Pre\\u00e7os m\\u00e9dios (25.00 - 44.99 \\u00a3)\"],[\"Pre\\u00e7os baixos (10,00 - 24,99 \\u00a3)\"],[\"Pre\\u00e7os baixos (10,00 - 24,99 \\u00a3)\"],[\"Pre\\u00e7os altos ( 45,00 - 59,99 \\u00a3)\"],[\"Pre\\u00e7os m\\u00e9dios (25.00 - 44.99 \\u00a3)\"],[\"Pre\\u00e7os m\\u00e9dios (25.00 - 44.99 \\u00a3)\"],[\"Pre\\u00e7os m\\u00e9dios (25.00 - 44.99 \\u00a3)\"],[\"Pre\\u00e7os baixos (10,00 - 24,99 \\u00a3)\"],[\"Pre\\u00e7os m\\u00e9dios (25.00 - 44.99 \\u00a3)\"],[\"Pre\\u00e7os baixos (10,00 - 24,99 \\u00a3)\"],[\"Pre\\u00e7os baixos (10,00 - 24,99 \\u00a3)\"],[\"Pre\\u00e7os altos ( 45,00 - 59,99 \\u00a3)\"],[\"Pre\\u00e7os baixos (10,00 - 24,99 \\u00a3)\"],[\"Pre\\u00e7os m\\u00e9dios (25.00 - 44.99 \\u00a3)\"],[\"Pre\\u00e7os altos ( 45,00 - 59,99 \\u00a3)\"],[\"Pre\\u00e7os baixos (10,00 - 24,99 \\u00a3)\"],[\"Pre\\u00e7os baixos (10,00 - 24,99 \\u00a3)\"],[\"Pre\\u00e7os m\\u00e9dios (25.00 - 44.99 \\u00a3)\"],[\"Pre\\u00e7os m\\u00e9dios (25.00 - 44.99 \\u00a3)\"],[\"Pre\\u00e7os baixos (10,00 - 24,99 \\u00a3)\"],[\"Pre\\u00e7os altos ( 45,00 - 59,99 \\u00a3)\"],[\"Pre\\u00e7os m\\u00e9dios (25.00 - 44.99 \\u00a3)\"],[\"Pre\\u00e7os baixos (10,00 - 24,99 \\u00a3)\"],[\"Pre\\u00e7os altos ( 45,00 - 59,99 \\u00a3)\"],[\"Pre\\u00e7os baixos (10,00 - 24,99 \\u00a3)\"],[\"Pre\\u00e7os m\\u00e9dios (25.00 - 44.99 \\u00a3)\"],[\"Pre\\u00e7os altos ( 45,00 - 59,99 \\u00a3)\"],[\"Pre\\u00e7os altos ( 45,00 - 59,99 \\u00a3)\"],[\"Pre\\u00e7os baixos (10,00 - 24,99 \\u00a3)\"],[\"Pre\\u00e7os m\\u00e9dios (25.00 - 44.99 \\u00a3)\"],[\"Pre\\u00e7os m\\u00e9dios (25.00 - 44.99 \\u00a3)\"],[\"Pre\\u00e7os m\\u00e9dios (25.00 - 44.99 \\u00a3)\"],[\"Pre\\u00e7os altos ( 45,00 - 59,99 \\u00a3)\"],[\"Pre\\u00e7os m\\u00e9dios (25.00 - 44.99 \\u00a3)\"],[\"Pre\\u00e7os m\\u00e9dios (25.00 - 44.99 \\u00a3)\"],[\"Pre\\u00e7os m\\u00e9dios (25.00 - 44.99 \\u00a3)\"],[\"Pre\\u00e7os altos ( 45,00 - 59,99 \\u00a3)\"],[\"Pre\\u00e7os altos ( 45,00 - 59,99 \\u00a3)\"],[\"Pre\\u00e7os m\\u00e9dios (25.00 - 44.99 \\u00a3)\"],[\"Pre\\u00e7os m\\u00e9dios (25.00 - 44.99 \\u00a3)\"],[\"Pre\\u00e7os altos ( 45,00 - 59,99 \\u00a3)\"],[\"Pre\\u00e7os baixos (10,00 - 24,99 \\u00a3)\"],[\"Pre\\u00e7os m\\u00e9dios (25.00 - 44.99 \\u00a3)\"],[\"Pre\\u00e7os baixos (10,00 - 24,99 \\u00a3)\"],[\"Pre\\u00e7os m\\u00e9dios (25.00 - 44.99 \\u00a3)\"],[\"Pre\\u00e7os baixos (10,00 - 24,99 \\u00a3)\"],[\"Pre\\u00e7os baixos (10,00 - 24,99 \\u00a3)\"],[\"Pre\\u00e7os altos ( 45,00 - 59,99 \\u00a3)\"],[\"Pre\\u00e7os m\\u00e9dios (25.00 - 44.99 \\u00a3)\"],[\"Pre\\u00e7os altos ( 45,00 - 59,99 \\u00a3)\"],[\"Pre\\u00e7os m\\u00e9dios (25.00 - 44.99 \\u00a3)\"],[\"Pre\\u00e7os baixos (10,00 - 24,99 \\u00a3)\"],[\"Pre\\u00e7os m\\u00e9dios (25.00 - 44.99 \\u00a3)\"],[\"Pre\\u00e7os altos ( 45,00 - 59,99 \\u00a3)\"],[\"Pre\\u00e7os m\\u00e9dios (25.00 - 44.99 \\u00a3)\"],[\"Pre\\u00e7os m\\u00e9dios (25.00 - 44.99 \\u00a3)\"],[\"Pre\\u00e7os baixos (10,00 - 24,99 \\u00a3)\"],[\"Pre\\u00e7os m\\u00e9dios (25.00 - 44.99 \\u00a3)\"],[\"Pre\\u00e7os baixos (10,00 - 24,99 \\u00a3)\"],[\"Pre\\u00e7os baixos (10,00 - 24,99 \\u00a3)\"],[\"Pre\\u00e7os altos ( 45,00 - 59,99 \\u00a3)\"],[\"Pre\\u00e7os altos ( 45,00 - 59,99 \\u00a3)\"],[\"Pre\\u00e7os baixos (10,00 - 24,99 \\u00a3)\"],[\"Pre\\u00e7os m\\u00e9dios (25.00 - 44.99 \\u00a3)\"],[\"Pre\\u00e7os m\\u00e9dios (25.00 - 44.99 \\u00a3)\"],[\"Pre\\u00e7os m\\u00e9dios (25.00 - 44.99 \\u00a3)\"],[\"Pre\\u00e7os altos ( 45,00 - 59,99 \\u00a3)\"],[\"Pre\\u00e7os m\\u00e9dios (25.00 - 44.99 \\u00a3)\"],[\"Pre\\u00e7os altos ( 45,00 - 59,99 \\u00a3)\"],[\"Pre\\u00e7os altos ( 45,00 - 59,99 \\u00a3)\"],[\"Pre\\u00e7os altos ( 45,00 - 59,99 \\u00a3)\"],[\"Pre\\u00e7os altos ( 45,00 - 59,99 \\u00a3)\"],[\"Pre\\u00e7os m\\u00e9dios (25.00 - 44.99 \\u00a3)\"],[\"Pre\\u00e7os baixos (10,00 - 24,99 \\u00a3)\"],[\"Pre\\u00e7os altos ( 45,00 - 59,99 \\u00a3)\"],[\"Pre\\u00e7os baixos (10,00 - 24,99 \\u00a3)\"],[\"Pre\\u00e7os altos ( 45,00 - 59,99 \\u00a3)\"],[\"Pre\\u00e7os baixos (10,00 - 24,99 \\u00a3)\"],[\"Pre\\u00e7os baixos (10,00 - 24,99 \\u00a3)\"],[\"Pre\\u00e7os baixos (10,00 - 24,99 \\u00a3)\"],[\"Pre\\u00e7os m\\u00e9dios (25.00 - 44.99 \\u00a3)\"],[\"Pre\\u00e7os m\\u00e9dios (25.00 - 44.99 \\u00a3)\"],[\"Pre\\u00e7os baixos (10,00 - 24,99 \\u00a3)\"],[\"Pre\\u00e7os m\\u00e9dios (25.00 - 44.99 \\u00a3)\"],[\"Pre\\u00e7os m\\u00e9dios (25.00 - 44.99 \\u00a3)\"],[\"Pre\\u00e7os m\\u00e9dios (25.00 - 44.99 \\u00a3)\"],[\"Pre\\u00e7os m\\u00e9dios (25.00 - 44.99 \\u00a3)\"],[\"Pre\\u00e7os altos ( 45,00 - 59,99 \\u00a3)\"],[\"Pre\\u00e7os altos ( 45,00 - 59,99 \\u00a3)\"],[\"Pre\\u00e7os altos ( 45,00 - 59,99 \\u00a3)\"],[\"Pre\\u00e7os baixos (10,00 - 24,99 \\u00a3)\"],[\"Pre\\u00e7os m\\u00e9dios (25.00 - 44.99 \\u00a3)\"],[\"Pre\\u00e7os altos ( 45,00 - 59,99 \\u00a3)\"],[\"Pre\\u00e7os m\\u00e9dios (25.00 - 44.99 \\u00a3)\"],[\"Pre\\u00e7os baixos (10,00 - 24,99 \\u00a3)\"],[\"Pre\\u00e7os baixos (10,00 - 24,99 \\u00a3)\"],[\"Pre\\u00e7os m\\u00e9dios (25.00 - 44.99 \\u00a3)\"],[\"Pre\\u00e7os m\\u00e9dios (25.00 - 44.99 \\u00a3)\"],[\"Pre\\u00e7os baixos (10,00 - 24,99 \\u00a3)\"],[\"Pre\\u00e7os baixos (10,00 - 24,99 \\u00a3)\"],[\"Pre\\u00e7os altos ( 45,00 - 59,99 \\u00a3)\"],[\"Pre\\u00e7os m\\u00e9dios (25.00 - 44.99 \\u00a3)\"],[\"Pre\\u00e7os altos ( 45,00 - 59,99 \\u00a3)\"],[\"Pre\\u00e7os baixos (10,00 - 24,99 \\u00a3)\"],[\"Pre\\u00e7os m\\u00e9dios (25.00 - 44.99 \\u00a3)\"],[\"Pre\\u00e7os altos ( 45,00 - 59,99 \\u00a3)\"],[\"Pre\\u00e7os altos ( 45,00 - 59,99 \\u00a3)\"],[\"Pre\\u00e7os baixos (10,00 - 24,99 \\u00a3)\"],[\"Pre\\u00e7os altos ( 45,00 - 59,99 \\u00a3)\"],[\"Pre\\u00e7os m\\u00e9dios (25.00 - 44.99 \\u00a3)\"],[\"Pre\\u00e7os altos ( 45,00 - 59,99 \\u00a3)\"],[\"Pre\\u00e7os baixos (10,00 - 24,99 \\u00a3)\"],[\"Pre\\u00e7os altos ( 45,00 - 59,99 \\u00a3)\"],[\"Pre\\u00e7os altos ( 45,00 - 59,99 \\u00a3)\"],[\"Pre\\u00e7os altos ( 45,00 - 59,99 \\u00a3)\"],[\"Pre\\u00e7os m\\u00e9dios (25.00 - 44.99 \\u00a3)\"],[\"Pre\\u00e7os m\\u00e9dios (25.00 - 44.99 \\u00a3)\"],[\"Pre\\u00e7os baixos (10,00 - 24,99 \\u00a3)\"],[\"Pre\\u00e7os m\\u00e9dios (25.00 - 44.99 \\u00a3)\"],[\"Pre\\u00e7os altos ( 45,00 - 59,99 \\u00a3)\"],[\"Pre\\u00e7os m\\u00e9dios (25.00 - 44.99 \\u00a3)\"],[\"Pre\\u00e7os baixos (10,00 - 24,99 \\u00a3)\"],[\"Pre\\u00e7os m\\u00e9dios (25.00 - 44.99 \\u00a3)\"],[\"Pre\\u00e7os altos ( 45,00 - 59,99 \\u00a3)\"],[\"Pre\\u00e7os baixos (10,00 - 24,99 \\u00a3)\"],[\"Pre\\u00e7os m\\u00e9dios (25.00 - 44.99 \\u00a3)\"],[\"Pre\\u00e7os altos ( 45,00 - 59,99 \\u00a3)\"],[\"Pre\\u00e7os baixos (10,00 - 24,99 \\u00a3)\"],[\"Pre\\u00e7os altos ( 45,00 - 59,99 \\u00a3)\"],[\"Pre\\u00e7os m\\u00e9dios (25.00 - 44.99 \\u00a3)\"],[\"Pre\\u00e7os altos ( 45,00 - 59,99 \\u00a3)\"],[\"Pre\\u00e7os m\\u00e9dios (25.00 - 44.99 \\u00a3)\"],[\"Pre\\u00e7os altos ( 45,00 - 59,99 \\u00a3)\"],[\"Pre\\u00e7os m\\u00e9dios (25.00 - 44.99 \\u00a3)\"],[\"Pre\\u00e7os m\\u00e9dios (25.00 - 44.99 \\u00a3)\"],[\"Pre\\u00e7os altos ( 45,00 - 59,99 \\u00a3)\"],[\"Pre\\u00e7os baixos (10,00 - 24,99 \\u00a3)\"],[\"Pre\\u00e7os altos ( 45,00 - 59,99 \\u00a3)\"],[\"Pre\\u00e7os altos ( 45,00 - 59,99 \\u00a3)\"],[\"Pre\\u00e7os m\\u00e9dios (25.00 - 44.99 \\u00a3)\"],[\"Pre\\u00e7os altos ( 45,00 - 59,99 \\u00a3)\"],[\"Pre\\u00e7os m\\u00e9dios (25.00 - 44.99 \\u00a3)\"],[\"Pre\\u00e7os baixos (10,00 - 24,99 \\u00a3)\"],[\"Pre\\u00e7os altos ( 45,00 - 59,99 \\u00a3)\"],[\"Pre\\u00e7os altos ( 45,00 - 59,99 \\u00a3)\"],[\"Pre\\u00e7os baixos (10,00 - 24,99 \\u00a3)\"],[\"Pre\\u00e7os altos ( 45,00 - 59,99 \\u00a3)\"],[\"Pre\\u00e7os m\\u00e9dios (25.00 - 44.99 \\u00a3)\"],[\"Pre\\u00e7os m\\u00e9dios (25.00 - 44.99 \\u00a3)\"],[\"Pre\\u00e7os baixos (10,00 - 24,99 \\u00a3)\"],[\"Pre\\u00e7os altos ( 45,00 - 59,99 \\u00a3)\"],[\"Pre\\u00e7os baixos (10,00 - 24,99 \\u00a3)\"],[\"Pre\\u00e7os baixos (10,00 - 24,99 \\u00a3)\"],[\"Pre\\u00e7os m\\u00e9dios (25.00 - 44.99 \\u00a3)\"],[\"Pre\\u00e7os m\\u00e9dios (25.00 - 44.99 \\u00a3)\"],[\"Pre\\u00e7os baixos (10,00 - 24,99 \\u00a3)\"],[\"Pre\\u00e7os m\\u00e9dios (25.00 - 44.99 \\u00a3)\"],[\"Pre\\u00e7os baixos (10,00 - 24,99 \\u00a3)\"],[\"Pre\\u00e7os m\\u00e9dios (25.00 - 44.99 \\u00a3)\"],[\"Pre\\u00e7os m\\u00e9dios (25.00 - 44.99 \\u00a3)\"],[\"Pre\\u00e7os altos ( 45,00 - 59,99 \\u00a3)\"],[\"Pre\\u00e7os m\\u00e9dios (25.00 - 44.99 \\u00a3)\"],[\"Pre\\u00e7os m\\u00e9dios (25.00 - 44.99 \\u00a3)\"],[\"Pre\\u00e7os altos ( 45,00 - 59,99 \\u00a3)\"],[\"Pre\\u00e7os m\\u00e9dios (25.00 - 44.99 \\u00a3)\"],[\"Pre\\u00e7os baixos (10,00 - 24,99 \\u00a3)\"],[\"Pre\\u00e7os altos ( 45,00 - 59,99 \\u00a3)\"],[\"Pre\\u00e7os altos ( 45,00 - 59,99 \\u00a3)\"],[\"Pre\\u00e7os baixos (10,00 - 24,99 \\u00a3)\"],[\"Pre\\u00e7os altos ( 45,00 - 59,99 \\u00a3)\"],[\"Pre\\u00e7os baixos (10,00 - 24,99 \\u00a3)\"],[\"Pre\\u00e7os altos ( 45,00 - 59,99 \\u00a3)\"],[\"Pre\\u00e7os m\\u00e9dios (25.00 - 44.99 \\u00a3)\"],[\"Pre\\u00e7os m\\u00e9dios (25.00 - 44.99 \\u00a3)\"],[\"Pre\\u00e7os m\\u00e9dios (25.00 - 44.99 \\u00a3)\"],[\"Pre\\u00e7os baixos (10,00 - 24,99 \\u00a3)\"],[\"Pre\\u00e7os altos ( 45,00 - 59,99 \\u00a3)\"],[\"Pre\\u00e7os altos ( 45,00 - 59,99 \\u00a3)\"],[\"Pre\\u00e7os m\\u00e9dios (25.00 - 44.99 \\u00a3)\"],[\"Pre\\u00e7os baixos (10,00 - 24,99 \\u00a3)\"],[\"Pre\\u00e7os altos ( 45,00 - 59,99 \\u00a3)\"],[\"Pre\\u00e7os baixos (10,00 - 24,99 \\u00a3)\"],[\"Pre\\u00e7os m\\u00e9dios (25.00 - 44.99 \\u00a3)\"],[\"Pre\\u00e7os baixos (10,00 - 24,99 \\u00a3)\"],[\"Pre\\u00e7os altos ( 45,00 - 59,99 \\u00a3)\"],[\"Pre\\u00e7os altos ( 45,00 - 59,99 \\u00a3)\"],[\"Pre\\u00e7os m\\u00e9dios (25.00 - 44.99 \\u00a3)\"],[\"Pre\\u00e7os altos ( 45,00 - 59,99 \\u00a3)\"],[\"Pre\\u00e7os altos ( 45,00 - 59,99 \\u00a3)\"],[\"Pre\\u00e7os m\\u00e9dios (25.00 - 44.99 \\u00a3)\"],[\"Pre\\u00e7os m\\u00e9dios (25.00 - 44.99 \\u00a3)\"],[\"Pre\\u00e7os altos ( 45,00 - 59,99 \\u00a3)\"],[\"Pre\\u00e7os m\\u00e9dios (25.00 - 44.99 \\u00a3)\"],[\"Pre\\u00e7os baixos (10,00 - 24,99 \\u00a3)\"],[\"Pre\\u00e7os altos ( 45,00 - 59,99 \\u00a3)\"],[\"Pre\\u00e7os baixos (10,00 - 24,99 \\u00a3)\"],[\"Pre\\u00e7os altos ( 45,00 - 59,99 \\u00a3)\"],[\"Pre\\u00e7os altos ( 45,00 - 59,99 \\u00a3)\"],[\"Pre\\u00e7os baixos (10,00 - 24,99 \\u00a3)\"],[\"Pre\\u00e7os baixos (10,00 - 24,99 \\u00a3)\"],[\"Pre\\u00e7os altos ( 45,00 - 59,99 \\u00a3)\"],[\"Pre\\u00e7os baixos (10,00 - 24,99 \\u00a3)\"],[\"Pre\\u00e7os baixos (10,00 - 24,99 \\u00a3)\"],[\"Pre\\u00e7os m\\u00e9dios (25.00 - 44.99 \\u00a3)\"],[\"Pre\\u00e7os baixos (10,00 - 24,99 \\u00a3)\"],[\"Pre\\u00e7os altos ( 45,00 - 59,99 \\u00a3)\"],[\"Pre\\u00e7os m\\u00e9dios (25.00 - 44.99 \\u00a3)\"],[\"Pre\\u00e7os baixos (10,00 - 24,99 \\u00a3)\"],[\"Pre\\u00e7os altos ( 45,00 - 59,99 \\u00a3)\"],[\"Pre\\u00e7os altos ( 45,00 - 59,99 \\u00a3)\"],[\"Pre\\u00e7os altos ( 45,00 - 59,99 \\u00a3)\"],[\"Pre\\u00e7os baixos (10,00 - 24,99 \\u00a3)\"],[\"Pre\\u00e7os baixos (10,00 - 24,99 \\u00a3)\"],[\"Pre\\u00e7os baixos (10,00 - 24,99 \\u00a3)\"],[\"Pre\\u00e7os baixos (10,00 - 24,99 \\u00a3)\"],[\"Pre\\u00e7os baixos (10,00 - 24,99 \\u00a3)\"],[\"Pre\\u00e7os baixos (10,00 - 24,99 \\u00a3)\"],[\"Pre\\u00e7os baixos (10,00 - 24,99 \\u00a3)\"],[\"Pre\\u00e7os altos ( 45,00 - 59,99 \\u00a3)\"],[\"Pre\\u00e7os baixos (10,00 - 24,99 \\u00a3)\"],[\"Pre\\u00e7os altos ( 45,00 - 59,99 \\u00a3)\"],[\"Pre\\u00e7os altos ( 45,00 - 59,99 \\u00a3)\"],[\"Pre\\u00e7os altos ( 45,00 - 59,99 \\u00a3)\"],[\"Pre\\u00e7os altos ( 45,00 - 59,99 \\u00a3)\"],[\"Pre\\u00e7os baixos (10,00 - 24,99 \\u00a3)\"],[\"Pre\\u00e7os m\\u00e9dios (25.00 - 44.99 \\u00a3)\"],[\"Pre\\u00e7os m\\u00e9dios (25.00 - 44.99 \\u00a3)\"],[\"Pre\\u00e7os baixos (10,00 - 24,99 \\u00a3)\"],[\"Pre\\u00e7os baixos (10,00 - 24,99 \\u00a3)\"],[\"Pre\\u00e7os altos ( 45,00 - 59,99 \\u00a3)\"],[\"Pre\\u00e7os baixos (10,00 - 24,99 \\u00a3)\"],[\"Pre\\u00e7os altos ( 45,00 - 59,99 \\u00a3)\"],[\"Pre\\u00e7os altos ( 45,00 - 59,99 \\u00a3)\"],[\"Pre\\u00e7os altos ( 45,00 - 59,99 \\u00a3)\"],[\"Pre\\u00e7os m\\u00e9dios (25.00 - 44.99 \\u00a3)\"],[\"Pre\\u00e7os baixos (10,00 - 24,99 \\u00a3)\"],[\"Pre\\u00e7os altos ( 45,00 - 59,99 \\u00a3)\"],[\"Pre\\u00e7os baixos (10,00 - 24,99 \\u00a3)\"],[\"Pre\\u00e7os m\\u00e9dios (25.00 - 44.99 \\u00a3)\"],[\"Pre\\u00e7os m\\u00e9dios (25.00 - 44.99 \\u00a3)\"],[\"Pre\\u00e7os m\\u00e9dios (25.00 - 44.99 \\u00a3)\"],[\"Pre\\u00e7os m\\u00e9dios (25.00 - 44.99 \\u00a3)\"],[\"Pre\\u00e7os altos ( 45,00 - 59,99 \\u00a3)\"],[\"Pre\\u00e7os altos ( 45,00 - 59,99 \\u00a3)\"],[\"Pre\\u00e7os altos ( 45,00 - 59,99 \\u00a3)\"],[\"Pre\\u00e7os m\\u00e9dios (25.00 - 44.99 \\u00a3)\"],[\"Pre\\u00e7os m\\u00e9dios (25.00 - 44.99 \\u00a3)\"],[\"Pre\\u00e7os baixos (10,00 - 24,99 \\u00a3)\"],[\"Pre\\u00e7os m\\u00e9dios (25.00 - 44.99 \\u00a3)\"],[\"Pre\\u00e7os m\\u00e9dios (25.00 - 44.99 \\u00a3)\"],[\"Pre\\u00e7os m\\u00e9dios (25.00 - 44.99 \\u00a3)\"],[\"Pre\\u00e7os m\\u00e9dios (25.00 - 44.99 \\u00a3)\"],[\"Pre\\u00e7os m\\u00e9dios (25.00 - 44.99 \\u00a3)\"],[\"Pre\\u00e7os m\\u00e9dios (25.00 - 44.99 \\u00a3)\"],[\"Pre\\u00e7os altos ( 45,00 - 59,99 \\u00a3)\"],[\"Pre\\u00e7os m\\u00e9dios (25.00 - 44.99 \\u00a3)\"],[\"Pre\\u00e7os m\\u00e9dios (25.00 - 44.99 \\u00a3)\"],[\"Pre\\u00e7os m\\u00e9dios (25.00 - 44.99 \\u00a3)\"],[\"Pre\\u00e7os m\\u00e9dios (25.00 - 44.99 \\u00a3)\"],[\"Pre\\u00e7os altos ( 45,00 - 59,99 \\u00a3)\"],[\"Pre\\u00e7os m\\u00e9dios (25.00 - 44.99 \\u00a3)\"],[\"Pre\\u00e7os baixos (10,00 - 24,99 \\u00a3)\"],[\"Pre\\u00e7os baixos (10,00 - 24,99 \\u00a3)\"],[\"Pre\\u00e7os altos ( 45,00 - 59,99 \\u00a3)\"],[\"Pre\\u00e7os m\\u00e9dios (25.00 - 44.99 \\u00a3)\"],[\"Pre\\u00e7os altos ( 45,00 - 59,99 \\u00a3)\"],[\"Pre\\u00e7os m\\u00e9dios (25.00 - 44.99 \\u00a3)\"],[\"Pre\\u00e7os altos ( 45,00 - 59,99 \\u00a3)\"],[\"Pre\\u00e7os m\\u00e9dios (25.00 - 44.99 \\u00a3)\"],[\"Pre\\u00e7os m\\u00e9dios (25.00 - 44.99 \\u00a3)\"],[\"Pre\\u00e7os baixos (10,00 - 24,99 \\u00a3)\"],[\"Pre\\u00e7os m\\u00e9dios (25.00 - 44.99 \\u00a3)\"],[\"Pre\\u00e7os m\\u00e9dios (25.00 - 44.99 \\u00a3)\"],[\"Pre\\u00e7os altos ( 45,00 - 59,99 \\u00a3)\"],[\"Pre\\u00e7os altos ( 45,00 - 59,99 \\u00a3)\"],[\"Pre\\u00e7os baixos (10,00 - 24,99 \\u00a3)\"],[\"Pre\\u00e7os altos ( 45,00 - 59,99 \\u00a3)\"],[\"Pre\\u00e7os m\\u00e9dios (25.00 - 44.99 \\u00a3)\"],[\"Pre\\u00e7os baixos (10,00 - 24,99 \\u00a3)\"],[\"Pre\\u00e7os m\\u00e9dios (25.00 - 44.99 \\u00a3)\"],[\"Pre\\u00e7os baixos (10,00 - 24,99 \\u00a3)\"],[\"Pre\\u00e7os altos ( 45,00 - 59,99 \\u00a3)\"],[\"Pre\\u00e7os altos ( 45,00 - 59,99 \\u00a3)\"],[\"Pre\\u00e7os m\\u00e9dios (25.00 - 44.99 \\u00a3)\"],[\"Pre\\u00e7os m\\u00e9dios (25.00 - 44.99 \\u00a3)\"],[\"Pre\\u00e7os m\\u00e9dios (25.00 - 44.99 \\u00a3)\"],[\"Pre\\u00e7os baixos (10,00 - 24,99 \\u00a3)\"],[\"Pre\\u00e7os baixos (10,00 - 24,99 \\u00a3)\"],[\"Pre\\u00e7os altos ( 45,00 - 59,99 \\u00a3)\"],[\"Pre\\u00e7os altos ( 45,00 - 59,99 \\u00a3)\"],[\"Pre\\u00e7os baixos (10,00 - 24,99 \\u00a3)\"],[\"Pre\\u00e7os altos ( 45,00 - 59,99 \\u00a3)\"],[\"Pre\\u00e7os m\\u00e9dios (25.00 - 44.99 \\u00a3)\"],[\"Pre\\u00e7os baixos (10,00 - 24,99 \\u00a3)\"],[\"Pre\\u00e7os baixos (10,00 - 24,99 \\u00a3)\"],[\"Pre\\u00e7os m\\u00e9dios (25.00 - 44.99 \\u00a3)\"],[\"Pre\\u00e7os altos ( 45,00 - 59,99 \\u00a3)\"],[\"Pre\\u00e7os m\\u00e9dios (25.00 - 44.99 \\u00a3)\"],[\"Pre\\u00e7os m\\u00e9dios (25.00 - 44.99 \\u00a3)\"],[\"Pre\\u00e7os m\\u00e9dios (25.00 - 44.99 \\u00a3)\"],[\"Pre\\u00e7os m\\u00e9dios (25.00 - 44.99 \\u00a3)\"],[\"Pre\\u00e7os m\\u00e9dios (25.00 - 44.99 \\u00a3)\"],[\"Pre\\u00e7os baixos (10,00 - 24,99 \\u00a3)\"],[\"Pre\\u00e7os m\\u00e9dios (25.00 - 44.99 \\u00a3)\"],[\"Pre\\u00e7os altos ( 45,00 - 59,99 \\u00a3)\"],[\"Pre\\u00e7os baixos (10,00 - 24,99 \\u00a3)\"],[\"Pre\\u00e7os m\\u00e9dios (25.00 - 44.99 \\u00a3)\"],[\"Pre\\u00e7os m\\u00e9dios (25.00 - 44.99 \\u00a3)\"],[\"Pre\\u00e7os baixos (10,00 - 24,99 \\u00a3)\"],[\"Pre\\u00e7os m\\u00e9dios (25.00 - 44.99 \\u00a3)\"],[\"Pre\\u00e7os altos ( 45,00 - 59,99 \\u00a3)\"],[\"Pre\\u00e7os m\\u00e9dios (25.00 - 44.99 \\u00a3)\"],[\"Pre\\u00e7os m\\u00e9dios (25.00 - 44.99 \\u00a3)\"],[\"Pre\\u00e7os baixos (10,00 - 24,99 \\u00a3)\"],[\"Pre\\u00e7os baixos (10,00 - 24,99 \\u00a3)\"],[\"Pre\\u00e7os baixos (10,00 - 24,99 \\u00a3)\"],[\"Pre\\u00e7os m\\u00e9dios (25.00 - 44.99 \\u00a3)\"],[\"Pre\\u00e7os altos ( 45,00 - 59,99 \\u00a3)\"],[\"Pre\\u00e7os altos ( 45,00 - 59,99 \\u00a3)\"],[\"Pre\\u00e7os m\\u00e9dios (25.00 - 44.99 \\u00a3)\"],[\"Pre\\u00e7os m\\u00e9dios (25.00 - 44.99 \\u00a3)\"],[\"Pre\\u00e7os altos ( 45,00 - 59,99 \\u00a3)\"],[\"Pre\\u00e7os baixos (10,00 - 24,99 \\u00a3)\"],[\"Pre\\u00e7os m\\u00e9dios (25.00 - 44.99 \\u00a3)\"],[\"Pre\\u00e7os altos ( 45,00 - 59,99 \\u00a3)\"],[\"Pre\\u00e7os m\\u00e9dios (25.00 - 44.99 \\u00a3)\"],[\"Pre\\u00e7os baixos (10,00 - 24,99 \\u00a3)\"],[\"Pre\\u00e7os altos ( 45,00 - 59,99 \\u00a3)\"],[\"Pre\\u00e7os m\\u00e9dios (25.00 - 44.99 \\u00a3)\"],[\"Pre\\u00e7os altos ( 45,00 - 59,99 \\u00a3)\"],[\"Pre\\u00e7os altos ( 45,00 - 59,99 \\u00a3)\"],[\"Pre\\u00e7os m\\u00e9dios (25.00 - 44.99 \\u00a3)\"],[\"Pre\\u00e7os m\\u00e9dios (25.00 - 44.99 \\u00a3)\"],[\"Pre\\u00e7os baixos (10,00 - 24,99 \\u00a3)\"],[\"Pre\\u00e7os altos ( 45,00 - 59,99 \\u00a3)\"],[\"Pre\\u00e7os altos ( 45,00 - 59,99 \\u00a3)\"],[\"Pre\\u00e7os baixos (10,00 - 24,99 \\u00a3)\"],[\"Pre\\u00e7os baixos (10,00 - 24,99 \\u00a3)\"],[\"Pre\\u00e7os baixos (10,00 - 24,99 \\u00a3)\"],[\"Pre\\u00e7os altos ( 45,00 - 59,99 \\u00a3)\"],[\"Pre\\u00e7os m\\u00e9dios (25.00 - 44.99 \\u00a3)\"],[\"Pre\\u00e7os altos ( 45,00 - 59,99 \\u00a3)\"],[\"Pre\\u00e7os m\\u00e9dios (25.00 - 44.99 \\u00a3)\"],[\"Pre\\u00e7os m\\u00e9dios (25.00 - 44.99 \\u00a3)\"],[\"Pre\\u00e7os altos ( 45,00 - 59,99 \\u00a3)\"],[\"Pre\\u00e7os m\\u00e9dios (25.00 - 44.99 \\u00a3)\"],[\"Pre\\u00e7os altos ( 45,00 - 59,99 \\u00a3)\"],[\"Pre\\u00e7os m\\u00e9dios (25.00 - 44.99 \\u00a3)\"],[\"Pre\\u00e7os altos ( 45,00 - 59,99 \\u00a3)\"],[\"Pre\\u00e7os baixos (10,00 - 24,99 \\u00a3)\"],[\"Pre\\u00e7os altos ( 45,00 - 59,99 \\u00a3)\"],[\"Pre\\u00e7os m\\u00e9dios (25.00 - 44.99 \\u00a3)\"],[\"Pre\\u00e7os m\\u00e9dios (25.00 - 44.99 \\u00a3)\"],[\"Pre\\u00e7os m\\u00e9dios (25.00 - 44.99 \\u00a3)\"],[\"Pre\\u00e7os baixos (10,00 - 24,99 \\u00a3)\"],[\"Pre\\u00e7os m\\u00e9dios (25.00 - 44.99 \\u00a3)\"],[\"Pre\\u00e7os baixos (10,00 - 24,99 \\u00a3)\"],[\"Pre\\u00e7os altos ( 45,00 - 59,99 \\u00a3)\"],[\"Pre\\u00e7os baixos (10,00 - 24,99 \\u00a3)\"],[\"Pre\\u00e7os baixos (10,00 - 24,99 \\u00a3)\"],[\"Pre\\u00e7os baixos (10,00 - 24,99 \\u00a3)\"],[\"Pre\\u00e7os altos ( 45,00 - 59,99 \\u00a3)\"],[\"Pre\\u00e7os altos ( 45,00 - 59,99 \\u00a3)\"],[\"Pre\\u00e7os m\\u00e9dios (25.00 - 44.99 \\u00a3)\"],[\"Pre\\u00e7os baixos (10,00 - 24,99 \\u00a3)\"],[\"Pre\\u00e7os altos ( 45,00 - 59,99 \\u00a3)\"],[\"Pre\\u00e7os altos ( 45,00 - 59,99 \\u00a3)\"],[\"Pre\\u00e7os baixos (10,00 - 24,99 \\u00a3)\"],[\"Pre\\u00e7os m\\u00e9dios (25.00 - 44.99 \\u00a3)\"],[\"Pre\\u00e7os altos ( 45,00 - 59,99 \\u00a3)\"],[\"Pre\\u00e7os altos ( 45,00 - 59,99 \\u00a3)\"],[\"Pre\\u00e7os baixos (10,00 - 24,99 \\u00a3)\"],[\"Pre\\u00e7os m\\u00e9dios (25.00 - 44.99 \\u00a3)\"],[\"Pre\\u00e7os altos ( 45,00 - 59,99 \\u00a3)\"],[\"Pre\\u00e7os baixos (10,00 - 24,99 \\u00a3)\"],[\"Pre\\u00e7os m\\u00e9dios (25.00 - 44.99 \\u00a3)\"],[\"Pre\\u00e7os m\\u00e9dios (25.00 - 44.99 \\u00a3)\"],[\"Pre\\u00e7os altos ( 45,00 - 59,99 \\u00a3)\"],[\"Pre\\u00e7os m\\u00e9dios (25.00 - 44.99 \\u00a3)\"],[\"Pre\\u00e7os baixos (10,00 - 24,99 \\u00a3)\"],[\"Pre\\u00e7os altos ( 45,00 - 59,99 \\u00a3)\"],[\"Pre\\u00e7os m\\u00e9dios (25.00 - 44.99 \\u00a3)\"],[\"Pre\\u00e7os altos ( 45,00 - 59,99 \\u00a3)\"],[\"Pre\\u00e7os altos ( 45,00 - 59,99 \\u00a3)\"],[\"Pre\\u00e7os m\\u00e9dios (25.00 - 44.99 \\u00a3)\"],[\"Pre\\u00e7os altos ( 45,00 - 59,99 \\u00a3)\"],[\"Pre\\u00e7os baixos (10,00 - 24,99 \\u00a3)\"],[\"Pre\\u00e7os m\\u00e9dios (25.00 - 44.99 \\u00a3)\"],[\"Pre\\u00e7os baixos (10,00 - 24,99 \\u00a3)\"],[\"Pre\\u00e7os m\\u00e9dios (25.00 - 44.99 \\u00a3)\"],[\"Pre\\u00e7os altos ( 45,00 - 59,99 \\u00a3)\"],[\"Pre\\u00e7os baixos (10,00 - 24,99 \\u00a3)\"],[\"Pre\\u00e7os m\\u00e9dios (25.00 - 44.99 \\u00a3)\"],[\"Pre\\u00e7os m\\u00e9dios (25.00 - 44.99 \\u00a3)\"],[\"Pre\\u00e7os baixos (10,00 - 24,99 \\u00a3)\"],[\"Pre\\u00e7os altos ( 45,00 - 59,99 \\u00a3)\"],[\"Pre\\u00e7os baixos (10,00 - 24,99 \\u00a3)\"],[\"Pre\\u00e7os altos ( 45,00 - 59,99 \\u00a3)\"],[\"Pre\\u00e7os altos ( 45,00 - 59,99 \\u00a3)\"],[\"Pre\\u00e7os altos ( 45,00 - 59,99 \\u00a3)\"],[\"Pre\\u00e7os m\\u00e9dios (25.00 - 44.99 \\u00a3)\"],[\"Pre\\u00e7os m\\u00e9dios (25.00 - 44.99 \\u00a3)\"],[\"Pre\\u00e7os baixos (10,00 - 24,99 \\u00a3)\"],[\"Pre\\u00e7os m\\u00e9dios (25.00 - 44.99 \\u00a3)\"],[\"Pre\\u00e7os baixos (10,00 - 24,99 \\u00a3)\"],[\"Pre\\u00e7os altos ( 45,00 - 59,99 \\u00a3)\"],[\"Pre\\u00e7os m\\u00e9dios (25.00 - 44.99 \\u00a3)\"],[\"Pre\\u00e7os m\\u00e9dios (25.00 - 44.99 \\u00a3)\"],[\"Pre\\u00e7os m\\u00e9dios (25.00 - 44.99 \\u00a3)\"],[\"Pre\\u00e7os baixos (10,00 - 24,99 \\u00a3)\"],[\"Pre\\u00e7os baixos (10,00 - 24,99 \\u00a3)\"],[\"Pre\\u00e7os baixos (10,00 - 24,99 \\u00a3)\"],[\"Pre\\u00e7os baixos (10,00 - 24,99 \\u00a3)\"],[\"Pre\\u00e7os m\\u00e9dios (25.00 - 44.99 \\u00a3)\"],[\"Pre\\u00e7os baixos (10,00 - 24,99 \\u00a3)\"],[\"Pre\\u00e7os baixos (10,00 - 24,99 \\u00a3)\"],[\"Pre\\u00e7os baixos (10,00 - 24,99 \\u00a3)\"],[\"Pre\\u00e7os baixos (10,00 - 24,99 \\u00a3)\"],[\"Pre\\u00e7os altos ( 45,00 - 59,99 \\u00a3)\"],[\"Pre\\u00e7os m\\u00e9dios (25.00 - 44.99 \\u00a3)\"],[\"Pre\\u00e7os baixos (10,00 - 24,99 \\u00a3)\"],[\"Pre\\u00e7os altos ( 45,00 - 59,99 \\u00a3)\"],[\"Pre\\u00e7os m\\u00e9dios (25.00 - 44.99 \\u00a3)\"],[\"Pre\\u00e7os m\\u00e9dios (25.00 - 44.99 \\u00a3)\"],[\"Pre\\u00e7os baixos (10,00 - 24,99 \\u00a3)\"],[\"Pre\\u00e7os baixos (10,00 - 24,99 \\u00a3)\"],[\"Pre\\u00e7os m\\u00e9dios (25.00 - 44.99 \\u00a3)\"],[\"Pre\\u00e7os baixos (10,00 - 24,99 \\u00a3)\"],[\"Pre\\u00e7os baixos (10,00 - 24,99 \\u00a3)\"],[\"Pre\\u00e7os m\\u00e9dios (25.00 - 44.99 \\u00a3)\"],[\"Pre\\u00e7os m\\u00e9dios (25.00 - 44.99 \\u00a3)\"],[\"Pre\\u00e7os m\\u00e9dios (25.00 - 44.99 \\u00a3)\"],[\"Pre\\u00e7os altos ( 45,00 - 59,99 \\u00a3)\"],[\"Pre\\u00e7os altos ( 45,00 - 59,99 \\u00a3)\"],[\"Pre\\u00e7os m\\u00e9dios (25.00 - 44.99 \\u00a3)\"],[\"Pre\\u00e7os baixos (10,00 - 24,99 \\u00a3)\"],[\"Pre\\u00e7os baixos (10,00 - 24,99 \\u00a3)\"],[\"Pre\\u00e7os m\\u00e9dios (25.00 - 44.99 \\u00a3)\"],[\"Pre\\u00e7os altos ( 45,00 - 59,99 \\u00a3)\"],[\"Pre\\u00e7os baixos (10,00 - 24,99 \\u00a3)\"],[\"Pre\\u00e7os altos ( 45,00 - 59,99 \\u00a3)\"],[\"Pre\\u00e7os altos ( 45,00 - 59,99 \\u00a3)\"],[\"Pre\\u00e7os m\\u00e9dios (25.00 - 44.99 \\u00a3)\"],[\"Pre\\u00e7os altos ( 45,00 - 59,99 \\u00a3)\"],[\"Pre\\u00e7os baixos (10,00 - 24,99 \\u00a3)\"],[\"Pre\\u00e7os baixos (10,00 - 24,99 \\u00a3)\"],[\"Pre\\u00e7os altos ( 45,00 - 59,99 \\u00a3)\"],[\"Pre\\u00e7os m\\u00e9dios (25.00 - 44.99 \\u00a3)\"],[\"Pre\\u00e7os altos ( 45,00 - 59,99 \\u00a3)\"],[\"Pre\\u00e7os altos ( 45,00 - 59,99 \\u00a3)\"],[\"Pre\\u00e7os m\\u00e9dios (25.00 - 44.99 \\u00a3)\"],[\"Pre\\u00e7os m\\u00e9dios (25.00 - 44.99 \\u00a3)\"],[\"Pre\\u00e7os m\\u00e9dios (25.00 - 44.99 \\u00a3)\"],[\"Pre\\u00e7os baixos (10,00 - 24,99 \\u00a3)\"],[\"Pre\\u00e7os baixos (10,00 - 24,99 \\u00a3)\"],[\"Pre\\u00e7os m\\u00e9dios (25.00 - 44.99 \\u00a3)\"],[\"Pre\\u00e7os altos ( 45,00 - 59,99 \\u00a3)\"],[\"Pre\\u00e7os m\\u00e9dios (25.00 - 44.99 \\u00a3)\"],[\"Pre\\u00e7os altos ( 45,00 - 59,99 \\u00a3)\"],[\"Pre\\u00e7os altos ( 45,00 - 59,99 \\u00a3)\"],[\"Pre\\u00e7os baixos (10,00 - 24,99 \\u00a3)\"],[\"Pre\\u00e7os altos ( 45,00 - 59,99 \\u00a3)\"],[\"Pre\\u00e7os altos ( 45,00 - 59,99 \\u00a3)\"],[\"Pre\\u00e7os baixos (10,00 - 24,99 \\u00a3)\"],[\"Pre\\u00e7os baixos (10,00 - 24,99 \\u00a3)\"],[\"Pre\\u00e7os baixos (10,00 - 24,99 \\u00a3)\"],[\"Pre\\u00e7os baixos (10,00 - 24,99 \\u00a3)\"],[\"Pre\\u00e7os altos ( 45,00 - 59,99 \\u00a3)\"],[\"Pre\\u00e7os baixos (10,00 - 24,99 \\u00a3)\"],[\"Pre\\u00e7os m\\u00e9dios (25.00 - 44.99 \\u00a3)\"],[\"Pre\\u00e7os m\\u00e9dios (25.00 - 44.99 \\u00a3)\"],[\"Pre\\u00e7os m\\u00e9dios (25.00 - 44.99 \\u00a3)\"],[\"Pre\\u00e7os baixos (10,00 - 24,99 \\u00a3)\"],[\"Pre\\u00e7os baixos (10,00 - 24,99 \\u00a3)\"],[\"Pre\\u00e7os m\\u00e9dios (25.00 - 44.99 \\u00a3)\"],[\"Pre\\u00e7os altos ( 45,00 - 59,99 \\u00a3)\"],[\"Pre\\u00e7os baixos (10,00 - 24,99 \\u00a3)\"],[\"Pre\\u00e7os m\\u00e9dios (25.00 - 44.99 \\u00a3)\"],[\"Pre\\u00e7os m\\u00e9dios (25.00 - 44.99 \\u00a3)\"],[\"Pre\\u00e7os m\\u00e9dios (25.00 - 44.99 \\u00a3)\"],[\"Pre\\u00e7os altos ( 45,00 - 59,99 \\u00a3)\"],[\"Pre\\u00e7os m\\u00e9dios (25.00 - 44.99 \\u00a3)\"],[\"Pre\\u00e7os baixos (10,00 - 24,99 \\u00a3)\"],[\"Pre\\u00e7os altos ( 45,00 - 59,99 \\u00a3)\"],[\"Pre\\u00e7os baixos (10,00 - 24,99 \\u00a3)\"],[\"Pre\\u00e7os altos ( 45,00 - 59,99 \\u00a3)\"],[\"Pre\\u00e7os baixos (10,00 - 24,99 \\u00a3)\"],[\"Pre\\u00e7os m\\u00e9dios (25.00 - 44.99 \\u00a3)\"],[\"Pre\\u00e7os altos ( 45,00 - 59,99 \\u00a3)\"],[\"Pre\\u00e7os altos ( 45,00 - 59,99 \\u00a3)\"],[\"Pre\\u00e7os altos ( 45,00 - 59,99 \\u00a3)\"],[\"Pre\\u00e7os m\\u00e9dios (25.00 - 44.99 \\u00a3)\"],[\"Pre\\u00e7os altos ( 45,00 - 59,99 \\u00a3)\"],[\"Pre\\u00e7os m\\u00e9dios (25.00 - 44.99 \\u00a3)\"],[\"Pre\\u00e7os baixos (10,00 - 24,99 \\u00a3)\"],[\"Pre\\u00e7os baixos (10,00 - 24,99 \\u00a3)\"],[\"Pre\\u00e7os altos ( 45,00 - 59,99 \\u00a3)\"],[\"Pre\\u00e7os baixos (10,00 - 24,99 \\u00a3)\"],[\"Pre\\u00e7os m\\u00e9dios (25.00 - 44.99 \\u00a3)\"],[\"Pre\\u00e7os m\\u00e9dios (25.00 - 44.99 \\u00a3)\"],[\"Pre\\u00e7os baixos (10,00 - 24,99 \\u00a3)\"],[\"Pre\\u00e7os m\\u00e9dios (25.00 - 44.99 \\u00a3)\"],[\"Pre\\u00e7os baixos (10,00 - 24,99 \\u00a3)\"],[\"Pre\\u00e7os altos ( 45,00 - 59,99 \\u00a3)\"],[\"Pre\\u00e7os baixos (10,00 - 24,99 \\u00a3)\"],[\"Pre\\u00e7os altos ( 45,00 - 59,99 \\u00a3)\"],[\"Pre\\u00e7os m\\u00e9dios (25.00 - 44.99 \\u00a3)\"],[\"Pre\\u00e7os m\\u00e9dios (25.00 - 44.99 \\u00a3)\"],[\"Pre\\u00e7os m\\u00e9dios (25.00 - 44.99 \\u00a3)\"],[\"Pre\\u00e7os m\\u00e9dios (25.00 - 44.99 \\u00a3)\"],[\"Pre\\u00e7os altos ( 45,00 - 59,99 \\u00a3)\"],[\"Pre\\u00e7os baixos (10,00 - 24,99 \\u00a3)\"],[\"Pre\\u00e7os baixos (10,00 - 24,99 \\u00a3)\"],[\"Pre\\u00e7os altos ( 45,00 - 59,99 \\u00a3)\"],[\"Pre\\u00e7os baixos (10,00 - 24,99 \\u00a3)\"],[\"Pre\\u00e7os altos ( 45,00 - 59,99 \\u00a3)\"],[\"Pre\\u00e7os baixos (10,00 - 24,99 \\u00a3)\"],[\"Pre\\u00e7os baixos (10,00 - 24,99 \\u00a3)\"],[\"Pre\\u00e7os altos ( 45,00 - 59,99 \\u00a3)\"],[\"Pre\\u00e7os altos ( 45,00 - 59,99 \\u00a3)\"],[\"Pre\\u00e7os baixos (10,00 - 24,99 \\u00a3)\"],[\"Pre\\u00e7os baixos (10,00 - 24,99 \\u00a3)\"],[\"Pre\\u00e7os altos ( 45,00 - 59,99 \\u00a3)\"],[\"Pre\\u00e7os altos ( 45,00 - 59,99 \\u00a3)\"],[\"Pre\\u00e7os baixos (10,00 - 24,99 \\u00a3)\"],[\"Pre\\u00e7os m\\u00e9dios (25.00 - 44.99 \\u00a3)\"],[\"Pre\\u00e7os baixos (10,00 - 24,99 \\u00a3)\"],[\"Pre\\u00e7os m\\u00e9dios (25.00 - 44.99 \\u00a3)\"],[\"Pre\\u00e7os m\\u00e9dios (25.00 - 44.99 \\u00a3)\"],[\"Pre\\u00e7os m\\u00e9dios (25.00 - 44.99 \\u00a3)\"],[\"Pre\\u00e7os baixos (10,00 - 24,99 \\u00a3)\"],[\"Pre\\u00e7os m\\u00e9dios (25.00 - 44.99 \\u00a3)\"],[\"Pre\\u00e7os m\\u00e9dios (25.00 - 44.99 \\u00a3)\"],[\"Pre\\u00e7os altos ( 45,00 - 59,99 \\u00a3)\"],[\"Pre\\u00e7os m\\u00e9dios (25.00 - 44.99 \\u00a3)\"],[\"Pre\\u00e7os m\\u00e9dios (25.00 - 44.99 \\u00a3)\"],[\"Pre\\u00e7os altos ( 45,00 - 59,99 \\u00a3)\"],[\"Pre\\u00e7os m\\u00e9dios (25.00 - 44.99 \\u00a3)\"],[\"Pre\\u00e7os baixos (10,00 - 24,99 \\u00a3)\"],[\"Pre\\u00e7os altos ( 45,00 - 59,99 \\u00a3)\"],[\"Pre\\u00e7os m\\u00e9dios (25.00 - 44.99 \\u00a3)\"],[\"Pre\\u00e7os m\\u00e9dios (25.00 - 44.99 \\u00a3)\"],[\"Pre\\u00e7os altos ( 45,00 - 59,99 \\u00a3)\"],[\"Pre\\u00e7os m\\u00e9dios (25.00 - 44.99 \\u00a3)\"],[\"Pre\\u00e7os m\\u00e9dios (25.00 - 44.99 \\u00a3)\"],[\"Pre\\u00e7os altos ( 45,00 - 59,99 \\u00a3)\"],[\"Pre\\u00e7os altos ( 45,00 - 59,99 \\u00a3)\"],[\"Pre\\u00e7os baixos (10,00 - 24,99 \\u00a3)\"],[\"Pre\\u00e7os altos ( 45,00 - 59,99 \\u00a3)\"],[\"Pre\\u00e7os m\\u00e9dios (25.00 - 44.99 \\u00a3)\"],[\"Pre\\u00e7os baixos (10,00 - 24,99 \\u00a3)\"],[\"Pre\\u00e7os altos ( 45,00 - 59,99 \\u00a3)\"],[\"Pre\\u00e7os baixos (10,00 - 24,99 \\u00a3)\"],[\"Pre\\u00e7os altos ( 45,00 - 59,99 \\u00a3)\"],[\"Pre\\u00e7os m\\u00e9dios (25.00 - 44.99 \\u00a3)\"],[\"Pre\\u00e7os baixos (10,00 - 24,99 \\u00a3)\"],[\"Pre\\u00e7os baixos (10,00 - 24,99 \\u00a3)\"],[\"Pre\\u00e7os altos ( 45,00 - 59,99 \\u00a3)\"],[\"Pre\\u00e7os m\\u00e9dios (25.00 - 44.99 \\u00a3)\"],[\"Pre\\u00e7os altos ( 45,00 - 59,99 \\u00a3)\"],[\"Pre\\u00e7os m\\u00e9dios (25.00 - 44.99 \\u00a3)\"],[\"Pre\\u00e7os baixos (10,00 - 24,99 \\u00a3)\"],[\"Pre\\u00e7os baixos (10,00 - 24,99 \\u00a3)\"],[\"Pre\\u00e7os m\\u00e9dios (25.00 - 44.99 \\u00a3)\"],[\"Pre\\u00e7os m\\u00e9dios (25.00 - 44.99 \\u00a3)\"],[\"Pre\\u00e7os baixos (10,00 - 24,99 \\u00a3)\"],[\"Pre\\u00e7os baixos (10,00 - 24,99 \\u00a3)\"],[\"Pre\\u00e7os altos ( 45,00 - 59,99 \\u00a3)\"],[\"Pre\\u00e7os altos ( 45,00 - 59,99 \\u00a3)\"],[\"Pre\\u00e7os m\\u00e9dios (25.00 - 44.99 \\u00a3)\"],[\"Pre\\u00e7os altos ( 45,00 - 59,99 \\u00a3)\"],[\"Pre\\u00e7os baixos (10,00 - 24,99 \\u00a3)\"],[\"Pre\\u00e7os m\\u00e9dios (25.00 - 44.99 \\u00a3)\"],[\"Pre\\u00e7os baixos (10,00 - 24,99 \\u00a3)\"],[\"Pre\\u00e7os m\\u00e9dios (25.00 - 44.99 \\u00a3)\"],[\"Pre\\u00e7os m\\u00e9dios (25.00 - 44.99 \\u00a3)\"],[\"Pre\\u00e7os altos ( 45,00 - 59,99 \\u00a3)\"],[\"Pre\\u00e7os altos ( 45,00 - 59,99 \\u00a3)\"],[\"Pre\\u00e7os altos ( 45,00 - 59,99 \\u00a3)\"],[\"Pre\\u00e7os baixos (10,00 - 24,99 \\u00a3)\"],[\"Pre\\u00e7os altos ( 45,00 - 59,99 \\u00a3)\"],[\"Pre\\u00e7os altos ( 45,00 - 59,99 \\u00a3)\"],[\"Pre\\u00e7os m\\u00e9dios (25.00 - 44.99 \\u00a3)\"],[\"Pre\\u00e7os baixos (10,00 - 24,99 \\u00a3)\"],[\"Pre\\u00e7os altos ( 45,00 - 59,99 \\u00a3)\"],[\"Pre\\u00e7os baixos (10,00 - 24,99 \\u00a3)\"],[\"Pre\\u00e7os baixos (10,00 - 24,99 \\u00a3)\"],[\"Pre\\u00e7os altos ( 45,00 - 59,99 \\u00a3)\"],[\"Pre\\u00e7os m\\u00e9dios (25.00 - 44.99 \\u00a3)\"],[\"Pre\\u00e7os m\\u00e9dios (25.00 - 44.99 \\u00a3)\"],[\"Pre\\u00e7os baixos (10,00 - 24,99 \\u00a3)\"],[\"Pre\\u00e7os m\\u00e9dios (25.00 - 44.99 \\u00a3)\"],[\"Pre\\u00e7os baixos (10,00 - 24,99 \\u00a3)\"],[\"Pre\\u00e7os m\\u00e9dios (25.00 - 44.99 \\u00a3)\"],[\"Pre\\u00e7os m\\u00e9dios (25.00 - 44.99 \\u00a3)\"],[\"Pre\\u00e7os m\\u00e9dios (25.00 - 44.99 \\u00a3)\"],[\"Pre\\u00e7os altos ( 45,00 - 59,99 \\u00a3)\"],[\"Pre\\u00e7os baixos (10,00 - 24,99 \\u00a3)\"],[\"Pre\\u00e7os m\\u00e9dios (25.00 - 44.99 \\u00a3)\"],[\"Pre\\u00e7os baixos (10,00 - 24,99 \\u00a3)\"],[\"Pre\\u00e7os m\\u00e9dios (25.00 - 44.99 \\u00a3)\"],[\"Pre\\u00e7os m\\u00e9dios (25.00 - 44.99 \\u00a3)\"],[\"Pre\\u00e7os baixos (10,00 - 24,99 \\u00a3)\"],[\"Pre\\u00e7os m\\u00e9dios (25.00 - 44.99 \\u00a3)\"],[\"Pre\\u00e7os m\\u00e9dios (25.00 - 44.99 \\u00a3)\"],[\"Pre\\u00e7os m\\u00e9dios (25.00 - 44.99 \\u00a3)\"],[\"Pre\\u00e7os altos ( 45,00 - 59,99 \\u00a3)\"],[\"Pre\\u00e7os altos ( 45,00 - 59,99 \\u00a3)\"],[\"Pre\\u00e7os altos ( 45,00 - 59,99 \\u00a3)\"],[\"Pre\\u00e7os m\\u00e9dios (25.00 - 44.99 \\u00a3)\"],[\"Pre\\u00e7os baixos (10,00 - 24,99 \\u00a3)\"],[\"Pre\\u00e7os baixos (10,00 - 24,99 \\u00a3)\"],[\"Pre\\u00e7os m\\u00e9dios (25.00 - 44.99 \\u00a3)\"],[\"Pre\\u00e7os altos ( 45,00 - 59,99 \\u00a3)\"],[\"Pre\\u00e7os m\\u00e9dios (25.00 - 44.99 \\u00a3)\"],[\"Pre\\u00e7os baixos (10,00 - 24,99 \\u00a3)\"],[\"Pre\\u00e7os altos ( 45,00 - 59,99 \\u00a3)\"],[\"Pre\\u00e7os m\\u00e9dios (25.00 - 44.99 \\u00a3)\"],[\"Pre\\u00e7os m\\u00e9dios (25.00 - 44.99 \\u00a3)\"],[\"Pre\\u00e7os altos ( 45,00 - 59,99 \\u00a3)\"],[\"Pre\\u00e7os altos ( 45,00 - 59,99 \\u00a3)\"],[\"Pre\\u00e7os m\\u00e9dios (25.00 - 44.99 \\u00a3)\"],[\"Pre\\u00e7os m\\u00e9dios (25.00 - 44.99 \\u00a3)\"],[\"Pre\\u00e7os baixos (10,00 - 24,99 \\u00a3)\"],[\"Pre\\u00e7os altos ( 45,00 - 59,99 \\u00a3)\"],[\"Pre\\u00e7os m\\u00e9dios (25.00 - 44.99 \\u00a3)\"],[\"Pre\\u00e7os m\\u00e9dios (25.00 - 44.99 \\u00a3)\"],[\"Pre\\u00e7os altos ( 45,00 - 59,99 \\u00a3)\"],[\"Pre\\u00e7os baixos (10,00 - 24,99 \\u00a3)\"],[\"Pre\\u00e7os m\\u00e9dios (25.00 - 44.99 \\u00a3)\"],[\"Pre\\u00e7os m\\u00e9dios (25.00 - 44.99 \\u00a3)\"],[\"Pre\\u00e7os m\\u00e9dios (25.00 - 44.99 \\u00a3)\"],[\"Pre\\u00e7os altos ( 45,00 - 59,99 \\u00a3)\"],[\"Pre\\u00e7os m\\u00e9dios (25.00 - 44.99 \\u00a3)\"],[\"Pre\\u00e7os altos ( 45,00 - 59,99 \\u00a3)\"],[\"Pre\\u00e7os m\\u00e9dios (25.00 - 44.99 \\u00a3)\"],[\"Pre\\u00e7os baixos (10,00 - 24,99 \\u00a3)\"],[\"Pre\\u00e7os m\\u00e9dios (25.00 - 44.99 \\u00a3)\"],[\"Pre\\u00e7os m\\u00e9dios (25.00 - 44.99 \\u00a3)\"],[\"Pre\\u00e7os m\\u00e9dios (25.00 - 44.99 \\u00a3)\"],[\"Pre\\u00e7os m\\u00e9dios (25.00 - 44.99 \\u00a3)\"],[\"Pre\\u00e7os altos ( 45,00 - 59,99 \\u00a3)\"],[\"Pre\\u00e7os altos ( 45,00 - 59,99 \\u00a3)\"],[\"Pre\\u00e7os altos ( 45,00 - 59,99 \\u00a3)\"],[\"Pre\\u00e7os baixos (10,00 - 24,99 \\u00a3)\"],[\"Pre\\u00e7os baixos (10,00 - 24,99 \\u00a3)\"],[\"Pre\\u00e7os m\\u00e9dios (25.00 - 44.99 \\u00a3)\"],[\"Pre\\u00e7os m\\u00e9dios (25.00 - 44.99 \\u00a3)\"],[\"Pre\\u00e7os m\\u00e9dios (25.00 - 44.99 \\u00a3)\"],[\"Pre\\u00e7os baixos (10,00 - 24,99 \\u00a3)\"],[\"Pre\\u00e7os altos ( 45,00 - 59,99 \\u00a3)\"],[\"Pre\\u00e7os altos ( 45,00 - 59,99 \\u00a3)\"],[\"Pre\\u00e7os altos ( 45,00 - 59,99 \\u00a3)\"],[\"Pre\\u00e7os baixos (10,00 - 24,99 \\u00a3)\"],[\"Pre\\u00e7os m\\u00e9dios (25.00 - 44.99 \\u00a3)\"],[\"Pre\\u00e7os baixos (10,00 - 24,99 \\u00a3)\"],[\"Pre\\u00e7os altos ( 45,00 - 59,99 \\u00a3)\"],[\"Pre\\u00e7os baixos (10,00 - 24,99 \\u00a3)\"],[\"Pre\\u00e7os altos ( 45,00 - 59,99 \\u00a3)\"],[\"Pre\\u00e7os baixos (10,00 - 24,99 \\u00a3)\"],[\"Pre\\u00e7os m\\u00e9dios (25.00 - 44.99 \\u00a3)\"],[\"Pre\\u00e7os altos ( 45,00 - 59,99 \\u00a3)\"],[\"Pre\\u00e7os m\\u00e9dios (25.00 - 44.99 \\u00a3)\"],[\"Pre\\u00e7os m\\u00e9dios (25.00 - 44.99 \\u00a3)\"],[\"Pre\\u00e7os baixos (10,00 - 24,99 \\u00a3)\"],[\"Pre\\u00e7os m\\u00e9dios (25.00 - 44.99 \\u00a3)\"],[\"Pre\\u00e7os altos ( 45,00 - 59,99 \\u00a3)\"],[\"Pre\\u00e7os baixos (10,00 - 24,99 \\u00a3)\"],[\"Pre\\u00e7os m\\u00e9dios (25.00 - 44.99 \\u00a3)\"],[\"Pre\\u00e7os baixos (10,00 - 24,99 \\u00a3)\"],[\"Pre\\u00e7os m\\u00e9dios (25.00 - 44.99 \\u00a3)\"],[\"Pre\\u00e7os altos ( 45,00 - 59,99 \\u00a3)\"],[\"Pre\\u00e7os baixos (10,00 - 24,99 \\u00a3)\"],[\"Pre\\u00e7os baixos (10,00 - 24,99 \\u00a3)\"],[\"Pre\\u00e7os m\\u00e9dios (25.00 - 44.99 \\u00a3)\"],[\"Pre\\u00e7os m\\u00e9dios (25.00 - 44.99 \\u00a3)\"],[\"Pre\\u00e7os baixos (10,00 - 24,99 \\u00a3)\"],[\"Pre\\u00e7os m\\u00e9dios (25.00 - 44.99 \\u00a3)\"],[\"Pre\\u00e7os baixos (10,00 - 24,99 \\u00a3)\"],[\"Pre\\u00e7os baixos (10,00 - 24,99 \\u00a3)\"],[\"Pre\\u00e7os altos ( 45,00 - 59,99 \\u00a3)\"],[\"Pre\\u00e7os m\\u00e9dios (25.00 - 44.99 \\u00a3)\"],[\"Pre\\u00e7os m\\u00e9dios (25.00 - 44.99 \\u00a3)\"],[\"Pre\\u00e7os m\\u00e9dios (25.00 - 44.99 \\u00a3)\"],[\"Pre\\u00e7os baixos (10,00 - 24,99 \\u00a3)\"],[\"Pre\\u00e7os m\\u00e9dios (25.00 - 44.99 \\u00a3)\"],[\"Pre\\u00e7os altos ( 45,00 - 59,99 \\u00a3)\"],[\"Pre\\u00e7os m\\u00e9dios (25.00 - 44.99 \\u00a3)\"],[\"Pre\\u00e7os altos ( 45,00 - 59,99 \\u00a3)\"],[\"Pre\\u00e7os baixos (10,00 - 24,99 \\u00a3)\"],[\"Pre\\u00e7os m\\u00e9dios (25.00 - 44.99 \\u00a3)\"],[\"Pre\\u00e7os altos ( 45,00 - 59,99 \\u00a3)\"],[\"Pre\\u00e7os baixos (10,00 - 24,99 \\u00a3)\"],[\"Pre\\u00e7os baixos (10,00 - 24,99 \\u00a3)\"],[\"Pre\\u00e7os baixos (10,00 - 24,99 \\u00a3)\"],[\"Pre\\u00e7os baixos (10,00 - 24,99 \\u00a3)\"],[\"Pre\\u00e7os baixos (10,00 - 24,99 \\u00a3)\"],[\"Pre\\u00e7os m\\u00e9dios (25.00 - 44.99 \\u00a3)\"],[\"Pre\\u00e7os m\\u00e9dios (25.00 - 44.99 \\u00a3)\"],[\"Pre\\u00e7os altos ( 45,00 - 59,99 \\u00a3)\"],[\"Pre\\u00e7os altos ( 45,00 - 59,99 \\u00a3)\"],[\"Pre\\u00e7os baixos (10,00 - 24,99 \\u00a3)\"],[\"Pre\\u00e7os altos ( 45,00 - 59,99 \\u00a3)\"],[\"Pre\\u00e7os baixos (10,00 - 24,99 \\u00a3)\"],[\"Pre\\u00e7os m\\u00e9dios (25.00 - 44.99 \\u00a3)\"],[\"Pre\\u00e7os m\\u00e9dios (25.00 - 44.99 \\u00a3)\"],[\"Pre\\u00e7os altos ( 45,00 - 59,99 \\u00a3)\"],[\"Pre\\u00e7os m\\u00e9dios (25.00 - 44.99 \\u00a3)\"],[\"Pre\\u00e7os baixos (10,00 - 24,99 \\u00a3)\"],[\"Pre\\u00e7os altos ( 45,00 - 59,99 \\u00a3)\"],[\"Pre\\u00e7os m\\u00e9dios (25.00 - 44.99 \\u00a3)\"],[\"Pre\\u00e7os altos ( 45,00 - 59,99 \\u00a3)\"],[\"Pre\\u00e7os m\\u00e9dios (25.00 - 44.99 \\u00a3)\"],[\"Pre\\u00e7os altos ( 45,00 - 59,99 \\u00a3)\"],[\"Pre\\u00e7os baixos (10,00 - 24,99 \\u00a3)\"],[\"Pre\\u00e7os m\\u00e9dios (25.00 - 44.99 \\u00a3)\"],[\"Pre\\u00e7os m\\u00e9dios (25.00 - 44.99 \\u00a3)\"],[\"Pre\\u00e7os m\\u00e9dios (25.00 - 44.99 \\u00a3)\"],[\"Pre\\u00e7os baixos (10,00 - 24,99 \\u00a3)\"],[\"Pre\\u00e7os m\\u00e9dios (25.00 - 44.99 \\u00a3)\"],[\"Pre\\u00e7os m\\u00e9dios (25.00 - 44.99 \\u00a3)\"],[\"Pre\\u00e7os m\\u00e9dios (25.00 - 44.99 \\u00a3)\"],[\"Pre\\u00e7os altos ( 45,00 - 59,99 \\u00a3)\"],[\"Pre\\u00e7os m\\u00e9dios (25.00 - 44.99 \\u00a3)\"],[\"Pre\\u00e7os m\\u00e9dios (25.00 - 44.99 \\u00a3)\"],[\"Pre\\u00e7os altos ( 45,00 - 59,99 \\u00a3)\"],[\"Pre\\u00e7os m\\u00e9dios (25.00 - 44.99 \\u00a3)\"],[\"Pre\\u00e7os altos ( 45,00 - 59,99 \\u00a3)\"],[\"Pre\\u00e7os m\\u00e9dios (25.00 - 44.99 \\u00a3)\"],[\"Pre\\u00e7os altos ( 45,00 - 59,99 \\u00a3)\"],[\"Pre\\u00e7os altos ( 45,00 - 59,99 \\u00a3)\"],[\"Pre\\u00e7os m\\u00e9dios (25.00 - 44.99 \\u00a3)\"],[\"Pre\\u00e7os baixos (10,00 - 24,99 \\u00a3)\"],[\"Pre\\u00e7os m\\u00e9dios (25.00 - 44.99 \\u00a3)\"],[\"Pre\\u00e7os m\\u00e9dios (25.00 - 44.99 \\u00a3)\"],[\"Pre\\u00e7os baixos (10,00 - 24,99 \\u00a3)\"],[\"Pre\\u00e7os baixos (10,00 - 24,99 \\u00a3)\"],[\"Pre\\u00e7os baixos (10,00 - 24,99 \\u00a3)\"],[\"Pre\\u00e7os baixos (10,00 - 24,99 \\u00a3)\"],[\"Pre\\u00e7os baixos (10,00 - 24,99 \\u00a3)\"],[\"Pre\\u00e7os baixos (10,00 - 24,99 \\u00a3)\"],[\"Pre\\u00e7os altos ( 45,00 - 59,99 \\u00a3)\"],[\"Pre\\u00e7os m\\u00e9dios (25.00 - 44.99 \\u00a3)\"],[\"Pre\\u00e7os m\\u00e9dios (25.00 - 44.99 \\u00a3)\"],[\"Pre\\u00e7os baixos (10,00 - 24,99 \\u00a3)\"],[\"Pre\\u00e7os m\\u00e9dios (25.00 - 44.99 \\u00a3)\"],[\"Pre\\u00e7os m\\u00e9dios (25.00 - 44.99 \\u00a3)\"],[\"Pre\\u00e7os baixos (10,00 - 24,99 \\u00a3)\"],[\"Pre\\u00e7os m\\u00e9dios (25.00 - 44.99 \\u00a3)\"],[\"Pre\\u00e7os altos ( 45,00 - 59,99 \\u00a3)\"],[\"Pre\\u00e7os baixos (10,00 - 24,99 \\u00a3)\"],[\"Pre\\u00e7os m\\u00e9dios (25.00 - 44.99 \\u00a3)\"],[\"Pre\\u00e7os m\\u00e9dios (25.00 - 44.99 \\u00a3)\"],[\"Pre\\u00e7os m\\u00e9dios (25.00 - 44.99 \\u00a3)\"],[\"Pre\\u00e7os m\\u00e9dios (25.00 - 44.99 \\u00a3)\"],[\"Pre\\u00e7os altos ( 45,00 - 59,99 \\u00a3)\"],[\"Pre\\u00e7os baixos (10,00 - 24,99 \\u00a3)\"],[\"Pre\\u00e7os baixos (10,00 - 24,99 \\u00a3)\"],[\"Pre\\u00e7os m\\u00e9dios (25.00 - 44.99 \\u00a3)\"],[\"Pre\\u00e7os m\\u00e9dios (25.00 - 44.99 \\u00a3)\"],[\"Pre\\u00e7os altos ( 45,00 - 59,99 \\u00a3)\"],[\"Pre\\u00e7os m\\u00e9dios (25.00 - 44.99 \\u00a3)\"],[\"Pre\\u00e7os altos ( 45,00 - 59,99 \\u00a3)\"],[\"Pre\\u00e7os m\\u00e9dios (25.00 - 44.99 \\u00a3)\"],[\"Pre\\u00e7os altos ( 45,00 - 59,99 \\u00a3)\"],[\"Pre\\u00e7os altos ( 45,00 - 59,99 \\u00a3)\"],[\"Pre\\u00e7os m\\u00e9dios (25.00 - 44.99 \\u00a3)\"],[\"Pre\\u00e7os m\\u00e9dios (25.00 - 44.99 \\u00a3)\"],[\"Pre\\u00e7os m\\u00e9dios (25.00 - 44.99 \\u00a3)\"],[\"Pre\\u00e7os m\\u00e9dios (25.00 - 44.99 \\u00a3)\"],[\"Pre\\u00e7os m\\u00e9dios (25.00 - 44.99 \\u00a3)\"],[\"Pre\\u00e7os baixos (10,00 - 24,99 \\u00a3)\"],[\"Pre\\u00e7os altos ( 45,00 - 59,99 \\u00a3)\"],[\"Pre\\u00e7os altos ( 45,00 - 59,99 \\u00a3)\"],[\"Pre\\u00e7os m\\u00e9dios (25.00 - 44.99 \\u00a3)\"],[\"Pre\\u00e7os m\\u00e9dios (25.00 - 44.99 \\u00a3)\"],[\"Pre\\u00e7os m\\u00e9dios (25.00 - 44.99 \\u00a3)\"],[\"Pre\\u00e7os altos ( 45,00 - 59,99 \\u00a3)\"],[\"Pre\\u00e7os m\\u00e9dios (25.00 - 44.99 \\u00a3)\"],[\"Pre\\u00e7os altos ( 45,00 - 59,99 \\u00a3)\"],[\"Pre\\u00e7os m\\u00e9dios (25.00 - 44.99 \\u00a3)\"],[\"Pre\\u00e7os m\\u00e9dios (25.00 - 44.99 \\u00a3)\"],[\"Pre\\u00e7os m\\u00e9dios (25.00 - 44.99 \\u00a3)\"],[\"Pre\\u00e7os m\\u00e9dios (25.00 - 44.99 \\u00a3)\"],[\"Pre\\u00e7os m\\u00e9dios (25.00 - 44.99 \\u00a3)\"],[\"Pre\\u00e7os altos ( 45,00 - 59,99 \\u00a3)\"],[\"Pre\\u00e7os altos ( 45,00 - 59,99 \\u00a3)\"],[\"Pre\\u00e7os m\\u00e9dios (25.00 - 44.99 \\u00a3)\"],[\"Pre\\u00e7os baixos (10,00 - 24,99 \\u00a3)\"],[\"Pre\\u00e7os m\\u00e9dios (25.00 - 44.99 \\u00a3)\"],[\"Pre\\u00e7os m\\u00e9dios (25.00 - 44.99 \\u00a3)\"],[\"Pre\\u00e7os m\\u00e9dios (25.00 - 44.99 \\u00a3)\"],[\"Pre\\u00e7os m\\u00e9dios (25.00 - 44.99 \\u00a3)\"],[\"Pre\\u00e7os baixos (10,00 - 24,99 \\u00a3)\"],[\"Pre\\u00e7os m\\u00e9dios (25.00 - 44.99 \\u00a3)\"],[\"Pre\\u00e7os m\\u00e9dios (25.00 - 44.99 \\u00a3)\"],[\"Pre\\u00e7os altos ( 45,00 - 59,99 \\u00a3)\"],[\"Pre\\u00e7os altos ( 45,00 - 59,99 \\u00a3)\"],[\"Pre\\u00e7os baixos (10,00 - 24,99 \\u00a3)\"],[\"Pre\\u00e7os altos ( 45,00 - 59,99 \\u00a3)\"],[\"Pre\\u00e7os m\\u00e9dios (25.00 - 44.99 \\u00a3)\"]],\"domain\":{\"x\":[0.0,1.0],\"y\":[0.0,1.0]},\"hole\":0.5,\"hovertemplate\":\"Faixa=%{customdata[0]}<br>Pre\\u00e7o total=%{value}<extra></extra>\",\"labels\":[\"Pre\\u00e7os altos ( 45,00 - 59,99 \\u00a3)\",\"Pre\\u00e7os altos ( 45,00 - 59,99 \\u00a3)\",\"Pre\\u00e7os altos ( 45,00 - 59,99 \\u00a3)\",\"Pre\\u00e7os altos ( 45,00 - 59,99 \\u00a3)\",\"Pre\\u00e7os altos ( 45,00 - 59,99 \\u00a3)\",\"Pre\\u00e7os baixos (10,00 - 24,99 \\u00a3)\",\"Pre\\u00e7os m\\u00e9dios (25.00 - 44.99 \\u00a3)\",\"Pre\\u00e7os baixos (10,00 - 24,99 \\u00a3)\",\"Pre\\u00e7os baixos (10,00 - 24,99 \\u00a3)\",\"Pre\\u00e7os altos ( 45,00 - 59,99 \\u00a3)\",\"Pre\\u00e7os baixos (10,00 - 24,99 \\u00a3)\",\"Pre\\u00e7os baixos (10,00 - 24,99 \\u00a3)\",\"Pre\\u00e7os baixos (10,00 - 24,99 \\u00a3)\",\"Pre\\u00e7os altos ( 45,00 - 59,99 \\u00a3)\",\"Pre\\u00e7os m\\u00e9dios (25.00 - 44.99 \\u00a3)\",\"Pre\\u00e7os altos ( 45,00 - 59,99 \\u00a3)\",\"Pre\\u00e7os baixos (10,00 - 24,99 \\u00a3)\",\"Pre\\u00e7os m\\u00e9dios (25.00 - 44.99 \\u00a3)\",\"Pre\\u00e7os altos ( 45,00 - 59,99 \\u00a3)\",\"Pre\\u00e7os altos ( 45,00 - 59,99 \\u00a3)\",\"Pre\\u00e7os baixos (10,00 - 24,99 \\u00a3)\",\"Pre\\u00e7os m\\u00e9dios (25.00 - 44.99 \\u00a3)\",\"Pre\\u00e7os m\\u00e9dios (25.00 - 44.99 \\u00a3)\",\"Pre\\u00e7os m\\u00e9dios (25.00 - 44.99 \\u00a3)\",\"Pre\\u00e7os m\\u00e9dios (25.00 - 44.99 \\u00a3)\",\"Pre\\u00e7os altos ( 45,00 - 59,99 \\u00a3)\",\"Pre\\u00e7os baixos (10,00 - 24,99 \\u00a3)\",\"Pre\\u00e7os altos ( 45,00 - 59,99 \\u00a3)\",\"Pre\\u00e7os m\\u00e9dios (25.00 - 44.99 \\u00a3)\",\"Pre\\u00e7os m\\u00e9dios (25.00 - 44.99 \\u00a3)\",\"Pre\\u00e7os baixos (10,00 - 24,99 \\u00a3)\",\"Pre\\u00e7os m\\u00e9dios (25.00 - 44.99 \\u00a3)\",\"Pre\\u00e7os baixos (10,00 - 24,99 \\u00a3)\",\"Pre\\u00e7os m\\u00e9dios (25.00 - 44.99 \\u00a3)\",\"Pre\\u00e7os baixos (10,00 - 24,99 \\u00a3)\",\"Pre\\u00e7os m\\u00e9dios (25.00 - 44.99 \\u00a3)\",\"Pre\\u00e7os baixos (10,00 - 24,99 \\u00a3)\",\"Pre\\u00e7os baixos (10,00 - 24,99 \\u00a3)\",\"Pre\\u00e7os altos ( 45,00 - 59,99 \\u00a3)\",\"Pre\\u00e7os m\\u00e9dios (25.00 - 44.99 \\u00a3)\",\"Pre\\u00e7os altos ( 45,00 - 59,99 \\u00a3)\",\"Pre\\u00e7os m\\u00e9dios (25.00 - 44.99 \\u00a3)\",\"Pre\\u00e7os altos ( 45,00 - 59,99 \\u00a3)\",\"Pre\\u00e7os baixos (10,00 - 24,99 \\u00a3)\",\"Pre\\u00e7os altos ( 45,00 - 59,99 \\u00a3)\",\"Pre\\u00e7os m\\u00e9dios (25.00 - 44.99 \\u00a3)\",\"Pre\\u00e7os altos ( 45,00 - 59,99 \\u00a3)\",\"Pre\\u00e7os baixos (10,00 - 24,99 \\u00a3)\",\"Pre\\u00e7os m\\u00e9dios (25.00 - 44.99 \\u00a3)\",\"Pre\\u00e7os baixos (10,00 - 24,99 \\u00a3)\",\"Pre\\u00e7os m\\u00e9dios (25.00 - 44.99 \\u00a3)\",\"Pre\\u00e7os baixos (10,00 - 24,99 \\u00a3)\",\"Pre\\u00e7os m\\u00e9dios (25.00 - 44.99 \\u00a3)\",\"Pre\\u00e7os baixos (10,00 - 24,99 \\u00a3)\",\"Pre\\u00e7os baixos (10,00 - 24,99 \\u00a3)\",\"Pre\\u00e7os baixos (10,00 - 24,99 \\u00a3)\",\"Pre\\u00e7os altos ( 45,00 - 59,99 \\u00a3)\",\"Pre\\u00e7os altos ( 45,00 - 59,99 \\u00a3)\",\"Pre\\u00e7os altos ( 45,00 - 59,99 \\u00a3)\",\"Pre\\u00e7os altos ( 45,00 - 59,99 \\u00a3)\",\"Pre\\u00e7os m\\u00e9dios (25.00 - 44.99 \\u00a3)\",\"Pre\\u00e7os altos ( 45,00 - 59,99 \\u00a3)\",\"Pre\\u00e7os m\\u00e9dios (25.00 - 44.99 \\u00a3)\",\"Pre\\u00e7os baixos (10,00 - 24,99 \\u00a3)\",\"Pre\\u00e7os baixos (10,00 - 24,99 \\u00a3)\",\"Pre\\u00e7os baixos (10,00 - 24,99 \\u00a3)\",\"Pre\\u00e7os m\\u00e9dios (25.00 - 44.99 \\u00a3)\",\"Pre\\u00e7os altos ( 45,00 - 59,99 \\u00a3)\",\"Pre\\u00e7os altos ( 45,00 - 59,99 \\u00a3)\",\"Pre\\u00e7os altos ( 45,00 - 59,99 \\u00a3)\",\"Pre\\u00e7os m\\u00e9dios (25.00 - 44.99 \\u00a3)\",\"Pre\\u00e7os baixos (10,00 - 24,99 \\u00a3)\",\"Pre\\u00e7os m\\u00e9dios (25.00 - 44.99 \\u00a3)\",\"Pre\\u00e7os m\\u00e9dios (25.00 - 44.99 \\u00a3)\",\"Pre\\u00e7os m\\u00e9dios (25.00 - 44.99 \\u00a3)\",\"Pre\\u00e7os m\\u00e9dios (25.00 - 44.99 \\u00a3)\",\"Pre\\u00e7os m\\u00e9dios (25.00 - 44.99 \\u00a3)\",\"Pre\\u00e7os altos ( 45,00 - 59,99 \\u00a3)\",\"Pre\\u00e7os baixos (10,00 - 24,99 \\u00a3)\",\"Pre\\u00e7os altos ( 45,00 - 59,99 \\u00a3)\",\"Pre\\u00e7os baixos (10,00 - 24,99 \\u00a3)\",\"Pre\\u00e7os baixos (10,00 - 24,99 \\u00a3)\",\"Pre\\u00e7os baixos (10,00 - 24,99 \\u00a3)\",\"Pre\\u00e7os m\\u00e9dios (25.00 - 44.99 \\u00a3)\",\"Pre\\u00e7os baixos (10,00 - 24,99 \\u00a3)\",\"Pre\\u00e7os baixos (10,00 - 24,99 \\u00a3)\",\"Pre\\u00e7os altos ( 45,00 - 59,99 \\u00a3)\",\"Pre\\u00e7os altos ( 45,00 - 59,99 \\u00a3)\",\"Pre\\u00e7os baixos (10,00 - 24,99 \\u00a3)\",\"Pre\\u00e7os baixos (10,00 - 24,99 \\u00a3)\",\"Pre\\u00e7os m\\u00e9dios (25.00 - 44.99 \\u00a3)\",\"Pre\\u00e7os altos ( 45,00 - 59,99 \\u00a3)\",\"Pre\\u00e7os baixos (10,00 - 24,99 \\u00a3)\",\"Pre\\u00e7os altos ( 45,00 - 59,99 \\u00a3)\",\"Pre\\u00e7os altos ( 45,00 - 59,99 \\u00a3)\",\"Pre\\u00e7os baixos (10,00 - 24,99 \\u00a3)\",\"Pre\\u00e7os m\\u00e9dios (25.00 - 44.99 \\u00a3)\",\"Pre\\u00e7os altos ( 45,00 - 59,99 \\u00a3)\",\"Pre\\u00e7os m\\u00e9dios (25.00 - 44.99 \\u00a3)\",\"Pre\\u00e7os baixos (10,00 - 24,99 \\u00a3)\",\"Pre\\u00e7os altos ( 45,00 - 59,99 \\u00a3)\",\"Pre\\u00e7os m\\u00e9dios (25.00 - 44.99 \\u00a3)\",\"Pre\\u00e7os altos ( 45,00 - 59,99 \\u00a3)\",\"Pre\\u00e7os altos ( 45,00 - 59,99 \\u00a3)\",\"Pre\\u00e7os m\\u00e9dios (25.00 - 44.99 \\u00a3)\",\"Pre\\u00e7os baixos (10,00 - 24,99 \\u00a3)\",\"Pre\\u00e7os m\\u00e9dios (25.00 - 44.99 \\u00a3)\",\"Pre\\u00e7os baixos (10,00 - 24,99 \\u00a3)\",\"Pre\\u00e7os baixos (10,00 - 24,99 \\u00a3)\",\"Pre\\u00e7os altos ( 45,00 - 59,99 \\u00a3)\",\"Pre\\u00e7os m\\u00e9dios (25.00 - 44.99 \\u00a3)\",\"Pre\\u00e7os altos ( 45,00 - 59,99 \\u00a3)\",\"Pre\\u00e7os m\\u00e9dios (25.00 - 44.99 \\u00a3)\",\"Pre\\u00e7os m\\u00e9dios (25.00 - 44.99 \\u00a3)\",\"Pre\\u00e7os baixos (10,00 - 24,99 \\u00a3)\",\"Pre\\u00e7os m\\u00e9dios (25.00 - 44.99 \\u00a3)\",\"Pre\\u00e7os m\\u00e9dios (25.00 - 44.99 \\u00a3)\",\"Pre\\u00e7os altos ( 45,00 - 59,99 \\u00a3)\",\"Pre\\u00e7os m\\u00e9dios (25.00 - 44.99 \\u00a3)\",\"Pre\\u00e7os m\\u00e9dios (25.00 - 44.99 \\u00a3)\",\"Pre\\u00e7os m\\u00e9dios (25.00 - 44.99 \\u00a3)\",\"Pre\\u00e7os m\\u00e9dios (25.00 - 44.99 \\u00a3)\",\"Pre\\u00e7os altos ( 45,00 - 59,99 \\u00a3)\",\"Pre\\u00e7os baixos (10,00 - 24,99 \\u00a3)\",\"Pre\\u00e7os altos ( 45,00 - 59,99 \\u00a3)\",\"Pre\\u00e7os m\\u00e9dios (25.00 - 44.99 \\u00a3)\",\"Pre\\u00e7os altos ( 45,00 - 59,99 \\u00a3)\",\"Pre\\u00e7os altos ( 45,00 - 59,99 \\u00a3)\",\"Pre\\u00e7os baixos (10,00 - 24,99 \\u00a3)\",\"Pre\\u00e7os m\\u00e9dios (25.00 - 44.99 \\u00a3)\",\"Pre\\u00e7os baixos (10,00 - 24,99 \\u00a3)\",\"Pre\\u00e7os m\\u00e9dios (25.00 - 44.99 \\u00a3)\",\"Pre\\u00e7os m\\u00e9dios (25.00 - 44.99 \\u00a3)\",\"Pre\\u00e7os altos ( 45,00 - 59,99 \\u00a3)\",\"Pre\\u00e7os altos ( 45,00 - 59,99 \\u00a3)\",\"Pre\\u00e7os altos ( 45,00 - 59,99 \\u00a3)\",\"Pre\\u00e7os baixos (10,00 - 24,99 \\u00a3)\",\"Pre\\u00e7os m\\u00e9dios (25.00 - 44.99 \\u00a3)\",\"Pre\\u00e7os baixos (10,00 - 24,99 \\u00a3)\",\"Pre\\u00e7os baixos (10,00 - 24,99 \\u00a3)\",\"Pre\\u00e7os m\\u00e9dios (25.00 - 44.99 \\u00a3)\",\"Pre\\u00e7os m\\u00e9dios (25.00 - 44.99 \\u00a3)\",\"Pre\\u00e7os altos ( 45,00 - 59,99 \\u00a3)\",\"Pre\\u00e7os m\\u00e9dios (25.00 - 44.99 \\u00a3)\",\"Pre\\u00e7os baixos (10,00 - 24,99 \\u00a3)\",\"Pre\\u00e7os m\\u00e9dios (25.00 - 44.99 \\u00a3)\",\"Pre\\u00e7os m\\u00e9dios (25.00 - 44.99 \\u00a3)\",\"Pre\\u00e7os m\\u00e9dios (25.00 - 44.99 \\u00a3)\",\"Pre\\u00e7os m\\u00e9dios (25.00 - 44.99 \\u00a3)\",\"Pre\\u00e7os m\\u00e9dios (25.00 - 44.99 \\u00a3)\",\"Pre\\u00e7os altos ( 45,00 - 59,99 \\u00a3)\",\"Pre\\u00e7os m\\u00e9dios (25.00 - 44.99 \\u00a3)\",\"Pre\\u00e7os baixos (10,00 - 24,99 \\u00a3)\",\"Pre\\u00e7os m\\u00e9dios (25.00 - 44.99 \\u00a3)\",\"Pre\\u00e7os m\\u00e9dios (25.00 - 44.99 \\u00a3)\",\"Pre\\u00e7os m\\u00e9dios (25.00 - 44.99 \\u00a3)\",\"Pre\\u00e7os altos ( 45,00 - 59,99 \\u00a3)\",\"Pre\\u00e7os baixos (10,00 - 24,99 \\u00a3)\",\"Pre\\u00e7os baixos (10,00 - 24,99 \\u00a3)\",\"Pre\\u00e7os m\\u00e9dios (25.00 - 44.99 \\u00a3)\",\"Pre\\u00e7os m\\u00e9dios (25.00 - 44.99 \\u00a3)\",\"Pre\\u00e7os m\\u00e9dios (25.00 - 44.99 \\u00a3)\",\"Pre\\u00e7os m\\u00e9dios (25.00 - 44.99 \\u00a3)\",\"Pre\\u00e7os baixos (10,00 - 24,99 \\u00a3)\",\"Pre\\u00e7os m\\u00e9dios (25.00 - 44.99 \\u00a3)\",\"Pre\\u00e7os altos ( 45,00 - 59,99 \\u00a3)\",\"Pre\\u00e7os baixos (10,00 - 24,99 \\u00a3)\",\"Pre\\u00e7os m\\u00e9dios (25.00 - 44.99 \\u00a3)\",\"Pre\\u00e7os baixos (10,00 - 24,99 \\u00a3)\",\"Pre\\u00e7os baixos (10,00 - 24,99 \\u00a3)\",\"Pre\\u00e7os m\\u00e9dios (25.00 - 44.99 \\u00a3)\",\"Pre\\u00e7os baixos (10,00 - 24,99 \\u00a3)\",\"Pre\\u00e7os m\\u00e9dios (25.00 - 44.99 \\u00a3)\",\"Pre\\u00e7os m\\u00e9dios (25.00 - 44.99 \\u00a3)\",\"Pre\\u00e7os baixos (10,00 - 24,99 \\u00a3)\",\"Pre\\u00e7os m\\u00e9dios (25.00 - 44.99 \\u00a3)\",\"Pre\\u00e7os baixos (10,00 - 24,99 \\u00a3)\",\"Pre\\u00e7os m\\u00e9dios (25.00 - 44.99 \\u00a3)\",\"Pre\\u00e7os m\\u00e9dios (25.00 - 44.99 \\u00a3)\",\"Pre\\u00e7os m\\u00e9dios (25.00 - 44.99 \\u00a3)\",\"Pre\\u00e7os m\\u00e9dios (25.00 - 44.99 \\u00a3)\",\"Pre\\u00e7os baixos (10,00 - 24,99 \\u00a3)\",\"Pre\\u00e7os baixos (10,00 - 24,99 \\u00a3)\",\"Pre\\u00e7os baixos (10,00 - 24,99 \\u00a3)\",\"Pre\\u00e7os altos ( 45,00 - 59,99 \\u00a3)\",\"Pre\\u00e7os baixos (10,00 - 24,99 \\u00a3)\",\"Pre\\u00e7os altos ( 45,00 - 59,99 \\u00a3)\",\"Pre\\u00e7os m\\u00e9dios (25.00 - 44.99 \\u00a3)\",\"Pre\\u00e7os baixos (10,00 - 24,99 \\u00a3)\",\"Pre\\u00e7os altos ( 45,00 - 59,99 \\u00a3)\",\"Pre\\u00e7os m\\u00e9dios (25.00 - 44.99 \\u00a3)\",\"Pre\\u00e7os baixos (10,00 - 24,99 \\u00a3)\",\"Pre\\u00e7os m\\u00e9dios (25.00 - 44.99 \\u00a3)\",\"Pre\\u00e7os altos ( 45,00 - 59,99 \\u00a3)\",\"Pre\\u00e7os m\\u00e9dios (25.00 - 44.99 \\u00a3)\",\"Pre\\u00e7os altos ( 45,00 - 59,99 \\u00a3)\",\"Pre\\u00e7os m\\u00e9dios (25.00 - 44.99 \\u00a3)\",\"Pre\\u00e7os m\\u00e9dios (25.00 - 44.99 \\u00a3)\",\"Pre\\u00e7os m\\u00e9dios (25.00 - 44.99 \\u00a3)\",\"Pre\\u00e7os m\\u00e9dios (25.00 - 44.99 \\u00a3)\",\"Pre\\u00e7os baixos (10,00 - 24,99 \\u00a3)\",\"Pre\\u00e7os baixos (10,00 - 24,99 \\u00a3)\",\"Pre\\u00e7os altos ( 45,00 - 59,99 \\u00a3)\",\"Pre\\u00e7os m\\u00e9dios (25.00 - 44.99 \\u00a3)\",\"Pre\\u00e7os m\\u00e9dios (25.00 - 44.99 \\u00a3)\",\"Pre\\u00e7os m\\u00e9dios (25.00 - 44.99 \\u00a3)\",\"Pre\\u00e7os baixos (10,00 - 24,99 \\u00a3)\",\"Pre\\u00e7os m\\u00e9dios (25.00 - 44.99 \\u00a3)\",\"Pre\\u00e7os baixos (10,00 - 24,99 \\u00a3)\",\"Pre\\u00e7os baixos (10,00 - 24,99 \\u00a3)\",\"Pre\\u00e7os altos ( 45,00 - 59,99 \\u00a3)\",\"Pre\\u00e7os baixos (10,00 - 24,99 \\u00a3)\",\"Pre\\u00e7os m\\u00e9dios (25.00 - 44.99 \\u00a3)\",\"Pre\\u00e7os altos ( 45,00 - 59,99 \\u00a3)\",\"Pre\\u00e7os baixos (10,00 - 24,99 \\u00a3)\",\"Pre\\u00e7os baixos (10,00 - 24,99 \\u00a3)\",\"Pre\\u00e7os m\\u00e9dios (25.00 - 44.99 \\u00a3)\",\"Pre\\u00e7os m\\u00e9dios (25.00 - 44.99 \\u00a3)\",\"Pre\\u00e7os baixos (10,00 - 24,99 \\u00a3)\",\"Pre\\u00e7os altos ( 45,00 - 59,99 \\u00a3)\",\"Pre\\u00e7os m\\u00e9dios (25.00 - 44.99 \\u00a3)\",\"Pre\\u00e7os baixos (10,00 - 24,99 \\u00a3)\",\"Pre\\u00e7os altos ( 45,00 - 59,99 \\u00a3)\",\"Pre\\u00e7os baixos (10,00 - 24,99 \\u00a3)\",\"Pre\\u00e7os m\\u00e9dios (25.00 - 44.99 \\u00a3)\",\"Pre\\u00e7os altos ( 45,00 - 59,99 \\u00a3)\",\"Pre\\u00e7os altos ( 45,00 - 59,99 \\u00a3)\",\"Pre\\u00e7os baixos (10,00 - 24,99 \\u00a3)\",\"Pre\\u00e7os m\\u00e9dios (25.00 - 44.99 \\u00a3)\",\"Pre\\u00e7os m\\u00e9dios (25.00 - 44.99 \\u00a3)\",\"Pre\\u00e7os m\\u00e9dios (25.00 - 44.99 \\u00a3)\",\"Pre\\u00e7os altos ( 45,00 - 59,99 \\u00a3)\",\"Pre\\u00e7os m\\u00e9dios (25.00 - 44.99 \\u00a3)\",\"Pre\\u00e7os m\\u00e9dios (25.00 - 44.99 \\u00a3)\",\"Pre\\u00e7os m\\u00e9dios (25.00 - 44.99 \\u00a3)\",\"Pre\\u00e7os altos ( 45,00 - 59,99 \\u00a3)\",\"Pre\\u00e7os altos ( 45,00 - 59,99 \\u00a3)\",\"Pre\\u00e7os m\\u00e9dios (25.00 - 44.99 \\u00a3)\",\"Pre\\u00e7os m\\u00e9dios (25.00 - 44.99 \\u00a3)\",\"Pre\\u00e7os altos ( 45,00 - 59,99 \\u00a3)\",\"Pre\\u00e7os baixos (10,00 - 24,99 \\u00a3)\",\"Pre\\u00e7os m\\u00e9dios (25.00 - 44.99 \\u00a3)\",\"Pre\\u00e7os baixos (10,00 - 24,99 \\u00a3)\",\"Pre\\u00e7os m\\u00e9dios (25.00 - 44.99 \\u00a3)\",\"Pre\\u00e7os baixos (10,00 - 24,99 \\u00a3)\",\"Pre\\u00e7os baixos (10,00 - 24,99 \\u00a3)\",\"Pre\\u00e7os altos ( 45,00 - 59,99 \\u00a3)\",\"Pre\\u00e7os m\\u00e9dios (25.00 - 44.99 \\u00a3)\",\"Pre\\u00e7os altos ( 45,00 - 59,99 \\u00a3)\",\"Pre\\u00e7os m\\u00e9dios (25.00 - 44.99 \\u00a3)\",\"Pre\\u00e7os baixos (10,00 - 24,99 \\u00a3)\",\"Pre\\u00e7os m\\u00e9dios (25.00 - 44.99 \\u00a3)\",\"Pre\\u00e7os altos ( 45,00 - 59,99 \\u00a3)\",\"Pre\\u00e7os m\\u00e9dios (25.00 - 44.99 \\u00a3)\",\"Pre\\u00e7os m\\u00e9dios (25.00 - 44.99 \\u00a3)\",\"Pre\\u00e7os baixos (10,00 - 24,99 \\u00a3)\",\"Pre\\u00e7os m\\u00e9dios (25.00 - 44.99 \\u00a3)\",\"Pre\\u00e7os baixos (10,00 - 24,99 \\u00a3)\",\"Pre\\u00e7os baixos (10,00 - 24,99 \\u00a3)\",\"Pre\\u00e7os altos ( 45,00 - 59,99 \\u00a3)\",\"Pre\\u00e7os altos ( 45,00 - 59,99 \\u00a3)\",\"Pre\\u00e7os baixos (10,00 - 24,99 \\u00a3)\",\"Pre\\u00e7os m\\u00e9dios (25.00 - 44.99 \\u00a3)\",\"Pre\\u00e7os m\\u00e9dios (25.00 - 44.99 \\u00a3)\",\"Pre\\u00e7os m\\u00e9dios (25.00 - 44.99 \\u00a3)\",\"Pre\\u00e7os altos ( 45,00 - 59,99 \\u00a3)\",\"Pre\\u00e7os m\\u00e9dios (25.00 - 44.99 \\u00a3)\",\"Pre\\u00e7os altos ( 45,00 - 59,99 \\u00a3)\",\"Pre\\u00e7os altos ( 45,00 - 59,99 \\u00a3)\",\"Pre\\u00e7os altos ( 45,00 - 59,99 \\u00a3)\",\"Pre\\u00e7os altos ( 45,00 - 59,99 \\u00a3)\",\"Pre\\u00e7os m\\u00e9dios (25.00 - 44.99 \\u00a3)\",\"Pre\\u00e7os baixos (10,00 - 24,99 \\u00a3)\",\"Pre\\u00e7os altos ( 45,00 - 59,99 \\u00a3)\",\"Pre\\u00e7os baixos (10,00 - 24,99 \\u00a3)\",\"Pre\\u00e7os altos ( 45,00 - 59,99 \\u00a3)\",\"Pre\\u00e7os baixos (10,00 - 24,99 \\u00a3)\",\"Pre\\u00e7os baixos (10,00 - 24,99 \\u00a3)\",\"Pre\\u00e7os baixos (10,00 - 24,99 \\u00a3)\",\"Pre\\u00e7os m\\u00e9dios (25.00 - 44.99 \\u00a3)\",\"Pre\\u00e7os m\\u00e9dios (25.00 - 44.99 \\u00a3)\",\"Pre\\u00e7os baixos (10,00 - 24,99 \\u00a3)\",\"Pre\\u00e7os m\\u00e9dios (25.00 - 44.99 \\u00a3)\",\"Pre\\u00e7os m\\u00e9dios (25.00 - 44.99 \\u00a3)\",\"Pre\\u00e7os m\\u00e9dios (25.00 - 44.99 \\u00a3)\",\"Pre\\u00e7os m\\u00e9dios (25.00 - 44.99 \\u00a3)\",\"Pre\\u00e7os altos ( 45,00 - 59,99 \\u00a3)\",\"Pre\\u00e7os altos ( 45,00 - 59,99 \\u00a3)\",\"Pre\\u00e7os altos ( 45,00 - 59,99 \\u00a3)\",\"Pre\\u00e7os baixos (10,00 - 24,99 \\u00a3)\",\"Pre\\u00e7os m\\u00e9dios (25.00 - 44.99 \\u00a3)\",\"Pre\\u00e7os altos ( 45,00 - 59,99 \\u00a3)\",\"Pre\\u00e7os m\\u00e9dios (25.00 - 44.99 \\u00a3)\",\"Pre\\u00e7os baixos (10,00 - 24,99 \\u00a3)\",\"Pre\\u00e7os baixos (10,00 - 24,99 \\u00a3)\",\"Pre\\u00e7os m\\u00e9dios (25.00 - 44.99 \\u00a3)\",\"Pre\\u00e7os m\\u00e9dios (25.00 - 44.99 \\u00a3)\",\"Pre\\u00e7os baixos (10,00 - 24,99 \\u00a3)\",\"Pre\\u00e7os baixos (10,00 - 24,99 \\u00a3)\",\"Pre\\u00e7os altos ( 45,00 - 59,99 \\u00a3)\",\"Pre\\u00e7os m\\u00e9dios (25.00 - 44.99 \\u00a3)\",\"Pre\\u00e7os altos ( 45,00 - 59,99 \\u00a3)\",\"Pre\\u00e7os baixos (10,00 - 24,99 \\u00a3)\",\"Pre\\u00e7os m\\u00e9dios (25.00 - 44.99 \\u00a3)\",\"Pre\\u00e7os altos ( 45,00 - 59,99 \\u00a3)\",\"Pre\\u00e7os altos ( 45,00 - 59,99 \\u00a3)\",\"Pre\\u00e7os baixos (10,00 - 24,99 \\u00a3)\",\"Pre\\u00e7os altos ( 45,00 - 59,99 \\u00a3)\",\"Pre\\u00e7os m\\u00e9dios (25.00 - 44.99 \\u00a3)\",\"Pre\\u00e7os altos ( 45,00 - 59,99 \\u00a3)\",\"Pre\\u00e7os baixos (10,00 - 24,99 \\u00a3)\",\"Pre\\u00e7os altos ( 45,00 - 59,99 \\u00a3)\",\"Pre\\u00e7os altos ( 45,00 - 59,99 \\u00a3)\",\"Pre\\u00e7os altos ( 45,00 - 59,99 \\u00a3)\",\"Pre\\u00e7os m\\u00e9dios (25.00 - 44.99 \\u00a3)\",\"Pre\\u00e7os m\\u00e9dios (25.00 - 44.99 \\u00a3)\",\"Pre\\u00e7os baixos (10,00 - 24,99 \\u00a3)\",\"Pre\\u00e7os m\\u00e9dios (25.00 - 44.99 \\u00a3)\",\"Pre\\u00e7os altos ( 45,00 - 59,99 \\u00a3)\",\"Pre\\u00e7os m\\u00e9dios (25.00 - 44.99 \\u00a3)\",\"Pre\\u00e7os baixos (10,00 - 24,99 \\u00a3)\",\"Pre\\u00e7os m\\u00e9dios (25.00 - 44.99 \\u00a3)\",\"Pre\\u00e7os altos ( 45,00 - 59,99 \\u00a3)\",\"Pre\\u00e7os baixos (10,00 - 24,99 \\u00a3)\",\"Pre\\u00e7os m\\u00e9dios (25.00 - 44.99 \\u00a3)\",\"Pre\\u00e7os altos ( 45,00 - 59,99 \\u00a3)\",\"Pre\\u00e7os baixos (10,00 - 24,99 \\u00a3)\",\"Pre\\u00e7os altos ( 45,00 - 59,99 \\u00a3)\",\"Pre\\u00e7os m\\u00e9dios (25.00 - 44.99 \\u00a3)\",\"Pre\\u00e7os altos ( 45,00 - 59,99 \\u00a3)\",\"Pre\\u00e7os m\\u00e9dios (25.00 - 44.99 \\u00a3)\",\"Pre\\u00e7os altos ( 45,00 - 59,99 \\u00a3)\",\"Pre\\u00e7os m\\u00e9dios (25.00 - 44.99 \\u00a3)\",\"Pre\\u00e7os m\\u00e9dios (25.00 - 44.99 \\u00a3)\",\"Pre\\u00e7os altos ( 45,00 - 59,99 \\u00a3)\",\"Pre\\u00e7os baixos (10,00 - 24,99 \\u00a3)\",\"Pre\\u00e7os altos ( 45,00 - 59,99 \\u00a3)\",\"Pre\\u00e7os altos ( 45,00 - 59,99 \\u00a3)\",\"Pre\\u00e7os m\\u00e9dios (25.00 - 44.99 \\u00a3)\",\"Pre\\u00e7os altos ( 45,00 - 59,99 \\u00a3)\",\"Pre\\u00e7os m\\u00e9dios (25.00 - 44.99 \\u00a3)\",\"Pre\\u00e7os baixos (10,00 - 24,99 \\u00a3)\",\"Pre\\u00e7os altos ( 45,00 - 59,99 \\u00a3)\",\"Pre\\u00e7os altos ( 45,00 - 59,99 \\u00a3)\",\"Pre\\u00e7os baixos (10,00 - 24,99 \\u00a3)\",\"Pre\\u00e7os altos ( 45,00 - 59,99 \\u00a3)\",\"Pre\\u00e7os m\\u00e9dios (25.00 - 44.99 \\u00a3)\",\"Pre\\u00e7os m\\u00e9dios (25.00 - 44.99 \\u00a3)\",\"Pre\\u00e7os baixos (10,00 - 24,99 \\u00a3)\",\"Pre\\u00e7os altos ( 45,00 - 59,99 \\u00a3)\",\"Pre\\u00e7os baixos (10,00 - 24,99 \\u00a3)\",\"Pre\\u00e7os baixos (10,00 - 24,99 \\u00a3)\",\"Pre\\u00e7os m\\u00e9dios (25.00 - 44.99 \\u00a3)\",\"Pre\\u00e7os m\\u00e9dios (25.00 - 44.99 \\u00a3)\",\"Pre\\u00e7os baixos (10,00 - 24,99 \\u00a3)\",\"Pre\\u00e7os m\\u00e9dios (25.00 - 44.99 \\u00a3)\",\"Pre\\u00e7os baixos (10,00 - 24,99 \\u00a3)\",\"Pre\\u00e7os m\\u00e9dios (25.00 - 44.99 \\u00a3)\",\"Pre\\u00e7os m\\u00e9dios (25.00 - 44.99 \\u00a3)\",\"Pre\\u00e7os altos ( 45,00 - 59,99 \\u00a3)\",\"Pre\\u00e7os m\\u00e9dios (25.00 - 44.99 \\u00a3)\",\"Pre\\u00e7os m\\u00e9dios (25.00 - 44.99 \\u00a3)\",\"Pre\\u00e7os altos ( 45,00 - 59,99 \\u00a3)\",\"Pre\\u00e7os m\\u00e9dios (25.00 - 44.99 \\u00a3)\",\"Pre\\u00e7os baixos (10,00 - 24,99 \\u00a3)\",\"Pre\\u00e7os altos ( 45,00 - 59,99 \\u00a3)\",\"Pre\\u00e7os altos ( 45,00 - 59,99 \\u00a3)\",\"Pre\\u00e7os baixos (10,00 - 24,99 \\u00a3)\",\"Pre\\u00e7os altos ( 45,00 - 59,99 \\u00a3)\",\"Pre\\u00e7os baixos (10,00 - 24,99 \\u00a3)\",\"Pre\\u00e7os altos ( 45,00 - 59,99 \\u00a3)\",\"Pre\\u00e7os m\\u00e9dios (25.00 - 44.99 \\u00a3)\",\"Pre\\u00e7os m\\u00e9dios (25.00 - 44.99 \\u00a3)\",\"Pre\\u00e7os m\\u00e9dios (25.00 - 44.99 \\u00a3)\",\"Pre\\u00e7os baixos (10,00 - 24,99 \\u00a3)\",\"Pre\\u00e7os altos ( 45,00 - 59,99 \\u00a3)\",\"Pre\\u00e7os altos ( 45,00 - 59,99 \\u00a3)\",\"Pre\\u00e7os m\\u00e9dios (25.00 - 44.99 \\u00a3)\",\"Pre\\u00e7os baixos (10,00 - 24,99 \\u00a3)\",\"Pre\\u00e7os altos ( 45,00 - 59,99 \\u00a3)\",\"Pre\\u00e7os baixos (10,00 - 24,99 \\u00a3)\",\"Pre\\u00e7os m\\u00e9dios (25.00 - 44.99 \\u00a3)\",\"Pre\\u00e7os baixos (10,00 - 24,99 \\u00a3)\",\"Pre\\u00e7os altos ( 45,00 - 59,99 \\u00a3)\",\"Pre\\u00e7os altos ( 45,00 - 59,99 \\u00a3)\",\"Pre\\u00e7os m\\u00e9dios (25.00 - 44.99 \\u00a3)\",\"Pre\\u00e7os altos ( 45,00 - 59,99 \\u00a3)\",\"Pre\\u00e7os altos ( 45,00 - 59,99 \\u00a3)\",\"Pre\\u00e7os m\\u00e9dios (25.00 - 44.99 \\u00a3)\",\"Pre\\u00e7os m\\u00e9dios (25.00 - 44.99 \\u00a3)\",\"Pre\\u00e7os altos ( 45,00 - 59,99 \\u00a3)\",\"Pre\\u00e7os m\\u00e9dios (25.00 - 44.99 \\u00a3)\",\"Pre\\u00e7os baixos (10,00 - 24,99 \\u00a3)\",\"Pre\\u00e7os altos ( 45,00 - 59,99 \\u00a3)\",\"Pre\\u00e7os baixos (10,00 - 24,99 \\u00a3)\",\"Pre\\u00e7os altos ( 45,00 - 59,99 \\u00a3)\",\"Pre\\u00e7os altos ( 45,00 - 59,99 \\u00a3)\",\"Pre\\u00e7os baixos (10,00 - 24,99 \\u00a3)\",\"Pre\\u00e7os baixos (10,00 - 24,99 \\u00a3)\",\"Pre\\u00e7os altos ( 45,00 - 59,99 \\u00a3)\",\"Pre\\u00e7os baixos (10,00 - 24,99 \\u00a3)\",\"Pre\\u00e7os baixos (10,00 - 24,99 \\u00a3)\",\"Pre\\u00e7os m\\u00e9dios (25.00 - 44.99 \\u00a3)\",\"Pre\\u00e7os baixos (10,00 - 24,99 \\u00a3)\",\"Pre\\u00e7os altos ( 45,00 - 59,99 \\u00a3)\",\"Pre\\u00e7os m\\u00e9dios (25.00 - 44.99 \\u00a3)\",\"Pre\\u00e7os baixos (10,00 - 24,99 \\u00a3)\",\"Pre\\u00e7os altos ( 45,00 - 59,99 \\u00a3)\",\"Pre\\u00e7os altos ( 45,00 - 59,99 \\u00a3)\",\"Pre\\u00e7os altos ( 45,00 - 59,99 \\u00a3)\",\"Pre\\u00e7os baixos (10,00 - 24,99 \\u00a3)\",\"Pre\\u00e7os baixos (10,00 - 24,99 \\u00a3)\",\"Pre\\u00e7os baixos (10,00 - 24,99 \\u00a3)\",\"Pre\\u00e7os baixos (10,00 - 24,99 \\u00a3)\",\"Pre\\u00e7os baixos (10,00 - 24,99 \\u00a3)\",\"Pre\\u00e7os baixos (10,00 - 24,99 \\u00a3)\",\"Pre\\u00e7os baixos (10,00 - 24,99 \\u00a3)\",\"Pre\\u00e7os altos ( 45,00 - 59,99 \\u00a3)\",\"Pre\\u00e7os baixos (10,00 - 24,99 \\u00a3)\",\"Pre\\u00e7os altos ( 45,00 - 59,99 \\u00a3)\",\"Pre\\u00e7os altos ( 45,00 - 59,99 \\u00a3)\",\"Pre\\u00e7os altos ( 45,00 - 59,99 \\u00a3)\",\"Pre\\u00e7os altos ( 45,00 - 59,99 \\u00a3)\",\"Pre\\u00e7os baixos (10,00 - 24,99 \\u00a3)\",\"Pre\\u00e7os m\\u00e9dios (25.00 - 44.99 \\u00a3)\",\"Pre\\u00e7os m\\u00e9dios (25.00 - 44.99 \\u00a3)\",\"Pre\\u00e7os baixos (10,00 - 24,99 \\u00a3)\",\"Pre\\u00e7os baixos (10,00 - 24,99 \\u00a3)\",\"Pre\\u00e7os altos ( 45,00 - 59,99 \\u00a3)\",\"Pre\\u00e7os baixos (10,00 - 24,99 \\u00a3)\",\"Pre\\u00e7os altos ( 45,00 - 59,99 \\u00a3)\",\"Pre\\u00e7os altos ( 45,00 - 59,99 \\u00a3)\",\"Pre\\u00e7os altos ( 45,00 - 59,99 \\u00a3)\",\"Pre\\u00e7os m\\u00e9dios (25.00 - 44.99 \\u00a3)\",\"Pre\\u00e7os baixos (10,00 - 24,99 \\u00a3)\",\"Pre\\u00e7os altos ( 45,00 - 59,99 \\u00a3)\",\"Pre\\u00e7os baixos (10,00 - 24,99 \\u00a3)\",\"Pre\\u00e7os m\\u00e9dios (25.00 - 44.99 \\u00a3)\",\"Pre\\u00e7os m\\u00e9dios (25.00 - 44.99 \\u00a3)\",\"Pre\\u00e7os m\\u00e9dios (25.00 - 44.99 \\u00a3)\",\"Pre\\u00e7os m\\u00e9dios (25.00 - 44.99 \\u00a3)\",\"Pre\\u00e7os altos ( 45,00 - 59,99 \\u00a3)\",\"Pre\\u00e7os altos ( 45,00 - 59,99 \\u00a3)\",\"Pre\\u00e7os altos ( 45,00 - 59,99 \\u00a3)\",\"Pre\\u00e7os m\\u00e9dios (25.00 - 44.99 \\u00a3)\",\"Pre\\u00e7os m\\u00e9dios (25.00 - 44.99 \\u00a3)\",\"Pre\\u00e7os baixos (10,00 - 24,99 \\u00a3)\",\"Pre\\u00e7os m\\u00e9dios (25.00 - 44.99 \\u00a3)\",\"Pre\\u00e7os m\\u00e9dios (25.00 - 44.99 \\u00a3)\",\"Pre\\u00e7os m\\u00e9dios (25.00 - 44.99 \\u00a3)\",\"Pre\\u00e7os m\\u00e9dios (25.00 - 44.99 \\u00a3)\",\"Pre\\u00e7os m\\u00e9dios (25.00 - 44.99 \\u00a3)\",\"Pre\\u00e7os m\\u00e9dios (25.00 - 44.99 \\u00a3)\",\"Pre\\u00e7os altos ( 45,00 - 59,99 \\u00a3)\",\"Pre\\u00e7os m\\u00e9dios (25.00 - 44.99 \\u00a3)\",\"Pre\\u00e7os m\\u00e9dios (25.00 - 44.99 \\u00a3)\",\"Pre\\u00e7os m\\u00e9dios (25.00 - 44.99 \\u00a3)\",\"Pre\\u00e7os m\\u00e9dios (25.00 - 44.99 \\u00a3)\",\"Pre\\u00e7os altos ( 45,00 - 59,99 \\u00a3)\",\"Pre\\u00e7os m\\u00e9dios (25.00 - 44.99 \\u00a3)\",\"Pre\\u00e7os baixos (10,00 - 24,99 \\u00a3)\",\"Pre\\u00e7os baixos (10,00 - 24,99 \\u00a3)\",\"Pre\\u00e7os altos ( 45,00 - 59,99 \\u00a3)\",\"Pre\\u00e7os m\\u00e9dios (25.00 - 44.99 \\u00a3)\",\"Pre\\u00e7os altos ( 45,00 - 59,99 \\u00a3)\",\"Pre\\u00e7os m\\u00e9dios (25.00 - 44.99 \\u00a3)\",\"Pre\\u00e7os altos ( 45,00 - 59,99 \\u00a3)\",\"Pre\\u00e7os m\\u00e9dios (25.00 - 44.99 \\u00a3)\",\"Pre\\u00e7os m\\u00e9dios (25.00 - 44.99 \\u00a3)\",\"Pre\\u00e7os baixos (10,00 - 24,99 \\u00a3)\",\"Pre\\u00e7os m\\u00e9dios (25.00 - 44.99 \\u00a3)\",\"Pre\\u00e7os m\\u00e9dios (25.00 - 44.99 \\u00a3)\",\"Pre\\u00e7os altos ( 45,00 - 59,99 \\u00a3)\",\"Pre\\u00e7os altos ( 45,00 - 59,99 \\u00a3)\",\"Pre\\u00e7os baixos (10,00 - 24,99 \\u00a3)\",\"Pre\\u00e7os altos ( 45,00 - 59,99 \\u00a3)\",\"Pre\\u00e7os m\\u00e9dios (25.00 - 44.99 \\u00a3)\",\"Pre\\u00e7os baixos (10,00 - 24,99 \\u00a3)\",\"Pre\\u00e7os m\\u00e9dios (25.00 - 44.99 \\u00a3)\",\"Pre\\u00e7os baixos (10,00 - 24,99 \\u00a3)\",\"Pre\\u00e7os altos ( 45,00 - 59,99 \\u00a3)\",\"Pre\\u00e7os altos ( 45,00 - 59,99 \\u00a3)\",\"Pre\\u00e7os m\\u00e9dios (25.00 - 44.99 \\u00a3)\",\"Pre\\u00e7os m\\u00e9dios (25.00 - 44.99 \\u00a3)\",\"Pre\\u00e7os m\\u00e9dios (25.00 - 44.99 \\u00a3)\",\"Pre\\u00e7os baixos (10,00 - 24,99 \\u00a3)\",\"Pre\\u00e7os baixos (10,00 - 24,99 \\u00a3)\",\"Pre\\u00e7os altos ( 45,00 - 59,99 \\u00a3)\",\"Pre\\u00e7os altos ( 45,00 - 59,99 \\u00a3)\",\"Pre\\u00e7os baixos (10,00 - 24,99 \\u00a3)\",\"Pre\\u00e7os altos ( 45,00 - 59,99 \\u00a3)\",\"Pre\\u00e7os m\\u00e9dios (25.00 - 44.99 \\u00a3)\",\"Pre\\u00e7os baixos (10,00 - 24,99 \\u00a3)\",\"Pre\\u00e7os baixos (10,00 - 24,99 \\u00a3)\",\"Pre\\u00e7os m\\u00e9dios (25.00 - 44.99 \\u00a3)\",\"Pre\\u00e7os altos ( 45,00 - 59,99 \\u00a3)\",\"Pre\\u00e7os m\\u00e9dios (25.00 - 44.99 \\u00a3)\",\"Pre\\u00e7os m\\u00e9dios (25.00 - 44.99 \\u00a3)\",\"Pre\\u00e7os m\\u00e9dios (25.00 - 44.99 \\u00a3)\",\"Pre\\u00e7os m\\u00e9dios (25.00 - 44.99 \\u00a3)\",\"Pre\\u00e7os m\\u00e9dios (25.00 - 44.99 \\u00a3)\",\"Pre\\u00e7os baixos (10,00 - 24,99 \\u00a3)\",\"Pre\\u00e7os m\\u00e9dios (25.00 - 44.99 \\u00a3)\",\"Pre\\u00e7os altos ( 45,00 - 59,99 \\u00a3)\",\"Pre\\u00e7os baixos (10,00 - 24,99 \\u00a3)\",\"Pre\\u00e7os m\\u00e9dios (25.00 - 44.99 \\u00a3)\",\"Pre\\u00e7os m\\u00e9dios (25.00 - 44.99 \\u00a3)\",\"Pre\\u00e7os baixos (10,00 - 24,99 \\u00a3)\",\"Pre\\u00e7os m\\u00e9dios (25.00 - 44.99 \\u00a3)\",\"Pre\\u00e7os altos ( 45,00 - 59,99 \\u00a3)\",\"Pre\\u00e7os m\\u00e9dios (25.00 - 44.99 \\u00a3)\",\"Pre\\u00e7os m\\u00e9dios (25.00 - 44.99 \\u00a3)\",\"Pre\\u00e7os baixos (10,00 - 24,99 \\u00a3)\",\"Pre\\u00e7os baixos (10,00 - 24,99 \\u00a3)\",\"Pre\\u00e7os baixos (10,00 - 24,99 \\u00a3)\",\"Pre\\u00e7os m\\u00e9dios (25.00 - 44.99 \\u00a3)\",\"Pre\\u00e7os altos ( 45,00 - 59,99 \\u00a3)\",\"Pre\\u00e7os altos ( 45,00 - 59,99 \\u00a3)\",\"Pre\\u00e7os m\\u00e9dios (25.00 - 44.99 \\u00a3)\",\"Pre\\u00e7os m\\u00e9dios (25.00 - 44.99 \\u00a3)\",\"Pre\\u00e7os altos ( 45,00 - 59,99 \\u00a3)\",\"Pre\\u00e7os baixos (10,00 - 24,99 \\u00a3)\",\"Pre\\u00e7os m\\u00e9dios (25.00 - 44.99 \\u00a3)\",\"Pre\\u00e7os altos ( 45,00 - 59,99 \\u00a3)\",\"Pre\\u00e7os m\\u00e9dios (25.00 - 44.99 \\u00a3)\",\"Pre\\u00e7os baixos (10,00 - 24,99 \\u00a3)\",\"Pre\\u00e7os altos ( 45,00 - 59,99 \\u00a3)\",\"Pre\\u00e7os m\\u00e9dios (25.00 - 44.99 \\u00a3)\",\"Pre\\u00e7os altos ( 45,00 - 59,99 \\u00a3)\",\"Pre\\u00e7os altos ( 45,00 - 59,99 \\u00a3)\",\"Pre\\u00e7os m\\u00e9dios (25.00 - 44.99 \\u00a3)\",\"Pre\\u00e7os m\\u00e9dios (25.00 - 44.99 \\u00a3)\",\"Pre\\u00e7os baixos (10,00 - 24,99 \\u00a3)\",\"Pre\\u00e7os altos ( 45,00 - 59,99 \\u00a3)\",\"Pre\\u00e7os altos ( 45,00 - 59,99 \\u00a3)\",\"Pre\\u00e7os baixos (10,00 - 24,99 \\u00a3)\",\"Pre\\u00e7os baixos (10,00 - 24,99 \\u00a3)\",\"Pre\\u00e7os baixos (10,00 - 24,99 \\u00a3)\",\"Pre\\u00e7os altos ( 45,00 - 59,99 \\u00a3)\",\"Pre\\u00e7os m\\u00e9dios (25.00 - 44.99 \\u00a3)\",\"Pre\\u00e7os altos ( 45,00 - 59,99 \\u00a3)\",\"Pre\\u00e7os m\\u00e9dios (25.00 - 44.99 \\u00a3)\",\"Pre\\u00e7os m\\u00e9dios (25.00 - 44.99 \\u00a3)\",\"Pre\\u00e7os altos ( 45,00 - 59,99 \\u00a3)\",\"Pre\\u00e7os m\\u00e9dios (25.00 - 44.99 \\u00a3)\",\"Pre\\u00e7os altos ( 45,00 - 59,99 \\u00a3)\",\"Pre\\u00e7os m\\u00e9dios (25.00 - 44.99 \\u00a3)\",\"Pre\\u00e7os altos ( 45,00 - 59,99 \\u00a3)\",\"Pre\\u00e7os baixos (10,00 - 24,99 \\u00a3)\",\"Pre\\u00e7os altos ( 45,00 - 59,99 \\u00a3)\",\"Pre\\u00e7os m\\u00e9dios (25.00 - 44.99 \\u00a3)\",\"Pre\\u00e7os m\\u00e9dios (25.00 - 44.99 \\u00a3)\",\"Pre\\u00e7os m\\u00e9dios (25.00 - 44.99 \\u00a3)\",\"Pre\\u00e7os baixos (10,00 - 24,99 \\u00a3)\",\"Pre\\u00e7os m\\u00e9dios (25.00 - 44.99 \\u00a3)\",\"Pre\\u00e7os baixos (10,00 - 24,99 \\u00a3)\",\"Pre\\u00e7os altos ( 45,00 - 59,99 \\u00a3)\",\"Pre\\u00e7os baixos (10,00 - 24,99 \\u00a3)\",\"Pre\\u00e7os baixos (10,00 - 24,99 \\u00a3)\",\"Pre\\u00e7os baixos (10,00 - 24,99 \\u00a3)\",\"Pre\\u00e7os altos ( 45,00 - 59,99 \\u00a3)\",\"Pre\\u00e7os altos ( 45,00 - 59,99 \\u00a3)\",\"Pre\\u00e7os m\\u00e9dios (25.00 - 44.99 \\u00a3)\",\"Pre\\u00e7os baixos (10,00 - 24,99 \\u00a3)\",\"Pre\\u00e7os altos ( 45,00 - 59,99 \\u00a3)\",\"Pre\\u00e7os altos ( 45,00 - 59,99 \\u00a3)\",\"Pre\\u00e7os baixos (10,00 - 24,99 \\u00a3)\",\"Pre\\u00e7os m\\u00e9dios (25.00 - 44.99 \\u00a3)\",\"Pre\\u00e7os altos ( 45,00 - 59,99 \\u00a3)\",\"Pre\\u00e7os altos ( 45,00 - 59,99 \\u00a3)\",\"Pre\\u00e7os baixos (10,00 - 24,99 \\u00a3)\",\"Pre\\u00e7os m\\u00e9dios (25.00 - 44.99 \\u00a3)\",\"Pre\\u00e7os altos ( 45,00 - 59,99 \\u00a3)\",\"Pre\\u00e7os baixos (10,00 - 24,99 \\u00a3)\",\"Pre\\u00e7os m\\u00e9dios (25.00 - 44.99 \\u00a3)\",\"Pre\\u00e7os m\\u00e9dios (25.00 - 44.99 \\u00a3)\",\"Pre\\u00e7os altos ( 45,00 - 59,99 \\u00a3)\",\"Pre\\u00e7os m\\u00e9dios (25.00 - 44.99 \\u00a3)\",\"Pre\\u00e7os baixos (10,00 - 24,99 \\u00a3)\",\"Pre\\u00e7os altos ( 45,00 - 59,99 \\u00a3)\",\"Pre\\u00e7os m\\u00e9dios (25.00 - 44.99 \\u00a3)\",\"Pre\\u00e7os altos ( 45,00 - 59,99 \\u00a3)\",\"Pre\\u00e7os altos ( 45,00 - 59,99 \\u00a3)\",\"Pre\\u00e7os m\\u00e9dios (25.00 - 44.99 \\u00a3)\",\"Pre\\u00e7os altos ( 45,00 - 59,99 \\u00a3)\",\"Pre\\u00e7os baixos (10,00 - 24,99 \\u00a3)\",\"Pre\\u00e7os m\\u00e9dios (25.00 - 44.99 \\u00a3)\",\"Pre\\u00e7os baixos (10,00 - 24,99 \\u00a3)\",\"Pre\\u00e7os m\\u00e9dios (25.00 - 44.99 \\u00a3)\",\"Pre\\u00e7os altos ( 45,00 - 59,99 \\u00a3)\",\"Pre\\u00e7os baixos (10,00 - 24,99 \\u00a3)\",\"Pre\\u00e7os m\\u00e9dios (25.00 - 44.99 \\u00a3)\",\"Pre\\u00e7os m\\u00e9dios (25.00 - 44.99 \\u00a3)\",\"Pre\\u00e7os baixos (10,00 - 24,99 \\u00a3)\",\"Pre\\u00e7os altos ( 45,00 - 59,99 \\u00a3)\",\"Pre\\u00e7os baixos (10,00 - 24,99 \\u00a3)\",\"Pre\\u00e7os altos ( 45,00 - 59,99 \\u00a3)\",\"Pre\\u00e7os altos ( 45,00 - 59,99 \\u00a3)\",\"Pre\\u00e7os altos ( 45,00 - 59,99 \\u00a3)\",\"Pre\\u00e7os m\\u00e9dios (25.00 - 44.99 \\u00a3)\",\"Pre\\u00e7os m\\u00e9dios (25.00 - 44.99 \\u00a3)\",\"Pre\\u00e7os baixos (10,00 - 24,99 \\u00a3)\",\"Pre\\u00e7os m\\u00e9dios (25.00 - 44.99 \\u00a3)\",\"Pre\\u00e7os baixos (10,00 - 24,99 \\u00a3)\",\"Pre\\u00e7os altos ( 45,00 - 59,99 \\u00a3)\",\"Pre\\u00e7os m\\u00e9dios (25.00 - 44.99 \\u00a3)\",\"Pre\\u00e7os m\\u00e9dios (25.00 - 44.99 \\u00a3)\",\"Pre\\u00e7os m\\u00e9dios (25.00 - 44.99 \\u00a3)\",\"Pre\\u00e7os baixos (10,00 - 24,99 \\u00a3)\",\"Pre\\u00e7os baixos (10,00 - 24,99 \\u00a3)\",\"Pre\\u00e7os baixos (10,00 - 24,99 \\u00a3)\",\"Pre\\u00e7os baixos (10,00 - 24,99 \\u00a3)\",\"Pre\\u00e7os m\\u00e9dios (25.00 - 44.99 \\u00a3)\",\"Pre\\u00e7os baixos (10,00 - 24,99 \\u00a3)\",\"Pre\\u00e7os baixos (10,00 - 24,99 \\u00a3)\",\"Pre\\u00e7os baixos (10,00 - 24,99 \\u00a3)\",\"Pre\\u00e7os baixos (10,00 - 24,99 \\u00a3)\",\"Pre\\u00e7os altos ( 45,00 - 59,99 \\u00a3)\",\"Pre\\u00e7os m\\u00e9dios (25.00 - 44.99 \\u00a3)\",\"Pre\\u00e7os baixos (10,00 - 24,99 \\u00a3)\",\"Pre\\u00e7os altos ( 45,00 - 59,99 \\u00a3)\",\"Pre\\u00e7os m\\u00e9dios (25.00 - 44.99 \\u00a3)\",\"Pre\\u00e7os m\\u00e9dios (25.00 - 44.99 \\u00a3)\",\"Pre\\u00e7os baixos (10,00 - 24,99 \\u00a3)\",\"Pre\\u00e7os baixos (10,00 - 24,99 \\u00a3)\",\"Pre\\u00e7os m\\u00e9dios (25.00 - 44.99 \\u00a3)\",\"Pre\\u00e7os baixos (10,00 - 24,99 \\u00a3)\",\"Pre\\u00e7os baixos (10,00 - 24,99 \\u00a3)\",\"Pre\\u00e7os m\\u00e9dios (25.00 - 44.99 \\u00a3)\",\"Pre\\u00e7os m\\u00e9dios (25.00 - 44.99 \\u00a3)\",\"Pre\\u00e7os m\\u00e9dios (25.00 - 44.99 \\u00a3)\",\"Pre\\u00e7os altos ( 45,00 - 59,99 \\u00a3)\",\"Pre\\u00e7os altos ( 45,00 - 59,99 \\u00a3)\",\"Pre\\u00e7os m\\u00e9dios (25.00 - 44.99 \\u00a3)\",\"Pre\\u00e7os baixos (10,00 - 24,99 \\u00a3)\",\"Pre\\u00e7os baixos (10,00 - 24,99 \\u00a3)\",\"Pre\\u00e7os m\\u00e9dios (25.00 - 44.99 \\u00a3)\",\"Pre\\u00e7os altos ( 45,00 - 59,99 \\u00a3)\",\"Pre\\u00e7os baixos (10,00 - 24,99 \\u00a3)\",\"Pre\\u00e7os altos ( 45,00 - 59,99 \\u00a3)\",\"Pre\\u00e7os altos ( 45,00 - 59,99 \\u00a3)\",\"Pre\\u00e7os m\\u00e9dios (25.00 - 44.99 \\u00a3)\",\"Pre\\u00e7os altos ( 45,00 - 59,99 \\u00a3)\",\"Pre\\u00e7os baixos (10,00 - 24,99 \\u00a3)\",\"Pre\\u00e7os baixos (10,00 - 24,99 \\u00a3)\",\"Pre\\u00e7os altos ( 45,00 - 59,99 \\u00a3)\",\"Pre\\u00e7os m\\u00e9dios (25.00 - 44.99 \\u00a3)\",\"Pre\\u00e7os altos ( 45,00 - 59,99 \\u00a3)\",\"Pre\\u00e7os altos ( 45,00 - 59,99 \\u00a3)\",\"Pre\\u00e7os m\\u00e9dios (25.00 - 44.99 \\u00a3)\",\"Pre\\u00e7os m\\u00e9dios (25.00 - 44.99 \\u00a3)\",\"Pre\\u00e7os m\\u00e9dios (25.00 - 44.99 \\u00a3)\",\"Pre\\u00e7os baixos (10,00 - 24,99 \\u00a3)\",\"Pre\\u00e7os baixos (10,00 - 24,99 \\u00a3)\",\"Pre\\u00e7os m\\u00e9dios (25.00 - 44.99 \\u00a3)\",\"Pre\\u00e7os altos ( 45,00 - 59,99 \\u00a3)\",\"Pre\\u00e7os m\\u00e9dios (25.00 - 44.99 \\u00a3)\",\"Pre\\u00e7os altos ( 45,00 - 59,99 \\u00a3)\",\"Pre\\u00e7os altos ( 45,00 - 59,99 \\u00a3)\",\"Pre\\u00e7os baixos (10,00 - 24,99 \\u00a3)\",\"Pre\\u00e7os altos ( 45,00 - 59,99 \\u00a3)\",\"Pre\\u00e7os altos ( 45,00 - 59,99 \\u00a3)\",\"Pre\\u00e7os baixos (10,00 - 24,99 \\u00a3)\",\"Pre\\u00e7os baixos (10,00 - 24,99 \\u00a3)\",\"Pre\\u00e7os baixos (10,00 - 24,99 \\u00a3)\",\"Pre\\u00e7os baixos (10,00 - 24,99 \\u00a3)\",\"Pre\\u00e7os altos ( 45,00 - 59,99 \\u00a3)\",\"Pre\\u00e7os baixos (10,00 - 24,99 \\u00a3)\",\"Pre\\u00e7os m\\u00e9dios (25.00 - 44.99 \\u00a3)\",\"Pre\\u00e7os m\\u00e9dios (25.00 - 44.99 \\u00a3)\",\"Pre\\u00e7os m\\u00e9dios (25.00 - 44.99 \\u00a3)\",\"Pre\\u00e7os baixos (10,00 - 24,99 \\u00a3)\",\"Pre\\u00e7os baixos (10,00 - 24,99 \\u00a3)\",\"Pre\\u00e7os m\\u00e9dios (25.00 - 44.99 \\u00a3)\",\"Pre\\u00e7os altos ( 45,00 - 59,99 \\u00a3)\",\"Pre\\u00e7os baixos (10,00 - 24,99 \\u00a3)\",\"Pre\\u00e7os m\\u00e9dios (25.00 - 44.99 \\u00a3)\",\"Pre\\u00e7os m\\u00e9dios (25.00 - 44.99 \\u00a3)\",\"Pre\\u00e7os m\\u00e9dios (25.00 - 44.99 \\u00a3)\",\"Pre\\u00e7os altos ( 45,00 - 59,99 \\u00a3)\",\"Pre\\u00e7os m\\u00e9dios (25.00 - 44.99 \\u00a3)\",\"Pre\\u00e7os baixos (10,00 - 24,99 \\u00a3)\",\"Pre\\u00e7os altos ( 45,00 - 59,99 \\u00a3)\",\"Pre\\u00e7os baixos (10,00 - 24,99 \\u00a3)\",\"Pre\\u00e7os altos ( 45,00 - 59,99 \\u00a3)\",\"Pre\\u00e7os baixos (10,00 - 24,99 \\u00a3)\",\"Pre\\u00e7os m\\u00e9dios (25.00 - 44.99 \\u00a3)\",\"Pre\\u00e7os altos ( 45,00 - 59,99 \\u00a3)\",\"Pre\\u00e7os altos ( 45,00 - 59,99 \\u00a3)\",\"Pre\\u00e7os altos ( 45,00 - 59,99 \\u00a3)\",\"Pre\\u00e7os m\\u00e9dios (25.00 - 44.99 \\u00a3)\",\"Pre\\u00e7os altos ( 45,00 - 59,99 \\u00a3)\",\"Pre\\u00e7os m\\u00e9dios (25.00 - 44.99 \\u00a3)\",\"Pre\\u00e7os baixos (10,00 - 24,99 \\u00a3)\",\"Pre\\u00e7os baixos (10,00 - 24,99 \\u00a3)\",\"Pre\\u00e7os altos ( 45,00 - 59,99 \\u00a3)\",\"Pre\\u00e7os baixos (10,00 - 24,99 \\u00a3)\",\"Pre\\u00e7os m\\u00e9dios (25.00 - 44.99 \\u00a3)\",\"Pre\\u00e7os m\\u00e9dios (25.00 - 44.99 \\u00a3)\",\"Pre\\u00e7os baixos (10,00 - 24,99 \\u00a3)\",\"Pre\\u00e7os m\\u00e9dios (25.00 - 44.99 \\u00a3)\",\"Pre\\u00e7os baixos (10,00 - 24,99 \\u00a3)\",\"Pre\\u00e7os altos ( 45,00 - 59,99 \\u00a3)\",\"Pre\\u00e7os baixos (10,00 - 24,99 \\u00a3)\",\"Pre\\u00e7os altos ( 45,00 - 59,99 \\u00a3)\",\"Pre\\u00e7os m\\u00e9dios (25.00 - 44.99 \\u00a3)\",\"Pre\\u00e7os m\\u00e9dios (25.00 - 44.99 \\u00a3)\",\"Pre\\u00e7os m\\u00e9dios (25.00 - 44.99 \\u00a3)\",\"Pre\\u00e7os m\\u00e9dios (25.00 - 44.99 \\u00a3)\",\"Pre\\u00e7os altos ( 45,00 - 59,99 \\u00a3)\",\"Pre\\u00e7os baixos (10,00 - 24,99 \\u00a3)\",\"Pre\\u00e7os baixos (10,00 - 24,99 \\u00a3)\",\"Pre\\u00e7os altos ( 45,00 - 59,99 \\u00a3)\",\"Pre\\u00e7os baixos (10,00 - 24,99 \\u00a3)\",\"Pre\\u00e7os altos ( 45,00 - 59,99 \\u00a3)\",\"Pre\\u00e7os baixos (10,00 - 24,99 \\u00a3)\",\"Pre\\u00e7os baixos (10,00 - 24,99 \\u00a3)\",\"Pre\\u00e7os altos ( 45,00 - 59,99 \\u00a3)\",\"Pre\\u00e7os altos ( 45,00 - 59,99 \\u00a3)\",\"Pre\\u00e7os baixos (10,00 - 24,99 \\u00a3)\",\"Pre\\u00e7os baixos (10,00 - 24,99 \\u00a3)\",\"Pre\\u00e7os altos ( 45,00 - 59,99 \\u00a3)\",\"Pre\\u00e7os altos ( 45,00 - 59,99 \\u00a3)\",\"Pre\\u00e7os baixos (10,00 - 24,99 \\u00a3)\",\"Pre\\u00e7os m\\u00e9dios (25.00 - 44.99 \\u00a3)\",\"Pre\\u00e7os baixos (10,00 - 24,99 \\u00a3)\",\"Pre\\u00e7os m\\u00e9dios (25.00 - 44.99 \\u00a3)\",\"Pre\\u00e7os m\\u00e9dios (25.00 - 44.99 \\u00a3)\",\"Pre\\u00e7os m\\u00e9dios (25.00 - 44.99 \\u00a3)\",\"Pre\\u00e7os baixos (10,00 - 24,99 \\u00a3)\",\"Pre\\u00e7os m\\u00e9dios (25.00 - 44.99 \\u00a3)\",\"Pre\\u00e7os m\\u00e9dios (25.00 - 44.99 \\u00a3)\",\"Pre\\u00e7os altos ( 45,00 - 59,99 \\u00a3)\",\"Pre\\u00e7os m\\u00e9dios (25.00 - 44.99 \\u00a3)\",\"Pre\\u00e7os m\\u00e9dios (25.00 - 44.99 \\u00a3)\",\"Pre\\u00e7os altos ( 45,00 - 59,99 \\u00a3)\",\"Pre\\u00e7os m\\u00e9dios (25.00 - 44.99 \\u00a3)\",\"Pre\\u00e7os baixos (10,00 - 24,99 \\u00a3)\",\"Pre\\u00e7os altos ( 45,00 - 59,99 \\u00a3)\",\"Pre\\u00e7os m\\u00e9dios (25.00 - 44.99 \\u00a3)\",\"Pre\\u00e7os m\\u00e9dios (25.00 - 44.99 \\u00a3)\",\"Pre\\u00e7os altos ( 45,00 - 59,99 \\u00a3)\",\"Pre\\u00e7os m\\u00e9dios (25.00 - 44.99 \\u00a3)\",\"Pre\\u00e7os m\\u00e9dios (25.00 - 44.99 \\u00a3)\",\"Pre\\u00e7os altos ( 45,00 - 59,99 \\u00a3)\",\"Pre\\u00e7os altos ( 45,00 - 59,99 \\u00a3)\",\"Pre\\u00e7os baixos (10,00 - 24,99 \\u00a3)\",\"Pre\\u00e7os altos ( 45,00 - 59,99 \\u00a3)\",\"Pre\\u00e7os m\\u00e9dios (25.00 - 44.99 \\u00a3)\",\"Pre\\u00e7os baixos (10,00 - 24,99 \\u00a3)\",\"Pre\\u00e7os altos ( 45,00 - 59,99 \\u00a3)\",\"Pre\\u00e7os baixos (10,00 - 24,99 \\u00a3)\",\"Pre\\u00e7os altos ( 45,00 - 59,99 \\u00a3)\",\"Pre\\u00e7os m\\u00e9dios (25.00 - 44.99 \\u00a3)\",\"Pre\\u00e7os baixos (10,00 - 24,99 \\u00a3)\",\"Pre\\u00e7os baixos (10,00 - 24,99 \\u00a3)\",\"Pre\\u00e7os altos ( 45,00 - 59,99 \\u00a3)\",\"Pre\\u00e7os m\\u00e9dios (25.00 - 44.99 \\u00a3)\",\"Pre\\u00e7os altos ( 45,00 - 59,99 \\u00a3)\",\"Pre\\u00e7os m\\u00e9dios (25.00 - 44.99 \\u00a3)\",\"Pre\\u00e7os baixos (10,00 - 24,99 \\u00a3)\",\"Pre\\u00e7os baixos (10,00 - 24,99 \\u00a3)\",\"Pre\\u00e7os m\\u00e9dios (25.00 - 44.99 \\u00a3)\",\"Pre\\u00e7os m\\u00e9dios (25.00 - 44.99 \\u00a3)\",\"Pre\\u00e7os baixos (10,00 - 24,99 \\u00a3)\",\"Pre\\u00e7os baixos (10,00 - 24,99 \\u00a3)\",\"Pre\\u00e7os altos ( 45,00 - 59,99 \\u00a3)\",\"Pre\\u00e7os altos ( 45,00 - 59,99 \\u00a3)\",\"Pre\\u00e7os m\\u00e9dios (25.00 - 44.99 \\u00a3)\",\"Pre\\u00e7os altos ( 45,00 - 59,99 \\u00a3)\",\"Pre\\u00e7os baixos (10,00 - 24,99 \\u00a3)\",\"Pre\\u00e7os m\\u00e9dios (25.00 - 44.99 \\u00a3)\",\"Pre\\u00e7os baixos (10,00 - 24,99 \\u00a3)\",\"Pre\\u00e7os m\\u00e9dios (25.00 - 44.99 \\u00a3)\",\"Pre\\u00e7os m\\u00e9dios (25.00 - 44.99 \\u00a3)\",\"Pre\\u00e7os altos ( 45,00 - 59,99 \\u00a3)\",\"Pre\\u00e7os altos ( 45,00 - 59,99 \\u00a3)\",\"Pre\\u00e7os altos ( 45,00 - 59,99 \\u00a3)\",\"Pre\\u00e7os baixos (10,00 - 24,99 \\u00a3)\",\"Pre\\u00e7os altos ( 45,00 - 59,99 \\u00a3)\",\"Pre\\u00e7os altos ( 45,00 - 59,99 \\u00a3)\",\"Pre\\u00e7os m\\u00e9dios (25.00 - 44.99 \\u00a3)\",\"Pre\\u00e7os baixos (10,00 - 24,99 \\u00a3)\",\"Pre\\u00e7os altos ( 45,00 - 59,99 \\u00a3)\",\"Pre\\u00e7os baixos (10,00 - 24,99 \\u00a3)\",\"Pre\\u00e7os baixos (10,00 - 24,99 \\u00a3)\",\"Pre\\u00e7os altos ( 45,00 - 59,99 \\u00a3)\",\"Pre\\u00e7os m\\u00e9dios (25.00 - 44.99 \\u00a3)\",\"Pre\\u00e7os m\\u00e9dios (25.00 - 44.99 \\u00a3)\",\"Pre\\u00e7os baixos (10,00 - 24,99 \\u00a3)\",\"Pre\\u00e7os m\\u00e9dios (25.00 - 44.99 \\u00a3)\",\"Pre\\u00e7os baixos (10,00 - 24,99 \\u00a3)\",\"Pre\\u00e7os m\\u00e9dios (25.00 - 44.99 \\u00a3)\",\"Pre\\u00e7os m\\u00e9dios (25.00 - 44.99 \\u00a3)\",\"Pre\\u00e7os m\\u00e9dios (25.00 - 44.99 \\u00a3)\",\"Pre\\u00e7os altos ( 45,00 - 59,99 \\u00a3)\",\"Pre\\u00e7os baixos (10,00 - 24,99 \\u00a3)\",\"Pre\\u00e7os m\\u00e9dios (25.00 - 44.99 \\u00a3)\",\"Pre\\u00e7os baixos (10,00 - 24,99 \\u00a3)\",\"Pre\\u00e7os m\\u00e9dios (25.00 - 44.99 \\u00a3)\",\"Pre\\u00e7os m\\u00e9dios (25.00 - 44.99 \\u00a3)\",\"Pre\\u00e7os baixos (10,00 - 24,99 \\u00a3)\",\"Pre\\u00e7os m\\u00e9dios (25.00 - 44.99 \\u00a3)\",\"Pre\\u00e7os m\\u00e9dios (25.00 - 44.99 \\u00a3)\",\"Pre\\u00e7os m\\u00e9dios (25.00 - 44.99 \\u00a3)\",\"Pre\\u00e7os altos ( 45,00 - 59,99 \\u00a3)\",\"Pre\\u00e7os altos ( 45,00 - 59,99 \\u00a3)\",\"Pre\\u00e7os altos ( 45,00 - 59,99 \\u00a3)\",\"Pre\\u00e7os m\\u00e9dios (25.00 - 44.99 \\u00a3)\",\"Pre\\u00e7os baixos (10,00 - 24,99 \\u00a3)\",\"Pre\\u00e7os baixos (10,00 - 24,99 \\u00a3)\",\"Pre\\u00e7os m\\u00e9dios (25.00 - 44.99 \\u00a3)\",\"Pre\\u00e7os altos ( 45,00 - 59,99 \\u00a3)\",\"Pre\\u00e7os m\\u00e9dios (25.00 - 44.99 \\u00a3)\",\"Pre\\u00e7os baixos (10,00 - 24,99 \\u00a3)\",\"Pre\\u00e7os altos ( 45,00 - 59,99 \\u00a3)\",\"Pre\\u00e7os m\\u00e9dios (25.00 - 44.99 \\u00a3)\",\"Pre\\u00e7os m\\u00e9dios (25.00 - 44.99 \\u00a3)\",\"Pre\\u00e7os altos ( 45,00 - 59,99 \\u00a3)\",\"Pre\\u00e7os altos ( 45,00 - 59,99 \\u00a3)\",\"Pre\\u00e7os m\\u00e9dios (25.00 - 44.99 \\u00a3)\",\"Pre\\u00e7os m\\u00e9dios (25.00 - 44.99 \\u00a3)\",\"Pre\\u00e7os baixos (10,00 - 24,99 \\u00a3)\",\"Pre\\u00e7os altos ( 45,00 - 59,99 \\u00a3)\",\"Pre\\u00e7os m\\u00e9dios (25.00 - 44.99 \\u00a3)\",\"Pre\\u00e7os m\\u00e9dios (25.00 - 44.99 \\u00a3)\",\"Pre\\u00e7os altos ( 45,00 - 59,99 \\u00a3)\",\"Pre\\u00e7os baixos (10,00 - 24,99 \\u00a3)\",\"Pre\\u00e7os m\\u00e9dios (25.00 - 44.99 \\u00a3)\",\"Pre\\u00e7os m\\u00e9dios (25.00 - 44.99 \\u00a3)\",\"Pre\\u00e7os m\\u00e9dios (25.00 - 44.99 \\u00a3)\",\"Pre\\u00e7os altos ( 45,00 - 59,99 \\u00a3)\",\"Pre\\u00e7os m\\u00e9dios (25.00 - 44.99 \\u00a3)\",\"Pre\\u00e7os altos ( 45,00 - 59,99 \\u00a3)\",\"Pre\\u00e7os m\\u00e9dios (25.00 - 44.99 \\u00a3)\",\"Pre\\u00e7os baixos (10,00 - 24,99 \\u00a3)\",\"Pre\\u00e7os m\\u00e9dios (25.00 - 44.99 \\u00a3)\",\"Pre\\u00e7os m\\u00e9dios (25.00 - 44.99 \\u00a3)\",\"Pre\\u00e7os m\\u00e9dios (25.00 - 44.99 \\u00a3)\",\"Pre\\u00e7os m\\u00e9dios (25.00 - 44.99 \\u00a3)\",\"Pre\\u00e7os altos ( 45,00 - 59,99 \\u00a3)\",\"Pre\\u00e7os altos ( 45,00 - 59,99 \\u00a3)\",\"Pre\\u00e7os altos ( 45,00 - 59,99 \\u00a3)\",\"Pre\\u00e7os baixos (10,00 - 24,99 \\u00a3)\",\"Pre\\u00e7os baixos (10,00 - 24,99 \\u00a3)\",\"Pre\\u00e7os m\\u00e9dios (25.00 - 44.99 \\u00a3)\",\"Pre\\u00e7os m\\u00e9dios (25.00 - 44.99 \\u00a3)\",\"Pre\\u00e7os m\\u00e9dios (25.00 - 44.99 \\u00a3)\",\"Pre\\u00e7os baixos (10,00 - 24,99 \\u00a3)\",\"Pre\\u00e7os altos ( 45,00 - 59,99 \\u00a3)\",\"Pre\\u00e7os altos ( 45,00 - 59,99 \\u00a3)\",\"Pre\\u00e7os altos ( 45,00 - 59,99 \\u00a3)\",\"Pre\\u00e7os baixos (10,00 - 24,99 \\u00a3)\",\"Pre\\u00e7os m\\u00e9dios (25.00 - 44.99 \\u00a3)\",\"Pre\\u00e7os baixos (10,00 - 24,99 \\u00a3)\",\"Pre\\u00e7os altos ( 45,00 - 59,99 \\u00a3)\",\"Pre\\u00e7os baixos (10,00 - 24,99 \\u00a3)\",\"Pre\\u00e7os altos ( 45,00 - 59,99 \\u00a3)\",\"Pre\\u00e7os baixos (10,00 - 24,99 \\u00a3)\",\"Pre\\u00e7os m\\u00e9dios (25.00 - 44.99 \\u00a3)\",\"Pre\\u00e7os altos ( 45,00 - 59,99 \\u00a3)\",\"Pre\\u00e7os m\\u00e9dios (25.00 - 44.99 \\u00a3)\",\"Pre\\u00e7os m\\u00e9dios (25.00 - 44.99 \\u00a3)\",\"Pre\\u00e7os baixos (10,00 - 24,99 \\u00a3)\",\"Pre\\u00e7os m\\u00e9dios (25.00 - 44.99 \\u00a3)\",\"Pre\\u00e7os altos ( 45,00 - 59,99 \\u00a3)\",\"Pre\\u00e7os baixos (10,00 - 24,99 \\u00a3)\",\"Pre\\u00e7os m\\u00e9dios (25.00 - 44.99 \\u00a3)\",\"Pre\\u00e7os baixos (10,00 - 24,99 \\u00a3)\",\"Pre\\u00e7os m\\u00e9dios (25.00 - 44.99 \\u00a3)\",\"Pre\\u00e7os altos ( 45,00 - 59,99 \\u00a3)\",\"Pre\\u00e7os baixos (10,00 - 24,99 \\u00a3)\",\"Pre\\u00e7os baixos (10,00 - 24,99 \\u00a3)\",\"Pre\\u00e7os m\\u00e9dios (25.00 - 44.99 \\u00a3)\",\"Pre\\u00e7os m\\u00e9dios (25.00 - 44.99 \\u00a3)\",\"Pre\\u00e7os baixos (10,00 - 24,99 \\u00a3)\",\"Pre\\u00e7os m\\u00e9dios (25.00 - 44.99 \\u00a3)\",\"Pre\\u00e7os baixos (10,00 - 24,99 \\u00a3)\",\"Pre\\u00e7os baixos (10,00 - 24,99 \\u00a3)\",\"Pre\\u00e7os altos ( 45,00 - 59,99 \\u00a3)\",\"Pre\\u00e7os m\\u00e9dios (25.00 - 44.99 \\u00a3)\",\"Pre\\u00e7os m\\u00e9dios (25.00 - 44.99 \\u00a3)\",\"Pre\\u00e7os m\\u00e9dios (25.00 - 44.99 \\u00a3)\",\"Pre\\u00e7os baixos (10,00 - 24,99 \\u00a3)\",\"Pre\\u00e7os m\\u00e9dios (25.00 - 44.99 \\u00a3)\",\"Pre\\u00e7os altos ( 45,00 - 59,99 \\u00a3)\",\"Pre\\u00e7os m\\u00e9dios (25.00 - 44.99 \\u00a3)\",\"Pre\\u00e7os altos ( 45,00 - 59,99 \\u00a3)\",\"Pre\\u00e7os baixos (10,00 - 24,99 \\u00a3)\",\"Pre\\u00e7os m\\u00e9dios (25.00 - 44.99 \\u00a3)\",\"Pre\\u00e7os altos ( 45,00 - 59,99 \\u00a3)\",\"Pre\\u00e7os baixos (10,00 - 24,99 \\u00a3)\",\"Pre\\u00e7os baixos (10,00 - 24,99 \\u00a3)\",\"Pre\\u00e7os baixos (10,00 - 24,99 \\u00a3)\",\"Pre\\u00e7os baixos (10,00 - 24,99 \\u00a3)\",\"Pre\\u00e7os baixos (10,00 - 24,99 \\u00a3)\",\"Pre\\u00e7os m\\u00e9dios (25.00 - 44.99 \\u00a3)\",\"Pre\\u00e7os m\\u00e9dios (25.00 - 44.99 \\u00a3)\",\"Pre\\u00e7os altos ( 45,00 - 59,99 \\u00a3)\",\"Pre\\u00e7os altos ( 45,00 - 59,99 \\u00a3)\",\"Pre\\u00e7os baixos (10,00 - 24,99 \\u00a3)\",\"Pre\\u00e7os altos ( 45,00 - 59,99 \\u00a3)\",\"Pre\\u00e7os baixos (10,00 - 24,99 \\u00a3)\",\"Pre\\u00e7os m\\u00e9dios (25.00 - 44.99 \\u00a3)\",\"Pre\\u00e7os m\\u00e9dios (25.00 - 44.99 \\u00a3)\",\"Pre\\u00e7os altos ( 45,00 - 59,99 \\u00a3)\",\"Pre\\u00e7os m\\u00e9dios (25.00 - 44.99 \\u00a3)\",\"Pre\\u00e7os baixos (10,00 - 24,99 \\u00a3)\",\"Pre\\u00e7os altos ( 45,00 - 59,99 \\u00a3)\",\"Pre\\u00e7os m\\u00e9dios (25.00 - 44.99 \\u00a3)\",\"Pre\\u00e7os altos ( 45,00 - 59,99 \\u00a3)\",\"Pre\\u00e7os m\\u00e9dios (25.00 - 44.99 \\u00a3)\",\"Pre\\u00e7os altos ( 45,00 - 59,99 \\u00a3)\",\"Pre\\u00e7os baixos (10,00 - 24,99 \\u00a3)\",\"Pre\\u00e7os m\\u00e9dios (25.00 - 44.99 \\u00a3)\",\"Pre\\u00e7os m\\u00e9dios (25.00 - 44.99 \\u00a3)\",\"Pre\\u00e7os m\\u00e9dios (25.00 - 44.99 \\u00a3)\",\"Pre\\u00e7os baixos (10,00 - 24,99 \\u00a3)\",\"Pre\\u00e7os m\\u00e9dios (25.00 - 44.99 \\u00a3)\",\"Pre\\u00e7os m\\u00e9dios (25.00 - 44.99 \\u00a3)\",\"Pre\\u00e7os m\\u00e9dios (25.00 - 44.99 \\u00a3)\",\"Pre\\u00e7os altos ( 45,00 - 59,99 \\u00a3)\",\"Pre\\u00e7os m\\u00e9dios (25.00 - 44.99 \\u00a3)\",\"Pre\\u00e7os m\\u00e9dios (25.00 - 44.99 \\u00a3)\",\"Pre\\u00e7os altos ( 45,00 - 59,99 \\u00a3)\",\"Pre\\u00e7os m\\u00e9dios (25.00 - 44.99 \\u00a3)\",\"Pre\\u00e7os altos ( 45,00 - 59,99 \\u00a3)\",\"Pre\\u00e7os m\\u00e9dios (25.00 - 44.99 \\u00a3)\",\"Pre\\u00e7os altos ( 45,00 - 59,99 \\u00a3)\",\"Pre\\u00e7os altos ( 45,00 - 59,99 \\u00a3)\",\"Pre\\u00e7os m\\u00e9dios (25.00 - 44.99 \\u00a3)\",\"Pre\\u00e7os baixos (10,00 - 24,99 \\u00a3)\",\"Pre\\u00e7os m\\u00e9dios (25.00 - 44.99 \\u00a3)\",\"Pre\\u00e7os m\\u00e9dios (25.00 - 44.99 \\u00a3)\",\"Pre\\u00e7os baixos (10,00 - 24,99 \\u00a3)\",\"Pre\\u00e7os baixos (10,00 - 24,99 \\u00a3)\",\"Pre\\u00e7os baixos (10,00 - 24,99 \\u00a3)\",\"Pre\\u00e7os baixos (10,00 - 24,99 \\u00a3)\",\"Pre\\u00e7os baixos (10,00 - 24,99 \\u00a3)\",\"Pre\\u00e7os baixos (10,00 - 24,99 \\u00a3)\",\"Pre\\u00e7os altos ( 45,00 - 59,99 \\u00a3)\",\"Pre\\u00e7os m\\u00e9dios (25.00 - 44.99 \\u00a3)\",\"Pre\\u00e7os m\\u00e9dios (25.00 - 44.99 \\u00a3)\",\"Pre\\u00e7os baixos (10,00 - 24,99 \\u00a3)\",\"Pre\\u00e7os m\\u00e9dios (25.00 - 44.99 \\u00a3)\",\"Pre\\u00e7os m\\u00e9dios (25.00 - 44.99 \\u00a3)\",\"Pre\\u00e7os baixos (10,00 - 24,99 \\u00a3)\",\"Pre\\u00e7os m\\u00e9dios (25.00 - 44.99 \\u00a3)\",\"Pre\\u00e7os altos ( 45,00 - 59,99 \\u00a3)\",\"Pre\\u00e7os baixos (10,00 - 24,99 \\u00a3)\",\"Pre\\u00e7os m\\u00e9dios (25.00 - 44.99 \\u00a3)\",\"Pre\\u00e7os m\\u00e9dios (25.00 - 44.99 \\u00a3)\",\"Pre\\u00e7os m\\u00e9dios (25.00 - 44.99 \\u00a3)\",\"Pre\\u00e7os m\\u00e9dios (25.00 - 44.99 \\u00a3)\",\"Pre\\u00e7os altos ( 45,00 - 59,99 \\u00a3)\",\"Pre\\u00e7os baixos (10,00 - 24,99 \\u00a3)\",\"Pre\\u00e7os baixos (10,00 - 24,99 \\u00a3)\",\"Pre\\u00e7os m\\u00e9dios (25.00 - 44.99 \\u00a3)\",\"Pre\\u00e7os m\\u00e9dios (25.00 - 44.99 \\u00a3)\",\"Pre\\u00e7os altos ( 45,00 - 59,99 \\u00a3)\",\"Pre\\u00e7os m\\u00e9dios (25.00 - 44.99 \\u00a3)\",\"Pre\\u00e7os altos ( 45,00 - 59,99 \\u00a3)\",\"Pre\\u00e7os m\\u00e9dios (25.00 - 44.99 \\u00a3)\",\"Pre\\u00e7os altos ( 45,00 - 59,99 \\u00a3)\",\"Pre\\u00e7os altos ( 45,00 - 59,99 \\u00a3)\",\"Pre\\u00e7os m\\u00e9dios (25.00 - 44.99 \\u00a3)\",\"Pre\\u00e7os m\\u00e9dios (25.00 - 44.99 \\u00a3)\",\"Pre\\u00e7os m\\u00e9dios (25.00 - 44.99 \\u00a3)\",\"Pre\\u00e7os m\\u00e9dios (25.00 - 44.99 \\u00a3)\",\"Pre\\u00e7os m\\u00e9dios (25.00 - 44.99 \\u00a3)\",\"Pre\\u00e7os baixos (10,00 - 24,99 \\u00a3)\",\"Pre\\u00e7os altos ( 45,00 - 59,99 \\u00a3)\",\"Pre\\u00e7os altos ( 45,00 - 59,99 \\u00a3)\",\"Pre\\u00e7os m\\u00e9dios (25.00 - 44.99 \\u00a3)\",\"Pre\\u00e7os m\\u00e9dios (25.00 - 44.99 \\u00a3)\",\"Pre\\u00e7os m\\u00e9dios (25.00 - 44.99 \\u00a3)\",\"Pre\\u00e7os altos ( 45,00 - 59,99 \\u00a3)\",\"Pre\\u00e7os m\\u00e9dios (25.00 - 44.99 \\u00a3)\",\"Pre\\u00e7os altos ( 45,00 - 59,99 \\u00a3)\",\"Pre\\u00e7os m\\u00e9dios (25.00 - 44.99 \\u00a3)\",\"Pre\\u00e7os m\\u00e9dios (25.00 - 44.99 \\u00a3)\",\"Pre\\u00e7os m\\u00e9dios (25.00 - 44.99 \\u00a3)\",\"Pre\\u00e7os m\\u00e9dios (25.00 - 44.99 \\u00a3)\",\"Pre\\u00e7os m\\u00e9dios (25.00 - 44.99 \\u00a3)\",\"Pre\\u00e7os altos ( 45,00 - 59,99 \\u00a3)\",\"Pre\\u00e7os altos ( 45,00 - 59,99 \\u00a3)\",\"Pre\\u00e7os m\\u00e9dios (25.00 - 44.99 \\u00a3)\",\"Pre\\u00e7os baixos (10,00 - 24,99 \\u00a3)\",\"Pre\\u00e7os m\\u00e9dios (25.00 - 44.99 \\u00a3)\",\"Pre\\u00e7os m\\u00e9dios (25.00 - 44.99 \\u00a3)\",\"Pre\\u00e7os m\\u00e9dios (25.00 - 44.99 \\u00a3)\",\"Pre\\u00e7os m\\u00e9dios (25.00 - 44.99 \\u00a3)\",\"Pre\\u00e7os baixos (10,00 - 24,99 \\u00a3)\",\"Pre\\u00e7os m\\u00e9dios (25.00 - 44.99 \\u00a3)\",\"Pre\\u00e7os m\\u00e9dios (25.00 - 44.99 \\u00a3)\",\"Pre\\u00e7os altos ( 45,00 - 59,99 \\u00a3)\",\"Pre\\u00e7os altos ( 45,00 - 59,99 \\u00a3)\",\"Pre\\u00e7os baixos (10,00 - 24,99 \\u00a3)\",\"Pre\\u00e7os altos ( 45,00 - 59,99 \\u00a3)\",\"Pre\\u00e7os m\\u00e9dios (25.00 - 44.99 \\u00a3)\"],\"legendgroup\":\"\",\"marker\":{\"colors\":[\"#D62728\",\"#D62728\",\"#D62728\",\"#D62728\",\"#D62728\",\"blue\",\"#9467BD\",\"blue\",\"blue\",\"#D62728\",\"blue\",\"blue\",\"blue\",\"#D62728\",\"#9467BD\",\"#D62728\",\"blue\",\"#9467BD\",\"#D62728\",\"#D62728\",\"blue\",\"#9467BD\",\"#9467BD\",\"#9467BD\",\"#9467BD\",\"#D62728\",\"blue\",\"#D62728\",\"#9467BD\",\"#9467BD\",\"blue\",\"#9467BD\",\"blue\",\"#9467BD\",\"blue\",\"#9467BD\",\"blue\",\"blue\",\"#D62728\",\"#9467BD\",\"#D62728\",\"#9467BD\",\"#D62728\",\"blue\",\"#D62728\",\"#9467BD\",\"#D62728\",\"blue\",\"#9467BD\",\"blue\",\"#9467BD\",\"blue\",\"#9467BD\",\"blue\",\"blue\",\"blue\",\"#D62728\",\"#D62728\",\"#D62728\",\"#D62728\",\"#9467BD\",\"#D62728\",\"#9467BD\",\"blue\",\"blue\",\"blue\",\"#9467BD\",\"#D62728\",\"#D62728\",\"#D62728\",\"#9467BD\",\"blue\",\"#9467BD\",\"#9467BD\",\"#9467BD\",\"#9467BD\",\"#9467BD\",\"#D62728\",\"blue\",\"#D62728\",\"blue\",\"blue\",\"blue\",\"#9467BD\",\"blue\",\"blue\",\"#D62728\",\"#D62728\",\"blue\",\"blue\",\"#9467BD\",\"#D62728\",\"blue\",\"#D62728\",\"#D62728\",\"blue\",\"#9467BD\",\"#D62728\",\"#9467BD\",\"blue\",\"#D62728\",\"#9467BD\",\"#D62728\",\"#D62728\",\"#9467BD\",\"blue\",\"#9467BD\",\"blue\",\"blue\",\"#D62728\",\"#9467BD\",\"#D62728\",\"#9467BD\",\"#9467BD\",\"blue\",\"#9467BD\",\"#9467BD\",\"#D62728\",\"#9467BD\",\"#9467BD\",\"#9467BD\",\"#9467BD\",\"#D62728\",\"blue\",\"#D62728\",\"#9467BD\",\"#D62728\",\"#D62728\",\"blue\",\"#9467BD\",\"blue\",\"#9467BD\",\"#9467BD\",\"#D62728\",\"#D62728\",\"#D62728\",\"blue\",\"#9467BD\",\"blue\",\"blue\",\"#9467BD\",\"#9467BD\",\"#D62728\",\"#9467BD\",\"blue\",\"#9467BD\",\"#9467BD\",\"#9467BD\",\"#9467BD\",\"#9467BD\",\"#D62728\",\"#9467BD\",\"blue\",\"#9467BD\",\"#9467BD\",\"#9467BD\",\"#D62728\",\"blue\",\"blue\",\"#9467BD\",\"#9467BD\",\"#9467BD\",\"#9467BD\",\"blue\",\"#9467BD\",\"#D62728\",\"blue\",\"#9467BD\",\"blue\",\"blue\",\"#9467BD\",\"blue\",\"#9467BD\",\"#9467BD\",\"blue\",\"#9467BD\",\"blue\",\"#9467BD\",\"#9467BD\",\"#9467BD\",\"#9467BD\",\"blue\",\"blue\",\"blue\",\"#D62728\",\"blue\",\"#D62728\",\"#9467BD\",\"blue\",\"#D62728\",\"#9467BD\",\"blue\",\"#9467BD\",\"#D62728\",\"#9467BD\",\"#D62728\",\"#9467BD\",\"#9467BD\",\"#9467BD\",\"#9467BD\",\"blue\",\"blue\",\"#D62728\",\"#9467BD\",\"#9467BD\",\"#9467BD\",\"blue\",\"#9467BD\",\"blue\",\"blue\",\"#D62728\",\"blue\",\"#9467BD\",\"#D62728\",\"blue\",\"blue\",\"#9467BD\",\"#9467BD\",\"blue\",\"#D62728\",\"#9467BD\",\"blue\",\"#D62728\",\"blue\",\"#9467BD\",\"#D62728\",\"#D62728\",\"blue\",\"#9467BD\",\"#9467BD\",\"#9467BD\",\"#D62728\",\"#9467BD\",\"#9467BD\",\"#9467BD\",\"#D62728\",\"#D62728\",\"#9467BD\",\"#9467BD\",\"#D62728\",\"blue\",\"#9467BD\",\"blue\",\"#9467BD\",\"blue\",\"blue\",\"#D62728\",\"#9467BD\",\"#D62728\",\"#9467BD\",\"blue\",\"#9467BD\",\"#D62728\",\"#9467BD\",\"#9467BD\",\"blue\",\"#9467BD\",\"blue\",\"blue\",\"#D62728\",\"#D62728\",\"blue\",\"#9467BD\",\"#9467BD\",\"#9467BD\",\"#D62728\",\"#9467BD\",\"#D62728\",\"#D62728\",\"#D62728\",\"#D62728\",\"#9467BD\",\"blue\",\"#D62728\",\"blue\",\"#D62728\",\"blue\",\"blue\",\"blue\",\"#9467BD\",\"#9467BD\",\"blue\",\"#9467BD\",\"#9467BD\",\"#9467BD\",\"#9467BD\",\"#D62728\",\"#D62728\",\"#D62728\",\"blue\",\"#9467BD\",\"#D62728\",\"#9467BD\",\"blue\",\"blue\",\"#9467BD\",\"#9467BD\",\"blue\",\"blue\",\"#D62728\",\"#9467BD\",\"#D62728\",\"blue\",\"#9467BD\",\"#D62728\",\"#D62728\",\"blue\",\"#D62728\",\"#9467BD\",\"#D62728\",\"blue\",\"#D62728\",\"#D62728\",\"#D62728\",\"#9467BD\",\"#9467BD\",\"blue\",\"#9467BD\",\"#D62728\",\"#9467BD\",\"blue\",\"#9467BD\",\"#D62728\",\"blue\",\"#9467BD\",\"#D62728\",\"blue\",\"#D62728\",\"#9467BD\",\"#D62728\",\"#9467BD\",\"#D62728\",\"#9467BD\",\"#9467BD\",\"#D62728\",\"blue\",\"#D62728\",\"#D62728\",\"#9467BD\",\"#D62728\",\"#9467BD\",\"blue\",\"#D62728\",\"#D62728\",\"blue\",\"#D62728\",\"#9467BD\",\"#9467BD\",\"blue\",\"#D62728\",\"blue\",\"blue\",\"#9467BD\",\"#9467BD\",\"blue\",\"#9467BD\",\"blue\",\"#9467BD\",\"#9467BD\",\"#D62728\",\"#9467BD\",\"#9467BD\",\"#D62728\",\"#9467BD\",\"blue\",\"#D62728\",\"#D62728\",\"blue\",\"#D62728\",\"blue\",\"#D62728\",\"#9467BD\",\"#9467BD\",\"#9467BD\",\"blue\",\"#D62728\",\"#D62728\",\"#9467BD\",\"blue\",\"#D62728\",\"blue\",\"#9467BD\",\"blue\",\"#D62728\",\"#D62728\",\"#9467BD\",\"#D62728\",\"#D62728\",\"#9467BD\",\"#9467BD\",\"#D62728\",\"#9467BD\",\"blue\",\"#D62728\",\"blue\",\"#D62728\",\"#D62728\",\"blue\",\"blue\",\"#D62728\",\"blue\",\"blue\",\"#9467BD\",\"blue\",\"#D62728\",\"#9467BD\",\"blue\",\"#D62728\",\"#D62728\",\"#D62728\",\"blue\",\"blue\",\"blue\",\"blue\",\"blue\",\"blue\",\"blue\",\"#D62728\",\"blue\",\"#D62728\",\"#D62728\",\"#D62728\",\"#D62728\",\"blue\",\"#9467BD\",\"#9467BD\",\"blue\",\"blue\",\"#D62728\",\"blue\",\"#D62728\",\"#D62728\",\"#D62728\",\"#9467BD\",\"blue\",\"#D62728\",\"blue\",\"#9467BD\",\"#9467BD\",\"#9467BD\",\"#9467BD\",\"#D62728\",\"#D62728\",\"#D62728\",\"#9467BD\",\"#9467BD\",\"blue\",\"#9467BD\",\"#9467BD\",\"#9467BD\",\"#9467BD\",\"#9467BD\",\"#9467BD\",\"#D62728\",\"#9467BD\",\"#9467BD\",\"#9467BD\",\"#9467BD\",\"#D62728\",\"#9467BD\",\"blue\",\"blue\",\"#D62728\",\"#9467BD\",\"#D62728\",\"#9467BD\",\"#D62728\",\"#9467BD\",\"#9467BD\",\"blue\",\"#9467BD\",\"#9467BD\",\"#D62728\",\"#D62728\",\"blue\",\"#D62728\",\"#9467BD\",\"blue\",\"#9467BD\",\"blue\",\"#D62728\",\"#D62728\",\"#9467BD\",\"#9467BD\",\"#9467BD\",\"blue\",\"blue\",\"#D62728\",\"#D62728\",\"blue\",\"#D62728\",\"#9467BD\",\"blue\",\"blue\",\"#9467BD\",\"#D62728\",\"#9467BD\",\"#9467BD\",\"#9467BD\",\"#9467BD\",\"#9467BD\",\"blue\",\"#9467BD\",\"#D62728\",\"blue\",\"#9467BD\",\"#9467BD\",\"blue\",\"#9467BD\",\"#D62728\",\"#9467BD\",\"#9467BD\",\"blue\",\"blue\",\"blue\",\"#9467BD\",\"#D62728\",\"#D62728\",\"#9467BD\",\"#9467BD\",\"#D62728\",\"blue\",\"#9467BD\",\"#D62728\",\"#9467BD\",\"blue\",\"#D62728\",\"#9467BD\",\"#D62728\",\"#D62728\",\"#9467BD\",\"#9467BD\",\"blue\",\"#D62728\",\"#D62728\",\"blue\",\"blue\",\"blue\",\"#D62728\",\"#9467BD\",\"#D62728\",\"#9467BD\",\"#9467BD\",\"#D62728\",\"#9467BD\",\"#D62728\",\"#9467BD\",\"#D62728\",\"blue\",\"#D62728\",\"#9467BD\",\"#9467BD\",\"#9467BD\",\"blue\",\"#9467BD\",\"blue\",\"#D62728\",\"blue\",\"blue\",\"blue\",\"#D62728\",\"#D62728\",\"#9467BD\",\"blue\",\"#D62728\",\"#D62728\",\"blue\",\"#9467BD\",\"#D62728\",\"#D62728\",\"blue\",\"#9467BD\",\"#D62728\",\"blue\",\"#9467BD\",\"#9467BD\",\"#D62728\",\"#9467BD\",\"blue\",\"#D62728\",\"#9467BD\",\"#D62728\",\"#D62728\",\"#9467BD\",\"#D62728\",\"blue\",\"#9467BD\",\"blue\",\"#9467BD\",\"#D62728\",\"blue\",\"#9467BD\",\"#9467BD\",\"blue\",\"#D62728\",\"blue\",\"#D62728\",\"#D62728\",\"#D62728\",\"#9467BD\",\"#9467BD\",\"blue\",\"#9467BD\",\"blue\",\"#D62728\",\"#9467BD\",\"#9467BD\",\"#9467BD\",\"blue\",\"blue\",\"blue\",\"blue\",\"#9467BD\",\"blue\",\"blue\",\"blue\",\"blue\",\"#D62728\",\"#9467BD\",\"blue\",\"#D62728\",\"#9467BD\",\"#9467BD\",\"blue\",\"blue\",\"#9467BD\",\"blue\",\"blue\",\"#9467BD\",\"#9467BD\",\"#9467BD\",\"#D62728\",\"#D62728\",\"#9467BD\",\"blue\",\"blue\",\"#9467BD\",\"#D62728\",\"blue\",\"#D62728\",\"#D62728\",\"#9467BD\",\"#D62728\",\"blue\",\"blue\",\"#D62728\",\"#9467BD\",\"#D62728\",\"#D62728\",\"#9467BD\",\"#9467BD\",\"#9467BD\",\"blue\",\"blue\",\"#9467BD\",\"#D62728\",\"#9467BD\",\"#D62728\",\"#D62728\",\"blue\",\"#D62728\",\"#D62728\",\"blue\",\"blue\",\"blue\",\"blue\",\"#D62728\",\"blue\",\"#9467BD\",\"#9467BD\",\"#9467BD\",\"blue\",\"blue\",\"#9467BD\",\"#D62728\",\"blue\",\"#9467BD\",\"#9467BD\",\"#9467BD\",\"#D62728\",\"#9467BD\",\"blue\",\"#D62728\",\"blue\",\"#D62728\",\"blue\",\"#9467BD\",\"#D62728\",\"#D62728\",\"#D62728\",\"#9467BD\",\"#D62728\",\"#9467BD\",\"blue\",\"blue\",\"#D62728\",\"blue\",\"#9467BD\",\"#9467BD\",\"blue\",\"#9467BD\",\"blue\",\"#D62728\",\"blue\",\"#D62728\",\"#9467BD\",\"#9467BD\",\"#9467BD\",\"#9467BD\",\"#D62728\",\"blue\",\"blue\",\"#D62728\",\"blue\",\"#D62728\",\"blue\",\"blue\",\"#D62728\",\"#D62728\",\"blue\",\"blue\",\"#D62728\",\"#D62728\",\"blue\",\"#9467BD\",\"blue\",\"#9467BD\",\"#9467BD\",\"#9467BD\",\"blue\",\"#9467BD\",\"#9467BD\",\"#D62728\",\"#9467BD\",\"#9467BD\",\"#D62728\",\"#9467BD\",\"blue\",\"#D62728\",\"#9467BD\",\"#9467BD\",\"#D62728\",\"#9467BD\",\"#9467BD\",\"#D62728\",\"#D62728\",\"blue\",\"#D62728\",\"#9467BD\",\"blue\",\"#D62728\",\"blue\",\"#D62728\",\"#9467BD\",\"blue\",\"blue\",\"#D62728\",\"#9467BD\",\"#D62728\",\"#9467BD\",\"blue\",\"blue\",\"#9467BD\",\"#9467BD\",\"blue\",\"blue\",\"#D62728\",\"#D62728\",\"#9467BD\",\"#D62728\",\"blue\",\"#9467BD\",\"blue\",\"#9467BD\",\"#9467BD\",\"#D62728\",\"#D62728\",\"#D62728\",\"blue\",\"#D62728\",\"#D62728\",\"#9467BD\",\"blue\",\"#D62728\",\"blue\",\"blue\",\"#D62728\",\"#9467BD\",\"#9467BD\",\"blue\",\"#9467BD\",\"blue\",\"#9467BD\",\"#9467BD\",\"#9467BD\",\"#D62728\",\"blue\",\"#9467BD\",\"blue\",\"#9467BD\",\"#9467BD\",\"blue\",\"#9467BD\",\"#9467BD\",\"#9467BD\",\"#D62728\",\"#D62728\",\"#D62728\",\"#9467BD\",\"blue\",\"blue\",\"#9467BD\",\"#D62728\",\"#9467BD\",\"blue\",\"#D62728\",\"#9467BD\",\"#9467BD\",\"#D62728\",\"#D62728\",\"#9467BD\",\"#9467BD\",\"blue\",\"#D62728\",\"#9467BD\",\"#9467BD\",\"#D62728\",\"blue\",\"#9467BD\",\"#9467BD\",\"#9467BD\",\"#D62728\",\"#9467BD\",\"#D62728\",\"#9467BD\",\"blue\",\"#9467BD\",\"#9467BD\",\"#9467BD\",\"#9467BD\",\"#D62728\",\"#D62728\",\"#D62728\",\"blue\",\"blue\",\"#9467BD\",\"#9467BD\",\"#9467BD\",\"blue\",\"#D62728\",\"#D62728\",\"#D62728\",\"blue\",\"#9467BD\",\"blue\",\"#D62728\",\"blue\",\"#D62728\",\"blue\",\"#9467BD\",\"#D62728\",\"#9467BD\",\"#9467BD\",\"blue\",\"#9467BD\",\"#D62728\",\"blue\",\"#9467BD\",\"blue\",\"#9467BD\",\"#D62728\",\"blue\",\"blue\",\"#9467BD\",\"#9467BD\",\"blue\",\"#9467BD\",\"blue\",\"blue\",\"#D62728\",\"#9467BD\",\"#9467BD\",\"#9467BD\",\"blue\",\"#9467BD\",\"#D62728\",\"#9467BD\",\"#D62728\",\"blue\",\"#9467BD\",\"#D62728\",\"blue\",\"blue\",\"blue\",\"blue\",\"blue\",\"#9467BD\",\"#9467BD\",\"#D62728\",\"#D62728\",\"blue\",\"#D62728\",\"blue\",\"#9467BD\",\"#9467BD\",\"#D62728\",\"#9467BD\",\"blue\",\"#D62728\",\"#9467BD\",\"#D62728\",\"#9467BD\",\"#D62728\",\"blue\",\"#9467BD\",\"#9467BD\",\"#9467BD\",\"blue\",\"#9467BD\",\"#9467BD\",\"#9467BD\",\"#D62728\",\"#9467BD\",\"#9467BD\",\"#D62728\",\"#9467BD\",\"#D62728\",\"#9467BD\",\"#D62728\",\"#D62728\",\"#9467BD\",\"blue\",\"#9467BD\",\"#9467BD\",\"blue\",\"blue\",\"blue\",\"blue\",\"blue\",\"blue\",\"#D62728\",\"#9467BD\",\"#9467BD\",\"blue\",\"#9467BD\",\"#9467BD\",\"blue\",\"#9467BD\",\"#D62728\",\"blue\",\"#9467BD\",\"#9467BD\",\"#9467BD\",\"#9467BD\",\"#D62728\",\"blue\",\"blue\",\"#9467BD\",\"#9467BD\",\"#D62728\",\"#9467BD\",\"#D62728\",\"#9467BD\",\"#D62728\",\"#D62728\",\"#9467BD\",\"#9467BD\",\"#9467BD\",\"#9467BD\",\"#9467BD\",\"blue\",\"#D62728\",\"#D62728\",\"#9467BD\",\"#9467BD\",\"#9467BD\",\"#D62728\",\"#9467BD\",\"#D62728\",\"#9467BD\",\"#9467BD\",\"#9467BD\",\"#9467BD\",\"#9467BD\",\"#D62728\",\"#D62728\",\"#9467BD\",\"blue\",\"#9467BD\",\"#9467BD\",\"#9467BD\",\"#9467BD\",\"blue\",\"#9467BD\",\"#9467BD\",\"#D62728\",\"#D62728\",\"blue\",\"#D62728\",\"#9467BD\"]},\"name\":\"\",\"showlegend\":true,\"values\":[51.77,53.74,50.1,47.82,54.23,22.65,33.34,17.93,22.6,52.15,13.99,20.66,17.46,52.29,35.02,57.25,23.88,37.59,51.33,45.17,12.84,37.32,30.52,25.27,34.53,54.64,22.5,53.13,40.3,44.18,17.66,31.05,23.82,36.89,15.94,33.29,18.02,19.63,52.22,33.63,57.31,26.41,47.61,23.11,45.07,31.77,50.27,14.27,44.18,18.78,25.52,16.28,31.12,19.49,17.27,19.09,56.13,56.41,56.5,45.22,38.16,54.11,42.96,23.89,16.77,20.59,37.13,56.06,58.11,49.05,40.76,19.73,32.24,41.83,39.58,39.25,25.02,51.04,19.83,50.4,13.61,13.34,18.97,36.28,10.16,15.44,48.41,46.35,14.07,14.86,33.37,56.4,14.02,46.91,45.61,19.92,40.11,53.9,35.67,22.0,57.36,29.17,54.63,46.03,33.97,22.11,29.69,15.97,21.96,54.35,37.97,51.99,43.29,36.72,17.08,29.14,28.81,49.46,37.92,28.09,30.81,42.95,56.76,16.64,55.53,28.13,52.37,54.0,21.87,43.3,21.04,41.6,35.07,59.64,52.72,58.08,24.12,42.15,12.61,17.44,33.14,27.37,51.36,36.0,10.65,43.54,38.21,37.34,44.1,43.29,55.85,37.6,10.97,41.82,36.95,44.28,55.02,17.24,23.15,41.25,32.0,38.49,33.34,10.93,27.55,55.99,16.24,26.12,12.23,23.99,29.06,20.27,43.55,36.94,20.47,41.06,14.19,38.28,41.05,30.25,28.26,10.76,16.85,13.47,48.56,19.15,57.36,42.98,22.16,49.43,29.99,21.36,29.0,53.53,41.62,54.59,34.95,37.72,35.61,42.16,19.19,19.43,49.46,37.8,30.8,27.43,11.11,36.5,15.38,15.48,46.82,18.46,36.58,50.54,12.51,24.7,43.61,37.34,14.36,52.65,38.2,19.6,53.9,12.96,37.1,46.31,45.95,22.08,25.38,27.12,43.04,56.8,25.91,32.61,27.88,52.67,46.02,44.48,37.4,54.04,16.88,28.08,10.4,44.07,23.4,17.43,54.21,40.67,52.26,28.77,13.82,25.85,48.78,35.35,44.73,15.77,39.24,13.92,10.69,45.21,45.58,11.89,26.41,39.5,44.74,52.79,35.43,55.84,48.87,46.78,47.82,25.48,23.57,50.89,10.56,52.15,18.28,11.83,21.95,38.39,41.56,24.48,40.36,28.9,37.61,38.85,53.95,49.83,51.51,18.03,29.14,46.91,26.79,16.28,19.55,29.65,25.98,10.6,14.75,47.02,28.82,58.79,10.23,30.03,45.84,49.05,15.06,46.47,27.09,57.62,14.39,51.75,54.07,55.35,40.12,37.51,11.21,36.58,47.72,25.01,22.13,44.14,56.02,11.23,43.28,47.27,20.29,50.83,31.85,46.23,37.8,49.32,32.01,28.01,50.62,17.03,48.8,58.14,34.2,51.48,29.87,10.9,56.37,48.35,16.73,56.48,40.79,39.72,14.58,55.51,21.8,13.33,38.73,37.86,11.53,27.06,13.86,37.55,32.3,46.29,26.2,33.26,59.15,39.43,14.44,56.54,59.9,11.88,48.05,21.21,49.67,43.14,36.97,26.8,15.71,54.65,54.36,35.28,20.55,58.32,11.84,41.46,20.1,56.86,56.51,40.83,48.64,59.48,39.01,38.77,48.39,27.26,11.68,59.45,21.0,53.98,48.74,21.15,13.71,47.67,13.34,16.89,27.18,17.28,45.14,40.85,20.46,56.27,48.49,51.34,16.34,20.5,21.59,21.36,20.88,19.53,14.75,48.48,24.57,49.71,48.27,58.05,58.87,11.82,28.03,44.05,12.34,16.68,55.91,24.57,52.98,54.4,54.81,25.08,10.41,47.44,20.91,33.95,43.68,33.23,35.92,48.63,56.63,50.49,35.79,34.06,17.76,39.36,36.94,43.62,43.02,28.45,41.39,51.15,35.88,36.91,28.93,38.89,58.33,39.67,14.1,21.82,54.21,31.19,53.64,36.39,58.54,29.48,25.06,12.55,29.04,40.72,45.05,47.13,20.22,56.48,44.21,21.96,40.45,10.29,52.86,55.65,43.64,28.41,37.51,11.45,19.22,56.91,55.06,13.2,53.63,44.48,12.08,22.14,25.37,46.33,37.33,25.55,34.72,35.96,41.14,10.01,36.05,49.03,16.24,39.55,35.67,16.62,42.78,52.3,32.34,33.17,20.12,20.9,20.9,40.2,52.87,51.74,34.41,32.38,50.35,11.38,43.58,49.67,28.77,13.22,51.17,39.61,57.43,46.01,28.25,37.05,19.57,45.13,46.64,12.16,20.89,17.97,52.6,25.77,48.19,29.93,44.34,52.4,44.81,57.84,39.67,55.02,24.8,59.45,31.58,43.27,37.34,17.8,30.54,18.77,46.85,15.79,10.27,15.42,59.92,50.96,30.6,19.27,46.58,48.51,19.02,38.38,49.98,46.49,18.32,42.14,56.59,20.96,40.32,36.39,58.55,39.61,21.3,56.88,32.97,47.31,48.67,41.73,53.68,14.64,38.4,15.08,30.57,57.74,11.05,28.58,42.91,24.73,55.91,13.76,45.56,47.22,56.0,44.58,34.5,11.33,38.77,11.83,45.51,41.81,25.15,34.22,16.23,11.48,23.37,16.28,31.63,24.91,22.54,23.63,13.12,59.98,31.49,15.52,48.13,38.13,36.55,23.32,16.33,32.42,16.96,22.37,42.27,38.7,35.63,58.0,52.41,32.35,20.75,17.49,34.13,58.81,10.0,51.22,58.59,31.3,46.42,17.21,10.79,52.35,27.88,50.26,59.99,28.32,38.71,29.85,14.82,16.81,28.23,52.11,27.88,59.71,46.08,13.73,48.39,49.45,19.67,12.36,20.02,12.75,47.51,20.44,34.79,28.07,25.01,13.9,24.17,31.63,48.75,14.74,32.49,27.8,26.77,50.44,34.93,12.87,48.94,13.38,58.63,21.94,26.58,57.22,56.43,55.65,27.62,49.56,34.77,17.73,21.8,46.02,18.13,30.89,31.95,24.04,32.36,21.07,50.66,13.66,58.09,30.0,32.74,41.93,42.8,53.51,23.21,21.14,56.07,14.41,45.75,15.77,10.02,48.77,57.86,23.59,23.05,55.55,58.64,23.21,42.57,10.92,34.77,35.66,37.19,12.25,29.7,36.8,45.43,26.26,44.92,52.53,37.25,20.93,58.09,43.59,33.92,55.55,29.64,27.41,52.51,47.8,14.54,49.53,43.58,12.3,49.47,22.14,57.48,43.45,22.13,13.03,57.35,44.29,52.25,26.33,22.96,19.21,26.78,41.32,24.55,16.26,47.84,53.49,44.84,53.71,23.43,34.32,22.1,25.83,36.74,49.51,48.96,54.62,24.72,46.45,52.33,30.6,14.57,46.29,21.57,12.91,50.11,41.67,44.88,11.1,28.54,19.07,43.55,43.63,39.13,56.68,14.16,31.45,24.61,32.87,40.17,13.51,38.95,31.69,29.4,57.83,55.46,57.6,34.98,11.87,12.47,33.26,59.04,26.13,22.2,45.11,43.69,25.02,55.5,53.04,44.97,42.38,20.11,56.7,41.0,28.85,49.97,19.69,28.88,33.14,43.7,54.89,37.52,51.07,44.07,10.79,42.72,26.66,37.6,42.21,46.83,45.17,51.22,21.28,15.36,38.62,25.4,43.87,18.74,54.86,52.62,51.48,15.28,39.24,17.81,56.02,23.9,49.13,10.62,36.17,59.95,26.09,37.35,24.72,35.28,51.32,21.12,27.35,21.74,40.87,49.31,22.11,20.79,27.41,38.35,21.55,38.02,22.06,10.66,56.58,36.83,35.01,30.48,14.08,31.22,54.29,31.04,50.96,11.89,31.38,54.81,16.78,24.42,11.75,20.02,12.86,31.58,34.0,57.42,53.47,11.64,52.88,18.51,41.32,39.77,51.96,39.51,15.4,53.82,30.95,57.82,44.18,48.71,19.69,36.52,41.56,43.19,12.34,36.25,29.45,34.56,54.12,33.78,29.64,57.7,36.34,50.59,29.38,45.42,54.43,36.26,16.16,36.29,27.89,12.29,15.85,14.4,19.18,10.64,14.76,57.49,30.66,40.83,18.88,25.83,42.12,13.33,42.4,58.35,21.72,44.91,37.46,28.48,28.34,46.96,24.96,21.71,29.87,28.99,52.94,32.36,55.66,39.45,47.11,58.75,38.92,39.39,25.89,28.34,27.7,24.89,58.99,57.2,38.43,34.74,40.44,45.24,34.96,56.76,40.28,38.0,28.8,39.24,32.93,51.32,47.09,28.42,22.85,41.24,39.07,29.82,37.26,20.3,34.65,43.38,55.53,57.06,16.97,53.98,26.08],\"type\":\"pie\"}],                        {\"template\":{\"data\":{\"pie\":[{\"automargin\":true,\"type\":\"pie\"}],\"scatter3d\":[{\"line\":{\"width\":3},\"marker\":{\"size\":9},\"type\":\"scatter3d\"}],\"scattergeo\":[{\"line\":{\"width\":3},\"marker\":{\"size\":9},\"type\":\"scattergeo\"}],\"scattergl\":[{\"line\":{\"width\":3},\"marker\":{\"size\":9},\"type\":\"scattergl\"}],\"scatterpolargl\":[{\"line\":{\"width\":3},\"marker\":{\"size\":9},\"type\":\"scatterpolargl\"}],\"scatterpolar\":[{\"line\":{\"width\":3},\"marker\":{\"size\":9},\"type\":\"scatterpolar\"}],\"scatter\":[{\"line\":{\"width\":3},\"marker\":{\"size\":9},\"type\":\"scatter\"}],\"scatterternary\":[{\"line\":{\"width\":3},\"marker\":{\"size\":9},\"type\":\"scatterternary\"}],\"table\":[{\"cells\":{\"height\":30},\"header\":{\"height\":36},\"type\":\"table\"}]},\"layout\":{\"font\":{\"size\":18},\"xaxis\":{\"title\":{\"standoff\":15}},\"yaxis\":{\"title\":{\"standoff\":15}}}},\"legend\":{\"tracegroupgap\":0},\"title\":{\"text\":\"Classifica\\u00e7\\u00e3o dos livros por pre\\u00e7o\"},\"height\":400,\"width\":700},                        {\"responsive\": true}                    ).then(function(){\n",
       "                            \n",
       "var gd = document.getElementById('94990cdc-f1f2-4b57-ad3b-8315d64f1418');\n",
       "var x = new MutationObserver(function (mutations, observer) {{\n",
       "        var display = window.getComputedStyle(gd).display;\n",
       "        if (!display || display === 'none') {{\n",
       "            console.log([gd, 'removed!']);\n",
       "            Plotly.purge(gd);\n",
       "            observer.disconnect();\n",
       "        }}\n",
       "}});\n",
       "\n",
       "// Listen for the removal of the full notebook cells\n",
       "var notebookContainer = gd.closest('#notebook-container');\n",
       "if (notebookContainer) {{\n",
       "    x.observe(notebookContainer, {childList: true});\n",
       "}}\n",
       "\n",
       "// Listen for the clearing of the current output cell\n",
       "var outputEl = gd.closest('.output');\n",
       "if (outputEl) {{\n",
       "    x.observe(outputEl, {childList: true});\n",
       "}}\n",
       "\n",
       "                        })                };                });            </script>        </div>"
      ]
     },
     "metadata": {},
     "output_type": "display_data"
    }
   ],
   "source": [
    "# Gráfico 'Pie Chart'\n",
    "\n",
    "pie_chart = px.pie(\n",
    "    \n",
    "    data_frame = valores,\n",
    "    values = 'precos' ,     #valores que definiram a porcentagem do gráfico, de acordo com a faixa pertencente\n",
    "    names = 'faixas'     ,     #cada pedaço corresponde ao alerta criado\n",
    "    color = 'faixas'     ,     #cores serão definidas pelas coluna 'faixas'\n",
    "    \n",
    "    \n",
    "    #definindo o mapa de cores\n",
    "    color_discrete_map = {'Preços altos (45,00 - 59,99 £)':'red','Preços médios (25,00 - 44,99 £)':'purple','Preços baixos (10,00 - 24,99 £)':'blue'},\n",
    "    title = 'Classificação dos livros por preço', #título do gráfico\n",
    "    \n",
    "    #ajuste de legenda\n",
    "    labels={'faixas':'Faixa','precos':'Preço total'},\n",
    "    template = 'presentation',                       #templates disponíveis\n",
    "    width = 700,                                     #largura em pixels\n",
    "    height = 400,                                    #altura em pixels\n",
    "    hole = 0.5                                       #espaço vazio(buraco) no meio do grafo\n",
    "    \n",
    ")\n",
    "\n",
    "pio.show(pie_chart)"
   ]
  },
  {
   "attachments": {
    "graph_1.png": {
     "image/png": "[encoded data removed]"
    }
   },
   "cell_type": "markdown",
   "id": "acecb6b5",
   "metadata": {},
   "source": [
    "![graph_1.png](attachment:graph_1.png)"
   ]
  },
  {
   "cell_type": "code",
   "execution_count": 31,
   "id": "62a6bee5",
   "metadata": {},
   "outputs": [
    {
     "data": {
      "text/html": [
       "<div>\n",
       "<style scoped>\n",
       "    .dataframe tbody tr th:only-of-type {\n",
       "        vertical-align: middle;\n",
       "    }\n",
       "\n",
       "    .dataframe tbody tr th {\n",
       "        vertical-align: top;\n",
       "    }\n",
       "\n",
       "    .dataframe thead th {\n",
       "        text-align: right;\n",
       "    }\n",
       "</style>\n",
       "<table border=\"1\" class=\"dataframe\">\n",
       "  <thead>\n",
       "    <tr style=\"text-align: right;\">\n",
       "      <th></th>\n",
       "      <th>categorias</th>\n",
       "      <th>avaliacoes</th>\n",
       "    </tr>\n",
       "  </thead>\n",
       "  <tbody>\n",
       "    <tr>\n",
       "      <th>0</th>\n",
       "      <td>Add a comment</td>\n",
       "      <td>4</td>\n",
       "    </tr>\n",
       "    <tr>\n",
       "      <th>1</th>\n",
       "      <td>Add a comment</td>\n",
       "      <td>4</td>\n",
       "    </tr>\n",
       "    <tr>\n",
       "      <th>2</th>\n",
       "      <td>Add a comment</td>\n",
       "      <td>4</td>\n",
       "    </tr>\n",
       "    <tr>\n",
       "      <th>3</th>\n",
       "      <td>Add a comment</td>\n",
       "      <td>4</td>\n",
       "    </tr>\n",
       "    <tr>\n",
       "      <th>4</th>\n",
       "      <td>Add a comment</td>\n",
       "      <td>5</td>\n",
       "    </tr>\n",
       "    <tr>\n",
       "      <th>...</th>\n",
       "      <td>...</td>\n",
       "      <td>...</td>\n",
       "    </tr>\n",
       "    <tr>\n",
       "      <th>370</th>\n",
       "      <td>Young Adult</td>\n",
       "      <td>4</td>\n",
       "    </tr>\n",
       "    <tr>\n",
       "      <th>371</th>\n",
       "      <td>Young Adult</td>\n",
       "      <td>4</td>\n",
       "    </tr>\n",
       "    <tr>\n",
       "      <th>372</th>\n",
       "      <td>Young Adult</td>\n",
       "      <td>4</td>\n",
       "    </tr>\n",
       "    <tr>\n",
       "      <th>373</th>\n",
       "      <td>Young Adult</td>\n",
       "      <td>4</td>\n",
       "    </tr>\n",
       "    <tr>\n",
       "      <th>374</th>\n",
       "      <td>Young Adult</td>\n",
       "      <td>4</td>\n",
       "    </tr>\n",
       "  </tbody>\n",
       "</table>\n",
       "<p>375 rows × 2 columns</p>\n",
       "</div>"
      ],
      "text/plain": [
       "        categorias  avaliacoes\n",
       "0    Add a comment           4\n",
       "1    Add a comment           4\n",
       "2    Add a comment           4\n",
       "3    Add a comment           4\n",
       "4    Add a comment           5\n",
       "..             ...         ...\n",
       "370    Young Adult           4\n",
       "371    Young Adult           4\n",
       "372    Young Adult           4\n",
       "373    Young Adult           4\n",
       "374    Young Adult           4\n",
       "\n",
       "[375 rows x 2 columns]"
      ]
     },
     "execution_count": 31,
     "metadata": {},
     "output_type": "execute_result"
    }
   ],
   "source": [
    "# Análise gráfica dentre os livros com (4 e 5 estrelas) quais categorias se destacam no Book Club\n",
    "    \n",
    "#Selecionando livros com avaliações de 4 e 5 estrelas\n",
    "df = dados.loc[dados['avaliacoes'] >= 4]\n",
    "df.drop(['titulos','estocagem','precos'], axis=1, inplace=True)#retira colunas desnecessárias ao gráfico \n",
    "\n",
    "\n",
    "\n",
    "df = df.sort_values(by = ['categorias']) #organiza o dataframe em ordem alfabética de categorias\n",
    "df.reset_index(drop = True) #organiza a coluna de indexação\n"
   ]
  },
  {
   "cell_type": "code",
   "execution_count": 32,
   "id": "76dd2f0e",
   "metadata": {
    "scrolled": true
   },
   "outputs": [
    {
     "data": {
      "application/vnd.plotly.v1+json": {
       "config": {
        "plotlyServerURL": "https://plot.ly"
       },
       "data": [
        {
         "alignmentgroup": "True",
         "hovertemplate": "Categoria=%{x}<br>Estrelas=%{y}<br>color=%{marker.color}<extra></extra>",
         "legendgroup": "",
         "marker": {
          "color": [
           4,
           4,
           4,
           4,
           5,
           5,
           5,
           4,
           5,
           5,
           5,
           5,
           4,
           4,
           4,
           4,
           4,
           4,
           4,
           5,
           4,
           5,
           5,
           4,
           4,
           4,
           4,
           5,
           4,
           5,
           5,
           4,
           5,
           5,
           5,
           4,
           4,
           5,
           5,
           4,
           4,
           5,
           5,
           5,
           5,
           5,
           4,
           4,
           4,
           4,
           4,
           4,
           5,
           5,
           4,
           5,
           5,
           4,
           4,
           4,
           4,
           5,
           4,
           5,
           4,
           5,
           5,
           5,
           4,
           5,
           5,
           5,
           5,
           5,
           4,
           5,
           5,
           4,
           5,
           5,
           5,
           4,
           5,
           4,
           5,
           5,
           5,
           4,
           4,
           4,
           5,
           4,
           4,
           5,
           5,
           5,
           5,
           4,
           4,
           4,
           4,
           5,
           4,
           5,
           4,
           5,
           5,
           4,
           5,
           4,
           5,
           5,
           5,
           4,
           5,
           4,
           4,
           5,
           4,
           4,
           4,
           4,
           5,
           4,
           4,
           5,
           5,
           4,
           5,
           5,
           4,
           5,
           4,
           4,
           4,
           5,
           5,
           5,
           5,
           4,
           5,
           5,
           5,
           5,
           4,
           4,
           5,
           4,
           5,
           4,
           5,
           5,
           5,
           5,
           5,
           5,
           4,
           5,
           4,
           4,
           5,
           5,
           5,
           5,
           5,
           5,
           5,
           4,
           4,
           4,
           5,
           5,
           5,
           5,
           5,
           5,
           4,
           5,
           5,
           5,
           5,
           5,
           4,
           4,
           5,
           5,
           5,
           4,
           4,
           4,
           5,
           5,
           5,
           5,
           4,
           5,
           4,
           5,
           5,
           5,
           4,
           5,
           5,
           4,
           4,
           4,
           5,
           5,
           5,
           4,
           4,
           4,
           5,
           5,
           5,
           5,
           4,
           4,
           4,
           4,
           4,
           5,
           5,
           4,
           4,
           5,
           5,
           4,
           5,
           4,
           5,
           5,
           5,
           5,
           4,
           4,
           4,
           4,
           5,
           5,
           4,
           4,
           4,
           5,
           5,
           5,
           4,
           5,
           4,
           5,
           5,
           5,
           5,
           4,
           5,
           5,
           4,
           5,
           5,
           5,
           5,
           4,
           4,
           4,
           5,
           5,
           4,
           4,
           4,
           4,
           4,
           5,
           4,
           4,
           4,
           5,
           5,
           4,
           4,
           4,
           5,
           5,
           4,
           5,
           5,
           4,
           4,
           4,
           4,
           4,
           4,
           4,
           5,
           4,
           5,
           5,
           4,
           4,
           4,
           5,
           4,
           4,
           5,
           4,
           5,
           5,
           4,
           4,
           5,
           4,
           4,
           4,
           5,
           5,
           4,
           4,
           5,
           5,
           5,
           5,
           4,
           4,
           4,
           4,
           5,
           5,
           5,
           5,
           4,
           4,
           4,
           5,
           5,
           5,
           4,
           4,
           4,
           4,
           5,
           5,
           4,
           4,
           5,
           5,
           4,
           4,
           4,
           4,
           5,
           5,
           4,
           5,
           5,
           5,
           5,
           4,
           5,
           5,
           4,
           4,
           4,
           5,
           4,
           4,
           5,
           5,
           5,
           5,
           5,
           5,
           4,
           4,
           4,
           4,
           4
          ],
          "coloraxis": "coloraxis",
          "opacity": 0.9,
          "pattern": {
           "shape": ""
          }
         },
         "name": "",
         "offsetgroup": "",
         "orientation": "v",
         "showlegend": false,
         "textposition": "auto",
         "type": "bar",
         "x": [
          "Add a comment",
          "Add a comment",
          "Add a comment",
          "Add a comment",
          "Add a comment",
          "Add a comment",
          "Add a comment",
          "Add a comment",
          "Add a comment",
          "Add a comment",
          "Add a comment",
          "Add a comment",
          "Add a comment",
          "Add a comment",
          "Add a comment",
          "Add a comment",
          "Add a comment",
          "Add a comment",
          "Add a comment",
          "Add a comment",
          "Add a comment",
          "Adult Fiction",
          "Art",
          "Art",
          "Art",
          "Art",
          "Art",
          "Autobiography",
          "Autobiography",
          "Autobiography",
          "Autobiography",
          "Business",
          "Business",
          "Business",
          "Business",
          "Childrens",
          "Childrens",
          "Childrens",
          "Childrens",
          "Childrens",
          "Childrens",
          "Childrens",
          "Christian",
          "Christian Fiction",
          "Christian Fiction",
          "Christian Fiction",
          "Christian Fiction",
          "Christian Fiction",
          "Classics",
          "Classics",
          "Classics",
          "Classics",
          "Contemporary",
          "Default",
          "Default",
          "Default",
          "Default",
          "Default",
          "Default",
          "Default",
          "Default",
          "Default",
          "Default",
          "Default",
          "Default",
          "Default",
          "Default",
          "Default",
          "Default",
          "Default",
          "Default",
          "Default",
          "Default",
          "Default",
          "Default",
          "Default",
          "Default",
          "Default",
          "Default",
          "Default",
          "Default",
          "Default",
          "Default",
          "Default",
          "Default",
          "Default",
          "Default",
          "Default",
          "Default",
          "Default",
          "Default",
          "Default",
          "Default",
          "Default",
          "Default",
          "Default",
          "Default",
          "Default",
          "Default",
          "Default",
          "Default",
          "Default",
          "Default",
          "Default",
          "Default",
          "Erotica",
          "Fantasy",
          "Fantasy",
          "Fantasy",
          "Fantasy",
          "Fantasy",
          "Fantasy",
          "Fantasy",
          "Fantasy",
          "Fantasy",
          "Fantasy",
          "Fantasy",
          "Fantasy",
          "Fantasy",
          "Fantasy",
          "Fantasy",
          "Fantasy",
          "Fantasy",
          "Fantasy",
          "Fantasy",
          "Fantasy",
          "Fantasy",
          "Fiction",
          "Fiction",
          "Fiction",
          "Fiction",
          "Fiction",
          "Fiction",
          "Fiction",
          "Fiction",
          "Fiction",
          "Fiction",
          "Fiction",
          "Fiction",
          "Fiction",
          "Fiction",
          "Fiction",
          "Fiction",
          "Fiction",
          "Fiction",
          "Fiction",
          "Fiction",
          "Fiction",
          "Fiction",
          "Fiction",
          "Fiction",
          "Fiction",
          "Fiction",
          "Fiction",
          "Food and Drink",
          "Food and Drink",
          "Food and Drink",
          "Food and Drink",
          "Food and Drink",
          "Food and Drink",
          "Food and Drink",
          "Food and Drink",
          "Food and Drink",
          "Food and Drink",
          "Health",
          "Health",
          "Historical",
          "Historical Fiction",
          "Historical Fiction",
          "Historical Fiction",
          "Historical Fiction",
          "Historical Fiction",
          "Historical Fiction",
          "Historical Fiction",
          "Historical Fiction",
          "Historical Fiction",
          "Historical Fiction",
          "Historical Fiction",
          "Historical Fiction",
          "History",
          "History",
          "History",
          "History",
          "History",
          "History",
          "Horror",
          "Horror",
          "Horror",
          "Horror",
          "Horror",
          "Humor",
          "Humor",
          "Humor",
          "Humor",
          "Humor",
          "Music",
          "Music",
          "Music",
          "Music",
          "Music",
          "Mystery",
          "Mystery",
          "Mystery",
          "Mystery",
          "Mystery",
          "Mystery",
          "Mystery",
          "Mystery",
          "Mystery",
          "Mystery",
          "Mystery",
          "Mystery",
          "New Adult",
          "New Adult",
          "Nonfiction",
          "Nonfiction",
          "Nonfiction",
          "Nonfiction",
          "Nonfiction",
          "Nonfiction",
          "Nonfiction",
          "Nonfiction",
          "Nonfiction",
          "Nonfiction",
          "Nonfiction",
          "Nonfiction",
          "Nonfiction",
          "Nonfiction",
          "Nonfiction",
          "Nonfiction",
          "Nonfiction",
          "Nonfiction",
          "Nonfiction",
          "Nonfiction",
          "Nonfiction",
          "Nonfiction",
          "Nonfiction",
          "Nonfiction",
          "Nonfiction",
          "Nonfiction",
          "Nonfiction",
          "Nonfiction",
          "Nonfiction",
          "Nonfiction",
          "Nonfiction",
          "Nonfiction",
          "Nonfiction",
          "Nonfiction",
          "Nonfiction",
          "Nonfiction",
          "Nonfiction",
          "Nonfiction",
          "Novels",
          "Philosophy",
          "Philosophy",
          "Philosophy",
          "Philosophy",
          "Poetry",
          "Poetry",
          "Poetry",
          "Poetry",
          "Poetry",
          "Poetry",
          "Poetry",
          "Poetry",
          "Poetry",
          "Poetry",
          "Poetry",
          "Poetry",
          "Politics",
          "Religion",
          "Religion",
          "Religion",
          "Romance",
          "Romance",
          "Romance",
          "Romance",
          "Romance",
          "Romance",
          "Romance",
          "Romance",
          "Romance",
          "Science",
          "Science",
          "Science",
          "Science",
          "Science",
          "Science",
          "Science",
          "Science Fiction",
          "Science Fiction",
          "Science Fiction",
          "Science Fiction",
          "Science Fiction",
          "Self Help",
          "Sequential Art",
          "Sequential Art",
          "Sequential Art",
          "Sequential Art",
          "Sequential Art",
          "Sequential Art",
          "Sequential Art",
          "Sequential Art",
          "Sequential Art",
          "Sequential Art",
          "Sequential Art",
          "Sequential Art",
          "Sequential Art",
          "Sequential Art",
          "Sequential Art",
          "Sequential Art",
          "Sequential Art",
          "Sequential Art",
          "Sequential Art",
          "Sequential Art",
          "Sequential Art",
          "Sequential Art",
          "Sequential Art",
          "Sequential Art",
          "Sequential Art",
          "Sequential Art",
          "Sequential Art",
          "Sequential Art",
          "Sequential Art",
          "Spirituality",
          "Spirituality",
          "Spirituality",
          "Sports and Games",
          "Sports and Games",
          "Thriller",
          "Thriller",
          "Thriller",
          "Thriller",
          "Travel",
          "Travel",
          "Travel",
          "Womens Fiction",
          "Womens Fiction",
          "Womens Fiction",
          "Womens Fiction",
          "Womens Fiction",
          "Womens Fiction",
          "Womens Fiction",
          "Womens Fiction",
          "Womens Fiction",
          "Young Adult",
          "Young Adult",
          "Young Adult",
          "Young Adult",
          "Young Adult",
          "Young Adult",
          "Young Adult",
          "Young Adult",
          "Young Adult",
          "Young Adult",
          "Young Adult",
          "Young Adult",
          "Young Adult",
          "Young Adult",
          "Young Adult",
          "Young Adult",
          "Young Adult",
          "Young Adult",
          "Young Adult",
          "Young Adult",
          "Young Adult",
          "Young Adult",
          "Young Adult",
          "Young Adult",
          "Young Adult",
          "Young Adult",
          "Young Adult",
          "Young Adult",
          "Young Adult",
          "Young Adult"
         ],
         "xaxis": "x",
         "y": [
          4,
          4,
          4,
          4,
          5,
          5,
          5,
          4,
          5,
          5,
          5,
          5,
          4,
          4,
          4,
          4,
          4,
          4,
          4,
          5,
          4,
          5,
          5,
          4,
          4,
          4,
          4,
          5,
          4,
          5,
          5,
          4,
          5,
          5,
          5,
          4,
          4,
          5,
          5,
          4,
          4,
          5,
          5,
          5,
          5,
          5,
          4,
          4,
          4,
          4,
          4,
          4,
          5,
          5,
          4,
          5,
          5,
          4,
          4,
          4,
          4,
          5,
          4,
          5,
          4,
          5,
          5,
          5,
          4,
          5,
          5,
          5,
          5,
          5,
          4,
          5,
          5,
          4,
          5,
          5,
          5,
          4,
          5,
          4,
          5,
          5,
          5,
          4,
          4,
          4,
          5,
          4,
          4,
          5,
          5,
          5,
          5,
          4,
          4,
          4,
          4,
          5,
          4,
          5,
          4,
          5,
          5,
          4,
          5,
          4,
          5,
          5,
          5,
          4,
          5,
          4,
          4,
          5,
          4,
          4,
          4,
          4,
          5,
          4,
          4,
          5,
          5,
          4,
          5,
          5,
          4,
          5,
          4,
          4,
          4,
          5,
          5,
          5,
          5,
          4,
          5,
          5,
          5,
          5,
          4,
          4,
          5,
          4,
          5,
          4,
          5,
          5,
          5,
          5,
          5,
          5,
          4,
          5,
          4,
          4,
          5,
          5,
          5,
          5,
          5,
          5,
          5,
          4,
          4,
          4,
          5,
          5,
          5,
          5,
          5,
          5,
          4,
          5,
          5,
          5,
          5,
          5,
          4,
          4,
          5,
          5,
          5,
          4,
          4,
          4,
          5,
          5,
          5,
          5,
          4,
          5,
          4,
          5,
          5,
          5,
          4,
          5,
          5,
          4,
          4,
          4,
          5,
          5,
          5,
          4,
          4,
          4,
          5,
          5,
          5,
          5,
          4,
          4,
          4,
          4,
          4,
          5,
          5,
          4,
          4,
          5,
          5,
          4,
          5,
          4,
          5,
          5,
          5,
          5,
          4,
          4,
          4,
          4,
          5,
          5,
          4,
          4,
          4,
          5,
          5,
          5,
          4,
          5,
          4,
          5,
          5,
          5,
          5,
          4,
          5,
          5,
          4,
          5,
          5,
          5,
          5,
          4,
          4,
          4,
          5,
          5,
          4,
          4,
          4,
          4,
          4,
          5,
          4,
          4,
          4,
          5,
          5,
          4,
          4,
          4,
          5,
          5,
          4,
          5,
          5,
          4,
          4,
          4,
          4,
          4,
          4,
          4,
          5,
          4,
          5,
          5,
          4,
          4,
          4,
          5,
          4,
          4,
          5,
          4,
          5,
          5,
          4,
          4,
          5,
          4,
          4,
          4,
          5,
          5,
          4,
          4,
          5,
          5,
          5,
          5,
          4,
          4,
          4,
          4,
          5,
          5,
          5,
          5,
          4,
          4,
          4,
          5,
          5,
          5,
          4,
          4,
          4,
          4,
          5,
          5,
          4,
          4,
          5,
          5,
          4,
          4,
          4,
          4,
          5,
          5,
          4,
          5,
          5,
          5,
          5,
          4,
          5,
          5,
          4,
          4,
          4,
          5,
          4,
          4,
          5,
          5,
          5,
          5,
          5,
          5,
          4,
          4,
          4,
          4,
          4
         ],
         "yaxis": "y"
        }
       ],
       "layout": {
        "barmode": "relative",
        "coloraxis": {
         "colorbar": {
          "title": {
           "text": "color"
          }
         },
         "colorscale": [
          [
           0,
           "#440154"
          ],
          [
           0.1111111111111111,
           "#482878"
          ],
          [
           0.2222222222222222,
           "#3e4989"
          ],
          [
           0.3333333333333333,
           "#31688e"
          ],
          [
           0.4444444444444444,
           "#26828e"
          ],
          [
           0.5555555555555556,
           "#1f9e89"
          ],
          [
           0.6666666666666666,
           "#35b779"
          ],
          [
           0.7777777777777778,
           "#6ece58"
          ],
          [
           0.8888888888888888,
           "#b5de2b"
          ],
          [
           1,
           "#fde725"
          ]
         ]
        },
        "height": 720,
        "legend": {
         "tracegroupgap": 0
        },
        "template": {
         "data": {
          "pie": [
           {
            "automargin": true,
            "type": "pie"
           }
          ]
         },
         "layout": {
          "xaxis": {
           "showgrid": true,
           "title": {
            "standoff": 15
           }
          },
          "yaxis": {
           "showgrid": true,
           "title": {
            "standoff": 15
           }
          }
         }
        },
        "title": {
         "text": "Livros bem avaliados por categoria"
        },
        "width": 1000,
        "xaxis": {
         "anchor": "y",
         "domain": [
          0,
          1
         ],
         "title": {
          "text": "Categoria"
         }
        },
        "yaxis": {
         "anchor": "x",
         "domain": [
          0,
          1
         ],
         "title": {
          "text": "Estrelas"
         }
        }
       }
      },
      "text/html": [
       "<div>                            <div id=\"e0723e78-de13-4d2c-b661-0fb60214f90f\" class=\"plotly-graph-div\" style=\"height:720px; width:1000px;\"></div>            <script type=\"text/javascript\">                require([\"plotly\"], function(Plotly) {                    window.PLOTLYENV=window.PLOTLYENV || {};                                    if (document.getElementById(\"e0723e78-de13-4d2c-b661-0fb60214f90f\")) {                    Plotly.newPlot(                        \"e0723e78-de13-4d2c-b661-0fb60214f90f\",                        [{\"alignmentgroup\":\"True\",\"hovertemplate\":\"Categoria=%{x}<br>Estrelas=%{y}<br>color=%{marker.color}<extra></extra>\",\"legendgroup\":\"\",\"marker\":{\"color\":[4,4,4,4,5,5,5,4,5,5,5,5,4,4,4,4,4,4,4,5,4,5,5,4,4,4,4,5,4,5,5,4,5,5,5,4,4,5,5,4,4,5,5,5,5,5,4,4,4,4,4,4,5,5,4,5,5,4,4,4,4,5,4,5,4,5,5,5,4,5,5,5,5,5,4,5,5,4,5,5,5,4,5,4,5,5,5,4,4,4,5,4,4,5,5,5,5,4,4,4,4,5,4,5,4,5,5,4,5,4,5,5,5,4,5,4,4,5,4,4,4,4,5,4,4,5,5,4,5,5,4,5,4,4,4,5,5,5,5,4,5,5,5,5,4,4,5,4,5,4,5,5,5,5,5,5,4,5,4,4,5,5,5,5,5,5,5,4,4,4,5,5,5,5,5,5,4,5,5,5,5,5,4,4,5,5,5,4,4,4,5,5,5,5,4,5,4,5,5,5,4,5,5,4,4,4,5,5,5,4,4,4,5,5,5,5,4,4,4,4,4,5,5,4,4,5,5,4,5,4,5,5,5,5,4,4,4,4,5,5,4,4,4,5,5,5,4,5,4,5,5,5,5,4,5,5,4,5,5,5,5,4,4,4,5,5,4,4,4,4,4,5,4,4,4,5,5,4,4,4,5,5,4,5,5,4,4,4,4,4,4,4,5,4,5,5,4,4,4,5,4,4,5,4,5,5,4,4,5,4,4,4,5,5,4,4,5,5,5,5,4,4,4,4,5,5,5,5,4,4,4,5,5,5,4,4,4,4,5,5,4,4,5,5,4,4,4,4,5,5,4,5,5,5,5,4,5,5,4,4,4,5,4,4,5,5,5,5,5,5,4,4,4,4,4],\"coloraxis\":\"coloraxis\",\"opacity\":0.9,\"pattern\":{\"shape\":\"\"}},\"name\":\"\",\"offsetgroup\":\"\",\"orientation\":\"v\",\"showlegend\":false,\"textposition\":\"auto\",\"x\":[\"Add a comment\",\"Add a comment\",\"Add a comment\",\"Add a comment\",\"Add a comment\",\"Add a comment\",\"Add a comment\",\"Add a comment\",\"Add a comment\",\"Add a comment\",\"Add a comment\",\"Add a comment\",\"Add a comment\",\"Add a comment\",\"Add a comment\",\"Add a comment\",\"Add a comment\",\"Add a comment\",\"Add a comment\",\"Add a comment\",\"Add a comment\",\"Adult Fiction\",\"Art\",\"Art\",\"Art\",\"Art\",\"Art\",\"Autobiography\",\"Autobiography\",\"Autobiography\",\"Autobiography\",\"Business\",\"Business\",\"Business\",\"Business\",\"Childrens\",\"Childrens\",\"Childrens\",\"Childrens\",\"Childrens\",\"Childrens\",\"Childrens\",\"Christian\",\"Christian Fiction\",\"Christian Fiction\",\"Christian Fiction\",\"Christian Fiction\",\"Christian Fiction\",\"Classics\",\"Classics\",\"Classics\",\"Classics\",\"Contemporary\",\"Default\",\"Default\",\"Default\",\"Default\",\"Default\",\"Default\",\"Default\",\"Default\",\"Default\",\"Default\",\"Default\",\"Default\",\"Default\",\"Default\",\"Default\",\"Default\",\"Default\",\"Default\",\"Default\",\"Default\",\"Default\",\"Default\",\"Default\",\"Default\",\"Default\",\"Default\",\"Default\",\"Default\",\"Default\",\"Default\",\"Default\",\"Default\",\"Default\",\"Default\",\"Default\",\"Default\",\"Default\",\"Default\",\"Default\",\"Default\",\"Default\",\"Default\",\"Default\",\"Default\",\"Default\",\"Default\",\"Default\",\"Default\",\"Default\",\"Default\",\"Default\",\"Default\",\"Erotica\",\"Fantasy\",\"Fantasy\",\"Fantasy\",\"Fantasy\",\"Fantasy\",\"Fantasy\",\"Fantasy\",\"Fantasy\",\"Fantasy\",\"Fantasy\",\"Fantasy\",\"Fantasy\",\"Fantasy\",\"Fantasy\",\"Fantasy\",\"Fantasy\",\"Fantasy\",\"Fantasy\",\"Fantasy\",\"Fantasy\",\"Fantasy\",\"Fiction\",\"Fiction\",\"Fiction\",\"Fiction\",\"Fiction\",\"Fiction\",\"Fiction\",\"Fiction\",\"Fiction\",\"Fiction\",\"Fiction\",\"Fiction\",\"Fiction\",\"Fiction\",\"Fiction\",\"Fiction\",\"Fiction\",\"Fiction\",\"Fiction\",\"Fiction\",\"Fiction\",\"Fiction\",\"Fiction\",\"Fiction\",\"Fiction\",\"Fiction\",\"Fiction\",\"Food and Drink\",\"Food and Drink\",\"Food and Drink\",\"Food and Drink\",\"Food and Drink\",\"Food and Drink\",\"Food and Drink\",\"Food and Drink\",\"Food and Drink\",\"Food and Drink\",\"Health\",\"Health\",\"Historical\",\"Historical Fiction\",\"Historical Fiction\",\"Historical Fiction\",\"Historical Fiction\",\"Historical Fiction\",\"Historical Fiction\",\"Historical Fiction\",\"Historical Fiction\",\"Historical Fiction\",\"Historical Fiction\",\"Historical Fiction\",\"Historical Fiction\",\"History\",\"History\",\"History\",\"History\",\"History\",\"History\",\"Horror\",\"Horror\",\"Horror\",\"Horror\",\"Horror\",\"Humor\",\"Humor\",\"Humor\",\"Humor\",\"Humor\",\"Music\",\"Music\",\"Music\",\"Music\",\"Music\",\"Mystery\",\"Mystery\",\"Mystery\",\"Mystery\",\"Mystery\",\"Mystery\",\"Mystery\",\"Mystery\",\"Mystery\",\"Mystery\",\"Mystery\",\"Mystery\",\"New Adult\",\"New Adult\",\"Nonfiction\",\"Nonfiction\",\"Nonfiction\",\"Nonfiction\",\"Nonfiction\",\"Nonfiction\",\"Nonfiction\",\"Nonfiction\",\"Nonfiction\",\"Nonfiction\",\"Nonfiction\",\"Nonfiction\",\"Nonfiction\",\"Nonfiction\",\"Nonfiction\",\"Nonfiction\",\"Nonfiction\",\"Nonfiction\",\"Nonfiction\",\"Nonfiction\",\"Nonfiction\",\"Nonfiction\",\"Nonfiction\",\"Nonfiction\",\"Nonfiction\",\"Nonfiction\",\"Nonfiction\",\"Nonfiction\",\"Nonfiction\",\"Nonfiction\",\"Nonfiction\",\"Nonfiction\",\"Nonfiction\",\"Nonfiction\",\"Nonfiction\",\"Nonfiction\",\"Nonfiction\",\"Nonfiction\",\"Novels\",\"Philosophy\",\"Philosophy\",\"Philosophy\",\"Philosophy\",\"Poetry\",\"Poetry\",\"Poetry\",\"Poetry\",\"Poetry\",\"Poetry\",\"Poetry\",\"Poetry\",\"Poetry\",\"Poetry\",\"Poetry\",\"Poetry\",\"Politics\",\"Religion\",\"Religion\",\"Religion\",\"Romance\",\"Romance\",\"Romance\",\"Romance\",\"Romance\",\"Romance\",\"Romance\",\"Romance\",\"Romance\",\"Science\",\"Science\",\"Science\",\"Science\",\"Science\",\"Science\",\"Science\",\"Science Fiction\",\"Science Fiction\",\"Science Fiction\",\"Science Fiction\",\"Science Fiction\",\"Self Help\",\"Sequential Art\",\"Sequential Art\",\"Sequential Art\",\"Sequential Art\",\"Sequential Art\",\"Sequential Art\",\"Sequential Art\",\"Sequential Art\",\"Sequential Art\",\"Sequential Art\",\"Sequential Art\",\"Sequential Art\",\"Sequential Art\",\"Sequential Art\",\"Sequential Art\",\"Sequential Art\",\"Sequential Art\",\"Sequential Art\",\"Sequential Art\",\"Sequential Art\",\"Sequential Art\",\"Sequential Art\",\"Sequential Art\",\"Sequential Art\",\"Sequential Art\",\"Sequential Art\",\"Sequential Art\",\"Sequential Art\",\"Sequential Art\",\"Spirituality\",\"Spirituality\",\"Spirituality\",\"Sports and Games\",\"Sports and Games\",\"Thriller\",\"Thriller\",\"Thriller\",\"Thriller\",\"Travel\",\"Travel\",\"Travel\",\"Womens Fiction\",\"Womens Fiction\",\"Womens Fiction\",\"Womens Fiction\",\"Womens Fiction\",\"Womens Fiction\",\"Womens Fiction\",\"Womens Fiction\",\"Womens Fiction\",\"Young Adult\",\"Young Adult\",\"Young Adult\",\"Young Adult\",\"Young Adult\",\"Young Adult\",\"Young Adult\",\"Young Adult\",\"Young Adult\",\"Young Adult\",\"Young Adult\",\"Young Adult\",\"Young Adult\",\"Young Adult\",\"Young Adult\",\"Young Adult\",\"Young Adult\",\"Young Adult\",\"Young Adult\",\"Young Adult\",\"Young Adult\",\"Young Adult\",\"Young Adult\",\"Young Adult\",\"Young Adult\",\"Young Adult\",\"Young Adult\",\"Young Adult\",\"Young Adult\",\"Young Adult\"],\"xaxis\":\"x\",\"y\":[4,4,4,4,5,5,5,4,5,5,5,5,4,4,4,4,4,4,4,5,4,5,5,4,4,4,4,5,4,5,5,4,5,5,5,4,4,5,5,4,4,5,5,5,5,5,4,4,4,4,4,4,5,5,4,5,5,4,4,4,4,5,4,5,4,5,5,5,4,5,5,5,5,5,4,5,5,4,5,5,5,4,5,4,5,5,5,4,4,4,5,4,4,5,5,5,5,4,4,4,4,5,4,5,4,5,5,4,5,4,5,5,5,4,5,4,4,5,4,4,4,4,5,4,4,5,5,4,5,5,4,5,4,4,4,5,5,5,5,4,5,5,5,5,4,4,5,4,5,4,5,5,5,5,5,5,4,5,4,4,5,5,5,5,5,5,5,4,4,4,5,5,5,5,5,5,4,5,5,5,5,5,4,4,5,5,5,4,4,4,5,5,5,5,4,5,4,5,5,5,4,5,5,4,4,4,5,5,5,4,4,4,5,5,5,5,4,4,4,4,4,5,5,4,4,5,5,4,5,4,5,5,5,5,4,4,4,4,5,5,4,4,4,5,5,5,4,5,4,5,5,5,5,4,5,5,4,5,5,5,5,4,4,4,5,5,4,4,4,4,4,5,4,4,4,5,5,4,4,4,5,5,4,5,5,4,4,4,4,4,4,4,5,4,5,5,4,4,4,5,4,4,5,4,5,5,4,4,5,4,4,4,5,5,4,4,5,5,5,5,4,4,4,4,5,5,5,5,4,4,4,5,5,5,4,4,4,4,5,5,4,4,5,5,4,4,4,4,5,5,4,5,5,5,5,4,5,5,4,4,4,5,4,4,5,5,5,5,5,5,4,4,4,4,4],\"yaxis\":\"y\",\"type\":\"bar\"}],                        {\"template\":{\"data\":{\"pie\":[{\"automargin\":true,\"type\":\"pie\"}]},\"layout\":{\"xaxis\":{\"showgrid\":true,\"title\":{\"standoff\":15}},\"yaxis\":{\"showgrid\":true,\"title\":{\"standoff\":15}}}},\"xaxis\":{\"anchor\":\"y\",\"domain\":[0.0,1.0],\"title\":{\"text\":\"Categoria\"}},\"yaxis\":{\"anchor\":\"x\",\"domain\":[0.0,1.0],\"title\":{\"text\":\"Estrelas\"}},\"coloraxis\":{\"colorbar\":{\"title\":{\"text\":\"color\"}},\"colorscale\":[[0.0,\"#440154\"],[0.1111111111111111,\"#482878\"],[0.2222222222222222,\"#3e4989\"],[0.3333333333333333,\"#31688e\"],[0.4444444444444444,\"#26828e\"],[0.5555555555555556,\"#1f9e89\"],[0.6666666666666666,\"#35b779\"],[0.7777777777777778,\"#6ece58\"],[0.8888888888888888,\"#b5de2b\"],[1.0,\"#fde725\"]]},\"legend\":{\"tracegroupgap\":0},\"title\":{\"text\":\"Livros bem avaliados por categoria\"},\"barmode\":\"relative\",\"height\":720,\"width\":1000},                        {\"responsive\": true}                    ).then(function(){\n",
       "                            \n",
       "var gd = document.getElementById('e0723e78-de13-4d2c-b661-0fb60214f90f');\n",
       "var x = new MutationObserver(function (mutations, observer) {{\n",
       "        var display = window.getComputedStyle(gd).display;\n",
       "        if (!display || display === 'none') {{\n",
       "            console.log([gd, 'removed!']);\n",
       "            Plotly.purge(gd);\n",
       "            observer.disconnect();\n",
       "        }}\n",
       "}});\n",
       "\n",
       "// Listen for the removal of the full notebook cells\n",
       "var notebookContainer = gd.closest('#notebook-container');\n",
       "if (notebookContainer) {{\n",
       "    x.observe(notebookContainer, {childList: true});\n",
       "}}\n",
       "\n",
       "// Listen for the clearing of the current output cell\n",
       "var outputEl = gd.closest('.output');\n",
       "if (outputEl) {{\n",
       "    x.observe(outputEl, {childList: true});\n",
       "}}\n",
       "\n",
       "                        })                };                });            </script>        </div>"
      ]
     },
     "metadata": {},
     "output_type": "display_data"
    }
   ],
   "source": [
    "# Gráfico 'Bar Chart'\n",
    "bar_chart = px.bar (\n",
    "\n",
    "    x = df['categorias'],\n",
    "    y = df['avaliacoes'],\n",
    "    orientation='v',                                 # 'v','h': orientação\n",
    "    barmode='relative' , \n",
    "    color = df['avaliacoes'], \n",
    "    opacity=0.9,# map your chosen colors\n",
    "    title='Livros bem avaliados por categoria',       #título do gráfico\n",
    "    width=1000,                                       # largura in pixels\n",
    "    height=720,                                       # altura em pixels\n",
    "    template='gridon',                                #template \n",
    "    labels={\"x\": 'Categoria',  #ajuste de legenda\n",
    "    \"y\":\"Estrelas\"},\n",
    ")\n",
    "\n",
    "bar_chart.show()"
   ]
  },
  {
   "attachments": {
    "graph_2.png": {
     "image/png": "[encoded data removed]"
    }
   },
   "cell_type": "markdown",
   "id": "601cb7af",
   "metadata": {},
   "source": [
    "![graph_2.png](attachment:graph_2.png)![graph_2.png](attachment:graph_2.png)"
   ]
  },
  {
   "cell_type": "code",
   "execution_count": 33,
   "id": "8dc64385",
   "metadata": {},
   "outputs": [],
   "source": [
    "#Retira colunas desnecessárias ao modelo preditivo \n",
    "dados.drop(['estocagem','precos'], axis=1, inplace=True)\n",
    "dados = dados.sort_values(by=['categorias']) #organizando pela coluna categorias"
   ]
  },
  {
   "cell_type": "code",
   "execution_count": 34,
   "id": "53d88f45",
   "metadata": {},
   "outputs": [
    {
     "data": {
      "text/html": [
       "<div>\n",
       "<style scoped>\n",
       "    .dataframe tbody tr th:only-of-type {\n",
       "        vertical-align: middle;\n",
       "    }\n",
       "\n",
       "    .dataframe tbody tr th {\n",
       "        vertical-align: top;\n",
       "    }\n",
       "\n",
       "    .dataframe thead th {\n",
       "        text-align: right;\n",
       "    }\n",
       "</style>\n",
       "<table border=\"1\" class=\"dataframe\">\n",
       "  <thead>\n",
       "    <tr style=\"text-align: right;\">\n",
       "      <th></th>\n",
       "      <th>titulos</th>\n",
       "      <th>categorias</th>\n",
       "      <th>avaliacoes</th>\n",
       "    </tr>\n",
       "  </thead>\n",
       "  <tbody>\n",
       "    <tr>\n",
       "      <th>0</th>\n",
       "      <td>Logan Kade (Fallen Crest High #5.5)</td>\n",
       "      <td>Academic</td>\n",
       "      <td>2</td>\n",
       "    </tr>\n",
       "    <tr>\n",
       "      <th>1</th>\n",
       "      <td>The Tipping Point: How Little Things Can Make ...</td>\n",
       "      <td>Add a comment</td>\n",
       "      <td>2</td>\n",
       "    </tr>\n",
       "    <tr>\n",
       "      <th>2</th>\n",
       "      <td>The Sense of an Ending</td>\n",
       "      <td>Add a comment</td>\n",
       "      <td>3</td>\n",
       "    </tr>\n",
       "    <tr>\n",
       "      <th>3</th>\n",
       "      <td>The Midnight Watch: A Novel of the Titanic and...</td>\n",
       "      <td>Add a comment</td>\n",
       "      <td>1</td>\n",
       "    </tr>\n",
       "    <tr>\n",
       "      <th>4</th>\n",
       "      <td>The Gray Rhino: How to Recognize and Act on th...</td>\n",
       "      <td>Add a comment</td>\n",
       "      <td>4</td>\n",
       "    </tr>\n",
       "    <tr>\n",
       "      <th>...</th>\n",
       "      <td>...</td>\n",
       "      <td>...</td>\n",
       "      <td>...</td>\n",
       "    </tr>\n",
       "    <tr>\n",
       "      <th>995</th>\n",
       "      <td>Golden (Heart of Dread #3)</td>\n",
       "      <td>Young Adult</td>\n",
       "      <td>4</td>\n",
       "    </tr>\n",
       "    <tr>\n",
       "      <th>996</th>\n",
       "      <td>Catching Jordan (Hundred Oaks)</td>\n",
       "      <td>Young Adult</td>\n",
       "      <td>3</td>\n",
       "    </tr>\n",
       "    <tr>\n",
       "      <th>997</th>\n",
       "      <td>The Art of Not Breathing</td>\n",
       "      <td>Young Adult</td>\n",
       "      <td>4</td>\n",
       "    </tr>\n",
       "    <tr>\n",
       "      <th>998</th>\n",
       "      <td>No Love Allowed (Dodge Cove #1)</td>\n",
       "      <td>Young Adult</td>\n",
       "      <td>4</td>\n",
       "    </tr>\n",
       "    <tr>\n",
       "      <th>999</th>\n",
       "      <td>South of Sunshine</td>\n",
       "      <td>Young Adult</td>\n",
       "      <td>1</td>\n",
       "    </tr>\n",
       "  </tbody>\n",
       "</table>\n",
       "<p>1000 rows × 3 columns</p>\n",
       "</div>"
      ],
      "text/plain": [
       "                                               titulos     categorias  \\\n",
       "0                  Logan Kade (Fallen Crest High #5.5)       Academic   \n",
       "1    The Tipping Point: How Little Things Can Make ...  Add a comment   \n",
       "2                               The Sense of an Ending  Add a comment   \n",
       "3    The Midnight Watch: A Novel of the Titanic and...  Add a comment   \n",
       "4    The Gray Rhino: How to Recognize and Act on th...  Add a comment   \n",
       "..                                                 ...            ...   \n",
       "995                         Golden (Heart of Dread #3)    Young Adult   \n",
       "996                     Catching Jordan (Hundred Oaks)    Young Adult   \n",
       "997                           The Art of Not Breathing    Young Adult   \n",
       "998                    No Love Allowed (Dodge Cove #1)    Young Adult   \n",
       "999                                  South of Sunshine    Young Adult   \n",
       "\n",
       "     avaliacoes  \n",
       "0             2  \n",
       "1             2  \n",
       "2             3  \n",
       "3             1  \n",
       "4             4  \n",
       "..          ...  \n",
       "995           4  \n",
       "996           3  \n",
       "997           4  \n",
       "998           4  \n",
       "999           1  \n",
       "\n",
       "[1000 rows x 3 columns]"
      ]
     },
     "metadata": {},
     "output_type": "display_data"
    }
   ],
   "source": [
    "dados = dados.reset_index(drop = True) #organizando a indexação\n",
    "display(dados)"
   ]
  },
  {
   "cell_type": "code",
   "execution_count": 35,
   "id": "c68200cc",
   "metadata": {},
   "outputs": [],
   "source": [
    "#Criação de um Sistema de Recomendação por Conteúdo\n",
    "\n",
    "#Problema - Construir o sistema com base na categoria de livros lidos anteriormente na Book Club\n",
    "\n",
    "#Bibliotecas skitlearn para análise preditiva de dados\n",
    "from sklearn.metrics.pairwise import cosine_similarity\n",
    "from sklearn.metrics import mean_squared_error\n",
    "from sklearn.model_selection import train_test_split\n",
    "from sklearn import preprocessing\n",
    "from sklearn.metrics.pairwise import linear_kernel\n",
    "from sklearn.feature_extraction.text import TfidfVectorizer"
   ]
  },
  {
   "cell_type": "code",
   "execution_count": 36,
   "id": "6f8839a3",
   "metadata": {},
   "outputs": [
    {
     "data": {
      "text/plain": [
       "(1000, 53)"
      ]
     },
     "execution_count": 36,
     "metadata": {},
     "output_type": "execute_result"
    }
   ],
   "source": [
    "#Utiliza-se TfidfVectorizer que converterá nossa 'visão geral' (uma coluna de texto) em numérica.\n",
    "tfidf = TfidfVectorizer()\n",
    "dados['categorias'] = dados['categorias'].fillna('')\n",
    "\n",
    "#Método 'fit' para construir a matriz necessária\n",
    "categorias_num = tfidf.fit_transform(dados['categorias'])\n",
    "categorias_num.shape"
   ]
  },
  {
   "cell_type": "code",
   "execution_count": 37,
   "id": "9787d6cb",
   "metadata": {},
   "outputs": [
    {
     "data": {
      "text/plain": [
       "array([[1., 0., 0., ..., 0., 0., 0.],\n",
       "       [0., 1., 1., ..., 0., 0., 0.],\n",
       "       [0., 1., 1., ..., 0., 0., 0.],\n",
       "       ...,\n",
       "       [0., 0., 0., ..., 1., 1., 1.],\n",
       "       [0., 0., 0., ..., 1., 1., 1.],\n",
       "       [0., 0., 0., ..., 1., 1., 1.]])"
      ]
     },
     "execution_count": 37,
     "metadata": {},
     "output_type": "execute_result"
    }
   ],
   "source": [
    "'''Agora para encontrar similaridade entre os livros usaremos o cosine_similarity(cosseno similaridade), \n",
    "#uma medida da similaridade entre 2 vetores. Esta medida é o cosseno do ângulo entre eles.'''\n",
    "\n",
    "similarity_matrix = linear_kernel(categorias_num,categorias_num)\n",
    "similarity_matrix"
   ]
  },
  {
   "cell_type": "code",
   "execution_count": 38,
   "id": "0848907c",
   "metadata": {},
   "outputs": [
    {
     "data": {
      "text/plain": [
       "titulos\n",
       "Logan Kade (Fallen Crest High #5.5)                                            0\n",
       "The Tipping Point: How Little Things Can Make a Big Difference                 1\n",
       "The Sense of an Ending                                                         2\n",
       "The Midnight Watch: A Novel of the Titanic and the Californian                 3\n",
       "The Gray Rhino: How to Recognize and Act on the Obvious Dangers We Ignore      4\n",
       "                                                                            ... \n",
       "Golden (Heart of Dread #3)                                                   995\n",
       "Catching Jordan (Hundred Oaks)                                               996\n",
       "The Art of Not Breathing                                                     997\n",
       "No Love Allowed (Dodge Cove #1)                                              998\n",
       "South of Sunshine                                                            999\n",
       "Length: 1000, dtype: int64"
      ]
     },
     "execution_count": 38,
     "metadata": {},
     "output_type": "execute_result"
    }
   ],
   "source": [
    "'''Cria-se uma série que mapeie o índice da matriz para os nomes dos livros,\n",
    "isso facilita a alimentação dos nomes dos livros e obtém a recomendação.'''\n",
    "\n",
    "mapping = pd.Series(dados.index,index = dados['titulos'])\n",
    "mapping"
   ]
  },
  {
   "cell_type": "code",
   "execution_count": 39,
   "id": "4c3fae71",
   "metadata": {},
   "outputs": [],
   "source": [
    "'''Agora se criará uma função de recomendação usando o cosine_similarity(cosseno similaridade),\n",
    "ela receberá o nome do livro e devolverá os 5 principais filmes recomendados'''\n",
    "\n",
    "def recommender_system_categorie(book_name):\n",
    "    dados_index = mapping[book_name]\n",
    "    \n",
    "    #similarity_score é a lista de index dos títulos e a lista das categoria\n",
    "    similarity_score = list(enumerate(similarity_matrix[dados_index]))\n",
    "\n",
    "    # 'sorted' classifica em ordem decrescente a pontuação de similaridade do livro inserido com todos os outros livros\n",
    "    similarity_score = sorted(similarity_score, key=lambda x: x[1], reverse=True)\n",
    "\n",
    "    # Obtém as pontuações dos 6 primeiros filmes mais semelhantes. Ignore o primeiro filme.\n",
    "\n",
    "    similarity_score = similarity_score[1:6]\n",
    "\n",
    "    # Retorna o nome do filme usando 'mapping series'\n",
    "\n",
    "    book_indice = [i[0] for i in similarity_score]\n",
    "\n",
    "    return(dados['titulos'].iloc[book_indice])\n",
    "\n",
    " "
   ]
  },
  {
   "cell_type": "code",
   "execution_count": 40,
   "id": "feb92ce4",
   "metadata": {},
   "outputs": [
    {
     "data": {
      "text/plain": [
       "78    Approval Junkie: Adventures in Caring Too Much\n",
       "79                                          Lab Girl\n",
       "80                             Life Without a Recipe\n",
       "81         A Heartbreaking Work of Staggering Genius\n",
       "82                                     The Argonauts\n",
       "Name: titulos, dtype: object"
      ]
     },
     "execution_count": 40,
     "metadata": {},
     "output_type": "execute_result"
    }
   ],
   "source": [
    "recommender_system_categorie('M Train')"
   ]
  },
  {
   "attachments": {
    "bookclub_recomendacao.png": {
     "image/png": "[encoded data removed]"
    }
   },
   "cell_type": "markdown",
   "id": "c009c98f",
   "metadata": {},
   "source": [
    "![bookclub_recomendacao.png](attachment:bookclub_recomendacao.png)"
   ]
  }
 ],
 "metadata": {
  "kernelspec": {
   "display_name": "Python 3 (ipykernel)",
   "language": "python",
   "name": "python3"
  },
  "language_info": {
   "codemirror_mode": {
    "name": "ipython",
    "version": 3
   },
   "file_extension": ".py",
   "mimetype": "text/x-python",
   "name": "python",
   "nbconvert_exporter": "python",
   "pygments_lexer": "ipython3",
   "version": "3.9.7"
  }
 },
 "nbformat": 4,
 "nbformat_minor": 5
}
