{
 "cells": [
  {
   "cell_type": "code",
   "execution_count": 157,
   "id": "61608faf",
   "metadata": {},
   "outputs": [],
   "source": [
    "#Importação de bibliotecas necessárias para análise dos dados\n",
    "import numpy as np\n",
    "import pandas as pd\n",
    "import plotly\n",
    "import plotly.express as px\n",
    "import plotly.io as pio\n",
    "import warnings\n",
    "warnings.filterwarnings(\"ignore\")\n"
   ]
  },
  {
   "cell_type": "code",
   "execution_count": 158,
   "id": "5059ddee",
   "metadata": {},
   "outputs": [],
   "source": [
    "#Importação de dados referentes aos livros\n",
    "dados = pd.read_csv(\"dados.csv\", sep = \",\", encoding = \"UTF-8\")\n"
   ]
  },
  {
   "cell_type": "code",
   "execution_count": 165,
   "id": "931df49d",
   "metadata": {},
   "outputs": [
    {
     "data": {
      "text/html": [
       "<div>\n",
       "<style scoped>\n",
       "    .dataframe tbody tr th:only-of-type {\n",
       "        vertical-align: middle;\n",
       "    }\n",
       "\n",
       "    .dataframe tbody tr th {\n",
       "        vertical-align: top;\n",
       "    }\n",
       "\n",
       "    .dataframe thead th {\n",
       "        text-align: right;\n",
       "    }\n",
       "</style>\n",
       "<table border=\"1\" class=\"dataframe\">\n",
       "  <thead>\n",
       "    <tr style=\"text-align: right;\">\n",
       "      <th></th>\n",
       "      <th>titulos</th>\n",
       "      <th>categorias</th>\n",
       "      <th>precos</th>\n",
       "      <th>avaliacoes</th>\n",
       "      <th>estocagem</th>\n",
       "    </tr>\n",
       "  </thead>\n",
       "  <tbody>\n",
       "    <tr>\n",
       "      <th>0</th>\n",
       "      <td>A Light in the Attic</td>\n",
       "      <td>Poetry</td>\n",
       "      <td>Â51.77</td>\n",
       "      <td>Three</td>\n",
       "      <td>22</td>\n",
       "    </tr>\n",
       "    <tr>\n",
       "      <th>1</th>\n",
       "      <td>Tipping the Velvet</td>\n",
       "      <td>Historical Fiction</td>\n",
       "      <td>Â53.74</td>\n",
       "      <td>One</td>\n",
       "      <td>20</td>\n",
       "    </tr>\n",
       "    <tr>\n",
       "      <th>2</th>\n",
       "      <td>Soumission</td>\n",
       "      <td>Fiction</td>\n",
       "      <td>Â50.10</td>\n",
       "      <td>One</td>\n",
       "      <td>20</td>\n",
       "    </tr>\n",
       "    <tr>\n",
       "      <th>3</th>\n",
       "      <td>Sharp Objects</td>\n",
       "      <td>Mystery</td>\n",
       "      <td>Â47.82</td>\n",
       "      <td>Four</td>\n",
       "      <td>20</td>\n",
       "    </tr>\n",
       "    <tr>\n",
       "      <th>4</th>\n",
       "      <td>Sapiens: A Brief History of Humankind</td>\n",
       "      <td>History</td>\n",
       "      <td>Â54.23</td>\n",
       "      <td>Five</td>\n",
       "      <td>20</td>\n",
       "    </tr>\n",
       "    <tr>\n",
       "      <th>...</th>\n",
       "      <td>...</td>\n",
       "      <td>...</td>\n",
       "      <td>...</td>\n",
       "      <td>...</td>\n",
       "      <td>...</td>\n",
       "    </tr>\n",
       "    <tr>\n",
       "      <th>995</th>\n",
       "      <td>Alice in Wonderland (Alice's Adventures in Won...</td>\n",
       "      <td>Classics</td>\n",
       "      <td>Â55.53</td>\n",
       "      <td>One</td>\n",
       "      <td>1</td>\n",
       "    </tr>\n",
       "    <tr>\n",
       "      <th>996</th>\n",
       "      <td>Ajin: Demi-Human, Volume 1 (Ajin: Demi-Human #1)</td>\n",
       "      <td>Sequential Art</td>\n",
       "      <td>Â57.06</td>\n",
       "      <td>Four</td>\n",
       "      <td>1</td>\n",
       "    </tr>\n",
       "    <tr>\n",
       "      <th>997</th>\n",
       "      <td>A Spy's Devotion (The Regency Spies of London #1)</td>\n",
       "      <td>Historical Fiction</td>\n",
       "      <td>Â16.97</td>\n",
       "      <td>Five</td>\n",
       "      <td>1</td>\n",
       "    </tr>\n",
       "    <tr>\n",
       "      <th>998</th>\n",
       "      <td>1st to Die (Women's Murder Club #1)</td>\n",
       "      <td>Mystery</td>\n",
       "      <td>Â53.98</td>\n",
       "      <td>One</td>\n",
       "      <td>1</td>\n",
       "    </tr>\n",
       "    <tr>\n",
       "      <th>999</th>\n",
       "      <td>1,000 Places to See Before You Die</td>\n",
       "      <td>Travel</td>\n",
       "      <td>Â26.08</td>\n",
       "      <td>Five</td>\n",
       "      <td>1</td>\n",
       "    </tr>\n",
       "  </tbody>\n",
       "</table>\n",
       "<p>1000 rows × 5 columns</p>\n",
       "</div>"
      ],
      "text/plain": [
       "                                               titulos          categorias  \\\n",
       "0                                 A Light in the Attic              Poetry   \n",
       "1                                   Tipping the Velvet  Historical Fiction   \n",
       "2                                           Soumission             Fiction   \n",
       "3                                        Sharp Objects             Mystery   \n",
       "4                Sapiens: A Brief History of Humankind             History   \n",
       "..                                                 ...                 ...   \n",
       "995  Alice in Wonderland (Alice's Adventures in Won...            Classics   \n",
       "996   Ajin: Demi-Human, Volume 1 (Ajin: Demi-Human #1)      Sequential Art   \n",
       "997  A Spy's Devotion (The Regency Spies of London #1)  Historical Fiction   \n",
       "998                1st to Die (Women's Murder Club #1)             Mystery   \n",
       "999                 1,000 Places to See Before You Die              Travel   \n",
       "\n",
       "     precos avaliacoes  estocagem  \n",
       "0    Â51.77      Three         22  \n",
       "1    Â53.74        One         20  \n",
       "2    Â50.10        One         20  \n",
       "3    Â47.82       Four         20  \n",
       "4    Â54.23       Five         20  \n",
       "..      ...        ...        ...  \n",
       "995  Â55.53        One          1  \n",
       "996  Â57.06       Four          1  \n",
       "997  Â16.97       Five          1  \n",
       "998  Â53.98        One          1  \n",
       "999  Â26.08       Five          1  \n",
       "\n",
       "[1000 rows x 5 columns]"
      ]
     },
     "execution_count": 165,
     "metadata": {},
     "output_type": "execute_result"
    }
   ],
   "source": [
    "#Renomeando colunas e visualizando os tipos dos dados\n",
    "#Alterando o cabeçalho das colunas, para simplificar manipulação\n",
    "dados = dados.rename(columns={'Títulos':'titulos','Categorias':'categorias','Preços(£)':'precos','Avaliações':'avaliacoes','Estocagem':'estocagem'})\n",
    "dados\n"
   ]
  },
  {
   "cell_type": "code",
   "execution_count": 160,
   "id": "426e7c00",
   "metadata": {},
   "outputs": [
    {
     "data": {
      "text/plain": [
       "count    1000.00000\n",
       "mean       35.07035\n",
       "std        14.44669\n",
       "min        10.00000\n",
       "25%        22.10750\n",
       "50%        35.98000\n",
       "75%        47.45750\n",
       "max        59.99000\n",
       "Name: precos, dtype: float64"
      ]
     },
     "execution_count": 160,
     "metadata": {},
     "output_type": "execute_result"
    }
   ],
   "source": [
    "#Tratamento dos dados referentes ao (preço dos livros) e as (avaliações dos livros)\n",
    "\n",
    "#Para os preços\n",
    "#Coluna de 'precos'\n",
    "df_precos = dados['precos']\n",
    "\n",
    "#Retirando caracteres especiais\n",
    "def corrigir_precos(preco):\n",
    "    preco = preco.replace('Â', '')\n",
    "    return preco\n",
    "df_precos = df_precos.apply(corrigir_precos)\n",
    "\n",
    "#Transformando os valores em variáveis do tipo float\n",
    "df_precos = df_precos.astype(float, errors = 'raise')\n",
    "#Avaliando preço médio, máximo e mínimo\n",
    "df_precos.describe()"
   ]
  },
  {
   "cell_type": "code",
   "execution_count": 167,
   "id": "069b56a0",
   "metadata": {},
   "outputs": [
    {
     "data": {
      "text/plain": [
       "1    226\n",
       "3    203\n",
       "5    196\n",
       "2    196\n",
       "4    179\n",
       "Name: avaliacoes, dtype: int64"
      ]
     },
     "execution_count": 167,
     "metadata": {},
     "output_type": "execute_result"
    }
   ],
   "source": [
    "#Tratamento dos dados referentes ao (preço dos livros) e as (avaliações dos livros)\n",
    "\n",
    "#Para as avaliações\n",
    "#Coluna de 'avaliacoes'\n",
    "df_estrelas = dados['avaliacoes']\n",
    "\n",
    "#Substituindo caracteres especiais\n",
    "def corrigir_estrelas(estrela):\n",
    "    estrela = estrela.replace('One','1')\n",
    "    estrela = estrela.replace('Two','2')\n",
    "    estrela = estrela.replace('Three','3')\n",
    "    estrela = estrela.replace('Four','4')\n",
    "    estrela = estrela.replace('Five','5')\n",
    "    return estrela\n",
    "df_estrelas = df_estrelas.apply(corrigir_estrelas)\n",
    "\n",
    "#Transformando os valores em variáveis do tipo int\n",
    "df_estrelas = df_estrelas.astype(int, errors = 'raise')\n",
    "\n",
    "#Avaliando frequência do número de estrelas\n",
    "df_estrelas.value_counts()\n"
   ]
  },
  {
   "cell_type": "code",
   "execution_count": 170,
   "id": "2fb72136",
   "metadata": {},
   "outputs": [
    {
     "ename": "TypeError",
     "evalue": "'int' object is not callable",
     "output_type": "error",
     "traceback": [
      "\u001b[1;31m---------------------------------------------------------------------------\u001b[0m",
      "\u001b[1;31mTypeError\u001b[0m                                 Traceback (most recent call last)",
      "\u001b[1;32mC:\\Users\\LAISME~1\\AppData\\Local\\Temp/ipykernel_6572/2655934757.py\u001b[0m in \u001b[0;36m<module>\u001b[1;34m\u001b[0m\n\u001b[0;32m      8\u001b[0m \u001b[0mdados\u001b[0m\u001b[1;33m[\u001b[0m\u001b[1;34m'avaliacoes'\u001b[0m\u001b[1;33m]\u001b[0m \u001b[1;33m=\u001b[0m \u001b[0mdf_estrelas\u001b[0m\u001b[1;33m\u001b[0m\u001b[1;33m\u001b[0m\u001b[0m\n\u001b[0;32m      9\u001b[0m \u001b[1;33m\u001b[0m\u001b[0m\n\u001b[1;32m---> 10\u001b[1;33m \u001b[0mdisplay\u001b[0m\u001b[1;33m(\u001b[0m\u001b[0mdados\u001b[0m\u001b[1;33m)\u001b[0m\u001b[1;33m\u001b[0m\u001b[1;33m\u001b[0m\u001b[0m\n\u001b[0m",
      "\u001b[1;31mTypeError\u001b[0m: 'int' object is not callable"
     ]
    }
   ],
   "source": [
    "#Reorganizando a tabela, agora com valores tratados\n",
    "\n",
    "#Retirar colunas 'precos' e 'avaliacoes', para posteriormente colocar dados tratados\n",
    "dados.drop(['precos','avaliacoes'], axis=1, inplace=True)\n",
    "\n",
    "#Crio as colunas novamente agora com 'df_precos' e 'df_estrelas' cujo os dados estão em float e inteiro\n",
    "dados['precos'] = df_precos\n",
    "dados['avaliacoes'] = df_estrelas\n",
    "\n",
    "display(dados)\n",
    "dados.info()"
   ]
  },
  {
   "cell_type": "code",
   "execution_count": 100,
   "id": "0f976ab8",
   "metadata": {},
   "outputs": [
    {
     "name": "stdout",
     "output_type": "stream",
     "text": [
      "35.07034999999999\n",
      "59.99\n",
      "10.0\n"
     ]
    }
   ],
   "source": [
    "#Análise gráfica dos preços dos livros(biblioteca plotly)\n",
    "\n",
    "#Visualizando valores para definir as faixas que serão usadas no gráfico\n",
    "print(df_precos.mean())\n",
    "print(df_precos.max())\n",
    "print(df_precos.min())"
   ]
  },
  {
   "cell_type": "code",
   "execution_count": 101,
   "id": "784279d1",
   "metadata": {
    "scrolled": true
   },
   "outputs": [
    {
     "data": {
      "text/html": [
       "<div>\n",
       "<style scoped>\n",
       "    .dataframe tbody tr th:only-of-type {\n",
       "        vertical-align: middle;\n",
       "    }\n",
       "\n",
       "    .dataframe tbody tr th {\n",
       "        vertical-align: top;\n",
       "    }\n",
       "\n",
       "    .dataframe thead th {\n",
       "        text-align: right;\n",
       "    }\n",
       "</style>\n",
       "<table border=\"1\" class=\"dataframe\">\n",
       "  <thead>\n",
       "    <tr style=\"text-align: right;\">\n",
       "      <th></th>\n",
       "      <th>precos</th>\n",
       "      <th>faixas</th>\n",
       "    </tr>\n",
       "  </thead>\n",
       "  <tbody>\n",
       "    <tr>\n",
       "      <th>0</th>\n",
       "      <td>51.77</td>\n",
       "      <td>Preços altos ( 45,00 - 59,99 £)</td>\n",
       "    </tr>\n",
       "    <tr>\n",
       "      <th>1</th>\n",
       "      <td>53.74</td>\n",
       "      <td>Preços altos ( 45,00 - 59,99 £)</td>\n",
       "    </tr>\n",
       "    <tr>\n",
       "      <th>2</th>\n",
       "      <td>50.10</td>\n",
       "      <td>Preços altos ( 45,00 - 59,99 £)</td>\n",
       "    </tr>\n",
       "    <tr>\n",
       "      <th>3</th>\n",
       "      <td>47.82</td>\n",
       "      <td>Preços altos ( 45,00 - 59,99 £)</td>\n",
       "    </tr>\n",
       "    <tr>\n",
       "      <th>4</th>\n",
       "      <td>54.23</td>\n",
       "      <td>Preços altos ( 45,00 - 59,99 £)</td>\n",
       "    </tr>\n",
       "    <tr>\n",
       "      <th>...</th>\n",
       "      <td>...</td>\n",
       "      <td>...</td>\n",
       "    </tr>\n",
       "    <tr>\n",
       "      <th>995</th>\n",
       "      <td>55.53</td>\n",
       "      <td>Preços altos ( 45,00 - 59,99 £)</td>\n",
       "    </tr>\n",
       "    <tr>\n",
       "      <th>996</th>\n",
       "      <td>57.06</td>\n",
       "      <td>Preços altos ( 45,00 - 59,99 £)</td>\n",
       "    </tr>\n",
       "    <tr>\n",
       "      <th>997</th>\n",
       "      <td>16.97</td>\n",
       "      <td>Preços baixos (10,00 - 24,99 £)</td>\n",
       "    </tr>\n",
       "    <tr>\n",
       "      <th>998</th>\n",
       "      <td>53.98</td>\n",
       "      <td>Preços altos ( 45,00 - 59,99 £)</td>\n",
       "    </tr>\n",
       "    <tr>\n",
       "      <th>999</th>\n",
       "      <td>26.08</td>\n",
       "      <td>Preços médios (25.00 - 44.99 £)</td>\n",
       "    </tr>\n",
       "  </tbody>\n",
       "</table>\n",
       "<p>1000 rows × 2 columns</p>\n",
       "</div>"
      ],
      "text/plain": [
       "     precos                           faixas\n",
       "0     51.77  Preços altos ( 45,00 - 59,99 £)\n",
       "1     53.74  Preços altos ( 45,00 - 59,99 £)\n",
       "2     50.10  Preços altos ( 45,00 - 59,99 £)\n",
       "3     47.82  Preços altos ( 45,00 - 59,99 £)\n",
       "4     54.23  Preços altos ( 45,00 - 59,99 £)\n",
       "..      ...                              ...\n",
       "995   55.53  Preços altos ( 45,00 - 59,99 £)\n",
       "996   57.06  Preços altos ( 45,00 - 59,99 £)\n",
       "997   16.97  Preços baixos (10,00 - 24,99 £)\n",
       "998   53.98  Preços altos ( 45,00 - 59,99 £)\n",
       "999   26.08  Preços médios (25.00 - 44.99 £)\n",
       "\n",
       "[1000 rows x 2 columns]"
      ]
     },
     "metadata": {},
     "output_type": "display_data"
    }
   ],
   "source": [
    "# mean = 35,00 pounds , max. = 59,99 pounds e min. = 10,00 pounds  \n",
    "\n",
    "#Faixas correspondentes:\n",
    "# 45,00 até 59,99 £ --> Preços altos (faixa 1)\n",
    "\n",
    "# 25,00 até 45,00 £ --> Preços médios (faixa 2)\n",
    "\n",
    "# 10,00 até 25,00 £ --> Preços baixos (faixa 3)\n",
    "\n",
    "#Criando a lista das faixas que serão usadas no gráfico pizza\n",
    "faixas = []\n",
    "for df in df_precos:\n",
    "    if (df  >= 45.00):\n",
    "        faixa1 = 'Preços altos ( 45,00 - 59,99 £)'\n",
    "        faixas.append(faixa1)\n",
    "        \n",
    "    if (df >= 25.00 ) and (df < 45.00):\n",
    "        faixa2 = 'Preços médios (25.00 - 44.99 £)'\n",
    "        faixas.append(faixa2)\n",
    "        \n",
    "    if (df >= df_precos.min()) and (df < 25.00):\n",
    "        faixa3 = 'Preços baixos (10,00 - 24,99 £)'\n",
    "        faixas.append(faixa3)\n",
    "\n",
    "#DataFrame para uso no gráfico\n",
    "valores = pd.DataFrame({'precos':df_precos,'faixas':faixas})\n",
    "display (valores) "
   ]
  },
  {
   "cell_type": "code",
   "execution_count": 102,
   "id": "f4facaaa",
   "metadata": {
    "scrolled": true
   },
   "outputs": [
    {
     "data": {
      "application/vnd.plotly.v1+json": {
       "config": {
        "plotlyServerURL": "https://plot.ly"
       },
       "data": [
        {
         "customdata": [
          [
           "Preços altos ( 45,00 - 59,99 £)"
          ],
          [
           "Preços altos ( 45,00 - 59,99 £)"
          ],
          [
           "Preços altos ( 45,00 - 59,99 £)"
          ],
          [
           "Preços altos ( 45,00 - 59,99 £)"
          ],
          [
           "Preços altos ( 45,00 - 59,99 £)"
          ],
          [
           "Preços baixos (10,00 - 24,99 £)"
          ],
          [
           "Preços médios (25.00 - 44.99 £)"
          ],
          [
           "Preços baixos (10,00 - 24,99 £)"
          ],
          [
           "Preços baixos (10,00 - 24,99 £)"
          ],
          [
           "Preços altos ( 45,00 - 59,99 £)"
          ],
          [
           "Preços baixos (10,00 - 24,99 £)"
          ],
          [
           "Preços baixos (10,00 - 24,99 £)"
          ],
          [
           "Preços baixos (10,00 - 24,99 £)"
          ],
          [
           "Preços altos ( 45,00 - 59,99 £)"
          ],
          [
           "Preços médios (25.00 - 44.99 £)"
          ],
          [
           "Preços altos ( 45,00 - 59,99 £)"
          ],
          [
           "Preços baixos (10,00 - 24,99 £)"
          ],
          [
           "Preços médios (25.00 - 44.99 £)"
          ],
          [
           "Preços altos ( 45,00 - 59,99 £)"
          ],
          [
           "Preços altos ( 45,00 - 59,99 £)"
          ],
          [
           "Preços baixos (10,00 - 24,99 £)"
          ],
          [
           "Preços médios (25.00 - 44.99 £)"
          ],
          [
           "Preços médios (25.00 - 44.99 £)"
          ],
          [
           "Preços médios (25.00 - 44.99 £)"
          ],
          [
           "Preços médios (25.00 - 44.99 £)"
          ],
          [
           "Preços altos ( 45,00 - 59,99 £)"
          ],
          [
           "Preços baixos (10,00 - 24,99 £)"
          ],
          [
           "Preços altos ( 45,00 - 59,99 £)"
          ],
          [
           "Preços médios (25.00 - 44.99 £)"
          ],
          [
           "Preços médios (25.00 - 44.99 £)"
          ],
          [
           "Preços baixos (10,00 - 24,99 £)"
          ],
          [
           "Preços médios (25.00 - 44.99 £)"
          ],
          [
           "Preços baixos (10,00 - 24,99 £)"
          ],
          [
           "Preços médios (25.00 - 44.99 £)"
          ],
          [
           "Preços baixos (10,00 - 24,99 £)"
          ],
          [
           "Preços médios (25.00 - 44.99 £)"
          ],
          [
           "Preços baixos (10,00 - 24,99 £)"
          ],
          [
           "Preços baixos (10,00 - 24,99 £)"
          ],
          [
           "Preços altos ( 45,00 - 59,99 £)"
          ],
          [
           "Preços médios (25.00 - 44.99 £)"
          ],
          [
           "Preços altos ( 45,00 - 59,99 £)"
          ],
          [
           "Preços médios (25.00 - 44.99 £)"
          ],
          [
           "Preços altos ( 45,00 - 59,99 £)"
          ],
          [
           "Preços baixos (10,00 - 24,99 £)"
          ],
          [
           "Preços altos ( 45,00 - 59,99 £)"
          ],
          [
           "Preços médios (25.00 - 44.99 £)"
          ],
          [
           "Preços altos ( 45,00 - 59,99 £)"
          ],
          [
           "Preços baixos (10,00 - 24,99 £)"
          ],
          [
           "Preços médios (25.00 - 44.99 £)"
          ],
          [
           "Preços baixos (10,00 - 24,99 £)"
          ],
          [
           "Preços médios (25.00 - 44.99 £)"
          ],
          [
           "Preços baixos (10,00 - 24,99 £)"
          ],
          [
           "Preços médios (25.00 - 44.99 £)"
          ],
          [
           "Preços baixos (10,00 - 24,99 £)"
          ],
          [
           "Preços baixos (10,00 - 24,99 £)"
          ],
          [
           "Preços baixos (10,00 - 24,99 £)"
          ],
          [
           "Preços altos ( 45,00 - 59,99 £)"
          ],
          [
           "Preços altos ( 45,00 - 59,99 £)"
          ],
          [
           "Preços altos ( 45,00 - 59,99 £)"
          ],
          [
           "Preços altos ( 45,00 - 59,99 £)"
          ],
          [
           "Preços médios (25.00 - 44.99 £)"
          ],
          [
           "Preços altos ( 45,00 - 59,99 £)"
          ],
          [
           "Preços médios (25.00 - 44.99 £)"
          ],
          [
           "Preços baixos (10,00 - 24,99 £)"
          ],
          [
           "Preços baixos (10,00 - 24,99 £)"
          ],
          [
           "Preços baixos (10,00 - 24,99 £)"
          ],
          [
           "Preços médios (25.00 - 44.99 £)"
          ],
          [
           "Preços altos ( 45,00 - 59,99 £)"
          ],
          [
           "Preços altos ( 45,00 - 59,99 £)"
          ],
          [
           "Preços altos ( 45,00 - 59,99 £)"
          ],
          [
           "Preços médios (25.00 - 44.99 £)"
          ],
          [
           "Preços baixos (10,00 - 24,99 £)"
          ],
          [
           "Preços médios (25.00 - 44.99 £)"
          ],
          [
           "Preços médios (25.00 - 44.99 £)"
          ],
          [
           "Preços médios (25.00 - 44.99 £)"
          ],
          [
           "Preços médios (25.00 - 44.99 £)"
          ],
          [
           "Preços médios (25.00 - 44.99 £)"
          ],
          [
           "Preços altos ( 45,00 - 59,99 £)"
          ],
          [
           "Preços baixos (10,00 - 24,99 £)"
          ],
          [
           "Preços altos ( 45,00 - 59,99 £)"
          ],
          [
           "Preços baixos (10,00 - 24,99 £)"
          ],
          [
           "Preços baixos (10,00 - 24,99 £)"
          ],
          [
           "Preços baixos (10,00 - 24,99 £)"
          ],
          [
           "Preços médios (25.00 - 44.99 £)"
          ],
          [
           "Preços baixos (10,00 - 24,99 £)"
          ],
          [
           "Preços baixos (10,00 - 24,99 £)"
          ],
          [
           "Preços altos ( 45,00 - 59,99 £)"
          ],
          [
           "Preços altos ( 45,00 - 59,99 £)"
          ],
          [
           "Preços baixos (10,00 - 24,99 £)"
          ],
          [
           "Preços baixos (10,00 - 24,99 £)"
          ],
          [
           "Preços médios (25.00 - 44.99 £)"
          ],
          [
           "Preços altos ( 45,00 - 59,99 £)"
          ],
          [
           "Preços baixos (10,00 - 24,99 £)"
          ],
          [
           "Preços altos ( 45,00 - 59,99 £)"
          ],
          [
           "Preços altos ( 45,00 - 59,99 £)"
          ],
          [
           "Preços baixos (10,00 - 24,99 £)"
          ],
          [
           "Preços médios (25.00 - 44.99 £)"
          ],
          [
           "Preços altos ( 45,00 - 59,99 £)"
          ],
          [
           "Preços médios (25.00 - 44.99 £)"
          ],
          [
           "Preços baixos (10,00 - 24,99 £)"
          ],
          [
           "Preços altos ( 45,00 - 59,99 £)"
          ],
          [
           "Preços médios (25.00 - 44.99 £)"
          ],
          [
           "Preços altos ( 45,00 - 59,99 £)"
          ],
          [
           "Preços altos ( 45,00 - 59,99 £)"
          ],
          [
           "Preços médios (25.00 - 44.99 £)"
          ],
          [
           "Preços baixos (10,00 - 24,99 £)"
          ],
          [
           "Preços médios (25.00 - 44.99 £)"
          ],
          [
           "Preços baixos (10,00 - 24,99 £)"
          ],
          [
           "Preços baixos (10,00 - 24,99 £)"
          ],
          [
           "Preços altos ( 45,00 - 59,99 £)"
          ],
          [
           "Preços médios (25.00 - 44.99 £)"
          ],
          [
           "Preços altos ( 45,00 - 59,99 £)"
          ],
          [
           "Preços médios (25.00 - 44.99 £)"
          ],
          [
           "Preços médios (25.00 - 44.99 £)"
          ],
          [
           "Preços baixos (10,00 - 24,99 £)"
          ],
          [
           "Preços médios (25.00 - 44.99 £)"
          ],
          [
           "Preços médios (25.00 - 44.99 £)"
          ],
          [
           "Preços altos ( 45,00 - 59,99 £)"
          ],
          [
           "Preços médios (25.00 - 44.99 £)"
          ],
          [
           "Preços médios (25.00 - 44.99 £)"
          ],
          [
           "Preços médios (25.00 - 44.99 £)"
          ],
          [
           "Preços médios (25.00 - 44.99 £)"
          ],
          [
           "Preços altos ( 45,00 - 59,99 £)"
          ],
          [
           "Preços baixos (10,00 - 24,99 £)"
          ],
          [
           "Preços altos ( 45,00 - 59,99 £)"
          ],
          [
           "Preços médios (25.00 - 44.99 £)"
          ],
          [
           "Preços altos ( 45,00 - 59,99 £)"
          ],
          [
           "Preços altos ( 45,00 - 59,99 £)"
          ],
          [
           "Preços baixos (10,00 - 24,99 £)"
          ],
          [
           "Preços médios (25.00 - 44.99 £)"
          ],
          [
           "Preços baixos (10,00 - 24,99 £)"
          ],
          [
           "Preços médios (25.00 - 44.99 £)"
          ],
          [
           "Preços médios (25.00 - 44.99 £)"
          ],
          [
           "Preços altos ( 45,00 - 59,99 £)"
          ],
          [
           "Preços altos ( 45,00 - 59,99 £)"
          ],
          [
           "Preços altos ( 45,00 - 59,99 £)"
          ],
          [
           "Preços baixos (10,00 - 24,99 £)"
          ],
          [
           "Preços médios (25.00 - 44.99 £)"
          ],
          [
           "Preços baixos (10,00 - 24,99 £)"
          ],
          [
           "Preços baixos (10,00 - 24,99 £)"
          ],
          [
           "Preços médios (25.00 - 44.99 £)"
          ],
          [
           "Preços médios (25.00 - 44.99 £)"
          ],
          [
           "Preços altos ( 45,00 - 59,99 £)"
          ],
          [
           "Preços médios (25.00 - 44.99 £)"
          ],
          [
           "Preços baixos (10,00 - 24,99 £)"
          ],
          [
           "Preços médios (25.00 - 44.99 £)"
          ],
          [
           "Preços médios (25.00 - 44.99 £)"
          ],
          [
           "Preços médios (25.00 - 44.99 £)"
          ],
          [
           "Preços médios (25.00 - 44.99 £)"
          ],
          [
           "Preços médios (25.00 - 44.99 £)"
          ],
          [
           "Preços altos ( 45,00 - 59,99 £)"
          ],
          [
           "Preços médios (25.00 - 44.99 £)"
          ],
          [
           "Preços baixos (10,00 - 24,99 £)"
          ],
          [
           "Preços médios (25.00 - 44.99 £)"
          ],
          [
           "Preços médios (25.00 - 44.99 £)"
          ],
          [
           "Preços médios (25.00 - 44.99 £)"
          ],
          [
           "Preços altos ( 45,00 - 59,99 £)"
          ],
          [
           "Preços baixos (10,00 - 24,99 £)"
          ],
          [
           "Preços baixos (10,00 - 24,99 £)"
          ],
          [
           "Preços médios (25.00 - 44.99 £)"
          ],
          [
           "Preços médios (25.00 - 44.99 £)"
          ],
          [
           "Preços médios (25.00 - 44.99 £)"
          ],
          [
           "Preços médios (25.00 - 44.99 £)"
          ],
          [
           "Preços baixos (10,00 - 24,99 £)"
          ],
          [
           "Preços médios (25.00 - 44.99 £)"
          ],
          [
           "Preços altos ( 45,00 - 59,99 £)"
          ],
          [
           "Preços baixos (10,00 - 24,99 £)"
          ],
          [
           "Preços médios (25.00 - 44.99 £)"
          ],
          [
           "Preços baixos (10,00 - 24,99 £)"
          ],
          [
           "Preços baixos (10,00 - 24,99 £)"
          ],
          [
           "Preços médios (25.00 - 44.99 £)"
          ],
          [
           "Preços baixos (10,00 - 24,99 £)"
          ],
          [
           "Preços médios (25.00 - 44.99 £)"
          ],
          [
           "Preços médios (25.00 - 44.99 £)"
          ],
          [
           "Preços baixos (10,00 - 24,99 £)"
          ],
          [
           "Preços médios (25.00 - 44.99 £)"
          ],
          [
           "Preços baixos (10,00 - 24,99 £)"
          ],
          [
           "Preços médios (25.00 - 44.99 £)"
          ],
          [
           "Preços médios (25.00 - 44.99 £)"
          ],
          [
           "Preços médios (25.00 - 44.99 £)"
          ],
          [
           "Preços médios (25.00 - 44.99 £)"
          ],
          [
           "Preços baixos (10,00 - 24,99 £)"
          ],
          [
           "Preços baixos (10,00 - 24,99 £)"
          ],
          [
           "Preços baixos (10,00 - 24,99 £)"
          ],
          [
           "Preços altos ( 45,00 - 59,99 £)"
          ],
          [
           "Preços baixos (10,00 - 24,99 £)"
          ],
          [
           "Preços altos ( 45,00 - 59,99 £)"
          ],
          [
           "Preços médios (25.00 - 44.99 £)"
          ],
          [
           "Preços baixos (10,00 - 24,99 £)"
          ],
          [
           "Preços altos ( 45,00 - 59,99 £)"
          ],
          [
           "Preços médios (25.00 - 44.99 £)"
          ],
          [
           "Preços baixos (10,00 - 24,99 £)"
          ],
          [
           "Preços médios (25.00 - 44.99 £)"
          ],
          [
           "Preços altos ( 45,00 - 59,99 £)"
          ],
          [
           "Preços médios (25.00 - 44.99 £)"
          ],
          [
           "Preços altos ( 45,00 - 59,99 £)"
          ],
          [
           "Preços médios (25.00 - 44.99 £)"
          ],
          [
           "Preços médios (25.00 - 44.99 £)"
          ],
          [
           "Preços médios (25.00 - 44.99 £)"
          ],
          [
           "Preços médios (25.00 - 44.99 £)"
          ],
          [
           "Preços baixos (10,00 - 24,99 £)"
          ],
          [
           "Preços baixos (10,00 - 24,99 £)"
          ],
          [
           "Preços altos ( 45,00 - 59,99 £)"
          ],
          [
           "Preços médios (25.00 - 44.99 £)"
          ],
          [
           "Preços médios (25.00 - 44.99 £)"
          ],
          [
           "Preços médios (25.00 - 44.99 £)"
          ],
          [
           "Preços baixos (10,00 - 24,99 £)"
          ],
          [
           "Preços médios (25.00 - 44.99 £)"
          ],
          [
           "Preços baixos (10,00 - 24,99 £)"
          ],
          [
           "Preços baixos (10,00 - 24,99 £)"
          ],
          [
           "Preços altos ( 45,00 - 59,99 £)"
          ],
          [
           "Preços baixos (10,00 - 24,99 £)"
          ],
          [
           "Preços médios (25.00 - 44.99 £)"
          ],
          [
           "Preços altos ( 45,00 - 59,99 £)"
          ],
          [
           "Preços baixos (10,00 - 24,99 £)"
          ],
          [
           "Preços baixos (10,00 - 24,99 £)"
          ],
          [
           "Preços médios (25.00 - 44.99 £)"
          ],
          [
           "Preços médios (25.00 - 44.99 £)"
          ],
          [
           "Preços baixos (10,00 - 24,99 £)"
          ],
          [
           "Preços altos ( 45,00 - 59,99 £)"
          ],
          [
           "Preços médios (25.00 - 44.99 £)"
          ],
          [
           "Preços baixos (10,00 - 24,99 £)"
          ],
          [
           "Preços altos ( 45,00 - 59,99 £)"
          ],
          [
           "Preços baixos (10,00 - 24,99 £)"
          ],
          [
           "Preços médios (25.00 - 44.99 £)"
          ],
          [
           "Preços altos ( 45,00 - 59,99 £)"
          ],
          [
           "Preços altos ( 45,00 - 59,99 £)"
          ],
          [
           "Preços baixos (10,00 - 24,99 £)"
          ],
          [
           "Preços médios (25.00 - 44.99 £)"
          ],
          [
           "Preços médios (25.00 - 44.99 £)"
          ],
          [
           "Preços médios (25.00 - 44.99 £)"
          ],
          [
           "Preços altos ( 45,00 - 59,99 £)"
          ],
          [
           "Preços médios (25.00 - 44.99 £)"
          ],
          [
           "Preços médios (25.00 - 44.99 £)"
          ],
          [
           "Preços médios (25.00 - 44.99 £)"
          ],
          [
           "Preços altos ( 45,00 - 59,99 £)"
          ],
          [
           "Preços altos ( 45,00 - 59,99 £)"
          ],
          [
           "Preços médios (25.00 - 44.99 £)"
          ],
          [
           "Preços médios (25.00 - 44.99 £)"
          ],
          [
           "Preços altos ( 45,00 - 59,99 £)"
          ],
          [
           "Preços baixos (10,00 - 24,99 £)"
          ],
          [
           "Preços médios (25.00 - 44.99 £)"
          ],
          [
           "Preços baixos (10,00 - 24,99 £)"
          ],
          [
           "Preços médios (25.00 - 44.99 £)"
          ],
          [
           "Preços baixos (10,00 - 24,99 £)"
          ],
          [
           "Preços baixos (10,00 - 24,99 £)"
          ],
          [
           "Preços altos ( 45,00 - 59,99 £)"
          ],
          [
           "Preços médios (25.00 - 44.99 £)"
          ],
          [
           "Preços altos ( 45,00 - 59,99 £)"
          ],
          [
           "Preços médios (25.00 - 44.99 £)"
          ],
          [
           "Preços baixos (10,00 - 24,99 £)"
          ],
          [
           "Preços médios (25.00 - 44.99 £)"
          ],
          [
           "Preços altos ( 45,00 - 59,99 £)"
          ],
          [
           "Preços médios (25.00 - 44.99 £)"
          ],
          [
           "Preços médios (25.00 - 44.99 £)"
          ],
          [
           "Preços baixos (10,00 - 24,99 £)"
          ],
          [
           "Preços médios (25.00 - 44.99 £)"
          ],
          [
           "Preços baixos (10,00 - 24,99 £)"
          ],
          [
           "Preços baixos (10,00 - 24,99 £)"
          ],
          [
           "Preços altos ( 45,00 - 59,99 £)"
          ],
          [
           "Preços altos ( 45,00 - 59,99 £)"
          ],
          [
           "Preços baixos (10,00 - 24,99 £)"
          ],
          [
           "Preços médios (25.00 - 44.99 £)"
          ],
          [
           "Preços médios (25.00 - 44.99 £)"
          ],
          [
           "Preços médios (25.00 - 44.99 £)"
          ],
          [
           "Preços altos ( 45,00 - 59,99 £)"
          ],
          [
           "Preços médios (25.00 - 44.99 £)"
          ],
          [
           "Preços altos ( 45,00 - 59,99 £)"
          ],
          [
           "Preços altos ( 45,00 - 59,99 £)"
          ],
          [
           "Preços altos ( 45,00 - 59,99 £)"
          ],
          [
           "Preços altos ( 45,00 - 59,99 £)"
          ],
          [
           "Preços médios (25.00 - 44.99 £)"
          ],
          [
           "Preços baixos (10,00 - 24,99 £)"
          ],
          [
           "Preços altos ( 45,00 - 59,99 £)"
          ],
          [
           "Preços baixos (10,00 - 24,99 £)"
          ],
          [
           "Preços altos ( 45,00 - 59,99 £)"
          ],
          [
           "Preços baixos (10,00 - 24,99 £)"
          ],
          [
           "Preços baixos (10,00 - 24,99 £)"
          ],
          [
           "Preços baixos (10,00 - 24,99 £)"
          ],
          [
           "Preços médios (25.00 - 44.99 £)"
          ],
          [
           "Preços médios (25.00 - 44.99 £)"
          ],
          [
           "Preços baixos (10,00 - 24,99 £)"
          ],
          [
           "Preços médios (25.00 - 44.99 £)"
          ],
          [
           "Preços médios (25.00 - 44.99 £)"
          ],
          [
           "Preços médios (25.00 - 44.99 £)"
          ],
          [
           "Preços médios (25.00 - 44.99 £)"
          ],
          [
           "Preços altos ( 45,00 - 59,99 £)"
          ],
          [
           "Preços altos ( 45,00 - 59,99 £)"
          ],
          [
           "Preços altos ( 45,00 - 59,99 £)"
          ],
          [
           "Preços baixos (10,00 - 24,99 £)"
          ],
          [
           "Preços médios (25.00 - 44.99 £)"
          ],
          [
           "Preços altos ( 45,00 - 59,99 £)"
          ],
          [
           "Preços médios (25.00 - 44.99 £)"
          ],
          [
           "Preços baixos (10,00 - 24,99 £)"
          ],
          [
           "Preços baixos (10,00 - 24,99 £)"
          ],
          [
           "Preços médios (25.00 - 44.99 £)"
          ],
          [
           "Preços médios (25.00 - 44.99 £)"
          ],
          [
           "Preços baixos (10,00 - 24,99 £)"
          ],
          [
           "Preços baixos (10,00 - 24,99 £)"
          ],
          [
           "Preços altos ( 45,00 - 59,99 £)"
          ],
          [
           "Preços médios (25.00 - 44.99 £)"
          ],
          [
           "Preços altos ( 45,00 - 59,99 £)"
          ],
          [
           "Preços baixos (10,00 - 24,99 £)"
          ],
          [
           "Preços médios (25.00 - 44.99 £)"
          ],
          [
           "Preços altos ( 45,00 - 59,99 £)"
          ],
          [
           "Preços altos ( 45,00 - 59,99 £)"
          ],
          [
           "Preços baixos (10,00 - 24,99 £)"
          ],
          [
           "Preços altos ( 45,00 - 59,99 £)"
          ],
          [
           "Preços médios (25.00 - 44.99 £)"
          ],
          [
           "Preços altos ( 45,00 - 59,99 £)"
          ],
          [
           "Preços baixos (10,00 - 24,99 £)"
          ],
          [
           "Preços altos ( 45,00 - 59,99 £)"
          ],
          [
           "Preços altos ( 45,00 - 59,99 £)"
          ],
          [
           "Preços altos ( 45,00 - 59,99 £)"
          ],
          [
           "Preços médios (25.00 - 44.99 £)"
          ],
          [
           "Preços médios (25.00 - 44.99 £)"
          ],
          [
           "Preços baixos (10,00 - 24,99 £)"
          ],
          [
           "Preços médios (25.00 - 44.99 £)"
          ],
          [
           "Preços altos ( 45,00 - 59,99 £)"
          ],
          [
           "Preços médios (25.00 - 44.99 £)"
          ],
          [
           "Preços baixos (10,00 - 24,99 £)"
          ],
          [
           "Preços médios (25.00 - 44.99 £)"
          ],
          [
           "Preços altos ( 45,00 - 59,99 £)"
          ],
          [
           "Preços baixos (10,00 - 24,99 £)"
          ],
          [
           "Preços médios (25.00 - 44.99 £)"
          ],
          [
           "Preços altos ( 45,00 - 59,99 £)"
          ],
          [
           "Preços baixos (10,00 - 24,99 £)"
          ],
          [
           "Preços altos ( 45,00 - 59,99 £)"
          ],
          [
           "Preços médios (25.00 - 44.99 £)"
          ],
          [
           "Preços altos ( 45,00 - 59,99 £)"
          ],
          [
           "Preços médios (25.00 - 44.99 £)"
          ],
          [
           "Preços altos ( 45,00 - 59,99 £)"
          ],
          [
           "Preços médios (25.00 - 44.99 £)"
          ],
          [
           "Preços médios (25.00 - 44.99 £)"
          ],
          [
           "Preços altos ( 45,00 - 59,99 £)"
          ],
          [
           "Preços baixos (10,00 - 24,99 £)"
          ],
          [
           "Preços altos ( 45,00 - 59,99 £)"
          ],
          [
           "Preços altos ( 45,00 - 59,99 £)"
          ],
          [
           "Preços médios (25.00 - 44.99 £)"
          ],
          [
           "Preços altos ( 45,00 - 59,99 £)"
          ],
          [
           "Preços médios (25.00 - 44.99 £)"
          ],
          [
           "Preços baixos (10,00 - 24,99 £)"
          ],
          [
           "Preços altos ( 45,00 - 59,99 £)"
          ],
          [
           "Preços altos ( 45,00 - 59,99 £)"
          ],
          [
           "Preços baixos (10,00 - 24,99 £)"
          ],
          [
           "Preços altos ( 45,00 - 59,99 £)"
          ],
          [
           "Preços médios (25.00 - 44.99 £)"
          ],
          [
           "Preços médios (25.00 - 44.99 £)"
          ],
          [
           "Preços baixos (10,00 - 24,99 £)"
          ],
          [
           "Preços altos ( 45,00 - 59,99 £)"
          ],
          [
           "Preços baixos (10,00 - 24,99 £)"
          ],
          [
           "Preços baixos (10,00 - 24,99 £)"
          ],
          [
           "Preços médios (25.00 - 44.99 £)"
          ],
          [
           "Preços médios (25.00 - 44.99 £)"
          ],
          [
           "Preços baixos (10,00 - 24,99 £)"
          ],
          [
           "Preços médios (25.00 - 44.99 £)"
          ],
          [
           "Preços baixos (10,00 - 24,99 £)"
          ],
          [
           "Preços médios (25.00 - 44.99 £)"
          ],
          [
           "Preços médios (25.00 - 44.99 £)"
          ],
          [
           "Preços altos ( 45,00 - 59,99 £)"
          ],
          [
           "Preços médios (25.00 - 44.99 £)"
          ],
          [
           "Preços médios (25.00 - 44.99 £)"
          ],
          [
           "Preços altos ( 45,00 - 59,99 £)"
          ],
          [
           "Preços médios (25.00 - 44.99 £)"
          ],
          [
           "Preços baixos (10,00 - 24,99 £)"
          ],
          [
           "Preços altos ( 45,00 - 59,99 £)"
          ],
          [
           "Preços altos ( 45,00 - 59,99 £)"
          ],
          [
           "Preços baixos (10,00 - 24,99 £)"
          ],
          [
           "Preços altos ( 45,00 - 59,99 £)"
          ],
          [
           "Preços baixos (10,00 - 24,99 £)"
          ],
          [
           "Preços altos ( 45,00 - 59,99 £)"
          ],
          [
           "Preços médios (25.00 - 44.99 £)"
          ],
          [
           "Preços médios (25.00 - 44.99 £)"
          ],
          [
           "Preços médios (25.00 - 44.99 £)"
          ],
          [
           "Preços baixos (10,00 - 24,99 £)"
          ],
          [
           "Preços altos ( 45,00 - 59,99 £)"
          ],
          [
           "Preços altos ( 45,00 - 59,99 £)"
          ],
          [
           "Preços médios (25.00 - 44.99 £)"
          ],
          [
           "Preços baixos (10,00 - 24,99 £)"
          ],
          [
           "Preços altos ( 45,00 - 59,99 £)"
          ],
          [
           "Preços baixos (10,00 - 24,99 £)"
          ],
          [
           "Preços médios (25.00 - 44.99 £)"
          ],
          [
           "Preços baixos (10,00 - 24,99 £)"
          ],
          [
           "Preços altos ( 45,00 - 59,99 £)"
          ],
          [
           "Preços altos ( 45,00 - 59,99 £)"
          ],
          [
           "Preços médios (25.00 - 44.99 £)"
          ],
          [
           "Preços altos ( 45,00 - 59,99 £)"
          ],
          [
           "Preços altos ( 45,00 - 59,99 £)"
          ],
          [
           "Preços médios (25.00 - 44.99 £)"
          ],
          [
           "Preços médios (25.00 - 44.99 £)"
          ],
          [
           "Preços altos ( 45,00 - 59,99 £)"
          ],
          [
           "Preços médios (25.00 - 44.99 £)"
          ],
          [
           "Preços baixos (10,00 - 24,99 £)"
          ],
          [
           "Preços altos ( 45,00 - 59,99 £)"
          ],
          [
           "Preços baixos (10,00 - 24,99 £)"
          ],
          [
           "Preços altos ( 45,00 - 59,99 £)"
          ],
          [
           "Preços altos ( 45,00 - 59,99 £)"
          ],
          [
           "Preços baixos (10,00 - 24,99 £)"
          ],
          [
           "Preços baixos (10,00 - 24,99 £)"
          ],
          [
           "Preços altos ( 45,00 - 59,99 £)"
          ],
          [
           "Preços baixos (10,00 - 24,99 £)"
          ],
          [
           "Preços baixos (10,00 - 24,99 £)"
          ],
          [
           "Preços médios (25.00 - 44.99 £)"
          ],
          [
           "Preços baixos (10,00 - 24,99 £)"
          ],
          [
           "Preços altos ( 45,00 - 59,99 £)"
          ],
          [
           "Preços médios (25.00 - 44.99 £)"
          ],
          [
           "Preços baixos (10,00 - 24,99 £)"
          ],
          [
           "Preços altos ( 45,00 - 59,99 £)"
          ],
          [
           "Preços altos ( 45,00 - 59,99 £)"
          ],
          [
           "Preços altos ( 45,00 - 59,99 £)"
          ],
          [
           "Preços baixos (10,00 - 24,99 £)"
          ],
          [
           "Preços baixos (10,00 - 24,99 £)"
          ],
          [
           "Preços baixos (10,00 - 24,99 £)"
          ],
          [
           "Preços baixos (10,00 - 24,99 £)"
          ],
          [
           "Preços baixos (10,00 - 24,99 £)"
          ],
          [
           "Preços baixos (10,00 - 24,99 £)"
          ],
          [
           "Preços baixos (10,00 - 24,99 £)"
          ],
          [
           "Preços altos ( 45,00 - 59,99 £)"
          ],
          [
           "Preços baixos (10,00 - 24,99 £)"
          ],
          [
           "Preços altos ( 45,00 - 59,99 £)"
          ],
          [
           "Preços altos ( 45,00 - 59,99 £)"
          ],
          [
           "Preços altos ( 45,00 - 59,99 £)"
          ],
          [
           "Preços altos ( 45,00 - 59,99 £)"
          ],
          [
           "Preços baixos (10,00 - 24,99 £)"
          ],
          [
           "Preços médios (25.00 - 44.99 £)"
          ],
          [
           "Preços médios (25.00 - 44.99 £)"
          ],
          [
           "Preços baixos (10,00 - 24,99 £)"
          ],
          [
           "Preços baixos (10,00 - 24,99 £)"
          ],
          [
           "Preços altos ( 45,00 - 59,99 £)"
          ],
          [
           "Preços baixos (10,00 - 24,99 £)"
          ],
          [
           "Preços altos ( 45,00 - 59,99 £)"
          ],
          [
           "Preços altos ( 45,00 - 59,99 £)"
          ],
          [
           "Preços altos ( 45,00 - 59,99 £)"
          ],
          [
           "Preços médios (25.00 - 44.99 £)"
          ],
          [
           "Preços baixos (10,00 - 24,99 £)"
          ],
          [
           "Preços altos ( 45,00 - 59,99 £)"
          ],
          [
           "Preços baixos (10,00 - 24,99 £)"
          ],
          [
           "Preços médios (25.00 - 44.99 £)"
          ],
          [
           "Preços médios (25.00 - 44.99 £)"
          ],
          [
           "Preços médios (25.00 - 44.99 £)"
          ],
          [
           "Preços médios (25.00 - 44.99 £)"
          ],
          [
           "Preços altos ( 45,00 - 59,99 £)"
          ],
          [
           "Preços altos ( 45,00 - 59,99 £)"
          ],
          [
           "Preços altos ( 45,00 - 59,99 £)"
          ],
          [
           "Preços médios (25.00 - 44.99 £)"
          ],
          [
           "Preços médios (25.00 - 44.99 £)"
          ],
          [
           "Preços baixos (10,00 - 24,99 £)"
          ],
          [
           "Preços médios (25.00 - 44.99 £)"
          ],
          [
           "Preços médios (25.00 - 44.99 £)"
          ],
          [
           "Preços médios (25.00 - 44.99 £)"
          ],
          [
           "Preços médios (25.00 - 44.99 £)"
          ],
          [
           "Preços médios (25.00 - 44.99 £)"
          ],
          [
           "Preços médios (25.00 - 44.99 £)"
          ],
          [
           "Preços altos ( 45,00 - 59,99 £)"
          ],
          [
           "Preços médios (25.00 - 44.99 £)"
          ],
          [
           "Preços médios (25.00 - 44.99 £)"
          ],
          [
           "Preços médios (25.00 - 44.99 £)"
          ],
          [
           "Preços médios (25.00 - 44.99 £)"
          ],
          [
           "Preços altos ( 45,00 - 59,99 £)"
          ],
          [
           "Preços médios (25.00 - 44.99 £)"
          ],
          [
           "Preços baixos (10,00 - 24,99 £)"
          ],
          [
           "Preços baixos (10,00 - 24,99 £)"
          ],
          [
           "Preços altos ( 45,00 - 59,99 £)"
          ],
          [
           "Preços médios (25.00 - 44.99 £)"
          ],
          [
           "Preços altos ( 45,00 - 59,99 £)"
          ],
          [
           "Preços médios (25.00 - 44.99 £)"
          ],
          [
           "Preços altos ( 45,00 - 59,99 £)"
          ],
          [
           "Preços médios (25.00 - 44.99 £)"
          ],
          [
           "Preços médios (25.00 - 44.99 £)"
          ],
          [
           "Preços baixos (10,00 - 24,99 £)"
          ],
          [
           "Preços médios (25.00 - 44.99 £)"
          ],
          [
           "Preços médios (25.00 - 44.99 £)"
          ],
          [
           "Preços altos ( 45,00 - 59,99 £)"
          ],
          [
           "Preços altos ( 45,00 - 59,99 £)"
          ],
          [
           "Preços baixos (10,00 - 24,99 £)"
          ],
          [
           "Preços altos ( 45,00 - 59,99 £)"
          ],
          [
           "Preços médios (25.00 - 44.99 £)"
          ],
          [
           "Preços baixos (10,00 - 24,99 £)"
          ],
          [
           "Preços médios (25.00 - 44.99 £)"
          ],
          [
           "Preços baixos (10,00 - 24,99 £)"
          ],
          [
           "Preços altos ( 45,00 - 59,99 £)"
          ],
          [
           "Preços altos ( 45,00 - 59,99 £)"
          ],
          [
           "Preços médios (25.00 - 44.99 £)"
          ],
          [
           "Preços médios (25.00 - 44.99 £)"
          ],
          [
           "Preços médios (25.00 - 44.99 £)"
          ],
          [
           "Preços baixos (10,00 - 24,99 £)"
          ],
          [
           "Preços baixos (10,00 - 24,99 £)"
          ],
          [
           "Preços altos ( 45,00 - 59,99 £)"
          ],
          [
           "Preços altos ( 45,00 - 59,99 £)"
          ],
          [
           "Preços baixos (10,00 - 24,99 £)"
          ],
          [
           "Preços altos ( 45,00 - 59,99 £)"
          ],
          [
           "Preços médios (25.00 - 44.99 £)"
          ],
          [
           "Preços baixos (10,00 - 24,99 £)"
          ],
          [
           "Preços baixos (10,00 - 24,99 £)"
          ],
          [
           "Preços médios (25.00 - 44.99 £)"
          ],
          [
           "Preços altos ( 45,00 - 59,99 £)"
          ],
          [
           "Preços médios (25.00 - 44.99 £)"
          ],
          [
           "Preços médios (25.00 - 44.99 £)"
          ],
          [
           "Preços médios (25.00 - 44.99 £)"
          ],
          [
           "Preços médios (25.00 - 44.99 £)"
          ],
          [
           "Preços médios (25.00 - 44.99 £)"
          ],
          [
           "Preços baixos (10,00 - 24,99 £)"
          ],
          [
           "Preços médios (25.00 - 44.99 £)"
          ],
          [
           "Preços altos ( 45,00 - 59,99 £)"
          ],
          [
           "Preços baixos (10,00 - 24,99 £)"
          ],
          [
           "Preços médios (25.00 - 44.99 £)"
          ],
          [
           "Preços médios (25.00 - 44.99 £)"
          ],
          [
           "Preços baixos (10,00 - 24,99 £)"
          ],
          [
           "Preços médios (25.00 - 44.99 £)"
          ],
          [
           "Preços altos ( 45,00 - 59,99 £)"
          ],
          [
           "Preços médios (25.00 - 44.99 £)"
          ],
          [
           "Preços médios (25.00 - 44.99 £)"
          ],
          [
           "Preços baixos (10,00 - 24,99 £)"
          ],
          [
           "Preços baixos (10,00 - 24,99 £)"
          ],
          [
           "Preços baixos (10,00 - 24,99 £)"
          ],
          [
           "Preços médios (25.00 - 44.99 £)"
          ],
          [
           "Preços altos ( 45,00 - 59,99 £)"
          ],
          [
           "Preços altos ( 45,00 - 59,99 £)"
          ],
          [
           "Preços médios (25.00 - 44.99 £)"
          ],
          [
           "Preços médios (25.00 - 44.99 £)"
          ],
          [
           "Preços altos ( 45,00 - 59,99 £)"
          ],
          [
           "Preços baixos (10,00 - 24,99 £)"
          ],
          [
           "Preços médios (25.00 - 44.99 £)"
          ],
          [
           "Preços altos ( 45,00 - 59,99 £)"
          ],
          [
           "Preços médios (25.00 - 44.99 £)"
          ],
          [
           "Preços baixos (10,00 - 24,99 £)"
          ],
          [
           "Preços altos ( 45,00 - 59,99 £)"
          ],
          [
           "Preços médios (25.00 - 44.99 £)"
          ],
          [
           "Preços altos ( 45,00 - 59,99 £)"
          ],
          [
           "Preços altos ( 45,00 - 59,99 £)"
          ],
          [
           "Preços médios (25.00 - 44.99 £)"
          ],
          [
           "Preços médios (25.00 - 44.99 £)"
          ],
          [
           "Preços baixos (10,00 - 24,99 £)"
          ],
          [
           "Preços altos ( 45,00 - 59,99 £)"
          ],
          [
           "Preços altos ( 45,00 - 59,99 £)"
          ],
          [
           "Preços baixos (10,00 - 24,99 £)"
          ],
          [
           "Preços baixos (10,00 - 24,99 £)"
          ],
          [
           "Preços baixos (10,00 - 24,99 £)"
          ],
          [
           "Preços altos ( 45,00 - 59,99 £)"
          ],
          [
           "Preços médios (25.00 - 44.99 £)"
          ],
          [
           "Preços altos ( 45,00 - 59,99 £)"
          ],
          [
           "Preços médios (25.00 - 44.99 £)"
          ],
          [
           "Preços médios (25.00 - 44.99 £)"
          ],
          [
           "Preços altos ( 45,00 - 59,99 £)"
          ],
          [
           "Preços médios (25.00 - 44.99 £)"
          ],
          [
           "Preços altos ( 45,00 - 59,99 £)"
          ],
          [
           "Preços médios (25.00 - 44.99 £)"
          ],
          [
           "Preços altos ( 45,00 - 59,99 £)"
          ],
          [
           "Preços baixos (10,00 - 24,99 £)"
          ],
          [
           "Preços altos ( 45,00 - 59,99 £)"
          ],
          [
           "Preços médios (25.00 - 44.99 £)"
          ],
          [
           "Preços médios (25.00 - 44.99 £)"
          ],
          [
           "Preços médios (25.00 - 44.99 £)"
          ],
          [
           "Preços baixos (10,00 - 24,99 £)"
          ],
          [
           "Preços médios (25.00 - 44.99 £)"
          ],
          [
           "Preços baixos (10,00 - 24,99 £)"
          ],
          [
           "Preços altos ( 45,00 - 59,99 £)"
          ],
          [
           "Preços baixos (10,00 - 24,99 £)"
          ],
          [
           "Preços baixos (10,00 - 24,99 £)"
          ],
          [
           "Preços baixos (10,00 - 24,99 £)"
          ],
          [
           "Preços altos ( 45,00 - 59,99 £)"
          ],
          [
           "Preços altos ( 45,00 - 59,99 £)"
          ],
          [
           "Preços médios (25.00 - 44.99 £)"
          ],
          [
           "Preços baixos (10,00 - 24,99 £)"
          ],
          [
           "Preços altos ( 45,00 - 59,99 £)"
          ],
          [
           "Preços altos ( 45,00 - 59,99 £)"
          ],
          [
           "Preços baixos (10,00 - 24,99 £)"
          ],
          [
           "Preços médios (25.00 - 44.99 £)"
          ],
          [
           "Preços altos ( 45,00 - 59,99 £)"
          ],
          [
           "Preços altos ( 45,00 - 59,99 £)"
          ],
          [
           "Preços baixos (10,00 - 24,99 £)"
          ],
          [
           "Preços médios (25.00 - 44.99 £)"
          ],
          [
           "Preços altos ( 45,00 - 59,99 £)"
          ],
          [
           "Preços baixos (10,00 - 24,99 £)"
          ],
          [
           "Preços médios (25.00 - 44.99 £)"
          ],
          [
           "Preços médios (25.00 - 44.99 £)"
          ],
          [
           "Preços altos ( 45,00 - 59,99 £)"
          ],
          [
           "Preços médios (25.00 - 44.99 £)"
          ],
          [
           "Preços baixos (10,00 - 24,99 £)"
          ],
          [
           "Preços altos ( 45,00 - 59,99 £)"
          ],
          [
           "Preços médios (25.00 - 44.99 £)"
          ],
          [
           "Preços altos ( 45,00 - 59,99 £)"
          ],
          [
           "Preços altos ( 45,00 - 59,99 £)"
          ],
          [
           "Preços médios (25.00 - 44.99 £)"
          ],
          [
           "Preços altos ( 45,00 - 59,99 £)"
          ],
          [
           "Preços baixos (10,00 - 24,99 £)"
          ],
          [
           "Preços médios (25.00 - 44.99 £)"
          ],
          [
           "Preços baixos (10,00 - 24,99 £)"
          ],
          [
           "Preços médios (25.00 - 44.99 £)"
          ],
          [
           "Preços altos ( 45,00 - 59,99 £)"
          ],
          [
           "Preços baixos (10,00 - 24,99 £)"
          ],
          [
           "Preços médios (25.00 - 44.99 £)"
          ],
          [
           "Preços médios (25.00 - 44.99 £)"
          ],
          [
           "Preços baixos (10,00 - 24,99 £)"
          ],
          [
           "Preços altos ( 45,00 - 59,99 £)"
          ],
          [
           "Preços baixos (10,00 - 24,99 £)"
          ],
          [
           "Preços altos ( 45,00 - 59,99 £)"
          ],
          [
           "Preços altos ( 45,00 - 59,99 £)"
          ],
          [
           "Preços altos ( 45,00 - 59,99 £)"
          ],
          [
           "Preços médios (25.00 - 44.99 £)"
          ],
          [
           "Preços médios (25.00 - 44.99 £)"
          ],
          [
           "Preços baixos (10,00 - 24,99 £)"
          ],
          [
           "Preços médios (25.00 - 44.99 £)"
          ],
          [
           "Preços baixos (10,00 - 24,99 £)"
          ],
          [
           "Preços altos ( 45,00 - 59,99 £)"
          ],
          [
           "Preços médios (25.00 - 44.99 £)"
          ],
          [
           "Preços médios (25.00 - 44.99 £)"
          ],
          [
           "Preços médios (25.00 - 44.99 £)"
          ],
          [
           "Preços baixos (10,00 - 24,99 £)"
          ],
          [
           "Preços baixos (10,00 - 24,99 £)"
          ],
          [
           "Preços baixos (10,00 - 24,99 £)"
          ],
          [
           "Preços baixos (10,00 - 24,99 £)"
          ],
          [
           "Preços médios (25.00 - 44.99 £)"
          ],
          [
           "Preços baixos (10,00 - 24,99 £)"
          ],
          [
           "Preços baixos (10,00 - 24,99 £)"
          ],
          [
           "Preços baixos (10,00 - 24,99 £)"
          ],
          [
           "Preços baixos (10,00 - 24,99 £)"
          ],
          [
           "Preços altos ( 45,00 - 59,99 £)"
          ],
          [
           "Preços médios (25.00 - 44.99 £)"
          ],
          [
           "Preços baixos (10,00 - 24,99 £)"
          ],
          [
           "Preços altos ( 45,00 - 59,99 £)"
          ],
          [
           "Preços médios (25.00 - 44.99 £)"
          ],
          [
           "Preços médios (25.00 - 44.99 £)"
          ],
          [
           "Preços baixos (10,00 - 24,99 £)"
          ],
          [
           "Preços baixos (10,00 - 24,99 £)"
          ],
          [
           "Preços médios (25.00 - 44.99 £)"
          ],
          [
           "Preços baixos (10,00 - 24,99 £)"
          ],
          [
           "Preços baixos (10,00 - 24,99 £)"
          ],
          [
           "Preços médios (25.00 - 44.99 £)"
          ],
          [
           "Preços médios (25.00 - 44.99 £)"
          ],
          [
           "Preços médios (25.00 - 44.99 £)"
          ],
          [
           "Preços altos ( 45,00 - 59,99 £)"
          ],
          [
           "Preços altos ( 45,00 - 59,99 £)"
          ],
          [
           "Preços médios (25.00 - 44.99 £)"
          ],
          [
           "Preços baixos (10,00 - 24,99 £)"
          ],
          [
           "Preços baixos (10,00 - 24,99 £)"
          ],
          [
           "Preços médios (25.00 - 44.99 £)"
          ],
          [
           "Preços altos ( 45,00 - 59,99 £)"
          ],
          [
           "Preços baixos (10,00 - 24,99 £)"
          ],
          [
           "Preços altos ( 45,00 - 59,99 £)"
          ],
          [
           "Preços altos ( 45,00 - 59,99 £)"
          ],
          [
           "Preços médios (25.00 - 44.99 £)"
          ],
          [
           "Preços altos ( 45,00 - 59,99 £)"
          ],
          [
           "Preços baixos (10,00 - 24,99 £)"
          ],
          [
           "Preços baixos (10,00 - 24,99 £)"
          ],
          [
           "Preços altos ( 45,00 - 59,99 £)"
          ],
          [
           "Preços médios (25.00 - 44.99 £)"
          ],
          [
           "Preços altos ( 45,00 - 59,99 £)"
          ],
          [
           "Preços altos ( 45,00 - 59,99 £)"
          ],
          [
           "Preços médios (25.00 - 44.99 £)"
          ],
          [
           "Preços médios (25.00 - 44.99 £)"
          ],
          [
           "Preços médios (25.00 - 44.99 £)"
          ],
          [
           "Preços baixos (10,00 - 24,99 £)"
          ],
          [
           "Preços baixos (10,00 - 24,99 £)"
          ],
          [
           "Preços médios (25.00 - 44.99 £)"
          ],
          [
           "Preços altos ( 45,00 - 59,99 £)"
          ],
          [
           "Preços médios (25.00 - 44.99 £)"
          ],
          [
           "Preços altos ( 45,00 - 59,99 £)"
          ],
          [
           "Preços altos ( 45,00 - 59,99 £)"
          ],
          [
           "Preços baixos (10,00 - 24,99 £)"
          ],
          [
           "Preços altos ( 45,00 - 59,99 £)"
          ],
          [
           "Preços altos ( 45,00 - 59,99 £)"
          ],
          [
           "Preços baixos (10,00 - 24,99 £)"
          ],
          [
           "Preços baixos (10,00 - 24,99 £)"
          ],
          [
           "Preços baixos (10,00 - 24,99 £)"
          ],
          [
           "Preços baixos (10,00 - 24,99 £)"
          ],
          [
           "Preços altos ( 45,00 - 59,99 £)"
          ],
          [
           "Preços baixos (10,00 - 24,99 £)"
          ],
          [
           "Preços médios (25.00 - 44.99 £)"
          ],
          [
           "Preços médios (25.00 - 44.99 £)"
          ],
          [
           "Preços médios (25.00 - 44.99 £)"
          ],
          [
           "Preços baixos (10,00 - 24,99 £)"
          ],
          [
           "Preços baixos (10,00 - 24,99 £)"
          ],
          [
           "Preços médios (25.00 - 44.99 £)"
          ],
          [
           "Preços altos ( 45,00 - 59,99 £)"
          ],
          [
           "Preços baixos (10,00 - 24,99 £)"
          ],
          [
           "Preços médios (25.00 - 44.99 £)"
          ],
          [
           "Preços médios (25.00 - 44.99 £)"
          ],
          [
           "Preços médios (25.00 - 44.99 £)"
          ],
          [
           "Preços altos ( 45,00 - 59,99 £)"
          ],
          [
           "Preços médios (25.00 - 44.99 £)"
          ],
          [
           "Preços baixos (10,00 - 24,99 £)"
          ],
          [
           "Preços altos ( 45,00 - 59,99 £)"
          ],
          [
           "Preços baixos (10,00 - 24,99 £)"
          ],
          [
           "Preços altos ( 45,00 - 59,99 £)"
          ],
          [
           "Preços baixos (10,00 - 24,99 £)"
          ],
          [
           "Preços médios (25.00 - 44.99 £)"
          ],
          [
           "Preços altos ( 45,00 - 59,99 £)"
          ],
          [
           "Preços altos ( 45,00 - 59,99 £)"
          ],
          [
           "Preços altos ( 45,00 - 59,99 £)"
          ],
          [
           "Preços médios (25.00 - 44.99 £)"
          ],
          [
           "Preços altos ( 45,00 - 59,99 £)"
          ],
          [
           "Preços médios (25.00 - 44.99 £)"
          ],
          [
           "Preços baixos (10,00 - 24,99 £)"
          ],
          [
           "Preços baixos (10,00 - 24,99 £)"
          ],
          [
           "Preços altos ( 45,00 - 59,99 £)"
          ],
          [
           "Preços baixos (10,00 - 24,99 £)"
          ],
          [
           "Preços médios (25.00 - 44.99 £)"
          ],
          [
           "Preços médios (25.00 - 44.99 £)"
          ],
          [
           "Preços baixos (10,00 - 24,99 £)"
          ],
          [
           "Preços médios (25.00 - 44.99 £)"
          ],
          [
           "Preços baixos (10,00 - 24,99 £)"
          ],
          [
           "Preços altos ( 45,00 - 59,99 £)"
          ],
          [
           "Preços baixos (10,00 - 24,99 £)"
          ],
          [
           "Preços altos ( 45,00 - 59,99 £)"
          ],
          [
           "Preços médios (25.00 - 44.99 £)"
          ],
          [
           "Preços médios (25.00 - 44.99 £)"
          ],
          [
           "Preços médios (25.00 - 44.99 £)"
          ],
          [
           "Preços médios (25.00 - 44.99 £)"
          ],
          [
           "Preços altos ( 45,00 - 59,99 £)"
          ],
          [
           "Preços baixos (10,00 - 24,99 £)"
          ],
          [
           "Preços baixos (10,00 - 24,99 £)"
          ],
          [
           "Preços altos ( 45,00 - 59,99 £)"
          ],
          [
           "Preços baixos (10,00 - 24,99 £)"
          ],
          [
           "Preços altos ( 45,00 - 59,99 £)"
          ],
          [
           "Preços baixos (10,00 - 24,99 £)"
          ],
          [
           "Preços baixos (10,00 - 24,99 £)"
          ],
          [
           "Preços altos ( 45,00 - 59,99 £)"
          ],
          [
           "Preços altos ( 45,00 - 59,99 £)"
          ],
          [
           "Preços baixos (10,00 - 24,99 £)"
          ],
          [
           "Preços baixos (10,00 - 24,99 £)"
          ],
          [
           "Preços altos ( 45,00 - 59,99 £)"
          ],
          [
           "Preços altos ( 45,00 - 59,99 £)"
          ],
          [
           "Preços baixos (10,00 - 24,99 £)"
          ],
          [
           "Preços médios (25.00 - 44.99 £)"
          ],
          [
           "Preços baixos (10,00 - 24,99 £)"
          ],
          [
           "Preços médios (25.00 - 44.99 £)"
          ],
          [
           "Preços médios (25.00 - 44.99 £)"
          ],
          [
           "Preços médios (25.00 - 44.99 £)"
          ],
          [
           "Preços baixos (10,00 - 24,99 £)"
          ],
          [
           "Preços médios (25.00 - 44.99 £)"
          ],
          [
           "Preços médios (25.00 - 44.99 £)"
          ],
          [
           "Preços altos ( 45,00 - 59,99 £)"
          ],
          [
           "Preços médios (25.00 - 44.99 £)"
          ],
          [
           "Preços médios (25.00 - 44.99 £)"
          ],
          [
           "Preços altos ( 45,00 - 59,99 £)"
          ],
          [
           "Preços médios (25.00 - 44.99 £)"
          ],
          [
           "Preços baixos (10,00 - 24,99 £)"
          ],
          [
           "Preços altos ( 45,00 - 59,99 £)"
          ],
          [
           "Preços médios (25.00 - 44.99 £)"
          ],
          [
           "Preços médios (25.00 - 44.99 £)"
          ],
          [
           "Preços altos ( 45,00 - 59,99 £)"
          ],
          [
           "Preços médios (25.00 - 44.99 £)"
          ],
          [
           "Preços médios (25.00 - 44.99 £)"
          ],
          [
           "Preços altos ( 45,00 - 59,99 £)"
          ],
          [
           "Preços altos ( 45,00 - 59,99 £)"
          ],
          [
           "Preços baixos (10,00 - 24,99 £)"
          ],
          [
           "Preços altos ( 45,00 - 59,99 £)"
          ],
          [
           "Preços médios (25.00 - 44.99 £)"
          ],
          [
           "Preços baixos (10,00 - 24,99 £)"
          ],
          [
           "Preços altos ( 45,00 - 59,99 £)"
          ],
          [
           "Preços baixos (10,00 - 24,99 £)"
          ],
          [
           "Preços altos ( 45,00 - 59,99 £)"
          ],
          [
           "Preços médios (25.00 - 44.99 £)"
          ],
          [
           "Preços baixos (10,00 - 24,99 £)"
          ],
          [
           "Preços baixos (10,00 - 24,99 £)"
          ],
          [
           "Preços altos ( 45,00 - 59,99 £)"
          ],
          [
           "Preços médios (25.00 - 44.99 £)"
          ],
          [
           "Preços altos ( 45,00 - 59,99 £)"
          ],
          [
           "Preços médios (25.00 - 44.99 £)"
          ],
          [
           "Preços baixos (10,00 - 24,99 £)"
          ],
          [
           "Preços baixos (10,00 - 24,99 £)"
          ],
          [
           "Preços médios (25.00 - 44.99 £)"
          ],
          [
           "Preços médios (25.00 - 44.99 £)"
          ],
          [
           "Preços baixos (10,00 - 24,99 £)"
          ],
          [
           "Preços baixos (10,00 - 24,99 £)"
          ],
          [
           "Preços altos ( 45,00 - 59,99 £)"
          ],
          [
           "Preços altos ( 45,00 - 59,99 £)"
          ],
          [
           "Preços médios (25.00 - 44.99 £)"
          ],
          [
           "Preços altos ( 45,00 - 59,99 £)"
          ],
          [
           "Preços baixos (10,00 - 24,99 £)"
          ],
          [
           "Preços médios (25.00 - 44.99 £)"
          ],
          [
           "Preços baixos (10,00 - 24,99 £)"
          ],
          [
           "Preços médios (25.00 - 44.99 £)"
          ],
          [
           "Preços médios (25.00 - 44.99 £)"
          ],
          [
           "Preços altos ( 45,00 - 59,99 £)"
          ],
          [
           "Preços altos ( 45,00 - 59,99 £)"
          ],
          [
           "Preços altos ( 45,00 - 59,99 £)"
          ],
          [
           "Preços baixos (10,00 - 24,99 £)"
          ],
          [
           "Preços altos ( 45,00 - 59,99 £)"
          ],
          [
           "Preços altos ( 45,00 - 59,99 £)"
          ],
          [
           "Preços médios (25.00 - 44.99 £)"
          ],
          [
           "Preços baixos (10,00 - 24,99 £)"
          ],
          [
           "Preços altos ( 45,00 - 59,99 £)"
          ],
          [
           "Preços baixos (10,00 - 24,99 £)"
          ],
          [
           "Preços baixos (10,00 - 24,99 £)"
          ],
          [
           "Preços altos ( 45,00 - 59,99 £)"
          ],
          [
           "Preços médios (25.00 - 44.99 £)"
          ],
          [
           "Preços médios (25.00 - 44.99 £)"
          ],
          [
           "Preços baixos (10,00 - 24,99 £)"
          ],
          [
           "Preços médios (25.00 - 44.99 £)"
          ],
          [
           "Preços baixos (10,00 - 24,99 £)"
          ],
          [
           "Preços médios (25.00 - 44.99 £)"
          ],
          [
           "Preços médios (25.00 - 44.99 £)"
          ],
          [
           "Preços médios (25.00 - 44.99 £)"
          ],
          [
           "Preços altos ( 45,00 - 59,99 £)"
          ],
          [
           "Preços baixos (10,00 - 24,99 £)"
          ],
          [
           "Preços médios (25.00 - 44.99 £)"
          ],
          [
           "Preços baixos (10,00 - 24,99 £)"
          ],
          [
           "Preços médios (25.00 - 44.99 £)"
          ],
          [
           "Preços médios (25.00 - 44.99 £)"
          ],
          [
           "Preços baixos (10,00 - 24,99 £)"
          ],
          [
           "Preços médios (25.00 - 44.99 £)"
          ],
          [
           "Preços médios (25.00 - 44.99 £)"
          ],
          [
           "Preços médios (25.00 - 44.99 £)"
          ],
          [
           "Preços altos ( 45,00 - 59,99 £)"
          ],
          [
           "Preços altos ( 45,00 - 59,99 £)"
          ],
          [
           "Preços altos ( 45,00 - 59,99 £)"
          ],
          [
           "Preços médios (25.00 - 44.99 £)"
          ],
          [
           "Preços baixos (10,00 - 24,99 £)"
          ],
          [
           "Preços baixos (10,00 - 24,99 £)"
          ],
          [
           "Preços médios (25.00 - 44.99 £)"
          ],
          [
           "Preços altos ( 45,00 - 59,99 £)"
          ],
          [
           "Preços médios (25.00 - 44.99 £)"
          ],
          [
           "Preços baixos (10,00 - 24,99 £)"
          ],
          [
           "Preços altos ( 45,00 - 59,99 £)"
          ],
          [
           "Preços médios (25.00 - 44.99 £)"
          ],
          [
           "Preços médios (25.00 - 44.99 £)"
          ],
          [
           "Preços altos ( 45,00 - 59,99 £)"
          ],
          [
           "Preços altos ( 45,00 - 59,99 £)"
          ],
          [
           "Preços médios (25.00 - 44.99 £)"
          ],
          [
           "Preços médios (25.00 - 44.99 £)"
          ],
          [
           "Preços baixos (10,00 - 24,99 £)"
          ],
          [
           "Preços altos ( 45,00 - 59,99 £)"
          ],
          [
           "Preços médios (25.00 - 44.99 £)"
          ],
          [
           "Preços médios (25.00 - 44.99 £)"
          ],
          [
           "Preços altos ( 45,00 - 59,99 £)"
          ],
          [
           "Preços baixos (10,00 - 24,99 £)"
          ],
          [
           "Preços médios (25.00 - 44.99 £)"
          ],
          [
           "Preços médios (25.00 - 44.99 £)"
          ],
          [
           "Preços médios (25.00 - 44.99 £)"
          ],
          [
           "Preços altos ( 45,00 - 59,99 £)"
          ],
          [
           "Preços médios (25.00 - 44.99 £)"
          ],
          [
           "Preços altos ( 45,00 - 59,99 £)"
          ],
          [
           "Preços médios (25.00 - 44.99 £)"
          ],
          [
           "Preços baixos (10,00 - 24,99 £)"
          ],
          [
           "Preços médios (25.00 - 44.99 £)"
          ],
          [
           "Preços médios (25.00 - 44.99 £)"
          ],
          [
           "Preços médios (25.00 - 44.99 £)"
          ],
          [
           "Preços médios (25.00 - 44.99 £)"
          ],
          [
           "Preços altos ( 45,00 - 59,99 £)"
          ],
          [
           "Preços altos ( 45,00 - 59,99 £)"
          ],
          [
           "Preços altos ( 45,00 - 59,99 £)"
          ],
          [
           "Preços baixos (10,00 - 24,99 £)"
          ],
          [
           "Preços baixos (10,00 - 24,99 £)"
          ],
          [
           "Preços médios (25.00 - 44.99 £)"
          ],
          [
           "Preços médios (25.00 - 44.99 £)"
          ],
          [
           "Preços médios (25.00 - 44.99 £)"
          ],
          [
           "Preços baixos (10,00 - 24,99 £)"
          ],
          [
           "Preços altos ( 45,00 - 59,99 £)"
          ],
          [
           "Preços altos ( 45,00 - 59,99 £)"
          ],
          [
           "Preços altos ( 45,00 - 59,99 £)"
          ],
          [
           "Preços baixos (10,00 - 24,99 £)"
          ],
          [
           "Preços médios (25.00 - 44.99 £)"
          ],
          [
           "Preços baixos (10,00 - 24,99 £)"
          ],
          [
           "Preços altos ( 45,00 - 59,99 £)"
          ],
          [
           "Preços baixos (10,00 - 24,99 £)"
          ],
          [
           "Preços altos ( 45,00 - 59,99 £)"
          ],
          [
           "Preços baixos (10,00 - 24,99 £)"
          ],
          [
           "Preços médios (25.00 - 44.99 £)"
          ],
          [
           "Preços altos ( 45,00 - 59,99 £)"
          ],
          [
           "Preços médios (25.00 - 44.99 £)"
          ],
          [
           "Preços médios (25.00 - 44.99 £)"
          ],
          [
           "Preços baixos (10,00 - 24,99 £)"
          ],
          [
           "Preços médios (25.00 - 44.99 £)"
          ],
          [
           "Preços altos ( 45,00 - 59,99 £)"
          ],
          [
           "Preços baixos (10,00 - 24,99 £)"
          ],
          [
           "Preços médios (25.00 - 44.99 £)"
          ],
          [
           "Preços baixos (10,00 - 24,99 £)"
          ],
          [
           "Preços médios (25.00 - 44.99 £)"
          ],
          [
           "Preços altos ( 45,00 - 59,99 £)"
          ],
          [
           "Preços baixos (10,00 - 24,99 £)"
          ],
          [
           "Preços baixos (10,00 - 24,99 £)"
          ],
          [
           "Preços médios (25.00 - 44.99 £)"
          ],
          [
           "Preços médios (25.00 - 44.99 £)"
          ],
          [
           "Preços baixos (10,00 - 24,99 £)"
          ],
          [
           "Preços médios (25.00 - 44.99 £)"
          ],
          [
           "Preços baixos (10,00 - 24,99 £)"
          ],
          [
           "Preços baixos (10,00 - 24,99 £)"
          ],
          [
           "Preços altos ( 45,00 - 59,99 £)"
          ],
          [
           "Preços médios (25.00 - 44.99 £)"
          ],
          [
           "Preços médios (25.00 - 44.99 £)"
          ],
          [
           "Preços médios (25.00 - 44.99 £)"
          ],
          [
           "Preços baixos (10,00 - 24,99 £)"
          ],
          [
           "Preços médios (25.00 - 44.99 £)"
          ],
          [
           "Preços altos ( 45,00 - 59,99 £)"
          ],
          [
           "Preços médios (25.00 - 44.99 £)"
          ],
          [
           "Preços altos ( 45,00 - 59,99 £)"
          ],
          [
           "Preços baixos (10,00 - 24,99 £)"
          ],
          [
           "Preços médios (25.00 - 44.99 £)"
          ],
          [
           "Preços altos ( 45,00 - 59,99 £)"
          ],
          [
           "Preços baixos (10,00 - 24,99 £)"
          ],
          [
           "Preços baixos (10,00 - 24,99 £)"
          ],
          [
           "Preços baixos (10,00 - 24,99 £)"
          ],
          [
           "Preços baixos (10,00 - 24,99 £)"
          ],
          [
           "Preços baixos (10,00 - 24,99 £)"
          ],
          [
           "Preços médios (25.00 - 44.99 £)"
          ],
          [
           "Preços médios (25.00 - 44.99 £)"
          ],
          [
           "Preços altos ( 45,00 - 59,99 £)"
          ],
          [
           "Preços altos ( 45,00 - 59,99 £)"
          ],
          [
           "Preços baixos (10,00 - 24,99 £)"
          ],
          [
           "Preços altos ( 45,00 - 59,99 £)"
          ],
          [
           "Preços baixos (10,00 - 24,99 £)"
          ],
          [
           "Preços médios (25.00 - 44.99 £)"
          ],
          [
           "Preços médios (25.00 - 44.99 £)"
          ],
          [
           "Preços altos ( 45,00 - 59,99 £)"
          ],
          [
           "Preços médios (25.00 - 44.99 £)"
          ],
          [
           "Preços baixos (10,00 - 24,99 £)"
          ],
          [
           "Preços altos ( 45,00 - 59,99 £)"
          ],
          [
           "Preços médios (25.00 - 44.99 £)"
          ],
          [
           "Preços altos ( 45,00 - 59,99 £)"
          ],
          [
           "Preços médios (25.00 - 44.99 £)"
          ],
          [
           "Preços altos ( 45,00 - 59,99 £)"
          ],
          [
           "Preços baixos (10,00 - 24,99 £)"
          ],
          [
           "Preços médios (25.00 - 44.99 £)"
          ],
          [
           "Preços médios (25.00 - 44.99 £)"
          ],
          [
           "Preços médios (25.00 - 44.99 £)"
          ],
          [
           "Preços baixos (10,00 - 24,99 £)"
          ],
          [
           "Preços médios (25.00 - 44.99 £)"
          ],
          [
           "Preços médios (25.00 - 44.99 £)"
          ],
          [
           "Preços médios (25.00 - 44.99 £)"
          ],
          [
           "Preços altos ( 45,00 - 59,99 £)"
          ],
          [
           "Preços médios (25.00 - 44.99 £)"
          ],
          [
           "Preços médios (25.00 - 44.99 £)"
          ],
          [
           "Preços altos ( 45,00 - 59,99 £)"
          ],
          [
           "Preços médios (25.00 - 44.99 £)"
          ],
          [
           "Preços altos ( 45,00 - 59,99 £)"
          ],
          [
           "Preços médios (25.00 - 44.99 £)"
          ],
          [
           "Preços altos ( 45,00 - 59,99 £)"
          ],
          [
           "Preços altos ( 45,00 - 59,99 £)"
          ],
          [
           "Preços médios (25.00 - 44.99 £)"
          ],
          [
           "Preços baixos (10,00 - 24,99 £)"
          ],
          [
           "Preços médios (25.00 - 44.99 £)"
          ],
          [
           "Preços médios (25.00 - 44.99 £)"
          ],
          [
           "Preços baixos (10,00 - 24,99 £)"
          ],
          [
           "Preços baixos (10,00 - 24,99 £)"
          ],
          [
           "Preços baixos (10,00 - 24,99 £)"
          ],
          [
           "Preços baixos (10,00 - 24,99 £)"
          ],
          [
           "Preços baixos (10,00 - 24,99 £)"
          ],
          [
           "Preços baixos (10,00 - 24,99 £)"
          ],
          [
           "Preços altos ( 45,00 - 59,99 £)"
          ],
          [
           "Preços médios (25.00 - 44.99 £)"
          ],
          [
           "Preços médios (25.00 - 44.99 £)"
          ],
          [
           "Preços baixos (10,00 - 24,99 £)"
          ],
          [
           "Preços médios (25.00 - 44.99 £)"
          ],
          [
           "Preços médios (25.00 - 44.99 £)"
          ],
          [
           "Preços baixos (10,00 - 24,99 £)"
          ],
          [
           "Preços médios (25.00 - 44.99 £)"
          ],
          [
           "Preços altos ( 45,00 - 59,99 £)"
          ],
          [
           "Preços baixos (10,00 - 24,99 £)"
          ],
          [
           "Preços médios (25.00 - 44.99 £)"
          ],
          [
           "Preços médios (25.00 - 44.99 £)"
          ],
          [
           "Preços médios (25.00 - 44.99 £)"
          ],
          [
           "Preços médios (25.00 - 44.99 £)"
          ],
          [
           "Preços altos ( 45,00 - 59,99 £)"
          ],
          [
           "Preços baixos (10,00 - 24,99 £)"
          ],
          [
           "Preços baixos (10,00 - 24,99 £)"
          ],
          [
           "Preços médios (25.00 - 44.99 £)"
          ],
          [
           "Preços médios (25.00 - 44.99 £)"
          ],
          [
           "Preços altos ( 45,00 - 59,99 £)"
          ],
          [
           "Preços médios (25.00 - 44.99 £)"
          ],
          [
           "Preços altos ( 45,00 - 59,99 £)"
          ],
          [
           "Preços médios (25.00 - 44.99 £)"
          ],
          [
           "Preços altos ( 45,00 - 59,99 £)"
          ],
          [
           "Preços altos ( 45,00 - 59,99 £)"
          ],
          [
           "Preços médios (25.00 - 44.99 £)"
          ],
          [
           "Preços médios (25.00 - 44.99 £)"
          ],
          [
           "Preços médios (25.00 - 44.99 £)"
          ],
          [
           "Preços médios (25.00 - 44.99 £)"
          ],
          [
           "Preços médios (25.00 - 44.99 £)"
          ],
          [
           "Preços baixos (10,00 - 24,99 £)"
          ],
          [
           "Preços altos ( 45,00 - 59,99 £)"
          ],
          [
           "Preços altos ( 45,00 - 59,99 £)"
          ],
          [
           "Preços médios (25.00 - 44.99 £)"
          ],
          [
           "Preços médios (25.00 - 44.99 £)"
          ],
          [
           "Preços médios (25.00 - 44.99 £)"
          ],
          [
           "Preços altos ( 45,00 - 59,99 £)"
          ],
          [
           "Preços médios (25.00 - 44.99 £)"
          ],
          [
           "Preços altos ( 45,00 - 59,99 £)"
          ],
          [
           "Preços médios (25.00 - 44.99 £)"
          ],
          [
           "Preços médios (25.00 - 44.99 £)"
          ],
          [
           "Preços médios (25.00 - 44.99 £)"
          ],
          [
           "Preços médios (25.00 - 44.99 £)"
          ],
          [
           "Preços médios (25.00 - 44.99 £)"
          ],
          [
           "Preços altos ( 45,00 - 59,99 £)"
          ],
          [
           "Preços altos ( 45,00 - 59,99 £)"
          ],
          [
           "Preços médios (25.00 - 44.99 £)"
          ],
          [
           "Preços baixos (10,00 - 24,99 £)"
          ],
          [
           "Preços médios (25.00 - 44.99 £)"
          ],
          [
           "Preços médios (25.00 - 44.99 £)"
          ],
          [
           "Preços médios (25.00 - 44.99 £)"
          ],
          [
           "Preços médios (25.00 - 44.99 £)"
          ],
          [
           "Preços baixos (10,00 - 24,99 £)"
          ],
          [
           "Preços médios (25.00 - 44.99 £)"
          ],
          [
           "Preços médios (25.00 - 44.99 £)"
          ],
          [
           "Preços altos ( 45,00 - 59,99 £)"
          ],
          [
           "Preços altos ( 45,00 - 59,99 £)"
          ],
          [
           "Preços baixos (10,00 - 24,99 £)"
          ],
          [
           "Preços altos ( 45,00 - 59,99 £)"
          ],
          [
           "Preços médios (25.00 - 44.99 £)"
          ]
         ],
         "domain": {
          "x": [
           0,
           1
          ],
          "y": [
           0,
           1
          ]
         },
         "hole": 0.5,
         "hovertemplate": "Faixa=%{customdata[0]}<br>Preço total=%{value}<extra></extra>",
         "labels": [
          "Preços altos ( 45,00 - 59,99 £)",
          "Preços altos ( 45,00 - 59,99 £)",
          "Preços altos ( 45,00 - 59,99 £)",
          "Preços altos ( 45,00 - 59,99 £)",
          "Preços altos ( 45,00 - 59,99 £)",
          "Preços baixos (10,00 - 24,99 £)",
          "Preços médios (25.00 - 44.99 £)",
          "Preços baixos (10,00 - 24,99 £)",
          "Preços baixos (10,00 - 24,99 £)",
          "Preços altos ( 45,00 - 59,99 £)",
          "Preços baixos (10,00 - 24,99 £)",
          "Preços baixos (10,00 - 24,99 £)",
          "Preços baixos (10,00 - 24,99 £)",
          "Preços altos ( 45,00 - 59,99 £)",
          "Preços médios (25.00 - 44.99 £)",
          "Preços altos ( 45,00 - 59,99 £)",
          "Preços baixos (10,00 - 24,99 £)",
          "Preços médios (25.00 - 44.99 £)",
          "Preços altos ( 45,00 - 59,99 £)",
          "Preços altos ( 45,00 - 59,99 £)",
          "Preços baixos (10,00 - 24,99 £)",
          "Preços médios (25.00 - 44.99 £)",
          "Preços médios (25.00 - 44.99 £)",
          "Preços médios (25.00 - 44.99 £)",
          "Preços médios (25.00 - 44.99 £)",
          "Preços altos ( 45,00 - 59,99 £)",
          "Preços baixos (10,00 - 24,99 £)",
          "Preços altos ( 45,00 - 59,99 £)",
          "Preços médios (25.00 - 44.99 £)",
          "Preços médios (25.00 - 44.99 £)",
          "Preços baixos (10,00 - 24,99 £)",
          "Preços médios (25.00 - 44.99 £)",
          "Preços baixos (10,00 - 24,99 £)",
          "Preços médios (25.00 - 44.99 £)",
          "Preços baixos (10,00 - 24,99 £)",
          "Preços médios (25.00 - 44.99 £)",
          "Preços baixos (10,00 - 24,99 £)",
          "Preços baixos (10,00 - 24,99 £)",
          "Preços altos ( 45,00 - 59,99 £)",
          "Preços médios (25.00 - 44.99 £)",
          "Preços altos ( 45,00 - 59,99 £)",
          "Preços médios (25.00 - 44.99 £)",
          "Preços altos ( 45,00 - 59,99 £)",
          "Preços baixos (10,00 - 24,99 £)",
          "Preços altos ( 45,00 - 59,99 £)",
          "Preços médios (25.00 - 44.99 £)",
          "Preços altos ( 45,00 - 59,99 £)",
          "Preços baixos (10,00 - 24,99 £)",
          "Preços médios (25.00 - 44.99 £)",
          "Preços baixos (10,00 - 24,99 £)",
          "Preços médios (25.00 - 44.99 £)",
          "Preços baixos (10,00 - 24,99 £)",
          "Preços médios (25.00 - 44.99 £)",
          "Preços baixos (10,00 - 24,99 £)",
          "Preços baixos (10,00 - 24,99 £)",
          "Preços baixos (10,00 - 24,99 £)",
          "Preços altos ( 45,00 - 59,99 £)",
          "Preços altos ( 45,00 - 59,99 £)",
          "Preços altos ( 45,00 - 59,99 £)",
          "Preços altos ( 45,00 - 59,99 £)",
          "Preços médios (25.00 - 44.99 £)",
          "Preços altos ( 45,00 - 59,99 £)",
          "Preços médios (25.00 - 44.99 £)",
          "Preços baixos (10,00 - 24,99 £)",
          "Preços baixos (10,00 - 24,99 £)",
          "Preços baixos (10,00 - 24,99 £)",
          "Preços médios (25.00 - 44.99 £)",
          "Preços altos ( 45,00 - 59,99 £)",
          "Preços altos ( 45,00 - 59,99 £)",
          "Preços altos ( 45,00 - 59,99 £)",
          "Preços médios (25.00 - 44.99 £)",
          "Preços baixos (10,00 - 24,99 £)",
          "Preços médios (25.00 - 44.99 £)",
          "Preços médios (25.00 - 44.99 £)",
          "Preços médios (25.00 - 44.99 £)",
          "Preços médios (25.00 - 44.99 £)",
          "Preços médios (25.00 - 44.99 £)",
          "Preços altos ( 45,00 - 59,99 £)",
          "Preços baixos (10,00 - 24,99 £)",
          "Preços altos ( 45,00 - 59,99 £)",
          "Preços baixos (10,00 - 24,99 £)",
          "Preços baixos (10,00 - 24,99 £)",
          "Preços baixos (10,00 - 24,99 £)",
          "Preços médios (25.00 - 44.99 £)",
          "Preços baixos (10,00 - 24,99 £)",
          "Preços baixos (10,00 - 24,99 £)",
          "Preços altos ( 45,00 - 59,99 £)",
          "Preços altos ( 45,00 - 59,99 £)",
          "Preços baixos (10,00 - 24,99 £)",
          "Preços baixos (10,00 - 24,99 £)",
          "Preços médios (25.00 - 44.99 £)",
          "Preços altos ( 45,00 - 59,99 £)",
          "Preços baixos (10,00 - 24,99 £)",
          "Preços altos ( 45,00 - 59,99 £)",
          "Preços altos ( 45,00 - 59,99 £)",
          "Preços baixos (10,00 - 24,99 £)",
          "Preços médios (25.00 - 44.99 £)",
          "Preços altos ( 45,00 - 59,99 £)",
          "Preços médios (25.00 - 44.99 £)",
          "Preços baixos (10,00 - 24,99 £)",
          "Preços altos ( 45,00 - 59,99 £)",
          "Preços médios (25.00 - 44.99 £)",
          "Preços altos ( 45,00 - 59,99 £)",
          "Preços altos ( 45,00 - 59,99 £)",
          "Preços médios (25.00 - 44.99 £)",
          "Preços baixos (10,00 - 24,99 £)",
          "Preços médios (25.00 - 44.99 £)",
          "Preços baixos (10,00 - 24,99 £)",
          "Preços baixos (10,00 - 24,99 £)",
          "Preços altos ( 45,00 - 59,99 £)",
          "Preços médios (25.00 - 44.99 £)",
          "Preços altos ( 45,00 - 59,99 £)",
          "Preços médios (25.00 - 44.99 £)",
          "Preços médios (25.00 - 44.99 £)",
          "Preços baixos (10,00 - 24,99 £)",
          "Preços médios (25.00 - 44.99 £)",
          "Preços médios (25.00 - 44.99 £)",
          "Preços altos ( 45,00 - 59,99 £)",
          "Preços médios (25.00 - 44.99 £)",
          "Preços médios (25.00 - 44.99 £)",
          "Preços médios (25.00 - 44.99 £)",
          "Preços médios (25.00 - 44.99 £)",
          "Preços altos ( 45,00 - 59,99 £)",
          "Preços baixos (10,00 - 24,99 £)",
          "Preços altos ( 45,00 - 59,99 £)",
          "Preços médios (25.00 - 44.99 £)",
          "Preços altos ( 45,00 - 59,99 £)",
          "Preços altos ( 45,00 - 59,99 £)",
          "Preços baixos (10,00 - 24,99 £)",
          "Preços médios (25.00 - 44.99 £)",
          "Preços baixos (10,00 - 24,99 £)",
          "Preços médios (25.00 - 44.99 £)",
          "Preços médios (25.00 - 44.99 £)",
          "Preços altos ( 45,00 - 59,99 £)",
          "Preços altos ( 45,00 - 59,99 £)",
          "Preços altos ( 45,00 - 59,99 £)",
          "Preços baixos (10,00 - 24,99 £)",
          "Preços médios (25.00 - 44.99 £)",
          "Preços baixos (10,00 - 24,99 £)",
          "Preços baixos (10,00 - 24,99 £)",
          "Preços médios (25.00 - 44.99 £)",
          "Preços médios (25.00 - 44.99 £)",
          "Preços altos ( 45,00 - 59,99 £)",
          "Preços médios (25.00 - 44.99 £)",
          "Preços baixos (10,00 - 24,99 £)",
          "Preços médios (25.00 - 44.99 £)",
          "Preços médios (25.00 - 44.99 £)",
          "Preços médios (25.00 - 44.99 £)",
          "Preços médios (25.00 - 44.99 £)",
          "Preços médios (25.00 - 44.99 £)",
          "Preços altos ( 45,00 - 59,99 £)",
          "Preços médios (25.00 - 44.99 £)",
          "Preços baixos (10,00 - 24,99 £)",
          "Preços médios (25.00 - 44.99 £)",
          "Preços médios (25.00 - 44.99 £)",
          "Preços médios (25.00 - 44.99 £)",
          "Preços altos ( 45,00 - 59,99 £)",
          "Preços baixos (10,00 - 24,99 £)",
          "Preços baixos (10,00 - 24,99 £)",
          "Preços médios (25.00 - 44.99 £)",
          "Preços médios (25.00 - 44.99 £)",
          "Preços médios (25.00 - 44.99 £)",
          "Preços médios (25.00 - 44.99 £)",
          "Preços baixos (10,00 - 24,99 £)",
          "Preços médios (25.00 - 44.99 £)",
          "Preços altos ( 45,00 - 59,99 £)",
          "Preços baixos (10,00 - 24,99 £)",
          "Preços médios (25.00 - 44.99 £)",
          "Preços baixos (10,00 - 24,99 £)",
          "Preços baixos (10,00 - 24,99 £)",
          "Preços médios (25.00 - 44.99 £)",
          "Preços baixos (10,00 - 24,99 £)",
          "Preços médios (25.00 - 44.99 £)",
          "Preços médios (25.00 - 44.99 £)",
          "Preços baixos (10,00 - 24,99 £)",
          "Preços médios (25.00 - 44.99 £)",
          "Preços baixos (10,00 - 24,99 £)",
          "Preços médios (25.00 - 44.99 £)",
          "Preços médios (25.00 - 44.99 £)",
          "Preços médios (25.00 - 44.99 £)",
          "Preços médios (25.00 - 44.99 £)",
          "Preços baixos (10,00 - 24,99 £)",
          "Preços baixos (10,00 - 24,99 £)",
          "Preços baixos (10,00 - 24,99 £)",
          "Preços altos ( 45,00 - 59,99 £)",
          "Preços baixos (10,00 - 24,99 £)",
          "Preços altos ( 45,00 - 59,99 £)",
          "Preços médios (25.00 - 44.99 £)",
          "Preços baixos (10,00 - 24,99 £)",
          "Preços altos ( 45,00 - 59,99 £)",
          "Preços médios (25.00 - 44.99 £)",
          "Preços baixos (10,00 - 24,99 £)",
          "Preços médios (25.00 - 44.99 £)",
          "Preços altos ( 45,00 - 59,99 £)",
          "Preços médios (25.00 - 44.99 £)",
          "Preços altos ( 45,00 - 59,99 £)",
          "Preços médios (25.00 - 44.99 £)",
          "Preços médios (25.00 - 44.99 £)",
          "Preços médios (25.00 - 44.99 £)",
          "Preços médios (25.00 - 44.99 £)",
          "Preços baixos (10,00 - 24,99 £)",
          "Preços baixos (10,00 - 24,99 £)",
          "Preços altos ( 45,00 - 59,99 £)",
          "Preços médios (25.00 - 44.99 £)",
          "Preços médios (25.00 - 44.99 £)",
          "Preços médios (25.00 - 44.99 £)",
          "Preços baixos (10,00 - 24,99 £)",
          "Preços médios (25.00 - 44.99 £)",
          "Preços baixos (10,00 - 24,99 £)",
          "Preços baixos (10,00 - 24,99 £)",
          "Preços altos ( 45,00 - 59,99 £)",
          "Preços baixos (10,00 - 24,99 £)",
          "Preços médios (25.00 - 44.99 £)",
          "Preços altos ( 45,00 - 59,99 £)",
          "Preços baixos (10,00 - 24,99 £)",
          "Preços baixos (10,00 - 24,99 £)",
          "Preços médios (25.00 - 44.99 £)",
          "Preços médios (25.00 - 44.99 £)",
          "Preços baixos (10,00 - 24,99 £)",
          "Preços altos ( 45,00 - 59,99 £)",
          "Preços médios (25.00 - 44.99 £)",
          "Preços baixos (10,00 - 24,99 £)",
          "Preços altos ( 45,00 - 59,99 £)",
          "Preços baixos (10,00 - 24,99 £)",
          "Preços médios (25.00 - 44.99 £)",
          "Preços altos ( 45,00 - 59,99 £)",
          "Preços altos ( 45,00 - 59,99 £)",
          "Preços baixos (10,00 - 24,99 £)",
          "Preços médios (25.00 - 44.99 £)",
          "Preços médios (25.00 - 44.99 £)",
          "Preços médios (25.00 - 44.99 £)",
          "Preços altos ( 45,00 - 59,99 £)",
          "Preços médios (25.00 - 44.99 £)",
          "Preços médios (25.00 - 44.99 £)",
          "Preços médios (25.00 - 44.99 £)",
          "Preços altos ( 45,00 - 59,99 £)",
          "Preços altos ( 45,00 - 59,99 £)",
          "Preços médios (25.00 - 44.99 £)",
          "Preços médios (25.00 - 44.99 £)",
          "Preços altos ( 45,00 - 59,99 £)",
          "Preços baixos (10,00 - 24,99 £)",
          "Preços médios (25.00 - 44.99 £)",
          "Preços baixos (10,00 - 24,99 £)",
          "Preços médios (25.00 - 44.99 £)",
          "Preços baixos (10,00 - 24,99 £)",
          "Preços baixos (10,00 - 24,99 £)",
          "Preços altos ( 45,00 - 59,99 £)",
          "Preços médios (25.00 - 44.99 £)",
          "Preços altos ( 45,00 - 59,99 £)",
          "Preços médios (25.00 - 44.99 £)",
          "Preços baixos (10,00 - 24,99 £)",
          "Preços médios (25.00 - 44.99 £)",
          "Preços altos ( 45,00 - 59,99 £)",
          "Preços médios (25.00 - 44.99 £)",
          "Preços médios (25.00 - 44.99 £)",
          "Preços baixos (10,00 - 24,99 £)",
          "Preços médios (25.00 - 44.99 £)",
          "Preços baixos (10,00 - 24,99 £)",
          "Preços baixos (10,00 - 24,99 £)",
          "Preços altos ( 45,00 - 59,99 £)",
          "Preços altos ( 45,00 - 59,99 £)",
          "Preços baixos (10,00 - 24,99 £)",
          "Preços médios (25.00 - 44.99 £)",
          "Preços médios (25.00 - 44.99 £)",
          "Preços médios (25.00 - 44.99 £)",
          "Preços altos ( 45,00 - 59,99 £)",
          "Preços médios (25.00 - 44.99 £)",
          "Preços altos ( 45,00 - 59,99 £)",
          "Preços altos ( 45,00 - 59,99 £)",
          "Preços altos ( 45,00 - 59,99 £)",
          "Preços altos ( 45,00 - 59,99 £)",
          "Preços médios (25.00 - 44.99 £)",
          "Preços baixos (10,00 - 24,99 £)",
          "Preços altos ( 45,00 - 59,99 £)",
          "Preços baixos (10,00 - 24,99 £)",
          "Preços altos ( 45,00 - 59,99 £)",
          "Preços baixos (10,00 - 24,99 £)",
          "Preços baixos (10,00 - 24,99 £)",
          "Preços baixos (10,00 - 24,99 £)",
          "Preços médios (25.00 - 44.99 £)",
          "Preços médios (25.00 - 44.99 £)",
          "Preços baixos (10,00 - 24,99 £)",
          "Preços médios (25.00 - 44.99 £)",
          "Preços médios (25.00 - 44.99 £)",
          "Preços médios (25.00 - 44.99 £)",
          "Preços médios (25.00 - 44.99 £)",
          "Preços altos ( 45,00 - 59,99 £)",
          "Preços altos ( 45,00 - 59,99 £)",
          "Preços altos ( 45,00 - 59,99 £)",
          "Preços baixos (10,00 - 24,99 £)",
          "Preços médios (25.00 - 44.99 £)",
          "Preços altos ( 45,00 - 59,99 £)",
          "Preços médios (25.00 - 44.99 £)",
          "Preços baixos (10,00 - 24,99 £)",
          "Preços baixos (10,00 - 24,99 £)",
          "Preços médios (25.00 - 44.99 £)",
          "Preços médios (25.00 - 44.99 £)",
          "Preços baixos (10,00 - 24,99 £)",
          "Preços baixos (10,00 - 24,99 £)",
          "Preços altos ( 45,00 - 59,99 £)",
          "Preços médios (25.00 - 44.99 £)",
          "Preços altos ( 45,00 - 59,99 £)",
          "Preços baixos (10,00 - 24,99 £)",
          "Preços médios (25.00 - 44.99 £)",
          "Preços altos ( 45,00 - 59,99 £)",
          "Preços altos ( 45,00 - 59,99 £)",
          "Preços baixos (10,00 - 24,99 £)",
          "Preços altos ( 45,00 - 59,99 £)",
          "Preços médios (25.00 - 44.99 £)",
          "Preços altos ( 45,00 - 59,99 £)",
          "Preços baixos (10,00 - 24,99 £)",
          "Preços altos ( 45,00 - 59,99 £)",
          "Preços altos ( 45,00 - 59,99 £)",
          "Preços altos ( 45,00 - 59,99 £)",
          "Preços médios (25.00 - 44.99 £)",
          "Preços médios (25.00 - 44.99 £)",
          "Preços baixos (10,00 - 24,99 £)",
          "Preços médios (25.00 - 44.99 £)",
          "Preços altos ( 45,00 - 59,99 £)",
          "Preços médios (25.00 - 44.99 £)",
          "Preços baixos (10,00 - 24,99 £)",
          "Preços médios (25.00 - 44.99 £)",
          "Preços altos ( 45,00 - 59,99 £)",
          "Preços baixos (10,00 - 24,99 £)",
          "Preços médios (25.00 - 44.99 £)",
          "Preços altos ( 45,00 - 59,99 £)",
          "Preços baixos (10,00 - 24,99 £)",
          "Preços altos ( 45,00 - 59,99 £)",
          "Preços médios (25.00 - 44.99 £)",
          "Preços altos ( 45,00 - 59,99 £)",
          "Preços médios (25.00 - 44.99 £)",
          "Preços altos ( 45,00 - 59,99 £)",
          "Preços médios (25.00 - 44.99 £)",
          "Preços médios (25.00 - 44.99 £)",
          "Preços altos ( 45,00 - 59,99 £)",
          "Preços baixos (10,00 - 24,99 £)",
          "Preços altos ( 45,00 - 59,99 £)",
          "Preços altos ( 45,00 - 59,99 £)",
          "Preços médios (25.00 - 44.99 £)",
          "Preços altos ( 45,00 - 59,99 £)",
          "Preços médios (25.00 - 44.99 £)",
          "Preços baixos (10,00 - 24,99 £)",
          "Preços altos ( 45,00 - 59,99 £)",
          "Preços altos ( 45,00 - 59,99 £)",
          "Preços baixos (10,00 - 24,99 £)",
          "Preços altos ( 45,00 - 59,99 £)",
          "Preços médios (25.00 - 44.99 £)",
          "Preços médios (25.00 - 44.99 £)",
          "Preços baixos (10,00 - 24,99 £)",
          "Preços altos ( 45,00 - 59,99 £)",
          "Preços baixos (10,00 - 24,99 £)",
          "Preços baixos (10,00 - 24,99 £)",
          "Preços médios (25.00 - 44.99 £)",
          "Preços médios (25.00 - 44.99 £)",
          "Preços baixos (10,00 - 24,99 £)",
          "Preços médios (25.00 - 44.99 £)",
          "Preços baixos (10,00 - 24,99 £)",
          "Preços médios (25.00 - 44.99 £)",
          "Preços médios (25.00 - 44.99 £)",
          "Preços altos ( 45,00 - 59,99 £)",
          "Preços médios (25.00 - 44.99 £)",
          "Preços médios (25.00 - 44.99 £)",
          "Preços altos ( 45,00 - 59,99 £)",
          "Preços médios (25.00 - 44.99 £)",
          "Preços baixos (10,00 - 24,99 £)",
          "Preços altos ( 45,00 - 59,99 £)",
          "Preços altos ( 45,00 - 59,99 £)",
          "Preços baixos (10,00 - 24,99 £)",
          "Preços altos ( 45,00 - 59,99 £)",
          "Preços baixos (10,00 - 24,99 £)",
          "Preços altos ( 45,00 - 59,99 £)",
          "Preços médios (25.00 - 44.99 £)",
          "Preços médios (25.00 - 44.99 £)",
          "Preços médios (25.00 - 44.99 £)",
          "Preços baixos (10,00 - 24,99 £)",
          "Preços altos ( 45,00 - 59,99 £)",
          "Preços altos ( 45,00 - 59,99 £)",
          "Preços médios (25.00 - 44.99 £)",
          "Preços baixos (10,00 - 24,99 £)",
          "Preços altos ( 45,00 - 59,99 £)",
          "Preços baixos (10,00 - 24,99 £)",
          "Preços médios (25.00 - 44.99 £)",
          "Preços baixos (10,00 - 24,99 £)",
          "Preços altos ( 45,00 - 59,99 £)",
          "Preços altos ( 45,00 - 59,99 £)",
          "Preços médios (25.00 - 44.99 £)",
          "Preços altos ( 45,00 - 59,99 £)",
          "Preços altos ( 45,00 - 59,99 £)",
          "Preços médios (25.00 - 44.99 £)",
          "Preços médios (25.00 - 44.99 £)",
          "Preços altos ( 45,00 - 59,99 £)",
          "Preços médios (25.00 - 44.99 £)",
          "Preços baixos (10,00 - 24,99 £)",
          "Preços altos ( 45,00 - 59,99 £)",
          "Preços baixos (10,00 - 24,99 £)",
          "Preços altos ( 45,00 - 59,99 £)",
          "Preços altos ( 45,00 - 59,99 £)",
          "Preços baixos (10,00 - 24,99 £)",
          "Preços baixos (10,00 - 24,99 £)",
          "Preços altos ( 45,00 - 59,99 £)",
          "Preços baixos (10,00 - 24,99 £)",
          "Preços baixos (10,00 - 24,99 £)",
          "Preços médios (25.00 - 44.99 £)",
          "Preços baixos (10,00 - 24,99 £)",
          "Preços altos ( 45,00 - 59,99 £)",
          "Preços médios (25.00 - 44.99 £)",
          "Preços baixos (10,00 - 24,99 £)",
          "Preços altos ( 45,00 - 59,99 £)",
          "Preços altos ( 45,00 - 59,99 £)",
          "Preços altos ( 45,00 - 59,99 £)",
          "Preços baixos (10,00 - 24,99 £)",
          "Preços baixos (10,00 - 24,99 £)",
          "Preços baixos (10,00 - 24,99 £)",
          "Preços baixos (10,00 - 24,99 £)",
          "Preços baixos (10,00 - 24,99 £)",
          "Preços baixos (10,00 - 24,99 £)",
          "Preços baixos (10,00 - 24,99 £)",
          "Preços altos ( 45,00 - 59,99 £)",
          "Preços baixos (10,00 - 24,99 £)",
          "Preços altos ( 45,00 - 59,99 £)",
          "Preços altos ( 45,00 - 59,99 £)",
          "Preços altos ( 45,00 - 59,99 £)",
          "Preços altos ( 45,00 - 59,99 £)",
          "Preços baixos (10,00 - 24,99 £)",
          "Preços médios (25.00 - 44.99 £)",
          "Preços médios (25.00 - 44.99 £)",
          "Preços baixos (10,00 - 24,99 £)",
          "Preços baixos (10,00 - 24,99 £)",
          "Preços altos ( 45,00 - 59,99 £)",
          "Preços baixos (10,00 - 24,99 £)",
          "Preços altos ( 45,00 - 59,99 £)",
          "Preços altos ( 45,00 - 59,99 £)",
          "Preços altos ( 45,00 - 59,99 £)",
          "Preços médios (25.00 - 44.99 £)",
          "Preços baixos (10,00 - 24,99 £)",
          "Preços altos ( 45,00 - 59,99 £)",
          "Preços baixos (10,00 - 24,99 £)",
          "Preços médios (25.00 - 44.99 £)",
          "Preços médios (25.00 - 44.99 £)",
          "Preços médios (25.00 - 44.99 £)",
          "Preços médios (25.00 - 44.99 £)",
          "Preços altos ( 45,00 - 59,99 £)",
          "Preços altos ( 45,00 - 59,99 £)",
          "Preços altos ( 45,00 - 59,99 £)",
          "Preços médios (25.00 - 44.99 £)",
          "Preços médios (25.00 - 44.99 £)",
          "Preços baixos (10,00 - 24,99 £)",
          "Preços médios (25.00 - 44.99 £)",
          "Preços médios (25.00 - 44.99 £)",
          "Preços médios (25.00 - 44.99 £)",
          "Preços médios (25.00 - 44.99 £)",
          "Preços médios (25.00 - 44.99 £)",
          "Preços médios (25.00 - 44.99 £)",
          "Preços altos ( 45,00 - 59,99 £)",
          "Preços médios (25.00 - 44.99 £)",
          "Preços médios (25.00 - 44.99 £)",
          "Preços médios (25.00 - 44.99 £)",
          "Preços médios (25.00 - 44.99 £)",
          "Preços altos ( 45,00 - 59,99 £)",
          "Preços médios (25.00 - 44.99 £)",
          "Preços baixos (10,00 - 24,99 £)",
          "Preços baixos (10,00 - 24,99 £)",
          "Preços altos ( 45,00 - 59,99 £)",
          "Preços médios (25.00 - 44.99 £)",
          "Preços altos ( 45,00 - 59,99 £)",
          "Preços médios (25.00 - 44.99 £)",
          "Preços altos ( 45,00 - 59,99 £)",
          "Preços médios (25.00 - 44.99 £)",
          "Preços médios (25.00 - 44.99 £)",
          "Preços baixos (10,00 - 24,99 £)",
          "Preços médios (25.00 - 44.99 £)",
          "Preços médios (25.00 - 44.99 £)",
          "Preços altos ( 45,00 - 59,99 £)",
          "Preços altos ( 45,00 - 59,99 £)",
          "Preços baixos (10,00 - 24,99 £)",
          "Preços altos ( 45,00 - 59,99 £)",
          "Preços médios (25.00 - 44.99 £)",
          "Preços baixos (10,00 - 24,99 £)",
          "Preços médios (25.00 - 44.99 £)",
          "Preços baixos (10,00 - 24,99 £)",
          "Preços altos ( 45,00 - 59,99 £)",
          "Preços altos ( 45,00 - 59,99 £)",
          "Preços médios (25.00 - 44.99 £)",
          "Preços médios (25.00 - 44.99 £)",
          "Preços médios (25.00 - 44.99 £)",
          "Preços baixos (10,00 - 24,99 £)",
          "Preços baixos (10,00 - 24,99 £)",
          "Preços altos ( 45,00 - 59,99 £)",
          "Preços altos ( 45,00 - 59,99 £)",
          "Preços baixos (10,00 - 24,99 £)",
          "Preços altos ( 45,00 - 59,99 £)",
          "Preços médios (25.00 - 44.99 £)",
          "Preços baixos (10,00 - 24,99 £)",
          "Preços baixos (10,00 - 24,99 £)",
          "Preços médios (25.00 - 44.99 £)",
          "Preços altos ( 45,00 - 59,99 £)",
          "Preços médios (25.00 - 44.99 £)",
          "Preços médios (25.00 - 44.99 £)",
          "Preços médios (25.00 - 44.99 £)",
          "Preços médios (25.00 - 44.99 £)",
          "Preços médios (25.00 - 44.99 £)",
          "Preços baixos (10,00 - 24,99 £)",
          "Preços médios (25.00 - 44.99 £)",
          "Preços altos ( 45,00 - 59,99 £)",
          "Preços baixos (10,00 - 24,99 £)",
          "Preços médios (25.00 - 44.99 £)",
          "Preços médios (25.00 - 44.99 £)",
          "Preços baixos (10,00 - 24,99 £)",
          "Preços médios (25.00 - 44.99 £)",
          "Preços altos ( 45,00 - 59,99 £)",
          "Preços médios (25.00 - 44.99 £)",
          "Preços médios (25.00 - 44.99 £)",
          "Preços baixos (10,00 - 24,99 £)",
          "Preços baixos (10,00 - 24,99 £)",
          "Preços baixos (10,00 - 24,99 £)",
          "Preços médios (25.00 - 44.99 £)",
          "Preços altos ( 45,00 - 59,99 £)",
          "Preços altos ( 45,00 - 59,99 £)",
          "Preços médios (25.00 - 44.99 £)",
          "Preços médios (25.00 - 44.99 £)",
          "Preços altos ( 45,00 - 59,99 £)",
          "Preços baixos (10,00 - 24,99 £)",
          "Preços médios (25.00 - 44.99 £)",
          "Preços altos ( 45,00 - 59,99 £)",
          "Preços médios (25.00 - 44.99 £)",
          "Preços baixos (10,00 - 24,99 £)",
          "Preços altos ( 45,00 - 59,99 £)",
          "Preços médios (25.00 - 44.99 £)",
          "Preços altos ( 45,00 - 59,99 £)",
          "Preços altos ( 45,00 - 59,99 £)",
          "Preços médios (25.00 - 44.99 £)",
          "Preços médios (25.00 - 44.99 £)",
          "Preços baixos (10,00 - 24,99 £)",
          "Preços altos ( 45,00 - 59,99 £)",
          "Preços altos ( 45,00 - 59,99 £)",
          "Preços baixos (10,00 - 24,99 £)",
          "Preços baixos (10,00 - 24,99 £)",
          "Preços baixos (10,00 - 24,99 £)",
          "Preços altos ( 45,00 - 59,99 £)",
          "Preços médios (25.00 - 44.99 £)",
          "Preços altos ( 45,00 - 59,99 £)",
          "Preços médios (25.00 - 44.99 £)",
          "Preços médios (25.00 - 44.99 £)",
          "Preços altos ( 45,00 - 59,99 £)",
          "Preços médios (25.00 - 44.99 £)",
          "Preços altos ( 45,00 - 59,99 £)",
          "Preços médios (25.00 - 44.99 £)",
          "Preços altos ( 45,00 - 59,99 £)",
          "Preços baixos (10,00 - 24,99 £)",
          "Preços altos ( 45,00 - 59,99 £)",
          "Preços médios (25.00 - 44.99 £)",
          "Preços médios (25.00 - 44.99 £)",
          "Preços médios (25.00 - 44.99 £)",
          "Preços baixos (10,00 - 24,99 £)",
          "Preços médios (25.00 - 44.99 £)",
          "Preços baixos (10,00 - 24,99 £)",
          "Preços altos ( 45,00 - 59,99 £)",
          "Preços baixos (10,00 - 24,99 £)",
          "Preços baixos (10,00 - 24,99 £)",
          "Preços baixos (10,00 - 24,99 £)",
          "Preços altos ( 45,00 - 59,99 £)",
          "Preços altos ( 45,00 - 59,99 £)",
          "Preços médios (25.00 - 44.99 £)",
          "Preços baixos (10,00 - 24,99 £)",
          "Preços altos ( 45,00 - 59,99 £)",
          "Preços altos ( 45,00 - 59,99 £)",
          "Preços baixos (10,00 - 24,99 £)",
          "Preços médios (25.00 - 44.99 £)",
          "Preços altos ( 45,00 - 59,99 £)",
          "Preços altos ( 45,00 - 59,99 £)",
          "Preços baixos (10,00 - 24,99 £)",
          "Preços médios (25.00 - 44.99 £)",
          "Preços altos ( 45,00 - 59,99 £)",
          "Preços baixos (10,00 - 24,99 £)",
          "Preços médios (25.00 - 44.99 £)",
          "Preços médios (25.00 - 44.99 £)",
          "Preços altos ( 45,00 - 59,99 £)",
          "Preços médios (25.00 - 44.99 £)",
          "Preços baixos (10,00 - 24,99 £)",
          "Preços altos ( 45,00 - 59,99 £)",
          "Preços médios (25.00 - 44.99 £)",
          "Preços altos ( 45,00 - 59,99 £)",
          "Preços altos ( 45,00 - 59,99 £)",
          "Preços médios (25.00 - 44.99 £)",
          "Preços altos ( 45,00 - 59,99 £)",
          "Preços baixos (10,00 - 24,99 £)",
          "Preços médios (25.00 - 44.99 £)",
          "Preços baixos (10,00 - 24,99 £)",
          "Preços médios (25.00 - 44.99 £)",
          "Preços altos ( 45,00 - 59,99 £)",
          "Preços baixos (10,00 - 24,99 £)",
          "Preços médios (25.00 - 44.99 £)",
          "Preços médios (25.00 - 44.99 £)",
          "Preços baixos (10,00 - 24,99 £)",
          "Preços altos ( 45,00 - 59,99 £)",
          "Preços baixos (10,00 - 24,99 £)",
          "Preços altos ( 45,00 - 59,99 £)",
          "Preços altos ( 45,00 - 59,99 £)",
          "Preços altos ( 45,00 - 59,99 £)",
          "Preços médios (25.00 - 44.99 £)",
          "Preços médios (25.00 - 44.99 £)",
          "Preços baixos (10,00 - 24,99 £)",
          "Preços médios (25.00 - 44.99 £)",
          "Preços baixos (10,00 - 24,99 £)",
          "Preços altos ( 45,00 - 59,99 £)",
          "Preços médios (25.00 - 44.99 £)",
          "Preços médios (25.00 - 44.99 £)",
          "Preços médios (25.00 - 44.99 £)",
          "Preços baixos (10,00 - 24,99 £)",
          "Preços baixos (10,00 - 24,99 £)",
          "Preços baixos (10,00 - 24,99 £)",
          "Preços baixos (10,00 - 24,99 £)",
          "Preços médios (25.00 - 44.99 £)",
          "Preços baixos (10,00 - 24,99 £)",
          "Preços baixos (10,00 - 24,99 £)",
          "Preços baixos (10,00 - 24,99 £)",
          "Preços baixos (10,00 - 24,99 £)",
          "Preços altos ( 45,00 - 59,99 £)",
          "Preços médios (25.00 - 44.99 £)",
          "Preços baixos (10,00 - 24,99 £)",
          "Preços altos ( 45,00 - 59,99 £)",
          "Preços médios (25.00 - 44.99 £)",
          "Preços médios (25.00 - 44.99 £)",
          "Preços baixos (10,00 - 24,99 £)",
          "Preços baixos (10,00 - 24,99 £)",
          "Preços médios (25.00 - 44.99 £)",
          "Preços baixos (10,00 - 24,99 £)",
          "Preços baixos (10,00 - 24,99 £)",
          "Preços médios (25.00 - 44.99 £)",
          "Preços médios (25.00 - 44.99 £)",
          "Preços médios (25.00 - 44.99 £)",
          "Preços altos ( 45,00 - 59,99 £)",
          "Preços altos ( 45,00 - 59,99 £)",
          "Preços médios (25.00 - 44.99 £)",
          "Preços baixos (10,00 - 24,99 £)",
          "Preços baixos (10,00 - 24,99 £)",
          "Preços médios (25.00 - 44.99 £)",
          "Preços altos ( 45,00 - 59,99 £)",
          "Preços baixos (10,00 - 24,99 £)",
          "Preços altos ( 45,00 - 59,99 £)",
          "Preços altos ( 45,00 - 59,99 £)",
          "Preços médios (25.00 - 44.99 £)",
          "Preços altos ( 45,00 - 59,99 £)",
          "Preços baixos (10,00 - 24,99 £)",
          "Preços baixos (10,00 - 24,99 £)",
          "Preços altos ( 45,00 - 59,99 £)",
          "Preços médios (25.00 - 44.99 £)",
          "Preços altos ( 45,00 - 59,99 £)",
          "Preços altos ( 45,00 - 59,99 £)",
          "Preços médios (25.00 - 44.99 £)",
          "Preços médios (25.00 - 44.99 £)",
          "Preços médios (25.00 - 44.99 £)",
          "Preços baixos (10,00 - 24,99 £)",
          "Preços baixos (10,00 - 24,99 £)",
          "Preços médios (25.00 - 44.99 £)",
          "Preços altos ( 45,00 - 59,99 £)",
          "Preços médios (25.00 - 44.99 £)",
          "Preços altos ( 45,00 - 59,99 £)",
          "Preços altos ( 45,00 - 59,99 £)",
          "Preços baixos (10,00 - 24,99 £)",
          "Preços altos ( 45,00 - 59,99 £)",
          "Preços altos ( 45,00 - 59,99 £)",
          "Preços baixos (10,00 - 24,99 £)",
          "Preços baixos (10,00 - 24,99 £)",
          "Preços baixos (10,00 - 24,99 £)",
          "Preços baixos (10,00 - 24,99 £)",
          "Preços altos ( 45,00 - 59,99 £)",
          "Preços baixos (10,00 - 24,99 £)",
          "Preços médios (25.00 - 44.99 £)",
          "Preços médios (25.00 - 44.99 £)",
          "Preços médios (25.00 - 44.99 £)",
          "Preços baixos (10,00 - 24,99 £)",
          "Preços baixos (10,00 - 24,99 £)",
          "Preços médios (25.00 - 44.99 £)",
          "Preços altos ( 45,00 - 59,99 £)",
          "Preços baixos (10,00 - 24,99 £)",
          "Preços médios (25.00 - 44.99 £)",
          "Preços médios (25.00 - 44.99 £)",
          "Preços médios (25.00 - 44.99 £)",
          "Preços altos ( 45,00 - 59,99 £)",
          "Preços médios (25.00 - 44.99 £)",
          "Preços baixos (10,00 - 24,99 £)",
          "Preços altos ( 45,00 - 59,99 £)",
          "Preços baixos (10,00 - 24,99 £)",
          "Preços altos ( 45,00 - 59,99 £)",
          "Preços baixos (10,00 - 24,99 £)",
          "Preços médios (25.00 - 44.99 £)",
          "Preços altos ( 45,00 - 59,99 £)",
          "Preços altos ( 45,00 - 59,99 £)",
          "Preços altos ( 45,00 - 59,99 £)",
          "Preços médios (25.00 - 44.99 £)",
          "Preços altos ( 45,00 - 59,99 £)",
          "Preços médios (25.00 - 44.99 £)",
          "Preços baixos (10,00 - 24,99 £)",
          "Preços baixos (10,00 - 24,99 £)",
          "Preços altos ( 45,00 - 59,99 £)",
          "Preços baixos (10,00 - 24,99 £)",
          "Preços médios (25.00 - 44.99 £)",
          "Preços médios (25.00 - 44.99 £)",
          "Preços baixos (10,00 - 24,99 £)",
          "Preços médios (25.00 - 44.99 £)",
          "Preços baixos (10,00 - 24,99 £)",
          "Preços altos ( 45,00 - 59,99 £)",
          "Preços baixos (10,00 - 24,99 £)",
          "Preços altos ( 45,00 - 59,99 £)",
          "Preços médios (25.00 - 44.99 £)",
          "Preços médios (25.00 - 44.99 £)",
          "Preços médios (25.00 - 44.99 £)",
          "Preços médios (25.00 - 44.99 £)",
          "Preços altos ( 45,00 - 59,99 £)",
          "Preços baixos (10,00 - 24,99 £)",
          "Preços baixos (10,00 - 24,99 £)",
          "Preços altos ( 45,00 - 59,99 £)",
          "Preços baixos (10,00 - 24,99 £)",
          "Preços altos ( 45,00 - 59,99 £)",
          "Preços baixos (10,00 - 24,99 £)",
          "Preços baixos (10,00 - 24,99 £)",
          "Preços altos ( 45,00 - 59,99 £)",
          "Preços altos ( 45,00 - 59,99 £)",
          "Preços baixos (10,00 - 24,99 £)",
          "Preços baixos (10,00 - 24,99 £)",
          "Preços altos ( 45,00 - 59,99 £)",
          "Preços altos ( 45,00 - 59,99 £)",
          "Preços baixos (10,00 - 24,99 £)",
          "Preços médios (25.00 - 44.99 £)",
          "Preços baixos (10,00 - 24,99 £)",
          "Preços médios (25.00 - 44.99 £)",
          "Preços médios (25.00 - 44.99 £)",
          "Preços médios (25.00 - 44.99 £)",
          "Preços baixos (10,00 - 24,99 £)",
          "Preços médios (25.00 - 44.99 £)",
          "Preços médios (25.00 - 44.99 £)",
          "Preços altos ( 45,00 - 59,99 £)",
          "Preços médios (25.00 - 44.99 £)",
          "Preços médios (25.00 - 44.99 £)",
          "Preços altos ( 45,00 - 59,99 £)",
          "Preços médios (25.00 - 44.99 £)",
          "Preços baixos (10,00 - 24,99 £)",
          "Preços altos ( 45,00 - 59,99 £)",
          "Preços médios (25.00 - 44.99 £)",
          "Preços médios (25.00 - 44.99 £)",
          "Preços altos ( 45,00 - 59,99 £)",
          "Preços médios (25.00 - 44.99 £)",
          "Preços médios (25.00 - 44.99 £)",
          "Preços altos ( 45,00 - 59,99 £)",
          "Preços altos ( 45,00 - 59,99 £)",
          "Preços baixos (10,00 - 24,99 £)",
          "Preços altos ( 45,00 - 59,99 £)",
          "Preços médios (25.00 - 44.99 £)",
          "Preços baixos (10,00 - 24,99 £)",
          "Preços altos ( 45,00 - 59,99 £)",
          "Preços baixos (10,00 - 24,99 £)",
          "Preços altos ( 45,00 - 59,99 £)",
          "Preços médios (25.00 - 44.99 £)",
          "Preços baixos (10,00 - 24,99 £)",
          "Preços baixos (10,00 - 24,99 £)",
          "Preços altos ( 45,00 - 59,99 £)",
          "Preços médios (25.00 - 44.99 £)",
          "Preços altos ( 45,00 - 59,99 £)",
          "Preços médios (25.00 - 44.99 £)",
          "Preços baixos (10,00 - 24,99 £)",
          "Preços baixos (10,00 - 24,99 £)",
          "Preços médios (25.00 - 44.99 £)",
          "Preços médios (25.00 - 44.99 £)",
          "Preços baixos (10,00 - 24,99 £)",
          "Preços baixos (10,00 - 24,99 £)",
          "Preços altos ( 45,00 - 59,99 £)",
          "Preços altos ( 45,00 - 59,99 £)",
          "Preços médios (25.00 - 44.99 £)",
          "Preços altos ( 45,00 - 59,99 £)",
          "Preços baixos (10,00 - 24,99 £)",
          "Preços médios (25.00 - 44.99 £)",
          "Preços baixos (10,00 - 24,99 £)",
          "Preços médios (25.00 - 44.99 £)",
          "Preços médios (25.00 - 44.99 £)",
          "Preços altos ( 45,00 - 59,99 £)",
          "Preços altos ( 45,00 - 59,99 £)",
          "Preços altos ( 45,00 - 59,99 £)",
          "Preços baixos (10,00 - 24,99 £)",
          "Preços altos ( 45,00 - 59,99 £)",
          "Preços altos ( 45,00 - 59,99 £)",
          "Preços médios (25.00 - 44.99 £)",
          "Preços baixos (10,00 - 24,99 £)",
          "Preços altos ( 45,00 - 59,99 £)",
          "Preços baixos (10,00 - 24,99 £)",
          "Preços baixos (10,00 - 24,99 £)",
          "Preços altos ( 45,00 - 59,99 £)",
          "Preços médios (25.00 - 44.99 £)",
          "Preços médios (25.00 - 44.99 £)",
          "Preços baixos (10,00 - 24,99 £)",
          "Preços médios (25.00 - 44.99 £)",
          "Preços baixos (10,00 - 24,99 £)",
          "Preços médios (25.00 - 44.99 £)",
          "Preços médios (25.00 - 44.99 £)",
          "Preços médios (25.00 - 44.99 £)",
          "Preços altos ( 45,00 - 59,99 £)",
          "Preços baixos (10,00 - 24,99 £)",
          "Preços médios (25.00 - 44.99 £)",
          "Preços baixos (10,00 - 24,99 £)",
          "Preços médios (25.00 - 44.99 £)",
          "Preços médios (25.00 - 44.99 £)",
          "Preços baixos (10,00 - 24,99 £)",
          "Preços médios (25.00 - 44.99 £)",
          "Preços médios (25.00 - 44.99 £)",
          "Preços médios (25.00 - 44.99 £)",
          "Preços altos ( 45,00 - 59,99 £)",
          "Preços altos ( 45,00 - 59,99 £)",
          "Preços altos ( 45,00 - 59,99 £)",
          "Preços médios (25.00 - 44.99 £)",
          "Preços baixos (10,00 - 24,99 £)",
          "Preços baixos (10,00 - 24,99 £)",
          "Preços médios (25.00 - 44.99 £)",
          "Preços altos ( 45,00 - 59,99 £)",
          "Preços médios (25.00 - 44.99 £)",
          "Preços baixos (10,00 - 24,99 £)",
          "Preços altos ( 45,00 - 59,99 £)",
          "Preços médios (25.00 - 44.99 £)",
          "Preços médios (25.00 - 44.99 £)",
          "Preços altos ( 45,00 - 59,99 £)",
          "Preços altos ( 45,00 - 59,99 £)",
          "Preços médios (25.00 - 44.99 £)",
          "Preços médios (25.00 - 44.99 £)",
          "Preços baixos (10,00 - 24,99 £)",
          "Preços altos ( 45,00 - 59,99 £)",
          "Preços médios (25.00 - 44.99 £)",
          "Preços médios (25.00 - 44.99 £)",
          "Preços altos ( 45,00 - 59,99 £)",
          "Preços baixos (10,00 - 24,99 £)",
          "Preços médios (25.00 - 44.99 £)",
          "Preços médios (25.00 - 44.99 £)",
          "Preços médios (25.00 - 44.99 £)",
          "Preços altos ( 45,00 - 59,99 £)",
          "Preços médios (25.00 - 44.99 £)",
          "Preços altos ( 45,00 - 59,99 £)",
          "Preços médios (25.00 - 44.99 £)",
          "Preços baixos (10,00 - 24,99 £)",
          "Preços médios (25.00 - 44.99 £)",
          "Preços médios (25.00 - 44.99 £)",
          "Preços médios (25.00 - 44.99 £)",
          "Preços médios (25.00 - 44.99 £)",
          "Preços altos ( 45,00 - 59,99 £)",
          "Preços altos ( 45,00 - 59,99 £)",
          "Preços altos ( 45,00 - 59,99 £)",
          "Preços baixos (10,00 - 24,99 £)",
          "Preços baixos (10,00 - 24,99 £)",
          "Preços médios (25.00 - 44.99 £)",
          "Preços médios (25.00 - 44.99 £)",
          "Preços médios (25.00 - 44.99 £)",
          "Preços baixos (10,00 - 24,99 £)",
          "Preços altos ( 45,00 - 59,99 £)",
          "Preços altos ( 45,00 - 59,99 £)",
          "Preços altos ( 45,00 - 59,99 £)",
          "Preços baixos (10,00 - 24,99 £)",
          "Preços médios (25.00 - 44.99 £)",
          "Preços baixos (10,00 - 24,99 £)",
          "Preços altos ( 45,00 - 59,99 £)",
          "Preços baixos (10,00 - 24,99 £)",
          "Preços altos ( 45,00 - 59,99 £)",
          "Preços baixos (10,00 - 24,99 £)",
          "Preços médios (25.00 - 44.99 £)",
          "Preços altos ( 45,00 - 59,99 £)",
          "Preços médios (25.00 - 44.99 £)",
          "Preços médios (25.00 - 44.99 £)",
          "Preços baixos (10,00 - 24,99 £)",
          "Preços médios (25.00 - 44.99 £)",
          "Preços altos ( 45,00 - 59,99 £)",
          "Preços baixos (10,00 - 24,99 £)",
          "Preços médios (25.00 - 44.99 £)",
          "Preços baixos (10,00 - 24,99 £)",
          "Preços médios (25.00 - 44.99 £)",
          "Preços altos ( 45,00 - 59,99 £)",
          "Preços baixos (10,00 - 24,99 £)",
          "Preços baixos (10,00 - 24,99 £)",
          "Preços médios (25.00 - 44.99 £)",
          "Preços médios (25.00 - 44.99 £)",
          "Preços baixos (10,00 - 24,99 £)",
          "Preços médios (25.00 - 44.99 £)",
          "Preços baixos (10,00 - 24,99 £)",
          "Preços baixos (10,00 - 24,99 £)",
          "Preços altos ( 45,00 - 59,99 £)",
          "Preços médios (25.00 - 44.99 £)",
          "Preços médios (25.00 - 44.99 £)",
          "Preços médios (25.00 - 44.99 £)",
          "Preços baixos (10,00 - 24,99 £)",
          "Preços médios (25.00 - 44.99 £)",
          "Preços altos ( 45,00 - 59,99 £)",
          "Preços médios (25.00 - 44.99 £)",
          "Preços altos ( 45,00 - 59,99 £)",
          "Preços baixos (10,00 - 24,99 £)",
          "Preços médios (25.00 - 44.99 £)",
          "Preços altos ( 45,00 - 59,99 £)",
          "Preços baixos (10,00 - 24,99 £)",
          "Preços baixos (10,00 - 24,99 £)",
          "Preços baixos (10,00 - 24,99 £)",
          "Preços baixos (10,00 - 24,99 £)",
          "Preços baixos (10,00 - 24,99 £)",
          "Preços médios (25.00 - 44.99 £)",
          "Preços médios (25.00 - 44.99 £)",
          "Preços altos ( 45,00 - 59,99 £)",
          "Preços altos ( 45,00 - 59,99 £)",
          "Preços baixos (10,00 - 24,99 £)",
          "Preços altos ( 45,00 - 59,99 £)",
          "Preços baixos (10,00 - 24,99 £)",
          "Preços médios (25.00 - 44.99 £)",
          "Preços médios (25.00 - 44.99 £)",
          "Preços altos ( 45,00 - 59,99 £)",
          "Preços médios (25.00 - 44.99 £)",
          "Preços baixos (10,00 - 24,99 £)",
          "Preços altos ( 45,00 - 59,99 £)",
          "Preços médios (25.00 - 44.99 £)",
          "Preços altos ( 45,00 - 59,99 £)",
          "Preços médios (25.00 - 44.99 £)",
          "Preços altos ( 45,00 - 59,99 £)",
          "Preços baixos (10,00 - 24,99 £)",
          "Preços médios (25.00 - 44.99 £)",
          "Preços médios (25.00 - 44.99 £)",
          "Preços médios (25.00 - 44.99 £)",
          "Preços baixos (10,00 - 24,99 £)",
          "Preços médios (25.00 - 44.99 £)",
          "Preços médios (25.00 - 44.99 £)",
          "Preços médios (25.00 - 44.99 £)",
          "Preços altos ( 45,00 - 59,99 £)",
          "Preços médios (25.00 - 44.99 £)",
          "Preços médios (25.00 - 44.99 £)",
          "Preços altos ( 45,00 - 59,99 £)",
          "Preços médios (25.00 - 44.99 £)",
          "Preços altos ( 45,00 - 59,99 £)",
          "Preços médios (25.00 - 44.99 £)",
          "Preços altos ( 45,00 - 59,99 £)",
          "Preços altos ( 45,00 - 59,99 £)",
          "Preços médios (25.00 - 44.99 £)",
          "Preços baixos (10,00 - 24,99 £)",
          "Preços médios (25.00 - 44.99 £)",
          "Preços médios (25.00 - 44.99 £)",
          "Preços baixos (10,00 - 24,99 £)",
          "Preços baixos (10,00 - 24,99 £)",
          "Preços baixos (10,00 - 24,99 £)",
          "Preços baixos (10,00 - 24,99 £)",
          "Preços baixos (10,00 - 24,99 £)",
          "Preços baixos (10,00 - 24,99 £)",
          "Preços altos ( 45,00 - 59,99 £)",
          "Preços médios (25.00 - 44.99 £)",
          "Preços médios (25.00 - 44.99 £)",
          "Preços baixos (10,00 - 24,99 £)",
          "Preços médios (25.00 - 44.99 £)",
          "Preços médios (25.00 - 44.99 £)",
          "Preços baixos (10,00 - 24,99 £)",
          "Preços médios (25.00 - 44.99 £)",
          "Preços altos ( 45,00 - 59,99 £)",
          "Preços baixos (10,00 - 24,99 £)",
          "Preços médios (25.00 - 44.99 £)",
          "Preços médios (25.00 - 44.99 £)",
          "Preços médios (25.00 - 44.99 £)",
          "Preços médios (25.00 - 44.99 £)",
          "Preços altos ( 45,00 - 59,99 £)",
          "Preços baixos (10,00 - 24,99 £)",
          "Preços baixos (10,00 - 24,99 £)",
          "Preços médios (25.00 - 44.99 £)",
          "Preços médios (25.00 - 44.99 £)",
          "Preços altos ( 45,00 - 59,99 £)",
          "Preços médios (25.00 - 44.99 £)",
          "Preços altos ( 45,00 - 59,99 £)",
          "Preços médios (25.00 - 44.99 £)",
          "Preços altos ( 45,00 - 59,99 £)",
          "Preços altos ( 45,00 - 59,99 £)",
          "Preços médios (25.00 - 44.99 £)",
          "Preços médios (25.00 - 44.99 £)",
          "Preços médios (25.00 - 44.99 £)",
          "Preços médios (25.00 - 44.99 £)",
          "Preços médios (25.00 - 44.99 £)",
          "Preços baixos (10,00 - 24,99 £)",
          "Preços altos ( 45,00 - 59,99 £)",
          "Preços altos ( 45,00 - 59,99 £)",
          "Preços médios (25.00 - 44.99 £)",
          "Preços médios (25.00 - 44.99 £)",
          "Preços médios (25.00 - 44.99 £)",
          "Preços altos ( 45,00 - 59,99 £)",
          "Preços médios (25.00 - 44.99 £)",
          "Preços altos ( 45,00 - 59,99 £)",
          "Preços médios (25.00 - 44.99 £)",
          "Preços médios (25.00 - 44.99 £)",
          "Preços médios (25.00 - 44.99 £)",
          "Preços médios (25.00 - 44.99 £)",
          "Preços médios (25.00 - 44.99 £)",
          "Preços altos ( 45,00 - 59,99 £)",
          "Preços altos ( 45,00 - 59,99 £)",
          "Preços médios (25.00 - 44.99 £)",
          "Preços baixos (10,00 - 24,99 £)",
          "Preços médios (25.00 - 44.99 £)",
          "Preços médios (25.00 - 44.99 £)",
          "Preços médios (25.00 - 44.99 £)",
          "Preços médios (25.00 - 44.99 £)",
          "Preços baixos (10,00 - 24,99 £)",
          "Preços médios (25.00 - 44.99 £)",
          "Preços médios (25.00 - 44.99 £)",
          "Preços altos ( 45,00 - 59,99 £)",
          "Preços altos ( 45,00 - 59,99 £)",
          "Preços baixos (10,00 - 24,99 £)",
          "Preços altos ( 45,00 - 59,99 £)",
          "Preços médios (25.00 - 44.99 £)"
         ],
         "legendgroup": "",
         "marker": {
          "colors": [
           "#D62728",
           "#D62728",
           "#D62728",
           "#D62728",
           "#D62728",
           "blue",
           "#9467BD",
           "blue",
           "blue",
           "#D62728",
           "blue",
           "blue",
           "blue",
           "#D62728",
           "#9467BD",
           "#D62728",
           "blue",
           "#9467BD",
           "#D62728",
           "#D62728",
           "blue",
           "#9467BD",
           "#9467BD",
           "#9467BD",
           "#9467BD",
           "#D62728",
           "blue",
           "#D62728",
           "#9467BD",
           "#9467BD",
           "blue",
           "#9467BD",
           "blue",
           "#9467BD",
           "blue",
           "#9467BD",
           "blue",
           "blue",
           "#D62728",
           "#9467BD",
           "#D62728",
           "#9467BD",
           "#D62728",
           "blue",
           "#D62728",
           "#9467BD",
           "#D62728",
           "blue",
           "#9467BD",
           "blue",
           "#9467BD",
           "blue",
           "#9467BD",
           "blue",
           "blue",
           "blue",
           "#D62728",
           "#D62728",
           "#D62728",
           "#D62728",
           "#9467BD",
           "#D62728",
           "#9467BD",
           "blue",
           "blue",
           "blue",
           "#9467BD",
           "#D62728",
           "#D62728",
           "#D62728",
           "#9467BD",
           "blue",
           "#9467BD",
           "#9467BD",
           "#9467BD",
           "#9467BD",
           "#9467BD",
           "#D62728",
           "blue",
           "#D62728",
           "blue",
           "blue",
           "blue",
           "#9467BD",
           "blue",
           "blue",
           "#D62728",
           "#D62728",
           "blue",
           "blue",
           "#9467BD",
           "#D62728",
           "blue",
           "#D62728",
           "#D62728",
           "blue",
           "#9467BD",
           "#D62728",
           "#9467BD",
           "blue",
           "#D62728",
           "#9467BD",
           "#D62728",
           "#D62728",
           "#9467BD",
           "blue",
           "#9467BD",
           "blue",
           "blue",
           "#D62728",
           "#9467BD",
           "#D62728",
           "#9467BD",
           "#9467BD",
           "blue",
           "#9467BD",
           "#9467BD",
           "#D62728",
           "#9467BD",
           "#9467BD",
           "#9467BD",
           "#9467BD",
           "#D62728",
           "blue",
           "#D62728",
           "#9467BD",
           "#D62728",
           "#D62728",
           "blue",
           "#9467BD",
           "blue",
           "#9467BD",
           "#9467BD",
           "#D62728",
           "#D62728",
           "#D62728",
           "blue",
           "#9467BD",
           "blue",
           "blue",
           "#9467BD",
           "#9467BD",
           "#D62728",
           "#9467BD",
           "blue",
           "#9467BD",
           "#9467BD",
           "#9467BD",
           "#9467BD",
           "#9467BD",
           "#D62728",
           "#9467BD",
           "blue",
           "#9467BD",
           "#9467BD",
           "#9467BD",
           "#D62728",
           "blue",
           "blue",
           "#9467BD",
           "#9467BD",
           "#9467BD",
           "#9467BD",
           "blue",
           "#9467BD",
           "#D62728",
           "blue",
           "#9467BD",
           "blue",
           "blue",
           "#9467BD",
           "blue",
           "#9467BD",
           "#9467BD",
           "blue",
           "#9467BD",
           "blue",
           "#9467BD",
           "#9467BD",
           "#9467BD",
           "#9467BD",
           "blue",
           "blue",
           "blue",
           "#D62728",
           "blue",
           "#D62728",
           "#9467BD",
           "blue",
           "#D62728",
           "#9467BD",
           "blue",
           "#9467BD",
           "#D62728",
           "#9467BD",
           "#D62728",
           "#9467BD",
           "#9467BD",
           "#9467BD",
           "#9467BD",
           "blue",
           "blue",
           "#D62728",
           "#9467BD",
           "#9467BD",
           "#9467BD",
           "blue",
           "#9467BD",
           "blue",
           "blue",
           "#D62728",
           "blue",
           "#9467BD",
           "#D62728",
           "blue",
           "blue",
           "#9467BD",
           "#9467BD",
           "blue",
           "#D62728",
           "#9467BD",
           "blue",
           "#D62728",
           "blue",
           "#9467BD",
           "#D62728",
           "#D62728",
           "blue",
           "#9467BD",
           "#9467BD",
           "#9467BD",
           "#D62728",
           "#9467BD",
           "#9467BD",
           "#9467BD",
           "#D62728",
           "#D62728",
           "#9467BD",
           "#9467BD",
           "#D62728",
           "blue",
           "#9467BD",
           "blue",
           "#9467BD",
           "blue",
           "blue",
           "#D62728",
           "#9467BD",
           "#D62728",
           "#9467BD",
           "blue",
           "#9467BD",
           "#D62728",
           "#9467BD",
           "#9467BD",
           "blue",
           "#9467BD",
           "blue",
           "blue",
           "#D62728",
           "#D62728",
           "blue",
           "#9467BD",
           "#9467BD",
           "#9467BD",
           "#D62728",
           "#9467BD",
           "#D62728",
           "#D62728",
           "#D62728",
           "#D62728",
           "#9467BD",
           "blue",
           "#D62728",
           "blue",
           "#D62728",
           "blue",
           "blue",
           "blue",
           "#9467BD",
           "#9467BD",
           "blue",
           "#9467BD",
           "#9467BD",
           "#9467BD",
           "#9467BD",
           "#D62728",
           "#D62728",
           "#D62728",
           "blue",
           "#9467BD",
           "#D62728",
           "#9467BD",
           "blue",
           "blue",
           "#9467BD",
           "#9467BD",
           "blue",
           "blue",
           "#D62728",
           "#9467BD",
           "#D62728",
           "blue",
           "#9467BD",
           "#D62728",
           "#D62728",
           "blue",
           "#D62728",
           "#9467BD",
           "#D62728",
           "blue",
           "#D62728",
           "#D62728",
           "#D62728",
           "#9467BD",
           "#9467BD",
           "blue",
           "#9467BD",
           "#D62728",
           "#9467BD",
           "blue",
           "#9467BD",
           "#D62728",
           "blue",
           "#9467BD",
           "#D62728",
           "blue",
           "#D62728",
           "#9467BD",
           "#D62728",
           "#9467BD",
           "#D62728",
           "#9467BD",
           "#9467BD",
           "#D62728",
           "blue",
           "#D62728",
           "#D62728",
           "#9467BD",
           "#D62728",
           "#9467BD",
           "blue",
           "#D62728",
           "#D62728",
           "blue",
           "#D62728",
           "#9467BD",
           "#9467BD",
           "blue",
           "#D62728",
           "blue",
           "blue",
           "#9467BD",
           "#9467BD",
           "blue",
           "#9467BD",
           "blue",
           "#9467BD",
           "#9467BD",
           "#D62728",
           "#9467BD",
           "#9467BD",
           "#D62728",
           "#9467BD",
           "blue",
           "#D62728",
           "#D62728",
           "blue",
           "#D62728",
           "blue",
           "#D62728",
           "#9467BD",
           "#9467BD",
           "#9467BD",
           "blue",
           "#D62728",
           "#D62728",
           "#9467BD",
           "blue",
           "#D62728",
           "blue",
           "#9467BD",
           "blue",
           "#D62728",
           "#D62728",
           "#9467BD",
           "#D62728",
           "#D62728",
           "#9467BD",
           "#9467BD",
           "#D62728",
           "#9467BD",
           "blue",
           "#D62728",
           "blue",
           "#D62728",
           "#D62728",
           "blue",
           "blue",
           "#D62728",
           "blue",
           "blue",
           "#9467BD",
           "blue",
           "#D62728",
           "#9467BD",
           "blue",
           "#D62728",
           "#D62728",
           "#D62728",
           "blue",
           "blue",
           "blue",
           "blue",
           "blue",
           "blue",
           "blue",
           "#D62728",
           "blue",
           "#D62728",
           "#D62728",
           "#D62728",
           "#D62728",
           "blue",
           "#9467BD",
           "#9467BD",
           "blue",
           "blue",
           "#D62728",
           "blue",
           "#D62728",
           "#D62728",
           "#D62728",
           "#9467BD",
           "blue",
           "#D62728",
           "blue",
           "#9467BD",
           "#9467BD",
           "#9467BD",
           "#9467BD",
           "#D62728",
           "#D62728",
           "#D62728",
           "#9467BD",
           "#9467BD",
           "blue",
           "#9467BD",
           "#9467BD",
           "#9467BD",
           "#9467BD",
           "#9467BD",
           "#9467BD",
           "#D62728",
           "#9467BD",
           "#9467BD",
           "#9467BD",
           "#9467BD",
           "#D62728",
           "#9467BD",
           "blue",
           "blue",
           "#D62728",
           "#9467BD",
           "#D62728",
           "#9467BD",
           "#D62728",
           "#9467BD",
           "#9467BD",
           "blue",
           "#9467BD",
           "#9467BD",
           "#D62728",
           "#D62728",
           "blue",
           "#D62728",
           "#9467BD",
           "blue",
           "#9467BD",
           "blue",
           "#D62728",
           "#D62728",
           "#9467BD",
           "#9467BD",
           "#9467BD",
           "blue",
           "blue",
           "#D62728",
           "#D62728",
           "blue",
           "#D62728",
           "#9467BD",
           "blue",
           "blue",
           "#9467BD",
           "#D62728",
           "#9467BD",
           "#9467BD",
           "#9467BD",
           "#9467BD",
           "#9467BD",
           "blue",
           "#9467BD",
           "#D62728",
           "blue",
           "#9467BD",
           "#9467BD",
           "blue",
           "#9467BD",
           "#D62728",
           "#9467BD",
           "#9467BD",
           "blue",
           "blue",
           "blue",
           "#9467BD",
           "#D62728",
           "#D62728",
           "#9467BD",
           "#9467BD",
           "#D62728",
           "blue",
           "#9467BD",
           "#D62728",
           "#9467BD",
           "blue",
           "#D62728",
           "#9467BD",
           "#D62728",
           "#D62728",
           "#9467BD",
           "#9467BD",
           "blue",
           "#D62728",
           "#D62728",
           "blue",
           "blue",
           "blue",
           "#D62728",
           "#9467BD",
           "#D62728",
           "#9467BD",
           "#9467BD",
           "#D62728",
           "#9467BD",
           "#D62728",
           "#9467BD",
           "#D62728",
           "blue",
           "#D62728",
           "#9467BD",
           "#9467BD",
           "#9467BD",
           "blue",
           "#9467BD",
           "blue",
           "#D62728",
           "blue",
           "blue",
           "blue",
           "#D62728",
           "#D62728",
           "#9467BD",
           "blue",
           "#D62728",
           "#D62728",
           "blue",
           "#9467BD",
           "#D62728",
           "#D62728",
           "blue",
           "#9467BD",
           "#D62728",
           "blue",
           "#9467BD",
           "#9467BD",
           "#D62728",
           "#9467BD",
           "blue",
           "#D62728",
           "#9467BD",
           "#D62728",
           "#D62728",
           "#9467BD",
           "#D62728",
           "blue",
           "#9467BD",
           "blue",
           "#9467BD",
           "#D62728",
           "blue",
           "#9467BD",
           "#9467BD",
           "blue",
           "#D62728",
           "blue",
           "#D62728",
           "#D62728",
           "#D62728",
           "#9467BD",
           "#9467BD",
           "blue",
           "#9467BD",
           "blue",
           "#D62728",
           "#9467BD",
           "#9467BD",
           "#9467BD",
           "blue",
           "blue",
           "blue",
           "blue",
           "#9467BD",
           "blue",
           "blue",
           "blue",
           "blue",
           "#D62728",
           "#9467BD",
           "blue",
           "#D62728",
           "#9467BD",
           "#9467BD",
           "blue",
           "blue",
           "#9467BD",
           "blue",
           "blue",
           "#9467BD",
           "#9467BD",
           "#9467BD",
           "#D62728",
           "#D62728",
           "#9467BD",
           "blue",
           "blue",
           "#9467BD",
           "#D62728",
           "blue",
           "#D62728",
           "#D62728",
           "#9467BD",
           "#D62728",
           "blue",
           "blue",
           "#D62728",
           "#9467BD",
           "#D62728",
           "#D62728",
           "#9467BD",
           "#9467BD",
           "#9467BD",
           "blue",
           "blue",
           "#9467BD",
           "#D62728",
           "#9467BD",
           "#D62728",
           "#D62728",
           "blue",
           "#D62728",
           "#D62728",
           "blue",
           "blue",
           "blue",
           "blue",
           "#D62728",
           "blue",
           "#9467BD",
           "#9467BD",
           "#9467BD",
           "blue",
           "blue",
           "#9467BD",
           "#D62728",
           "blue",
           "#9467BD",
           "#9467BD",
           "#9467BD",
           "#D62728",
           "#9467BD",
           "blue",
           "#D62728",
           "blue",
           "#D62728",
           "blue",
           "#9467BD",
           "#D62728",
           "#D62728",
           "#D62728",
           "#9467BD",
           "#D62728",
           "#9467BD",
           "blue",
           "blue",
           "#D62728",
           "blue",
           "#9467BD",
           "#9467BD",
           "blue",
           "#9467BD",
           "blue",
           "#D62728",
           "blue",
           "#D62728",
           "#9467BD",
           "#9467BD",
           "#9467BD",
           "#9467BD",
           "#D62728",
           "blue",
           "blue",
           "#D62728",
           "blue",
           "#D62728",
           "blue",
           "blue",
           "#D62728",
           "#D62728",
           "blue",
           "blue",
           "#D62728",
           "#D62728",
           "blue",
           "#9467BD",
           "blue",
           "#9467BD",
           "#9467BD",
           "#9467BD",
           "blue",
           "#9467BD",
           "#9467BD",
           "#D62728",
           "#9467BD",
           "#9467BD",
           "#D62728",
           "#9467BD",
           "blue",
           "#D62728",
           "#9467BD",
           "#9467BD",
           "#D62728",
           "#9467BD",
           "#9467BD",
           "#D62728",
           "#D62728",
           "blue",
           "#D62728",
           "#9467BD",
           "blue",
           "#D62728",
           "blue",
           "#D62728",
           "#9467BD",
           "blue",
           "blue",
           "#D62728",
           "#9467BD",
           "#D62728",
           "#9467BD",
           "blue",
           "blue",
           "#9467BD",
           "#9467BD",
           "blue",
           "blue",
           "#D62728",
           "#D62728",
           "#9467BD",
           "#D62728",
           "blue",
           "#9467BD",
           "blue",
           "#9467BD",
           "#9467BD",
           "#D62728",
           "#D62728",
           "#D62728",
           "blue",
           "#D62728",
           "#D62728",
           "#9467BD",
           "blue",
           "#D62728",
           "blue",
           "blue",
           "#D62728",
           "#9467BD",
           "#9467BD",
           "blue",
           "#9467BD",
           "blue",
           "#9467BD",
           "#9467BD",
           "#9467BD",
           "#D62728",
           "blue",
           "#9467BD",
           "blue",
           "#9467BD",
           "#9467BD",
           "blue",
           "#9467BD",
           "#9467BD",
           "#9467BD",
           "#D62728",
           "#D62728",
           "#D62728",
           "#9467BD",
           "blue",
           "blue",
           "#9467BD",
           "#D62728",
           "#9467BD",
           "blue",
           "#D62728",
           "#9467BD",
           "#9467BD",
           "#D62728",
           "#D62728",
           "#9467BD",
           "#9467BD",
           "blue",
           "#D62728",
           "#9467BD",
           "#9467BD",
           "#D62728",
           "blue",
           "#9467BD",
           "#9467BD",
           "#9467BD",
           "#D62728",
           "#9467BD",
           "#D62728",
           "#9467BD",
           "blue",
           "#9467BD",
           "#9467BD",
           "#9467BD",
           "#9467BD",
           "#D62728",
           "#D62728",
           "#D62728",
           "blue",
           "blue",
           "#9467BD",
           "#9467BD",
           "#9467BD",
           "blue",
           "#D62728",
           "#D62728",
           "#D62728",
           "blue",
           "#9467BD",
           "blue",
           "#D62728",
           "blue",
           "#D62728",
           "blue",
           "#9467BD",
           "#D62728",
           "#9467BD",
           "#9467BD",
           "blue",
           "#9467BD",
           "#D62728",
           "blue",
           "#9467BD",
           "blue",
           "#9467BD",
           "#D62728",
           "blue",
           "blue",
           "#9467BD",
           "#9467BD",
           "blue",
           "#9467BD",
           "blue",
           "blue",
           "#D62728",
           "#9467BD",
           "#9467BD",
           "#9467BD",
           "blue",
           "#9467BD",
           "#D62728",
           "#9467BD",
           "#D62728",
           "blue",
           "#9467BD",
           "#D62728",
           "blue",
           "blue",
           "blue",
           "blue",
           "blue",
           "#9467BD",
           "#9467BD",
           "#D62728",
           "#D62728",
           "blue",
           "#D62728",
           "blue",
           "#9467BD",
           "#9467BD",
           "#D62728",
           "#9467BD",
           "blue",
           "#D62728",
           "#9467BD",
           "#D62728",
           "#9467BD",
           "#D62728",
           "blue",
           "#9467BD",
           "#9467BD",
           "#9467BD",
           "blue",
           "#9467BD",
           "#9467BD",
           "#9467BD",
           "#D62728",
           "#9467BD",
           "#9467BD",
           "#D62728",
           "#9467BD",
           "#D62728",
           "#9467BD",
           "#D62728",
           "#D62728",
           "#9467BD",
           "blue",
           "#9467BD",
           "#9467BD",
           "blue",
           "blue",
           "blue",
           "blue",
           "blue",
           "blue",
           "#D62728",
           "#9467BD",
           "#9467BD",
           "blue",
           "#9467BD",
           "#9467BD",
           "blue",
           "#9467BD",
           "#D62728",
           "blue",
           "#9467BD",
           "#9467BD",
           "#9467BD",
           "#9467BD",
           "#D62728",
           "blue",
           "blue",
           "#9467BD",
           "#9467BD",
           "#D62728",
           "#9467BD",
           "#D62728",
           "#9467BD",
           "#D62728",
           "#D62728",
           "#9467BD",
           "#9467BD",
           "#9467BD",
           "#9467BD",
           "#9467BD",
           "blue",
           "#D62728",
           "#D62728",
           "#9467BD",
           "#9467BD",
           "#9467BD",
           "#D62728",
           "#9467BD",
           "#D62728",
           "#9467BD",
           "#9467BD",
           "#9467BD",
           "#9467BD",
           "#9467BD",
           "#D62728",
           "#D62728",
           "#9467BD",
           "blue",
           "#9467BD",
           "#9467BD",
           "#9467BD",
           "#9467BD",
           "blue",
           "#9467BD",
           "#9467BD",
           "#D62728",
           "#D62728",
           "blue",
           "#D62728",
           "#9467BD"
          ]
         },
         "name": "",
         "showlegend": true,
         "type": "pie",
         "values": [
          51.77,
          53.74,
          50.1,
          47.82,
          54.23,
          22.65,
          33.34,
          17.93,
          22.6,
          52.15,
          13.99,
          20.66,
          17.46,
          52.29,
          35.02,
          57.25,
          23.88,
          37.59,
          51.33,
          45.17,
          12.84,
          37.32,
          30.52,
          25.27,
          34.53,
          54.64,
          22.5,
          53.13,
          40.3,
          44.18,
          17.66,
          31.05,
          23.82,
          36.89,
          15.94,
          33.29,
          18.02,
          19.63,
          52.22,
          33.63,
          57.31,
          26.41,
          47.61,
          23.11,
          45.07,
          31.77,
          50.27,
          14.27,
          44.18,
          18.78,
          25.52,
          16.28,
          31.12,
          19.49,
          17.27,
          19.09,
          56.13,
          56.41,
          56.5,
          45.22,
          38.16,
          54.11,
          42.96,
          23.89,
          16.77,
          20.59,
          37.13,
          56.06,
          58.11,
          49.05,
          40.76,
          19.73,
          32.24,
          41.83,
          39.58,
          39.25,
          25.02,
          51.04,
          19.83,
          50.4,
          13.61,
          13.34,
          18.97,
          36.28,
          10.16,
          15.44,
          48.41,
          46.35,
          14.07,
          14.86,
          33.37,
          56.4,
          14.02,
          46.91,
          45.61,
          19.92,
          40.11,
          53.9,
          35.67,
          22,
          57.36,
          29.17,
          54.63,
          46.03,
          33.97,
          22.11,
          29.69,
          15.97,
          21.96,
          54.35,
          37.97,
          51.99,
          43.29,
          36.72,
          17.08,
          29.14,
          28.81,
          49.46,
          37.92,
          28.09,
          30.81,
          42.95,
          56.76,
          16.64,
          55.53,
          28.13,
          52.37,
          54,
          21.87,
          43.3,
          21.04,
          41.6,
          35.07,
          59.64,
          52.72,
          58.08,
          24.12,
          42.15,
          12.61,
          17.44,
          33.14,
          27.37,
          51.36,
          36,
          10.65,
          43.54,
          38.21,
          37.34,
          44.1,
          43.29,
          55.85,
          37.6,
          10.97,
          41.82,
          36.95,
          44.28,
          55.02,
          17.24,
          23.15,
          41.25,
          32,
          38.49,
          33.34,
          10.93,
          27.55,
          55.99,
          16.24,
          26.12,
          12.23,
          23.99,
          29.06,
          20.27,
          43.55,
          36.94,
          20.47,
          41.06,
          14.19,
          38.28,
          41.05,
          30.25,
          28.26,
          10.76,
          16.85,
          13.47,
          48.56,
          19.15,
          57.36,
          42.98,
          22.16,
          49.43,
          29.99,
          21.36,
          29,
          53.53,
          41.62,
          54.59,
          34.95,
          37.72,
          35.61,
          42.16,
          19.19,
          19.43,
          49.46,
          37.8,
          30.8,
          27.43,
          11.11,
          36.5,
          15.38,
          15.48,
          46.82,
          18.46,
          36.58,
          50.54,
          12.51,
          24.7,
          43.61,
          37.34,
          14.36,
          52.65,
          38.2,
          19.6,
          53.9,
          12.96,
          37.1,
          46.31,
          45.95,
          22.08,
          25.38,
          27.12,
          43.04,
          56.8,
          25.91,
          32.61,
          27.88,
          52.67,
          46.02,
          44.48,
          37.4,
          54.04,
          16.88,
          28.08,
          10.4,
          44.07,
          23.4,
          17.43,
          54.21,
          40.67,
          52.26,
          28.77,
          13.82,
          25.85,
          48.78,
          35.35,
          44.73,
          15.77,
          39.24,
          13.92,
          10.69,
          45.21,
          45.58,
          11.89,
          26.41,
          39.5,
          44.74,
          52.79,
          35.43,
          55.84,
          48.87,
          46.78,
          47.82,
          25.48,
          23.57,
          50.89,
          10.56,
          52.15,
          18.28,
          11.83,
          21.95,
          38.39,
          41.56,
          24.48,
          40.36,
          28.9,
          37.61,
          38.85,
          53.95,
          49.83,
          51.51,
          18.03,
          29.14,
          46.91,
          26.79,
          16.28,
          19.55,
          29.65,
          25.98,
          10.6,
          14.75,
          47.02,
          28.82,
          58.79,
          10.23,
          30.03,
          45.84,
          49.05,
          15.06,
          46.47,
          27.09,
          57.62,
          14.39,
          51.75,
          54.07,
          55.35,
          40.12,
          37.51,
          11.21,
          36.58,
          47.72,
          25.01,
          22.13,
          44.14,
          56.02,
          11.23,
          43.28,
          47.27,
          20.29,
          50.83,
          31.85,
          46.23,
          37.8,
          49.32,
          32.01,
          28.01,
          50.62,
          17.03,
          48.8,
          58.14,
          34.2,
          51.48,
          29.87,
          10.9,
          56.37,
          48.35,
          16.73,
          56.48,
          40.79,
          39.72,
          14.58,
          55.51,
          21.8,
          13.33,
          38.73,
          37.86,
          11.53,
          27.06,
          13.86,
          37.55,
          32.3,
          46.29,
          26.2,
          33.26,
          59.15,
          39.43,
          14.44,
          56.54,
          59.9,
          11.88,
          48.05,
          21.21,
          49.67,
          43.14,
          36.97,
          26.8,
          15.71,
          54.65,
          54.36,
          35.28,
          20.55,
          58.32,
          11.84,
          41.46,
          20.1,
          56.86,
          56.51,
          40.83,
          48.64,
          59.48,
          39.01,
          38.77,
          48.39,
          27.26,
          11.68,
          59.45,
          21,
          53.98,
          48.74,
          21.15,
          13.71,
          47.67,
          13.34,
          16.89,
          27.18,
          17.28,
          45.14,
          40.85,
          20.46,
          56.27,
          48.49,
          51.34,
          16.34,
          20.5,
          21.59,
          21.36,
          20.88,
          19.53,
          14.75,
          48.48,
          24.57,
          49.71,
          48.27,
          58.05,
          58.87,
          11.82,
          28.03,
          44.05,
          12.34,
          16.68,
          55.91,
          24.57,
          52.98,
          54.4,
          54.81,
          25.08,
          10.41,
          47.44,
          20.91,
          33.95,
          43.68,
          33.23,
          35.92,
          48.63,
          56.63,
          50.49,
          35.79,
          34.06,
          17.76,
          39.36,
          36.94,
          43.62,
          43.02,
          28.45,
          41.39,
          51.15,
          35.88,
          36.91,
          28.93,
          38.89,
          58.33,
          39.67,
          14.1,
          21.82,
          54.21,
          31.19,
          53.64,
          36.39,
          58.54,
          29.48,
          25.06,
          12.55,
          29.04,
          40.72,
          45.05,
          47.13,
          20.22,
          56.48,
          44.21,
          21.96,
          40.45,
          10.29,
          52.86,
          55.65,
          43.64,
          28.41,
          37.51,
          11.45,
          19.22,
          56.91,
          55.06,
          13.2,
          53.63,
          44.48,
          12.08,
          22.14,
          25.37,
          46.33,
          37.33,
          25.55,
          34.72,
          35.96,
          41.14,
          10.01,
          36.05,
          49.03,
          16.24,
          39.55,
          35.67,
          16.62,
          42.78,
          52.3,
          32.34,
          33.17,
          20.12,
          20.9,
          20.9,
          40.2,
          52.87,
          51.74,
          34.41,
          32.38,
          50.35,
          11.38,
          43.58,
          49.67,
          28.77,
          13.22,
          51.17,
          39.61,
          57.43,
          46.01,
          28.25,
          37.05,
          19.57,
          45.13,
          46.64,
          12.16,
          20.89,
          17.97,
          52.6,
          25.77,
          48.19,
          29.93,
          44.34,
          52.4,
          44.81,
          57.84,
          39.67,
          55.02,
          24.8,
          59.45,
          31.58,
          43.27,
          37.34,
          17.8,
          30.54,
          18.77,
          46.85,
          15.79,
          10.27,
          15.42,
          59.92,
          50.96,
          30.6,
          19.27,
          46.58,
          48.51,
          19.02,
          38.38,
          49.98,
          46.49,
          18.32,
          42.14,
          56.59,
          20.96,
          40.32,
          36.39,
          58.55,
          39.61,
          21.3,
          56.88,
          32.97,
          47.31,
          48.67,
          41.73,
          53.68,
          14.64,
          38.4,
          15.08,
          30.57,
          57.74,
          11.05,
          28.58,
          42.91,
          24.73,
          55.91,
          13.76,
          45.56,
          47.22,
          56,
          44.58,
          34.5,
          11.33,
          38.77,
          11.83,
          45.51,
          41.81,
          25.15,
          34.22,
          16.23,
          11.48,
          23.37,
          16.28,
          31.63,
          24.91,
          22.54,
          23.63,
          13.12,
          59.98,
          31.49,
          15.52,
          48.13,
          38.13,
          36.55,
          23.32,
          16.33,
          32.42,
          16.96,
          22.37,
          42.27,
          38.7,
          35.63,
          58,
          52.41,
          32.35,
          20.75,
          17.49,
          34.13,
          58.81,
          10,
          51.22,
          58.59,
          31.3,
          46.42,
          17.21,
          10.79,
          52.35,
          27.88,
          50.26,
          59.99,
          28.32,
          38.71,
          29.85,
          14.82,
          16.81,
          28.23,
          52.11,
          27.88,
          59.71,
          46.08,
          13.73,
          48.39,
          49.45,
          19.67,
          12.36,
          20.02,
          12.75,
          47.51,
          20.44,
          34.79,
          28.07,
          25.01,
          13.9,
          24.17,
          31.63,
          48.75,
          14.74,
          32.49,
          27.8,
          26.77,
          50.44,
          34.93,
          12.87,
          48.94,
          13.38,
          58.63,
          21.94,
          26.58,
          57.22,
          56.43,
          55.65,
          27.62,
          49.56,
          34.77,
          17.73,
          21.8,
          46.02,
          18.13,
          30.89,
          31.95,
          24.04,
          32.36,
          21.07,
          50.66,
          13.66,
          58.09,
          30,
          32.74,
          41.93,
          42.8,
          53.51,
          23.21,
          21.14,
          56.07,
          14.41,
          45.75,
          15.77,
          10.02,
          48.77,
          57.86,
          23.59,
          23.05,
          55.55,
          58.64,
          23.21,
          42.57,
          10.92,
          34.77,
          35.66,
          37.19,
          12.25,
          29.7,
          36.8,
          45.43,
          26.26,
          44.92,
          52.53,
          37.25,
          20.93,
          58.09,
          43.59,
          33.92,
          55.55,
          29.64,
          27.41,
          52.51,
          47.8,
          14.54,
          49.53,
          43.58,
          12.3,
          49.47,
          22.14,
          57.48,
          43.45,
          22.13,
          13.03,
          57.35,
          44.29,
          52.25,
          26.33,
          22.96,
          19.21,
          26.78,
          41.32,
          24.55,
          16.26,
          47.84,
          53.49,
          44.84,
          53.71,
          23.43,
          34.32,
          22.1,
          25.83,
          36.74,
          49.51,
          48.96,
          54.62,
          24.72,
          46.45,
          52.33,
          30.6,
          14.57,
          46.29,
          21.57,
          12.91,
          50.11,
          41.67,
          44.88,
          11.1,
          28.54,
          19.07,
          43.55,
          43.63,
          39.13,
          56.68,
          14.16,
          31.45,
          24.61,
          32.87,
          40.17,
          13.51,
          38.95,
          31.69,
          29.4,
          57.83,
          55.46,
          57.6,
          34.98,
          11.87,
          12.47,
          33.26,
          59.04,
          26.13,
          22.2,
          45.11,
          43.69,
          25.02,
          55.5,
          53.04,
          44.97,
          42.38,
          20.11,
          56.7,
          41,
          28.85,
          49.97,
          19.69,
          28.88,
          33.14,
          43.7,
          54.89,
          37.52,
          51.07,
          44.07,
          10.79,
          42.72,
          26.66,
          37.6,
          42.21,
          46.83,
          45.17,
          51.22,
          21.28,
          15.36,
          38.62,
          25.4,
          43.87,
          18.74,
          54.86,
          52.62,
          51.48,
          15.28,
          39.24,
          17.81,
          56.02,
          23.9,
          49.13,
          10.62,
          36.17,
          59.95,
          26.09,
          37.35,
          24.72,
          35.28,
          51.32,
          21.12,
          27.35,
          21.74,
          40.87,
          49.31,
          22.11,
          20.79,
          27.41,
          38.35,
          21.55,
          38.02,
          22.06,
          10.66,
          56.58,
          36.83,
          35.01,
          30.48,
          14.08,
          31.22,
          54.29,
          31.04,
          50.96,
          11.89,
          31.38,
          54.81,
          16.78,
          24.42,
          11.75,
          20.02,
          12.86,
          31.58,
          34,
          57.42,
          53.47,
          11.64,
          52.88,
          18.51,
          41.32,
          39.77,
          51.96,
          39.51,
          15.4,
          53.82,
          30.95,
          57.82,
          44.18,
          48.71,
          19.69,
          36.52,
          41.56,
          43.19,
          12.34,
          36.25,
          29.45,
          34.56,
          54.12,
          33.78,
          29.64,
          57.7,
          36.34,
          50.59,
          29.38,
          45.42,
          54.43,
          36.26,
          16.16,
          36.29,
          27.89,
          12.29,
          15.85,
          14.4,
          19.18,
          10.64,
          14.76,
          57.49,
          30.66,
          40.83,
          18.88,
          25.83,
          42.12,
          13.33,
          42.4,
          58.35,
          21.72,
          44.91,
          37.46,
          28.48,
          28.34,
          46.96,
          24.96,
          21.71,
          29.87,
          28.99,
          52.94,
          32.36,
          55.66,
          39.45,
          47.11,
          58.75,
          38.92,
          39.39,
          25.89,
          28.34,
          27.7,
          24.89,
          58.99,
          57.2,
          38.43,
          34.74,
          40.44,
          45.24,
          34.96,
          56.76,
          40.28,
          38,
          28.8,
          39.24,
          32.93,
          51.32,
          47.09,
          28.42,
          22.85,
          41.24,
          39.07,
          29.82,
          37.26,
          20.3,
          34.65,
          43.38,
          55.53,
          57.06,
          16.97,
          53.98,
          26.08
         ]
        }
       ],
       "layout": {
        "height": 400,
        "legend": {
         "tracegroupgap": 0
        },
        "template": {
         "data": {
          "pie": [
           {
            "automargin": true,
            "type": "pie"
           }
          ],
          "scatter": [
           {
            "line": {
             "width": 3
            },
            "marker": {
             "size": 9
            },
            "type": "scatter"
           }
          ],
          "scatter3d": [
           {
            "line": {
             "width": 3
            },
            "marker": {
             "size": 9
            },
            "type": "scatter3d"
           }
          ],
          "scattergeo": [
           {
            "line": {
             "width": 3
            },
            "marker": {
             "size": 9
            },
            "type": "scattergeo"
           }
          ],
          "scattergl": [
           {
            "line": {
             "width": 3
            },
            "marker": {
             "size": 9
            },
            "type": "scattergl"
           }
          ],
          "scatterpolar": [
           {
            "line": {
             "width": 3
            },
            "marker": {
             "size": 9
            },
            "type": "scatterpolar"
           }
          ],
          "scatterpolargl": [
           {
            "line": {
             "width": 3
            },
            "marker": {
             "size": 9
            },
            "type": "scatterpolargl"
           }
          ],
          "scatterternary": [
           {
            "line": {
             "width": 3
            },
            "marker": {
             "size": 9
            },
            "type": "scatterternary"
           }
          ],
          "table": [
           {
            "cells": {
             "height": 30
            },
            "header": {
             "height": 36
            },
            "type": "table"
           }
          ]
         },
         "layout": {
          "font": {
           "size": 18
          },
          "xaxis": {
           "title": {
            "standoff": 15
           }
          },
          "yaxis": {
           "title": {
            "standoff": 15
           }
          }
         }
        },
        "title": {
         "text": "Classificação dos livros por preço"
        },
        "width": 700
       }
      },
      "text/html": [
       "<div>                            <div id=\"517da894-f399-48de-9d8b-8a1e736c2695\" class=\"plotly-graph-div\" style=\"height:400px; width:700px;\"></div>            <script type=\"text/javascript\">                require([\"plotly\"], function(Plotly) {                    window.PLOTLYENV=window.PLOTLYENV || {};                                    if (document.getElementById(\"517da894-f399-48de-9d8b-8a1e736c2695\")) {                    Plotly.newPlot(                        \"517da894-f399-48de-9d8b-8a1e736c2695\",                        [{\"customdata\":[[\"Pre\\u00e7os altos ( 45,00 - 59,99 \\u00a3)\"],[\"Pre\\u00e7os altos ( 45,00 - 59,99 \\u00a3)\"],[\"Pre\\u00e7os altos ( 45,00 - 59,99 \\u00a3)\"],[\"Pre\\u00e7os altos ( 45,00 - 59,99 \\u00a3)\"],[\"Pre\\u00e7os altos ( 45,00 - 59,99 \\u00a3)\"],[\"Pre\\u00e7os baixos (10,00 - 24,99 \\u00a3)\"],[\"Pre\\u00e7os m\\u00e9dios (25.00 - 44.99 \\u00a3)\"],[\"Pre\\u00e7os baixos (10,00 - 24,99 \\u00a3)\"],[\"Pre\\u00e7os baixos (10,00 - 24,99 \\u00a3)\"],[\"Pre\\u00e7os altos ( 45,00 - 59,99 \\u00a3)\"],[\"Pre\\u00e7os baixos (10,00 - 24,99 \\u00a3)\"],[\"Pre\\u00e7os baixos (10,00 - 24,99 \\u00a3)\"],[\"Pre\\u00e7os baixos (10,00 - 24,99 \\u00a3)\"],[\"Pre\\u00e7os altos ( 45,00 - 59,99 \\u00a3)\"],[\"Pre\\u00e7os m\\u00e9dios (25.00 - 44.99 \\u00a3)\"],[\"Pre\\u00e7os altos ( 45,00 - 59,99 \\u00a3)\"],[\"Pre\\u00e7os baixos (10,00 - 24,99 \\u00a3)\"],[\"Pre\\u00e7os m\\u00e9dios (25.00 - 44.99 \\u00a3)\"],[\"Pre\\u00e7os altos ( 45,00 - 59,99 \\u00a3)\"],[\"Pre\\u00e7os altos ( 45,00 - 59,99 \\u00a3)\"],[\"Pre\\u00e7os baixos (10,00 - 24,99 \\u00a3)\"],[\"Pre\\u00e7os m\\u00e9dios (25.00 - 44.99 \\u00a3)\"],[\"Pre\\u00e7os m\\u00e9dios (25.00 - 44.99 \\u00a3)\"],[\"Pre\\u00e7os m\\u00e9dios (25.00 - 44.99 \\u00a3)\"],[\"Pre\\u00e7os m\\u00e9dios (25.00 - 44.99 \\u00a3)\"],[\"Pre\\u00e7os altos ( 45,00 - 59,99 \\u00a3)\"],[\"Pre\\u00e7os baixos (10,00 - 24,99 \\u00a3)\"],[\"Pre\\u00e7os altos ( 45,00 - 59,99 \\u00a3)\"],[\"Pre\\u00e7os m\\u00e9dios (25.00 - 44.99 \\u00a3)\"],[\"Pre\\u00e7os m\\u00e9dios (25.00 - 44.99 \\u00a3)\"],[\"Pre\\u00e7os baixos (10,00 - 24,99 \\u00a3)\"],[\"Pre\\u00e7os m\\u00e9dios (25.00 - 44.99 \\u00a3)\"],[\"Pre\\u00e7os baixos (10,00 - 24,99 \\u00a3)\"],[\"Pre\\u00e7os m\\u00e9dios (25.00 - 44.99 \\u00a3)\"],[\"Pre\\u00e7os baixos (10,00 - 24,99 \\u00a3)\"],[\"Pre\\u00e7os m\\u00e9dios (25.00 - 44.99 \\u00a3)\"],[\"Pre\\u00e7os baixos (10,00 - 24,99 \\u00a3)\"],[\"Pre\\u00e7os baixos (10,00 - 24,99 \\u00a3)\"],[\"Pre\\u00e7os altos ( 45,00 - 59,99 \\u00a3)\"],[\"Pre\\u00e7os m\\u00e9dios (25.00 - 44.99 \\u00a3)\"],[\"Pre\\u00e7os altos ( 45,00 - 59,99 \\u00a3)\"],[\"Pre\\u00e7os m\\u00e9dios (25.00 - 44.99 \\u00a3)\"],[\"Pre\\u00e7os altos ( 45,00 - 59,99 \\u00a3)\"],[\"Pre\\u00e7os baixos (10,00 - 24,99 \\u00a3)\"],[\"Pre\\u00e7os altos ( 45,00 - 59,99 \\u00a3)\"],[\"Pre\\u00e7os m\\u00e9dios (25.00 - 44.99 \\u00a3)\"],[\"Pre\\u00e7os altos ( 45,00 - 59,99 \\u00a3)\"],[\"Pre\\u00e7os baixos (10,00 - 24,99 \\u00a3)\"],[\"Pre\\u00e7os m\\u00e9dios (25.00 - 44.99 \\u00a3)\"],[\"Pre\\u00e7os baixos (10,00 - 24,99 \\u00a3)\"],[\"Pre\\u00e7os m\\u00e9dios (25.00 - 44.99 \\u00a3)\"],[\"Pre\\u00e7os baixos (10,00 - 24,99 \\u00a3)\"],[\"Pre\\u00e7os m\\u00e9dios (25.00 - 44.99 \\u00a3)\"],[\"Pre\\u00e7os baixos (10,00 - 24,99 \\u00a3)\"],[\"Pre\\u00e7os baixos (10,00 - 24,99 \\u00a3)\"],[\"Pre\\u00e7os baixos (10,00 - 24,99 \\u00a3)\"],[\"Pre\\u00e7os altos ( 45,00 - 59,99 \\u00a3)\"],[\"Pre\\u00e7os altos ( 45,00 - 59,99 \\u00a3)\"],[\"Pre\\u00e7os altos ( 45,00 - 59,99 \\u00a3)\"],[\"Pre\\u00e7os altos ( 45,00 - 59,99 \\u00a3)\"],[\"Pre\\u00e7os m\\u00e9dios (25.00 - 44.99 \\u00a3)\"],[\"Pre\\u00e7os altos ( 45,00 - 59,99 \\u00a3)\"],[\"Pre\\u00e7os m\\u00e9dios (25.00 - 44.99 \\u00a3)\"],[\"Pre\\u00e7os baixos (10,00 - 24,99 \\u00a3)\"],[\"Pre\\u00e7os baixos (10,00 - 24,99 \\u00a3)\"],[\"Pre\\u00e7os baixos (10,00 - 24,99 \\u00a3)\"],[\"Pre\\u00e7os m\\u00e9dios (25.00 - 44.99 \\u00a3)\"],[\"Pre\\u00e7os altos ( 45,00 - 59,99 \\u00a3)\"],[\"Pre\\u00e7os altos ( 45,00 - 59,99 \\u00a3)\"],[\"Pre\\u00e7os altos ( 45,00 - 59,99 \\u00a3)\"],[\"Pre\\u00e7os m\\u00e9dios (25.00 - 44.99 \\u00a3)\"],[\"Pre\\u00e7os baixos (10,00 - 24,99 \\u00a3)\"],[\"Pre\\u00e7os m\\u00e9dios (25.00 - 44.99 \\u00a3)\"],[\"Pre\\u00e7os m\\u00e9dios (25.00 - 44.99 \\u00a3)\"],[\"Pre\\u00e7os m\\u00e9dios (25.00 - 44.99 \\u00a3)\"],[\"Pre\\u00e7os m\\u00e9dios (25.00 - 44.99 \\u00a3)\"],[\"Pre\\u00e7os m\\u00e9dios (25.00 - 44.99 \\u00a3)\"],[\"Pre\\u00e7os altos ( 45,00 - 59,99 \\u00a3)\"],[\"Pre\\u00e7os baixos (10,00 - 24,99 \\u00a3)\"],[\"Pre\\u00e7os altos ( 45,00 - 59,99 \\u00a3)\"],[\"Pre\\u00e7os baixos (10,00 - 24,99 \\u00a3)\"],[\"Pre\\u00e7os baixos (10,00 - 24,99 \\u00a3)\"],[\"Pre\\u00e7os baixos (10,00 - 24,99 \\u00a3)\"],[\"Pre\\u00e7os m\\u00e9dios (25.00 - 44.99 \\u00a3)\"],[\"Pre\\u00e7os baixos (10,00 - 24,99 \\u00a3)\"],[\"Pre\\u00e7os baixos (10,00 - 24,99 \\u00a3)\"],[\"Pre\\u00e7os altos ( 45,00 - 59,99 \\u00a3)\"],[\"Pre\\u00e7os altos ( 45,00 - 59,99 \\u00a3)\"],[\"Pre\\u00e7os baixos (10,00 - 24,99 \\u00a3)\"],[\"Pre\\u00e7os baixos (10,00 - 24,99 \\u00a3)\"],[\"Pre\\u00e7os m\\u00e9dios (25.00 - 44.99 \\u00a3)\"],[\"Pre\\u00e7os altos ( 45,00 - 59,99 \\u00a3)\"],[\"Pre\\u00e7os baixos (10,00 - 24,99 \\u00a3)\"],[\"Pre\\u00e7os altos ( 45,00 - 59,99 \\u00a3)\"],[\"Pre\\u00e7os altos ( 45,00 - 59,99 \\u00a3)\"],[\"Pre\\u00e7os baixos (10,00 - 24,99 \\u00a3)\"],[\"Pre\\u00e7os m\\u00e9dios (25.00 - 44.99 \\u00a3)\"],[\"Pre\\u00e7os altos ( 45,00 - 59,99 \\u00a3)\"],[\"Pre\\u00e7os m\\u00e9dios (25.00 - 44.99 \\u00a3)\"],[\"Pre\\u00e7os baixos (10,00 - 24,99 \\u00a3)\"],[\"Pre\\u00e7os altos ( 45,00 - 59,99 \\u00a3)\"],[\"Pre\\u00e7os m\\u00e9dios (25.00 - 44.99 \\u00a3)\"],[\"Pre\\u00e7os altos ( 45,00 - 59,99 \\u00a3)\"],[\"Pre\\u00e7os altos ( 45,00 - 59,99 \\u00a3)\"],[\"Pre\\u00e7os m\\u00e9dios (25.00 - 44.99 \\u00a3)\"],[\"Pre\\u00e7os baixos (10,00 - 24,99 \\u00a3)\"],[\"Pre\\u00e7os m\\u00e9dios (25.00 - 44.99 \\u00a3)\"],[\"Pre\\u00e7os baixos (10,00 - 24,99 \\u00a3)\"],[\"Pre\\u00e7os baixos (10,00 - 24,99 \\u00a3)\"],[\"Pre\\u00e7os altos ( 45,00 - 59,99 \\u00a3)\"],[\"Pre\\u00e7os m\\u00e9dios (25.00 - 44.99 \\u00a3)\"],[\"Pre\\u00e7os altos ( 45,00 - 59,99 \\u00a3)\"],[\"Pre\\u00e7os m\\u00e9dios (25.00 - 44.99 \\u00a3)\"],[\"Pre\\u00e7os m\\u00e9dios (25.00 - 44.99 \\u00a3)\"],[\"Pre\\u00e7os baixos (10,00 - 24,99 \\u00a3)\"],[\"Pre\\u00e7os m\\u00e9dios (25.00 - 44.99 \\u00a3)\"],[\"Pre\\u00e7os m\\u00e9dios (25.00 - 44.99 \\u00a3)\"],[\"Pre\\u00e7os altos ( 45,00 - 59,99 \\u00a3)\"],[\"Pre\\u00e7os m\\u00e9dios (25.00 - 44.99 \\u00a3)\"],[\"Pre\\u00e7os m\\u00e9dios (25.00 - 44.99 \\u00a3)\"],[\"Pre\\u00e7os m\\u00e9dios (25.00 - 44.99 \\u00a3)\"],[\"Pre\\u00e7os m\\u00e9dios (25.00 - 44.99 \\u00a3)\"],[\"Pre\\u00e7os altos ( 45,00 - 59,99 \\u00a3)\"],[\"Pre\\u00e7os baixos (10,00 - 24,99 \\u00a3)\"],[\"Pre\\u00e7os altos ( 45,00 - 59,99 \\u00a3)\"],[\"Pre\\u00e7os m\\u00e9dios (25.00 - 44.99 \\u00a3)\"],[\"Pre\\u00e7os altos ( 45,00 - 59,99 \\u00a3)\"],[\"Pre\\u00e7os altos ( 45,00 - 59,99 \\u00a3)\"],[\"Pre\\u00e7os baixos (10,00 - 24,99 \\u00a3)\"],[\"Pre\\u00e7os m\\u00e9dios (25.00 - 44.99 \\u00a3)\"],[\"Pre\\u00e7os baixos (10,00 - 24,99 \\u00a3)\"],[\"Pre\\u00e7os m\\u00e9dios (25.00 - 44.99 \\u00a3)\"],[\"Pre\\u00e7os m\\u00e9dios (25.00 - 44.99 \\u00a3)\"],[\"Pre\\u00e7os altos ( 45,00 - 59,99 \\u00a3)\"],[\"Pre\\u00e7os altos ( 45,00 - 59,99 \\u00a3)\"],[\"Pre\\u00e7os altos ( 45,00 - 59,99 \\u00a3)\"],[\"Pre\\u00e7os baixos (10,00 - 24,99 \\u00a3)\"],[\"Pre\\u00e7os m\\u00e9dios (25.00 - 44.99 \\u00a3)\"],[\"Pre\\u00e7os baixos (10,00 - 24,99 \\u00a3)\"],[\"Pre\\u00e7os baixos (10,00 - 24,99 \\u00a3)\"],[\"Pre\\u00e7os m\\u00e9dios (25.00 - 44.99 \\u00a3)\"],[\"Pre\\u00e7os m\\u00e9dios (25.00 - 44.99 \\u00a3)\"],[\"Pre\\u00e7os altos ( 45,00 - 59,99 \\u00a3)\"],[\"Pre\\u00e7os m\\u00e9dios (25.00 - 44.99 \\u00a3)\"],[\"Pre\\u00e7os baixos (10,00 - 24,99 \\u00a3)\"],[\"Pre\\u00e7os m\\u00e9dios (25.00 - 44.99 \\u00a3)\"],[\"Pre\\u00e7os m\\u00e9dios (25.00 - 44.99 \\u00a3)\"],[\"Pre\\u00e7os m\\u00e9dios (25.00 - 44.99 \\u00a3)\"],[\"Pre\\u00e7os m\\u00e9dios (25.00 - 44.99 \\u00a3)\"],[\"Pre\\u00e7os m\\u00e9dios (25.00 - 44.99 \\u00a3)\"],[\"Pre\\u00e7os altos ( 45,00 - 59,99 \\u00a3)\"],[\"Pre\\u00e7os m\\u00e9dios (25.00 - 44.99 \\u00a3)\"],[\"Pre\\u00e7os baixos (10,00 - 24,99 \\u00a3)\"],[\"Pre\\u00e7os m\\u00e9dios (25.00 - 44.99 \\u00a3)\"],[\"Pre\\u00e7os m\\u00e9dios (25.00 - 44.99 \\u00a3)\"],[\"Pre\\u00e7os m\\u00e9dios (25.00 - 44.99 \\u00a3)\"],[\"Pre\\u00e7os altos ( 45,00 - 59,99 \\u00a3)\"],[\"Pre\\u00e7os baixos (10,00 - 24,99 \\u00a3)\"],[\"Pre\\u00e7os baixos (10,00 - 24,99 \\u00a3)\"],[\"Pre\\u00e7os m\\u00e9dios (25.00 - 44.99 \\u00a3)\"],[\"Pre\\u00e7os m\\u00e9dios (25.00 - 44.99 \\u00a3)\"],[\"Pre\\u00e7os m\\u00e9dios (25.00 - 44.99 \\u00a3)\"],[\"Pre\\u00e7os m\\u00e9dios (25.00 - 44.99 \\u00a3)\"],[\"Pre\\u00e7os baixos (10,00 - 24,99 \\u00a3)\"],[\"Pre\\u00e7os m\\u00e9dios (25.00 - 44.99 \\u00a3)\"],[\"Pre\\u00e7os altos ( 45,00 - 59,99 \\u00a3)\"],[\"Pre\\u00e7os baixos (10,00 - 24,99 \\u00a3)\"],[\"Pre\\u00e7os m\\u00e9dios (25.00 - 44.99 \\u00a3)\"],[\"Pre\\u00e7os baixos (10,00 - 24,99 \\u00a3)\"],[\"Pre\\u00e7os baixos (10,00 - 24,99 \\u00a3)\"],[\"Pre\\u00e7os m\\u00e9dios (25.00 - 44.99 \\u00a3)\"],[\"Pre\\u00e7os baixos (10,00 - 24,99 \\u00a3)\"],[\"Pre\\u00e7os m\\u00e9dios (25.00 - 44.99 \\u00a3)\"],[\"Pre\\u00e7os m\\u00e9dios (25.00 - 44.99 \\u00a3)\"],[\"Pre\\u00e7os baixos (10,00 - 24,99 \\u00a3)\"],[\"Pre\\u00e7os m\\u00e9dios (25.00 - 44.99 \\u00a3)\"],[\"Pre\\u00e7os baixos (10,00 - 24,99 \\u00a3)\"],[\"Pre\\u00e7os m\\u00e9dios (25.00 - 44.99 \\u00a3)\"],[\"Pre\\u00e7os m\\u00e9dios (25.00 - 44.99 \\u00a3)\"],[\"Pre\\u00e7os m\\u00e9dios (25.00 - 44.99 \\u00a3)\"],[\"Pre\\u00e7os m\\u00e9dios (25.00 - 44.99 \\u00a3)\"],[\"Pre\\u00e7os baixos (10,00 - 24,99 \\u00a3)\"],[\"Pre\\u00e7os baixos (10,00 - 24,99 \\u00a3)\"],[\"Pre\\u00e7os baixos (10,00 - 24,99 \\u00a3)\"],[\"Pre\\u00e7os altos ( 45,00 - 59,99 \\u00a3)\"],[\"Pre\\u00e7os baixos (10,00 - 24,99 \\u00a3)\"],[\"Pre\\u00e7os altos ( 45,00 - 59,99 \\u00a3)\"],[\"Pre\\u00e7os m\\u00e9dios (25.00 - 44.99 \\u00a3)\"],[\"Pre\\u00e7os baixos (10,00 - 24,99 \\u00a3)\"],[\"Pre\\u00e7os altos ( 45,00 - 59,99 \\u00a3)\"],[\"Pre\\u00e7os m\\u00e9dios (25.00 - 44.99 \\u00a3)\"],[\"Pre\\u00e7os baixos (10,00 - 24,99 \\u00a3)\"],[\"Pre\\u00e7os m\\u00e9dios (25.00 - 44.99 \\u00a3)\"],[\"Pre\\u00e7os altos ( 45,00 - 59,99 \\u00a3)\"],[\"Pre\\u00e7os m\\u00e9dios (25.00 - 44.99 \\u00a3)\"],[\"Pre\\u00e7os altos ( 45,00 - 59,99 \\u00a3)\"],[\"Pre\\u00e7os m\\u00e9dios (25.00 - 44.99 \\u00a3)\"],[\"Pre\\u00e7os m\\u00e9dios (25.00 - 44.99 \\u00a3)\"],[\"Pre\\u00e7os m\\u00e9dios (25.00 - 44.99 \\u00a3)\"],[\"Pre\\u00e7os m\\u00e9dios (25.00 - 44.99 \\u00a3)\"],[\"Pre\\u00e7os baixos (10,00 - 24,99 \\u00a3)\"],[\"Pre\\u00e7os baixos (10,00 - 24,99 \\u00a3)\"],[\"Pre\\u00e7os altos ( 45,00 - 59,99 \\u00a3)\"],[\"Pre\\u00e7os m\\u00e9dios (25.00 - 44.99 \\u00a3)\"],[\"Pre\\u00e7os m\\u00e9dios (25.00 - 44.99 \\u00a3)\"],[\"Pre\\u00e7os m\\u00e9dios (25.00 - 44.99 \\u00a3)\"],[\"Pre\\u00e7os baixos (10,00 - 24,99 \\u00a3)\"],[\"Pre\\u00e7os m\\u00e9dios (25.00 - 44.99 \\u00a3)\"],[\"Pre\\u00e7os baixos (10,00 - 24,99 \\u00a3)\"],[\"Pre\\u00e7os baixos (10,00 - 24,99 \\u00a3)\"],[\"Pre\\u00e7os altos ( 45,00 - 59,99 \\u00a3)\"],[\"Pre\\u00e7os baixos (10,00 - 24,99 \\u00a3)\"],[\"Pre\\u00e7os m\\u00e9dios (25.00 - 44.99 \\u00a3)\"],[\"Pre\\u00e7os altos ( 45,00 - 59,99 \\u00a3)\"],[\"Pre\\u00e7os baixos (10,00 - 24,99 \\u00a3)\"],[\"Pre\\u00e7os baixos (10,00 - 24,99 \\u00a3)\"],[\"Pre\\u00e7os m\\u00e9dios (25.00 - 44.99 \\u00a3)\"],[\"Pre\\u00e7os m\\u00e9dios (25.00 - 44.99 \\u00a3)\"],[\"Pre\\u00e7os baixos (10,00 - 24,99 \\u00a3)\"],[\"Pre\\u00e7os altos ( 45,00 - 59,99 \\u00a3)\"],[\"Pre\\u00e7os m\\u00e9dios (25.00 - 44.99 \\u00a3)\"],[\"Pre\\u00e7os baixos (10,00 - 24,99 \\u00a3)\"],[\"Pre\\u00e7os altos ( 45,00 - 59,99 \\u00a3)\"],[\"Pre\\u00e7os baixos (10,00 - 24,99 \\u00a3)\"],[\"Pre\\u00e7os m\\u00e9dios (25.00 - 44.99 \\u00a3)\"],[\"Pre\\u00e7os altos ( 45,00 - 59,99 \\u00a3)\"],[\"Pre\\u00e7os altos ( 45,00 - 59,99 \\u00a3)\"],[\"Pre\\u00e7os baixos (10,00 - 24,99 \\u00a3)\"],[\"Pre\\u00e7os m\\u00e9dios (25.00 - 44.99 \\u00a3)\"],[\"Pre\\u00e7os m\\u00e9dios (25.00 - 44.99 \\u00a3)\"],[\"Pre\\u00e7os m\\u00e9dios (25.00 - 44.99 \\u00a3)\"],[\"Pre\\u00e7os altos ( 45,00 - 59,99 \\u00a3)\"],[\"Pre\\u00e7os m\\u00e9dios (25.00 - 44.99 \\u00a3)\"],[\"Pre\\u00e7os m\\u00e9dios (25.00 - 44.99 \\u00a3)\"],[\"Pre\\u00e7os m\\u00e9dios (25.00 - 44.99 \\u00a3)\"],[\"Pre\\u00e7os altos ( 45,00 - 59,99 \\u00a3)\"],[\"Pre\\u00e7os altos ( 45,00 - 59,99 \\u00a3)\"],[\"Pre\\u00e7os m\\u00e9dios (25.00 - 44.99 \\u00a3)\"],[\"Pre\\u00e7os m\\u00e9dios (25.00 - 44.99 \\u00a3)\"],[\"Pre\\u00e7os altos ( 45,00 - 59,99 \\u00a3)\"],[\"Pre\\u00e7os baixos (10,00 - 24,99 \\u00a3)\"],[\"Pre\\u00e7os m\\u00e9dios (25.00 - 44.99 \\u00a3)\"],[\"Pre\\u00e7os baixos (10,00 - 24,99 \\u00a3)\"],[\"Pre\\u00e7os m\\u00e9dios (25.00 - 44.99 \\u00a3)\"],[\"Pre\\u00e7os baixos (10,00 - 24,99 \\u00a3)\"],[\"Pre\\u00e7os baixos (10,00 - 24,99 \\u00a3)\"],[\"Pre\\u00e7os altos ( 45,00 - 59,99 \\u00a3)\"],[\"Pre\\u00e7os m\\u00e9dios (25.00 - 44.99 \\u00a3)\"],[\"Pre\\u00e7os altos ( 45,00 - 59,99 \\u00a3)\"],[\"Pre\\u00e7os m\\u00e9dios (25.00 - 44.99 \\u00a3)\"],[\"Pre\\u00e7os baixos (10,00 - 24,99 \\u00a3)\"],[\"Pre\\u00e7os m\\u00e9dios (25.00 - 44.99 \\u00a3)\"],[\"Pre\\u00e7os altos ( 45,00 - 59,99 \\u00a3)\"],[\"Pre\\u00e7os m\\u00e9dios (25.00 - 44.99 \\u00a3)\"],[\"Pre\\u00e7os m\\u00e9dios (25.00 - 44.99 \\u00a3)\"],[\"Pre\\u00e7os baixos (10,00 - 24,99 \\u00a3)\"],[\"Pre\\u00e7os m\\u00e9dios (25.00 - 44.99 \\u00a3)\"],[\"Pre\\u00e7os baixos (10,00 - 24,99 \\u00a3)\"],[\"Pre\\u00e7os baixos (10,00 - 24,99 \\u00a3)\"],[\"Pre\\u00e7os altos ( 45,00 - 59,99 \\u00a3)\"],[\"Pre\\u00e7os altos ( 45,00 - 59,99 \\u00a3)\"],[\"Pre\\u00e7os baixos (10,00 - 24,99 \\u00a3)\"],[\"Pre\\u00e7os m\\u00e9dios (25.00 - 44.99 \\u00a3)\"],[\"Pre\\u00e7os m\\u00e9dios (25.00 - 44.99 \\u00a3)\"],[\"Pre\\u00e7os m\\u00e9dios (25.00 - 44.99 \\u00a3)\"],[\"Pre\\u00e7os altos ( 45,00 - 59,99 \\u00a3)\"],[\"Pre\\u00e7os m\\u00e9dios (25.00 - 44.99 \\u00a3)\"],[\"Pre\\u00e7os altos ( 45,00 - 59,99 \\u00a3)\"],[\"Pre\\u00e7os altos ( 45,00 - 59,99 \\u00a3)\"],[\"Pre\\u00e7os altos ( 45,00 - 59,99 \\u00a3)\"],[\"Pre\\u00e7os altos ( 45,00 - 59,99 \\u00a3)\"],[\"Pre\\u00e7os m\\u00e9dios (25.00 - 44.99 \\u00a3)\"],[\"Pre\\u00e7os baixos (10,00 - 24,99 \\u00a3)\"],[\"Pre\\u00e7os altos ( 45,00 - 59,99 \\u00a3)\"],[\"Pre\\u00e7os baixos (10,00 - 24,99 \\u00a3)\"],[\"Pre\\u00e7os altos ( 45,00 - 59,99 \\u00a3)\"],[\"Pre\\u00e7os baixos (10,00 - 24,99 \\u00a3)\"],[\"Pre\\u00e7os baixos (10,00 - 24,99 \\u00a3)\"],[\"Pre\\u00e7os baixos (10,00 - 24,99 \\u00a3)\"],[\"Pre\\u00e7os m\\u00e9dios (25.00 - 44.99 \\u00a3)\"],[\"Pre\\u00e7os m\\u00e9dios (25.00 - 44.99 \\u00a3)\"],[\"Pre\\u00e7os baixos (10,00 - 24,99 \\u00a3)\"],[\"Pre\\u00e7os m\\u00e9dios (25.00 - 44.99 \\u00a3)\"],[\"Pre\\u00e7os m\\u00e9dios (25.00 - 44.99 \\u00a3)\"],[\"Pre\\u00e7os m\\u00e9dios (25.00 - 44.99 \\u00a3)\"],[\"Pre\\u00e7os m\\u00e9dios (25.00 - 44.99 \\u00a3)\"],[\"Pre\\u00e7os altos ( 45,00 - 59,99 \\u00a3)\"],[\"Pre\\u00e7os altos ( 45,00 - 59,99 \\u00a3)\"],[\"Pre\\u00e7os altos ( 45,00 - 59,99 \\u00a3)\"],[\"Pre\\u00e7os baixos (10,00 - 24,99 \\u00a3)\"],[\"Pre\\u00e7os m\\u00e9dios (25.00 - 44.99 \\u00a3)\"],[\"Pre\\u00e7os altos ( 45,00 - 59,99 \\u00a3)\"],[\"Pre\\u00e7os m\\u00e9dios (25.00 - 44.99 \\u00a3)\"],[\"Pre\\u00e7os baixos (10,00 - 24,99 \\u00a3)\"],[\"Pre\\u00e7os baixos (10,00 - 24,99 \\u00a3)\"],[\"Pre\\u00e7os m\\u00e9dios (25.00 - 44.99 \\u00a3)\"],[\"Pre\\u00e7os m\\u00e9dios (25.00 - 44.99 \\u00a3)\"],[\"Pre\\u00e7os baixos (10,00 - 24,99 \\u00a3)\"],[\"Pre\\u00e7os baixos (10,00 - 24,99 \\u00a3)\"],[\"Pre\\u00e7os altos ( 45,00 - 59,99 \\u00a3)\"],[\"Pre\\u00e7os m\\u00e9dios (25.00 - 44.99 \\u00a3)\"],[\"Pre\\u00e7os altos ( 45,00 - 59,99 \\u00a3)\"],[\"Pre\\u00e7os baixos (10,00 - 24,99 \\u00a3)\"],[\"Pre\\u00e7os m\\u00e9dios (25.00 - 44.99 \\u00a3)\"],[\"Pre\\u00e7os altos ( 45,00 - 59,99 \\u00a3)\"],[\"Pre\\u00e7os altos ( 45,00 - 59,99 \\u00a3)\"],[\"Pre\\u00e7os baixos (10,00 - 24,99 \\u00a3)\"],[\"Pre\\u00e7os altos ( 45,00 - 59,99 \\u00a3)\"],[\"Pre\\u00e7os m\\u00e9dios (25.00 - 44.99 \\u00a3)\"],[\"Pre\\u00e7os altos ( 45,00 - 59,99 \\u00a3)\"],[\"Pre\\u00e7os baixos (10,00 - 24,99 \\u00a3)\"],[\"Pre\\u00e7os altos ( 45,00 - 59,99 \\u00a3)\"],[\"Pre\\u00e7os altos ( 45,00 - 59,99 \\u00a3)\"],[\"Pre\\u00e7os altos ( 45,00 - 59,99 \\u00a3)\"],[\"Pre\\u00e7os m\\u00e9dios (25.00 - 44.99 \\u00a3)\"],[\"Pre\\u00e7os m\\u00e9dios (25.00 - 44.99 \\u00a3)\"],[\"Pre\\u00e7os baixos (10,00 - 24,99 \\u00a3)\"],[\"Pre\\u00e7os m\\u00e9dios (25.00 - 44.99 \\u00a3)\"],[\"Pre\\u00e7os altos ( 45,00 - 59,99 \\u00a3)\"],[\"Pre\\u00e7os m\\u00e9dios (25.00 - 44.99 \\u00a3)\"],[\"Pre\\u00e7os baixos (10,00 - 24,99 \\u00a3)\"],[\"Pre\\u00e7os m\\u00e9dios (25.00 - 44.99 \\u00a3)\"],[\"Pre\\u00e7os altos ( 45,00 - 59,99 \\u00a3)\"],[\"Pre\\u00e7os baixos (10,00 - 24,99 \\u00a3)\"],[\"Pre\\u00e7os m\\u00e9dios (25.00 - 44.99 \\u00a3)\"],[\"Pre\\u00e7os altos ( 45,00 - 59,99 \\u00a3)\"],[\"Pre\\u00e7os baixos (10,00 - 24,99 \\u00a3)\"],[\"Pre\\u00e7os altos ( 45,00 - 59,99 \\u00a3)\"],[\"Pre\\u00e7os m\\u00e9dios (25.00 - 44.99 \\u00a3)\"],[\"Pre\\u00e7os altos ( 45,00 - 59,99 \\u00a3)\"],[\"Pre\\u00e7os m\\u00e9dios (25.00 - 44.99 \\u00a3)\"],[\"Pre\\u00e7os altos ( 45,00 - 59,99 \\u00a3)\"],[\"Pre\\u00e7os m\\u00e9dios (25.00 - 44.99 \\u00a3)\"],[\"Pre\\u00e7os m\\u00e9dios (25.00 - 44.99 \\u00a3)\"],[\"Pre\\u00e7os altos ( 45,00 - 59,99 \\u00a3)\"],[\"Pre\\u00e7os baixos (10,00 - 24,99 \\u00a3)\"],[\"Pre\\u00e7os altos ( 45,00 - 59,99 \\u00a3)\"],[\"Pre\\u00e7os altos ( 45,00 - 59,99 \\u00a3)\"],[\"Pre\\u00e7os m\\u00e9dios (25.00 - 44.99 \\u00a3)\"],[\"Pre\\u00e7os altos ( 45,00 - 59,99 \\u00a3)\"],[\"Pre\\u00e7os m\\u00e9dios (25.00 - 44.99 \\u00a3)\"],[\"Pre\\u00e7os baixos (10,00 - 24,99 \\u00a3)\"],[\"Pre\\u00e7os altos ( 45,00 - 59,99 \\u00a3)\"],[\"Pre\\u00e7os altos ( 45,00 - 59,99 \\u00a3)\"],[\"Pre\\u00e7os baixos (10,00 - 24,99 \\u00a3)\"],[\"Pre\\u00e7os altos ( 45,00 - 59,99 \\u00a3)\"],[\"Pre\\u00e7os m\\u00e9dios (25.00 - 44.99 \\u00a3)\"],[\"Pre\\u00e7os m\\u00e9dios (25.00 - 44.99 \\u00a3)\"],[\"Pre\\u00e7os baixos (10,00 - 24,99 \\u00a3)\"],[\"Pre\\u00e7os altos ( 45,00 - 59,99 \\u00a3)\"],[\"Pre\\u00e7os baixos (10,00 - 24,99 \\u00a3)\"],[\"Pre\\u00e7os baixos (10,00 - 24,99 \\u00a3)\"],[\"Pre\\u00e7os m\\u00e9dios (25.00 - 44.99 \\u00a3)\"],[\"Pre\\u00e7os m\\u00e9dios (25.00 - 44.99 \\u00a3)\"],[\"Pre\\u00e7os baixos (10,00 - 24,99 \\u00a3)\"],[\"Pre\\u00e7os m\\u00e9dios (25.00 - 44.99 \\u00a3)\"],[\"Pre\\u00e7os baixos (10,00 - 24,99 \\u00a3)\"],[\"Pre\\u00e7os m\\u00e9dios (25.00 - 44.99 \\u00a3)\"],[\"Pre\\u00e7os m\\u00e9dios (25.00 - 44.99 \\u00a3)\"],[\"Pre\\u00e7os altos ( 45,00 - 59,99 \\u00a3)\"],[\"Pre\\u00e7os m\\u00e9dios (25.00 - 44.99 \\u00a3)\"],[\"Pre\\u00e7os m\\u00e9dios (25.00 - 44.99 \\u00a3)\"],[\"Pre\\u00e7os altos ( 45,00 - 59,99 \\u00a3)\"],[\"Pre\\u00e7os m\\u00e9dios (25.00 - 44.99 \\u00a3)\"],[\"Pre\\u00e7os baixos (10,00 - 24,99 \\u00a3)\"],[\"Pre\\u00e7os altos ( 45,00 - 59,99 \\u00a3)\"],[\"Pre\\u00e7os altos ( 45,00 - 59,99 \\u00a3)\"],[\"Pre\\u00e7os baixos (10,00 - 24,99 \\u00a3)\"],[\"Pre\\u00e7os altos ( 45,00 - 59,99 \\u00a3)\"],[\"Pre\\u00e7os baixos (10,00 - 24,99 \\u00a3)\"],[\"Pre\\u00e7os altos ( 45,00 - 59,99 \\u00a3)\"],[\"Pre\\u00e7os m\\u00e9dios (25.00 - 44.99 \\u00a3)\"],[\"Pre\\u00e7os m\\u00e9dios (25.00 - 44.99 \\u00a3)\"],[\"Pre\\u00e7os m\\u00e9dios (25.00 - 44.99 \\u00a3)\"],[\"Pre\\u00e7os baixos (10,00 - 24,99 \\u00a3)\"],[\"Pre\\u00e7os altos ( 45,00 - 59,99 \\u00a3)\"],[\"Pre\\u00e7os altos ( 45,00 - 59,99 \\u00a3)\"],[\"Pre\\u00e7os m\\u00e9dios (25.00 - 44.99 \\u00a3)\"],[\"Pre\\u00e7os baixos (10,00 - 24,99 \\u00a3)\"],[\"Pre\\u00e7os altos ( 45,00 - 59,99 \\u00a3)\"],[\"Pre\\u00e7os baixos (10,00 - 24,99 \\u00a3)\"],[\"Pre\\u00e7os m\\u00e9dios (25.00 - 44.99 \\u00a3)\"],[\"Pre\\u00e7os baixos (10,00 - 24,99 \\u00a3)\"],[\"Pre\\u00e7os altos ( 45,00 - 59,99 \\u00a3)\"],[\"Pre\\u00e7os altos ( 45,00 - 59,99 \\u00a3)\"],[\"Pre\\u00e7os m\\u00e9dios (25.00 - 44.99 \\u00a3)\"],[\"Pre\\u00e7os altos ( 45,00 - 59,99 \\u00a3)\"],[\"Pre\\u00e7os altos ( 45,00 - 59,99 \\u00a3)\"],[\"Pre\\u00e7os m\\u00e9dios (25.00 - 44.99 \\u00a3)\"],[\"Pre\\u00e7os m\\u00e9dios (25.00 - 44.99 \\u00a3)\"],[\"Pre\\u00e7os altos ( 45,00 - 59,99 \\u00a3)\"],[\"Pre\\u00e7os m\\u00e9dios (25.00 - 44.99 \\u00a3)\"],[\"Pre\\u00e7os baixos (10,00 - 24,99 \\u00a3)\"],[\"Pre\\u00e7os altos ( 45,00 - 59,99 \\u00a3)\"],[\"Pre\\u00e7os baixos (10,00 - 24,99 \\u00a3)\"],[\"Pre\\u00e7os altos ( 45,00 - 59,99 \\u00a3)\"],[\"Pre\\u00e7os altos ( 45,00 - 59,99 \\u00a3)\"],[\"Pre\\u00e7os baixos (10,00 - 24,99 \\u00a3)\"],[\"Pre\\u00e7os baixos (10,00 - 24,99 \\u00a3)\"],[\"Pre\\u00e7os altos ( 45,00 - 59,99 \\u00a3)\"],[\"Pre\\u00e7os baixos (10,00 - 24,99 \\u00a3)\"],[\"Pre\\u00e7os baixos (10,00 - 24,99 \\u00a3)\"],[\"Pre\\u00e7os m\\u00e9dios (25.00 - 44.99 \\u00a3)\"],[\"Pre\\u00e7os baixos (10,00 - 24,99 \\u00a3)\"],[\"Pre\\u00e7os altos ( 45,00 - 59,99 \\u00a3)\"],[\"Pre\\u00e7os m\\u00e9dios (25.00 - 44.99 \\u00a3)\"],[\"Pre\\u00e7os baixos (10,00 - 24,99 \\u00a3)\"],[\"Pre\\u00e7os altos ( 45,00 - 59,99 \\u00a3)\"],[\"Pre\\u00e7os altos ( 45,00 - 59,99 \\u00a3)\"],[\"Pre\\u00e7os altos ( 45,00 - 59,99 \\u00a3)\"],[\"Pre\\u00e7os baixos (10,00 - 24,99 \\u00a3)\"],[\"Pre\\u00e7os baixos (10,00 - 24,99 \\u00a3)\"],[\"Pre\\u00e7os baixos (10,00 - 24,99 \\u00a3)\"],[\"Pre\\u00e7os baixos (10,00 - 24,99 \\u00a3)\"],[\"Pre\\u00e7os baixos (10,00 - 24,99 \\u00a3)\"],[\"Pre\\u00e7os baixos (10,00 - 24,99 \\u00a3)\"],[\"Pre\\u00e7os baixos (10,00 - 24,99 \\u00a3)\"],[\"Pre\\u00e7os altos ( 45,00 - 59,99 \\u00a3)\"],[\"Pre\\u00e7os baixos (10,00 - 24,99 \\u00a3)\"],[\"Pre\\u00e7os altos ( 45,00 - 59,99 \\u00a3)\"],[\"Pre\\u00e7os altos ( 45,00 - 59,99 \\u00a3)\"],[\"Pre\\u00e7os altos ( 45,00 - 59,99 \\u00a3)\"],[\"Pre\\u00e7os altos ( 45,00 - 59,99 \\u00a3)\"],[\"Pre\\u00e7os baixos (10,00 - 24,99 \\u00a3)\"],[\"Pre\\u00e7os m\\u00e9dios (25.00 - 44.99 \\u00a3)\"],[\"Pre\\u00e7os m\\u00e9dios (25.00 - 44.99 \\u00a3)\"],[\"Pre\\u00e7os baixos (10,00 - 24,99 \\u00a3)\"],[\"Pre\\u00e7os baixos (10,00 - 24,99 \\u00a3)\"],[\"Pre\\u00e7os altos ( 45,00 - 59,99 \\u00a3)\"],[\"Pre\\u00e7os baixos (10,00 - 24,99 \\u00a3)\"],[\"Pre\\u00e7os altos ( 45,00 - 59,99 \\u00a3)\"],[\"Pre\\u00e7os altos ( 45,00 - 59,99 \\u00a3)\"],[\"Pre\\u00e7os altos ( 45,00 - 59,99 \\u00a3)\"],[\"Pre\\u00e7os m\\u00e9dios (25.00 - 44.99 \\u00a3)\"],[\"Pre\\u00e7os baixos (10,00 - 24,99 \\u00a3)\"],[\"Pre\\u00e7os altos ( 45,00 - 59,99 \\u00a3)\"],[\"Pre\\u00e7os baixos (10,00 - 24,99 \\u00a3)\"],[\"Pre\\u00e7os m\\u00e9dios (25.00 - 44.99 \\u00a3)\"],[\"Pre\\u00e7os m\\u00e9dios (25.00 - 44.99 \\u00a3)\"],[\"Pre\\u00e7os m\\u00e9dios (25.00 - 44.99 \\u00a3)\"],[\"Pre\\u00e7os m\\u00e9dios (25.00 - 44.99 \\u00a3)\"],[\"Pre\\u00e7os altos ( 45,00 - 59,99 \\u00a3)\"],[\"Pre\\u00e7os altos ( 45,00 - 59,99 \\u00a3)\"],[\"Pre\\u00e7os altos ( 45,00 - 59,99 \\u00a3)\"],[\"Pre\\u00e7os m\\u00e9dios (25.00 - 44.99 \\u00a3)\"],[\"Pre\\u00e7os m\\u00e9dios (25.00 - 44.99 \\u00a3)\"],[\"Pre\\u00e7os baixos (10,00 - 24,99 \\u00a3)\"],[\"Pre\\u00e7os m\\u00e9dios (25.00 - 44.99 \\u00a3)\"],[\"Pre\\u00e7os m\\u00e9dios (25.00 - 44.99 \\u00a3)\"],[\"Pre\\u00e7os m\\u00e9dios (25.00 - 44.99 \\u00a3)\"],[\"Pre\\u00e7os m\\u00e9dios (25.00 - 44.99 \\u00a3)\"],[\"Pre\\u00e7os m\\u00e9dios (25.00 - 44.99 \\u00a3)\"],[\"Pre\\u00e7os m\\u00e9dios (25.00 - 44.99 \\u00a3)\"],[\"Pre\\u00e7os altos ( 45,00 - 59,99 \\u00a3)\"],[\"Pre\\u00e7os m\\u00e9dios (25.00 - 44.99 \\u00a3)\"],[\"Pre\\u00e7os m\\u00e9dios (25.00 - 44.99 \\u00a3)\"],[\"Pre\\u00e7os m\\u00e9dios (25.00 - 44.99 \\u00a3)\"],[\"Pre\\u00e7os m\\u00e9dios (25.00 - 44.99 \\u00a3)\"],[\"Pre\\u00e7os altos ( 45,00 - 59,99 \\u00a3)\"],[\"Pre\\u00e7os m\\u00e9dios (25.00 - 44.99 \\u00a3)\"],[\"Pre\\u00e7os baixos (10,00 - 24,99 \\u00a3)\"],[\"Pre\\u00e7os baixos (10,00 - 24,99 \\u00a3)\"],[\"Pre\\u00e7os altos ( 45,00 - 59,99 \\u00a3)\"],[\"Pre\\u00e7os m\\u00e9dios (25.00 - 44.99 \\u00a3)\"],[\"Pre\\u00e7os altos ( 45,00 - 59,99 \\u00a3)\"],[\"Pre\\u00e7os m\\u00e9dios (25.00 - 44.99 \\u00a3)\"],[\"Pre\\u00e7os altos ( 45,00 - 59,99 \\u00a3)\"],[\"Pre\\u00e7os m\\u00e9dios (25.00 - 44.99 \\u00a3)\"],[\"Pre\\u00e7os m\\u00e9dios (25.00 - 44.99 \\u00a3)\"],[\"Pre\\u00e7os baixos (10,00 - 24,99 \\u00a3)\"],[\"Pre\\u00e7os m\\u00e9dios (25.00 - 44.99 \\u00a3)\"],[\"Pre\\u00e7os m\\u00e9dios (25.00 - 44.99 \\u00a3)\"],[\"Pre\\u00e7os altos ( 45,00 - 59,99 \\u00a3)\"],[\"Pre\\u00e7os altos ( 45,00 - 59,99 \\u00a3)\"],[\"Pre\\u00e7os baixos (10,00 - 24,99 \\u00a3)\"],[\"Pre\\u00e7os altos ( 45,00 - 59,99 \\u00a3)\"],[\"Pre\\u00e7os m\\u00e9dios (25.00 - 44.99 \\u00a3)\"],[\"Pre\\u00e7os baixos (10,00 - 24,99 \\u00a3)\"],[\"Pre\\u00e7os m\\u00e9dios (25.00 - 44.99 \\u00a3)\"],[\"Pre\\u00e7os baixos (10,00 - 24,99 \\u00a3)\"],[\"Pre\\u00e7os altos ( 45,00 - 59,99 \\u00a3)\"],[\"Pre\\u00e7os altos ( 45,00 - 59,99 \\u00a3)\"],[\"Pre\\u00e7os m\\u00e9dios (25.00 - 44.99 \\u00a3)\"],[\"Pre\\u00e7os m\\u00e9dios (25.00 - 44.99 \\u00a3)\"],[\"Pre\\u00e7os m\\u00e9dios (25.00 - 44.99 \\u00a3)\"],[\"Pre\\u00e7os baixos (10,00 - 24,99 \\u00a3)\"],[\"Pre\\u00e7os baixos (10,00 - 24,99 \\u00a3)\"],[\"Pre\\u00e7os altos ( 45,00 - 59,99 \\u00a3)\"],[\"Pre\\u00e7os altos ( 45,00 - 59,99 \\u00a3)\"],[\"Pre\\u00e7os baixos (10,00 - 24,99 \\u00a3)\"],[\"Pre\\u00e7os altos ( 45,00 - 59,99 \\u00a3)\"],[\"Pre\\u00e7os m\\u00e9dios (25.00 - 44.99 \\u00a3)\"],[\"Pre\\u00e7os baixos (10,00 - 24,99 \\u00a3)\"],[\"Pre\\u00e7os baixos (10,00 - 24,99 \\u00a3)\"],[\"Pre\\u00e7os m\\u00e9dios (25.00 - 44.99 \\u00a3)\"],[\"Pre\\u00e7os altos ( 45,00 - 59,99 \\u00a3)\"],[\"Pre\\u00e7os m\\u00e9dios (25.00 - 44.99 \\u00a3)\"],[\"Pre\\u00e7os m\\u00e9dios (25.00 - 44.99 \\u00a3)\"],[\"Pre\\u00e7os m\\u00e9dios (25.00 - 44.99 \\u00a3)\"],[\"Pre\\u00e7os m\\u00e9dios (25.00 - 44.99 \\u00a3)\"],[\"Pre\\u00e7os m\\u00e9dios (25.00 - 44.99 \\u00a3)\"],[\"Pre\\u00e7os baixos (10,00 - 24,99 \\u00a3)\"],[\"Pre\\u00e7os m\\u00e9dios (25.00 - 44.99 \\u00a3)\"],[\"Pre\\u00e7os altos ( 45,00 - 59,99 \\u00a3)\"],[\"Pre\\u00e7os baixos (10,00 - 24,99 \\u00a3)\"],[\"Pre\\u00e7os m\\u00e9dios (25.00 - 44.99 \\u00a3)\"],[\"Pre\\u00e7os m\\u00e9dios (25.00 - 44.99 \\u00a3)\"],[\"Pre\\u00e7os baixos (10,00 - 24,99 \\u00a3)\"],[\"Pre\\u00e7os m\\u00e9dios (25.00 - 44.99 \\u00a3)\"],[\"Pre\\u00e7os altos ( 45,00 - 59,99 \\u00a3)\"],[\"Pre\\u00e7os m\\u00e9dios (25.00 - 44.99 \\u00a3)\"],[\"Pre\\u00e7os m\\u00e9dios (25.00 - 44.99 \\u00a3)\"],[\"Pre\\u00e7os baixos (10,00 - 24,99 \\u00a3)\"],[\"Pre\\u00e7os baixos (10,00 - 24,99 \\u00a3)\"],[\"Pre\\u00e7os baixos (10,00 - 24,99 \\u00a3)\"],[\"Pre\\u00e7os m\\u00e9dios (25.00 - 44.99 \\u00a3)\"],[\"Pre\\u00e7os altos ( 45,00 - 59,99 \\u00a3)\"],[\"Pre\\u00e7os altos ( 45,00 - 59,99 \\u00a3)\"],[\"Pre\\u00e7os m\\u00e9dios (25.00 - 44.99 \\u00a3)\"],[\"Pre\\u00e7os m\\u00e9dios (25.00 - 44.99 \\u00a3)\"],[\"Pre\\u00e7os altos ( 45,00 - 59,99 \\u00a3)\"],[\"Pre\\u00e7os baixos (10,00 - 24,99 \\u00a3)\"],[\"Pre\\u00e7os m\\u00e9dios (25.00 - 44.99 \\u00a3)\"],[\"Pre\\u00e7os altos ( 45,00 - 59,99 \\u00a3)\"],[\"Pre\\u00e7os m\\u00e9dios (25.00 - 44.99 \\u00a3)\"],[\"Pre\\u00e7os baixos (10,00 - 24,99 \\u00a3)\"],[\"Pre\\u00e7os altos ( 45,00 - 59,99 \\u00a3)\"],[\"Pre\\u00e7os m\\u00e9dios (25.00 - 44.99 \\u00a3)\"],[\"Pre\\u00e7os altos ( 45,00 - 59,99 \\u00a3)\"],[\"Pre\\u00e7os altos ( 45,00 - 59,99 \\u00a3)\"],[\"Pre\\u00e7os m\\u00e9dios (25.00 - 44.99 \\u00a3)\"],[\"Pre\\u00e7os m\\u00e9dios (25.00 - 44.99 \\u00a3)\"],[\"Pre\\u00e7os baixos (10,00 - 24,99 \\u00a3)\"],[\"Pre\\u00e7os altos ( 45,00 - 59,99 \\u00a3)\"],[\"Pre\\u00e7os altos ( 45,00 - 59,99 \\u00a3)\"],[\"Pre\\u00e7os baixos (10,00 - 24,99 \\u00a3)\"],[\"Pre\\u00e7os baixos (10,00 - 24,99 \\u00a3)\"],[\"Pre\\u00e7os baixos (10,00 - 24,99 \\u00a3)\"],[\"Pre\\u00e7os altos ( 45,00 - 59,99 \\u00a3)\"],[\"Pre\\u00e7os m\\u00e9dios (25.00 - 44.99 \\u00a3)\"],[\"Pre\\u00e7os altos ( 45,00 - 59,99 \\u00a3)\"],[\"Pre\\u00e7os m\\u00e9dios (25.00 - 44.99 \\u00a3)\"],[\"Pre\\u00e7os m\\u00e9dios (25.00 - 44.99 \\u00a3)\"],[\"Pre\\u00e7os altos ( 45,00 - 59,99 \\u00a3)\"],[\"Pre\\u00e7os m\\u00e9dios (25.00 - 44.99 \\u00a3)\"],[\"Pre\\u00e7os altos ( 45,00 - 59,99 \\u00a3)\"],[\"Pre\\u00e7os m\\u00e9dios (25.00 - 44.99 \\u00a3)\"],[\"Pre\\u00e7os altos ( 45,00 - 59,99 \\u00a3)\"],[\"Pre\\u00e7os baixos (10,00 - 24,99 \\u00a3)\"],[\"Pre\\u00e7os altos ( 45,00 - 59,99 \\u00a3)\"],[\"Pre\\u00e7os m\\u00e9dios (25.00 - 44.99 \\u00a3)\"],[\"Pre\\u00e7os m\\u00e9dios (25.00 - 44.99 \\u00a3)\"],[\"Pre\\u00e7os m\\u00e9dios (25.00 - 44.99 \\u00a3)\"],[\"Pre\\u00e7os baixos (10,00 - 24,99 \\u00a3)\"],[\"Pre\\u00e7os m\\u00e9dios (25.00 - 44.99 \\u00a3)\"],[\"Pre\\u00e7os baixos (10,00 - 24,99 \\u00a3)\"],[\"Pre\\u00e7os altos ( 45,00 - 59,99 \\u00a3)\"],[\"Pre\\u00e7os baixos (10,00 - 24,99 \\u00a3)\"],[\"Pre\\u00e7os baixos (10,00 - 24,99 \\u00a3)\"],[\"Pre\\u00e7os baixos (10,00 - 24,99 \\u00a3)\"],[\"Pre\\u00e7os altos ( 45,00 - 59,99 \\u00a3)\"],[\"Pre\\u00e7os altos ( 45,00 - 59,99 \\u00a3)\"],[\"Pre\\u00e7os m\\u00e9dios (25.00 - 44.99 \\u00a3)\"],[\"Pre\\u00e7os baixos (10,00 - 24,99 \\u00a3)\"],[\"Pre\\u00e7os altos ( 45,00 - 59,99 \\u00a3)\"],[\"Pre\\u00e7os altos ( 45,00 - 59,99 \\u00a3)\"],[\"Pre\\u00e7os baixos (10,00 - 24,99 \\u00a3)\"],[\"Pre\\u00e7os m\\u00e9dios (25.00 - 44.99 \\u00a3)\"],[\"Pre\\u00e7os altos ( 45,00 - 59,99 \\u00a3)\"],[\"Pre\\u00e7os altos ( 45,00 - 59,99 \\u00a3)\"],[\"Pre\\u00e7os baixos (10,00 - 24,99 \\u00a3)\"],[\"Pre\\u00e7os m\\u00e9dios (25.00 - 44.99 \\u00a3)\"],[\"Pre\\u00e7os altos ( 45,00 - 59,99 \\u00a3)\"],[\"Pre\\u00e7os baixos (10,00 - 24,99 \\u00a3)\"],[\"Pre\\u00e7os m\\u00e9dios (25.00 - 44.99 \\u00a3)\"],[\"Pre\\u00e7os m\\u00e9dios (25.00 - 44.99 \\u00a3)\"],[\"Pre\\u00e7os altos ( 45,00 - 59,99 \\u00a3)\"],[\"Pre\\u00e7os m\\u00e9dios (25.00 - 44.99 \\u00a3)\"],[\"Pre\\u00e7os baixos (10,00 - 24,99 \\u00a3)\"],[\"Pre\\u00e7os altos ( 45,00 - 59,99 \\u00a3)\"],[\"Pre\\u00e7os m\\u00e9dios (25.00 - 44.99 \\u00a3)\"],[\"Pre\\u00e7os altos ( 45,00 - 59,99 \\u00a3)\"],[\"Pre\\u00e7os altos ( 45,00 - 59,99 \\u00a3)\"],[\"Pre\\u00e7os m\\u00e9dios (25.00 - 44.99 \\u00a3)\"],[\"Pre\\u00e7os altos ( 45,00 - 59,99 \\u00a3)\"],[\"Pre\\u00e7os baixos (10,00 - 24,99 \\u00a3)\"],[\"Pre\\u00e7os m\\u00e9dios (25.00 - 44.99 \\u00a3)\"],[\"Pre\\u00e7os baixos (10,00 - 24,99 \\u00a3)\"],[\"Pre\\u00e7os m\\u00e9dios (25.00 - 44.99 \\u00a3)\"],[\"Pre\\u00e7os altos ( 45,00 - 59,99 \\u00a3)\"],[\"Pre\\u00e7os baixos (10,00 - 24,99 \\u00a3)\"],[\"Pre\\u00e7os m\\u00e9dios (25.00 - 44.99 \\u00a3)\"],[\"Pre\\u00e7os m\\u00e9dios (25.00 - 44.99 \\u00a3)\"],[\"Pre\\u00e7os baixos (10,00 - 24,99 \\u00a3)\"],[\"Pre\\u00e7os altos ( 45,00 - 59,99 \\u00a3)\"],[\"Pre\\u00e7os baixos (10,00 - 24,99 \\u00a3)\"],[\"Pre\\u00e7os altos ( 45,00 - 59,99 \\u00a3)\"],[\"Pre\\u00e7os altos ( 45,00 - 59,99 \\u00a3)\"],[\"Pre\\u00e7os altos ( 45,00 - 59,99 \\u00a3)\"],[\"Pre\\u00e7os m\\u00e9dios (25.00 - 44.99 \\u00a3)\"],[\"Pre\\u00e7os m\\u00e9dios (25.00 - 44.99 \\u00a3)\"],[\"Pre\\u00e7os baixos (10,00 - 24,99 \\u00a3)\"],[\"Pre\\u00e7os m\\u00e9dios (25.00 - 44.99 \\u00a3)\"],[\"Pre\\u00e7os baixos (10,00 - 24,99 \\u00a3)\"],[\"Pre\\u00e7os altos ( 45,00 - 59,99 \\u00a3)\"],[\"Pre\\u00e7os m\\u00e9dios (25.00 - 44.99 \\u00a3)\"],[\"Pre\\u00e7os m\\u00e9dios (25.00 - 44.99 \\u00a3)\"],[\"Pre\\u00e7os m\\u00e9dios (25.00 - 44.99 \\u00a3)\"],[\"Pre\\u00e7os baixos (10,00 - 24,99 \\u00a3)\"],[\"Pre\\u00e7os baixos (10,00 - 24,99 \\u00a3)\"],[\"Pre\\u00e7os baixos (10,00 - 24,99 \\u00a3)\"],[\"Pre\\u00e7os baixos (10,00 - 24,99 \\u00a3)\"],[\"Pre\\u00e7os m\\u00e9dios (25.00 - 44.99 \\u00a3)\"],[\"Pre\\u00e7os baixos (10,00 - 24,99 \\u00a3)\"],[\"Pre\\u00e7os baixos (10,00 - 24,99 \\u00a3)\"],[\"Pre\\u00e7os baixos (10,00 - 24,99 \\u00a3)\"],[\"Pre\\u00e7os baixos (10,00 - 24,99 \\u00a3)\"],[\"Pre\\u00e7os altos ( 45,00 - 59,99 \\u00a3)\"],[\"Pre\\u00e7os m\\u00e9dios (25.00 - 44.99 \\u00a3)\"],[\"Pre\\u00e7os baixos (10,00 - 24,99 \\u00a3)\"],[\"Pre\\u00e7os altos ( 45,00 - 59,99 \\u00a3)\"],[\"Pre\\u00e7os m\\u00e9dios (25.00 - 44.99 \\u00a3)\"],[\"Pre\\u00e7os m\\u00e9dios (25.00 - 44.99 \\u00a3)\"],[\"Pre\\u00e7os baixos (10,00 - 24,99 \\u00a3)\"],[\"Pre\\u00e7os baixos (10,00 - 24,99 \\u00a3)\"],[\"Pre\\u00e7os m\\u00e9dios (25.00 - 44.99 \\u00a3)\"],[\"Pre\\u00e7os baixos (10,00 - 24,99 \\u00a3)\"],[\"Pre\\u00e7os baixos (10,00 - 24,99 \\u00a3)\"],[\"Pre\\u00e7os m\\u00e9dios (25.00 - 44.99 \\u00a3)\"],[\"Pre\\u00e7os m\\u00e9dios (25.00 - 44.99 \\u00a3)\"],[\"Pre\\u00e7os m\\u00e9dios (25.00 - 44.99 \\u00a3)\"],[\"Pre\\u00e7os altos ( 45,00 - 59,99 \\u00a3)\"],[\"Pre\\u00e7os altos ( 45,00 - 59,99 \\u00a3)\"],[\"Pre\\u00e7os m\\u00e9dios (25.00 - 44.99 \\u00a3)\"],[\"Pre\\u00e7os baixos (10,00 - 24,99 \\u00a3)\"],[\"Pre\\u00e7os baixos (10,00 - 24,99 \\u00a3)\"],[\"Pre\\u00e7os m\\u00e9dios (25.00 - 44.99 \\u00a3)\"],[\"Pre\\u00e7os altos ( 45,00 - 59,99 \\u00a3)\"],[\"Pre\\u00e7os baixos (10,00 - 24,99 \\u00a3)\"],[\"Pre\\u00e7os altos ( 45,00 - 59,99 \\u00a3)\"],[\"Pre\\u00e7os altos ( 45,00 - 59,99 \\u00a3)\"],[\"Pre\\u00e7os m\\u00e9dios (25.00 - 44.99 \\u00a3)\"],[\"Pre\\u00e7os altos ( 45,00 - 59,99 \\u00a3)\"],[\"Pre\\u00e7os baixos (10,00 - 24,99 \\u00a3)\"],[\"Pre\\u00e7os baixos (10,00 - 24,99 \\u00a3)\"],[\"Pre\\u00e7os altos ( 45,00 - 59,99 \\u00a3)\"],[\"Pre\\u00e7os m\\u00e9dios (25.00 - 44.99 \\u00a3)\"],[\"Pre\\u00e7os altos ( 45,00 - 59,99 \\u00a3)\"],[\"Pre\\u00e7os altos ( 45,00 - 59,99 \\u00a3)\"],[\"Pre\\u00e7os m\\u00e9dios (25.00 - 44.99 \\u00a3)\"],[\"Pre\\u00e7os m\\u00e9dios (25.00 - 44.99 \\u00a3)\"],[\"Pre\\u00e7os m\\u00e9dios (25.00 - 44.99 \\u00a3)\"],[\"Pre\\u00e7os baixos (10,00 - 24,99 \\u00a3)\"],[\"Pre\\u00e7os baixos (10,00 - 24,99 \\u00a3)\"],[\"Pre\\u00e7os m\\u00e9dios (25.00 - 44.99 \\u00a3)\"],[\"Pre\\u00e7os altos ( 45,00 - 59,99 \\u00a3)\"],[\"Pre\\u00e7os m\\u00e9dios (25.00 - 44.99 \\u00a3)\"],[\"Pre\\u00e7os altos ( 45,00 - 59,99 \\u00a3)\"],[\"Pre\\u00e7os altos ( 45,00 - 59,99 \\u00a3)\"],[\"Pre\\u00e7os baixos (10,00 - 24,99 \\u00a3)\"],[\"Pre\\u00e7os altos ( 45,00 - 59,99 \\u00a3)\"],[\"Pre\\u00e7os altos ( 45,00 - 59,99 \\u00a3)\"],[\"Pre\\u00e7os baixos (10,00 - 24,99 \\u00a3)\"],[\"Pre\\u00e7os baixos (10,00 - 24,99 \\u00a3)\"],[\"Pre\\u00e7os baixos (10,00 - 24,99 \\u00a3)\"],[\"Pre\\u00e7os baixos (10,00 - 24,99 \\u00a3)\"],[\"Pre\\u00e7os altos ( 45,00 - 59,99 \\u00a3)\"],[\"Pre\\u00e7os baixos (10,00 - 24,99 \\u00a3)\"],[\"Pre\\u00e7os m\\u00e9dios (25.00 - 44.99 \\u00a3)\"],[\"Pre\\u00e7os m\\u00e9dios (25.00 - 44.99 \\u00a3)\"],[\"Pre\\u00e7os m\\u00e9dios (25.00 - 44.99 \\u00a3)\"],[\"Pre\\u00e7os baixos (10,00 - 24,99 \\u00a3)\"],[\"Pre\\u00e7os baixos (10,00 - 24,99 \\u00a3)\"],[\"Pre\\u00e7os m\\u00e9dios (25.00 - 44.99 \\u00a3)\"],[\"Pre\\u00e7os altos ( 45,00 - 59,99 \\u00a3)\"],[\"Pre\\u00e7os baixos (10,00 - 24,99 \\u00a3)\"],[\"Pre\\u00e7os m\\u00e9dios (25.00 - 44.99 \\u00a3)\"],[\"Pre\\u00e7os m\\u00e9dios (25.00 - 44.99 \\u00a3)\"],[\"Pre\\u00e7os m\\u00e9dios (25.00 - 44.99 \\u00a3)\"],[\"Pre\\u00e7os altos ( 45,00 - 59,99 \\u00a3)\"],[\"Pre\\u00e7os m\\u00e9dios (25.00 - 44.99 \\u00a3)\"],[\"Pre\\u00e7os baixos (10,00 - 24,99 \\u00a3)\"],[\"Pre\\u00e7os altos ( 45,00 - 59,99 \\u00a3)\"],[\"Pre\\u00e7os baixos (10,00 - 24,99 \\u00a3)\"],[\"Pre\\u00e7os altos ( 45,00 - 59,99 \\u00a3)\"],[\"Pre\\u00e7os baixos (10,00 - 24,99 \\u00a3)\"],[\"Pre\\u00e7os m\\u00e9dios (25.00 - 44.99 \\u00a3)\"],[\"Pre\\u00e7os altos ( 45,00 - 59,99 \\u00a3)\"],[\"Pre\\u00e7os altos ( 45,00 - 59,99 \\u00a3)\"],[\"Pre\\u00e7os altos ( 45,00 - 59,99 \\u00a3)\"],[\"Pre\\u00e7os m\\u00e9dios (25.00 - 44.99 \\u00a3)\"],[\"Pre\\u00e7os altos ( 45,00 - 59,99 \\u00a3)\"],[\"Pre\\u00e7os m\\u00e9dios (25.00 - 44.99 \\u00a3)\"],[\"Pre\\u00e7os baixos (10,00 - 24,99 \\u00a3)\"],[\"Pre\\u00e7os baixos (10,00 - 24,99 \\u00a3)\"],[\"Pre\\u00e7os altos ( 45,00 - 59,99 \\u00a3)\"],[\"Pre\\u00e7os baixos (10,00 - 24,99 \\u00a3)\"],[\"Pre\\u00e7os m\\u00e9dios (25.00 - 44.99 \\u00a3)\"],[\"Pre\\u00e7os m\\u00e9dios (25.00 - 44.99 \\u00a3)\"],[\"Pre\\u00e7os baixos (10,00 - 24,99 \\u00a3)\"],[\"Pre\\u00e7os m\\u00e9dios (25.00 - 44.99 \\u00a3)\"],[\"Pre\\u00e7os baixos (10,00 - 24,99 \\u00a3)\"],[\"Pre\\u00e7os altos ( 45,00 - 59,99 \\u00a3)\"],[\"Pre\\u00e7os baixos (10,00 - 24,99 \\u00a3)\"],[\"Pre\\u00e7os altos ( 45,00 - 59,99 \\u00a3)\"],[\"Pre\\u00e7os m\\u00e9dios (25.00 - 44.99 \\u00a3)\"],[\"Pre\\u00e7os m\\u00e9dios (25.00 - 44.99 \\u00a3)\"],[\"Pre\\u00e7os m\\u00e9dios (25.00 - 44.99 \\u00a3)\"],[\"Pre\\u00e7os m\\u00e9dios (25.00 - 44.99 \\u00a3)\"],[\"Pre\\u00e7os altos ( 45,00 - 59,99 \\u00a3)\"],[\"Pre\\u00e7os baixos (10,00 - 24,99 \\u00a3)\"],[\"Pre\\u00e7os baixos (10,00 - 24,99 \\u00a3)\"],[\"Pre\\u00e7os altos ( 45,00 - 59,99 \\u00a3)\"],[\"Pre\\u00e7os baixos (10,00 - 24,99 \\u00a3)\"],[\"Pre\\u00e7os altos ( 45,00 - 59,99 \\u00a3)\"],[\"Pre\\u00e7os baixos (10,00 - 24,99 \\u00a3)\"],[\"Pre\\u00e7os baixos (10,00 - 24,99 \\u00a3)\"],[\"Pre\\u00e7os altos ( 45,00 - 59,99 \\u00a3)\"],[\"Pre\\u00e7os altos ( 45,00 - 59,99 \\u00a3)\"],[\"Pre\\u00e7os baixos (10,00 - 24,99 \\u00a3)\"],[\"Pre\\u00e7os baixos (10,00 - 24,99 \\u00a3)\"],[\"Pre\\u00e7os altos ( 45,00 - 59,99 \\u00a3)\"],[\"Pre\\u00e7os altos ( 45,00 - 59,99 \\u00a3)\"],[\"Pre\\u00e7os baixos (10,00 - 24,99 \\u00a3)\"],[\"Pre\\u00e7os m\\u00e9dios (25.00 - 44.99 \\u00a3)\"],[\"Pre\\u00e7os baixos (10,00 - 24,99 \\u00a3)\"],[\"Pre\\u00e7os m\\u00e9dios (25.00 - 44.99 \\u00a3)\"],[\"Pre\\u00e7os m\\u00e9dios (25.00 - 44.99 \\u00a3)\"],[\"Pre\\u00e7os m\\u00e9dios (25.00 - 44.99 \\u00a3)\"],[\"Pre\\u00e7os baixos (10,00 - 24,99 \\u00a3)\"],[\"Pre\\u00e7os m\\u00e9dios (25.00 - 44.99 \\u00a3)\"],[\"Pre\\u00e7os m\\u00e9dios (25.00 - 44.99 \\u00a3)\"],[\"Pre\\u00e7os altos ( 45,00 - 59,99 \\u00a3)\"],[\"Pre\\u00e7os m\\u00e9dios (25.00 - 44.99 \\u00a3)\"],[\"Pre\\u00e7os m\\u00e9dios (25.00 - 44.99 \\u00a3)\"],[\"Pre\\u00e7os altos ( 45,00 - 59,99 \\u00a3)\"],[\"Pre\\u00e7os m\\u00e9dios (25.00 - 44.99 \\u00a3)\"],[\"Pre\\u00e7os baixos (10,00 - 24,99 \\u00a3)\"],[\"Pre\\u00e7os altos ( 45,00 - 59,99 \\u00a3)\"],[\"Pre\\u00e7os m\\u00e9dios (25.00 - 44.99 \\u00a3)\"],[\"Pre\\u00e7os m\\u00e9dios (25.00 - 44.99 \\u00a3)\"],[\"Pre\\u00e7os altos ( 45,00 - 59,99 \\u00a3)\"],[\"Pre\\u00e7os m\\u00e9dios (25.00 - 44.99 \\u00a3)\"],[\"Pre\\u00e7os m\\u00e9dios (25.00 - 44.99 \\u00a3)\"],[\"Pre\\u00e7os altos ( 45,00 - 59,99 \\u00a3)\"],[\"Pre\\u00e7os altos ( 45,00 - 59,99 \\u00a3)\"],[\"Pre\\u00e7os baixos (10,00 - 24,99 \\u00a3)\"],[\"Pre\\u00e7os altos ( 45,00 - 59,99 \\u00a3)\"],[\"Pre\\u00e7os m\\u00e9dios (25.00 - 44.99 \\u00a3)\"],[\"Pre\\u00e7os baixos (10,00 - 24,99 \\u00a3)\"],[\"Pre\\u00e7os altos ( 45,00 - 59,99 \\u00a3)\"],[\"Pre\\u00e7os baixos (10,00 - 24,99 \\u00a3)\"],[\"Pre\\u00e7os altos ( 45,00 - 59,99 \\u00a3)\"],[\"Pre\\u00e7os m\\u00e9dios (25.00 - 44.99 \\u00a3)\"],[\"Pre\\u00e7os baixos (10,00 - 24,99 \\u00a3)\"],[\"Pre\\u00e7os baixos (10,00 - 24,99 \\u00a3)\"],[\"Pre\\u00e7os altos ( 45,00 - 59,99 \\u00a3)\"],[\"Pre\\u00e7os m\\u00e9dios (25.00 - 44.99 \\u00a3)\"],[\"Pre\\u00e7os altos ( 45,00 - 59,99 \\u00a3)\"],[\"Pre\\u00e7os m\\u00e9dios (25.00 - 44.99 \\u00a3)\"],[\"Pre\\u00e7os baixos (10,00 - 24,99 \\u00a3)\"],[\"Pre\\u00e7os baixos (10,00 - 24,99 \\u00a3)\"],[\"Pre\\u00e7os m\\u00e9dios (25.00 - 44.99 \\u00a3)\"],[\"Pre\\u00e7os m\\u00e9dios (25.00 - 44.99 \\u00a3)\"],[\"Pre\\u00e7os baixos (10,00 - 24,99 \\u00a3)\"],[\"Pre\\u00e7os baixos (10,00 - 24,99 \\u00a3)\"],[\"Pre\\u00e7os altos ( 45,00 - 59,99 \\u00a3)\"],[\"Pre\\u00e7os altos ( 45,00 - 59,99 \\u00a3)\"],[\"Pre\\u00e7os m\\u00e9dios (25.00 - 44.99 \\u00a3)\"],[\"Pre\\u00e7os altos ( 45,00 - 59,99 \\u00a3)\"],[\"Pre\\u00e7os baixos (10,00 - 24,99 \\u00a3)\"],[\"Pre\\u00e7os m\\u00e9dios (25.00 - 44.99 \\u00a3)\"],[\"Pre\\u00e7os baixos (10,00 - 24,99 \\u00a3)\"],[\"Pre\\u00e7os m\\u00e9dios (25.00 - 44.99 \\u00a3)\"],[\"Pre\\u00e7os m\\u00e9dios (25.00 - 44.99 \\u00a3)\"],[\"Pre\\u00e7os altos ( 45,00 - 59,99 \\u00a3)\"],[\"Pre\\u00e7os altos ( 45,00 - 59,99 \\u00a3)\"],[\"Pre\\u00e7os altos ( 45,00 - 59,99 \\u00a3)\"],[\"Pre\\u00e7os baixos (10,00 - 24,99 \\u00a3)\"],[\"Pre\\u00e7os altos ( 45,00 - 59,99 \\u00a3)\"],[\"Pre\\u00e7os altos ( 45,00 - 59,99 \\u00a3)\"],[\"Pre\\u00e7os m\\u00e9dios (25.00 - 44.99 \\u00a3)\"],[\"Pre\\u00e7os baixos (10,00 - 24,99 \\u00a3)\"],[\"Pre\\u00e7os altos ( 45,00 - 59,99 \\u00a3)\"],[\"Pre\\u00e7os baixos (10,00 - 24,99 \\u00a3)\"],[\"Pre\\u00e7os baixos (10,00 - 24,99 \\u00a3)\"],[\"Pre\\u00e7os altos ( 45,00 - 59,99 \\u00a3)\"],[\"Pre\\u00e7os m\\u00e9dios (25.00 - 44.99 \\u00a3)\"],[\"Pre\\u00e7os m\\u00e9dios (25.00 - 44.99 \\u00a3)\"],[\"Pre\\u00e7os baixos (10,00 - 24,99 \\u00a3)\"],[\"Pre\\u00e7os m\\u00e9dios (25.00 - 44.99 \\u00a3)\"],[\"Pre\\u00e7os baixos (10,00 - 24,99 \\u00a3)\"],[\"Pre\\u00e7os m\\u00e9dios (25.00 - 44.99 \\u00a3)\"],[\"Pre\\u00e7os m\\u00e9dios (25.00 - 44.99 \\u00a3)\"],[\"Pre\\u00e7os m\\u00e9dios (25.00 - 44.99 \\u00a3)\"],[\"Pre\\u00e7os altos ( 45,00 - 59,99 \\u00a3)\"],[\"Pre\\u00e7os baixos (10,00 - 24,99 \\u00a3)\"],[\"Pre\\u00e7os m\\u00e9dios (25.00 - 44.99 \\u00a3)\"],[\"Pre\\u00e7os baixos (10,00 - 24,99 \\u00a3)\"],[\"Pre\\u00e7os m\\u00e9dios (25.00 - 44.99 \\u00a3)\"],[\"Pre\\u00e7os m\\u00e9dios (25.00 - 44.99 \\u00a3)\"],[\"Pre\\u00e7os baixos (10,00 - 24,99 \\u00a3)\"],[\"Pre\\u00e7os m\\u00e9dios (25.00 - 44.99 \\u00a3)\"],[\"Pre\\u00e7os m\\u00e9dios (25.00 - 44.99 \\u00a3)\"],[\"Pre\\u00e7os m\\u00e9dios (25.00 - 44.99 \\u00a3)\"],[\"Pre\\u00e7os altos ( 45,00 - 59,99 \\u00a3)\"],[\"Pre\\u00e7os altos ( 45,00 - 59,99 \\u00a3)\"],[\"Pre\\u00e7os altos ( 45,00 - 59,99 \\u00a3)\"],[\"Pre\\u00e7os m\\u00e9dios (25.00 - 44.99 \\u00a3)\"],[\"Pre\\u00e7os baixos (10,00 - 24,99 \\u00a3)\"],[\"Pre\\u00e7os baixos (10,00 - 24,99 \\u00a3)\"],[\"Pre\\u00e7os m\\u00e9dios (25.00 - 44.99 \\u00a3)\"],[\"Pre\\u00e7os altos ( 45,00 - 59,99 \\u00a3)\"],[\"Pre\\u00e7os m\\u00e9dios (25.00 - 44.99 \\u00a3)\"],[\"Pre\\u00e7os baixos (10,00 - 24,99 \\u00a3)\"],[\"Pre\\u00e7os altos ( 45,00 - 59,99 \\u00a3)\"],[\"Pre\\u00e7os m\\u00e9dios (25.00 - 44.99 \\u00a3)\"],[\"Pre\\u00e7os m\\u00e9dios (25.00 - 44.99 \\u00a3)\"],[\"Pre\\u00e7os altos ( 45,00 - 59,99 \\u00a3)\"],[\"Pre\\u00e7os altos ( 45,00 - 59,99 \\u00a3)\"],[\"Pre\\u00e7os m\\u00e9dios (25.00 - 44.99 \\u00a3)\"],[\"Pre\\u00e7os m\\u00e9dios (25.00 - 44.99 \\u00a3)\"],[\"Pre\\u00e7os baixos (10,00 - 24,99 \\u00a3)\"],[\"Pre\\u00e7os altos ( 45,00 - 59,99 \\u00a3)\"],[\"Pre\\u00e7os m\\u00e9dios (25.00 - 44.99 \\u00a3)\"],[\"Pre\\u00e7os m\\u00e9dios (25.00 - 44.99 \\u00a3)\"],[\"Pre\\u00e7os altos ( 45,00 - 59,99 \\u00a3)\"],[\"Pre\\u00e7os baixos (10,00 - 24,99 \\u00a3)\"],[\"Pre\\u00e7os m\\u00e9dios (25.00 - 44.99 \\u00a3)\"],[\"Pre\\u00e7os m\\u00e9dios (25.00 - 44.99 \\u00a3)\"],[\"Pre\\u00e7os m\\u00e9dios (25.00 - 44.99 \\u00a3)\"],[\"Pre\\u00e7os altos ( 45,00 - 59,99 \\u00a3)\"],[\"Pre\\u00e7os m\\u00e9dios (25.00 - 44.99 \\u00a3)\"],[\"Pre\\u00e7os altos ( 45,00 - 59,99 \\u00a3)\"],[\"Pre\\u00e7os m\\u00e9dios (25.00 - 44.99 \\u00a3)\"],[\"Pre\\u00e7os baixos (10,00 - 24,99 \\u00a3)\"],[\"Pre\\u00e7os m\\u00e9dios (25.00 - 44.99 \\u00a3)\"],[\"Pre\\u00e7os m\\u00e9dios (25.00 - 44.99 \\u00a3)\"],[\"Pre\\u00e7os m\\u00e9dios (25.00 - 44.99 \\u00a3)\"],[\"Pre\\u00e7os m\\u00e9dios (25.00 - 44.99 \\u00a3)\"],[\"Pre\\u00e7os altos ( 45,00 - 59,99 \\u00a3)\"],[\"Pre\\u00e7os altos ( 45,00 - 59,99 \\u00a3)\"],[\"Pre\\u00e7os altos ( 45,00 - 59,99 \\u00a3)\"],[\"Pre\\u00e7os baixos (10,00 - 24,99 \\u00a3)\"],[\"Pre\\u00e7os baixos (10,00 - 24,99 \\u00a3)\"],[\"Pre\\u00e7os m\\u00e9dios (25.00 - 44.99 \\u00a3)\"],[\"Pre\\u00e7os m\\u00e9dios (25.00 - 44.99 \\u00a3)\"],[\"Pre\\u00e7os m\\u00e9dios (25.00 - 44.99 \\u00a3)\"],[\"Pre\\u00e7os baixos (10,00 - 24,99 \\u00a3)\"],[\"Pre\\u00e7os altos ( 45,00 - 59,99 \\u00a3)\"],[\"Pre\\u00e7os altos ( 45,00 - 59,99 \\u00a3)\"],[\"Pre\\u00e7os altos ( 45,00 - 59,99 \\u00a3)\"],[\"Pre\\u00e7os baixos (10,00 - 24,99 \\u00a3)\"],[\"Pre\\u00e7os m\\u00e9dios (25.00 - 44.99 \\u00a3)\"],[\"Pre\\u00e7os baixos (10,00 - 24,99 \\u00a3)\"],[\"Pre\\u00e7os altos ( 45,00 - 59,99 \\u00a3)\"],[\"Pre\\u00e7os baixos (10,00 - 24,99 \\u00a3)\"],[\"Pre\\u00e7os altos ( 45,00 - 59,99 \\u00a3)\"],[\"Pre\\u00e7os baixos (10,00 - 24,99 \\u00a3)\"],[\"Pre\\u00e7os m\\u00e9dios (25.00 - 44.99 \\u00a3)\"],[\"Pre\\u00e7os altos ( 45,00 - 59,99 \\u00a3)\"],[\"Pre\\u00e7os m\\u00e9dios (25.00 - 44.99 \\u00a3)\"],[\"Pre\\u00e7os m\\u00e9dios (25.00 - 44.99 \\u00a3)\"],[\"Pre\\u00e7os baixos (10,00 - 24,99 \\u00a3)\"],[\"Pre\\u00e7os m\\u00e9dios (25.00 - 44.99 \\u00a3)\"],[\"Pre\\u00e7os altos ( 45,00 - 59,99 \\u00a3)\"],[\"Pre\\u00e7os baixos (10,00 - 24,99 \\u00a3)\"],[\"Pre\\u00e7os m\\u00e9dios (25.00 - 44.99 \\u00a3)\"],[\"Pre\\u00e7os baixos (10,00 - 24,99 \\u00a3)\"],[\"Pre\\u00e7os m\\u00e9dios (25.00 - 44.99 \\u00a3)\"],[\"Pre\\u00e7os altos ( 45,00 - 59,99 \\u00a3)\"],[\"Pre\\u00e7os baixos (10,00 - 24,99 \\u00a3)\"],[\"Pre\\u00e7os baixos (10,00 - 24,99 \\u00a3)\"],[\"Pre\\u00e7os m\\u00e9dios (25.00 - 44.99 \\u00a3)\"],[\"Pre\\u00e7os m\\u00e9dios (25.00 - 44.99 \\u00a3)\"],[\"Pre\\u00e7os baixos (10,00 - 24,99 \\u00a3)\"],[\"Pre\\u00e7os m\\u00e9dios (25.00 - 44.99 \\u00a3)\"],[\"Pre\\u00e7os baixos (10,00 - 24,99 \\u00a3)\"],[\"Pre\\u00e7os baixos (10,00 - 24,99 \\u00a3)\"],[\"Pre\\u00e7os altos ( 45,00 - 59,99 \\u00a3)\"],[\"Pre\\u00e7os m\\u00e9dios (25.00 - 44.99 \\u00a3)\"],[\"Pre\\u00e7os m\\u00e9dios (25.00 - 44.99 \\u00a3)\"],[\"Pre\\u00e7os m\\u00e9dios (25.00 - 44.99 \\u00a3)\"],[\"Pre\\u00e7os baixos (10,00 - 24,99 \\u00a3)\"],[\"Pre\\u00e7os m\\u00e9dios (25.00 - 44.99 \\u00a3)\"],[\"Pre\\u00e7os altos ( 45,00 - 59,99 \\u00a3)\"],[\"Pre\\u00e7os m\\u00e9dios (25.00 - 44.99 \\u00a3)\"],[\"Pre\\u00e7os altos ( 45,00 - 59,99 \\u00a3)\"],[\"Pre\\u00e7os baixos (10,00 - 24,99 \\u00a3)\"],[\"Pre\\u00e7os m\\u00e9dios (25.00 - 44.99 \\u00a3)\"],[\"Pre\\u00e7os altos ( 45,00 - 59,99 \\u00a3)\"],[\"Pre\\u00e7os baixos (10,00 - 24,99 \\u00a3)\"],[\"Pre\\u00e7os baixos (10,00 - 24,99 \\u00a3)\"],[\"Pre\\u00e7os baixos (10,00 - 24,99 \\u00a3)\"],[\"Pre\\u00e7os baixos (10,00 - 24,99 \\u00a3)\"],[\"Pre\\u00e7os baixos (10,00 - 24,99 \\u00a3)\"],[\"Pre\\u00e7os m\\u00e9dios (25.00 - 44.99 \\u00a3)\"],[\"Pre\\u00e7os m\\u00e9dios (25.00 - 44.99 \\u00a3)\"],[\"Pre\\u00e7os altos ( 45,00 - 59,99 \\u00a3)\"],[\"Pre\\u00e7os altos ( 45,00 - 59,99 \\u00a3)\"],[\"Pre\\u00e7os baixos (10,00 - 24,99 \\u00a3)\"],[\"Pre\\u00e7os altos ( 45,00 - 59,99 \\u00a3)\"],[\"Pre\\u00e7os baixos (10,00 - 24,99 \\u00a3)\"],[\"Pre\\u00e7os m\\u00e9dios (25.00 - 44.99 \\u00a3)\"],[\"Pre\\u00e7os m\\u00e9dios (25.00 - 44.99 \\u00a3)\"],[\"Pre\\u00e7os altos ( 45,00 - 59,99 \\u00a3)\"],[\"Pre\\u00e7os m\\u00e9dios (25.00 - 44.99 \\u00a3)\"],[\"Pre\\u00e7os baixos (10,00 - 24,99 \\u00a3)\"],[\"Pre\\u00e7os altos ( 45,00 - 59,99 \\u00a3)\"],[\"Pre\\u00e7os m\\u00e9dios (25.00 - 44.99 \\u00a3)\"],[\"Pre\\u00e7os altos ( 45,00 - 59,99 \\u00a3)\"],[\"Pre\\u00e7os m\\u00e9dios (25.00 - 44.99 \\u00a3)\"],[\"Pre\\u00e7os altos ( 45,00 - 59,99 \\u00a3)\"],[\"Pre\\u00e7os baixos (10,00 - 24,99 \\u00a3)\"],[\"Pre\\u00e7os m\\u00e9dios (25.00 - 44.99 \\u00a3)\"],[\"Pre\\u00e7os m\\u00e9dios (25.00 - 44.99 \\u00a3)\"],[\"Pre\\u00e7os m\\u00e9dios (25.00 - 44.99 \\u00a3)\"],[\"Pre\\u00e7os baixos (10,00 - 24,99 \\u00a3)\"],[\"Pre\\u00e7os m\\u00e9dios (25.00 - 44.99 \\u00a3)\"],[\"Pre\\u00e7os m\\u00e9dios (25.00 - 44.99 \\u00a3)\"],[\"Pre\\u00e7os m\\u00e9dios (25.00 - 44.99 \\u00a3)\"],[\"Pre\\u00e7os altos ( 45,00 - 59,99 \\u00a3)\"],[\"Pre\\u00e7os m\\u00e9dios (25.00 - 44.99 \\u00a3)\"],[\"Pre\\u00e7os m\\u00e9dios (25.00 - 44.99 \\u00a3)\"],[\"Pre\\u00e7os altos ( 45,00 - 59,99 \\u00a3)\"],[\"Pre\\u00e7os m\\u00e9dios (25.00 - 44.99 \\u00a3)\"],[\"Pre\\u00e7os altos ( 45,00 - 59,99 \\u00a3)\"],[\"Pre\\u00e7os m\\u00e9dios (25.00 - 44.99 \\u00a3)\"],[\"Pre\\u00e7os altos ( 45,00 - 59,99 \\u00a3)\"],[\"Pre\\u00e7os altos ( 45,00 - 59,99 \\u00a3)\"],[\"Pre\\u00e7os m\\u00e9dios (25.00 - 44.99 \\u00a3)\"],[\"Pre\\u00e7os baixos (10,00 - 24,99 \\u00a3)\"],[\"Pre\\u00e7os m\\u00e9dios (25.00 - 44.99 \\u00a3)\"],[\"Pre\\u00e7os m\\u00e9dios (25.00 - 44.99 \\u00a3)\"],[\"Pre\\u00e7os baixos (10,00 - 24,99 \\u00a3)\"],[\"Pre\\u00e7os baixos (10,00 - 24,99 \\u00a3)\"],[\"Pre\\u00e7os baixos (10,00 - 24,99 \\u00a3)\"],[\"Pre\\u00e7os baixos (10,00 - 24,99 \\u00a3)\"],[\"Pre\\u00e7os baixos (10,00 - 24,99 \\u00a3)\"],[\"Pre\\u00e7os baixos (10,00 - 24,99 \\u00a3)\"],[\"Pre\\u00e7os altos ( 45,00 - 59,99 \\u00a3)\"],[\"Pre\\u00e7os m\\u00e9dios (25.00 - 44.99 \\u00a3)\"],[\"Pre\\u00e7os m\\u00e9dios (25.00 - 44.99 \\u00a3)\"],[\"Pre\\u00e7os baixos (10,00 - 24,99 \\u00a3)\"],[\"Pre\\u00e7os m\\u00e9dios (25.00 - 44.99 \\u00a3)\"],[\"Pre\\u00e7os m\\u00e9dios (25.00 - 44.99 \\u00a3)\"],[\"Pre\\u00e7os baixos (10,00 - 24,99 \\u00a3)\"],[\"Pre\\u00e7os m\\u00e9dios (25.00 - 44.99 \\u00a3)\"],[\"Pre\\u00e7os altos ( 45,00 - 59,99 \\u00a3)\"],[\"Pre\\u00e7os baixos (10,00 - 24,99 \\u00a3)\"],[\"Pre\\u00e7os m\\u00e9dios (25.00 - 44.99 \\u00a3)\"],[\"Pre\\u00e7os m\\u00e9dios (25.00 - 44.99 \\u00a3)\"],[\"Pre\\u00e7os m\\u00e9dios (25.00 - 44.99 \\u00a3)\"],[\"Pre\\u00e7os m\\u00e9dios (25.00 - 44.99 \\u00a3)\"],[\"Pre\\u00e7os altos ( 45,00 - 59,99 \\u00a3)\"],[\"Pre\\u00e7os baixos (10,00 - 24,99 \\u00a3)\"],[\"Pre\\u00e7os baixos (10,00 - 24,99 \\u00a3)\"],[\"Pre\\u00e7os m\\u00e9dios (25.00 - 44.99 \\u00a3)\"],[\"Pre\\u00e7os m\\u00e9dios (25.00 - 44.99 \\u00a3)\"],[\"Pre\\u00e7os altos ( 45,00 - 59,99 \\u00a3)\"],[\"Pre\\u00e7os m\\u00e9dios (25.00 - 44.99 \\u00a3)\"],[\"Pre\\u00e7os altos ( 45,00 - 59,99 \\u00a3)\"],[\"Pre\\u00e7os m\\u00e9dios (25.00 - 44.99 \\u00a3)\"],[\"Pre\\u00e7os altos ( 45,00 - 59,99 \\u00a3)\"],[\"Pre\\u00e7os altos ( 45,00 - 59,99 \\u00a3)\"],[\"Pre\\u00e7os m\\u00e9dios (25.00 - 44.99 \\u00a3)\"],[\"Pre\\u00e7os m\\u00e9dios (25.00 - 44.99 \\u00a3)\"],[\"Pre\\u00e7os m\\u00e9dios (25.00 - 44.99 \\u00a3)\"],[\"Pre\\u00e7os m\\u00e9dios (25.00 - 44.99 \\u00a3)\"],[\"Pre\\u00e7os m\\u00e9dios (25.00 - 44.99 \\u00a3)\"],[\"Pre\\u00e7os baixos (10,00 - 24,99 \\u00a3)\"],[\"Pre\\u00e7os altos ( 45,00 - 59,99 \\u00a3)\"],[\"Pre\\u00e7os altos ( 45,00 - 59,99 \\u00a3)\"],[\"Pre\\u00e7os m\\u00e9dios (25.00 - 44.99 \\u00a3)\"],[\"Pre\\u00e7os m\\u00e9dios (25.00 - 44.99 \\u00a3)\"],[\"Pre\\u00e7os m\\u00e9dios (25.00 - 44.99 \\u00a3)\"],[\"Pre\\u00e7os altos ( 45,00 - 59,99 \\u00a3)\"],[\"Pre\\u00e7os m\\u00e9dios (25.00 - 44.99 \\u00a3)\"],[\"Pre\\u00e7os altos ( 45,00 - 59,99 \\u00a3)\"],[\"Pre\\u00e7os m\\u00e9dios (25.00 - 44.99 \\u00a3)\"],[\"Pre\\u00e7os m\\u00e9dios (25.00 - 44.99 \\u00a3)\"],[\"Pre\\u00e7os m\\u00e9dios (25.00 - 44.99 \\u00a3)\"],[\"Pre\\u00e7os m\\u00e9dios (25.00 - 44.99 \\u00a3)\"],[\"Pre\\u00e7os m\\u00e9dios (25.00 - 44.99 \\u00a3)\"],[\"Pre\\u00e7os altos ( 45,00 - 59,99 \\u00a3)\"],[\"Pre\\u00e7os altos ( 45,00 - 59,99 \\u00a3)\"],[\"Pre\\u00e7os m\\u00e9dios (25.00 - 44.99 \\u00a3)\"],[\"Pre\\u00e7os baixos (10,00 - 24,99 \\u00a3)\"],[\"Pre\\u00e7os m\\u00e9dios (25.00 - 44.99 \\u00a3)\"],[\"Pre\\u00e7os m\\u00e9dios (25.00 - 44.99 \\u00a3)\"],[\"Pre\\u00e7os m\\u00e9dios (25.00 - 44.99 \\u00a3)\"],[\"Pre\\u00e7os m\\u00e9dios (25.00 - 44.99 \\u00a3)\"],[\"Pre\\u00e7os baixos (10,00 - 24,99 \\u00a3)\"],[\"Pre\\u00e7os m\\u00e9dios (25.00 - 44.99 \\u00a3)\"],[\"Pre\\u00e7os m\\u00e9dios (25.00 - 44.99 \\u00a3)\"],[\"Pre\\u00e7os altos ( 45,00 - 59,99 \\u00a3)\"],[\"Pre\\u00e7os altos ( 45,00 - 59,99 \\u00a3)\"],[\"Pre\\u00e7os baixos (10,00 - 24,99 \\u00a3)\"],[\"Pre\\u00e7os altos ( 45,00 - 59,99 \\u00a3)\"],[\"Pre\\u00e7os m\\u00e9dios (25.00 - 44.99 \\u00a3)\"]],\"domain\":{\"x\":[0.0,1.0],\"y\":[0.0,1.0]},\"hole\":0.5,\"hovertemplate\":\"Faixa=%{customdata[0]}<br>Pre\\u00e7o total=%{value}<extra></extra>\",\"labels\":[\"Pre\\u00e7os altos ( 45,00 - 59,99 \\u00a3)\",\"Pre\\u00e7os altos ( 45,00 - 59,99 \\u00a3)\",\"Pre\\u00e7os altos ( 45,00 - 59,99 \\u00a3)\",\"Pre\\u00e7os altos ( 45,00 - 59,99 \\u00a3)\",\"Pre\\u00e7os altos ( 45,00 - 59,99 \\u00a3)\",\"Pre\\u00e7os baixos (10,00 - 24,99 \\u00a3)\",\"Pre\\u00e7os m\\u00e9dios (25.00 - 44.99 \\u00a3)\",\"Pre\\u00e7os baixos (10,00 - 24,99 \\u00a3)\",\"Pre\\u00e7os baixos (10,00 - 24,99 \\u00a3)\",\"Pre\\u00e7os altos ( 45,00 - 59,99 \\u00a3)\",\"Pre\\u00e7os baixos (10,00 - 24,99 \\u00a3)\",\"Pre\\u00e7os baixos (10,00 - 24,99 \\u00a3)\",\"Pre\\u00e7os baixos (10,00 - 24,99 \\u00a3)\",\"Pre\\u00e7os altos ( 45,00 - 59,99 \\u00a3)\",\"Pre\\u00e7os m\\u00e9dios (25.00 - 44.99 \\u00a3)\",\"Pre\\u00e7os altos ( 45,00 - 59,99 \\u00a3)\",\"Pre\\u00e7os baixos (10,00 - 24,99 \\u00a3)\",\"Pre\\u00e7os m\\u00e9dios (25.00 - 44.99 \\u00a3)\",\"Pre\\u00e7os altos ( 45,00 - 59,99 \\u00a3)\",\"Pre\\u00e7os altos ( 45,00 - 59,99 \\u00a3)\",\"Pre\\u00e7os baixos (10,00 - 24,99 \\u00a3)\",\"Pre\\u00e7os m\\u00e9dios (25.00 - 44.99 \\u00a3)\",\"Pre\\u00e7os m\\u00e9dios (25.00 - 44.99 \\u00a3)\",\"Pre\\u00e7os m\\u00e9dios (25.00 - 44.99 \\u00a3)\",\"Pre\\u00e7os m\\u00e9dios (25.00 - 44.99 \\u00a3)\",\"Pre\\u00e7os altos ( 45,00 - 59,99 \\u00a3)\",\"Pre\\u00e7os baixos (10,00 - 24,99 \\u00a3)\",\"Pre\\u00e7os altos ( 45,00 - 59,99 \\u00a3)\",\"Pre\\u00e7os m\\u00e9dios (25.00 - 44.99 \\u00a3)\",\"Pre\\u00e7os m\\u00e9dios (25.00 - 44.99 \\u00a3)\",\"Pre\\u00e7os baixos (10,00 - 24,99 \\u00a3)\",\"Pre\\u00e7os m\\u00e9dios (25.00 - 44.99 \\u00a3)\",\"Pre\\u00e7os baixos (10,00 - 24,99 \\u00a3)\",\"Pre\\u00e7os m\\u00e9dios (25.00 - 44.99 \\u00a3)\",\"Pre\\u00e7os baixos (10,00 - 24,99 \\u00a3)\",\"Pre\\u00e7os m\\u00e9dios (25.00 - 44.99 \\u00a3)\",\"Pre\\u00e7os baixos (10,00 - 24,99 \\u00a3)\",\"Pre\\u00e7os baixos (10,00 - 24,99 \\u00a3)\",\"Pre\\u00e7os altos ( 45,00 - 59,99 \\u00a3)\",\"Pre\\u00e7os m\\u00e9dios (25.00 - 44.99 \\u00a3)\",\"Pre\\u00e7os altos ( 45,00 - 59,99 \\u00a3)\",\"Pre\\u00e7os m\\u00e9dios (25.00 - 44.99 \\u00a3)\",\"Pre\\u00e7os altos ( 45,00 - 59,99 \\u00a3)\",\"Pre\\u00e7os baixos (10,00 - 24,99 \\u00a3)\",\"Pre\\u00e7os altos ( 45,00 - 59,99 \\u00a3)\",\"Pre\\u00e7os m\\u00e9dios (25.00 - 44.99 \\u00a3)\",\"Pre\\u00e7os altos ( 45,00 - 59,99 \\u00a3)\",\"Pre\\u00e7os baixos (10,00 - 24,99 \\u00a3)\",\"Pre\\u00e7os m\\u00e9dios (25.00 - 44.99 \\u00a3)\",\"Pre\\u00e7os baixos (10,00 - 24,99 \\u00a3)\",\"Pre\\u00e7os m\\u00e9dios (25.00 - 44.99 \\u00a3)\",\"Pre\\u00e7os baixos (10,00 - 24,99 \\u00a3)\",\"Pre\\u00e7os m\\u00e9dios (25.00 - 44.99 \\u00a3)\",\"Pre\\u00e7os baixos (10,00 - 24,99 \\u00a3)\",\"Pre\\u00e7os baixos (10,00 - 24,99 \\u00a3)\",\"Pre\\u00e7os baixos (10,00 - 24,99 \\u00a3)\",\"Pre\\u00e7os altos ( 45,00 - 59,99 \\u00a3)\",\"Pre\\u00e7os altos ( 45,00 - 59,99 \\u00a3)\",\"Pre\\u00e7os altos ( 45,00 - 59,99 \\u00a3)\",\"Pre\\u00e7os altos ( 45,00 - 59,99 \\u00a3)\",\"Pre\\u00e7os m\\u00e9dios (25.00 - 44.99 \\u00a3)\",\"Pre\\u00e7os altos ( 45,00 - 59,99 \\u00a3)\",\"Pre\\u00e7os m\\u00e9dios (25.00 - 44.99 \\u00a3)\",\"Pre\\u00e7os baixos (10,00 - 24,99 \\u00a3)\",\"Pre\\u00e7os baixos (10,00 - 24,99 \\u00a3)\",\"Pre\\u00e7os baixos (10,00 - 24,99 \\u00a3)\",\"Pre\\u00e7os m\\u00e9dios (25.00 - 44.99 \\u00a3)\",\"Pre\\u00e7os altos ( 45,00 - 59,99 \\u00a3)\",\"Pre\\u00e7os altos ( 45,00 - 59,99 \\u00a3)\",\"Pre\\u00e7os altos ( 45,00 - 59,99 \\u00a3)\",\"Pre\\u00e7os m\\u00e9dios (25.00 - 44.99 \\u00a3)\",\"Pre\\u00e7os baixos (10,00 - 24,99 \\u00a3)\",\"Pre\\u00e7os m\\u00e9dios (25.00 - 44.99 \\u00a3)\",\"Pre\\u00e7os m\\u00e9dios (25.00 - 44.99 \\u00a3)\",\"Pre\\u00e7os m\\u00e9dios (25.00 - 44.99 \\u00a3)\",\"Pre\\u00e7os m\\u00e9dios (25.00 - 44.99 \\u00a3)\",\"Pre\\u00e7os m\\u00e9dios (25.00 - 44.99 \\u00a3)\",\"Pre\\u00e7os altos ( 45,00 - 59,99 \\u00a3)\",\"Pre\\u00e7os baixos (10,00 - 24,99 \\u00a3)\",\"Pre\\u00e7os altos ( 45,00 - 59,99 \\u00a3)\",\"Pre\\u00e7os baixos (10,00 - 24,99 \\u00a3)\",\"Pre\\u00e7os baixos (10,00 - 24,99 \\u00a3)\",\"Pre\\u00e7os baixos (10,00 - 24,99 \\u00a3)\",\"Pre\\u00e7os m\\u00e9dios (25.00 - 44.99 \\u00a3)\",\"Pre\\u00e7os baixos (10,00 - 24,99 \\u00a3)\",\"Pre\\u00e7os baixos (10,00 - 24,99 \\u00a3)\",\"Pre\\u00e7os altos ( 45,00 - 59,99 \\u00a3)\",\"Pre\\u00e7os altos ( 45,00 - 59,99 \\u00a3)\",\"Pre\\u00e7os baixos (10,00 - 24,99 \\u00a3)\",\"Pre\\u00e7os baixos (10,00 - 24,99 \\u00a3)\",\"Pre\\u00e7os m\\u00e9dios (25.00 - 44.99 \\u00a3)\",\"Pre\\u00e7os altos ( 45,00 - 59,99 \\u00a3)\",\"Pre\\u00e7os baixos (10,00 - 24,99 \\u00a3)\",\"Pre\\u00e7os altos ( 45,00 - 59,99 \\u00a3)\",\"Pre\\u00e7os altos ( 45,00 - 59,99 \\u00a3)\",\"Pre\\u00e7os baixos (10,00 - 24,99 \\u00a3)\",\"Pre\\u00e7os m\\u00e9dios (25.00 - 44.99 \\u00a3)\",\"Pre\\u00e7os altos ( 45,00 - 59,99 \\u00a3)\",\"Pre\\u00e7os m\\u00e9dios (25.00 - 44.99 \\u00a3)\",\"Pre\\u00e7os baixos (10,00 - 24,99 \\u00a3)\",\"Pre\\u00e7os altos ( 45,00 - 59,99 \\u00a3)\",\"Pre\\u00e7os m\\u00e9dios (25.00 - 44.99 \\u00a3)\",\"Pre\\u00e7os altos ( 45,00 - 59,99 \\u00a3)\",\"Pre\\u00e7os altos ( 45,00 - 59,99 \\u00a3)\",\"Pre\\u00e7os m\\u00e9dios (25.00 - 44.99 \\u00a3)\",\"Pre\\u00e7os baixos (10,00 - 24,99 \\u00a3)\",\"Pre\\u00e7os m\\u00e9dios (25.00 - 44.99 \\u00a3)\",\"Pre\\u00e7os baixos (10,00 - 24,99 \\u00a3)\",\"Pre\\u00e7os baixos (10,00 - 24,99 \\u00a3)\",\"Pre\\u00e7os altos ( 45,00 - 59,99 \\u00a3)\",\"Pre\\u00e7os m\\u00e9dios (25.00 - 44.99 \\u00a3)\",\"Pre\\u00e7os altos ( 45,00 - 59,99 \\u00a3)\",\"Pre\\u00e7os m\\u00e9dios (25.00 - 44.99 \\u00a3)\",\"Pre\\u00e7os m\\u00e9dios (25.00 - 44.99 \\u00a3)\",\"Pre\\u00e7os baixos (10,00 - 24,99 \\u00a3)\",\"Pre\\u00e7os m\\u00e9dios (25.00 - 44.99 \\u00a3)\",\"Pre\\u00e7os m\\u00e9dios (25.00 - 44.99 \\u00a3)\",\"Pre\\u00e7os altos ( 45,00 - 59,99 \\u00a3)\",\"Pre\\u00e7os m\\u00e9dios (25.00 - 44.99 \\u00a3)\",\"Pre\\u00e7os m\\u00e9dios (25.00 - 44.99 \\u00a3)\",\"Pre\\u00e7os m\\u00e9dios (25.00 - 44.99 \\u00a3)\",\"Pre\\u00e7os m\\u00e9dios (25.00 - 44.99 \\u00a3)\",\"Pre\\u00e7os altos ( 45,00 - 59,99 \\u00a3)\",\"Pre\\u00e7os baixos (10,00 - 24,99 \\u00a3)\",\"Pre\\u00e7os altos ( 45,00 - 59,99 \\u00a3)\",\"Pre\\u00e7os m\\u00e9dios (25.00 - 44.99 \\u00a3)\",\"Pre\\u00e7os altos ( 45,00 - 59,99 \\u00a3)\",\"Pre\\u00e7os altos ( 45,00 - 59,99 \\u00a3)\",\"Pre\\u00e7os baixos (10,00 - 24,99 \\u00a3)\",\"Pre\\u00e7os m\\u00e9dios (25.00 - 44.99 \\u00a3)\",\"Pre\\u00e7os baixos (10,00 - 24,99 \\u00a3)\",\"Pre\\u00e7os m\\u00e9dios (25.00 - 44.99 \\u00a3)\",\"Pre\\u00e7os m\\u00e9dios (25.00 - 44.99 \\u00a3)\",\"Pre\\u00e7os altos ( 45,00 - 59,99 \\u00a3)\",\"Pre\\u00e7os altos ( 45,00 - 59,99 \\u00a3)\",\"Pre\\u00e7os altos ( 45,00 - 59,99 \\u00a3)\",\"Pre\\u00e7os baixos (10,00 - 24,99 \\u00a3)\",\"Pre\\u00e7os m\\u00e9dios (25.00 - 44.99 \\u00a3)\",\"Pre\\u00e7os baixos (10,00 - 24,99 \\u00a3)\",\"Pre\\u00e7os baixos (10,00 - 24,99 \\u00a3)\",\"Pre\\u00e7os m\\u00e9dios (25.00 - 44.99 \\u00a3)\",\"Pre\\u00e7os m\\u00e9dios (25.00 - 44.99 \\u00a3)\",\"Pre\\u00e7os altos ( 45,00 - 59,99 \\u00a3)\",\"Pre\\u00e7os m\\u00e9dios (25.00 - 44.99 \\u00a3)\",\"Pre\\u00e7os baixos (10,00 - 24,99 \\u00a3)\",\"Pre\\u00e7os m\\u00e9dios (25.00 - 44.99 \\u00a3)\",\"Pre\\u00e7os m\\u00e9dios (25.00 - 44.99 \\u00a3)\",\"Pre\\u00e7os m\\u00e9dios (25.00 - 44.99 \\u00a3)\",\"Pre\\u00e7os m\\u00e9dios (25.00 - 44.99 \\u00a3)\",\"Pre\\u00e7os m\\u00e9dios (25.00 - 44.99 \\u00a3)\",\"Pre\\u00e7os altos ( 45,00 - 59,99 \\u00a3)\",\"Pre\\u00e7os m\\u00e9dios (25.00 - 44.99 \\u00a3)\",\"Pre\\u00e7os baixos (10,00 - 24,99 \\u00a3)\",\"Pre\\u00e7os m\\u00e9dios (25.00 - 44.99 \\u00a3)\",\"Pre\\u00e7os m\\u00e9dios (25.00 - 44.99 \\u00a3)\",\"Pre\\u00e7os m\\u00e9dios (25.00 - 44.99 \\u00a3)\",\"Pre\\u00e7os altos ( 45,00 - 59,99 \\u00a3)\",\"Pre\\u00e7os baixos (10,00 - 24,99 \\u00a3)\",\"Pre\\u00e7os baixos (10,00 - 24,99 \\u00a3)\",\"Pre\\u00e7os m\\u00e9dios (25.00 - 44.99 \\u00a3)\",\"Pre\\u00e7os m\\u00e9dios (25.00 - 44.99 \\u00a3)\",\"Pre\\u00e7os m\\u00e9dios (25.00 - 44.99 \\u00a3)\",\"Pre\\u00e7os m\\u00e9dios (25.00 - 44.99 \\u00a3)\",\"Pre\\u00e7os baixos (10,00 - 24,99 \\u00a3)\",\"Pre\\u00e7os m\\u00e9dios (25.00 - 44.99 \\u00a3)\",\"Pre\\u00e7os altos ( 45,00 - 59,99 \\u00a3)\",\"Pre\\u00e7os baixos (10,00 - 24,99 \\u00a3)\",\"Pre\\u00e7os m\\u00e9dios (25.00 - 44.99 \\u00a3)\",\"Pre\\u00e7os baixos (10,00 - 24,99 \\u00a3)\",\"Pre\\u00e7os baixos (10,00 - 24,99 \\u00a3)\",\"Pre\\u00e7os m\\u00e9dios (25.00 - 44.99 \\u00a3)\",\"Pre\\u00e7os baixos (10,00 - 24,99 \\u00a3)\",\"Pre\\u00e7os m\\u00e9dios (25.00 - 44.99 \\u00a3)\",\"Pre\\u00e7os m\\u00e9dios (25.00 - 44.99 \\u00a3)\",\"Pre\\u00e7os baixos (10,00 - 24,99 \\u00a3)\",\"Pre\\u00e7os m\\u00e9dios (25.00 - 44.99 \\u00a3)\",\"Pre\\u00e7os baixos (10,00 - 24,99 \\u00a3)\",\"Pre\\u00e7os m\\u00e9dios (25.00 - 44.99 \\u00a3)\",\"Pre\\u00e7os m\\u00e9dios (25.00 - 44.99 \\u00a3)\",\"Pre\\u00e7os m\\u00e9dios (25.00 - 44.99 \\u00a3)\",\"Pre\\u00e7os m\\u00e9dios (25.00 - 44.99 \\u00a3)\",\"Pre\\u00e7os baixos (10,00 - 24,99 \\u00a3)\",\"Pre\\u00e7os baixos (10,00 - 24,99 \\u00a3)\",\"Pre\\u00e7os baixos (10,00 - 24,99 \\u00a3)\",\"Pre\\u00e7os altos ( 45,00 - 59,99 \\u00a3)\",\"Pre\\u00e7os baixos (10,00 - 24,99 \\u00a3)\",\"Pre\\u00e7os altos ( 45,00 - 59,99 \\u00a3)\",\"Pre\\u00e7os m\\u00e9dios (25.00 - 44.99 \\u00a3)\",\"Pre\\u00e7os baixos (10,00 - 24,99 \\u00a3)\",\"Pre\\u00e7os altos ( 45,00 - 59,99 \\u00a3)\",\"Pre\\u00e7os m\\u00e9dios (25.00 - 44.99 \\u00a3)\",\"Pre\\u00e7os baixos (10,00 - 24,99 \\u00a3)\",\"Pre\\u00e7os m\\u00e9dios (25.00 - 44.99 \\u00a3)\",\"Pre\\u00e7os altos ( 45,00 - 59,99 \\u00a3)\",\"Pre\\u00e7os m\\u00e9dios (25.00 - 44.99 \\u00a3)\",\"Pre\\u00e7os altos ( 45,00 - 59,99 \\u00a3)\",\"Pre\\u00e7os m\\u00e9dios (25.00 - 44.99 \\u00a3)\",\"Pre\\u00e7os m\\u00e9dios (25.00 - 44.99 \\u00a3)\",\"Pre\\u00e7os m\\u00e9dios (25.00 - 44.99 \\u00a3)\",\"Pre\\u00e7os m\\u00e9dios (25.00 - 44.99 \\u00a3)\",\"Pre\\u00e7os baixos (10,00 - 24,99 \\u00a3)\",\"Pre\\u00e7os baixos (10,00 - 24,99 \\u00a3)\",\"Pre\\u00e7os altos ( 45,00 - 59,99 \\u00a3)\",\"Pre\\u00e7os m\\u00e9dios (25.00 - 44.99 \\u00a3)\",\"Pre\\u00e7os m\\u00e9dios (25.00 - 44.99 \\u00a3)\",\"Pre\\u00e7os m\\u00e9dios (25.00 - 44.99 \\u00a3)\",\"Pre\\u00e7os baixos (10,00 - 24,99 \\u00a3)\",\"Pre\\u00e7os m\\u00e9dios (25.00 - 44.99 \\u00a3)\",\"Pre\\u00e7os baixos (10,00 - 24,99 \\u00a3)\",\"Pre\\u00e7os baixos (10,00 - 24,99 \\u00a3)\",\"Pre\\u00e7os altos ( 45,00 - 59,99 \\u00a3)\",\"Pre\\u00e7os baixos (10,00 - 24,99 \\u00a3)\",\"Pre\\u00e7os m\\u00e9dios (25.00 - 44.99 \\u00a3)\",\"Pre\\u00e7os altos ( 45,00 - 59,99 \\u00a3)\",\"Pre\\u00e7os baixos (10,00 - 24,99 \\u00a3)\",\"Pre\\u00e7os baixos (10,00 - 24,99 \\u00a3)\",\"Pre\\u00e7os m\\u00e9dios (25.00 - 44.99 \\u00a3)\",\"Pre\\u00e7os m\\u00e9dios (25.00 - 44.99 \\u00a3)\",\"Pre\\u00e7os baixos (10,00 - 24,99 \\u00a3)\",\"Pre\\u00e7os altos ( 45,00 - 59,99 \\u00a3)\",\"Pre\\u00e7os m\\u00e9dios (25.00 - 44.99 \\u00a3)\",\"Pre\\u00e7os baixos (10,00 - 24,99 \\u00a3)\",\"Pre\\u00e7os altos ( 45,00 - 59,99 \\u00a3)\",\"Pre\\u00e7os baixos (10,00 - 24,99 \\u00a3)\",\"Pre\\u00e7os m\\u00e9dios (25.00 - 44.99 \\u00a3)\",\"Pre\\u00e7os altos ( 45,00 - 59,99 \\u00a3)\",\"Pre\\u00e7os altos ( 45,00 - 59,99 \\u00a3)\",\"Pre\\u00e7os baixos (10,00 - 24,99 \\u00a3)\",\"Pre\\u00e7os m\\u00e9dios (25.00 - 44.99 \\u00a3)\",\"Pre\\u00e7os m\\u00e9dios (25.00 - 44.99 \\u00a3)\",\"Pre\\u00e7os m\\u00e9dios (25.00 - 44.99 \\u00a3)\",\"Pre\\u00e7os altos ( 45,00 - 59,99 \\u00a3)\",\"Pre\\u00e7os m\\u00e9dios (25.00 - 44.99 \\u00a3)\",\"Pre\\u00e7os m\\u00e9dios (25.00 - 44.99 \\u00a3)\",\"Pre\\u00e7os m\\u00e9dios (25.00 - 44.99 \\u00a3)\",\"Pre\\u00e7os altos ( 45,00 - 59,99 \\u00a3)\",\"Pre\\u00e7os altos ( 45,00 - 59,99 \\u00a3)\",\"Pre\\u00e7os m\\u00e9dios (25.00 - 44.99 \\u00a3)\",\"Pre\\u00e7os m\\u00e9dios (25.00 - 44.99 \\u00a3)\",\"Pre\\u00e7os altos ( 45,00 - 59,99 \\u00a3)\",\"Pre\\u00e7os baixos (10,00 - 24,99 \\u00a3)\",\"Pre\\u00e7os m\\u00e9dios (25.00 - 44.99 \\u00a3)\",\"Pre\\u00e7os baixos (10,00 - 24,99 \\u00a3)\",\"Pre\\u00e7os m\\u00e9dios (25.00 - 44.99 \\u00a3)\",\"Pre\\u00e7os baixos (10,00 - 24,99 \\u00a3)\",\"Pre\\u00e7os baixos (10,00 - 24,99 \\u00a3)\",\"Pre\\u00e7os altos ( 45,00 - 59,99 \\u00a3)\",\"Pre\\u00e7os m\\u00e9dios (25.00 - 44.99 \\u00a3)\",\"Pre\\u00e7os altos ( 45,00 - 59,99 \\u00a3)\",\"Pre\\u00e7os m\\u00e9dios (25.00 - 44.99 \\u00a3)\",\"Pre\\u00e7os baixos (10,00 - 24,99 \\u00a3)\",\"Pre\\u00e7os m\\u00e9dios (25.00 - 44.99 \\u00a3)\",\"Pre\\u00e7os altos ( 45,00 - 59,99 \\u00a3)\",\"Pre\\u00e7os m\\u00e9dios (25.00 - 44.99 \\u00a3)\",\"Pre\\u00e7os m\\u00e9dios (25.00 - 44.99 \\u00a3)\",\"Pre\\u00e7os baixos (10,00 - 24,99 \\u00a3)\",\"Pre\\u00e7os m\\u00e9dios (25.00 - 44.99 \\u00a3)\",\"Pre\\u00e7os baixos (10,00 - 24,99 \\u00a3)\",\"Pre\\u00e7os baixos (10,00 - 24,99 \\u00a3)\",\"Pre\\u00e7os altos ( 45,00 - 59,99 \\u00a3)\",\"Pre\\u00e7os altos ( 45,00 - 59,99 \\u00a3)\",\"Pre\\u00e7os baixos (10,00 - 24,99 \\u00a3)\",\"Pre\\u00e7os m\\u00e9dios (25.00 - 44.99 \\u00a3)\",\"Pre\\u00e7os m\\u00e9dios (25.00 - 44.99 \\u00a3)\",\"Pre\\u00e7os m\\u00e9dios (25.00 - 44.99 \\u00a3)\",\"Pre\\u00e7os altos ( 45,00 - 59,99 \\u00a3)\",\"Pre\\u00e7os m\\u00e9dios (25.00 - 44.99 \\u00a3)\",\"Pre\\u00e7os altos ( 45,00 - 59,99 \\u00a3)\",\"Pre\\u00e7os altos ( 45,00 - 59,99 \\u00a3)\",\"Pre\\u00e7os altos ( 45,00 - 59,99 \\u00a3)\",\"Pre\\u00e7os altos ( 45,00 - 59,99 \\u00a3)\",\"Pre\\u00e7os m\\u00e9dios (25.00 - 44.99 \\u00a3)\",\"Pre\\u00e7os baixos (10,00 - 24,99 \\u00a3)\",\"Pre\\u00e7os altos ( 45,00 - 59,99 \\u00a3)\",\"Pre\\u00e7os baixos (10,00 - 24,99 \\u00a3)\",\"Pre\\u00e7os altos ( 45,00 - 59,99 \\u00a3)\",\"Pre\\u00e7os baixos (10,00 - 24,99 \\u00a3)\",\"Pre\\u00e7os baixos (10,00 - 24,99 \\u00a3)\",\"Pre\\u00e7os baixos (10,00 - 24,99 \\u00a3)\",\"Pre\\u00e7os m\\u00e9dios (25.00 - 44.99 \\u00a3)\",\"Pre\\u00e7os m\\u00e9dios (25.00 - 44.99 \\u00a3)\",\"Pre\\u00e7os baixos (10,00 - 24,99 \\u00a3)\",\"Pre\\u00e7os m\\u00e9dios (25.00 - 44.99 \\u00a3)\",\"Pre\\u00e7os m\\u00e9dios (25.00 - 44.99 \\u00a3)\",\"Pre\\u00e7os m\\u00e9dios (25.00 - 44.99 \\u00a3)\",\"Pre\\u00e7os m\\u00e9dios (25.00 - 44.99 \\u00a3)\",\"Pre\\u00e7os altos ( 45,00 - 59,99 \\u00a3)\",\"Pre\\u00e7os altos ( 45,00 - 59,99 \\u00a3)\",\"Pre\\u00e7os altos ( 45,00 - 59,99 \\u00a3)\",\"Pre\\u00e7os baixos (10,00 - 24,99 \\u00a3)\",\"Pre\\u00e7os m\\u00e9dios (25.00 - 44.99 \\u00a3)\",\"Pre\\u00e7os altos ( 45,00 - 59,99 \\u00a3)\",\"Pre\\u00e7os m\\u00e9dios (25.00 - 44.99 \\u00a3)\",\"Pre\\u00e7os baixos (10,00 - 24,99 \\u00a3)\",\"Pre\\u00e7os baixos (10,00 - 24,99 \\u00a3)\",\"Pre\\u00e7os m\\u00e9dios (25.00 - 44.99 \\u00a3)\",\"Pre\\u00e7os m\\u00e9dios (25.00 - 44.99 \\u00a3)\",\"Pre\\u00e7os baixos (10,00 - 24,99 \\u00a3)\",\"Pre\\u00e7os baixos (10,00 - 24,99 \\u00a3)\",\"Pre\\u00e7os altos ( 45,00 - 59,99 \\u00a3)\",\"Pre\\u00e7os m\\u00e9dios (25.00 - 44.99 \\u00a3)\",\"Pre\\u00e7os altos ( 45,00 - 59,99 \\u00a3)\",\"Pre\\u00e7os baixos (10,00 - 24,99 \\u00a3)\",\"Pre\\u00e7os m\\u00e9dios (25.00 - 44.99 \\u00a3)\",\"Pre\\u00e7os altos ( 45,00 - 59,99 \\u00a3)\",\"Pre\\u00e7os altos ( 45,00 - 59,99 \\u00a3)\",\"Pre\\u00e7os baixos (10,00 - 24,99 \\u00a3)\",\"Pre\\u00e7os altos ( 45,00 - 59,99 \\u00a3)\",\"Pre\\u00e7os m\\u00e9dios (25.00 - 44.99 \\u00a3)\",\"Pre\\u00e7os altos ( 45,00 - 59,99 \\u00a3)\",\"Pre\\u00e7os baixos (10,00 - 24,99 \\u00a3)\",\"Pre\\u00e7os altos ( 45,00 - 59,99 \\u00a3)\",\"Pre\\u00e7os altos ( 45,00 - 59,99 \\u00a3)\",\"Pre\\u00e7os altos ( 45,00 - 59,99 \\u00a3)\",\"Pre\\u00e7os m\\u00e9dios (25.00 - 44.99 \\u00a3)\",\"Pre\\u00e7os m\\u00e9dios (25.00 - 44.99 \\u00a3)\",\"Pre\\u00e7os baixos (10,00 - 24,99 \\u00a3)\",\"Pre\\u00e7os m\\u00e9dios (25.00 - 44.99 \\u00a3)\",\"Pre\\u00e7os altos ( 45,00 - 59,99 \\u00a3)\",\"Pre\\u00e7os m\\u00e9dios (25.00 - 44.99 \\u00a3)\",\"Pre\\u00e7os baixos (10,00 - 24,99 \\u00a3)\",\"Pre\\u00e7os m\\u00e9dios (25.00 - 44.99 \\u00a3)\",\"Pre\\u00e7os altos ( 45,00 - 59,99 \\u00a3)\",\"Pre\\u00e7os baixos (10,00 - 24,99 \\u00a3)\",\"Pre\\u00e7os m\\u00e9dios (25.00 - 44.99 \\u00a3)\",\"Pre\\u00e7os altos ( 45,00 - 59,99 \\u00a3)\",\"Pre\\u00e7os baixos (10,00 - 24,99 \\u00a3)\",\"Pre\\u00e7os altos ( 45,00 - 59,99 \\u00a3)\",\"Pre\\u00e7os m\\u00e9dios (25.00 - 44.99 \\u00a3)\",\"Pre\\u00e7os altos ( 45,00 - 59,99 \\u00a3)\",\"Pre\\u00e7os m\\u00e9dios (25.00 - 44.99 \\u00a3)\",\"Pre\\u00e7os altos ( 45,00 - 59,99 \\u00a3)\",\"Pre\\u00e7os m\\u00e9dios (25.00 - 44.99 \\u00a3)\",\"Pre\\u00e7os m\\u00e9dios (25.00 - 44.99 \\u00a3)\",\"Pre\\u00e7os altos ( 45,00 - 59,99 \\u00a3)\",\"Pre\\u00e7os baixos (10,00 - 24,99 \\u00a3)\",\"Pre\\u00e7os altos ( 45,00 - 59,99 \\u00a3)\",\"Pre\\u00e7os altos ( 45,00 - 59,99 \\u00a3)\",\"Pre\\u00e7os m\\u00e9dios (25.00 - 44.99 \\u00a3)\",\"Pre\\u00e7os altos ( 45,00 - 59,99 \\u00a3)\",\"Pre\\u00e7os m\\u00e9dios (25.00 - 44.99 \\u00a3)\",\"Pre\\u00e7os baixos (10,00 - 24,99 \\u00a3)\",\"Pre\\u00e7os altos ( 45,00 - 59,99 \\u00a3)\",\"Pre\\u00e7os altos ( 45,00 - 59,99 \\u00a3)\",\"Pre\\u00e7os baixos (10,00 - 24,99 \\u00a3)\",\"Pre\\u00e7os altos ( 45,00 - 59,99 \\u00a3)\",\"Pre\\u00e7os m\\u00e9dios (25.00 - 44.99 \\u00a3)\",\"Pre\\u00e7os m\\u00e9dios (25.00 - 44.99 \\u00a3)\",\"Pre\\u00e7os baixos (10,00 - 24,99 \\u00a3)\",\"Pre\\u00e7os altos ( 45,00 - 59,99 \\u00a3)\",\"Pre\\u00e7os baixos (10,00 - 24,99 \\u00a3)\",\"Pre\\u00e7os baixos (10,00 - 24,99 \\u00a3)\",\"Pre\\u00e7os m\\u00e9dios (25.00 - 44.99 \\u00a3)\",\"Pre\\u00e7os m\\u00e9dios (25.00 - 44.99 \\u00a3)\",\"Pre\\u00e7os baixos (10,00 - 24,99 \\u00a3)\",\"Pre\\u00e7os m\\u00e9dios (25.00 - 44.99 \\u00a3)\",\"Pre\\u00e7os baixos (10,00 - 24,99 \\u00a3)\",\"Pre\\u00e7os m\\u00e9dios (25.00 - 44.99 \\u00a3)\",\"Pre\\u00e7os m\\u00e9dios (25.00 - 44.99 \\u00a3)\",\"Pre\\u00e7os altos ( 45,00 - 59,99 \\u00a3)\",\"Pre\\u00e7os m\\u00e9dios (25.00 - 44.99 \\u00a3)\",\"Pre\\u00e7os m\\u00e9dios (25.00 - 44.99 \\u00a3)\",\"Pre\\u00e7os altos ( 45,00 - 59,99 \\u00a3)\",\"Pre\\u00e7os m\\u00e9dios (25.00 - 44.99 \\u00a3)\",\"Pre\\u00e7os baixos (10,00 - 24,99 \\u00a3)\",\"Pre\\u00e7os altos ( 45,00 - 59,99 \\u00a3)\",\"Pre\\u00e7os altos ( 45,00 - 59,99 \\u00a3)\",\"Pre\\u00e7os baixos (10,00 - 24,99 \\u00a3)\",\"Pre\\u00e7os altos ( 45,00 - 59,99 \\u00a3)\",\"Pre\\u00e7os baixos (10,00 - 24,99 \\u00a3)\",\"Pre\\u00e7os altos ( 45,00 - 59,99 \\u00a3)\",\"Pre\\u00e7os m\\u00e9dios (25.00 - 44.99 \\u00a3)\",\"Pre\\u00e7os m\\u00e9dios (25.00 - 44.99 \\u00a3)\",\"Pre\\u00e7os m\\u00e9dios (25.00 - 44.99 \\u00a3)\",\"Pre\\u00e7os baixos (10,00 - 24,99 \\u00a3)\",\"Pre\\u00e7os altos ( 45,00 - 59,99 \\u00a3)\",\"Pre\\u00e7os altos ( 45,00 - 59,99 \\u00a3)\",\"Pre\\u00e7os m\\u00e9dios (25.00 - 44.99 \\u00a3)\",\"Pre\\u00e7os baixos (10,00 - 24,99 \\u00a3)\",\"Pre\\u00e7os altos ( 45,00 - 59,99 \\u00a3)\",\"Pre\\u00e7os baixos (10,00 - 24,99 \\u00a3)\",\"Pre\\u00e7os m\\u00e9dios (25.00 - 44.99 \\u00a3)\",\"Pre\\u00e7os baixos (10,00 - 24,99 \\u00a3)\",\"Pre\\u00e7os altos ( 45,00 - 59,99 \\u00a3)\",\"Pre\\u00e7os altos ( 45,00 - 59,99 \\u00a3)\",\"Pre\\u00e7os m\\u00e9dios (25.00 - 44.99 \\u00a3)\",\"Pre\\u00e7os altos ( 45,00 - 59,99 \\u00a3)\",\"Pre\\u00e7os altos ( 45,00 - 59,99 \\u00a3)\",\"Pre\\u00e7os m\\u00e9dios (25.00 - 44.99 \\u00a3)\",\"Pre\\u00e7os m\\u00e9dios (25.00 - 44.99 \\u00a3)\",\"Pre\\u00e7os altos ( 45,00 - 59,99 \\u00a3)\",\"Pre\\u00e7os m\\u00e9dios (25.00 - 44.99 \\u00a3)\",\"Pre\\u00e7os baixos (10,00 - 24,99 \\u00a3)\",\"Pre\\u00e7os altos ( 45,00 - 59,99 \\u00a3)\",\"Pre\\u00e7os baixos (10,00 - 24,99 \\u00a3)\",\"Pre\\u00e7os altos ( 45,00 - 59,99 \\u00a3)\",\"Pre\\u00e7os altos ( 45,00 - 59,99 \\u00a3)\",\"Pre\\u00e7os baixos (10,00 - 24,99 \\u00a3)\",\"Pre\\u00e7os baixos (10,00 - 24,99 \\u00a3)\",\"Pre\\u00e7os altos ( 45,00 - 59,99 \\u00a3)\",\"Pre\\u00e7os baixos (10,00 - 24,99 \\u00a3)\",\"Pre\\u00e7os baixos (10,00 - 24,99 \\u00a3)\",\"Pre\\u00e7os m\\u00e9dios (25.00 - 44.99 \\u00a3)\",\"Pre\\u00e7os baixos (10,00 - 24,99 \\u00a3)\",\"Pre\\u00e7os altos ( 45,00 - 59,99 \\u00a3)\",\"Pre\\u00e7os m\\u00e9dios (25.00 - 44.99 \\u00a3)\",\"Pre\\u00e7os baixos (10,00 - 24,99 \\u00a3)\",\"Pre\\u00e7os altos ( 45,00 - 59,99 \\u00a3)\",\"Pre\\u00e7os altos ( 45,00 - 59,99 \\u00a3)\",\"Pre\\u00e7os altos ( 45,00 - 59,99 \\u00a3)\",\"Pre\\u00e7os baixos (10,00 - 24,99 \\u00a3)\",\"Pre\\u00e7os baixos (10,00 - 24,99 \\u00a3)\",\"Pre\\u00e7os baixos (10,00 - 24,99 \\u00a3)\",\"Pre\\u00e7os baixos (10,00 - 24,99 \\u00a3)\",\"Pre\\u00e7os baixos (10,00 - 24,99 \\u00a3)\",\"Pre\\u00e7os baixos (10,00 - 24,99 \\u00a3)\",\"Pre\\u00e7os baixos (10,00 - 24,99 \\u00a3)\",\"Pre\\u00e7os altos ( 45,00 - 59,99 \\u00a3)\",\"Pre\\u00e7os baixos (10,00 - 24,99 \\u00a3)\",\"Pre\\u00e7os altos ( 45,00 - 59,99 \\u00a3)\",\"Pre\\u00e7os altos ( 45,00 - 59,99 \\u00a3)\",\"Pre\\u00e7os altos ( 45,00 - 59,99 \\u00a3)\",\"Pre\\u00e7os altos ( 45,00 - 59,99 \\u00a3)\",\"Pre\\u00e7os baixos (10,00 - 24,99 \\u00a3)\",\"Pre\\u00e7os m\\u00e9dios (25.00 - 44.99 \\u00a3)\",\"Pre\\u00e7os m\\u00e9dios (25.00 - 44.99 \\u00a3)\",\"Pre\\u00e7os baixos (10,00 - 24,99 \\u00a3)\",\"Pre\\u00e7os baixos (10,00 - 24,99 \\u00a3)\",\"Pre\\u00e7os altos ( 45,00 - 59,99 \\u00a3)\",\"Pre\\u00e7os baixos (10,00 - 24,99 \\u00a3)\",\"Pre\\u00e7os altos ( 45,00 - 59,99 \\u00a3)\",\"Pre\\u00e7os altos ( 45,00 - 59,99 \\u00a3)\",\"Pre\\u00e7os altos ( 45,00 - 59,99 \\u00a3)\",\"Pre\\u00e7os m\\u00e9dios (25.00 - 44.99 \\u00a3)\",\"Pre\\u00e7os baixos (10,00 - 24,99 \\u00a3)\",\"Pre\\u00e7os altos ( 45,00 - 59,99 \\u00a3)\",\"Pre\\u00e7os baixos (10,00 - 24,99 \\u00a3)\",\"Pre\\u00e7os m\\u00e9dios (25.00 - 44.99 \\u00a3)\",\"Pre\\u00e7os m\\u00e9dios (25.00 - 44.99 \\u00a3)\",\"Pre\\u00e7os m\\u00e9dios (25.00 - 44.99 \\u00a3)\",\"Pre\\u00e7os m\\u00e9dios (25.00 - 44.99 \\u00a3)\",\"Pre\\u00e7os altos ( 45,00 - 59,99 \\u00a3)\",\"Pre\\u00e7os altos ( 45,00 - 59,99 \\u00a3)\",\"Pre\\u00e7os altos ( 45,00 - 59,99 \\u00a3)\",\"Pre\\u00e7os m\\u00e9dios (25.00 - 44.99 \\u00a3)\",\"Pre\\u00e7os m\\u00e9dios (25.00 - 44.99 \\u00a3)\",\"Pre\\u00e7os baixos (10,00 - 24,99 \\u00a3)\",\"Pre\\u00e7os m\\u00e9dios (25.00 - 44.99 \\u00a3)\",\"Pre\\u00e7os m\\u00e9dios (25.00 - 44.99 \\u00a3)\",\"Pre\\u00e7os m\\u00e9dios (25.00 - 44.99 \\u00a3)\",\"Pre\\u00e7os m\\u00e9dios (25.00 - 44.99 \\u00a3)\",\"Pre\\u00e7os m\\u00e9dios (25.00 - 44.99 \\u00a3)\",\"Pre\\u00e7os m\\u00e9dios (25.00 - 44.99 \\u00a3)\",\"Pre\\u00e7os altos ( 45,00 - 59,99 \\u00a3)\",\"Pre\\u00e7os m\\u00e9dios (25.00 - 44.99 \\u00a3)\",\"Pre\\u00e7os m\\u00e9dios (25.00 - 44.99 \\u00a3)\",\"Pre\\u00e7os m\\u00e9dios (25.00 - 44.99 \\u00a3)\",\"Pre\\u00e7os m\\u00e9dios (25.00 - 44.99 \\u00a3)\",\"Pre\\u00e7os altos ( 45,00 - 59,99 \\u00a3)\",\"Pre\\u00e7os m\\u00e9dios (25.00 - 44.99 \\u00a3)\",\"Pre\\u00e7os baixos (10,00 - 24,99 \\u00a3)\",\"Pre\\u00e7os baixos (10,00 - 24,99 \\u00a3)\",\"Pre\\u00e7os altos ( 45,00 - 59,99 \\u00a3)\",\"Pre\\u00e7os m\\u00e9dios (25.00 - 44.99 \\u00a3)\",\"Pre\\u00e7os altos ( 45,00 - 59,99 \\u00a3)\",\"Pre\\u00e7os m\\u00e9dios (25.00 - 44.99 \\u00a3)\",\"Pre\\u00e7os altos ( 45,00 - 59,99 \\u00a3)\",\"Pre\\u00e7os m\\u00e9dios (25.00 - 44.99 \\u00a3)\",\"Pre\\u00e7os m\\u00e9dios (25.00 - 44.99 \\u00a3)\",\"Pre\\u00e7os baixos (10,00 - 24,99 \\u00a3)\",\"Pre\\u00e7os m\\u00e9dios (25.00 - 44.99 \\u00a3)\",\"Pre\\u00e7os m\\u00e9dios (25.00 - 44.99 \\u00a3)\",\"Pre\\u00e7os altos ( 45,00 - 59,99 \\u00a3)\",\"Pre\\u00e7os altos ( 45,00 - 59,99 \\u00a3)\",\"Pre\\u00e7os baixos (10,00 - 24,99 \\u00a3)\",\"Pre\\u00e7os altos ( 45,00 - 59,99 \\u00a3)\",\"Pre\\u00e7os m\\u00e9dios (25.00 - 44.99 \\u00a3)\",\"Pre\\u00e7os baixos (10,00 - 24,99 \\u00a3)\",\"Pre\\u00e7os m\\u00e9dios (25.00 - 44.99 \\u00a3)\",\"Pre\\u00e7os baixos (10,00 - 24,99 \\u00a3)\",\"Pre\\u00e7os altos ( 45,00 - 59,99 \\u00a3)\",\"Pre\\u00e7os altos ( 45,00 - 59,99 \\u00a3)\",\"Pre\\u00e7os m\\u00e9dios (25.00 - 44.99 \\u00a3)\",\"Pre\\u00e7os m\\u00e9dios (25.00 - 44.99 \\u00a3)\",\"Pre\\u00e7os m\\u00e9dios (25.00 - 44.99 \\u00a3)\",\"Pre\\u00e7os baixos (10,00 - 24,99 \\u00a3)\",\"Pre\\u00e7os baixos (10,00 - 24,99 \\u00a3)\",\"Pre\\u00e7os altos ( 45,00 - 59,99 \\u00a3)\",\"Pre\\u00e7os altos ( 45,00 - 59,99 \\u00a3)\",\"Pre\\u00e7os baixos (10,00 - 24,99 \\u00a3)\",\"Pre\\u00e7os altos ( 45,00 - 59,99 \\u00a3)\",\"Pre\\u00e7os m\\u00e9dios (25.00 - 44.99 \\u00a3)\",\"Pre\\u00e7os baixos (10,00 - 24,99 \\u00a3)\",\"Pre\\u00e7os baixos (10,00 - 24,99 \\u00a3)\",\"Pre\\u00e7os m\\u00e9dios (25.00 - 44.99 \\u00a3)\",\"Pre\\u00e7os altos ( 45,00 - 59,99 \\u00a3)\",\"Pre\\u00e7os m\\u00e9dios (25.00 - 44.99 \\u00a3)\",\"Pre\\u00e7os m\\u00e9dios (25.00 - 44.99 \\u00a3)\",\"Pre\\u00e7os m\\u00e9dios (25.00 - 44.99 \\u00a3)\",\"Pre\\u00e7os m\\u00e9dios (25.00 - 44.99 \\u00a3)\",\"Pre\\u00e7os m\\u00e9dios (25.00 - 44.99 \\u00a3)\",\"Pre\\u00e7os baixos (10,00 - 24,99 \\u00a3)\",\"Pre\\u00e7os m\\u00e9dios (25.00 - 44.99 \\u00a3)\",\"Pre\\u00e7os altos ( 45,00 - 59,99 \\u00a3)\",\"Pre\\u00e7os baixos (10,00 - 24,99 \\u00a3)\",\"Pre\\u00e7os m\\u00e9dios (25.00 - 44.99 \\u00a3)\",\"Pre\\u00e7os m\\u00e9dios (25.00 - 44.99 \\u00a3)\",\"Pre\\u00e7os baixos (10,00 - 24,99 \\u00a3)\",\"Pre\\u00e7os m\\u00e9dios (25.00 - 44.99 \\u00a3)\",\"Pre\\u00e7os altos ( 45,00 - 59,99 \\u00a3)\",\"Pre\\u00e7os m\\u00e9dios (25.00 - 44.99 \\u00a3)\",\"Pre\\u00e7os m\\u00e9dios (25.00 - 44.99 \\u00a3)\",\"Pre\\u00e7os baixos (10,00 - 24,99 \\u00a3)\",\"Pre\\u00e7os baixos (10,00 - 24,99 \\u00a3)\",\"Pre\\u00e7os baixos (10,00 - 24,99 \\u00a3)\",\"Pre\\u00e7os m\\u00e9dios (25.00 - 44.99 \\u00a3)\",\"Pre\\u00e7os altos ( 45,00 - 59,99 \\u00a3)\",\"Pre\\u00e7os altos ( 45,00 - 59,99 \\u00a3)\",\"Pre\\u00e7os m\\u00e9dios (25.00 - 44.99 \\u00a3)\",\"Pre\\u00e7os m\\u00e9dios (25.00 - 44.99 \\u00a3)\",\"Pre\\u00e7os altos ( 45,00 - 59,99 \\u00a3)\",\"Pre\\u00e7os baixos (10,00 - 24,99 \\u00a3)\",\"Pre\\u00e7os m\\u00e9dios (25.00 - 44.99 \\u00a3)\",\"Pre\\u00e7os altos ( 45,00 - 59,99 \\u00a3)\",\"Pre\\u00e7os m\\u00e9dios (25.00 - 44.99 \\u00a3)\",\"Pre\\u00e7os baixos (10,00 - 24,99 \\u00a3)\",\"Pre\\u00e7os altos ( 45,00 - 59,99 \\u00a3)\",\"Pre\\u00e7os m\\u00e9dios (25.00 - 44.99 \\u00a3)\",\"Pre\\u00e7os altos ( 45,00 - 59,99 \\u00a3)\",\"Pre\\u00e7os altos ( 45,00 - 59,99 \\u00a3)\",\"Pre\\u00e7os m\\u00e9dios (25.00 - 44.99 \\u00a3)\",\"Pre\\u00e7os m\\u00e9dios (25.00 - 44.99 \\u00a3)\",\"Pre\\u00e7os baixos (10,00 - 24,99 \\u00a3)\",\"Pre\\u00e7os altos ( 45,00 - 59,99 \\u00a3)\",\"Pre\\u00e7os altos ( 45,00 - 59,99 \\u00a3)\",\"Pre\\u00e7os baixos (10,00 - 24,99 \\u00a3)\",\"Pre\\u00e7os baixos (10,00 - 24,99 \\u00a3)\",\"Pre\\u00e7os baixos (10,00 - 24,99 \\u00a3)\",\"Pre\\u00e7os altos ( 45,00 - 59,99 \\u00a3)\",\"Pre\\u00e7os m\\u00e9dios (25.00 - 44.99 \\u00a3)\",\"Pre\\u00e7os altos ( 45,00 - 59,99 \\u00a3)\",\"Pre\\u00e7os m\\u00e9dios (25.00 - 44.99 \\u00a3)\",\"Pre\\u00e7os m\\u00e9dios (25.00 - 44.99 \\u00a3)\",\"Pre\\u00e7os altos ( 45,00 - 59,99 \\u00a3)\",\"Pre\\u00e7os m\\u00e9dios (25.00 - 44.99 \\u00a3)\",\"Pre\\u00e7os altos ( 45,00 - 59,99 \\u00a3)\",\"Pre\\u00e7os m\\u00e9dios (25.00 - 44.99 \\u00a3)\",\"Pre\\u00e7os altos ( 45,00 - 59,99 \\u00a3)\",\"Pre\\u00e7os baixos (10,00 - 24,99 \\u00a3)\",\"Pre\\u00e7os altos ( 45,00 - 59,99 \\u00a3)\",\"Pre\\u00e7os m\\u00e9dios (25.00 - 44.99 \\u00a3)\",\"Pre\\u00e7os m\\u00e9dios (25.00 - 44.99 \\u00a3)\",\"Pre\\u00e7os m\\u00e9dios (25.00 - 44.99 \\u00a3)\",\"Pre\\u00e7os baixos (10,00 - 24,99 \\u00a3)\",\"Pre\\u00e7os m\\u00e9dios (25.00 - 44.99 \\u00a3)\",\"Pre\\u00e7os baixos (10,00 - 24,99 \\u00a3)\",\"Pre\\u00e7os altos ( 45,00 - 59,99 \\u00a3)\",\"Pre\\u00e7os baixos (10,00 - 24,99 \\u00a3)\",\"Pre\\u00e7os baixos (10,00 - 24,99 \\u00a3)\",\"Pre\\u00e7os baixos (10,00 - 24,99 \\u00a3)\",\"Pre\\u00e7os altos ( 45,00 - 59,99 \\u00a3)\",\"Pre\\u00e7os altos ( 45,00 - 59,99 \\u00a3)\",\"Pre\\u00e7os m\\u00e9dios (25.00 - 44.99 \\u00a3)\",\"Pre\\u00e7os baixos (10,00 - 24,99 \\u00a3)\",\"Pre\\u00e7os altos ( 45,00 - 59,99 \\u00a3)\",\"Pre\\u00e7os altos ( 45,00 - 59,99 \\u00a3)\",\"Pre\\u00e7os baixos (10,00 - 24,99 \\u00a3)\",\"Pre\\u00e7os m\\u00e9dios (25.00 - 44.99 \\u00a3)\",\"Pre\\u00e7os altos ( 45,00 - 59,99 \\u00a3)\",\"Pre\\u00e7os altos ( 45,00 - 59,99 \\u00a3)\",\"Pre\\u00e7os baixos (10,00 - 24,99 \\u00a3)\",\"Pre\\u00e7os m\\u00e9dios (25.00 - 44.99 \\u00a3)\",\"Pre\\u00e7os altos ( 45,00 - 59,99 \\u00a3)\",\"Pre\\u00e7os baixos (10,00 - 24,99 \\u00a3)\",\"Pre\\u00e7os m\\u00e9dios (25.00 - 44.99 \\u00a3)\",\"Pre\\u00e7os m\\u00e9dios (25.00 - 44.99 \\u00a3)\",\"Pre\\u00e7os altos ( 45,00 - 59,99 \\u00a3)\",\"Pre\\u00e7os m\\u00e9dios (25.00 - 44.99 \\u00a3)\",\"Pre\\u00e7os baixos (10,00 - 24,99 \\u00a3)\",\"Pre\\u00e7os altos ( 45,00 - 59,99 \\u00a3)\",\"Pre\\u00e7os m\\u00e9dios (25.00 - 44.99 \\u00a3)\",\"Pre\\u00e7os altos ( 45,00 - 59,99 \\u00a3)\",\"Pre\\u00e7os altos ( 45,00 - 59,99 \\u00a3)\",\"Pre\\u00e7os m\\u00e9dios (25.00 - 44.99 \\u00a3)\",\"Pre\\u00e7os altos ( 45,00 - 59,99 \\u00a3)\",\"Pre\\u00e7os baixos (10,00 - 24,99 \\u00a3)\",\"Pre\\u00e7os m\\u00e9dios (25.00 - 44.99 \\u00a3)\",\"Pre\\u00e7os baixos (10,00 - 24,99 \\u00a3)\",\"Pre\\u00e7os m\\u00e9dios (25.00 - 44.99 \\u00a3)\",\"Pre\\u00e7os altos ( 45,00 - 59,99 \\u00a3)\",\"Pre\\u00e7os baixos (10,00 - 24,99 \\u00a3)\",\"Pre\\u00e7os m\\u00e9dios (25.00 - 44.99 \\u00a3)\",\"Pre\\u00e7os m\\u00e9dios (25.00 - 44.99 \\u00a3)\",\"Pre\\u00e7os baixos (10,00 - 24,99 \\u00a3)\",\"Pre\\u00e7os altos ( 45,00 - 59,99 \\u00a3)\",\"Pre\\u00e7os baixos (10,00 - 24,99 \\u00a3)\",\"Pre\\u00e7os altos ( 45,00 - 59,99 \\u00a3)\",\"Pre\\u00e7os altos ( 45,00 - 59,99 \\u00a3)\",\"Pre\\u00e7os altos ( 45,00 - 59,99 \\u00a3)\",\"Pre\\u00e7os m\\u00e9dios (25.00 - 44.99 \\u00a3)\",\"Pre\\u00e7os m\\u00e9dios (25.00 - 44.99 \\u00a3)\",\"Pre\\u00e7os baixos (10,00 - 24,99 \\u00a3)\",\"Pre\\u00e7os m\\u00e9dios (25.00 - 44.99 \\u00a3)\",\"Pre\\u00e7os baixos (10,00 - 24,99 \\u00a3)\",\"Pre\\u00e7os altos ( 45,00 - 59,99 \\u00a3)\",\"Pre\\u00e7os m\\u00e9dios (25.00 - 44.99 \\u00a3)\",\"Pre\\u00e7os m\\u00e9dios (25.00 - 44.99 \\u00a3)\",\"Pre\\u00e7os m\\u00e9dios (25.00 - 44.99 \\u00a3)\",\"Pre\\u00e7os baixos (10,00 - 24,99 \\u00a3)\",\"Pre\\u00e7os baixos (10,00 - 24,99 \\u00a3)\",\"Pre\\u00e7os baixos (10,00 - 24,99 \\u00a3)\",\"Pre\\u00e7os baixos (10,00 - 24,99 \\u00a3)\",\"Pre\\u00e7os m\\u00e9dios (25.00 - 44.99 \\u00a3)\",\"Pre\\u00e7os baixos (10,00 - 24,99 \\u00a3)\",\"Pre\\u00e7os baixos (10,00 - 24,99 \\u00a3)\",\"Pre\\u00e7os baixos (10,00 - 24,99 \\u00a3)\",\"Pre\\u00e7os baixos (10,00 - 24,99 \\u00a3)\",\"Pre\\u00e7os altos ( 45,00 - 59,99 \\u00a3)\",\"Pre\\u00e7os m\\u00e9dios (25.00 - 44.99 \\u00a3)\",\"Pre\\u00e7os baixos (10,00 - 24,99 \\u00a3)\",\"Pre\\u00e7os altos ( 45,00 - 59,99 \\u00a3)\",\"Pre\\u00e7os m\\u00e9dios (25.00 - 44.99 \\u00a3)\",\"Pre\\u00e7os m\\u00e9dios (25.00 - 44.99 \\u00a3)\",\"Pre\\u00e7os baixos (10,00 - 24,99 \\u00a3)\",\"Pre\\u00e7os baixos (10,00 - 24,99 \\u00a3)\",\"Pre\\u00e7os m\\u00e9dios (25.00 - 44.99 \\u00a3)\",\"Pre\\u00e7os baixos (10,00 - 24,99 \\u00a3)\",\"Pre\\u00e7os baixos (10,00 - 24,99 \\u00a3)\",\"Pre\\u00e7os m\\u00e9dios (25.00 - 44.99 \\u00a3)\",\"Pre\\u00e7os m\\u00e9dios (25.00 - 44.99 \\u00a3)\",\"Pre\\u00e7os m\\u00e9dios (25.00 - 44.99 \\u00a3)\",\"Pre\\u00e7os altos ( 45,00 - 59,99 \\u00a3)\",\"Pre\\u00e7os altos ( 45,00 - 59,99 \\u00a3)\",\"Pre\\u00e7os m\\u00e9dios (25.00 - 44.99 \\u00a3)\",\"Pre\\u00e7os baixos (10,00 - 24,99 \\u00a3)\",\"Pre\\u00e7os baixos (10,00 - 24,99 \\u00a3)\",\"Pre\\u00e7os m\\u00e9dios (25.00 - 44.99 \\u00a3)\",\"Pre\\u00e7os altos ( 45,00 - 59,99 \\u00a3)\",\"Pre\\u00e7os baixos (10,00 - 24,99 \\u00a3)\",\"Pre\\u00e7os altos ( 45,00 - 59,99 \\u00a3)\",\"Pre\\u00e7os altos ( 45,00 - 59,99 \\u00a3)\",\"Pre\\u00e7os m\\u00e9dios (25.00 - 44.99 \\u00a3)\",\"Pre\\u00e7os altos ( 45,00 - 59,99 \\u00a3)\",\"Pre\\u00e7os baixos (10,00 - 24,99 \\u00a3)\",\"Pre\\u00e7os baixos (10,00 - 24,99 \\u00a3)\",\"Pre\\u00e7os altos ( 45,00 - 59,99 \\u00a3)\",\"Pre\\u00e7os m\\u00e9dios (25.00 - 44.99 \\u00a3)\",\"Pre\\u00e7os altos ( 45,00 - 59,99 \\u00a3)\",\"Pre\\u00e7os altos ( 45,00 - 59,99 \\u00a3)\",\"Pre\\u00e7os m\\u00e9dios (25.00 - 44.99 \\u00a3)\",\"Pre\\u00e7os m\\u00e9dios (25.00 - 44.99 \\u00a3)\",\"Pre\\u00e7os m\\u00e9dios (25.00 - 44.99 \\u00a3)\",\"Pre\\u00e7os baixos (10,00 - 24,99 \\u00a3)\",\"Pre\\u00e7os baixos (10,00 - 24,99 \\u00a3)\",\"Pre\\u00e7os m\\u00e9dios (25.00 - 44.99 \\u00a3)\",\"Pre\\u00e7os altos ( 45,00 - 59,99 \\u00a3)\",\"Pre\\u00e7os m\\u00e9dios (25.00 - 44.99 \\u00a3)\",\"Pre\\u00e7os altos ( 45,00 - 59,99 \\u00a3)\",\"Pre\\u00e7os altos ( 45,00 - 59,99 \\u00a3)\",\"Pre\\u00e7os baixos (10,00 - 24,99 \\u00a3)\",\"Pre\\u00e7os altos ( 45,00 - 59,99 \\u00a3)\",\"Pre\\u00e7os altos ( 45,00 - 59,99 \\u00a3)\",\"Pre\\u00e7os baixos (10,00 - 24,99 \\u00a3)\",\"Pre\\u00e7os baixos (10,00 - 24,99 \\u00a3)\",\"Pre\\u00e7os baixos (10,00 - 24,99 \\u00a3)\",\"Pre\\u00e7os baixos (10,00 - 24,99 \\u00a3)\",\"Pre\\u00e7os altos ( 45,00 - 59,99 \\u00a3)\",\"Pre\\u00e7os baixos (10,00 - 24,99 \\u00a3)\",\"Pre\\u00e7os m\\u00e9dios (25.00 - 44.99 \\u00a3)\",\"Pre\\u00e7os m\\u00e9dios (25.00 - 44.99 \\u00a3)\",\"Pre\\u00e7os m\\u00e9dios (25.00 - 44.99 \\u00a3)\",\"Pre\\u00e7os baixos (10,00 - 24,99 \\u00a3)\",\"Pre\\u00e7os baixos (10,00 - 24,99 \\u00a3)\",\"Pre\\u00e7os m\\u00e9dios (25.00 - 44.99 \\u00a3)\",\"Pre\\u00e7os altos ( 45,00 - 59,99 \\u00a3)\",\"Pre\\u00e7os baixos (10,00 - 24,99 \\u00a3)\",\"Pre\\u00e7os m\\u00e9dios (25.00 - 44.99 \\u00a3)\",\"Pre\\u00e7os m\\u00e9dios (25.00 - 44.99 \\u00a3)\",\"Pre\\u00e7os m\\u00e9dios (25.00 - 44.99 \\u00a3)\",\"Pre\\u00e7os altos ( 45,00 - 59,99 \\u00a3)\",\"Pre\\u00e7os m\\u00e9dios (25.00 - 44.99 \\u00a3)\",\"Pre\\u00e7os baixos (10,00 - 24,99 \\u00a3)\",\"Pre\\u00e7os altos ( 45,00 - 59,99 \\u00a3)\",\"Pre\\u00e7os baixos (10,00 - 24,99 \\u00a3)\",\"Pre\\u00e7os altos ( 45,00 - 59,99 \\u00a3)\",\"Pre\\u00e7os baixos (10,00 - 24,99 \\u00a3)\",\"Pre\\u00e7os m\\u00e9dios (25.00 - 44.99 \\u00a3)\",\"Pre\\u00e7os altos ( 45,00 - 59,99 \\u00a3)\",\"Pre\\u00e7os altos ( 45,00 - 59,99 \\u00a3)\",\"Pre\\u00e7os altos ( 45,00 - 59,99 \\u00a3)\",\"Pre\\u00e7os m\\u00e9dios (25.00 - 44.99 \\u00a3)\",\"Pre\\u00e7os altos ( 45,00 - 59,99 \\u00a3)\",\"Pre\\u00e7os m\\u00e9dios (25.00 - 44.99 \\u00a3)\",\"Pre\\u00e7os baixos (10,00 - 24,99 \\u00a3)\",\"Pre\\u00e7os baixos (10,00 - 24,99 \\u00a3)\",\"Pre\\u00e7os altos ( 45,00 - 59,99 \\u00a3)\",\"Pre\\u00e7os baixos (10,00 - 24,99 \\u00a3)\",\"Pre\\u00e7os m\\u00e9dios (25.00 - 44.99 \\u00a3)\",\"Pre\\u00e7os m\\u00e9dios (25.00 - 44.99 \\u00a3)\",\"Pre\\u00e7os baixos (10,00 - 24,99 \\u00a3)\",\"Pre\\u00e7os m\\u00e9dios (25.00 - 44.99 \\u00a3)\",\"Pre\\u00e7os baixos (10,00 - 24,99 \\u00a3)\",\"Pre\\u00e7os altos ( 45,00 - 59,99 \\u00a3)\",\"Pre\\u00e7os baixos (10,00 - 24,99 \\u00a3)\",\"Pre\\u00e7os altos ( 45,00 - 59,99 \\u00a3)\",\"Pre\\u00e7os m\\u00e9dios (25.00 - 44.99 \\u00a3)\",\"Pre\\u00e7os m\\u00e9dios (25.00 - 44.99 \\u00a3)\",\"Pre\\u00e7os m\\u00e9dios (25.00 - 44.99 \\u00a3)\",\"Pre\\u00e7os m\\u00e9dios (25.00 - 44.99 \\u00a3)\",\"Pre\\u00e7os altos ( 45,00 - 59,99 \\u00a3)\",\"Pre\\u00e7os baixos (10,00 - 24,99 \\u00a3)\",\"Pre\\u00e7os baixos (10,00 - 24,99 \\u00a3)\",\"Pre\\u00e7os altos ( 45,00 - 59,99 \\u00a3)\",\"Pre\\u00e7os baixos (10,00 - 24,99 \\u00a3)\",\"Pre\\u00e7os altos ( 45,00 - 59,99 \\u00a3)\",\"Pre\\u00e7os baixos (10,00 - 24,99 \\u00a3)\",\"Pre\\u00e7os baixos (10,00 - 24,99 \\u00a3)\",\"Pre\\u00e7os altos ( 45,00 - 59,99 \\u00a3)\",\"Pre\\u00e7os altos ( 45,00 - 59,99 \\u00a3)\",\"Pre\\u00e7os baixos (10,00 - 24,99 \\u00a3)\",\"Pre\\u00e7os baixos (10,00 - 24,99 \\u00a3)\",\"Pre\\u00e7os altos ( 45,00 - 59,99 \\u00a3)\",\"Pre\\u00e7os altos ( 45,00 - 59,99 \\u00a3)\",\"Pre\\u00e7os baixos (10,00 - 24,99 \\u00a3)\",\"Pre\\u00e7os m\\u00e9dios (25.00 - 44.99 \\u00a3)\",\"Pre\\u00e7os baixos (10,00 - 24,99 \\u00a3)\",\"Pre\\u00e7os m\\u00e9dios (25.00 - 44.99 \\u00a3)\",\"Pre\\u00e7os m\\u00e9dios (25.00 - 44.99 \\u00a3)\",\"Pre\\u00e7os m\\u00e9dios (25.00 - 44.99 \\u00a3)\",\"Pre\\u00e7os baixos (10,00 - 24,99 \\u00a3)\",\"Pre\\u00e7os m\\u00e9dios (25.00 - 44.99 \\u00a3)\",\"Pre\\u00e7os m\\u00e9dios (25.00 - 44.99 \\u00a3)\",\"Pre\\u00e7os altos ( 45,00 - 59,99 \\u00a3)\",\"Pre\\u00e7os m\\u00e9dios (25.00 - 44.99 \\u00a3)\",\"Pre\\u00e7os m\\u00e9dios (25.00 - 44.99 \\u00a3)\",\"Pre\\u00e7os altos ( 45,00 - 59,99 \\u00a3)\",\"Pre\\u00e7os m\\u00e9dios (25.00 - 44.99 \\u00a3)\",\"Pre\\u00e7os baixos (10,00 - 24,99 \\u00a3)\",\"Pre\\u00e7os altos ( 45,00 - 59,99 \\u00a3)\",\"Pre\\u00e7os m\\u00e9dios (25.00 - 44.99 \\u00a3)\",\"Pre\\u00e7os m\\u00e9dios (25.00 - 44.99 \\u00a3)\",\"Pre\\u00e7os altos ( 45,00 - 59,99 \\u00a3)\",\"Pre\\u00e7os m\\u00e9dios (25.00 - 44.99 \\u00a3)\",\"Pre\\u00e7os m\\u00e9dios (25.00 - 44.99 \\u00a3)\",\"Pre\\u00e7os altos ( 45,00 - 59,99 \\u00a3)\",\"Pre\\u00e7os altos ( 45,00 - 59,99 \\u00a3)\",\"Pre\\u00e7os baixos (10,00 - 24,99 \\u00a3)\",\"Pre\\u00e7os altos ( 45,00 - 59,99 \\u00a3)\",\"Pre\\u00e7os m\\u00e9dios (25.00 - 44.99 \\u00a3)\",\"Pre\\u00e7os baixos (10,00 - 24,99 \\u00a3)\",\"Pre\\u00e7os altos ( 45,00 - 59,99 \\u00a3)\",\"Pre\\u00e7os baixos (10,00 - 24,99 \\u00a3)\",\"Pre\\u00e7os altos ( 45,00 - 59,99 \\u00a3)\",\"Pre\\u00e7os m\\u00e9dios (25.00 - 44.99 \\u00a3)\",\"Pre\\u00e7os baixos (10,00 - 24,99 \\u00a3)\",\"Pre\\u00e7os baixos (10,00 - 24,99 \\u00a3)\",\"Pre\\u00e7os altos ( 45,00 - 59,99 \\u00a3)\",\"Pre\\u00e7os m\\u00e9dios (25.00 - 44.99 \\u00a3)\",\"Pre\\u00e7os altos ( 45,00 - 59,99 \\u00a3)\",\"Pre\\u00e7os m\\u00e9dios (25.00 - 44.99 \\u00a3)\",\"Pre\\u00e7os baixos (10,00 - 24,99 \\u00a3)\",\"Pre\\u00e7os baixos (10,00 - 24,99 \\u00a3)\",\"Pre\\u00e7os m\\u00e9dios (25.00 - 44.99 \\u00a3)\",\"Pre\\u00e7os m\\u00e9dios (25.00 - 44.99 \\u00a3)\",\"Pre\\u00e7os baixos (10,00 - 24,99 \\u00a3)\",\"Pre\\u00e7os baixos (10,00 - 24,99 \\u00a3)\",\"Pre\\u00e7os altos ( 45,00 - 59,99 \\u00a3)\",\"Pre\\u00e7os altos ( 45,00 - 59,99 \\u00a3)\",\"Pre\\u00e7os m\\u00e9dios (25.00 - 44.99 \\u00a3)\",\"Pre\\u00e7os altos ( 45,00 - 59,99 \\u00a3)\",\"Pre\\u00e7os baixos (10,00 - 24,99 \\u00a3)\",\"Pre\\u00e7os m\\u00e9dios (25.00 - 44.99 \\u00a3)\",\"Pre\\u00e7os baixos (10,00 - 24,99 \\u00a3)\",\"Pre\\u00e7os m\\u00e9dios (25.00 - 44.99 \\u00a3)\",\"Pre\\u00e7os m\\u00e9dios (25.00 - 44.99 \\u00a3)\",\"Pre\\u00e7os altos ( 45,00 - 59,99 \\u00a3)\",\"Pre\\u00e7os altos ( 45,00 - 59,99 \\u00a3)\",\"Pre\\u00e7os altos ( 45,00 - 59,99 \\u00a3)\",\"Pre\\u00e7os baixos (10,00 - 24,99 \\u00a3)\",\"Pre\\u00e7os altos ( 45,00 - 59,99 \\u00a3)\",\"Pre\\u00e7os altos ( 45,00 - 59,99 \\u00a3)\",\"Pre\\u00e7os m\\u00e9dios (25.00 - 44.99 \\u00a3)\",\"Pre\\u00e7os baixos (10,00 - 24,99 \\u00a3)\",\"Pre\\u00e7os altos ( 45,00 - 59,99 \\u00a3)\",\"Pre\\u00e7os baixos (10,00 - 24,99 \\u00a3)\",\"Pre\\u00e7os baixos (10,00 - 24,99 \\u00a3)\",\"Pre\\u00e7os altos ( 45,00 - 59,99 \\u00a3)\",\"Pre\\u00e7os m\\u00e9dios (25.00 - 44.99 \\u00a3)\",\"Pre\\u00e7os m\\u00e9dios (25.00 - 44.99 \\u00a3)\",\"Pre\\u00e7os baixos (10,00 - 24,99 \\u00a3)\",\"Pre\\u00e7os m\\u00e9dios (25.00 - 44.99 \\u00a3)\",\"Pre\\u00e7os baixos (10,00 - 24,99 \\u00a3)\",\"Pre\\u00e7os m\\u00e9dios (25.00 - 44.99 \\u00a3)\",\"Pre\\u00e7os m\\u00e9dios (25.00 - 44.99 \\u00a3)\",\"Pre\\u00e7os m\\u00e9dios (25.00 - 44.99 \\u00a3)\",\"Pre\\u00e7os altos ( 45,00 - 59,99 \\u00a3)\",\"Pre\\u00e7os baixos (10,00 - 24,99 \\u00a3)\",\"Pre\\u00e7os m\\u00e9dios (25.00 - 44.99 \\u00a3)\",\"Pre\\u00e7os baixos (10,00 - 24,99 \\u00a3)\",\"Pre\\u00e7os m\\u00e9dios (25.00 - 44.99 \\u00a3)\",\"Pre\\u00e7os m\\u00e9dios (25.00 - 44.99 \\u00a3)\",\"Pre\\u00e7os baixos (10,00 - 24,99 \\u00a3)\",\"Pre\\u00e7os m\\u00e9dios (25.00 - 44.99 \\u00a3)\",\"Pre\\u00e7os m\\u00e9dios (25.00 - 44.99 \\u00a3)\",\"Pre\\u00e7os m\\u00e9dios (25.00 - 44.99 \\u00a3)\",\"Pre\\u00e7os altos ( 45,00 - 59,99 \\u00a3)\",\"Pre\\u00e7os altos ( 45,00 - 59,99 \\u00a3)\",\"Pre\\u00e7os altos ( 45,00 - 59,99 \\u00a3)\",\"Pre\\u00e7os m\\u00e9dios (25.00 - 44.99 \\u00a3)\",\"Pre\\u00e7os baixos (10,00 - 24,99 \\u00a3)\",\"Pre\\u00e7os baixos (10,00 - 24,99 \\u00a3)\",\"Pre\\u00e7os m\\u00e9dios (25.00 - 44.99 \\u00a3)\",\"Pre\\u00e7os altos ( 45,00 - 59,99 \\u00a3)\",\"Pre\\u00e7os m\\u00e9dios (25.00 - 44.99 \\u00a3)\",\"Pre\\u00e7os baixos (10,00 - 24,99 \\u00a3)\",\"Pre\\u00e7os altos ( 45,00 - 59,99 \\u00a3)\",\"Pre\\u00e7os m\\u00e9dios (25.00 - 44.99 \\u00a3)\",\"Pre\\u00e7os m\\u00e9dios (25.00 - 44.99 \\u00a3)\",\"Pre\\u00e7os altos ( 45,00 - 59,99 \\u00a3)\",\"Pre\\u00e7os altos ( 45,00 - 59,99 \\u00a3)\",\"Pre\\u00e7os m\\u00e9dios (25.00 - 44.99 \\u00a3)\",\"Pre\\u00e7os m\\u00e9dios (25.00 - 44.99 \\u00a3)\",\"Pre\\u00e7os baixos (10,00 - 24,99 \\u00a3)\",\"Pre\\u00e7os altos ( 45,00 - 59,99 \\u00a3)\",\"Pre\\u00e7os m\\u00e9dios (25.00 - 44.99 \\u00a3)\",\"Pre\\u00e7os m\\u00e9dios (25.00 - 44.99 \\u00a3)\",\"Pre\\u00e7os altos ( 45,00 - 59,99 \\u00a3)\",\"Pre\\u00e7os baixos (10,00 - 24,99 \\u00a3)\",\"Pre\\u00e7os m\\u00e9dios (25.00 - 44.99 \\u00a3)\",\"Pre\\u00e7os m\\u00e9dios (25.00 - 44.99 \\u00a3)\",\"Pre\\u00e7os m\\u00e9dios (25.00 - 44.99 \\u00a3)\",\"Pre\\u00e7os altos ( 45,00 - 59,99 \\u00a3)\",\"Pre\\u00e7os m\\u00e9dios (25.00 - 44.99 \\u00a3)\",\"Pre\\u00e7os altos ( 45,00 - 59,99 \\u00a3)\",\"Pre\\u00e7os m\\u00e9dios (25.00 - 44.99 \\u00a3)\",\"Pre\\u00e7os baixos (10,00 - 24,99 \\u00a3)\",\"Pre\\u00e7os m\\u00e9dios (25.00 - 44.99 \\u00a3)\",\"Pre\\u00e7os m\\u00e9dios (25.00 - 44.99 \\u00a3)\",\"Pre\\u00e7os m\\u00e9dios (25.00 - 44.99 \\u00a3)\",\"Pre\\u00e7os m\\u00e9dios (25.00 - 44.99 \\u00a3)\",\"Pre\\u00e7os altos ( 45,00 - 59,99 \\u00a3)\",\"Pre\\u00e7os altos ( 45,00 - 59,99 \\u00a3)\",\"Pre\\u00e7os altos ( 45,00 - 59,99 \\u00a3)\",\"Pre\\u00e7os baixos (10,00 - 24,99 \\u00a3)\",\"Pre\\u00e7os baixos (10,00 - 24,99 \\u00a3)\",\"Pre\\u00e7os m\\u00e9dios (25.00 - 44.99 \\u00a3)\",\"Pre\\u00e7os m\\u00e9dios (25.00 - 44.99 \\u00a3)\",\"Pre\\u00e7os m\\u00e9dios (25.00 - 44.99 \\u00a3)\",\"Pre\\u00e7os baixos (10,00 - 24,99 \\u00a3)\",\"Pre\\u00e7os altos ( 45,00 - 59,99 \\u00a3)\",\"Pre\\u00e7os altos ( 45,00 - 59,99 \\u00a3)\",\"Pre\\u00e7os altos ( 45,00 - 59,99 \\u00a3)\",\"Pre\\u00e7os baixos (10,00 - 24,99 \\u00a3)\",\"Pre\\u00e7os m\\u00e9dios (25.00 - 44.99 \\u00a3)\",\"Pre\\u00e7os baixos (10,00 - 24,99 \\u00a3)\",\"Pre\\u00e7os altos ( 45,00 - 59,99 \\u00a3)\",\"Pre\\u00e7os baixos (10,00 - 24,99 \\u00a3)\",\"Pre\\u00e7os altos ( 45,00 - 59,99 \\u00a3)\",\"Pre\\u00e7os baixos (10,00 - 24,99 \\u00a3)\",\"Pre\\u00e7os m\\u00e9dios (25.00 - 44.99 \\u00a3)\",\"Pre\\u00e7os altos ( 45,00 - 59,99 \\u00a3)\",\"Pre\\u00e7os m\\u00e9dios (25.00 - 44.99 \\u00a3)\",\"Pre\\u00e7os m\\u00e9dios (25.00 - 44.99 \\u00a3)\",\"Pre\\u00e7os baixos (10,00 - 24,99 \\u00a3)\",\"Pre\\u00e7os m\\u00e9dios (25.00 - 44.99 \\u00a3)\",\"Pre\\u00e7os altos ( 45,00 - 59,99 \\u00a3)\",\"Pre\\u00e7os baixos (10,00 - 24,99 \\u00a3)\",\"Pre\\u00e7os m\\u00e9dios (25.00 - 44.99 \\u00a3)\",\"Pre\\u00e7os baixos (10,00 - 24,99 \\u00a3)\",\"Pre\\u00e7os m\\u00e9dios (25.00 - 44.99 \\u00a3)\",\"Pre\\u00e7os altos ( 45,00 - 59,99 \\u00a3)\",\"Pre\\u00e7os baixos (10,00 - 24,99 \\u00a3)\",\"Pre\\u00e7os baixos (10,00 - 24,99 \\u00a3)\",\"Pre\\u00e7os m\\u00e9dios (25.00 - 44.99 \\u00a3)\",\"Pre\\u00e7os m\\u00e9dios (25.00 - 44.99 \\u00a3)\",\"Pre\\u00e7os baixos (10,00 - 24,99 \\u00a3)\",\"Pre\\u00e7os m\\u00e9dios (25.00 - 44.99 \\u00a3)\",\"Pre\\u00e7os baixos (10,00 - 24,99 \\u00a3)\",\"Pre\\u00e7os baixos (10,00 - 24,99 \\u00a3)\",\"Pre\\u00e7os altos ( 45,00 - 59,99 \\u00a3)\",\"Pre\\u00e7os m\\u00e9dios (25.00 - 44.99 \\u00a3)\",\"Pre\\u00e7os m\\u00e9dios (25.00 - 44.99 \\u00a3)\",\"Pre\\u00e7os m\\u00e9dios (25.00 - 44.99 \\u00a3)\",\"Pre\\u00e7os baixos (10,00 - 24,99 \\u00a3)\",\"Pre\\u00e7os m\\u00e9dios (25.00 - 44.99 \\u00a3)\",\"Pre\\u00e7os altos ( 45,00 - 59,99 \\u00a3)\",\"Pre\\u00e7os m\\u00e9dios (25.00 - 44.99 \\u00a3)\",\"Pre\\u00e7os altos ( 45,00 - 59,99 \\u00a3)\",\"Pre\\u00e7os baixos (10,00 - 24,99 \\u00a3)\",\"Pre\\u00e7os m\\u00e9dios (25.00 - 44.99 \\u00a3)\",\"Pre\\u00e7os altos ( 45,00 - 59,99 \\u00a3)\",\"Pre\\u00e7os baixos (10,00 - 24,99 \\u00a3)\",\"Pre\\u00e7os baixos (10,00 - 24,99 \\u00a3)\",\"Pre\\u00e7os baixos (10,00 - 24,99 \\u00a3)\",\"Pre\\u00e7os baixos (10,00 - 24,99 \\u00a3)\",\"Pre\\u00e7os baixos (10,00 - 24,99 \\u00a3)\",\"Pre\\u00e7os m\\u00e9dios (25.00 - 44.99 \\u00a3)\",\"Pre\\u00e7os m\\u00e9dios (25.00 - 44.99 \\u00a3)\",\"Pre\\u00e7os altos ( 45,00 - 59,99 \\u00a3)\",\"Pre\\u00e7os altos ( 45,00 - 59,99 \\u00a3)\",\"Pre\\u00e7os baixos (10,00 - 24,99 \\u00a3)\",\"Pre\\u00e7os altos ( 45,00 - 59,99 \\u00a3)\",\"Pre\\u00e7os baixos (10,00 - 24,99 \\u00a3)\",\"Pre\\u00e7os m\\u00e9dios (25.00 - 44.99 \\u00a3)\",\"Pre\\u00e7os m\\u00e9dios (25.00 - 44.99 \\u00a3)\",\"Pre\\u00e7os altos ( 45,00 - 59,99 \\u00a3)\",\"Pre\\u00e7os m\\u00e9dios (25.00 - 44.99 \\u00a3)\",\"Pre\\u00e7os baixos (10,00 - 24,99 \\u00a3)\",\"Pre\\u00e7os altos ( 45,00 - 59,99 \\u00a3)\",\"Pre\\u00e7os m\\u00e9dios (25.00 - 44.99 \\u00a3)\",\"Pre\\u00e7os altos ( 45,00 - 59,99 \\u00a3)\",\"Pre\\u00e7os m\\u00e9dios (25.00 - 44.99 \\u00a3)\",\"Pre\\u00e7os altos ( 45,00 - 59,99 \\u00a3)\",\"Pre\\u00e7os baixos (10,00 - 24,99 \\u00a3)\",\"Pre\\u00e7os m\\u00e9dios (25.00 - 44.99 \\u00a3)\",\"Pre\\u00e7os m\\u00e9dios (25.00 - 44.99 \\u00a3)\",\"Pre\\u00e7os m\\u00e9dios (25.00 - 44.99 \\u00a3)\",\"Pre\\u00e7os baixos (10,00 - 24,99 \\u00a3)\",\"Pre\\u00e7os m\\u00e9dios (25.00 - 44.99 \\u00a3)\",\"Pre\\u00e7os m\\u00e9dios (25.00 - 44.99 \\u00a3)\",\"Pre\\u00e7os m\\u00e9dios (25.00 - 44.99 \\u00a3)\",\"Pre\\u00e7os altos ( 45,00 - 59,99 \\u00a3)\",\"Pre\\u00e7os m\\u00e9dios (25.00 - 44.99 \\u00a3)\",\"Pre\\u00e7os m\\u00e9dios (25.00 - 44.99 \\u00a3)\",\"Pre\\u00e7os altos ( 45,00 - 59,99 \\u00a3)\",\"Pre\\u00e7os m\\u00e9dios (25.00 - 44.99 \\u00a3)\",\"Pre\\u00e7os altos ( 45,00 - 59,99 \\u00a3)\",\"Pre\\u00e7os m\\u00e9dios (25.00 - 44.99 \\u00a3)\",\"Pre\\u00e7os altos ( 45,00 - 59,99 \\u00a3)\",\"Pre\\u00e7os altos ( 45,00 - 59,99 \\u00a3)\",\"Pre\\u00e7os m\\u00e9dios (25.00 - 44.99 \\u00a3)\",\"Pre\\u00e7os baixos (10,00 - 24,99 \\u00a3)\",\"Pre\\u00e7os m\\u00e9dios (25.00 - 44.99 \\u00a3)\",\"Pre\\u00e7os m\\u00e9dios (25.00 - 44.99 \\u00a3)\",\"Pre\\u00e7os baixos (10,00 - 24,99 \\u00a3)\",\"Pre\\u00e7os baixos (10,00 - 24,99 \\u00a3)\",\"Pre\\u00e7os baixos (10,00 - 24,99 \\u00a3)\",\"Pre\\u00e7os baixos (10,00 - 24,99 \\u00a3)\",\"Pre\\u00e7os baixos (10,00 - 24,99 \\u00a3)\",\"Pre\\u00e7os baixos (10,00 - 24,99 \\u00a3)\",\"Pre\\u00e7os altos ( 45,00 - 59,99 \\u00a3)\",\"Pre\\u00e7os m\\u00e9dios (25.00 - 44.99 \\u00a3)\",\"Pre\\u00e7os m\\u00e9dios (25.00 - 44.99 \\u00a3)\",\"Pre\\u00e7os baixos (10,00 - 24,99 \\u00a3)\",\"Pre\\u00e7os m\\u00e9dios (25.00 - 44.99 \\u00a3)\",\"Pre\\u00e7os m\\u00e9dios (25.00 - 44.99 \\u00a3)\",\"Pre\\u00e7os baixos (10,00 - 24,99 \\u00a3)\",\"Pre\\u00e7os m\\u00e9dios (25.00 - 44.99 \\u00a3)\",\"Pre\\u00e7os altos ( 45,00 - 59,99 \\u00a3)\",\"Pre\\u00e7os baixos (10,00 - 24,99 \\u00a3)\",\"Pre\\u00e7os m\\u00e9dios (25.00 - 44.99 \\u00a3)\",\"Pre\\u00e7os m\\u00e9dios (25.00 - 44.99 \\u00a3)\",\"Pre\\u00e7os m\\u00e9dios (25.00 - 44.99 \\u00a3)\",\"Pre\\u00e7os m\\u00e9dios (25.00 - 44.99 \\u00a3)\",\"Pre\\u00e7os altos ( 45,00 - 59,99 \\u00a3)\",\"Pre\\u00e7os baixos (10,00 - 24,99 \\u00a3)\",\"Pre\\u00e7os baixos (10,00 - 24,99 \\u00a3)\",\"Pre\\u00e7os m\\u00e9dios (25.00 - 44.99 \\u00a3)\",\"Pre\\u00e7os m\\u00e9dios (25.00 - 44.99 \\u00a3)\",\"Pre\\u00e7os altos ( 45,00 - 59,99 \\u00a3)\",\"Pre\\u00e7os m\\u00e9dios (25.00 - 44.99 \\u00a3)\",\"Pre\\u00e7os altos ( 45,00 - 59,99 \\u00a3)\",\"Pre\\u00e7os m\\u00e9dios (25.00 - 44.99 \\u00a3)\",\"Pre\\u00e7os altos ( 45,00 - 59,99 \\u00a3)\",\"Pre\\u00e7os altos ( 45,00 - 59,99 \\u00a3)\",\"Pre\\u00e7os m\\u00e9dios (25.00 - 44.99 \\u00a3)\",\"Pre\\u00e7os m\\u00e9dios (25.00 - 44.99 \\u00a3)\",\"Pre\\u00e7os m\\u00e9dios (25.00 - 44.99 \\u00a3)\",\"Pre\\u00e7os m\\u00e9dios (25.00 - 44.99 \\u00a3)\",\"Pre\\u00e7os m\\u00e9dios (25.00 - 44.99 \\u00a3)\",\"Pre\\u00e7os baixos (10,00 - 24,99 \\u00a3)\",\"Pre\\u00e7os altos ( 45,00 - 59,99 \\u00a3)\",\"Pre\\u00e7os altos ( 45,00 - 59,99 \\u00a3)\",\"Pre\\u00e7os m\\u00e9dios (25.00 - 44.99 \\u00a3)\",\"Pre\\u00e7os m\\u00e9dios (25.00 - 44.99 \\u00a3)\",\"Pre\\u00e7os m\\u00e9dios (25.00 - 44.99 \\u00a3)\",\"Pre\\u00e7os altos ( 45,00 - 59,99 \\u00a3)\",\"Pre\\u00e7os m\\u00e9dios (25.00 - 44.99 \\u00a3)\",\"Pre\\u00e7os altos ( 45,00 - 59,99 \\u00a3)\",\"Pre\\u00e7os m\\u00e9dios (25.00 - 44.99 \\u00a3)\",\"Pre\\u00e7os m\\u00e9dios (25.00 - 44.99 \\u00a3)\",\"Pre\\u00e7os m\\u00e9dios (25.00 - 44.99 \\u00a3)\",\"Pre\\u00e7os m\\u00e9dios (25.00 - 44.99 \\u00a3)\",\"Pre\\u00e7os m\\u00e9dios (25.00 - 44.99 \\u00a3)\",\"Pre\\u00e7os altos ( 45,00 - 59,99 \\u00a3)\",\"Pre\\u00e7os altos ( 45,00 - 59,99 \\u00a3)\",\"Pre\\u00e7os m\\u00e9dios (25.00 - 44.99 \\u00a3)\",\"Pre\\u00e7os baixos (10,00 - 24,99 \\u00a3)\",\"Pre\\u00e7os m\\u00e9dios (25.00 - 44.99 \\u00a3)\",\"Pre\\u00e7os m\\u00e9dios (25.00 - 44.99 \\u00a3)\",\"Pre\\u00e7os m\\u00e9dios (25.00 - 44.99 \\u00a3)\",\"Pre\\u00e7os m\\u00e9dios (25.00 - 44.99 \\u00a3)\",\"Pre\\u00e7os baixos (10,00 - 24,99 \\u00a3)\",\"Pre\\u00e7os m\\u00e9dios (25.00 - 44.99 \\u00a3)\",\"Pre\\u00e7os m\\u00e9dios (25.00 - 44.99 \\u00a3)\",\"Pre\\u00e7os altos ( 45,00 - 59,99 \\u00a3)\",\"Pre\\u00e7os altos ( 45,00 - 59,99 \\u00a3)\",\"Pre\\u00e7os baixos (10,00 - 24,99 \\u00a3)\",\"Pre\\u00e7os altos ( 45,00 - 59,99 \\u00a3)\",\"Pre\\u00e7os m\\u00e9dios (25.00 - 44.99 \\u00a3)\"],\"legendgroup\":\"\",\"marker\":{\"colors\":[\"#D62728\",\"#D62728\",\"#D62728\",\"#D62728\",\"#D62728\",\"blue\",\"#9467BD\",\"blue\",\"blue\",\"#D62728\",\"blue\",\"blue\",\"blue\",\"#D62728\",\"#9467BD\",\"#D62728\",\"blue\",\"#9467BD\",\"#D62728\",\"#D62728\",\"blue\",\"#9467BD\",\"#9467BD\",\"#9467BD\",\"#9467BD\",\"#D62728\",\"blue\",\"#D62728\",\"#9467BD\",\"#9467BD\",\"blue\",\"#9467BD\",\"blue\",\"#9467BD\",\"blue\",\"#9467BD\",\"blue\",\"blue\",\"#D62728\",\"#9467BD\",\"#D62728\",\"#9467BD\",\"#D62728\",\"blue\",\"#D62728\",\"#9467BD\",\"#D62728\",\"blue\",\"#9467BD\",\"blue\",\"#9467BD\",\"blue\",\"#9467BD\",\"blue\",\"blue\",\"blue\",\"#D62728\",\"#D62728\",\"#D62728\",\"#D62728\",\"#9467BD\",\"#D62728\",\"#9467BD\",\"blue\",\"blue\",\"blue\",\"#9467BD\",\"#D62728\",\"#D62728\",\"#D62728\",\"#9467BD\",\"blue\",\"#9467BD\",\"#9467BD\",\"#9467BD\",\"#9467BD\",\"#9467BD\",\"#D62728\",\"blue\",\"#D62728\",\"blue\",\"blue\",\"blue\",\"#9467BD\",\"blue\",\"blue\",\"#D62728\",\"#D62728\",\"blue\",\"blue\",\"#9467BD\",\"#D62728\",\"blue\",\"#D62728\",\"#D62728\",\"blue\",\"#9467BD\",\"#D62728\",\"#9467BD\",\"blue\",\"#D62728\",\"#9467BD\",\"#D62728\",\"#D62728\",\"#9467BD\",\"blue\",\"#9467BD\",\"blue\",\"blue\",\"#D62728\",\"#9467BD\",\"#D62728\",\"#9467BD\",\"#9467BD\",\"blue\",\"#9467BD\",\"#9467BD\",\"#D62728\",\"#9467BD\",\"#9467BD\",\"#9467BD\",\"#9467BD\",\"#D62728\",\"blue\",\"#D62728\",\"#9467BD\",\"#D62728\",\"#D62728\",\"blue\",\"#9467BD\",\"blue\",\"#9467BD\",\"#9467BD\",\"#D62728\",\"#D62728\",\"#D62728\",\"blue\",\"#9467BD\",\"blue\",\"blue\",\"#9467BD\",\"#9467BD\",\"#D62728\",\"#9467BD\",\"blue\",\"#9467BD\",\"#9467BD\",\"#9467BD\",\"#9467BD\",\"#9467BD\",\"#D62728\",\"#9467BD\",\"blue\",\"#9467BD\",\"#9467BD\",\"#9467BD\",\"#D62728\",\"blue\",\"blue\",\"#9467BD\",\"#9467BD\",\"#9467BD\",\"#9467BD\",\"blue\",\"#9467BD\",\"#D62728\",\"blue\",\"#9467BD\",\"blue\",\"blue\",\"#9467BD\",\"blue\",\"#9467BD\",\"#9467BD\",\"blue\",\"#9467BD\",\"blue\",\"#9467BD\",\"#9467BD\",\"#9467BD\",\"#9467BD\",\"blue\",\"blue\",\"blue\",\"#D62728\",\"blue\",\"#D62728\",\"#9467BD\",\"blue\",\"#D62728\",\"#9467BD\",\"blue\",\"#9467BD\",\"#D62728\",\"#9467BD\",\"#D62728\",\"#9467BD\",\"#9467BD\",\"#9467BD\",\"#9467BD\",\"blue\",\"blue\",\"#D62728\",\"#9467BD\",\"#9467BD\",\"#9467BD\",\"blue\",\"#9467BD\",\"blue\",\"blue\",\"#D62728\",\"blue\",\"#9467BD\",\"#D62728\",\"blue\",\"blue\",\"#9467BD\",\"#9467BD\",\"blue\",\"#D62728\",\"#9467BD\",\"blue\",\"#D62728\",\"blue\",\"#9467BD\",\"#D62728\",\"#D62728\",\"blue\",\"#9467BD\",\"#9467BD\",\"#9467BD\",\"#D62728\",\"#9467BD\",\"#9467BD\",\"#9467BD\",\"#D62728\",\"#D62728\",\"#9467BD\",\"#9467BD\",\"#D62728\",\"blue\",\"#9467BD\",\"blue\",\"#9467BD\",\"blue\",\"blue\",\"#D62728\",\"#9467BD\",\"#D62728\",\"#9467BD\",\"blue\",\"#9467BD\",\"#D62728\",\"#9467BD\",\"#9467BD\",\"blue\",\"#9467BD\",\"blue\",\"blue\",\"#D62728\",\"#D62728\",\"blue\",\"#9467BD\",\"#9467BD\",\"#9467BD\",\"#D62728\",\"#9467BD\",\"#D62728\",\"#D62728\",\"#D62728\",\"#D62728\",\"#9467BD\",\"blue\",\"#D62728\",\"blue\",\"#D62728\",\"blue\",\"blue\",\"blue\",\"#9467BD\",\"#9467BD\",\"blue\",\"#9467BD\",\"#9467BD\",\"#9467BD\",\"#9467BD\",\"#D62728\",\"#D62728\",\"#D62728\",\"blue\",\"#9467BD\",\"#D62728\",\"#9467BD\",\"blue\",\"blue\",\"#9467BD\",\"#9467BD\",\"blue\",\"blue\",\"#D62728\",\"#9467BD\",\"#D62728\",\"blue\",\"#9467BD\",\"#D62728\",\"#D62728\",\"blue\",\"#D62728\",\"#9467BD\",\"#D62728\",\"blue\",\"#D62728\",\"#D62728\",\"#D62728\",\"#9467BD\",\"#9467BD\",\"blue\",\"#9467BD\",\"#D62728\",\"#9467BD\",\"blue\",\"#9467BD\",\"#D62728\",\"blue\",\"#9467BD\",\"#D62728\",\"blue\",\"#D62728\",\"#9467BD\",\"#D62728\",\"#9467BD\",\"#D62728\",\"#9467BD\",\"#9467BD\",\"#D62728\",\"blue\",\"#D62728\",\"#D62728\",\"#9467BD\",\"#D62728\",\"#9467BD\",\"blue\",\"#D62728\",\"#D62728\",\"blue\",\"#D62728\",\"#9467BD\",\"#9467BD\",\"blue\",\"#D62728\",\"blue\",\"blue\",\"#9467BD\",\"#9467BD\",\"blue\",\"#9467BD\",\"blue\",\"#9467BD\",\"#9467BD\",\"#D62728\",\"#9467BD\",\"#9467BD\",\"#D62728\",\"#9467BD\",\"blue\",\"#D62728\",\"#D62728\",\"blue\",\"#D62728\",\"blue\",\"#D62728\",\"#9467BD\",\"#9467BD\",\"#9467BD\",\"blue\",\"#D62728\",\"#D62728\",\"#9467BD\",\"blue\",\"#D62728\",\"blue\",\"#9467BD\",\"blue\",\"#D62728\",\"#D62728\",\"#9467BD\",\"#D62728\",\"#D62728\",\"#9467BD\",\"#9467BD\",\"#D62728\",\"#9467BD\",\"blue\",\"#D62728\",\"blue\",\"#D62728\",\"#D62728\",\"blue\",\"blue\",\"#D62728\",\"blue\",\"blue\",\"#9467BD\",\"blue\",\"#D62728\",\"#9467BD\",\"blue\",\"#D62728\",\"#D62728\",\"#D62728\",\"blue\",\"blue\",\"blue\",\"blue\",\"blue\",\"blue\",\"blue\",\"#D62728\",\"blue\",\"#D62728\",\"#D62728\",\"#D62728\",\"#D62728\",\"blue\",\"#9467BD\",\"#9467BD\",\"blue\",\"blue\",\"#D62728\",\"blue\",\"#D62728\",\"#D62728\",\"#D62728\",\"#9467BD\",\"blue\",\"#D62728\",\"blue\",\"#9467BD\",\"#9467BD\",\"#9467BD\",\"#9467BD\",\"#D62728\",\"#D62728\",\"#D62728\",\"#9467BD\",\"#9467BD\",\"blue\",\"#9467BD\",\"#9467BD\",\"#9467BD\",\"#9467BD\",\"#9467BD\",\"#9467BD\",\"#D62728\",\"#9467BD\",\"#9467BD\",\"#9467BD\",\"#9467BD\",\"#D62728\",\"#9467BD\",\"blue\",\"blue\",\"#D62728\",\"#9467BD\",\"#D62728\",\"#9467BD\",\"#D62728\",\"#9467BD\",\"#9467BD\",\"blue\",\"#9467BD\",\"#9467BD\",\"#D62728\",\"#D62728\",\"blue\",\"#D62728\",\"#9467BD\",\"blue\",\"#9467BD\",\"blue\",\"#D62728\",\"#D62728\",\"#9467BD\",\"#9467BD\",\"#9467BD\",\"blue\",\"blue\",\"#D62728\",\"#D62728\",\"blue\",\"#D62728\",\"#9467BD\",\"blue\",\"blue\",\"#9467BD\",\"#D62728\",\"#9467BD\",\"#9467BD\",\"#9467BD\",\"#9467BD\",\"#9467BD\",\"blue\",\"#9467BD\",\"#D62728\",\"blue\",\"#9467BD\",\"#9467BD\",\"blue\",\"#9467BD\",\"#D62728\",\"#9467BD\",\"#9467BD\",\"blue\",\"blue\",\"blue\",\"#9467BD\",\"#D62728\",\"#D62728\",\"#9467BD\",\"#9467BD\",\"#D62728\",\"blue\",\"#9467BD\",\"#D62728\",\"#9467BD\",\"blue\",\"#D62728\",\"#9467BD\",\"#D62728\",\"#D62728\",\"#9467BD\",\"#9467BD\",\"blue\",\"#D62728\",\"#D62728\",\"blue\",\"blue\",\"blue\",\"#D62728\",\"#9467BD\",\"#D62728\",\"#9467BD\",\"#9467BD\",\"#D62728\",\"#9467BD\",\"#D62728\",\"#9467BD\",\"#D62728\",\"blue\",\"#D62728\",\"#9467BD\",\"#9467BD\",\"#9467BD\",\"blue\",\"#9467BD\",\"blue\",\"#D62728\",\"blue\",\"blue\",\"blue\",\"#D62728\",\"#D62728\",\"#9467BD\",\"blue\",\"#D62728\",\"#D62728\",\"blue\",\"#9467BD\",\"#D62728\",\"#D62728\",\"blue\",\"#9467BD\",\"#D62728\",\"blue\",\"#9467BD\",\"#9467BD\",\"#D62728\",\"#9467BD\",\"blue\",\"#D62728\",\"#9467BD\",\"#D62728\",\"#D62728\",\"#9467BD\",\"#D62728\",\"blue\",\"#9467BD\",\"blue\",\"#9467BD\",\"#D62728\",\"blue\",\"#9467BD\",\"#9467BD\",\"blue\",\"#D62728\",\"blue\",\"#D62728\",\"#D62728\",\"#D62728\",\"#9467BD\",\"#9467BD\",\"blue\",\"#9467BD\",\"blue\",\"#D62728\",\"#9467BD\",\"#9467BD\",\"#9467BD\",\"blue\",\"blue\",\"blue\",\"blue\",\"#9467BD\",\"blue\",\"blue\",\"blue\",\"blue\",\"#D62728\",\"#9467BD\",\"blue\",\"#D62728\",\"#9467BD\",\"#9467BD\",\"blue\",\"blue\",\"#9467BD\",\"blue\",\"blue\",\"#9467BD\",\"#9467BD\",\"#9467BD\",\"#D62728\",\"#D62728\",\"#9467BD\",\"blue\",\"blue\",\"#9467BD\",\"#D62728\",\"blue\",\"#D62728\",\"#D62728\",\"#9467BD\",\"#D62728\",\"blue\",\"blue\",\"#D62728\",\"#9467BD\",\"#D62728\",\"#D62728\",\"#9467BD\",\"#9467BD\",\"#9467BD\",\"blue\",\"blue\",\"#9467BD\",\"#D62728\",\"#9467BD\",\"#D62728\",\"#D62728\",\"blue\",\"#D62728\",\"#D62728\",\"blue\",\"blue\",\"blue\",\"blue\",\"#D62728\",\"blue\",\"#9467BD\",\"#9467BD\",\"#9467BD\",\"blue\",\"blue\",\"#9467BD\",\"#D62728\",\"blue\",\"#9467BD\",\"#9467BD\",\"#9467BD\",\"#D62728\",\"#9467BD\",\"blue\",\"#D62728\",\"blue\",\"#D62728\",\"blue\",\"#9467BD\",\"#D62728\",\"#D62728\",\"#D62728\",\"#9467BD\",\"#D62728\",\"#9467BD\",\"blue\",\"blue\",\"#D62728\",\"blue\",\"#9467BD\",\"#9467BD\",\"blue\",\"#9467BD\",\"blue\",\"#D62728\",\"blue\",\"#D62728\",\"#9467BD\",\"#9467BD\",\"#9467BD\",\"#9467BD\",\"#D62728\",\"blue\",\"blue\",\"#D62728\",\"blue\",\"#D62728\",\"blue\",\"blue\",\"#D62728\",\"#D62728\",\"blue\",\"blue\",\"#D62728\",\"#D62728\",\"blue\",\"#9467BD\",\"blue\",\"#9467BD\",\"#9467BD\",\"#9467BD\",\"blue\",\"#9467BD\",\"#9467BD\",\"#D62728\",\"#9467BD\",\"#9467BD\",\"#D62728\",\"#9467BD\",\"blue\",\"#D62728\",\"#9467BD\",\"#9467BD\",\"#D62728\",\"#9467BD\",\"#9467BD\",\"#D62728\",\"#D62728\",\"blue\",\"#D62728\",\"#9467BD\",\"blue\",\"#D62728\",\"blue\",\"#D62728\",\"#9467BD\",\"blue\",\"blue\",\"#D62728\",\"#9467BD\",\"#D62728\",\"#9467BD\",\"blue\",\"blue\",\"#9467BD\",\"#9467BD\",\"blue\",\"blue\",\"#D62728\",\"#D62728\",\"#9467BD\",\"#D62728\",\"blue\",\"#9467BD\",\"blue\",\"#9467BD\",\"#9467BD\",\"#D62728\",\"#D62728\",\"#D62728\",\"blue\",\"#D62728\",\"#D62728\",\"#9467BD\",\"blue\",\"#D62728\",\"blue\",\"blue\",\"#D62728\",\"#9467BD\",\"#9467BD\",\"blue\",\"#9467BD\",\"blue\",\"#9467BD\",\"#9467BD\",\"#9467BD\",\"#D62728\",\"blue\",\"#9467BD\",\"blue\",\"#9467BD\",\"#9467BD\",\"blue\",\"#9467BD\",\"#9467BD\",\"#9467BD\",\"#D62728\",\"#D62728\",\"#D62728\",\"#9467BD\",\"blue\",\"blue\",\"#9467BD\",\"#D62728\",\"#9467BD\",\"blue\",\"#D62728\",\"#9467BD\",\"#9467BD\",\"#D62728\",\"#D62728\",\"#9467BD\",\"#9467BD\",\"blue\",\"#D62728\",\"#9467BD\",\"#9467BD\",\"#D62728\",\"blue\",\"#9467BD\",\"#9467BD\",\"#9467BD\",\"#D62728\",\"#9467BD\",\"#D62728\",\"#9467BD\",\"blue\",\"#9467BD\",\"#9467BD\",\"#9467BD\",\"#9467BD\",\"#D62728\",\"#D62728\",\"#D62728\",\"blue\",\"blue\",\"#9467BD\",\"#9467BD\",\"#9467BD\",\"blue\",\"#D62728\",\"#D62728\",\"#D62728\",\"blue\",\"#9467BD\",\"blue\",\"#D62728\",\"blue\",\"#D62728\",\"blue\",\"#9467BD\",\"#D62728\",\"#9467BD\",\"#9467BD\",\"blue\",\"#9467BD\",\"#D62728\",\"blue\",\"#9467BD\",\"blue\",\"#9467BD\",\"#D62728\",\"blue\",\"blue\",\"#9467BD\",\"#9467BD\",\"blue\",\"#9467BD\",\"blue\",\"blue\",\"#D62728\",\"#9467BD\",\"#9467BD\",\"#9467BD\",\"blue\",\"#9467BD\",\"#D62728\",\"#9467BD\",\"#D62728\",\"blue\",\"#9467BD\",\"#D62728\",\"blue\",\"blue\",\"blue\",\"blue\",\"blue\",\"#9467BD\",\"#9467BD\",\"#D62728\",\"#D62728\",\"blue\",\"#D62728\",\"blue\",\"#9467BD\",\"#9467BD\",\"#D62728\",\"#9467BD\",\"blue\",\"#D62728\",\"#9467BD\",\"#D62728\",\"#9467BD\",\"#D62728\",\"blue\",\"#9467BD\",\"#9467BD\",\"#9467BD\",\"blue\",\"#9467BD\",\"#9467BD\",\"#9467BD\",\"#D62728\",\"#9467BD\",\"#9467BD\",\"#D62728\",\"#9467BD\",\"#D62728\",\"#9467BD\",\"#D62728\",\"#D62728\",\"#9467BD\",\"blue\",\"#9467BD\",\"#9467BD\",\"blue\",\"blue\",\"blue\",\"blue\",\"blue\",\"blue\",\"#D62728\",\"#9467BD\",\"#9467BD\",\"blue\",\"#9467BD\",\"#9467BD\",\"blue\",\"#9467BD\",\"#D62728\",\"blue\",\"#9467BD\",\"#9467BD\",\"#9467BD\",\"#9467BD\",\"#D62728\",\"blue\",\"blue\",\"#9467BD\",\"#9467BD\",\"#D62728\",\"#9467BD\",\"#D62728\",\"#9467BD\",\"#D62728\",\"#D62728\",\"#9467BD\",\"#9467BD\",\"#9467BD\",\"#9467BD\",\"#9467BD\",\"blue\",\"#D62728\",\"#D62728\",\"#9467BD\",\"#9467BD\",\"#9467BD\",\"#D62728\",\"#9467BD\",\"#D62728\",\"#9467BD\",\"#9467BD\",\"#9467BD\",\"#9467BD\",\"#9467BD\",\"#D62728\",\"#D62728\",\"#9467BD\",\"blue\",\"#9467BD\",\"#9467BD\",\"#9467BD\",\"#9467BD\",\"blue\",\"#9467BD\",\"#9467BD\",\"#D62728\",\"#D62728\",\"blue\",\"#D62728\",\"#9467BD\"]},\"name\":\"\",\"showlegend\":true,\"values\":[51.77,53.74,50.1,47.82,54.23,22.65,33.34,17.93,22.6,52.15,13.99,20.66,17.46,52.29,35.02,57.25,23.88,37.59,51.33,45.17,12.84,37.32,30.52,25.27,34.53,54.64,22.5,53.13,40.3,44.18,17.66,31.05,23.82,36.89,15.94,33.29,18.02,19.63,52.22,33.63,57.31,26.41,47.61,23.11,45.07,31.77,50.27,14.27,44.18,18.78,25.52,16.28,31.12,19.49,17.27,19.09,56.13,56.41,56.5,45.22,38.16,54.11,42.96,23.89,16.77,20.59,37.13,56.06,58.11,49.05,40.76,19.73,32.24,41.83,39.58,39.25,25.02,51.04,19.83,50.4,13.61,13.34,18.97,36.28,10.16,15.44,48.41,46.35,14.07,14.86,33.37,56.4,14.02,46.91,45.61,19.92,40.11,53.9,35.67,22.0,57.36,29.17,54.63,46.03,33.97,22.11,29.69,15.97,21.96,54.35,37.97,51.99,43.29,36.72,17.08,29.14,28.81,49.46,37.92,28.09,30.81,42.95,56.76,16.64,55.53,28.13,52.37,54.0,21.87,43.3,21.04,41.6,35.07,59.64,52.72,58.08,24.12,42.15,12.61,17.44,33.14,27.37,51.36,36.0,10.65,43.54,38.21,37.34,44.1,43.29,55.85,37.6,10.97,41.82,36.95,44.28,55.02,17.24,23.15,41.25,32.0,38.49,33.34,10.93,27.55,55.99,16.24,26.12,12.23,23.99,29.06,20.27,43.55,36.94,20.47,41.06,14.19,38.28,41.05,30.25,28.26,10.76,16.85,13.47,48.56,19.15,57.36,42.98,22.16,49.43,29.99,21.36,29.0,53.53,41.62,54.59,34.95,37.72,35.61,42.16,19.19,19.43,49.46,37.8,30.8,27.43,11.11,36.5,15.38,15.48,46.82,18.46,36.58,50.54,12.51,24.7,43.61,37.34,14.36,52.65,38.2,19.6,53.9,12.96,37.1,46.31,45.95,22.08,25.38,27.12,43.04,56.8,25.91,32.61,27.88,52.67,46.02,44.48,37.4,54.04,16.88,28.08,10.4,44.07,23.4,17.43,54.21,40.67,52.26,28.77,13.82,25.85,48.78,35.35,44.73,15.77,39.24,13.92,10.69,45.21,45.58,11.89,26.41,39.5,44.74,52.79,35.43,55.84,48.87,46.78,47.82,25.48,23.57,50.89,10.56,52.15,18.28,11.83,21.95,38.39,41.56,24.48,40.36,28.9,37.61,38.85,53.95,49.83,51.51,18.03,29.14,46.91,26.79,16.28,19.55,29.65,25.98,10.6,14.75,47.02,28.82,58.79,10.23,30.03,45.84,49.05,15.06,46.47,27.09,57.62,14.39,51.75,54.07,55.35,40.12,37.51,11.21,36.58,47.72,25.01,22.13,44.14,56.02,11.23,43.28,47.27,20.29,50.83,31.85,46.23,37.8,49.32,32.01,28.01,50.62,17.03,48.8,58.14,34.2,51.48,29.87,10.9,56.37,48.35,16.73,56.48,40.79,39.72,14.58,55.51,21.8,13.33,38.73,37.86,11.53,27.06,13.86,37.55,32.3,46.29,26.2,33.26,59.15,39.43,14.44,56.54,59.9,11.88,48.05,21.21,49.67,43.14,36.97,26.8,15.71,54.65,54.36,35.28,20.55,58.32,11.84,41.46,20.1,56.86,56.51,40.83,48.64,59.48,39.01,38.77,48.39,27.26,11.68,59.45,21.0,53.98,48.74,21.15,13.71,47.67,13.34,16.89,27.18,17.28,45.14,40.85,20.46,56.27,48.49,51.34,16.34,20.5,21.59,21.36,20.88,19.53,14.75,48.48,24.57,49.71,48.27,58.05,58.87,11.82,28.03,44.05,12.34,16.68,55.91,24.57,52.98,54.4,54.81,25.08,10.41,47.44,20.91,33.95,43.68,33.23,35.92,48.63,56.63,50.49,35.79,34.06,17.76,39.36,36.94,43.62,43.02,28.45,41.39,51.15,35.88,36.91,28.93,38.89,58.33,39.67,14.1,21.82,54.21,31.19,53.64,36.39,58.54,29.48,25.06,12.55,29.04,40.72,45.05,47.13,20.22,56.48,44.21,21.96,40.45,10.29,52.86,55.65,43.64,28.41,37.51,11.45,19.22,56.91,55.06,13.2,53.63,44.48,12.08,22.14,25.37,46.33,37.33,25.55,34.72,35.96,41.14,10.01,36.05,49.03,16.24,39.55,35.67,16.62,42.78,52.3,32.34,33.17,20.12,20.9,20.9,40.2,52.87,51.74,34.41,32.38,50.35,11.38,43.58,49.67,28.77,13.22,51.17,39.61,57.43,46.01,28.25,37.05,19.57,45.13,46.64,12.16,20.89,17.97,52.6,25.77,48.19,29.93,44.34,52.4,44.81,57.84,39.67,55.02,24.8,59.45,31.58,43.27,37.34,17.8,30.54,18.77,46.85,15.79,10.27,15.42,59.92,50.96,30.6,19.27,46.58,48.51,19.02,38.38,49.98,46.49,18.32,42.14,56.59,20.96,40.32,36.39,58.55,39.61,21.3,56.88,32.97,47.31,48.67,41.73,53.68,14.64,38.4,15.08,30.57,57.74,11.05,28.58,42.91,24.73,55.91,13.76,45.56,47.22,56.0,44.58,34.5,11.33,38.77,11.83,45.51,41.81,25.15,34.22,16.23,11.48,23.37,16.28,31.63,24.91,22.54,23.63,13.12,59.98,31.49,15.52,48.13,38.13,36.55,23.32,16.33,32.42,16.96,22.37,42.27,38.7,35.63,58.0,52.41,32.35,20.75,17.49,34.13,58.81,10.0,51.22,58.59,31.3,46.42,17.21,10.79,52.35,27.88,50.26,59.99,28.32,38.71,29.85,14.82,16.81,28.23,52.11,27.88,59.71,46.08,13.73,48.39,49.45,19.67,12.36,20.02,12.75,47.51,20.44,34.79,28.07,25.01,13.9,24.17,31.63,48.75,14.74,32.49,27.8,26.77,50.44,34.93,12.87,48.94,13.38,58.63,21.94,26.58,57.22,56.43,55.65,27.62,49.56,34.77,17.73,21.8,46.02,18.13,30.89,31.95,24.04,32.36,21.07,50.66,13.66,58.09,30.0,32.74,41.93,42.8,53.51,23.21,21.14,56.07,14.41,45.75,15.77,10.02,48.77,57.86,23.59,23.05,55.55,58.64,23.21,42.57,10.92,34.77,35.66,37.19,12.25,29.7,36.8,45.43,26.26,44.92,52.53,37.25,20.93,58.09,43.59,33.92,55.55,29.64,27.41,52.51,47.8,14.54,49.53,43.58,12.3,49.47,22.14,57.48,43.45,22.13,13.03,57.35,44.29,52.25,26.33,22.96,19.21,26.78,41.32,24.55,16.26,47.84,53.49,44.84,53.71,23.43,34.32,22.1,25.83,36.74,49.51,48.96,54.62,24.72,46.45,52.33,30.6,14.57,46.29,21.57,12.91,50.11,41.67,44.88,11.1,28.54,19.07,43.55,43.63,39.13,56.68,14.16,31.45,24.61,32.87,40.17,13.51,38.95,31.69,29.4,57.83,55.46,57.6,34.98,11.87,12.47,33.26,59.04,26.13,22.2,45.11,43.69,25.02,55.5,53.04,44.97,42.38,20.11,56.7,41.0,28.85,49.97,19.69,28.88,33.14,43.7,54.89,37.52,51.07,44.07,10.79,42.72,26.66,37.6,42.21,46.83,45.17,51.22,21.28,15.36,38.62,25.4,43.87,18.74,54.86,52.62,51.48,15.28,39.24,17.81,56.02,23.9,49.13,10.62,36.17,59.95,26.09,37.35,24.72,35.28,51.32,21.12,27.35,21.74,40.87,49.31,22.11,20.79,27.41,38.35,21.55,38.02,22.06,10.66,56.58,36.83,35.01,30.48,14.08,31.22,54.29,31.04,50.96,11.89,31.38,54.81,16.78,24.42,11.75,20.02,12.86,31.58,34.0,57.42,53.47,11.64,52.88,18.51,41.32,39.77,51.96,39.51,15.4,53.82,30.95,57.82,44.18,48.71,19.69,36.52,41.56,43.19,12.34,36.25,29.45,34.56,54.12,33.78,29.64,57.7,36.34,50.59,29.38,45.42,54.43,36.26,16.16,36.29,27.89,12.29,15.85,14.4,19.18,10.64,14.76,57.49,30.66,40.83,18.88,25.83,42.12,13.33,42.4,58.35,21.72,44.91,37.46,28.48,28.34,46.96,24.96,21.71,29.87,28.99,52.94,32.36,55.66,39.45,47.11,58.75,38.92,39.39,25.89,28.34,27.7,24.89,58.99,57.2,38.43,34.74,40.44,45.24,34.96,56.76,40.28,38.0,28.8,39.24,32.93,51.32,47.09,28.42,22.85,41.24,39.07,29.82,37.26,20.3,34.65,43.38,55.53,57.06,16.97,53.98,26.08],\"type\":\"pie\"}],                        {\"template\":{\"data\":{\"pie\":[{\"automargin\":true,\"type\":\"pie\"}],\"scatter3d\":[{\"line\":{\"width\":3},\"marker\":{\"size\":9},\"type\":\"scatter3d\"}],\"scattergeo\":[{\"line\":{\"width\":3},\"marker\":{\"size\":9},\"type\":\"scattergeo\"}],\"scattergl\":[{\"line\":{\"width\":3},\"marker\":{\"size\":9},\"type\":\"scattergl\"}],\"scatterpolargl\":[{\"line\":{\"width\":3},\"marker\":{\"size\":9},\"type\":\"scatterpolargl\"}],\"scatterpolar\":[{\"line\":{\"width\":3},\"marker\":{\"size\":9},\"type\":\"scatterpolar\"}],\"scatter\":[{\"line\":{\"width\":3},\"marker\":{\"size\":9},\"type\":\"scatter\"}],\"scatterternary\":[{\"line\":{\"width\":3},\"marker\":{\"size\":9},\"type\":\"scatterternary\"}],\"table\":[{\"cells\":{\"height\":30},\"header\":{\"height\":36},\"type\":\"table\"}]},\"layout\":{\"font\":{\"size\":18},\"xaxis\":{\"title\":{\"standoff\":15}},\"yaxis\":{\"title\":{\"standoff\":15}}}},\"legend\":{\"tracegroupgap\":0},\"title\":{\"text\":\"Classifica\\u00e7\\u00e3o dos livros por pre\\u00e7o\"},\"height\":400,\"width\":700},                        {\"responsive\": true}                    ).then(function(){\n",
       "                            \n",
       "var gd = document.getElementById('517da894-f399-48de-9d8b-8a1e736c2695');\n",
       "var x = new MutationObserver(function (mutations, observer) {{\n",
       "        var display = window.getComputedStyle(gd).display;\n",
       "        if (!display || display === 'none') {{\n",
       "            console.log([gd, 'removed!']);\n",
       "            Plotly.purge(gd);\n",
       "            observer.disconnect();\n",
       "        }}\n",
       "}});\n",
       "\n",
       "// Listen for the removal of the full notebook cells\n",
       "var notebookContainer = gd.closest('#notebook-container');\n",
       "if (notebookContainer) {{\n",
       "    x.observe(notebookContainer, {childList: true});\n",
       "}}\n",
       "\n",
       "// Listen for the clearing of the current output cell\n",
       "var outputEl = gd.closest('.output');\n",
       "if (outputEl) {{\n",
       "    x.observe(outputEl, {childList: true});\n",
       "}}\n",
       "\n",
       "                        })                };                });            </script>        </div>"
      ]
     },
     "metadata": {},
     "output_type": "display_data"
    }
   ],
   "source": [
    "# Gráfico 'Pie Chart'\n",
    "\n",
    "pie_chart = px.pie(\n",
    "    \n",
    "    data_frame = valores,\n",
    "    values = 'precos' ,     #valores que definiram a porcentagem do gráfico, de acordo com a faixa pertencente\n",
    "    names = 'faixas'     ,     #cada pedaço corresponde ao alerta criado\n",
    "    color = 'faixas'     ,     #cores serão definidas pelas coluna 'faixas'\n",
    "    \n",
    "    \n",
    "    #definindo o mapa de cores\n",
    "    color_discrete_map = {'Preços altos (45,00 - 59,99 £)':'red','Preços médios (25,00 - 44,99 £)':'purple','Preços baixos (10,00 - 24,99 £)':'blue'},\n",
    "    title = 'Classificação dos livros por preço', #título do gráfico\n",
    "    \n",
    "    #ajuste de legenda\n",
    "    labels={'faixas':'Faixa','precos':'Preço total'},\n",
    "    template = 'presentation',                       #templates disponíveis\n",
    "    width = 700,                                     #largura em pixels\n",
    "    height = 400,                                    #altura em pixels\n",
    "    hole = 0.5                                       #espaço vazio(buraco) no meio do grafo\n",
    "    \n",
    ")\n",
    "\n",
    "pio.show(pie_chart)"
   ]
  },
  {
   "cell_type": "code",
   "execution_count": 131,
   "id": "62a6bee5",
   "metadata": {},
   "outputs": [
    {
     "data": {
      "text/html": [
       "<div>\n",
       "<style scoped>\n",
       "    .dataframe tbody tr th:only-of-type {\n",
       "        vertical-align: middle;\n",
       "    }\n",
       "\n",
       "    .dataframe tbody tr th {\n",
       "        vertical-align: top;\n",
       "    }\n",
       "\n",
       "    .dataframe thead th {\n",
       "        text-align: right;\n",
       "    }\n",
       "</style>\n",
       "<table border=\"1\" class=\"dataframe\">\n",
       "  <thead>\n",
       "    <tr style=\"text-align: right;\">\n",
       "      <th></th>\n",
       "      <th>categorias</th>\n",
       "      <th>avaliacoes</th>\n",
       "    </tr>\n",
       "  </thead>\n",
       "  <tbody>\n",
       "    <tr>\n",
       "      <th>0</th>\n",
       "      <td>Add a comment</td>\n",
       "      <td>4</td>\n",
       "    </tr>\n",
       "    <tr>\n",
       "      <th>1</th>\n",
       "      <td>Add a comment</td>\n",
       "      <td>4</td>\n",
       "    </tr>\n",
       "    <tr>\n",
       "      <th>2</th>\n",
       "      <td>Add a comment</td>\n",
       "      <td>4</td>\n",
       "    </tr>\n",
       "    <tr>\n",
       "      <th>3</th>\n",
       "      <td>Add a comment</td>\n",
       "      <td>4</td>\n",
       "    </tr>\n",
       "    <tr>\n",
       "      <th>4</th>\n",
       "      <td>Add a comment</td>\n",
       "      <td>5</td>\n",
       "    </tr>\n",
       "    <tr>\n",
       "      <th>...</th>\n",
       "      <td>...</td>\n",
       "      <td>...</td>\n",
       "    </tr>\n",
       "    <tr>\n",
       "      <th>370</th>\n",
       "      <td>Young Adult</td>\n",
       "      <td>4</td>\n",
       "    </tr>\n",
       "    <tr>\n",
       "      <th>371</th>\n",
       "      <td>Young Adult</td>\n",
       "      <td>4</td>\n",
       "    </tr>\n",
       "    <tr>\n",
       "      <th>372</th>\n",
       "      <td>Young Adult</td>\n",
       "      <td>4</td>\n",
       "    </tr>\n",
       "    <tr>\n",
       "      <th>373</th>\n",
       "      <td>Young Adult</td>\n",
       "      <td>4</td>\n",
       "    </tr>\n",
       "    <tr>\n",
       "      <th>374</th>\n",
       "      <td>Young Adult</td>\n",
       "      <td>4</td>\n",
       "    </tr>\n",
       "  </tbody>\n",
       "</table>\n",
       "<p>375 rows × 2 columns</p>\n",
       "</div>"
      ],
      "text/plain": [
       "        categorias  avaliacoes\n",
       "0    Add a comment           4\n",
       "1    Add a comment           4\n",
       "2    Add a comment           4\n",
       "3    Add a comment           4\n",
       "4    Add a comment           5\n",
       "..             ...         ...\n",
       "370    Young Adult           4\n",
       "371    Young Adult           4\n",
       "372    Young Adult           4\n",
       "373    Young Adult           4\n",
       "374    Young Adult           4\n",
       "\n",
       "[375 rows x 2 columns]"
      ]
     },
     "execution_count": 131,
     "metadata": {},
     "output_type": "execute_result"
    }
   ],
   "source": [
    "# Análise gráfica dentre os livros com (4 e 5 estrelas) quais categorias se destacam no Book Club\n",
    "    \n",
    "#Selecionando livros com avaliações de 4 e 5 estrelas\n",
    "df = dados.loc[dados['avaliacoes'] >= 4]\n",
    "df.drop(['titulos','estocagem','precos'], axis=1, inplace=True)#retira colunas desnecessárias ao gráfico \n",
    "\n",
    "\n",
    "\n",
    "df = df.sort_values(by = ['categorias']) #organiza o dataframe em ordem alfabética de categorias\n",
    "df.reset_index(drop = True) #organiza a coluna de indexação\n"
   ]
  },
  {
   "cell_type": "code",
   "execution_count": 128,
   "id": "76dd2f0e",
   "metadata": {},
   "outputs": [
    {
     "data": {
      "application/vnd.plotly.v1+json": {
       "config": {
        "plotlyServerURL": "https://plot.ly"
       },
       "data": [
        {
         "alignmentgroup": "True",
         "hovertemplate": "Categoria=%{x}<br>Estrelas=%{y}<br>color=%{marker.color}<extra></extra>",
         "legendgroup": "",
         "marker": {
          "color": [
           4,
           4,
           4,
           4,
           5,
           5,
           5,
           4,
           5,
           5,
           5,
           5,
           4,
           4,
           4,
           4,
           4,
           4,
           4,
           5,
           4,
           5,
           5,
           4,
           4,
           4,
           4,
           5,
           4,
           5,
           5,
           4,
           5,
           5,
           5,
           4,
           4,
           5,
           5,
           4,
           4,
           5,
           5,
           5,
           5,
           5,
           4,
           4,
           4,
           4,
           4,
           4,
           5,
           5,
           4,
           5,
           5,
           4,
           4,
           4,
           4,
           5,
           4,
           5,
           4,
           5,
           5,
           5,
           4,
           5,
           5,
           5,
           5,
           5,
           4,
           5,
           5,
           4,
           5,
           5,
           5,
           4,
           5,
           4,
           5,
           5,
           5,
           4,
           4,
           4,
           5,
           4,
           4,
           5,
           5,
           5,
           5,
           4,
           4,
           4,
           4,
           5,
           4,
           5,
           4,
           5,
           5,
           4,
           5,
           4,
           5,
           5,
           5,
           4,
           5,
           4,
           4,
           5,
           4,
           4,
           4,
           4,
           5,
           4,
           4,
           5,
           5,
           4,
           5,
           5,
           4,
           5,
           4,
           4,
           4,
           5,
           5,
           5,
           5,
           4,
           5,
           5,
           5,
           5,
           4,
           4,
           5,
           4,
           5,
           4,
           5,
           5,
           5,
           5,
           5,
           5,
           4,
           5,
           4,
           4,
           5,
           5,
           5,
           5,
           5,
           5,
           5,
           4,
           4,
           4,
           5,
           5,
           5,
           5,
           5,
           5,
           4,
           5,
           5,
           5,
           5,
           5,
           4,
           4,
           5,
           5,
           5,
           4,
           4,
           4,
           5,
           5,
           5,
           5,
           4,
           5,
           4,
           5,
           5,
           5,
           4,
           5,
           5,
           4,
           4,
           4,
           5,
           5,
           5,
           4,
           4,
           4,
           5,
           5,
           5,
           5,
           4,
           4,
           4,
           4,
           4,
           5,
           5,
           4,
           4,
           5,
           5,
           4,
           5,
           4,
           5,
           5,
           5,
           5,
           4,
           4,
           4,
           4,
           5,
           5,
           4,
           4,
           4,
           5,
           5,
           5,
           4,
           5,
           4,
           5,
           5,
           5,
           5,
           4,
           5,
           5,
           4,
           5,
           5,
           5,
           5,
           4,
           4,
           4,
           5,
           5,
           4,
           4,
           4,
           4,
           4,
           5,
           4,
           4,
           4,
           5,
           5,
           4,
           4,
           4,
           5,
           5,
           4,
           5,
           5,
           4,
           4,
           4,
           4,
           4,
           4,
           4,
           5,
           4,
           5,
           5,
           4,
           4,
           4,
           5,
           4,
           4,
           5,
           4,
           5,
           5,
           4,
           4,
           5,
           4,
           4,
           4,
           5,
           5,
           4,
           4,
           5,
           5,
           5,
           5,
           4,
           4,
           4,
           4,
           5,
           5,
           5,
           5,
           4,
           4,
           4,
           5,
           5,
           5,
           4,
           4,
           4,
           4,
           5,
           5,
           4,
           4,
           5,
           5,
           4,
           4,
           4,
           4,
           5,
           5,
           4,
           5,
           5,
           5,
           5,
           4,
           5,
           5,
           4,
           4,
           4,
           5,
           4,
           4,
           5,
           5,
           5,
           5,
           5,
           5,
           4,
           4,
           4,
           4,
           4
          ],
          "coloraxis": "coloraxis",
          "opacity": 0.9,
          "pattern": {
           "shape": ""
          }
         },
         "name": "",
         "offsetgroup": "",
         "orientation": "v",
         "showlegend": false,
         "textposition": "auto",
         "type": "bar",
         "x": [
          "Add a comment",
          "Add a comment",
          "Add a comment",
          "Add a comment",
          "Add a comment",
          "Add a comment",
          "Add a comment",
          "Add a comment",
          "Add a comment",
          "Add a comment",
          "Add a comment",
          "Add a comment",
          "Add a comment",
          "Add a comment",
          "Add a comment",
          "Add a comment",
          "Add a comment",
          "Add a comment",
          "Add a comment",
          "Add a comment",
          "Add a comment",
          "Adult Fiction",
          "Art",
          "Art",
          "Art",
          "Art",
          "Art",
          "Autobiography",
          "Autobiography",
          "Autobiography",
          "Autobiography",
          "Business",
          "Business",
          "Business",
          "Business",
          "Childrens",
          "Childrens",
          "Childrens",
          "Childrens",
          "Childrens",
          "Childrens",
          "Childrens",
          "Christian",
          "Christian Fiction",
          "Christian Fiction",
          "Christian Fiction",
          "Christian Fiction",
          "Christian Fiction",
          "Classics",
          "Classics",
          "Classics",
          "Classics",
          "Contemporary",
          "Default",
          "Default",
          "Default",
          "Default",
          "Default",
          "Default",
          "Default",
          "Default",
          "Default",
          "Default",
          "Default",
          "Default",
          "Default",
          "Default",
          "Default",
          "Default",
          "Default",
          "Default",
          "Default",
          "Default",
          "Default",
          "Default",
          "Default",
          "Default",
          "Default",
          "Default",
          "Default",
          "Default",
          "Default",
          "Default",
          "Default",
          "Default",
          "Default",
          "Default",
          "Default",
          "Default",
          "Default",
          "Default",
          "Default",
          "Default",
          "Default",
          "Default",
          "Default",
          "Default",
          "Default",
          "Default",
          "Default",
          "Default",
          "Default",
          "Default",
          "Default",
          "Default",
          "Erotica",
          "Fantasy",
          "Fantasy",
          "Fantasy",
          "Fantasy",
          "Fantasy",
          "Fantasy",
          "Fantasy",
          "Fantasy",
          "Fantasy",
          "Fantasy",
          "Fantasy",
          "Fantasy",
          "Fantasy",
          "Fantasy",
          "Fantasy",
          "Fantasy",
          "Fantasy",
          "Fantasy",
          "Fantasy",
          "Fantasy",
          "Fantasy",
          "Fiction",
          "Fiction",
          "Fiction",
          "Fiction",
          "Fiction",
          "Fiction",
          "Fiction",
          "Fiction",
          "Fiction",
          "Fiction",
          "Fiction",
          "Fiction",
          "Fiction",
          "Fiction",
          "Fiction",
          "Fiction",
          "Fiction",
          "Fiction",
          "Fiction",
          "Fiction",
          "Fiction",
          "Fiction",
          "Fiction",
          "Fiction",
          "Fiction",
          "Fiction",
          "Fiction",
          "Food and Drink",
          "Food and Drink",
          "Food and Drink",
          "Food and Drink",
          "Food and Drink",
          "Food and Drink",
          "Food and Drink",
          "Food and Drink",
          "Food and Drink",
          "Food and Drink",
          "Health",
          "Health",
          "Historical",
          "Historical Fiction",
          "Historical Fiction",
          "Historical Fiction",
          "Historical Fiction",
          "Historical Fiction",
          "Historical Fiction",
          "Historical Fiction",
          "Historical Fiction",
          "Historical Fiction",
          "Historical Fiction",
          "Historical Fiction",
          "Historical Fiction",
          "History",
          "History",
          "History",
          "History",
          "History",
          "History",
          "Horror",
          "Horror",
          "Horror",
          "Horror",
          "Horror",
          "Humor",
          "Humor",
          "Humor",
          "Humor",
          "Humor",
          "Music",
          "Music",
          "Music",
          "Music",
          "Music",
          "Mystery",
          "Mystery",
          "Mystery",
          "Mystery",
          "Mystery",
          "Mystery",
          "Mystery",
          "Mystery",
          "Mystery",
          "Mystery",
          "Mystery",
          "Mystery",
          "New Adult",
          "New Adult",
          "Nonfiction",
          "Nonfiction",
          "Nonfiction",
          "Nonfiction",
          "Nonfiction",
          "Nonfiction",
          "Nonfiction",
          "Nonfiction",
          "Nonfiction",
          "Nonfiction",
          "Nonfiction",
          "Nonfiction",
          "Nonfiction",
          "Nonfiction",
          "Nonfiction",
          "Nonfiction",
          "Nonfiction",
          "Nonfiction",
          "Nonfiction",
          "Nonfiction",
          "Nonfiction",
          "Nonfiction",
          "Nonfiction",
          "Nonfiction",
          "Nonfiction",
          "Nonfiction",
          "Nonfiction",
          "Nonfiction",
          "Nonfiction",
          "Nonfiction",
          "Nonfiction",
          "Nonfiction",
          "Nonfiction",
          "Nonfiction",
          "Nonfiction",
          "Nonfiction",
          "Nonfiction",
          "Nonfiction",
          "Novels",
          "Philosophy",
          "Philosophy",
          "Philosophy",
          "Philosophy",
          "Poetry",
          "Poetry",
          "Poetry",
          "Poetry",
          "Poetry",
          "Poetry",
          "Poetry",
          "Poetry",
          "Poetry",
          "Poetry",
          "Poetry",
          "Poetry",
          "Politics",
          "Religion",
          "Religion",
          "Religion",
          "Romance",
          "Romance",
          "Romance",
          "Romance",
          "Romance",
          "Romance",
          "Romance",
          "Romance",
          "Romance",
          "Science",
          "Science",
          "Science",
          "Science",
          "Science",
          "Science",
          "Science",
          "Science Fiction",
          "Science Fiction",
          "Science Fiction",
          "Science Fiction",
          "Science Fiction",
          "Self Help",
          "Sequential Art",
          "Sequential Art",
          "Sequential Art",
          "Sequential Art",
          "Sequential Art",
          "Sequential Art",
          "Sequential Art",
          "Sequential Art",
          "Sequential Art",
          "Sequential Art",
          "Sequential Art",
          "Sequential Art",
          "Sequential Art",
          "Sequential Art",
          "Sequential Art",
          "Sequential Art",
          "Sequential Art",
          "Sequential Art",
          "Sequential Art",
          "Sequential Art",
          "Sequential Art",
          "Sequential Art",
          "Sequential Art",
          "Sequential Art",
          "Sequential Art",
          "Sequential Art",
          "Sequential Art",
          "Sequential Art",
          "Sequential Art",
          "Spirituality",
          "Spirituality",
          "Spirituality",
          "Sports and Games",
          "Sports and Games",
          "Thriller",
          "Thriller",
          "Thriller",
          "Thriller",
          "Travel",
          "Travel",
          "Travel",
          "Womens Fiction",
          "Womens Fiction",
          "Womens Fiction",
          "Womens Fiction",
          "Womens Fiction",
          "Womens Fiction",
          "Womens Fiction",
          "Womens Fiction",
          "Womens Fiction",
          "Young Adult",
          "Young Adult",
          "Young Adult",
          "Young Adult",
          "Young Adult",
          "Young Adult",
          "Young Adult",
          "Young Adult",
          "Young Adult",
          "Young Adult",
          "Young Adult",
          "Young Adult",
          "Young Adult",
          "Young Adult",
          "Young Adult",
          "Young Adult",
          "Young Adult",
          "Young Adult",
          "Young Adult",
          "Young Adult",
          "Young Adult",
          "Young Adult",
          "Young Adult",
          "Young Adult",
          "Young Adult",
          "Young Adult",
          "Young Adult",
          "Young Adult",
          "Young Adult",
          "Young Adult"
         ],
         "xaxis": "x",
         "y": [
          4,
          4,
          4,
          4,
          5,
          5,
          5,
          4,
          5,
          5,
          5,
          5,
          4,
          4,
          4,
          4,
          4,
          4,
          4,
          5,
          4,
          5,
          5,
          4,
          4,
          4,
          4,
          5,
          4,
          5,
          5,
          4,
          5,
          5,
          5,
          4,
          4,
          5,
          5,
          4,
          4,
          5,
          5,
          5,
          5,
          5,
          4,
          4,
          4,
          4,
          4,
          4,
          5,
          5,
          4,
          5,
          5,
          4,
          4,
          4,
          4,
          5,
          4,
          5,
          4,
          5,
          5,
          5,
          4,
          5,
          5,
          5,
          5,
          5,
          4,
          5,
          5,
          4,
          5,
          5,
          5,
          4,
          5,
          4,
          5,
          5,
          5,
          4,
          4,
          4,
          5,
          4,
          4,
          5,
          5,
          5,
          5,
          4,
          4,
          4,
          4,
          5,
          4,
          5,
          4,
          5,
          5,
          4,
          5,
          4,
          5,
          5,
          5,
          4,
          5,
          4,
          4,
          5,
          4,
          4,
          4,
          4,
          5,
          4,
          4,
          5,
          5,
          4,
          5,
          5,
          4,
          5,
          4,
          4,
          4,
          5,
          5,
          5,
          5,
          4,
          5,
          5,
          5,
          5,
          4,
          4,
          5,
          4,
          5,
          4,
          5,
          5,
          5,
          5,
          5,
          5,
          4,
          5,
          4,
          4,
          5,
          5,
          5,
          5,
          5,
          5,
          5,
          4,
          4,
          4,
          5,
          5,
          5,
          5,
          5,
          5,
          4,
          5,
          5,
          5,
          5,
          5,
          4,
          4,
          5,
          5,
          5,
          4,
          4,
          4,
          5,
          5,
          5,
          5,
          4,
          5,
          4,
          5,
          5,
          5,
          4,
          5,
          5,
          4,
          4,
          4,
          5,
          5,
          5,
          4,
          4,
          4,
          5,
          5,
          5,
          5,
          4,
          4,
          4,
          4,
          4,
          5,
          5,
          4,
          4,
          5,
          5,
          4,
          5,
          4,
          5,
          5,
          5,
          5,
          4,
          4,
          4,
          4,
          5,
          5,
          4,
          4,
          4,
          5,
          5,
          5,
          4,
          5,
          4,
          5,
          5,
          5,
          5,
          4,
          5,
          5,
          4,
          5,
          5,
          5,
          5,
          4,
          4,
          4,
          5,
          5,
          4,
          4,
          4,
          4,
          4,
          5,
          4,
          4,
          4,
          5,
          5,
          4,
          4,
          4,
          5,
          5,
          4,
          5,
          5,
          4,
          4,
          4,
          4,
          4,
          4,
          4,
          5,
          4,
          5,
          5,
          4,
          4,
          4,
          5,
          4,
          4,
          5,
          4,
          5,
          5,
          4,
          4,
          5,
          4,
          4,
          4,
          5,
          5,
          4,
          4,
          5,
          5,
          5,
          5,
          4,
          4,
          4,
          4,
          5,
          5,
          5,
          5,
          4,
          4,
          4,
          5,
          5,
          5,
          4,
          4,
          4,
          4,
          5,
          5,
          4,
          4,
          5,
          5,
          4,
          4,
          4,
          4,
          5,
          5,
          4,
          5,
          5,
          5,
          5,
          4,
          5,
          5,
          4,
          4,
          4,
          5,
          4,
          4,
          5,
          5,
          5,
          5,
          5,
          5,
          4,
          4,
          4,
          4,
          4
         ],
         "yaxis": "y"
        }
       ],
       "layout": {
        "barmode": "relative",
        "coloraxis": {
         "colorbar": {
          "title": {
           "text": "color"
          }
         },
         "colorscale": [
          [
           0,
           "#440154"
          ],
          [
           0.1111111111111111,
           "#482878"
          ],
          [
           0.2222222222222222,
           "#3e4989"
          ],
          [
           0.3333333333333333,
           "#31688e"
          ],
          [
           0.4444444444444444,
           "#26828e"
          ],
          [
           0.5555555555555556,
           "#1f9e89"
          ],
          [
           0.6666666666666666,
           "#35b779"
          ],
          [
           0.7777777777777778,
           "#6ece58"
          ],
          [
           0.8888888888888888,
           "#b5de2b"
          ],
          [
           1,
           "#fde725"
          ]
         ]
        },
        "height": 720,
        "legend": {
         "tracegroupgap": 0
        },
        "template": {
         "data": {
          "pie": [
           {
            "automargin": true,
            "type": "pie"
           }
          ]
         },
         "layout": {
          "xaxis": {
           "showgrid": true,
           "title": {
            "standoff": 15
           }
          },
          "yaxis": {
           "showgrid": true,
           "title": {
            "standoff": 15
           }
          }
         }
        },
        "title": {
         "text": "Livros bem avaliados por categoria"
        },
        "width": 1000,
        "xaxis": {
         "anchor": "y",
         "domain": [
          0,
          1
         ],
         "title": {
          "text": "Categoria"
         }
        },
        "yaxis": {
         "anchor": "x",
         "domain": [
          0,
          1
         ],
         "title": {
          "text": "Estrelas"
         }
        }
       }
      },
      "text/html": [
       "<div>                            <div id=\"917c7189-3b12-4fdb-bc60-25c9317ad240\" class=\"plotly-graph-div\" style=\"height:720px; width:1000px;\"></div>            <script type=\"text/javascript\">                require([\"plotly\"], function(Plotly) {                    window.PLOTLYENV=window.PLOTLYENV || {};                                    if (document.getElementById(\"917c7189-3b12-4fdb-bc60-25c9317ad240\")) {                    Plotly.newPlot(                        \"917c7189-3b12-4fdb-bc60-25c9317ad240\",                        [{\"alignmentgroup\":\"True\",\"hovertemplate\":\"Categoria=%{x}<br>Estrelas=%{y}<br>color=%{marker.color}<extra></extra>\",\"legendgroup\":\"\",\"marker\":{\"color\":[4,4,4,4,5,5,5,4,5,5,5,5,4,4,4,4,4,4,4,5,4,5,5,4,4,4,4,5,4,5,5,4,5,5,5,4,4,5,5,4,4,5,5,5,5,5,4,4,4,4,4,4,5,5,4,5,5,4,4,4,4,5,4,5,4,5,5,5,4,5,5,5,5,5,4,5,5,4,5,5,5,4,5,4,5,5,5,4,4,4,5,4,4,5,5,5,5,4,4,4,4,5,4,5,4,5,5,4,5,4,5,5,5,4,5,4,4,5,4,4,4,4,5,4,4,5,5,4,5,5,4,5,4,4,4,5,5,5,5,4,5,5,5,5,4,4,5,4,5,4,5,5,5,5,5,5,4,5,4,4,5,5,5,5,5,5,5,4,4,4,5,5,5,5,5,5,4,5,5,5,5,5,4,4,5,5,5,4,4,4,5,5,5,5,4,5,4,5,5,5,4,5,5,4,4,4,5,5,5,4,4,4,5,5,5,5,4,4,4,4,4,5,5,4,4,5,5,4,5,4,5,5,5,5,4,4,4,4,5,5,4,4,4,5,5,5,4,5,4,5,5,5,5,4,5,5,4,5,5,5,5,4,4,4,5,5,4,4,4,4,4,5,4,4,4,5,5,4,4,4,5,5,4,5,5,4,4,4,4,4,4,4,5,4,5,5,4,4,4,5,4,4,5,4,5,5,4,4,5,4,4,4,5,5,4,4,5,5,5,5,4,4,4,4,5,5,5,5,4,4,4,5,5,5,4,4,4,4,5,5,4,4,5,5,4,4,4,4,5,5,4,5,5,5,5,4,5,5,4,4,4,5,4,4,5,5,5,5,5,5,4,4,4,4,4],\"coloraxis\":\"coloraxis\",\"opacity\":0.9,\"pattern\":{\"shape\":\"\"}},\"name\":\"\",\"offsetgroup\":\"\",\"orientation\":\"v\",\"showlegend\":false,\"textposition\":\"auto\",\"x\":[\"Add a comment\",\"Add a comment\",\"Add a comment\",\"Add a comment\",\"Add a comment\",\"Add a comment\",\"Add a comment\",\"Add a comment\",\"Add a comment\",\"Add a comment\",\"Add a comment\",\"Add a comment\",\"Add a comment\",\"Add a comment\",\"Add a comment\",\"Add a comment\",\"Add a comment\",\"Add a comment\",\"Add a comment\",\"Add a comment\",\"Add a comment\",\"Adult Fiction\",\"Art\",\"Art\",\"Art\",\"Art\",\"Art\",\"Autobiography\",\"Autobiography\",\"Autobiography\",\"Autobiography\",\"Business\",\"Business\",\"Business\",\"Business\",\"Childrens\",\"Childrens\",\"Childrens\",\"Childrens\",\"Childrens\",\"Childrens\",\"Childrens\",\"Christian\",\"Christian Fiction\",\"Christian Fiction\",\"Christian Fiction\",\"Christian Fiction\",\"Christian Fiction\",\"Classics\",\"Classics\",\"Classics\",\"Classics\",\"Contemporary\",\"Default\",\"Default\",\"Default\",\"Default\",\"Default\",\"Default\",\"Default\",\"Default\",\"Default\",\"Default\",\"Default\",\"Default\",\"Default\",\"Default\",\"Default\",\"Default\",\"Default\",\"Default\",\"Default\",\"Default\",\"Default\",\"Default\",\"Default\",\"Default\",\"Default\",\"Default\",\"Default\",\"Default\",\"Default\",\"Default\",\"Default\",\"Default\",\"Default\",\"Default\",\"Default\",\"Default\",\"Default\",\"Default\",\"Default\",\"Default\",\"Default\",\"Default\",\"Default\",\"Default\",\"Default\",\"Default\",\"Default\",\"Default\",\"Default\",\"Default\",\"Default\",\"Default\",\"Erotica\",\"Fantasy\",\"Fantasy\",\"Fantasy\",\"Fantasy\",\"Fantasy\",\"Fantasy\",\"Fantasy\",\"Fantasy\",\"Fantasy\",\"Fantasy\",\"Fantasy\",\"Fantasy\",\"Fantasy\",\"Fantasy\",\"Fantasy\",\"Fantasy\",\"Fantasy\",\"Fantasy\",\"Fantasy\",\"Fantasy\",\"Fantasy\",\"Fiction\",\"Fiction\",\"Fiction\",\"Fiction\",\"Fiction\",\"Fiction\",\"Fiction\",\"Fiction\",\"Fiction\",\"Fiction\",\"Fiction\",\"Fiction\",\"Fiction\",\"Fiction\",\"Fiction\",\"Fiction\",\"Fiction\",\"Fiction\",\"Fiction\",\"Fiction\",\"Fiction\",\"Fiction\",\"Fiction\",\"Fiction\",\"Fiction\",\"Fiction\",\"Fiction\",\"Food and Drink\",\"Food and Drink\",\"Food and Drink\",\"Food and Drink\",\"Food and Drink\",\"Food and Drink\",\"Food and Drink\",\"Food and Drink\",\"Food and Drink\",\"Food and Drink\",\"Health\",\"Health\",\"Historical\",\"Historical Fiction\",\"Historical Fiction\",\"Historical Fiction\",\"Historical Fiction\",\"Historical Fiction\",\"Historical Fiction\",\"Historical Fiction\",\"Historical Fiction\",\"Historical Fiction\",\"Historical Fiction\",\"Historical Fiction\",\"Historical Fiction\",\"History\",\"History\",\"History\",\"History\",\"History\",\"History\",\"Horror\",\"Horror\",\"Horror\",\"Horror\",\"Horror\",\"Humor\",\"Humor\",\"Humor\",\"Humor\",\"Humor\",\"Music\",\"Music\",\"Music\",\"Music\",\"Music\",\"Mystery\",\"Mystery\",\"Mystery\",\"Mystery\",\"Mystery\",\"Mystery\",\"Mystery\",\"Mystery\",\"Mystery\",\"Mystery\",\"Mystery\",\"Mystery\",\"New Adult\",\"New Adult\",\"Nonfiction\",\"Nonfiction\",\"Nonfiction\",\"Nonfiction\",\"Nonfiction\",\"Nonfiction\",\"Nonfiction\",\"Nonfiction\",\"Nonfiction\",\"Nonfiction\",\"Nonfiction\",\"Nonfiction\",\"Nonfiction\",\"Nonfiction\",\"Nonfiction\",\"Nonfiction\",\"Nonfiction\",\"Nonfiction\",\"Nonfiction\",\"Nonfiction\",\"Nonfiction\",\"Nonfiction\",\"Nonfiction\",\"Nonfiction\",\"Nonfiction\",\"Nonfiction\",\"Nonfiction\",\"Nonfiction\",\"Nonfiction\",\"Nonfiction\",\"Nonfiction\",\"Nonfiction\",\"Nonfiction\",\"Nonfiction\",\"Nonfiction\",\"Nonfiction\",\"Nonfiction\",\"Nonfiction\",\"Novels\",\"Philosophy\",\"Philosophy\",\"Philosophy\",\"Philosophy\",\"Poetry\",\"Poetry\",\"Poetry\",\"Poetry\",\"Poetry\",\"Poetry\",\"Poetry\",\"Poetry\",\"Poetry\",\"Poetry\",\"Poetry\",\"Poetry\",\"Politics\",\"Religion\",\"Religion\",\"Religion\",\"Romance\",\"Romance\",\"Romance\",\"Romance\",\"Romance\",\"Romance\",\"Romance\",\"Romance\",\"Romance\",\"Science\",\"Science\",\"Science\",\"Science\",\"Science\",\"Science\",\"Science\",\"Science Fiction\",\"Science Fiction\",\"Science Fiction\",\"Science Fiction\",\"Science Fiction\",\"Self Help\",\"Sequential Art\",\"Sequential Art\",\"Sequential Art\",\"Sequential Art\",\"Sequential Art\",\"Sequential Art\",\"Sequential Art\",\"Sequential Art\",\"Sequential Art\",\"Sequential Art\",\"Sequential Art\",\"Sequential Art\",\"Sequential Art\",\"Sequential Art\",\"Sequential Art\",\"Sequential Art\",\"Sequential Art\",\"Sequential Art\",\"Sequential Art\",\"Sequential Art\",\"Sequential Art\",\"Sequential Art\",\"Sequential Art\",\"Sequential Art\",\"Sequential Art\",\"Sequential Art\",\"Sequential Art\",\"Sequential Art\",\"Sequential Art\",\"Spirituality\",\"Spirituality\",\"Spirituality\",\"Sports and Games\",\"Sports and Games\",\"Thriller\",\"Thriller\",\"Thriller\",\"Thriller\",\"Travel\",\"Travel\",\"Travel\",\"Womens Fiction\",\"Womens Fiction\",\"Womens Fiction\",\"Womens Fiction\",\"Womens Fiction\",\"Womens Fiction\",\"Womens Fiction\",\"Womens Fiction\",\"Womens Fiction\",\"Young Adult\",\"Young Adult\",\"Young Adult\",\"Young Adult\",\"Young Adult\",\"Young Adult\",\"Young Adult\",\"Young Adult\",\"Young Adult\",\"Young Adult\",\"Young Adult\",\"Young Adult\",\"Young Adult\",\"Young Adult\",\"Young Adult\",\"Young Adult\",\"Young Adult\",\"Young Adult\",\"Young Adult\",\"Young Adult\",\"Young Adult\",\"Young Adult\",\"Young Adult\",\"Young Adult\",\"Young Adult\",\"Young Adult\",\"Young Adult\",\"Young Adult\",\"Young Adult\",\"Young Adult\"],\"xaxis\":\"x\",\"y\":[4,4,4,4,5,5,5,4,5,5,5,5,4,4,4,4,4,4,4,5,4,5,5,4,4,4,4,5,4,5,5,4,5,5,5,4,4,5,5,4,4,5,5,5,5,5,4,4,4,4,4,4,5,5,4,5,5,4,4,4,4,5,4,5,4,5,5,5,4,5,5,5,5,5,4,5,5,4,5,5,5,4,5,4,5,5,5,4,4,4,5,4,4,5,5,5,5,4,4,4,4,5,4,5,4,5,5,4,5,4,5,5,5,4,5,4,4,5,4,4,4,4,5,4,4,5,5,4,5,5,4,5,4,4,4,5,5,5,5,4,5,5,5,5,4,4,5,4,5,4,5,5,5,5,5,5,4,5,4,4,5,5,5,5,5,5,5,4,4,4,5,5,5,5,5,5,4,5,5,5,5,5,4,4,5,5,5,4,4,4,5,5,5,5,4,5,4,5,5,5,4,5,5,4,4,4,5,5,5,4,4,4,5,5,5,5,4,4,4,4,4,5,5,4,4,5,5,4,5,4,5,5,5,5,4,4,4,4,5,5,4,4,4,5,5,5,4,5,4,5,5,5,5,4,5,5,4,5,5,5,5,4,4,4,5,5,4,4,4,4,4,5,4,4,4,5,5,4,4,4,5,5,4,5,5,4,4,4,4,4,4,4,5,4,5,5,4,4,4,5,4,4,5,4,5,5,4,4,5,4,4,4,5,5,4,4,5,5,5,5,4,4,4,4,5,5,5,5,4,4,4,5,5,5,4,4,4,4,5,5,4,4,5,5,4,4,4,4,5,5,4,5,5,5,5,4,5,5,4,4,4,5,4,4,5,5,5,5,5,5,4,4,4,4,4],\"yaxis\":\"y\",\"type\":\"bar\"}],                        {\"template\":{\"data\":{\"pie\":[{\"automargin\":true,\"type\":\"pie\"}]},\"layout\":{\"xaxis\":{\"showgrid\":true,\"title\":{\"standoff\":15}},\"yaxis\":{\"showgrid\":true,\"title\":{\"standoff\":15}}}},\"xaxis\":{\"anchor\":\"y\",\"domain\":[0.0,1.0],\"title\":{\"text\":\"Categoria\"}},\"yaxis\":{\"anchor\":\"x\",\"domain\":[0.0,1.0],\"title\":{\"text\":\"Estrelas\"}},\"coloraxis\":{\"colorbar\":{\"title\":{\"text\":\"color\"}},\"colorscale\":[[0.0,\"#440154\"],[0.1111111111111111,\"#482878\"],[0.2222222222222222,\"#3e4989\"],[0.3333333333333333,\"#31688e\"],[0.4444444444444444,\"#26828e\"],[0.5555555555555556,\"#1f9e89\"],[0.6666666666666666,\"#35b779\"],[0.7777777777777778,\"#6ece58\"],[0.8888888888888888,\"#b5de2b\"],[1.0,\"#fde725\"]]},\"legend\":{\"tracegroupgap\":0},\"title\":{\"text\":\"Livros bem avaliados por categoria\"},\"barmode\":\"relative\",\"height\":720,\"width\":1000},                        {\"responsive\": true}                    ).then(function(){\n",
       "                            \n",
       "var gd = document.getElementById('917c7189-3b12-4fdb-bc60-25c9317ad240');\n",
       "var x = new MutationObserver(function (mutations, observer) {{\n",
       "        var display = window.getComputedStyle(gd).display;\n",
       "        if (!display || display === 'none') {{\n",
       "            console.log([gd, 'removed!']);\n",
       "            Plotly.purge(gd);\n",
       "            observer.disconnect();\n",
       "        }}\n",
       "}});\n",
       "\n",
       "// Listen for the removal of the full notebook cells\n",
       "var notebookContainer = gd.closest('#notebook-container');\n",
       "if (notebookContainer) {{\n",
       "    x.observe(notebookContainer, {childList: true});\n",
       "}}\n",
       "\n",
       "// Listen for the clearing of the current output cell\n",
       "var outputEl = gd.closest('.output');\n",
       "if (outputEl) {{\n",
       "    x.observe(outputEl, {childList: true});\n",
       "}}\n",
       "\n",
       "                        })                };                });            </script>        </div>"
      ]
     },
     "metadata": {},
     "output_type": "display_data"
    }
   ],
   "source": [
    "# Gráfico 'Bar Chart'\n",
    "bar_chart = px.bar (\n",
    "\n",
    "    x = df['categorias'],\n",
    "    y = df['avaliacoes'],\n",
    "    orientation='v',                                 # 'v','h': orientação\n",
    "    barmode='relative' , \n",
    "    color = df['avaliacoes'], \n",
    "    opacity=0.9,# map your chosen colors\n",
    "    title='Livros bem avaliados por categoria',       #título do gráfico\n",
    "    width=1000,                                       # largura in pixels\n",
    "    height=720,                                       # altura em pixels\n",
    "    template='gridon',                                #template \n",
    "    labels={\"x\": 'Categoria',  #ajuste de legenda\n",
    "    \"y\":\"Estrelas\"},\n",
    ")\n",
    "\n",
    "bar_chart.show()"
   ]
  },
  {
   "cell_type": "code",
   "execution_count": 141,
   "id": "8dc64385",
   "metadata": {},
   "outputs": [
    {
     "ename": "TypeError",
     "evalue": "'int' object is not callable",
     "output_type": "error",
     "traceback": [
      "\u001b[1;31m---------------------------------------------------------------------------\u001b[0m",
      "\u001b[1;31mTypeError\u001b[0m                                 Traceback (most recent call last)",
      "\u001b[1;32mC:\\Users\\LAISME~1\\AppData\\Local\\Temp/ipykernel_6572/137859086.py\u001b[0m in \u001b[0;36m<module>\u001b[1;34m\u001b[0m\n\u001b[0;32m     21\u001b[0m \u001b[1;33m\u001b[0m\u001b[0m\n\u001b[0;32m     22\u001b[0m \u001b[0mfiltro1\u001b[0m \u001b[1;33m=\u001b[0m \u001b[0mdados\u001b[0m\u001b[1;33m.\u001b[0m\u001b[0mloc\u001b[0m\u001b[1;33m[\u001b[0m\u001b[0mdados\u001b[0m\u001b[1;33m[\u001b[0m\u001b[1;34m'avaliacoes'\u001b[0m\u001b[1;33m]\u001b[0m \u001b[1;33m>\u001b[0m \u001b[1;36m1\u001b[0m\u001b[1;33m]\u001b[0m\u001b[1;33m\u001b[0m\u001b[1;33m\u001b[0m\u001b[0m\n\u001b[1;32m---> 23\u001b[1;33m \u001b[0mdisplay\u001b[0m\u001b[1;33m(\u001b[0m\u001b[0mfiltro1\u001b[0m\u001b[1;33m)\u001b[0m\u001b[1;33m\u001b[0m\u001b[1;33m\u001b[0m\u001b[0m\n\u001b[0m",
      "\u001b[1;31mTypeError\u001b[0m: 'int' object is not callable"
     ]
    }
   ],
   "source": [
    "#Sistema de recomendação por conteúdo (filtragem de notas)\n",
    "\n",
    "#Criando filtro para livros mal avaliados -  frequência obtida na quinta célula do notebook\n",
    "\n",
    "#1 estrela   -->   226 livros\n",
    "#2 estrelas  -->   196 livros\n",
    "#3 estrelas  -->   203 livros\n",
    "#4 estrelas  -->   179 livros\n",
    "#5 estrelas  -->   196 livros\n",
    "\n",
    "                   #total de 1000 livros\n",
    "# Para livros com '1 estrelas' --> (226/1000) * 100 = 22,6 % \n",
    "# Retira-se os livros com essa avaliação (filtro) do sistema de recomendação (ainda se tem 77,4% do total de livros)\n",
    "\n",
    "#df_mask = dados_livros['preco'] <= dados_livros['preco'].mean()\n",
    "#Dataframe somente com esses livros\n",
    "#filtro1 = dados_livros[df_mask]\n",
    "#display(filtro1)\n",
    "\n",
    "\n",
    "\n",
    "filtro1 = dados.loc[dados['avaliacoes'] > 1]\n",
    "display(filtro1)"
   ]
  },
  {
   "cell_type": "code",
   "execution_count": 33,
   "id": "13e02719",
   "metadata": {},
   "outputs": [
    {
     "data": {
      "text/html": [
       "<div>\n",
       "<style scoped>\n",
       "    .dataframe tbody tr th:only-of-type {\n",
       "        vertical-align: middle;\n",
       "    }\n",
       "\n",
       "    .dataframe tbody tr th {\n",
       "        vertical-align: top;\n",
       "    }\n",
       "\n",
       "    .dataframe thead th {\n",
       "        text-align: right;\n",
       "    }\n",
       "</style>\n",
       "<table border=\"1\" class=\"dataframe\">\n",
       "  <thead>\n",
       "    <tr style=\"text-align: right;\">\n",
       "      <th></th>\n",
       "      <th>categoria</th>\n",
       "      <th>titulo</th>\n",
       "      <th>preco</th>\n",
       "      <th>avaliacao</th>\n",
       "    </tr>\n",
       "  </thead>\n",
       "  <tbody>\n",
       "    <tr>\n",
       "      <th>0</th>\n",
       "      <td>Travel</td>\n",
       "      <td>1,000 Places to See ...</td>\n",
       "      <td>26.08</td>\n",
       "      <td>5</td>\n",
       "    </tr>\n",
       "    <tr>\n",
       "      <th>1</th>\n",
       "      <td>Mystery</td>\n",
       "      <td>Poisonous (Max Revere Novels ...</td>\n",
       "      <td>26.80</td>\n",
       "      <td>3</td>\n",
       "    </tr>\n",
       "    <tr>\n",
       "      <th>2</th>\n",
       "      <td>Mystery</td>\n",
       "      <td>Playing with Fire</td>\n",
       "      <td>13.71</td>\n",
       "      <td>3</td>\n",
       "    </tr>\n",
       "    <tr>\n",
       "      <th>3</th>\n",
       "      <td>Mystery</td>\n",
       "      <td>What Happened on Beale ...</td>\n",
       "      <td>25.37</td>\n",
       "      <td>5</td>\n",
       "    </tr>\n",
       "    <tr>\n",
       "      <th>4</th>\n",
       "      <td>Mystery</td>\n",
       "      <td>Delivering the Truth (Quaker ...</td>\n",
       "      <td>20.89</td>\n",
       "      <td>4</td>\n",
       "    </tr>\n",
       "    <tr>\n",
       "      <th>...</th>\n",
       "      <td>...</td>\n",
       "      <td>...</td>\n",
       "      <td>...</td>\n",
       "      <td>...</td>\n",
       "    </tr>\n",
       "    <tr>\n",
       "      <th>274</th>\n",
       "      <td>Spirituality</td>\n",
       "      <td>The Four Agreements: A ...</td>\n",
       "      <td>17.66</td>\n",
       "      <td>5</td>\n",
       "    </tr>\n",
       "    <tr>\n",
       "      <th>275</th>\n",
       "      <td>Spirituality</td>\n",
       "      <td>The Activist's Tao Te ...</td>\n",
       "      <td>32.24</td>\n",
       "      <td>5</td>\n",
       "    </tr>\n",
       "    <tr>\n",
       "      <th>276</th>\n",
       "      <td>Self Help</td>\n",
       "      <td>You Are a Badass: ...</td>\n",
       "      <td>12.08</td>\n",
       "      <td>3</td>\n",
       "    </tr>\n",
       "    <tr>\n",
       "      <th>277</th>\n",
       "      <td>Historical</td>\n",
       "      <td>All the Light We ...</td>\n",
       "      <td>29.87</td>\n",
       "      <td>5</td>\n",
       "    </tr>\n",
       "    <tr>\n",
       "      <th>278</th>\n",
       "      <td>Erotica</td>\n",
       "      <td>Dark Notes</td>\n",
       "      <td>19.19</td>\n",
       "      <td>5</td>\n",
       "    </tr>\n",
       "  </tbody>\n",
       "</table>\n",
       "<p>279 rows × 4 columns</p>\n",
       "</div>"
      ],
      "text/plain": [
       "        categoria                            titulo  preco avaliacao\n",
       "0          Travel           1,000 Places to See ...  26.08         5\n",
       "1         Mystery  Poisonous (Max Revere Novels ...  26.80         3\n",
       "2         Mystery                 Playing with Fire  13.71         3\n",
       "3         Mystery        What Happened on Beale ...  25.37         5\n",
       "4         Mystery  Delivering the Truth (Quaker ...  20.89         4\n",
       "..            ...                               ...    ...       ...\n",
       "274  Spirituality        The Four Agreements: A ...  17.66         5\n",
       "275  Spirituality         The Activist's Tao Te ...  32.24         5\n",
       "276     Self Help             You Are a Badass: ...  12.08         3\n",
       "277    Historical              All the Light We ...  29.87         5\n",
       "278       Erotica                        Dark Notes  19.19         5\n",
       "\n",
       "[279 rows x 4 columns]"
      ]
     },
     "execution_count": 33,
     "metadata": {},
     "output_type": "execute_result"
    }
   ],
   "source": [
    "recomendacao = pd.DataFrame(filtro2)\n",
    "recomendacao.reset_index(drop = True)\n"
   ]
  },
  {
   "cell_type": "code",
   "execution_count": 34,
   "id": "19300e8b",
   "metadata": {},
   "outputs": [
    {
     "name": "stdout",
     "output_type": "stream",
     "text": [
      "<class 'pandas.core.frame.DataFrame'>\n",
      "Int64Index: 279 entries, 10 to 998\n",
      "Data columns (total 4 columns):\n",
      " #   Column     Non-Null Count  Dtype  \n",
      "---  ------     --------------  -----  \n",
      " 0   categoria  279 non-null    object \n",
      " 1   titulo     279 non-null    object \n",
      " 2   preco      279 non-null    float64\n",
      " 3   avaliacao  279 non-null    object \n",
      "dtypes: float64(1), object(3)\n",
      "memory usage: 10.9+ KB\n"
     ]
    }
   ],
   "source": [
    "#Após a análise de dados, idealizando um sistema de recomendação de acordo com a categoria dos livros\n",
    "recomendacao.info()\n"
   ]
  },
  {
   "cell_type": "code",
   "execution_count": 42,
   "id": "108dc0b3",
   "metadata": {
    "scrolled": true
   },
   "outputs": [
    {
     "name": "stdout",
     "output_type": "stream",
     "text": [
      "     categoria                              titulo  preco avaliacao\n",
      "628          0   Shobu Samurai, Project Aryoku ...  29.06         3\n",
      "624          0  The Mindfulness and Acceptance ...  23.89         4\n",
      "626          0                 On a Midnight Clear  14.07         3\n",
      "629          0                      Modern Romance  28.26         5\n",
      "630          0            The White Queen (The ...  25.91         5\n",
      "..         ...                                 ...    ...       ...\n",
      "753         34      Frostbite (Vampire Academy #2)  29.99         5\n",
      "749         34             A Fierce and Subtle ...  28.13         4\n",
      "748         34                             Burning  28.81         3\n",
      "796         34                          The Haters  27.89         5\n",
      "794         34              New Moon (Twilight #2)  12.86         4\n",
      "\n",
      "[279 rows x 4 columns]\n"
     ]
    }
   ],
   "source": [
    "#Usando sklearn para predição e transformado a coluna 'categoria' em um dado numerado \n",
    "from sklearn.preprocessing import LabelEncoder\n",
    "\n",
    "# 'label_encoder' entende dados que são objetos em ordem alfábetica \n",
    "label_encoder = LabelEncoder()\n",
    "recomendacao['categoria'] = label_encoder.fit_transform(recomendacao['categoria'])\n",
    "\n",
    "recomendacao = recomendacao.sort_values(by=['categoria'])\n",
    "print(recomendacao)\n",
    "\n"
   ]
  },
  {
   "cell_type": "code",
   "execution_count": 43,
   "id": "b5286bee",
   "metadata": {},
   "outputs": [
    {
     "data": {
      "text/html": [
       "<div>\n",
       "<style scoped>\n",
       "    .dataframe tbody tr th:only-of-type {\n",
       "        vertical-align: middle;\n",
       "    }\n",
       "\n",
       "    .dataframe tbody tr th {\n",
       "        vertical-align: top;\n",
       "    }\n",
       "\n",
       "    .dataframe thead th {\n",
       "        text-align: right;\n",
       "    }\n",
       "</style>\n",
       "<table border=\"1\" class=\"dataframe\">\n",
       "  <thead>\n",
       "    <tr style=\"text-align: right;\">\n",
       "      <th>avaliacao</th>\n",
       "      <th>3</th>\n",
       "      <th>4</th>\n",
       "      <th>5</th>\n",
       "    </tr>\n",
       "    <tr>\n",
       "      <th>titulo</th>\n",
       "      <th></th>\n",
       "      <th></th>\n",
       "      <th></th>\n",
       "    </tr>\n",
       "  </thead>\n",
       "  <tbody>\n",
       "    <tr>\n",
       "      <th>#HigherSelfie: Wake Up Your ...</th>\n",
       "      <td>0.0</td>\n",
       "      <td>0.0</td>\n",
       "      <td>20.0</td>\n",
       "    </tr>\n",
       "    <tr>\n",
       "      <th>1,000 Places to See ...</th>\n",
       "      <td>0.0</td>\n",
       "      <td>0.0</td>\n",
       "      <td>32.0</td>\n",
       "    </tr>\n",
       "    <tr>\n",
       "      <th>1491: New Revelations of ...</th>\n",
       "      <td>15.0</td>\n",
       "      <td>0.0</td>\n",
       "      <td>0.0</td>\n",
       "    </tr>\n",
       "    <tr>\n",
       "      <th>A Clash of Kings ...</th>\n",
       "      <td>0.0</td>\n",
       "      <td>0.0</td>\n",
       "      <td>0.0</td>\n",
       "    </tr>\n",
       "    <tr>\n",
       "      <th>A Distant Mirror: The ...</th>\n",
       "      <td>15.0</td>\n",
       "      <td>0.0</td>\n",
       "      <td>0.0</td>\n",
       "    </tr>\n",
       "    <tr>\n",
       "      <th>...</th>\n",
       "      <td>...</td>\n",
       "      <td>...</td>\n",
       "      <td>...</td>\n",
       "    </tr>\n",
       "    <tr>\n",
       "      <th>Y: The Last Man, ...</th>\n",
       "      <td>0.0</td>\n",
       "      <td>29.0</td>\n",
       "      <td>0.0</td>\n",
       "    </tr>\n",
       "    <tr>\n",
       "      <th>You Are What You ...</th>\n",
       "      <td>0.0</td>\n",
       "      <td>24.0</td>\n",
       "      <td>0.0</td>\n",
       "    </tr>\n",
       "    <tr>\n",
       "      <th>You Are a Badass: ...</th>\n",
       "      <td>28.0</td>\n",
       "      <td>0.0</td>\n",
       "      <td>0.0</td>\n",
       "    </tr>\n",
       "    <tr>\n",
       "      <th>Zealot: The Life and ...</th>\n",
       "      <td>15.0</td>\n",
       "      <td>0.0</td>\n",
       "      <td>0.0</td>\n",
       "    </tr>\n",
       "    <tr>\n",
       "      <th>Zero to One: Notes ...</th>\n",
       "      <td>20.0</td>\n",
       "      <td>0.0</td>\n",
       "      <td>0.0</td>\n",
       "    </tr>\n",
       "  </tbody>\n",
       "</table>\n",
       "<p>277 rows × 3 columns</p>\n",
       "</div>"
      ],
      "text/plain": [
       "avaliacao                           3     4     5\n",
       "titulo                                           \n",
       "#HigherSelfie: Wake Up Your ...   0.0   0.0  20.0\n",
       "1,000 Places to See ...           0.0   0.0  32.0\n",
       "1491: New Revelations of ...     15.0   0.0   0.0\n",
       "A Clash of Kings ...              0.0   0.0   0.0\n",
       "A Distant Mirror: The ...        15.0   0.0   0.0\n",
       "...                               ...   ...   ...\n",
       "Y: The Last Man, ...              0.0  29.0   0.0\n",
       "You Are What You ...              0.0  24.0   0.0\n",
       "You Are a Badass: ...            28.0   0.0   0.0\n",
       "Zealot: The Life and ...         15.0   0.0   0.0\n",
       "Zero to One: Notes ...           20.0   0.0   0.0\n",
       "\n",
       "[277 rows x 3 columns]"
      ]
     },
     "metadata": {},
     "output_type": "display_data"
    }
   ],
   "source": [
    "#Transposição de linhas 'avaliacao' em coluna, 'categoria' é a variável escolhida para o modelo de máquina preditiva\n",
    "recomendacao_pivot = recomendacao.pivot_table(columns = 'avaliacao', index = 'titulo', values = 'categoria')\n",
    "\n",
    "#Retirando dados nulos\n",
    "recomendacao_pivot.fillna(0, inplace = True )\n",
    "display(recomendacao_pivot)\n"
   ]
  },
  {
   "cell_type": "code",
   "execution_count": 44,
   "id": "66f7381e",
   "metadata": {},
   "outputs": [
    {
     "data": {
      "text/plain": [
       "NearestNeighbors(algorithm='brute')"
      ]
     },
     "execution_count": 44,
     "metadata": {},
     "output_type": "execute_result"
    }
   ],
   "source": [
    "#Máquina preditiva \n",
    "from sklearn.neighbors import NearestNeighbors\n",
    "model = NearestNeighbors(algorithm='brute')\n",
    "model.fit(recomendacao_pivot)"
   ]
  },
  {
   "cell_type": "code",
   "execution_count": 49,
   "id": "cbdbfe6c",
   "metadata": {},
   "outputs": [],
   "source": [
    "#Testando a máquina preditiva\n",
    "#(#HigherSelfie: Wake Up Your ... ) título escolhido para teste, para isso altera-se [0,:]...\n",
    "\n",
    "distance, suggestions = model.kneighbors(recomendacao_pivot.iloc[0,:].values.reshape(1,-1))"
   ]
  },
  {
   "cell_type": "code",
   "execution_count": 50,
   "id": "5c37ece6",
   "metadata": {},
   "outputs": [
    {
     "name": "stdout",
     "output_type": "stream",
     "text": [
      "Index(['Gratitude', 'Agnostic: A Spirited Manifesto',\n",
      "       'Disrupted: My Misadventure in ...', '#HigherSelfie: Wake Up Your ...',\n",
      "       'Call the Nurse: True ...'],\n",
      "      dtype='object', name='titulo')\n"
     ]
    }
   ],
   "source": [
    "for i in range(len(suggestions)):\n",
    "    print(recomendacao_pivot.index[suggestions[i]])"
   ]
  }
 ],
 "metadata": {
  "kernelspec": {
   "display_name": "Python 3 (ipykernel)",
   "language": "python",
   "name": "python3"
  },
  "language_info": {
   "codemirror_mode": {
    "name": "ipython",
    "version": 3
   },
   "file_extension": ".py",
   "mimetype": "text/x-python",
   "name": "python",
   "nbconvert_exporter": "python",
   "pygments_lexer": "ipython3",
   "version": "3.9.7"
  }
 },
 "nbformat": 4,
 "nbformat_minor": 5
}
